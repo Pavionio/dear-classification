{
 "cells": [
  {
   "cell_type": "code",
   "execution_count": 1,
   "id": "b37edb55-f1fb-4b95-9446-a842da3b8780",
   "metadata": {
    "execution": {
     "iopub.execute_input": "2024-05-18T23:41:21.758811Z",
     "iopub.status.busy": "2024-05-18T23:41:21.757974Z",
     "iopub.status.idle": "2024-05-19T04:11:52.140968Z",
     "shell.execute_reply": "2024-05-19T04:11:52.139320Z",
     "shell.execute_reply.started": "2024-05-18T23:41:21.758707Z"
    },
    "tags": []
   },
   "outputs": [
    {
     "name": "stdout",
     "output_type": "stream",
     "text": [
      "New https://pypi.org/project/ultralytics/8.2.18 available 😃 Update with 'pip install -U ultralytics'\n",
      "Ultralytics YOLOv8.2.17 🚀 Python-3.10.12 torch-2.0.1+cu118 CUDA:0 (Tesla V100-PCIE-32GB, 32501MiB)\n",
      "\u001b[34m\u001b[1mengine/trainer: \u001b[0mtask=detect, mode=train, model=yolov8x.pt, data=/home/jupyter/datasphere/project/data2.yaml, epochs=100, time=None, patience=100, batch=32, imgsz=640, save=True, save_period=10, cache=False, device=0, workers=8, project=None, name=train8, exist_ok=False, pretrained=True, optimizer=auto, verbose=True, seed=0, deterministic=True, single_cls=False, rect=False, cos_lr=False, close_mosaic=10, resume=False, amp=True, fraction=1.0, profile=False, freeze=None, multi_scale=False, overlap_mask=True, mask_ratio=4, dropout=0.0, val=True, split=val, save_json=False, save_hybrid=False, conf=None, iou=0.7, max_det=300, half=False, dnn=False, plots=True, source=None, vid_stride=1, stream_buffer=False, visualize=False, augment=False, agnostic_nms=False, classes=None, retina_masks=False, embed=None, show=False, save_frames=False, save_txt=False, save_conf=False, save_crop=False, show_labels=True, show_conf=True, show_boxes=True, line_width=None, format=torchscript, keras=False, optimize=False, int8=False, dynamic=False, simplify=False, opset=None, workspace=4, nms=False, lr0=0.01, lrf=0.01, momentum=0.937, weight_decay=0.0005, warmup_epochs=3.0, warmup_momentum=0.8, warmup_bias_lr=0.1, box=7.5, cls=0.9, dfl=1.5, pose=12.0, kobj=1.0, label_smoothing=0.0, nbs=64, hsv_h=0.015, hsv_s=0.7, hsv_v=0.4, degrees=0.0, translate=0.1, scale=0.5, shear=0.0, perspective=0.0, flipud=0.0, fliplr=0.5, bgr=0.0, mosaic=1.0, mixup=0.0, copy_paste=0.0, auto_augment=randaugment, erasing=0.4, crop_fraction=1.0, cfg=None, tracker=botsort.yaml, save_dir=runs/detect/train8\n",
      "Overriding model.yaml nc=80 with nc=3\n",
      "\n",
      "                   from  n    params  module                                       arguments                     \n",
      "  0                  -1  1      2320  ultralytics.nn.modules.conv.Conv             [3, 80, 3, 2]                 \n",
      "  1                  -1  1    115520  ultralytics.nn.modules.conv.Conv             [80, 160, 3, 2]               \n",
      "  2                  -1  3    436800  ultralytics.nn.modules.block.C2f             [160, 160, 3, True]           \n",
      "  3                  -1  1    461440  ultralytics.nn.modules.conv.Conv             [160, 320, 3, 2]              \n",
      "  4                  -1  6   3281920  ultralytics.nn.modules.block.C2f             [320, 320, 6, True]           \n",
      "  5                  -1  1   1844480  ultralytics.nn.modules.conv.Conv             [320, 640, 3, 2]              \n",
      "  6                  -1  6  13117440  ultralytics.nn.modules.block.C2f             [640, 640, 6, True]           \n",
      "  7                  -1  1   3687680  ultralytics.nn.modules.conv.Conv             [640, 640, 3, 2]              \n",
      "  8                  -1  3   6969600  ultralytics.nn.modules.block.C2f             [640, 640, 3, True]           \n",
      "  9                  -1  1   1025920  ultralytics.nn.modules.block.SPPF            [640, 640, 5]                 \n",
      " 10                  -1  1         0  torch.nn.modules.upsampling.Upsample         [None, 2, 'nearest']          \n",
      " 11             [-1, 6]  1         0  ultralytics.nn.modules.conv.Concat           [1]                           \n",
      " 12                  -1  3   7379200  ultralytics.nn.modules.block.C2f             [1280, 640, 3]                \n",
      " 13                  -1  1         0  torch.nn.modules.upsampling.Upsample         [None, 2, 'nearest']          \n",
      " 14             [-1, 4]  1         0  ultralytics.nn.modules.conv.Concat           [1]                           \n",
      " 15                  -1  3   1948800  ultralytics.nn.modules.block.C2f             [960, 320, 3]                 \n",
      " 16                  -1  1    922240  ultralytics.nn.modules.conv.Conv             [320, 320, 3, 2]              \n",
      " 17            [-1, 12]  1         0  ultralytics.nn.modules.conv.Concat           [1]                           \n",
      " 18                  -1  3   7174400  ultralytics.nn.modules.block.C2f             [960, 640, 3]                 \n",
      " 19                  -1  1   3687680  ultralytics.nn.modules.conv.Conv             [640, 640, 3, 2]              \n",
      " 20             [-1, 9]  1         0  ultralytics.nn.modules.conv.Concat           [1]                           \n",
      " 21                  -1  3   7379200  ultralytics.nn.modules.block.C2f             [1280, 640, 3]                \n",
      " 22        [15, 18, 21]  1   8720857  ultralytics.nn.modules.head.Detect           [3, [320, 640, 640]]          \n",
      "Model summary: 365 layers, 68155497 parameters, 68155481 gradients, 258.1 GFLOPs\n",
      "\n",
      "Transferred 589/595 items from pretrained weights\n",
      "\u001b[34m\u001b[1mTensorBoard: \u001b[0mStart with 'tensorboard --logdir runs/detect/train8', view at http://localhost:6006/\n",
      "Freezing layer 'model.22.dfl.conv.weight'\n",
      "\u001b[34m\u001b[1mAMP: \u001b[0mrunning Automatic Mixed Precision (AMP) checks with YOLOv8n...\n",
      "\u001b[34m\u001b[1mAMP: \u001b[0mchecks passed ✅\n"
     ]
    },
    {
     "name": "stderr",
     "output_type": "stream",
     "text": [
      "\u001b[34m\u001b[1mtrain: \u001b[0mScanning /home/jupyter/work/resources/data_yolo/labels/train.cache... 5260 images, 0 backgrounds, 18 corrupt: 100%|██████████| 5261/5261 [00:00<?, ?it/s]"
     ]
    },
    {
     "name": "stdout",
     "output_type": "stream",
     "text": [
      "\u001b[34m\u001b[1mtrain: \u001b[0mWARNING ⚠️ /home/jupyter/work/resources/data_yolo/images/train/cabarga_1 IMG_0067.JPG: 1 duplicate labels removed\n",
      "\u001b[34m\u001b[1mtrain: \u001b[0mWARNING ⚠️ /home/jupyter/work/resources/data_yolo/images/train/cabarga_103-4070.jpg: 1 duplicate labels removed\n",
      "\u001b[34m\u001b[1mtrain: \u001b[0mWARNING ⚠️ /home/jupyter/work/resources/data_yolo/images/train/cabarga_135 IMG_0279.JPG: 1 duplicate labels removed\n",
      "\u001b[34m\u001b[1mtrain: \u001b[0mWARNING ⚠️ /home/jupyter/work/resources/data_yolo/images/train/cabarga_14 IMG_0083.JPG: 1 duplicate labels removed\n",
      "\u001b[34m\u001b[1mtrain: \u001b[0mWARNING ⚠️ /home/jupyter/work/resources/data_yolo/images/train/cabarga_15 IMG_0084.JPG: 1 duplicate labels removed\n",
      "\u001b[34m\u001b[1mtrain: \u001b[0mWARNING ⚠️ /home/jupyter/work/resources/data_yolo/images/train/cabarga_15 IMG_0135.JPG: 1 duplicate labels removed\n",
      "\u001b[34m\u001b[1mtrain: \u001b[0mWARNING ⚠️ /home/jupyter/work/resources/data_yolo/images/train/cabarga_1620839030_33-oir_mobi-p-kosulya-s-klikami-zhivotnie-krasivo-foto-34.jpg: 1 duplicate labels removed\n",
      "\u001b[34m\u001b[1mtrain: \u001b[0mWARNING ⚠️ /home/jupyter/work/resources/data_yolo/images/train/cabarga_1638229133_39-celes-club-p-vodyanoi-olen-zhivotnie-krasivo-foto-49.jpg: 1 duplicate labels removed\n",
      "\u001b[34m\u001b[1mtrain: \u001b[0mWARNING ⚠️ /home/jupyter/work/resources/data_yolo/images/train/cabarga_1638272522_26-celes-club-p-kitaiskii-vodyanoi-olen-zhivotnie-krasivo-30.jpg: 1 duplicate labels removed\n",
      "\u001b[34m\u001b[1mtrain: \u001b[0mWARNING ⚠️ /home/jupyter/work/resources/data_yolo/images/train/cabarga_1638373750_16-celes-club-p-olen-kabarga-zhivotnie-krasivo-foto-25.jpg: 1 duplicate labels removed\n",
      "\u001b[34m\u001b[1mtrain: \u001b[0mWARNING ⚠️ /home/jupyter/work/resources/data_yolo/images/train/cabarga_1658316049_11-klublady-ru-p-tatu-kabarga-foto-11 (1).jpg: 1 duplicate labels removed\n",
      "\u001b[34m\u001b[1mtrain: \u001b[0mWARNING ⚠️ /home/jupyter/work/resources/data_yolo/images/train/cabarga_1658316142_50-klublady-ru-p-tatu-kabarga-foto-54.jpg: 1 duplicate labels removed\n",
      "\u001b[34m\u001b[1mtrain: \u001b[0mWARNING ⚠️ /home/jupyter/work/resources/data_yolo/images/train/cabarga_1661938996_6-pofoto-club-p-vodyanoi-olen-10.jpg: 1 duplicate labels removed\n",
      "\u001b[34m\u001b[1mtrain: \u001b[0mWARNING ⚠️ /home/jupyter/work/resources/data_yolo/images/train/cabarga_1680710681_animals-pibig-info-p-kabarga-zhivotnoe-zhivotnie-vkontakte-30.jpg: 1 duplicate labels removed\n",
      "\u001b[34m\u001b[1mtrain: \u001b[0mWARNING ⚠️ /home/jupyter/work/resources/data_yolo/images/train/cabarga_1681228625_animals-pibig-info-p-olen-kabarga-zhivotnie-instagram-53.jpg: 1 duplicate labels removed\n",
      "\u001b[34m\u001b[1mtrain: \u001b[0mWARNING ⚠️ /home/jupyter/work/resources/data_yolo/images/train/cabarga_18.jpg: 1 duplicate labels removed\n",
      "\u001b[34m\u001b[1mtrain: \u001b[0mWARNING ⚠️ /home/jupyter/work/resources/data_yolo/images/train/cabarga_197c415cd168c0e4fa7b039e855f9979.jpg: 2 duplicate labels removed\n",
      "\u001b[34m\u001b[1mtrain: \u001b[0mWARNING ⚠️ /home/jupyter/work/resources/data_yolo/images/train/cabarga_2 IMG_0068.JPG: 1 duplicate labels removed\n",
      "\u001b[34m\u001b[1mtrain: \u001b[0mWARNING ⚠️ /home/jupyter/work/resources/data_yolo/images/train/cabarga_2-100-768x576.jpg: 1 duplicate labels removed\n",
      "\u001b[34m\u001b[1mtrain: \u001b[0mWARNING ⚠️ /home/jupyter/work/resources/data_yolo/images/train/cabarga_2-182.jpg: 1 duplicate labels removed\n",
      "\u001b[34m\u001b[1mtrain: \u001b[0mWARNING ⚠️ /home/jupyter/work/resources/data_yolo/images/train/cabarga_20 IMG_0089.JPG: 1 duplicate labels removed\n",
      "\u001b[34m\u001b[1mtrain: \u001b[0mWARNING ⚠️ /home/jupyter/work/resources/data_yolo/images/train/cabarga_21 IMG_0090.JPG: 1 duplicate labels removed\n",
      "\u001b[34m\u001b[1mtrain: \u001b[0mWARNING ⚠️ /home/jupyter/work/resources/data_yolo/images/train/cabarga_281355.jpg: 1 duplicate labels removed\n",
      "\u001b[34m\u001b[1mtrain: \u001b[0mWARNING ⚠️ /home/jupyter/work/resources/data_yolo/images/train/cabarga_281356.jpg: 1 duplicate labels removed\n",
      "\u001b[34m\u001b[1mtrain: \u001b[0mWARNING ⚠️ /home/jupyter/work/resources/data_yolo/images/train/cabarga_35 IMG_0071.JPG: 2 duplicate labels removed\n",
      "\u001b[34m\u001b[1mtrain: \u001b[0mWARNING ⚠️ /home/jupyter/work/resources/data_yolo/images/train/cabarga_36 IMG_0072.JPG: 1 duplicate labels removed\n",
      "\u001b[34m\u001b[1mtrain: \u001b[0mWARNING ⚠️ /home/jupyter/work/resources/data_yolo/images/train/cabarga_43 IMG_0079.JPG: 1 duplicate labels removed\n",
      "\u001b[34m\u001b[1mtrain: \u001b[0mWARNING ⚠️ /home/jupyter/work/resources/data_yolo/images/train/cabarga_44 IMG_0080.JPG: 2 duplicate labels removed\n",
      "\u001b[34m\u001b[1mtrain: \u001b[0mWARNING ⚠️ /home/jupyter/work/resources/data_yolo/images/train/cabarga_446ce406a169ec3d1e8d717fc5f60822-800x.jpg: 1 duplicate labels removed\n",
      "\u001b[34m\u001b[1mtrain: \u001b[0mWARNING ⚠️ /home/jupyter/work/resources/data_yolo/images/train/cabarga_45 IMG_0204.JPG: 1 duplicate labels removed\n",
      "\u001b[34m\u001b[1mtrain: \u001b[0mWARNING ⚠️ /home/jupyter/work/resources/data_yolo/images/train/cabarga_64f19b22f9671487d5d9d5ab5ddd37f3.jpeg: 1 duplicate labels removed\n",
      "\u001b[34m\u001b[1mtrain: \u001b[0mWARNING ⚠️ /home/jupyter/work/resources/data_yolo/images/train/cabarga_69a496d01ae9edb70c88eff5f916d8f7.jpg: 1 duplicate labels removed\n",
      "\u001b[34m\u001b[1mtrain: \u001b[0mWARNING ⚠️ /home/jupyter/work/resources/data_yolo/images/train/cabarga_74 IMG_0139.JPG: 1 duplicate labels removed\n",
      "\u001b[34m\u001b[1mtrain: \u001b[0mWARNING ⚠️ /home/jupyter/work/resources/data_yolo/images/train/cabarga_794547c1b19b5d84cc0dd4698ad5099c-800x.jpg: 5 duplicate labels removed\n",
      "\u001b[34m\u001b[1mtrain: \u001b[0mWARNING ⚠️ /home/jupyter/work/resources/data_yolo/images/train/cabarga_83 IMG_0164.JPG: 1 duplicate labels removed\n",
      "\u001b[34m\u001b[1mtrain: \u001b[0mWARNING ⚠️ /home/jupyter/work/resources/data_yolo/images/train/cabarga_85 IMG_0166.JPG: 1 duplicate labels removed\n",
      "\u001b[34m\u001b[1mtrain: \u001b[0mWARNING ⚠️ /home/jupyter/work/resources/data_yolo/images/train/cabarga_86 IMG_0167.JPG: 1 duplicate labels removed\n",
      "\u001b[34m\u001b[1mtrain: \u001b[0mWARNING ⚠️ /home/jupyter/work/resources/data_yolo/images/train/cabarga_Alpine-musk-deer.jpg: 1 duplicate labels removed\n",
      "\u001b[34m\u001b[1mtrain: \u001b[0mWARNING ⚠️ /home/jupyter/work/resources/data_yolo/images/train/cabarga_Chinese_Water_Deer.jpg: 1 duplicate labels removed\n",
      "\u001b[34m\u001b[1mtrain: \u001b[0mWARNING ⚠️ /home/jupyter/work/resources/data_yolo/images/train/cabarga_IMAG0044.JPG: 1 duplicate labels removed\n",
      "\u001b[34m\u001b[1mtrain: \u001b[0mWARNING ⚠️ /home/jupyter/work/resources/data_yolo/images/train/cabarga_IMAG0118.JPG: 2 duplicate labels removed\n",
      "\u001b[34m\u001b[1mtrain: \u001b[0mWARNING ⚠️ /home/jupyter/work/resources/data_yolo/images/train/cabarga_IMAG0119.JPG: 2 duplicate labels removed\n",
      "\u001b[34m\u001b[1mtrain: \u001b[0mWARNING ⚠️ /home/jupyter/work/resources/data_yolo/images/train/cabarga_IMAG0120.JPG: 2 duplicate labels removed\n",
      "\u001b[34m\u001b[1mtrain: \u001b[0mWARNING ⚠️ /home/jupyter/work/resources/data_yolo/images/train/cabarga_IMG_0510.JPG: 1 duplicate labels removed\n",
      "\u001b[34m\u001b[1mtrain: \u001b[0mWARNING ⚠️ /home/jupyter/work/resources/data_yolo/images/train/cabarga_IMG_0510_1.JPG: 1 duplicate labels removed\n",
      "\u001b[34m\u001b[1mtrain: \u001b[0mWARNING ⚠️ /home/jupyter/work/resources/data_yolo/images/train/cabarga_IMG_0516.JPG: 1 duplicate labels removed\n",
      "\u001b[34m\u001b[1mtrain: \u001b[0mWARNING ⚠️ /home/jupyter/work/resources/data_yolo/images/train/cabarga_IMG_0521_1.JPG: 2 duplicate labels removed\n",
      "\u001b[34m\u001b[1mtrain: \u001b[0mWARNING ⚠️ /home/jupyter/work/resources/data_yolo/images/train/cabarga_IMG_0526_1.JPG: 1 duplicate labels removed\n",
      "\u001b[34m\u001b[1mtrain: \u001b[0mWARNING ⚠️ /home/jupyter/work/resources/data_yolo/images/train/cabarga_IMG_0533_1.JPG: 1 duplicate labels removed\n",
      "\u001b[34m\u001b[1mtrain: \u001b[0mWARNING ⚠️ /home/jupyter/work/resources/data_yolo/images/train/cabarga_IMG_0534_1.JPG: 1 duplicate labels removed\n",
      "\u001b[34m\u001b[1mtrain: \u001b[0mWARNING ⚠️ /home/jupyter/work/resources/data_yolo/images/train/cabarga_IMG_0541_1.JPG: 1 duplicate labels removed\n",
      "\u001b[34m\u001b[1mtrain: \u001b[0mWARNING ⚠️ /home/jupyter/work/resources/data_yolo/images/train/cabarga_IMG_0543_1.JPG: 1 duplicate labels removed\n",
      "\u001b[34m\u001b[1mtrain: \u001b[0mWARNING ⚠️ /home/jupyter/work/resources/data_yolo/images/train/cabarga_IMG_0554.JPG: 1 duplicate labels removed\n",
      "\u001b[34m\u001b[1mtrain: \u001b[0mWARNING ⚠️ /home/jupyter/work/resources/data_yolo/images/train/cabarga_IMG_0557.JPG: 1 duplicate labels removed\n",
      "\u001b[34m\u001b[1mtrain: \u001b[0mWARNING ⚠️ /home/jupyter/work/resources/data_yolo/images/train/cabarga_IMG_0578.JPG: 1 duplicate labels removed\n",
      "\u001b[34m\u001b[1mtrain: \u001b[0mWARNING ⚠️ /home/jupyter/work/resources/data_yolo/images/train/cabarga_IMG_0589.JPG: 1 duplicate labels removed\n",
      "\u001b[34m\u001b[1mtrain: \u001b[0mWARNING ⚠️ /home/jupyter/work/resources/data_yolo/images/train/cabarga_IMG_0590.JPG: 1 duplicate labels removed\n",
      "\u001b[34m\u001b[1mtrain: \u001b[0mWARNING ⚠️ /home/jupyter/work/resources/data_yolo/images/train/cabarga_IMG_0592.JPG: 1 duplicate labels removed\n",
      "\u001b[34m\u001b[1mtrain: \u001b[0mWARNING ⚠️ /home/jupyter/work/resources/data_yolo/images/train/cabarga_IMG_0594.JPG: 1 duplicate labels removed\n",
      "\u001b[34m\u001b[1mtrain: \u001b[0mWARNING ⚠️ /home/jupyter/work/resources/data_yolo/images/train/cabarga_IMG_0595.JPG: 1 duplicate labels removed\n",
      "\u001b[34m\u001b[1mtrain: \u001b[0mWARNING ⚠️ /home/jupyter/work/resources/data_yolo/images/train/cabarga_IMG_0596.JPG: 1 duplicate labels removed\n",
      "\u001b[34m\u001b[1mtrain: \u001b[0mWARNING ⚠️ /home/jupyter/work/resources/data_yolo/images/train/cabarga_IMG_0604.JPG: 2 duplicate labels removed\n",
      "\u001b[34m\u001b[1mtrain: \u001b[0mWARNING ⚠️ /home/jupyter/work/resources/data_yolo/images/train/cabarga_IMG_0605.JPG: 1 duplicate labels removed\n",
      "\u001b[34m\u001b[1mtrain: \u001b[0mWARNING ⚠️ /home/jupyter/work/resources/data_yolo/images/train/cabarga_IMG_0605_1.JPG: 1 duplicate labels removed\n",
      "\u001b[34m\u001b[1mtrain: \u001b[0mWARNING ⚠️ /home/jupyter/work/resources/data_yolo/images/train/cabarga_IMG_0606.JPG: 1 duplicate labels removed\n",
      "\u001b[34m\u001b[1mtrain: \u001b[0mWARNING ⚠️ /home/jupyter/work/resources/data_yolo/images/train/cabarga_IMG_0607.JPG: 1 duplicate labels removed\n",
      "\u001b[34m\u001b[1mtrain: \u001b[0mWARNING ⚠️ /home/jupyter/work/resources/data_yolo/images/train/cabarga_IMG_0610_1.JPG: 1 duplicate labels removed\n",
      "\u001b[34m\u001b[1mtrain: \u001b[0mWARNING ⚠️ /home/jupyter/work/resources/data_yolo/images/train/cabarga_IMG_0615_1.JPG: 1 duplicate labels removed\n",
      "\u001b[34m\u001b[1mtrain: \u001b[0mWARNING ⚠️ /home/jupyter/work/resources/data_yolo/images/train/cabarga_IMG_0618_1.JPG: 1 duplicate labels removed\n",
      "\u001b[34m\u001b[1mtrain: \u001b[0mWARNING ⚠️ /home/jupyter/work/resources/data_yolo/images/train/cabarga_IMG_0619_1.JPG: 1 duplicate labels removed\n",
      "\u001b[34m\u001b[1mtrain: \u001b[0mWARNING ⚠️ /home/jupyter/work/resources/data_yolo/images/train/cabarga_IMG_0620.JPG: 1 duplicate labels removed\n",
      "\u001b[34m\u001b[1mtrain: \u001b[0mWARNING ⚠️ /home/jupyter/work/resources/data_yolo/images/train/cabarga_IMG_0620_1.JPG: 2 duplicate labels removed\n",
      "\u001b[34m\u001b[1mtrain: \u001b[0mWARNING ⚠️ /home/jupyter/work/resources/data_yolo/images/train/cabarga_IMG_0621_1.JPG: 1 duplicate labels removed\n",
      "\u001b[34m\u001b[1mtrain: \u001b[0mWARNING ⚠️ /home/jupyter/work/resources/data_yolo/images/train/cabarga_IMG_0624_1.JPG: 1 duplicate labels removed\n",
      "\u001b[34m\u001b[1mtrain: \u001b[0mWARNING ⚠️ /home/jupyter/work/resources/data_yolo/images/train/cabarga_IMG_0755.JPG: 1 duplicate labels removed\n",
      "\u001b[34m\u001b[1mtrain: \u001b[0mWARNING ⚠️ /home/jupyter/work/resources/data_yolo/images/train/cabarga_IMG_0762.JPG: 1 duplicate labels removed\n",
      "\u001b[34m\u001b[1mtrain: \u001b[0mWARNING ⚠️ /home/jupyter/work/resources/data_yolo/images/train/cabarga_IMG_0835.JPG: 1 duplicate labels removed\n",
      "\u001b[34m\u001b[1mtrain: \u001b[0mWARNING ⚠️ /home/jupyter/work/resources/data_yolo/images/train/cabarga_IMG_0836.JPG: 1 duplicate labels removed\n",
      "\u001b[34m\u001b[1mtrain: \u001b[0mWARNING ⚠️ /home/jupyter/work/resources/data_yolo/images/train/cabarga_IMG_0840.JPG: 1 duplicate labels removed\n",
      "\u001b[34m\u001b[1mtrain: \u001b[0mWARNING ⚠️ /home/jupyter/work/resources/data_yolo/images/train/cabarga_IMG_0856.JPG: 2 duplicate labels removed\n",
      "\u001b[34m\u001b[1mtrain: \u001b[0mWARNING ⚠️ /home/jupyter/work/resources/data_yolo/images/train/cabarga_IMG_0857.JPG: 1 duplicate labels removed\n",
      "\u001b[34m\u001b[1mtrain: \u001b[0mWARNING ⚠️ /home/jupyter/work/resources/data_yolo/images/train/cabarga_IMG_0858.JPG: 1 duplicate labels removed\n",
      "\u001b[34m\u001b[1mtrain: \u001b[0mWARNING ⚠️ /home/jupyter/work/resources/data_yolo/images/train/cabarga_IMG_0860.JPG: 1 duplicate labels removed\n",
      "\u001b[34m\u001b[1mtrain: \u001b[0mWARNING ⚠️ /home/jupyter/work/resources/data_yolo/images/train/cabarga_IMG_0861.JPG: 1 duplicate labels removed\n",
      "\u001b[34m\u001b[1mtrain: \u001b[0mWARNING ⚠️ /home/jupyter/work/resources/data_yolo/images/train/cabarga_IMG_0862.JPG: 1 duplicate labels removed\n",
      "\u001b[34m\u001b[1mtrain: \u001b[0mWARNING ⚠️ /home/jupyter/work/resources/data_yolo/images/train/cabarga_IMG_1745.JPG: 1 duplicate labels removed\n",
      "\u001b[34m\u001b[1mtrain: \u001b[0mWARNING ⚠️ /home/jupyter/work/resources/data_yolo/images/train/cabarga_IMG_1746.JPG: 1 duplicate labels removed\n",
      "\u001b[34m\u001b[1mtrain: \u001b[0mWARNING ⚠️ /home/jupyter/work/resources/data_yolo/images/train/cabarga_IMG_3652.JPG: 1 duplicate labels removed\n",
      "\u001b[34m\u001b[1mtrain: \u001b[0mWARNING ⚠️ /home/jupyter/work/resources/data_yolo/images/train/cabarga_IMG_3657.JPG: 1 duplicate labels removed\n",
      "\u001b[34m\u001b[1mtrain: \u001b[0mWARNING ⚠️ /home/jupyter/work/resources/data_yolo/images/train/cabarga_IMG_3703.JPG: 1 duplicate labels removed\n",
      "\u001b[34m\u001b[1mtrain: \u001b[0mWARNING ⚠️ /home/jupyter/work/resources/data_yolo/images/train/cabarga_IMG_3706.JPG: 1 duplicate labels removed\n",
      "\u001b[34m\u001b[1mtrain: \u001b[0mWARNING ⚠️ /home/jupyter/work/resources/data_yolo/images/train/cabarga_IMG_3714.JPG: 2 duplicate labels removed\n",
      "\u001b[34m\u001b[1mtrain: \u001b[0mWARNING ⚠️ /home/jupyter/work/resources/data_yolo/images/train/cabarga_IMG_3715.JPG: 1 duplicate labels removed\n",
      "\u001b[34m\u001b[1mtrain: \u001b[0mWARNING ⚠️ /home/jupyter/work/resources/data_yolo/images/train/cabarga_Im_0018806.jpg: 1 duplicate labels removed\n",
      "\u001b[34m\u001b[1mtrain: \u001b[0mWARNING ⚠️ /home/jupyter/work/resources/data_yolo/images/train/cabarga_Im_0018813.jpg: 1 duplicate labels removed\n",
      "\u001b[34m\u001b[1mtrain: \u001b[0mWARNING ⚠️ /home/jupyter/work/resources/data_yolo/images/train/cabarga_Im_0019084.jpg: 2 duplicate labels removed\n",
      "\u001b[34m\u001b[1mtrain: \u001b[0mWARNING ⚠️ /home/jupyter/work/resources/data_yolo/images/train/cabarga_Im_0019103.jpg: 1 duplicate labels removed\n",
      "\u001b[34m\u001b[1mtrain: \u001b[0mWARNING ⚠️ /home/jupyter/work/resources/data_yolo/images/train/cabarga_Im_0019235.jpg: 1 duplicate labels removed\n",
      "\u001b[34m\u001b[1mtrain: \u001b[0mWARNING ⚠️ /home/jupyter/work/resources/data_yolo/images/train/cabarga_Im_0019264_1.jpg: 1 duplicate labels removed\n",
      "\u001b[34m\u001b[1mtrain: \u001b[0mWARNING ⚠️ /home/jupyter/work/resources/data_yolo/images/train/cabarga_Im_0019296.jpg: 2 duplicate labels removed\n",
      "\u001b[34m\u001b[1mtrain: \u001b[0mWARNING ⚠️ /home/jupyter/work/resources/data_yolo/images/train/cabarga_Im_0019334.jpg: 1 duplicate labels removed\n",
      "\u001b[34m\u001b[1mtrain: \u001b[0mWARNING ⚠️ /home/jupyter/work/resources/data_yolo/images/train/cabarga_Im_0019402.jpg: 1 duplicate labels removed\n",
      "\u001b[34m\u001b[1mtrain: \u001b[0mWARNING ⚠️ /home/jupyter/work/resources/data_yolo/images/train/cabarga_Im_0019499.jpg: 1 duplicate labels removed\n",
      "\u001b[34m\u001b[1mtrain: \u001b[0mWARNING ⚠️ /home/jupyter/work/resources/data_yolo/images/train/cabarga_Im_0019769.jpg: 2 duplicate labels removed\n",
      "\u001b[34m\u001b[1mtrain: \u001b[0mWARNING ⚠️ /home/jupyter/work/resources/data_yolo/images/train/cabarga_Im_0019832.jpg: 1 duplicate labels removed\n",
      "\u001b[34m\u001b[1mtrain: \u001b[0mWARNING ⚠️ /home/jupyter/work/resources/data_yolo/images/train/cabarga_Im_0019963.jpg: 1 duplicate labels removed\n",
      "\u001b[34m\u001b[1mtrain: \u001b[0mWARNING ⚠️ /home/jupyter/work/resources/data_yolo/images/train/cabarga_Im_0024065.jpg: 1 duplicate labels removed\n",
      "\u001b[34m\u001b[1mtrain: \u001b[0mWARNING ⚠️ /home/jupyter/work/resources/data_yolo/images/train/cabarga_Im_0024541.jpg: 1 duplicate labels removed\n",
      "\u001b[34m\u001b[1mtrain: \u001b[0mWARNING ⚠️ /home/jupyter/work/resources/data_yolo/images/train/cabarga_Im_0025059.jpg: 2 duplicate labels removed\n",
      "\u001b[34m\u001b[1mtrain: \u001b[0mWARNING ⚠️ /home/jupyter/work/resources/data_yolo/images/train/cabarga_Im_0027617.jpg: 1 duplicate labels removed\n",
      "\u001b[34m\u001b[1mtrain: \u001b[0mWARNING ⚠️ /home/jupyter/work/resources/data_yolo/images/train/cabarga_Im_0029640.jpg: 1 duplicate labels removed\n",
      "\u001b[34m\u001b[1mtrain: \u001b[0mWARNING ⚠️ /home/jupyter/work/resources/data_yolo/images/train/cabarga_Im_0029768.jpg: 1 duplicate labels removed\n",
      "\u001b[34m\u001b[1mtrain: \u001b[0mWARNING ⚠️ /home/jupyter/work/resources/data_yolo/images/train/cabarga_Im_0031718.jpg: 2 duplicate labels removed\n",
      "\u001b[34m\u001b[1mtrain: \u001b[0mWARNING ⚠️ /home/jupyter/work/resources/data_yolo/images/train/cabarga_Im_0032118.jpg: 1 duplicate labels removed\n",
      "\u001b[34m\u001b[1mtrain: \u001b[0mWARNING ⚠️ /home/jupyter/work/resources/data_yolo/images/train/cabarga_Im_0036269.jpg: 1 duplicate labels removed\n",
      "\u001b[34m\u001b[1mtrain: \u001b[0mWARNING ⚠️ /home/jupyter/work/resources/data_yolo/images/train/cabarga_Im_0045098.jpg: 1 duplicate labels removed\n",
      "\u001b[34m\u001b[1mtrain: \u001b[0mWARNING ⚠️ /home/jupyter/work/resources/data_yolo/images/train/cabarga_Im_0049086.jpg: 1 duplicate labels removed\n",
      "\u001b[34m\u001b[1mtrain: \u001b[0mWARNING ⚠️ /home/jupyter/work/resources/data_yolo/images/train/cabarga_ca1f028ada9036b2a8552a249bcc595f.jpeg: 1 duplicate labels removed\n",
      "\u001b[34m\u001b[1mtrain: \u001b[0mWARNING ⚠️ /home/jupyter/work/resources/data_yolo/images/train/cabarga_dsc_4524.jpg: 1 duplicate labels removed\n",
      "\u001b[34m\u001b[1mtrain: \u001b[0mWARNING ⚠️ /home/jupyter/work/resources/data_yolo/images/train/cabarga_e4052cd622beadf7466a9327792bf18d.jpeg: 2 duplicate labels removed\n",
      "\u001b[34m\u001b[1mtrain: \u001b[0mWARNING ⚠️ /home/jupyter/work/resources/data_yolo/images/train/cabarga_eb91c1c6613c0c3096ac6efaca7abd5a.jpg: 1 duplicate labels removed\n",
      "\u001b[34m\u001b[1mtrain: \u001b[0mWARNING ⚠️ /home/jupyter/work/resources/data_yolo/images/train/cabarga_https-www-ourbreathingplanet-com-wp-content-uplo.png: 1 duplicate labels removed\n",
      "\u001b[34m\u001b[1mtrain: \u001b[0mWARNING ⚠️ /home/jupyter/work/resources/data_yolo/images/train/cabarga_img12.jpg: 1 duplicate labels removed\n",
      "\u001b[34m\u001b[1mtrain: \u001b[0mWARNING ⚠️ /home/jupyter/work/resources/data_yolo/images/train/cabarga_img2.jpg: 1 duplicate labels removed\n",
      "\u001b[34m\u001b[1mtrain: \u001b[0mWARNING ⚠️ /home/jupyter/work/resources/data_yolo/images/train/cabarga_inx960x640.jpg: 1 duplicate labels removed\n",
      "\u001b[34m\u001b[1mtrain: \u001b[0mWARNING ⚠️ /home/jupyter/work/resources/data_yolo/images/train/cabarga_maxresdefault (4).jpg: 1 duplicate labels removed\n",
      "\u001b[34m\u001b[1mtrain: \u001b[0mWARNING ⚠️ /home/jupyter/work/resources/data_yolo/images/train/cabarga_scale_1200 (3).jpeg: 1 duplicate labels removed\n",
      "\u001b[34m\u001b[1mtrain: \u001b[0mWARNING ⚠️ /home/jupyter/work/resources/data_yolo/images/train/cabarga_slide_12.jpg: 1 duplicate labels removed\n",
      "\u001b[34m\u001b[1mtrain: \u001b[0mWARNING ⚠️ /home/jupyter/work/resources/data_yolo/images/train/cabarga_Кабарга_1850.jpg: 1 duplicate labels removed\n",
      "\u001b[34m\u001b[1mtrain: \u001b[0mWARNING ⚠️ /home/jupyter/work/resources/data_yolo/images/train/cabarga_Кабарга_1869.jpg: 1 duplicate labels removed\n",
      "\u001b[34m\u001b[1mtrain: \u001b[0mWARNING ⚠️ /home/jupyter/work/resources/data_yolo/images/train/cabarga_Кабарга_1878.jpg: 1 duplicate labels removed\n",
      "\u001b[34m\u001b[1mtrain: \u001b[0mWARNING ⚠️ /home/jupyter/work/resources/data_yolo/images/train/cabarga_Кабарга_1917.jpg: 1 duplicate labels removed\n",
      "\u001b[34m\u001b[1mtrain: \u001b[0mWARNING ⚠️ /home/jupyter/work/resources/data_yolo/images/train/cabarga_Кабарга_2524.jpg: 1 duplicate labels removed\n",
      "\u001b[34m\u001b[1mtrain: \u001b[0mWARNING ⚠️ /home/jupyter/work/resources/data_yolo/images/train/cabarga_Кабарга_2625.jpg: 1 duplicate labels removed\n",
      "\u001b[34m\u001b[1mtrain: \u001b[0mWARNING ⚠️ /home/jupyter/work/resources/data_yolo/images/train/cabarga_Кабарга_763.jpg: 1 duplicate labels removed\n",
      "\u001b[34m\u001b[1mtrain: \u001b[0mWARNING ⚠️ /home/jupyter/work/resources/data_yolo/images/train/cabarga_Кабарга__1000.jpg: 1 duplicate labels removed\n",
      "\u001b[34m\u001b[1mtrain: \u001b[0mWARNING ⚠️ /home/jupyter/work/resources/data_yolo/images/train/cabarga_Кабарга__1013.jpg: 1 duplicate labels removed\n",
      "\u001b[34m\u001b[1mtrain: \u001b[0mWARNING ⚠️ /home/jupyter/work/resources/data_yolo/images/train/cabarga_Кабарга__1022.jpg: 1 duplicate labels removed\n",
      "\u001b[34m\u001b[1mtrain: \u001b[0mWARNING ⚠️ /home/jupyter/work/resources/data_yolo/images/train/cabarga_Кабарга__108.jpg: 1 duplicate labels removed\n",
      "\u001b[34m\u001b[1mtrain: \u001b[0mWARNING ⚠️ /home/jupyter/work/resources/data_yolo/images/train/cabarga_Кабарга__1083.jpg: 1 duplicate labels removed\n",
      "\u001b[34m\u001b[1mtrain: \u001b[0mWARNING ⚠️ /home/jupyter/work/resources/data_yolo/images/train/cabarga_Кабарга__1088.jpg: 1 duplicate labels removed\n",
      "\u001b[34m\u001b[1mtrain: \u001b[0mWARNING ⚠️ /home/jupyter/work/resources/data_yolo/images/train/cabarga_Кабарга__1089.jpg: 1 duplicate labels removed\n",
      "\u001b[34m\u001b[1mtrain: \u001b[0mWARNING ⚠️ /home/jupyter/work/resources/data_yolo/images/train/cabarga_Кабарга__1105.jpg: 1 duplicate labels removed\n",
      "\u001b[34m\u001b[1mtrain: \u001b[0mWARNING ⚠️ /home/jupyter/work/resources/data_yolo/images/train/cabarga_Кабарга__111.jpg: 2 duplicate labels removed\n",
      "\u001b[34m\u001b[1mtrain: \u001b[0mWARNING ⚠️ /home/jupyter/work/resources/data_yolo/images/train/cabarga_Кабарга__1117.jpg: 1 duplicate labels removed\n",
      "\u001b[34m\u001b[1mtrain: \u001b[0mWARNING ⚠️ /home/jupyter/work/resources/data_yolo/images/train/cabarga_Кабарга__114.jpg: 1 duplicate labels removed\n",
      "\u001b[34m\u001b[1mtrain: \u001b[0mWARNING ⚠️ /home/jupyter/work/resources/data_yolo/images/train/cabarga_Кабарга__1164.jpg: 1 duplicate labels removed\n",
      "\u001b[34m\u001b[1mtrain: \u001b[0mWARNING ⚠️ /home/jupyter/work/resources/data_yolo/images/train/cabarga_Кабарга__12.jpg: 1 duplicate labels removed\n",
      "\u001b[34m\u001b[1mtrain: \u001b[0mWARNING ⚠️ /home/jupyter/work/resources/data_yolo/images/train/cabarga_Кабарга__1232.jpg: 1 duplicate labels removed\n",
      "\u001b[34m\u001b[1mtrain: \u001b[0mWARNING ⚠️ /home/jupyter/work/resources/data_yolo/images/train/cabarga_Кабарга__1249.jpg: 1 duplicate labels removed\n",
      "\u001b[34m\u001b[1mtrain: \u001b[0mWARNING ⚠️ /home/jupyter/work/resources/data_yolo/images/train/cabarga_Кабарга__125.jpg: 1 duplicate labels removed\n",
      "\u001b[34m\u001b[1mtrain: \u001b[0mWARNING ⚠️ /home/jupyter/work/resources/data_yolo/images/train/cabarga_Кабарга__1271.jpg: 1 duplicate labels removed\n",
      "\u001b[34m\u001b[1mtrain: \u001b[0mWARNING ⚠️ /home/jupyter/work/resources/data_yolo/images/train/cabarga_Кабарга__1284.jpg: 1 duplicate labels removed\n",
      "\u001b[34m\u001b[1mtrain: \u001b[0mWARNING ⚠️ /home/jupyter/work/resources/data_yolo/images/train/cabarga_Кабарга__1301.jpg: 2 duplicate labels removed\n",
      "\u001b[34m\u001b[1mtrain: \u001b[0mWARNING ⚠️ /home/jupyter/work/resources/data_yolo/images/train/cabarga_Кабарга__1309.jpg: 1 duplicate labels removed\n",
      "\u001b[34m\u001b[1mtrain: \u001b[0mWARNING ⚠️ /home/jupyter/work/resources/data_yolo/images/train/cabarga_Кабарга__1347.jpg: 3 duplicate labels removed\n",
      "\u001b[34m\u001b[1mtrain: \u001b[0mWARNING ⚠️ /home/jupyter/work/resources/data_yolo/images/train/cabarga_Кабарга__146.jpg: 1 duplicate labels removed\n",
      "\u001b[34m\u001b[1mtrain: \u001b[0mWARNING ⚠️ /home/jupyter/work/resources/data_yolo/images/train/cabarga_Кабарга__1470.jpg: 2 duplicate labels removed\n",
      "\u001b[34m\u001b[1mtrain: \u001b[0mWARNING ⚠️ /home/jupyter/work/resources/data_yolo/images/train/cabarga_Кабарга__1478.jpg: 1 duplicate labels removed\n",
      "\u001b[34m\u001b[1mtrain: \u001b[0mWARNING ⚠️ /home/jupyter/work/resources/data_yolo/images/train/cabarga_Кабарга__148.jpg: 1 duplicate labels removed\n",
      "\u001b[34m\u001b[1mtrain: \u001b[0mWARNING ⚠️ /home/jupyter/work/resources/data_yolo/images/train/cabarga_Кабарга__1503.jpg: 2 duplicate labels removed\n",
      "\u001b[34m\u001b[1mtrain: \u001b[0mWARNING ⚠️ /home/jupyter/work/resources/data_yolo/images/train/cabarga_Кабарга__151.jpg: 1 duplicate labels removed\n",
      "\u001b[34m\u001b[1mtrain: \u001b[0mWARNING ⚠️ /home/jupyter/work/resources/data_yolo/images/train/cabarga_Кабарга__172.jpg: 1 duplicate labels removed\n",
      "\u001b[34m\u001b[1mtrain: \u001b[0mWARNING ⚠️ /home/jupyter/work/resources/data_yolo/images/train/cabarga_Кабарга__19.jpg: 1 duplicate labels removed\n",
      "\u001b[34m\u001b[1mtrain: \u001b[0mWARNING ⚠️ /home/jupyter/work/resources/data_yolo/images/train/cabarga_Кабарга__191.jpg: 1 duplicate labels removed\n",
      "\u001b[34m\u001b[1mtrain: \u001b[0mWARNING ⚠️ /home/jupyter/work/resources/data_yolo/images/train/cabarga_Кабарга__201.jpg: 1 duplicate labels removed\n",
      "\u001b[34m\u001b[1mtrain: \u001b[0mWARNING ⚠️ /home/jupyter/work/resources/data_yolo/images/train/cabarga_Кабарга__211.jpg: 1 duplicate labels removed\n",
      "\u001b[34m\u001b[1mtrain: \u001b[0mWARNING ⚠️ /home/jupyter/work/resources/data_yolo/images/train/cabarga_Кабарга__227.jpg: 1 duplicate labels removed\n",
      "\u001b[34m\u001b[1mtrain: \u001b[0mWARNING ⚠️ /home/jupyter/work/resources/data_yolo/images/train/cabarga_Кабарга__234.jpg: 1 duplicate labels removed\n",
      "\u001b[34m\u001b[1mtrain: \u001b[0mWARNING ⚠️ /home/jupyter/work/resources/data_yolo/images/train/cabarga_Кабарга__238.jpg: 1 duplicate labels removed\n",
      "\u001b[34m\u001b[1mtrain: \u001b[0mWARNING ⚠️ /home/jupyter/work/resources/data_yolo/images/train/cabarga_Кабарга__242.jpg: 1 duplicate labels removed\n",
      "\u001b[34m\u001b[1mtrain: \u001b[0mWARNING ⚠️ /home/jupyter/work/resources/data_yolo/images/train/cabarga_Кабарга__265.jpg: 1 duplicate labels removed\n",
      "\u001b[34m\u001b[1mtrain: \u001b[0mWARNING ⚠️ /home/jupyter/work/resources/data_yolo/images/train/cabarga_Кабарга__267.jpg: 1 duplicate labels removed\n",
      "\u001b[34m\u001b[1mtrain: \u001b[0mWARNING ⚠️ /home/jupyter/work/resources/data_yolo/images/train/cabarga_Кабарга__287.jpg: 2 duplicate labels removed\n",
      "\u001b[34m\u001b[1mtrain: \u001b[0mWARNING ⚠️ /home/jupyter/work/resources/data_yolo/images/train/cabarga_Кабарга__297.jpg: 1 duplicate labels removed\n",
      "\u001b[34m\u001b[1mtrain: \u001b[0mWARNING ⚠️ /home/jupyter/work/resources/data_yolo/images/train/cabarga_Кабарга__302.jpg: 1 duplicate labels removed\n",
      "\u001b[34m\u001b[1mtrain: \u001b[0mWARNING ⚠️ /home/jupyter/work/resources/data_yolo/images/train/cabarga_Кабарга__303.jpg: 1 duplicate labels removed\n",
      "\u001b[34m\u001b[1mtrain: \u001b[0mWARNING ⚠️ /home/jupyter/work/resources/data_yolo/images/train/cabarga_Кабарга__308.jpg: 1 duplicate labels removed\n",
      "\u001b[34m\u001b[1mtrain: \u001b[0mWARNING ⚠️ /home/jupyter/work/resources/data_yolo/images/train/cabarga_Кабарга__310.jpg: 1 duplicate labels removed\n",
      "\u001b[34m\u001b[1mtrain: \u001b[0mWARNING ⚠️ /home/jupyter/work/resources/data_yolo/images/train/cabarga_Кабарга__320.jpg: 1 duplicate labels removed\n",
      "\u001b[34m\u001b[1mtrain: \u001b[0mWARNING ⚠️ /home/jupyter/work/resources/data_yolo/images/train/cabarga_Кабарга__326.jpg: 1 duplicate labels removed\n",
      "\u001b[34m\u001b[1mtrain: \u001b[0mWARNING ⚠️ /home/jupyter/work/resources/data_yolo/images/train/cabarga_Кабарга__331.jpg: 1 duplicate labels removed\n",
      "\u001b[34m\u001b[1mtrain: \u001b[0mWARNING ⚠️ /home/jupyter/work/resources/data_yolo/images/train/cabarga_Кабарга__340.jpg: 1 duplicate labels removed\n",
      "\u001b[34m\u001b[1mtrain: \u001b[0mWARNING ⚠️ /home/jupyter/work/resources/data_yolo/images/train/cabarga_Кабарга__347.jpg: 1 duplicate labels removed\n",
      "\u001b[34m\u001b[1mtrain: \u001b[0mWARNING ⚠️ /home/jupyter/work/resources/data_yolo/images/train/cabarga_Кабарга__349.jpg: 3 duplicate labels removed\n",
      "\u001b[34m\u001b[1mtrain: \u001b[0mWARNING ⚠️ /home/jupyter/work/resources/data_yolo/images/train/cabarga_Кабарга__359.jpg: 2 duplicate labels removed\n",
      "\u001b[34m\u001b[1mtrain: \u001b[0mWARNING ⚠️ /home/jupyter/work/resources/data_yolo/images/train/cabarga_Кабарга__360.jpg: 1 duplicate labels removed\n",
      "\u001b[34m\u001b[1mtrain: \u001b[0mWARNING ⚠️ /home/jupyter/work/resources/data_yolo/images/train/cabarga_Кабарга__37.jpg: 1 duplicate labels removed\n",
      "\u001b[34m\u001b[1mtrain: \u001b[0mWARNING ⚠️ /home/jupyter/work/resources/data_yolo/images/train/cabarga_Кабарга__385.jpg: 1 duplicate labels removed\n",
      "\u001b[34m\u001b[1mtrain: \u001b[0mWARNING ⚠️ /home/jupyter/work/resources/data_yolo/images/train/cabarga_Кабарга__390.jpg: 1 duplicate labels removed\n",
      "\u001b[34m\u001b[1mtrain: \u001b[0mWARNING ⚠️ /home/jupyter/work/resources/data_yolo/images/train/cabarga_Кабарга__391.jpg: 1 duplicate labels removed\n",
      "\u001b[34m\u001b[1mtrain: \u001b[0mWARNING ⚠️ /home/jupyter/work/resources/data_yolo/images/train/cabarga_Кабарга__394.jpg: 1 duplicate labels removed\n",
      "\u001b[34m\u001b[1mtrain: \u001b[0mWARNING ⚠️ /home/jupyter/work/resources/data_yolo/images/train/cabarga_Кабарга__399.jpg: 1 duplicate labels removed\n",
      "\u001b[34m\u001b[1mtrain: \u001b[0mWARNING ⚠️ /home/jupyter/work/resources/data_yolo/images/train/cabarga_Кабарга__412.jpg: 1 duplicate labels removed\n",
      "\u001b[34m\u001b[1mtrain: \u001b[0mWARNING ⚠️ /home/jupyter/work/resources/data_yolo/images/train/cabarga_Кабарга__416.jpg: 1 duplicate labels removed\n",
      "\u001b[34m\u001b[1mtrain: \u001b[0mWARNING ⚠️ /home/jupyter/work/resources/data_yolo/images/train/cabarga_Кабарга__43.jpg: 1 duplicate labels removed\n",
      "\u001b[34m\u001b[1mtrain: \u001b[0mWARNING ⚠️ /home/jupyter/work/resources/data_yolo/images/train/cabarga_Кабарга__443.jpg: 1 duplicate labels removed\n",
      "\u001b[34m\u001b[1mtrain: \u001b[0mWARNING ⚠️ /home/jupyter/work/resources/data_yolo/images/train/cabarga_Кабарга__449.jpg: 1 duplicate labels removed\n",
      "\u001b[34m\u001b[1mtrain: \u001b[0mWARNING ⚠️ /home/jupyter/work/resources/data_yolo/images/train/cabarga_Кабарга__454.jpg: 1 duplicate labels removed\n",
      "\u001b[34m\u001b[1mtrain: \u001b[0mWARNING ⚠️ /home/jupyter/work/resources/data_yolo/images/train/cabarga_Кабарга__477.jpg: 7 duplicate labels removed\n",
      "\u001b[34m\u001b[1mtrain: \u001b[0mWARNING ⚠️ /home/jupyter/work/resources/data_yolo/images/train/cabarga_Кабарга__48.jpg: 1 duplicate labels removed\n",
      "\u001b[34m\u001b[1mtrain: \u001b[0mWARNING ⚠️ /home/jupyter/work/resources/data_yolo/images/train/cabarga_Кабарга__505.jpg: 1 duplicate labels removed\n",
      "\u001b[34m\u001b[1mtrain: \u001b[0mWARNING ⚠️ /home/jupyter/work/resources/data_yolo/images/train/cabarga_Кабарга__54.jpg: 1 duplicate labels removed\n",
      "\u001b[34m\u001b[1mtrain: \u001b[0mWARNING ⚠️ /home/jupyter/work/resources/data_yolo/images/train/cabarga_Кабарга__566.jpg: 1 duplicate labels removed\n",
      "\u001b[34m\u001b[1mtrain: \u001b[0mWARNING ⚠️ /home/jupyter/work/resources/data_yolo/images/train/cabarga_Кабарга__573.jpg: ignoring corrupt image/label: invalid image format GIF. Supported formats are:\n",
      "images: {'png', 'tif', 'bmp', 'tiff', 'jpeg', 'jpg', 'webp', 'mpo', 'pfm', 'dng'}\n",
      "videos: {'webm', 'avi', 'wmv', 'mp4', 'mpg', 'ts', 'mpeg', 'mov', 'asf', 'mkv', 'm4v', 'gif'}\n",
      "\u001b[34m\u001b[1mtrain: \u001b[0mWARNING ⚠️ /home/jupyter/work/resources/data_yolo/images/train/cabarga_Кабарга__58.jpg: 1 duplicate labels removed\n",
      "\u001b[34m\u001b[1mtrain: \u001b[0mWARNING ⚠️ /home/jupyter/work/resources/data_yolo/images/train/cabarga_Кабарга__588.jpg: 1 duplicate labels removed\n",
      "\u001b[34m\u001b[1mtrain: \u001b[0mWARNING ⚠️ /home/jupyter/work/resources/data_yolo/images/train/cabarga_Кабарга__603.jpg: 3 duplicate labels removed\n",
      "\u001b[34m\u001b[1mtrain: \u001b[0mWARNING ⚠️ /home/jupyter/work/resources/data_yolo/images/train/cabarga_Кабарга__604.jpg: 1 duplicate labels removed\n",
      "\u001b[34m\u001b[1mtrain: \u001b[0mWARNING ⚠️ /home/jupyter/work/resources/data_yolo/images/train/cabarga_Кабарга__62.jpg: 1 duplicate labels removed\n",
      "\u001b[34m\u001b[1mtrain: \u001b[0mWARNING ⚠️ /home/jupyter/work/resources/data_yolo/images/train/cabarga_Кабарга__620.jpg: 1 duplicate labels removed\n",
      "\u001b[34m\u001b[1mtrain: \u001b[0mWARNING ⚠️ /home/jupyter/work/resources/data_yolo/images/train/cabarga_Кабарга__636.jpg: 1 duplicate labels removed\n",
      "\u001b[34m\u001b[1mtrain: \u001b[0mWARNING ⚠️ /home/jupyter/work/resources/data_yolo/images/train/cabarga_Кабарга__662.jpg: 2 duplicate labels removed\n",
      "\u001b[34m\u001b[1mtrain: \u001b[0mWARNING ⚠️ /home/jupyter/work/resources/data_yolo/images/train/cabarga_Кабарга__668.jpg: 2 duplicate labels removed\n",
      "\u001b[34m\u001b[1mtrain: \u001b[0mWARNING ⚠️ /home/jupyter/work/resources/data_yolo/images/train/cabarga_Кабарга__670.jpg: 1 duplicate labels removed\n",
      "\u001b[34m\u001b[1mtrain: \u001b[0mWARNING ⚠️ /home/jupyter/work/resources/data_yolo/images/train/cabarga_Кабарга__671.jpg: 1 duplicate labels removed\n",
      "\u001b[34m\u001b[1mtrain: \u001b[0mWARNING ⚠️ /home/jupyter/work/resources/data_yolo/images/train/cabarga_Кабарга__672.jpg: 1 duplicate labels removed\n",
      "\u001b[34m\u001b[1mtrain: \u001b[0mWARNING ⚠️ /home/jupyter/work/resources/data_yolo/images/train/cabarga_Кабарга__68.jpg: 1 duplicate labels removed\n",
      "\u001b[34m\u001b[1mtrain: \u001b[0mWARNING ⚠️ /home/jupyter/work/resources/data_yolo/images/train/cabarga_Кабарга__69.jpg: 1 duplicate labels removed\n",
      "\u001b[34m\u001b[1mtrain: \u001b[0mWARNING ⚠️ /home/jupyter/work/resources/data_yolo/images/train/cabarga_Кабарга__696.jpg: 1 duplicate labels removed\n",
      "\u001b[34m\u001b[1mtrain: \u001b[0mWARNING ⚠️ /home/jupyter/work/resources/data_yolo/images/train/cabarga_Кабарга__702.jpg: 2 duplicate labels removed\n",
      "\u001b[34m\u001b[1mtrain: \u001b[0mWARNING ⚠️ /home/jupyter/work/resources/data_yolo/images/train/cabarga_Кабарга__705.jpg: 1 duplicate labels removed\n",
      "\u001b[34m\u001b[1mtrain: \u001b[0mWARNING ⚠️ /home/jupyter/work/resources/data_yolo/images/train/cabarga_Кабарга__709.jpg: 1 duplicate labels removed\n",
      "\u001b[34m\u001b[1mtrain: \u001b[0mWARNING ⚠️ /home/jupyter/work/resources/data_yolo/images/train/cabarga_Кабарга__714.jpg: 2 duplicate labels removed\n",
      "\u001b[34m\u001b[1mtrain: \u001b[0mWARNING ⚠️ /home/jupyter/work/resources/data_yolo/images/train/cabarga_Кабарга__745.jpg: 3 duplicate labels removed\n",
      "\u001b[34m\u001b[1mtrain: \u001b[0mWARNING ⚠️ /home/jupyter/work/resources/data_yolo/images/train/cabarga_Кабарга__793.jpg: 1 duplicate labels removed\n",
      "\u001b[34m\u001b[1mtrain: \u001b[0mWARNING ⚠️ /home/jupyter/work/resources/data_yolo/images/train/cabarga_Кабарга__797.jpg: 1 duplicate labels removed\n",
      "\u001b[34m\u001b[1mtrain: \u001b[0mWARNING ⚠️ /home/jupyter/work/resources/data_yolo/images/train/cabarga_Кабарга__826.jpg: 4 duplicate labels removed\n",
      "\u001b[34m\u001b[1mtrain: \u001b[0mWARNING ⚠️ /home/jupyter/work/resources/data_yolo/images/train/cabarga_Кабарга__838.jpg: 1 duplicate labels removed\n",
      "\u001b[34m\u001b[1mtrain: \u001b[0mWARNING ⚠️ /home/jupyter/work/resources/data_yolo/images/train/cabarga_Кабарга__839.jpg: 1 duplicate labels removed\n",
      "\u001b[34m\u001b[1mtrain: \u001b[0mWARNING ⚠️ /home/jupyter/work/resources/data_yolo/images/train/cabarga_Кабарга__844.jpg: 1 duplicate labels removed\n",
      "\u001b[34m\u001b[1mtrain: \u001b[0mWARNING ⚠️ /home/jupyter/work/resources/data_yolo/images/train/cabarga_Кабарга__847.jpg: 1 duplicate labels removed\n",
      "\u001b[34m\u001b[1mtrain: \u001b[0mWARNING ⚠️ /home/jupyter/work/resources/data_yolo/images/train/cabarga_Кабарга__850.jpg: 1 duplicate labels removed\n",
      "\u001b[34m\u001b[1mtrain: \u001b[0mWARNING ⚠️ /home/jupyter/work/resources/data_yolo/images/train/cabarga_Кабарга__858.jpg: 1 duplicate labels removed\n",
      "\u001b[34m\u001b[1mtrain: \u001b[0mWARNING ⚠️ /home/jupyter/work/resources/data_yolo/images/train/cabarga_Кабарга__86.jpg: 2 duplicate labels removed\n",
      "\u001b[34m\u001b[1mtrain: \u001b[0mWARNING ⚠️ /home/jupyter/work/resources/data_yolo/images/train/cabarga_Кабарга__879.jpg: 1 duplicate labels removed\n",
      "\u001b[34m\u001b[1mtrain: \u001b[0mWARNING ⚠️ /home/jupyter/work/resources/data_yolo/images/train/cabarga_Кабарга__943.jpg: 1 duplicate labels removed\n",
      "\u001b[34m\u001b[1mtrain: \u001b[0mWARNING ⚠️ /home/jupyter/work/resources/data_yolo/images/train/cabarga_Кабарга__958.jpg: 1 duplicate labels removed\n",
      "\u001b[34m\u001b[1mtrain: \u001b[0mWARNING ⚠️ /home/jupyter/work/resources/data_yolo/images/train/cabarga_Кабарга__963.jpg: ignoring corrupt image/label: non-normalized or out of bounds coordinates [        683         491         735         598]\n",
      "\u001b[34m\u001b[1mtrain: \u001b[0mWARNING ⚠️ /home/jupyter/work/resources/data_yolo/images/train/cabarga_Кабарга__969.jpg: 1 duplicate labels removed\n",
      "\u001b[34m\u001b[1mtrain: \u001b[0mWARNING ⚠️ /home/jupyter/work/resources/data_yolo/images/train/cabarga_Кабарга__98.jpg: 1 duplicate labels removed\n",
      "\u001b[34m\u001b[1mtrain: \u001b[0mWARNING ⚠️ /home/jupyter/work/resources/data_yolo/images/train/kosul_DSCN1474.JPG: 2 duplicate labels removed\n",
      "\u001b[34m\u001b[1mtrain: \u001b[0mWARNING ⚠️ /home/jupyter/work/resources/data_yolo/images/train/kosul_DSCN1475.JPG: 1 duplicate labels removed\n",
      "\u001b[34m\u001b[1mtrain: \u001b[0mWARNING ⚠️ /home/jupyter/work/resources/data_yolo/images/train/kosul_EK000026.JPG: 1 duplicate labels removed\n",
      "\u001b[34m\u001b[1mtrain: \u001b[0mWARNING ⚠️ /home/jupyter/work/resources/data_yolo/images/train/kosul_EK000027.JPG: 2 duplicate labels removed\n",
      "\u001b[34m\u001b[1mtrain: \u001b[0mWARNING ⚠️ /home/jupyter/work/resources/data_yolo/images/train/kosul_IMAG0013 (6).JPG: 1 duplicate labels removed\n",
      "\u001b[34m\u001b[1mtrain: \u001b[0mWARNING ⚠️ /home/jupyter/work/resources/data_yolo/images/train/kosul_IMAG0055.JPG: 1 duplicate labels removed\n",
      "\u001b[34m\u001b[1mtrain: \u001b[0mWARNING ⚠️ /home/jupyter/work/resources/data_yolo/images/train/kosul_IMAG0056.JPG: 1 duplicate labels removed\n",
      "\u001b[34m\u001b[1mtrain: \u001b[0mWARNING ⚠️ /home/jupyter/work/resources/data_yolo/images/train/kosul_IMAG0059.JPG: 1 duplicate labels removed\n",
      "\u001b[34m\u001b[1mtrain: \u001b[0mWARNING ⚠️ /home/jupyter/work/resources/data_yolo/images/train/kosul_IMAG0196.JPG: 1 duplicate labels removed\n",
      "\u001b[34m\u001b[1mtrain: \u001b[0mWARNING ⚠️ /home/jupyter/work/resources/data_yolo/images/train/kosul_IMAG0198.JPG: 1 duplicate labels removed\n",
      "\u001b[34m\u001b[1mtrain: \u001b[0mWARNING ⚠️ /home/jupyter/work/resources/data_yolo/images/train/kosul_IMAG0285.JPG: 1 duplicate labels removed\n",
      "\u001b[34m\u001b[1mtrain: \u001b[0mWARNING ⚠️ /home/jupyter/work/resources/data_yolo/images/train/kosul_IMAG0337.JPG: 1 duplicate labels removed\n",
      "\u001b[34m\u001b[1mtrain: \u001b[0mWARNING ⚠️ /home/jupyter/work/resources/data_yolo/images/train/kosul_IMAG0830.JPG: 1 duplicate labels removed\n",
      "\u001b[34m\u001b[1mtrain: \u001b[0mWARNING ⚠️ /home/jupyter/work/resources/data_yolo/images/train/kosul_IMAG0831.JPG: 1 duplicate labels removed\n",
      "\u001b[34m\u001b[1mtrain: \u001b[0mWARNING ⚠️ /home/jupyter/work/resources/data_yolo/images/train/kosul_IMAG0844.JPG: 1 duplicate labels removed\n",
      "\u001b[34m\u001b[1mtrain: \u001b[0mWARNING ⚠️ /home/jupyter/work/resources/data_yolo/images/train/kosul_IMAG0845.JPG: 1 duplicate labels removed\n",
      "\u001b[34m\u001b[1mtrain: \u001b[0mWARNING ⚠️ /home/jupyter/work/resources/data_yolo/images/train/kosul_IMAG0865.JPG: 1 duplicate labels removed\n",
      "\u001b[34m\u001b[1mtrain: \u001b[0mWARNING ⚠️ /home/jupyter/work/resources/data_yolo/images/train/kosul_IMAG0877.JPG: 1 duplicate labels removed\n",
      "\u001b[34m\u001b[1mtrain: \u001b[0mWARNING ⚠️ /home/jupyter/work/resources/data_yolo/images/train/kosul_IMAG0885.JPG: 1 duplicate labels removed\n",
      "\u001b[34m\u001b[1mtrain: \u001b[0mWARNING ⚠️ /home/jupyter/work/resources/data_yolo/images/train/kosul_IMAG0898.JPG: 2 duplicate labels removed\n",
      "\u001b[34m\u001b[1mtrain: \u001b[0mWARNING ⚠️ /home/jupyter/work/resources/data_yolo/images/train/kosul_IMAG0901.JPG: 1 duplicate labels removed\n",
      "\u001b[34m\u001b[1mtrain: \u001b[0mWARNING ⚠️ /home/jupyter/work/resources/data_yolo/images/train/kosul_IMAG0915.JPG: 1 duplicate labels removed\n",
      "\u001b[34m\u001b[1mtrain: \u001b[0mWARNING ⚠️ /home/jupyter/work/resources/data_yolo/images/train/kosul_IMAG0922.JPG: 1 duplicate labels removed\n",
      "\u001b[34m\u001b[1mtrain: \u001b[0mWARNING ⚠️ /home/jupyter/work/resources/data_yolo/images/train/kosul_IMAG2105.JPG: 1 duplicate labels removed\n",
      "\u001b[34m\u001b[1mtrain: \u001b[0mWARNING ⚠️ /home/jupyter/work/resources/data_yolo/images/train/kosul_IMAG3615.JPG: 3 duplicate labels removed\n",
      "\u001b[34m\u001b[1mtrain: \u001b[0mWARNING ⚠️ /home/jupyter/work/resources/data_yolo/images/train/kosul_IMAG3617.JPG: 1 duplicate labels removed\n",
      "\u001b[34m\u001b[1mtrain: \u001b[0mWARNING ⚠️ /home/jupyter/work/resources/data_yolo/images/train/kosul_IMAG3618.JPG: 1 duplicate labels removed\n",
      "\u001b[34m\u001b[1mtrain: \u001b[0mWARNING ⚠️ /home/jupyter/work/resources/data_yolo/images/train/kosul_IMAG3620.JPG: 1 duplicate labels removed\n",
      "\u001b[34m\u001b[1mtrain: \u001b[0mWARNING ⚠️ /home/jupyter/work/resources/data_yolo/images/train/kosul_IMAG3621.JPG: 1 duplicate labels removed\n",
      "\u001b[34m\u001b[1mtrain: \u001b[0mWARNING ⚠️ /home/jupyter/work/resources/data_yolo/images/train/kosul_IMG_0012.JPG: 2 duplicate labels removed\n",
      "\u001b[34m\u001b[1mtrain: \u001b[0mWARNING ⚠️ /home/jupyter/work/resources/data_yolo/images/train/kosul_IMG_0020.JPG: 1 duplicate labels removed\n",
      "\u001b[34m\u001b[1mtrain: \u001b[0mWARNING ⚠️ /home/jupyter/work/resources/data_yolo/images/train/kosul_IMG_0026.JPG: 1 duplicate labels removed\n",
      "\u001b[34m\u001b[1mtrain: \u001b[0mWARNING ⚠️ /home/jupyter/work/resources/data_yolo/images/train/kosul_IMG_0031_1.JPG: 1 duplicate labels removed\n",
      "\u001b[34m\u001b[1mtrain: \u001b[0mWARNING ⚠️ /home/jupyter/work/resources/data_yolo/images/train/kosul_IMG_0033.JPG: 1 duplicate labels removed\n",
      "\u001b[34m\u001b[1mtrain: \u001b[0mWARNING ⚠️ /home/jupyter/work/resources/data_yolo/images/train/kosul_IMG_0040.JPG: 1 duplicate labels removed\n",
      "\u001b[34m\u001b[1mtrain: \u001b[0mWARNING ⚠️ /home/jupyter/work/resources/data_yolo/images/train/kosul_IMG_0049.JPG: 1 duplicate labels removed\n",
      "\u001b[34m\u001b[1mtrain: \u001b[0mWARNING ⚠️ /home/jupyter/work/resources/data_yolo/images/train/kosul_IMG_0066.JPG: 1 duplicate labels removed\n",
      "\u001b[34m\u001b[1mtrain: \u001b[0mWARNING ⚠️ /home/jupyter/work/resources/data_yolo/images/train/kosul_IMG_0071.JPG: 1 duplicate labels removed\n",
      "\u001b[34m\u001b[1mtrain: \u001b[0mWARNING ⚠️ /home/jupyter/work/resources/data_yolo/images/train/kosul_IMG_0078.JPG: 2 duplicate labels removed\n",
      "\u001b[34m\u001b[1mtrain: \u001b[0mWARNING ⚠️ /home/jupyter/work/resources/data_yolo/images/train/kosul_IMG_0097_1.JPG: 2 duplicate labels removed\n",
      "\u001b[34m\u001b[1mtrain: \u001b[0mWARNING ⚠️ /home/jupyter/work/resources/data_yolo/images/train/kosul_IMG_0098.JPG: 1 duplicate labels removed\n",
      "\u001b[34m\u001b[1mtrain: \u001b[0mWARNING ⚠️ /home/jupyter/work/resources/data_yolo/images/train/kosul_IMG_0101.JPG: 1 duplicate labels removed\n",
      "\u001b[34m\u001b[1mtrain: \u001b[0mWARNING ⚠️ /home/jupyter/work/resources/data_yolo/images/train/kosul_IMG_0106_1.JPG: 2 duplicate labels removed\n",
      "\u001b[34m\u001b[1mtrain: \u001b[0mWARNING ⚠️ /home/jupyter/work/resources/data_yolo/images/train/kosul_IMG_0108_2.JPG: 1 duplicate labels removed\n",
      "\u001b[34m\u001b[1mtrain: \u001b[0mWARNING ⚠️ /home/jupyter/work/resources/data_yolo/images/train/kosul_IMG_0169.JPG: 1 duplicate labels removed\n",
      "\u001b[34m\u001b[1mtrain: \u001b[0mWARNING ⚠️ /home/jupyter/work/resources/data_yolo/images/train/kosul_IMG_0170.JPG: 1 duplicate labels removed\n",
      "\u001b[34m\u001b[1mtrain: \u001b[0mWARNING ⚠️ /home/jupyter/work/resources/data_yolo/images/train/kosul_IMG_0170_1.JPG: 1 duplicate labels removed\n",
      "\u001b[34m\u001b[1mtrain: \u001b[0mWARNING ⚠️ /home/jupyter/work/resources/data_yolo/images/train/kosul_IMG_0172.JPG: 1 duplicate labels removed\n",
      "\u001b[34m\u001b[1mtrain: \u001b[0mWARNING ⚠️ /home/jupyter/work/resources/data_yolo/images/train/kosul_IMG_0754.JPG: 1 duplicate labels removed\n",
      "\u001b[34m\u001b[1mtrain: \u001b[0mWARNING ⚠️ /home/jupyter/work/resources/data_yolo/images/train/kosul_IMG_0761.JPG: 1 duplicate labels removed\n",
      "\u001b[34m\u001b[1mtrain: \u001b[0mWARNING ⚠️ /home/jupyter/work/resources/data_yolo/images/train/kosul_IMG_0862.JPG: 1 duplicate labels removed\n",
      "\u001b[34m\u001b[1mtrain: \u001b[0mWARNING ⚠️ /home/jupyter/work/resources/data_yolo/images/train/kosul_IMG_1686.JPG: 1 duplicate labels removed\n",
      "\u001b[34m\u001b[1mtrain: \u001b[0mWARNING ⚠️ /home/jupyter/work/resources/data_yolo/images/train/kosul_IMG_1713.JPG: 2 duplicate labels removed\n",
      "\u001b[34m\u001b[1mtrain: \u001b[0mWARNING ⚠️ /home/jupyter/work/resources/data_yolo/images/train/kosul_IMG_1718.JPG: 1 duplicate labels removed\n",
      "\u001b[34m\u001b[1mtrain: \u001b[0mWARNING ⚠️ /home/jupyter/work/resources/data_yolo/images/train/kosul_IMG_1734.JPG: 1 duplicate labels removed\n",
      "\u001b[34m\u001b[1mtrain: \u001b[0mWARNING ⚠️ /home/jupyter/work/resources/data_yolo/images/train/kosul_IMG_1735.JPG: 1 duplicate labels removed\n",
      "\u001b[34m\u001b[1mtrain: \u001b[0mWARNING ⚠️ /home/jupyter/work/resources/data_yolo/images/train/kosul_IMG_1833.JPG: 1 duplicate labels removed\n",
      "\u001b[34m\u001b[1mtrain: \u001b[0mWARNING ⚠️ /home/jupyter/work/resources/data_yolo/images/train/kosul_IMG_1843.JPG: 1 duplicate labels removed\n",
      "\u001b[34m\u001b[1mtrain: \u001b[0mWARNING ⚠️ /home/jupyter/work/resources/data_yolo/images/train/kosul_IMG_2009.JPG: 1 duplicate labels removed\n",
      "\u001b[34m\u001b[1mtrain: \u001b[0mWARNING ⚠️ /home/jupyter/work/resources/data_yolo/images/train/kosul_IMG_2023.JPG: 1 duplicate labels removed\n",
      "\u001b[34m\u001b[1mtrain: \u001b[0mWARNING ⚠️ /home/jupyter/work/resources/data_yolo/images/train/kosul_IMG_2024.JPG: 1 duplicate labels removed\n",
      "\u001b[34m\u001b[1mtrain: \u001b[0mWARNING ⚠️ /home/jupyter/work/resources/data_yolo/images/train/kosul_IMG_2042.JPG: 1 duplicate labels removed\n",
      "\u001b[34m\u001b[1mtrain: \u001b[0mWARNING ⚠️ /home/jupyter/work/resources/data_yolo/images/train/kosul_IMG_2046.JPG: 1 duplicate labels removed\n",
      "\u001b[34m\u001b[1mtrain: \u001b[0mWARNING ⚠️ /home/jupyter/work/resources/data_yolo/images/train/kosul_IMG_2047.JPG: 1 duplicate labels removed\n",
      "\u001b[34m\u001b[1mtrain: \u001b[0mWARNING ⚠️ /home/jupyter/work/resources/data_yolo/images/train/kosul_IMG_2052.JPG: 1 duplicate labels removed\n",
      "\u001b[34m\u001b[1mtrain: \u001b[0mWARNING ⚠️ /home/jupyter/work/resources/data_yolo/images/train/kosul_Im_0000001.jpg: 1 duplicate labels removed\n",
      "\u001b[34m\u001b[1mtrain: \u001b[0mWARNING ⚠️ /home/jupyter/work/resources/data_yolo/images/train/kosul_Im_0000025.jpg: 4 duplicate labels removed\n",
      "\u001b[34m\u001b[1mtrain: \u001b[0mWARNING ⚠️ /home/jupyter/work/resources/data_yolo/images/train/kosul_Im_0000038.jpg: 1 duplicate labels removed\n",
      "\u001b[34m\u001b[1mtrain: \u001b[0mWARNING ⚠️ /home/jupyter/work/resources/data_yolo/images/train/kosul_Im_0000043.jpg: 1 duplicate labels removed\n",
      "\u001b[34m\u001b[1mtrain: \u001b[0mWARNING ⚠️ /home/jupyter/work/resources/data_yolo/images/train/kosul_Im_0000061_1.jpg: 4 duplicate labels removed\n",
      "\u001b[34m\u001b[1mtrain: \u001b[0mWARNING ⚠️ /home/jupyter/work/resources/data_yolo/images/train/kosul_Im_0000072_1.jpg: 1 duplicate labels removed\n",
      "\u001b[34m\u001b[1mtrain: \u001b[0mWARNING ⚠️ /home/jupyter/work/resources/data_yolo/images/train/kosul_Im_0000096.jpg: 5 duplicate labels removed\n",
      "\u001b[34m\u001b[1mtrain: \u001b[0mWARNING ⚠️ /home/jupyter/work/resources/data_yolo/images/train/kosul_Im_0000104.jpg: 1 duplicate labels removed\n",
      "\u001b[34m\u001b[1mtrain: \u001b[0mWARNING ⚠️ /home/jupyter/work/resources/data_yolo/images/train/kosul_Im_0000129_1.jpg: 1 duplicate labels removed\n",
      "\u001b[34m\u001b[1mtrain: \u001b[0mWARNING ⚠️ /home/jupyter/work/resources/data_yolo/images/train/kosul_Im_0000137.jpg: 3 duplicate labels removed\n",
      "\u001b[34m\u001b[1mtrain: \u001b[0mWARNING ⚠️ /home/jupyter/work/resources/data_yolo/images/train/kosul_Im_0000141_1.jpg: 1 duplicate labels removed\n",
      "\u001b[34m\u001b[1mtrain: \u001b[0mWARNING ⚠️ /home/jupyter/work/resources/data_yolo/images/train/kosul_Im_0000182_2.jpg: 1 duplicate labels removed\n",
      "\u001b[34m\u001b[1mtrain: \u001b[0mWARNING ⚠️ /home/jupyter/work/resources/data_yolo/images/train/kosul_Im_0000221.jpg: 4 duplicate labels removed\n",
      "\u001b[34m\u001b[1mtrain: \u001b[0mWARNING ⚠️ /home/jupyter/work/resources/data_yolo/images/train/kosul_Im_0000226.jpg: 1 duplicate labels removed\n",
      "\u001b[34m\u001b[1mtrain: \u001b[0mWARNING ⚠️ /home/jupyter/work/resources/data_yolo/images/train/kosul_Im_0000244.jpg: 5 duplicate labels removed\n",
      "\u001b[34m\u001b[1mtrain: \u001b[0mWARNING ⚠️ /home/jupyter/work/resources/data_yolo/images/train/kosul_Im_0000253.jpg: 1 duplicate labels removed\n",
      "\u001b[34m\u001b[1mtrain: \u001b[0mWARNING ⚠️ /home/jupyter/work/resources/data_yolo/images/train/kosul_Im_0000258.jpg: 3 duplicate labels removed\n",
      "\u001b[34m\u001b[1mtrain: \u001b[0mWARNING ⚠️ /home/jupyter/work/resources/data_yolo/images/train/kosul_Im_0000259.jpg: 1 duplicate labels removed\n",
      "\u001b[34m\u001b[1mtrain: \u001b[0mWARNING ⚠️ /home/jupyter/work/resources/data_yolo/images/train/kosul_Im_0000265.jpg: 6 duplicate labels removed\n",
      "\u001b[34m\u001b[1mtrain: \u001b[0mWARNING ⚠️ /home/jupyter/work/resources/data_yolo/images/train/kosul_Im_0000268.jpg: 1 duplicate labels removed\n",
      "\u001b[34m\u001b[1mtrain: \u001b[0mWARNING ⚠️ /home/jupyter/work/resources/data_yolo/images/train/kosul_Im_0000282.jpg: 1 duplicate labels removed\n",
      "\u001b[34m\u001b[1mtrain: \u001b[0mWARNING ⚠️ /home/jupyter/work/resources/data_yolo/images/train/kosul_Im_0000296.jpg: 1 duplicate labels removed\n",
      "\u001b[34m\u001b[1mtrain: \u001b[0mWARNING ⚠️ /home/jupyter/work/resources/data_yolo/images/train/kosul_Im_0000306_1.jpg: 2 duplicate labels removed\n",
      "\u001b[34m\u001b[1mtrain: \u001b[0mWARNING ⚠️ /home/jupyter/work/resources/data_yolo/images/train/kosul_Im_0000309.jpg: 1 duplicate labels removed\n",
      "\u001b[34m\u001b[1mtrain: \u001b[0mWARNING ⚠️ /home/jupyter/work/resources/data_yolo/images/train/kosul_Im_0000323.jpg: 1 duplicate labels removed\n",
      "\u001b[34m\u001b[1mtrain: \u001b[0mWARNING ⚠️ /home/jupyter/work/resources/data_yolo/images/train/kosul_Im_0000338.jpg: 1 duplicate labels removed\n",
      "\u001b[34m\u001b[1mtrain: \u001b[0mWARNING ⚠️ /home/jupyter/work/resources/data_yolo/images/train/kosul_Im_0000342_1.jpg: 3 duplicate labels removed\n",
      "\u001b[34m\u001b[1mtrain: \u001b[0mWARNING ⚠️ /home/jupyter/work/resources/data_yolo/images/train/kosul_Im_0000390.jpg: 1 duplicate labels removed\n",
      "\u001b[34m\u001b[1mtrain: \u001b[0mWARNING ⚠️ /home/jupyter/work/resources/data_yolo/images/train/kosul_Im_0000399_1.jpg: 1 duplicate labels removed\n",
      "\u001b[34m\u001b[1mtrain: \u001b[0mWARNING ⚠️ /home/jupyter/work/resources/data_yolo/images/train/kosul_Im_0000401_1.jpg: 2 duplicate labels removed\n",
      "\u001b[34m\u001b[1mtrain: \u001b[0mWARNING ⚠️ /home/jupyter/work/resources/data_yolo/images/train/kosul_Im_0000418_1.jpg: 2 duplicate labels removed\n",
      "\u001b[34m\u001b[1mtrain: \u001b[0mWARNING ⚠️ /home/jupyter/work/resources/data_yolo/images/train/kosul_Im_0000444_1.jpg: 1 duplicate labels removed\n",
      "\u001b[34m\u001b[1mtrain: \u001b[0mWARNING ⚠️ /home/jupyter/work/resources/data_yolo/images/train/kosul_Im_0000462.jpg: 1 duplicate labels removed\n",
      "\u001b[34m\u001b[1mtrain: \u001b[0mWARNING ⚠️ /home/jupyter/work/resources/data_yolo/images/train/kosul_Im_0000464.jpg: 1 duplicate labels removed\n",
      "\u001b[34m\u001b[1mtrain: \u001b[0mWARNING ⚠️ /home/jupyter/work/resources/data_yolo/images/train/kosul_Im_0000499.jpg: 1 duplicate labels removed\n",
      "\u001b[34m\u001b[1mtrain: \u001b[0mWARNING ⚠️ /home/jupyter/work/resources/data_yolo/images/train/kosul_Im_0000499_1.jpg: 1 duplicate labels removed\n",
      "\u001b[34m\u001b[1mtrain: \u001b[0mWARNING ⚠️ /home/jupyter/work/resources/data_yolo/images/train/kosul_Im_0000508.jpg: 1 duplicate labels removed\n",
      "\u001b[34m\u001b[1mtrain: \u001b[0mWARNING ⚠️ /home/jupyter/work/resources/data_yolo/images/train/kosul_Im_0000523.jpg: 1 duplicate labels removed\n",
      "\u001b[34m\u001b[1mtrain: \u001b[0mWARNING ⚠️ /home/jupyter/work/resources/data_yolo/images/train/kosul_Im_0000528.jpg: 1 duplicate labels removed\n",
      "\u001b[34m\u001b[1mtrain: \u001b[0mWARNING ⚠️ /home/jupyter/work/resources/data_yolo/images/train/kosul_Im_0000542.jpg: 3 duplicate labels removed\n",
      "\u001b[34m\u001b[1mtrain: \u001b[0mWARNING ⚠️ /home/jupyter/work/resources/data_yolo/images/train/kosul_Im_0000545_1.jpg: 2 duplicate labels removed\n",
      "\u001b[34m\u001b[1mtrain: \u001b[0mWARNING ⚠️ /home/jupyter/work/resources/data_yolo/images/train/kosul_Im_0000549.jpg: 2 duplicate labels removed\n",
      "\u001b[34m\u001b[1mtrain: \u001b[0mWARNING ⚠️ /home/jupyter/work/resources/data_yolo/images/train/kosul_Im_0000572.jpg: 1 duplicate labels removed\n",
      "\u001b[34m\u001b[1mtrain: \u001b[0mWARNING ⚠️ /home/jupyter/work/resources/data_yolo/images/train/kosul_Im_0000574.jpg: 4 duplicate labels removed\n",
      "\u001b[34m\u001b[1mtrain: \u001b[0mWARNING ⚠️ /home/jupyter/work/resources/data_yolo/images/train/kosul_Im_0000594_1.jpg: 7 duplicate labels removed\n",
      "\u001b[34m\u001b[1mtrain: \u001b[0mWARNING ⚠️ /home/jupyter/work/resources/data_yolo/images/train/kosul_Im_0000599.jpg: 1 duplicate labels removed\n",
      "\u001b[34m\u001b[1mtrain: \u001b[0mWARNING ⚠️ /home/jupyter/work/resources/data_yolo/images/train/kosul_Im_0000611.jpg: 1 duplicate labels removed\n",
      "\u001b[34m\u001b[1mtrain: \u001b[0mWARNING ⚠️ /home/jupyter/work/resources/data_yolo/images/train/kosul_Im_0000618.jpg: 1 duplicate labels removed\n",
      "\u001b[34m\u001b[1mtrain: \u001b[0mWARNING ⚠️ /home/jupyter/work/resources/data_yolo/images/train/kosul_Im_0000648.jpg: 1 duplicate labels removed\n",
      "\u001b[34m\u001b[1mtrain: \u001b[0mWARNING ⚠️ /home/jupyter/work/resources/data_yolo/images/train/kosul_Im_0000651.jpg: 1 duplicate labels removed\n",
      "\u001b[34m\u001b[1mtrain: \u001b[0mWARNING ⚠️ /home/jupyter/work/resources/data_yolo/images/train/kosul_Im_0000664.jpg: 1 duplicate labels removed\n",
      "\u001b[34m\u001b[1mtrain: \u001b[0mWARNING ⚠️ /home/jupyter/work/resources/data_yolo/images/train/kosul_Im_0000677.jpg: 1 duplicate labels removed\n",
      "\u001b[34m\u001b[1mtrain: \u001b[0mWARNING ⚠️ /home/jupyter/work/resources/data_yolo/images/train/kosul_Im_0000678.jpg: 1 duplicate labels removed\n",
      "\u001b[34m\u001b[1mtrain: \u001b[0mWARNING ⚠️ /home/jupyter/work/resources/data_yolo/images/train/kosul_Im_0000688.jpg: 1 duplicate labels removed\n",
      "\u001b[34m\u001b[1mtrain: \u001b[0mWARNING ⚠️ /home/jupyter/work/resources/data_yolo/images/train/kosul_Im_0000692.jpg: 2 duplicate labels removed\n",
      "\u001b[34m\u001b[1mtrain: \u001b[0mWARNING ⚠️ /home/jupyter/work/resources/data_yolo/images/train/kosul_Im_0000699.jpg: 1 duplicate labels removed\n",
      "\u001b[34m\u001b[1mtrain: \u001b[0mWARNING ⚠️ /home/jupyter/work/resources/data_yolo/images/train/kosul_Im_0000703.jpg: 1 duplicate labels removed\n",
      "\u001b[34m\u001b[1mtrain: \u001b[0mWARNING ⚠️ /home/jupyter/work/resources/data_yolo/images/train/kosul_Im_0000707.jpg: 5 duplicate labels removed\n",
      "\u001b[34m\u001b[1mtrain: \u001b[0mWARNING ⚠️ /home/jupyter/work/resources/data_yolo/images/train/kosul_Im_0000709_2.jpg: 2 duplicate labels removed\n",
      "\u001b[34m\u001b[1mtrain: \u001b[0mWARNING ⚠️ /home/jupyter/work/resources/data_yolo/images/train/kosul_Im_0000717.jpg: 2 duplicate labels removed\n",
      "\u001b[34m\u001b[1mtrain: \u001b[0mWARNING ⚠️ /home/jupyter/work/resources/data_yolo/images/train/kosul_Im_0000736_1.jpg: 2 duplicate labels removed\n",
      "\u001b[34m\u001b[1mtrain: \u001b[0mWARNING ⚠️ /home/jupyter/work/resources/data_yolo/images/train/kosul_Im_0000750.jpg: 1 duplicate labels removed\n",
      "\u001b[34m\u001b[1mtrain: \u001b[0mWARNING ⚠️ /home/jupyter/work/resources/data_yolo/images/train/kosul_Im_0000764.jpg: 1 duplicate labels removed\n",
      "\u001b[34m\u001b[1mtrain: \u001b[0mWARNING ⚠️ /home/jupyter/work/resources/data_yolo/images/train/kosul_Im_0000775.jpg: 1 duplicate labels removed\n",
      "\u001b[34m\u001b[1mtrain: \u001b[0mWARNING ⚠️ /home/jupyter/work/resources/data_yolo/images/train/kosul_Im_0000806_1.jpg: 1 duplicate labels removed\n",
      "\u001b[34m\u001b[1mtrain: \u001b[0mWARNING ⚠️ /home/jupyter/work/resources/data_yolo/images/train/kosul_Im_0000808.jpg: 1 duplicate labels removed\n",
      "\u001b[34m\u001b[1mtrain: \u001b[0mWARNING ⚠️ /home/jupyter/work/resources/data_yolo/images/train/kosul_Im_0000816.jpg: 3 duplicate labels removed\n",
      "\u001b[34m\u001b[1mtrain: \u001b[0mWARNING ⚠️ /home/jupyter/work/resources/data_yolo/images/train/kosul_Im_0000831.jpg: 1 duplicate labels removed\n",
      "\u001b[34m\u001b[1mtrain: \u001b[0mWARNING ⚠️ /home/jupyter/work/resources/data_yolo/images/train/kosul_Im_0000839_1.jpg: 1 duplicate labels removed\n",
      "\u001b[34m\u001b[1mtrain: \u001b[0mWARNING ⚠️ /home/jupyter/work/resources/data_yolo/images/train/kosul_Im_0000842.jpg: 3 duplicate labels removed\n",
      "\u001b[34m\u001b[1mtrain: \u001b[0mWARNING ⚠️ /home/jupyter/work/resources/data_yolo/images/train/kosul_Im_0000870.jpg: 2 duplicate labels removed\n",
      "\u001b[34m\u001b[1mtrain: \u001b[0mWARNING ⚠️ /home/jupyter/work/resources/data_yolo/images/train/kosul_Im_0000880_1.jpg: 1 duplicate labels removed\n",
      "\u001b[34m\u001b[1mtrain: \u001b[0mWARNING ⚠️ /home/jupyter/work/resources/data_yolo/images/train/kosul_Im_0000884_1.jpg: 2 duplicate labels removed\n",
      "\u001b[34m\u001b[1mtrain: \u001b[0mWARNING ⚠️ /home/jupyter/work/resources/data_yolo/images/train/kosul_Im_0000885.jpg: 1 duplicate labels removed\n",
      "\u001b[34m\u001b[1mtrain: \u001b[0mWARNING ⚠️ /home/jupyter/work/resources/data_yolo/images/train/kosul_Im_0000891.jpg: 2 duplicate labels removed\n",
      "\u001b[34m\u001b[1mtrain: \u001b[0mWARNING ⚠️ /home/jupyter/work/resources/data_yolo/images/train/kosul_Im_0000903.jpg: 2 duplicate labels removed\n",
      "\u001b[34m\u001b[1mtrain: \u001b[0mWARNING ⚠️ /home/jupyter/work/resources/data_yolo/images/train/kosul_Im_0000948.jpg: 1 duplicate labels removed\n",
      "\u001b[34m\u001b[1mtrain: \u001b[0mWARNING ⚠️ /home/jupyter/work/resources/data_yolo/images/train/kosul_Im_0000950.jpg: 1 duplicate labels removed\n",
      "\u001b[34m\u001b[1mtrain: \u001b[0mWARNING ⚠️ /home/jupyter/work/resources/data_yolo/images/train/kosul_Im_0000974.jpg: 1 duplicate labels removed\n",
      "\u001b[34m\u001b[1mtrain: \u001b[0mWARNING ⚠️ /home/jupyter/work/resources/data_yolo/images/train/kosul_Im_0001003.jpg: 1 duplicate labels removed\n",
      "\u001b[34m\u001b[1mtrain: \u001b[0mWARNING ⚠️ /home/jupyter/work/resources/data_yolo/images/train/kosul_Im_0001011.jpg: 3 duplicate labels removed\n",
      "\u001b[34m\u001b[1mtrain: \u001b[0mWARNING ⚠️ /home/jupyter/work/resources/data_yolo/images/train/kosul_Im_0001033.jpg: 2 duplicate labels removed\n",
      "\u001b[34m\u001b[1mtrain: \u001b[0mWARNING ⚠️ /home/jupyter/work/resources/data_yolo/images/train/kosul_Im_0001053.jpg: 1 duplicate labels removed\n",
      "\u001b[34m\u001b[1mtrain: \u001b[0mWARNING ⚠️ /home/jupyter/work/resources/data_yolo/images/train/kosul_Im_0001069.jpg: 1 duplicate labels removed\n",
      "\u001b[34m\u001b[1mtrain: \u001b[0mWARNING ⚠️ /home/jupyter/work/resources/data_yolo/images/train/kosul_Im_0001083.jpg: 2 duplicate labels removed\n",
      "\u001b[34m\u001b[1mtrain: \u001b[0mWARNING ⚠️ /home/jupyter/work/resources/data_yolo/images/train/kosul_Im_0001088.jpg: 1 duplicate labels removed\n",
      "\u001b[34m\u001b[1mtrain: \u001b[0mWARNING ⚠️ /home/jupyter/work/resources/data_yolo/images/train/kosul_Im_0001097.jpg: 1 duplicate labels removed\n",
      "\u001b[34m\u001b[1mtrain: \u001b[0mWARNING ⚠️ /home/jupyter/work/resources/data_yolo/images/train/kosul_Im_0001107.jpg: 4 duplicate labels removed\n",
      "\u001b[34m\u001b[1mtrain: \u001b[0mWARNING ⚠️ /home/jupyter/work/resources/data_yolo/images/train/kosul_Im_0001107_1.jpg: 1 duplicate labels removed\n",
      "\u001b[34m\u001b[1mtrain: \u001b[0mWARNING ⚠️ /home/jupyter/work/resources/data_yolo/images/train/kosul_Im_0001125.jpg: 2 duplicate labels removed\n",
      "\u001b[34m\u001b[1mtrain: \u001b[0mWARNING ⚠️ /home/jupyter/work/resources/data_yolo/images/train/kosul_Im_0001134.jpg: 1 duplicate labels removed\n",
      "\u001b[34m\u001b[1mtrain: \u001b[0mWARNING ⚠️ /home/jupyter/work/resources/data_yolo/images/train/kosul_Im_0001152.jpg: 1 duplicate labels removed\n",
      "\u001b[34m\u001b[1mtrain: \u001b[0mWARNING ⚠️ /home/jupyter/work/resources/data_yolo/images/train/kosul_Im_0001191.jpg: 1 duplicate labels removed\n",
      "\u001b[34m\u001b[1mtrain: \u001b[0mWARNING ⚠️ /home/jupyter/work/resources/data_yolo/images/train/kosul_Im_0001192.jpg: 2 duplicate labels removed\n",
      "\u001b[34m\u001b[1mtrain: \u001b[0mWARNING ⚠️ /home/jupyter/work/resources/data_yolo/images/train/kosul_Im_0001220.jpg: 1 duplicate labels removed\n",
      "\u001b[34m\u001b[1mtrain: \u001b[0mWARNING ⚠️ /home/jupyter/work/resources/data_yolo/images/train/kosul_Im_0001250.jpg: 1 duplicate labels removed\n",
      "\u001b[34m\u001b[1mtrain: \u001b[0mWARNING ⚠️ /home/jupyter/work/resources/data_yolo/images/train/kosul_Im_0001253.jpg: 3 duplicate labels removed\n",
      "\u001b[34m\u001b[1mtrain: \u001b[0mWARNING ⚠️ /home/jupyter/work/resources/data_yolo/images/train/kosul_Im_0001254_1.jpg: 1 duplicate labels removed\n",
      "\u001b[34m\u001b[1mtrain: \u001b[0mWARNING ⚠️ /home/jupyter/work/resources/data_yolo/images/train/kosul_Im_0001258.jpg: 1 duplicate labels removed\n",
      "\u001b[34m\u001b[1mtrain: \u001b[0mWARNING ⚠️ /home/jupyter/work/resources/data_yolo/images/train/kosul_Im_0001268_1.jpg: 1 duplicate labels removed\n",
      "\u001b[34m\u001b[1mtrain: \u001b[0mWARNING ⚠️ /home/jupyter/work/resources/data_yolo/images/train/kosul_Im_0001286.jpg: 1 duplicate labels removed\n",
      "\u001b[34m\u001b[1mtrain: \u001b[0mWARNING ⚠️ /home/jupyter/work/resources/data_yolo/images/train/kosul_Im_0001298.jpg: 1 duplicate labels removed\n",
      "\u001b[34m\u001b[1mtrain: \u001b[0mWARNING ⚠️ /home/jupyter/work/resources/data_yolo/images/train/kosul_Im_0001302.jpg: 2 duplicate labels removed\n",
      "\u001b[34m\u001b[1mtrain: \u001b[0mWARNING ⚠️ /home/jupyter/work/resources/data_yolo/images/train/kosul_Im_0001303_2.jpg: 1 duplicate labels removed\n",
      "\u001b[34m\u001b[1mtrain: \u001b[0mWARNING ⚠️ /home/jupyter/work/resources/data_yolo/images/train/kosul_Im_0001305.jpg: 1 duplicate labels removed\n",
      "\u001b[34m\u001b[1mtrain: \u001b[0mWARNING ⚠️ /home/jupyter/work/resources/data_yolo/images/train/kosul_Im_0001323.jpg: 1 duplicate labels removed\n",
      "\u001b[34m\u001b[1mtrain: \u001b[0mWARNING ⚠️ /home/jupyter/work/resources/data_yolo/images/train/kosul_Im_0001328.jpg: 1 duplicate labels removed\n",
      "\u001b[34m\u001b[1mtrain: \u001b[0mWARNING ⚠️ /home/jupyter/work/resources/data_yolo/images/train/kosul_Im_0001334.jpg: 1 duplicate labels removed\n",
      "\u001b[34m\u001b[1mtrain: \u001b[0mWARNING ⚠️ /home/jupyter/work/resources/data_yolo/images/train/kosul_Im_0001353.jpg: 1 duplicate labels removed\n",
      "\u001b[34m\u001b[1mtrain: \u001b[0mWARNING ⚠️ /home/jupyter/work/resources/data_yolo/images/train/kosul_Im_0001363_1.jpg: 1 duplicate labels removed\n",
      "\u001b[34m\u001b[1mtrain: \u001b[0mWARNING ⚠️ /home/jupyter/work/resources/data_yolo/images/train/kosul_Im_0001366.jpg: 3 duplicate labels removed\n",
      "\u001b[34m\u001b[1mtrain: \u001b[0mWARNING ⚠️ /home/jupyter/work/resources/data_yolo/images/train/kosul_Im_0001390.jpg: 1 duplicate labels removed\n",
      "\u001b[34m\u001b[1mtrain: \u001b[0mWARNING ⚠️ /home/jupyter/work/resources/data_yolo/images/train/kosul_Im_0001391.jpg: 2 duplicate labels removed\n",
      "\u001b[34m\u001b[1mtrain: \u001b[0mWARNING ⚠️ /home/jupyter/work/resources/data_yolo/images/train/kosul_Im_0001399_1.jpg: 3 duplicate labels removed\n",
      "\u001b[34m\u001b[1mtrain: \u001b[0mWARNING ⚠️ /home/jupyter/work/resources/data_yolo/images/train/kosul_Im_0001401.jpg: 5 duplicate labels removed\n",
      "\u001b[34m\u001b[1mtrain: \u001b[0mWARNING ⚠️ /home/jupyter/work/resources/data_yolo/images/train/kosul_Im_0001419.jpg: 1 duplicate labels removed\n",
      "\u001b[34m\u001b[1mtrain: \u001b[0mWARNING ⚠️ /home/jupyter/work/resources/data_yolo/images/train/kosul_Im_0001420.jpg: 1 duplicate labels removed\n",
      "\u001b[34m\u001b[1mtrain: \u001b[0mWARNING ⚠️ /home/jupyter/work/resources/data_yolo/images/train/kosul_Im_0001429.jpg: 2 duplicate labels removed\n",
      "\u001b[34m\u001b[1mtrain: \u001b[0mWARNING ⚠️ /home/jupyter/work/resources/data_yolo/images/train/kosul_Im_0001444.jpg: 1 duplicate labels removed\n",
      "\u001b[34m\u001b[1mtrain: \u001b[0mWARNING ⚠️ /home/jupyter/work/resources/data_yolo/images/train/kosul_Im_0001454.jpg: 1 duplicate labels removed\n",
      "\u001b[34m\u001b[1mtrain: \u001b[0mWARNING ⚠️ /home/jupyter/work/resources/data_yolo/images/train/kosul_Im_0001463.jpg: 1 duplicate labels removed\n",
      "\u001b[34m\u001b[1mtrain: \u001b[0mWARNING ⚠️ /home/jupyter/work/resources/data_yolo/images/train/kosul_Im_0001474.jpg: 1 duplicate labels removed\n",
      "\u001b[34m\u001b[1mtrain: \u001b[0mWARNING ⚠️ /home/jupyter/work/resources/data_yolo/images/train/kosul_Im_0001492.jpg: 1 duplicate labels removed\n",
      "\u001b[34m\u001b[1mtrain: \u001b[0mWARNING ⚠️ /home/jupyter/work/resources/data_yolo/images/train/kosul_Im_0001504_1.jpg: 2 duplicate labels removed\n",
      "\u001b[34m\u001b[1mtrain: \u001b[0mWARNING ⚠️ /home/jupyter/work/resources/data_yolo/images/train/kosul_Im_0001583.jpg: 1 duplicate labels removed\n",
      "\u001b[34m\u001b[1mtrain: \u001b[0mWARNING ⚠️ /home/jupyter/work/resources/data_yolo/images/train/kosul_Im_0001587.jpg: 2 duplicate labels removed\n",
      "\u001b[34m\u001b[1mtrain: \u001b[0mWARNING ⚠️ /home/jupyter/work/resources/data_yolo/images/train/kosul_Im_0001587_1.jpg: 1 duplicate labels removed\n",
      "\u001b[34m\u001b[1mtrain: \u001b[0mWARNING ⚠️ /home/jupyter/work/resources/data_yolo/images/train/kosul_Im_0001610.jpg: 1 duplicate labels removed\n",
      "\u001b[34m\u001b[1mtrain: \u001b[0mWARNING ⚠️ /home/jupyter/work/resources/data_yolo/images/train/kosul_Im_0001633.jpg: 1 duplicate labels removed\n",
      "\u001b[34m\u001b[1mtrain: \u001b[0mWARNING ⚠️ /home/jupyter/work/resources/data_yolo/images/train/kosul_Im_0001636.jpg: 1 duplicate labels removed\n",
      "\u001b[34m\u001b[1mtrain: \u001b[0mWARNING ⚠️ /home/jupyter/work/resources/data_yolo/images/train/kosul_Im_0001638.jpg: 2 duplicate labels removed\n",
      "\u001b[34m\u001b[1mtrain: \u001b[0mWARNING ⚠️ /home/jupyter/work/resources/data_yolo/images/train/kosul_Im_0001653.jpg: 4 duplicate labels removed\n",
      "\u001b[34m\u001b[1mtrain: \u001b[0mWARNING ⚠️ /home/jupyter/work/resources/data_yolo/images/train/kosul_Im_0001691_1.jpg: 1 duplicate labels removed\n",
      "\u001b[34m\u001b[1mtrain: \u001b[0mWARNING ⚠️ /home/jupyter/work/resources/data_yolo/images/train/kosul_Im_0001694.jpg: 1 duplicate labels removed\n",
      "\u001b[34m\u001b[1mtrain: \u001b[0mWARNING ⚠️ /home/jupyter/work/resources/data_yolo/images/train/kosul_Im_0001710.jpg: 2 duplicate labels removed\n",
      "\u001b[34m\u001b[1mtrain: \u001b[0mWARNING ⚠️ /home/jupyter/work/resources/data_yolo/images/train/kosul_Im_0001718.jpg: 1 duplicate labels removed\n",
      "\u001b[34m\u001b[1mtrain: \u001b[0mWARNING ⚠️ /home/jupyter/work/resources/data_yolo/images/train/kosul_Im_0001747.jpg: 1 duplicate labels removed\n",
      "\u001b[34m\u001b[1mtrain: \u001b[0mWARNING ⚠️ /home/jupyter/work/resources/data_yolo/images/train/kosul_Im_0001754.jpg: 2 duplicate labels removed\n",
      "\u001b[34m\u001b[1mtrain: \u001b[0mWARNING ⚠️ /home/jupyter/work/resources/data_yolo/images/train/kosul_Im_0001755.jpg: 1 duplicate labels removed\n",
      "\u001b[34m\u001b[1mtrain: \u001b[0mWARNING ⚠️ /home/jupyter/work/resources/data_yolo/images/train/kosul_Im_0001768.jpg: 1 duplicate labels removed\n",
      "\u001b[34m\u001b[1mtrain: \u001b[0mWARNING ⚠️ /home/jupyter/work/resources/data_yolo/images/train/kosul_Im_0001799.jpg: 1 duplicate labels removed\n",
      "\u001b[34m\u001b[1mtrain: \u001b[0mWARNING ⚠️ /home/jupyter/work/resources/data_yolo/images/train/kosul_Im_0001810.jpg: 1 duplicate labels removed\n",
      "\u001b[34m\u001b[1mtrain: \u001b[0mWARNING ⚠️ /home/jupyter/work/resources/data_yolo/images/train/kosul_Im_0001825.jpg: 1 duplicate labels removed\n",
      "\u001b[34m\u001b[1mtrain: \u001b[0mWARNING ⚠️ /home/jupyter/work/resources/data_yolo/images/train/kosul_Im_0001831.jpg: 1 duplicate labels removed\n",
      "\u001b[34m\u001b[1mtrain: \u001b[0mWARNING ⚠️ /home/jupyter/work/resources/data_yolo/images/train/kosul_Im_0001839.jpg: 4 duplicate labels removed\n",
      "\u001b[34m\u001b[1mtrain: \u001b[0mWARNING ⚠️ /home/jupyter/work/resources/data_yolo/images/train/kosul_Im_0001855.jpg: 1 duplicate labels removed\n",
      "\u001b[34m\u001b[1mtrain: \u001b[0mWARNING ⚠️ /home/jupyter/work/resources/data_yolo/images/train/kosul_Im_0001859.jpg: 3 duplicate labels removed\n",
      "\u001b[34m\u001b[1mtrain: \u001b[0mWARNING ⚠️ /home/jupyter/work/resources/data_yolo/images/train/kosul_Im_0001892.jpg: 1 duplicate labels removed\n",
      "\u001b[34m\u001b[1mtrain: \u001b[0mWARNING ⚠️ /home/jupyter/work/resources/data_yolo/images/train/kosul_Im_0001927.jpg: 2 duplicate labels removed\n",
      "\u001b[34m\u001b[1mtrain: \u001b[0mWARNING ⚠️ /home/jupyter/work/resources/data_yolo/images/train/kosul_Im_0001935.jpg: 1 duplicate labels removed\n",
      "\u001b[34m\u001b[1mtrain: \u001b[0mWARNING ⚠️ /home/jupyter/work/resources/data_yolo/images/train/kosul_Im_0001954.jpg: 4 duplicate labels removed\n",
      "\u001b[34m\u001b[1mtrain: \u001b[0mWARNING ⚠️ /home/jupyter/work/resources/data_yolo/images/train/kosul_Im_0001964.jpg: 2 duplicate labels removed\n",
      "\u001b[34m\u001b[1mtrain: \u001b[0mWARNING ⚠️ /home/jupyter/work/resources/data_yolo/images/train/kosul_Im_0001976.jpg: 1 duplicate labels removed\n",
      "\u001b[34m\u001b[1mtrain: \u001b[0mWARNING ⚠️ /home/jupyter/work/resources/data_yolo/images/train/kosul_Im_0001984.jpg: 1 duplicate labels removed\n",
      "\u001b[34m\u001b[1mtrain: \u001b[0mWARNING ⚠️ /home/jupyter/work/resources/data_yolo/images/train/kosul_Im_0001991.jpg: 1 duplicate labels removed\n",
      "\u001b[34m\u001b[1mtrain: \u001b[0mWARNING ⚠️ /home/jupyter/work/resources/data_yolo/images/train/kosul_Im_0001992.jpg: 1 duplicate labels removed\n",
      "\u001b[34m\u001b[1mtrain: \u001b[0mWARNING ⚠️ /home/jupyter/work/resources/data_yolo/images/train/kosul_Im_0001994.jpg: 1 duplicate labels removed\n",
      "\u001b[34m\u001b[1mtrain: \u001b[0mWARNING ⚠️ /home/jupyter/work/resources/data_yolo/images/train/kosul_Im_0002020_2.jpg: 1 duplicate labels removed\n",
      "\u001b[34m\u001b[1mtrain: \u001b[0mWARNING ⚠️ /home/jupyter/work/resources/data_yolo/images/train/kosul_Im_0002069.jpg: 1 duplicate labels removed\n",
      "\u001b[34m\u001b[1mtrain: \u001b[0mWARNING ⚠️ /home/jupyter/work/resources/data_yolo/images/train/kosul_Im_0002087.jpg: 1 duplicate labels removed\n",
      "\u001b[34m\u001b[1mtrain: \u001b[0mWARNING ⚠️ /home/jupyter/work/resources/data_yolo/images/train/kosul_Im_0002089.jpg: 6 duplicate labels removed\n",
      "\u001b[34m\u001b[1mtrain: \u001b[0mWARNING ⚠️ /home/jupyter/work/resources/data_yolo/images/train/kosul_Im_0002107.jpg: 1 duplicate labels removed\n",
      "\u001b[34m\u001b[1mtrain: \u001b[0mWARNING ⚠️ /home/jupyter/work/resources/data_yolo/images/train/kosul_Im_0002115.jpg: 2 duplicate labels removed\n",
      "\u001b[34m\u001b[1mtrain: \u001b[0mWARNING ⚠️ /home/jupyter/work/resources/data_yolo/images/train/kosul_Im_0002123.jpg: 1 duplicate labels removed\n",
      "\u001b[34m\u001b[1mtrain: \u001b[0mWARNING ⚠️ /home/jupyter/work/resources/data_yolo/images/train/kosul_Im_0002141.jpg: 1 duplicate labels removed\n",
      "\u001b[34m\u001b[1mtrain: \u001b[0mWARNING ⚠️ /home/jupyter/work/resources/data_yolo/images/train/kosul_Im_0002141_1.jpg: 1 duplicate labels removed\n",
      "\u001b[34m\u001b[1mtrain: \u001b[0mWARNING ⚠️ /home/jupyter/work/resources/data_yolo/images/train/kosul_Im_0002145.jpg: 1 duplicate labels removed\n",
      "\u001b[34m\u001b[1mtrain: \u001b[0mWARNING ⚠️ /home/jupyter/work/resources/data_yolo/images/train/kosul_Im_0002147.jpg: 1 duplicate labels removed\n",
      "\u001b[34m\u001b[1mtrain: \u001b[0mWARNING ⚠️ /home/jupyter/work/resources/data_yolo/images/train/kosul_Im_0002149.jpg: 1 duplicate labels removed\n",
      "\u001b[34m\u001b[1mtrain: \u001b[0mWARNING ⚠️ /home/jupyter/work/resources/data_yolo/images/train/kosul_Im_0002156.jpg: 1 duplicate labels removed\n",
      "\u001b[34m\u001b[1mtrain: \u001b[0mWARNING ⚠️ /home/jupyter/work/resources/data_yolo/images/train/kosul_Im_0002159.jpg: 1 duplicate labels removed\n",
      "\u001b[34m\u001b[1mtrain: \u001b[0mWARNING ⚠️ /home/jupyter/work/resources/data_yolo/images/train/kosul_Im_0002184.jpg: 1 duplicate labels removed\n",
      "\u001b[34m\u001b[1mtrain: \u001b[0mWARNING ⚠️ /home/jupyter/work/resources/data_yolo/images/train/kosul_Im_0002191.jpg: 1 duplicate labels removed\n",
      "\u001b[34m\u001b[1mtrain: \u001b[0mWARNING ⚠️ /home/jupyter/work/resources/data_yolo/images/train/kosul_Im_0002201_1.jpg: 1 duplicate labels removed\n",
      "\u001b[34m\u001b[1mtrain: \u001b[0mWARNING ⚠️ /home/jupyter/work/resources/data_yolo/images/train/kosul_Im_0002210_1.jpg: 1 duplicate labels removed\n",
      "\u001b[34m\u001b[1mtrain: \u001b[0mWARNING ⚠️ /home/jupyter/work/resources/data_yolo/images/train/kosul_Im_0002269.jpg: 3 duplicate labels removed\n",
      "\u001b[34m\u001b[1mtrain: \u001b[0mWARNING ⚠️ /home/jupyter/work/resources/data_yolo/images/train/kosul_Im_0002297.jpg: 3 duplicate labels removed\n",
      "\u001b[34m\u001b[1mtrain: \u001b[0mWARNING ⚠️ /home/jupyter/work/resources/data_yolo/images/train/kosul_Im_0002326.jpg: 1 duplicate labels removed\n",
      "\u001b[34m\u001b[1mtrain: \u001b[0mWARNING ⚠️ /home/jupyter/work/resources/data_yolo/images/train/kosul_Im_0002334.jpg: 3 duplicate labels removed\n",
      "\u001b[34m\u001b[1mtrain: \u001b[0mWARNING ⚠️ /home/jupyter/work/resources/data_yolo/images/train/kosul_Im_0002366.jpg: 2 duplicate labels removed\n",
      "\u001b[34m\u001b[1mtrain: \u001b[0mWARNING ⚠️ /home/jupyter/work/resources/data_yolo/images/train/kosul_Im_0002412.jpg: 1 duplicate labels removed\n",
      "\u001b[34m\u001b[1mtrain: \u001b[0mWARNING ⚠️ /home/jupyter/work/resources/data_yolo/images/train/kosul_Im_0002432.jpg: 1 duplicate labels removed\n",
      "\u001b[34m\u001b[1mtrain: \u001b[0mWARNING ⚠️ /home/jupyter/work/resources/data_yolo/images/train/kosul_Im_0002446.jpg: 1 duplicate labels removed\n",
      "\u001b[34m\u001b[1mtrain: \u001b[0mWARNING ⚠️ /home/jupyter/work/resources/data_yolo/images/train/kosul_Im_0002466.jpg: 1 duplicate labels removed\n",
      "\u001b[34m\u001b[1mtrain: \u001b[0mWARNING ⚠️ /home/jupyter/work/resources/data_yolo/images/train/kosul_Im_0002501.jpg: 1 duplicate labels removed\n",
      "\u001b[34m\u001b[1mtrain: \u001b[0mWARNING ⚠️ /home/jupyter/work/resources/data_yolo/images/train/kosul_Im_0002507.jpg: 1 duplicate labels removed\n",
      "\u001b[34m\u001b[1mtrain: \u001b[0mWARNING ⚠️ /home/jupyter/work/resources/data_yolo/images/train/kosul_Im_0002509_1.jpg: 3 duplicate labels removed\n",
      "\u001b[34m\u001b[1mtrain: \u001b[0mWARNING ⚠️ /home/jupyter/work/resources/data_yolo/images/train/kosul_Im_0002517.jpg: 1 duplicate labels removed\n",
      "\u001b[34m\u001b[1mtrain: \u001b[0mWARNING ⚠️ /home/jupyter/work/resources/data_yolo/images/train/kosul_Im_0002519_1.jpg: 3 duplicate labels removed\n",
      "\u001b[34m\u001b[1mtrain: \u001b[0mWARNING ⚠️ /home/jupyter/work/resources/data_yolo/images/train/kosul_Im_0002544.jpg: 1 duplicate labels removed\n",
      "\u001b[34m\u001b[1mtrain: \u001b[0mWARNING ⚠️ /home/jupyter/work/resources/data_yolo/images/train/kosul_Im_0002557.jpg: 2 duplicate labels removed\n",
      "\u001b[34m\u001b[1mtrain: \u001b[0mWARNING ⚠️ /home/jupyter/work/resources/data_yolo/images/train/kosul_Im_0002566.jpg: 1 duplicate labels removed\n",
      "\u001b[34m\u001b[1mtrain: \u001b[0mWARNING ⚠️ /home/jupyter/work/resources/data_yolo/images/train/kosul_Im_0002588.jpg: 2 duplicate labels removed\n",
      "\u001b[34m\u001b[1mtrain: \u001b[0mWARNING ⚠️ /home/jupyter/work/resources/data_yolo/images/train/kosul_Im_0002605.jpg: 1 duplicate labels removed\n",
      "\u001b[34m\u001b[1mtrain: \u001b[0mWARNING ⚠️ /home/jupyter/work/resources/data_yolo/images/train/kosul_Im_0002615.jpg: 2 duplicate labels removed\n",
      "\u001b[34m\u001b[1mtrain: \u001b[0mWARNING ⚠️ /home/jupyter/work/resources/data_yolo/images/train/kosul_Im_0002629.jpg: 1 duplicate labels removed\n",
      "\u001b[34m\u001b[1mtrain: \u001b[0mWARNING ⚠️ /home/jupyter/work/resources/data_yolo/images/train/kosul_Im_0002649.jpg: 2 duplicate labels removed\n",
      "\u001b[34m\u001b[1mtrain: \u001b[0mWARNING ⚠️ /home/jupyter/work/resources/data_yolo/images/train/kosul_Im_0002657.jpg: 1 duplicate labels removed\n",
      "\u001b[34m\u001b[1mtrain: \u001b[0mWARNING ⚠️ /home/jupyter/work/resources/data_yolo/images/train/kosul_Im_0002669_1.jpg: 2 duplicate labels removed\n",
      "\u001b[34m\u001b[1mtrain: \u001b[0mWARNING ⚠️ /home/jupyter/work/resources/data_yolo/images/train/kosul_Im_0002671.jpg: 2 duplicate labels removed\n",
      "\u001b[34m\u001b[1mtrain: \u001b[0mWARNING ⚠️ /home/jupyter/work/resources/data_yolo/images/train/kosul_Im_0002677_1.jpg: 1 duplicate labels removed\n",
      "\u001b[34m\u001b[1mtrain: \u001b[0mWARNING ⚠️ /home/jupyter/work/resources/data_yolo/images/train/kosul_Im_0002679_1.jpg: 5 duplicate labels removed\n",
      "\u001b[34m\u001b[1mtrain: \u001b[0mWARNING ⚠️ /home/jupyter/work/resources/data_yolo/images/train/kosul_Im_0002692.jpg: 1 duplicate labels removed\n",
      "\u001b[34m\u001b[1mtrain: \u001b[0mWARNING ⚠️ /home/jupyter/work/resources/data_yolo/images/train/kosul_Im_0002694.jpg: 4 duplicate labels removed\n",
      "\u001b[34m\u001b[1mtrain: \u001b[0mWARNING ⚠️ /home/jupyter/work/resources/data_yolo/images/train/kosul_Im_0002696.jpg: 1 duplicate labels removed\n",
      "\u001b[34m\u001b[1mtrain: \u001b[0mWARNING ⚠️ /home/jupyter/work/resources/data_yolo/images/train/kosul_Im_0002711_1.jpg: 1 duplicate labels removed\n",
      "\u001b[34m\u001b[1mtrain: \u001b[0mWARNING ⚠️ /home/jupyter/work/resources/data_yolo/images/train/kosul_Im_0002721.jpg: 1 duplicate labels removed\n",
      "\u001b[34m\u001b[1mtrain: \u001b[0mWARNING ⚠️ /home/jupyter/work/resources/data_yolo/images/train/kosul_Im_0002727.jpg: 5 duplicate labels removed\n",
      "\u001b[34m\u001b[1mtrain: \u001b[0mWARNING ⚠️ /home/jupyter/work/resources/data_yolo/images/train/kosul_Im_0002740.jpg: 1 duplicate labels removed\n",
      "\u001b[34m\u001b[1mtrain: \u001b[0mWARNING ⚠️ /home/jupyter/work/resources/data_yolo/images/train/kosul_Im_0002747.jpg: 2 duplicate labels removed\n",
      "\u001b[34m\u001b[1mtrain: \u001b[0mWARNING ⚠️ /home/jupyter/work/resources/data_yolo/images/train/kosul_Im_0002747_1.jpg: 1 duplicate labels removed\n",
      "\u001b[34m\u001b[1mtrain: \u001b[0mWARNING ⚠️ /home/jupyter/work/resources/data_yolo/images/train/kosul_Im_0002751.jpg: 1 duplicate labels removed\n",
      "\u001b[34m\u001b[1mtrain: \u001b[0mWARNING ⚠️ /home/jupyter/work/resources/data_yolo/images/train/kosul_Im_0002760.jpg: 2 duplicate labels removed\n",
      "\u001b[34m\u001b[1mtrain: \u001b[0mWARNING ⚠️ /home/jupyter/work/resources/data_yolo/images/train/kosul_Im_0002764_1.jpg: 2 duplicate labels removed\n",
      "\u001b[34m\u001b[1mtrain: \u001b[0mWARNING ⚠️ /home/jupyter/work/resources/data_yolo/images/train/kosul_Im_0002765.jpg: 1 duplicate labels removed\n",
      "\u001b[34m\u001b[1mtrain: \u001b[0mWARNING ⚠️ /home/jupyter/work/resources/data_yolo/images/train/kosul_Im_0002775.jpg: 1 duplicate labels removed\n",
      "\u001b[34m\u001b[1mtrain: \u001b[0mWARNING ⚠️ /home/jupyter/work/resources/data_yolo/images/train/kosul_Im_0002795.jpg: 1 duplicate labels removed\n",
      "\u001b[34m\u001b[1mtrain: \u001b[0mWARNING ⚠️ /home/jupyter/work/resources/data_yolo/images/train/kosul_Im_0002796.jpg: 1 duplicate labels removed\n",
      "\u001b[34m\u001b[1mtrain: \u001b[0mWARNING ⚠️ /home/jupyter/work/resources/data_yolo/images/train/kosul_Im_0002808.jpg: 1 duplicate labels removed\n",
      "\u001b[34m\u001b[1mtrain: \u001b[0mWARNING ⚠️ /home/jupyter/work/resources/data_yolo/images/train/kosul_Im_0002820.jpg: 6 duplicate labels removed\n",
      "\u001b[34m\u001b[1mtrain: \u001b[0mWARNING ⚠️ /home/jupyter/work/resources/data_yolo/images/train/kosul_Im_0002831.jpg: 3 duplicate labels removed\n",
      "\u001b[34m\u001b[1mtrain: \u001b[0mWARNING ⚠️ /home/jupyter/work/resources/data_yolo/images/train/kosul_Im_0002832.jpg: 1 duplicate labels removed\n",
      "\u001b[34m\u001b[1mtrain: \u001b[0mWARNING ⚠️ /home/jupyter/work/resources/data_yolo/images/train/kosul_Im_0002836.jpg: 3 duplicate labels removed\n",
      "\u001b[34m\u001b[1mtrain: \u001b[0mWARNING ⚠️ /home/jupyter/work/resources/data_yolo/images/train/kosul_Im_0002841.jpg: 5 duplicate labels removed\n",
      "\u001b[34m\u001b[1mtrain: \u001b[0mWARNING ⚠️ /home/jupyter/work/resources/data_yolo/images/train/kosul_Im_0002842_1.jpg: 4 duplicate labels removed\n",
      "\u001b[34m\u001b[1mtrain: \u001b[0mWARNING ⚠️ /home/jupyter/work/resources/data_yolo/images/train/kosul_Im_0002881.jpg: 2 duplicate labels removed\n",
      "\u001b[34m\u001b[1mtrain: \u001b[0mWARNING ⚠️ /home/jupyter/work/resources/data_yolo/images/train/kosul_Im_0002918.jpg: 2 duplicate labels removed\n",
      "\u001b[34m\u001b[1mtrain: \u001b[0mWARNING ⚠️ /home/jupyter/work/resources/data_yolo/images/train/kosul_Im_0002926.jpg: 3 duplicate labels removed\n",
      "\u001b[34m\u001b[1mtrain: \u001b[0mWARNING ⚠️ /home/jupyter/work/resources/data_yolo/images/train/kosul_Im_0002960.jpg: 1 duplicate labels removed\n",
      "\u001b[34m\u001b[1mtrain: \u001b[0mWARNING ⚠️ /home/jupyter/work/resources/data_yolo/images/train/kosul_Im_0002969.jpg: 1 duplicate labels removed\n",
      "\u001b[34m\u001b[1mtrain: \u001b[0mWARNING ⚠️ /home/jupyter/work/resources/data_yolo/images/train/kosul_Im_0002970.jpg: 1 duplicate labels removed\n",
      "\u001b[34m\u001b[1mtrain: \u001b[0mWARNING ⚠️ /home/jupyter/work/resources/data_yolo/images/train/kosul_Im_0002977.jpg: 1 duplicate labels removed\n",
      "\u001b[34m\u001b[1mtrain: \u001b[0mWARNING ⚠️ /home/jupyter/work/resources/data_yolo/images/train/kosul_Im_0003031.jpg: 1 duplicate labels removed\n",
      "\u001b[34m\u001b[1mtrain: \u001b[0mWARNING ⚠️ /home/jupyter/work/resources/data_yolo/images/train/kosul_Im_0003041.jpg: 3 duplicate labels removed\n",
      "\u001b[34m\u001b[1mtrain: \u001b[0mWARNING ⚠️ /home/jupyter/work/resources/data_yolo/images/train/kosul_Im_0003052.jpg: 1 duplicate labels removed\n",
      "\u001b[34m\u001b[1mtrain: \u001b[0mWARNING ⚠️ /home/jupyter/work/resources/data_yolo/images/train/kosul_Im_0003063.jpg: 1 duplicate labels removed\n",
      "\u001b[34m\u001b[1mtrain: \u001b[0mWARNING ⚠️ /home/jupyter/work/resources/data_yolo/images/train/kosul_Im_0003078.jpg: 1 duplicate labels removed\n",
      "\u001b[34m\u001b[1mtrain: \u001b[0mWARNING ⚠️ /home/jupyter/work/resources/data_yolo/images/train/kosul_Im_0003079.jpg: 1 duplicate labels removed\n",
      "\u001b[34m\u001b[1mtrain: \u001b[0mWARNING ⚠️ /home/jupyter/work/resources/data_yolo/images/train/kosul_Im_0003084_1.jpg: 1 duplicate labels removed\n",
      "\u001b[34m\u001b[1mtrain: \u001b[0mWARNING ⚠️ /home/jupyter/work/resources/data_yolo/images/train/kosul_Im_0003096.jpg: 1 duplicate labels removed\n",
      "\u001b[34m\u001b[1mtrain: \u001b[0mWARNING ⚠️ /home/jupyter/work/resources/data_yolo/images/train/kosul_Im_0003111.jpg: 1 duplicate labels removed\n",
      "\u001b[34m\u001b[1mtrain: \u001b[0mWARNING ⚠️ /home/jupyter/work/resources/data_yolo/images/train/kosul_Im_0003130.jpg: 1 duplicate labels removed\n",
      "\u001b[34m\u001b[1mtrain: \u001b[0mWARNING ⚠️ /home/jupyter/work/resources/data_yolo/images/train/kosul_Im_0003133.jpg: 3 duplicate labels removed\n",
      "\u001b[34m\u001b[1mtrain: \u001b[0mWARNING ⚠️ /home/jupyter/work/resources/data_yolo/images/train/kosul_Im_0003150_2.jpg: 1 duplicate labels removed\n",
      "\u001b[34m\u001b[1mtrain: \u001b[0mWARNING ⚠️ /home/jupyter/work/resources/data_yolo/images/train/kosul_Im_0003152.jpg: 1 duplicate labels removed\n",
      "\u001b[34m\u001b[1mtrain: \u001b[0mWARNING ⚠️ /home/jupyter/work/resources/data_yolo/images/train/kosul_Im_0003155.jpg: 2 duplicate labels removed\n",
      "\u001b[34m\u001b[1mtrain: \u001b[0mWARNING ⚠️ /home/jupyter/work/resources/data_yolo/images/train/kosul_Im_0003186.jpg: 1 duplicate labels removed\n",
      "\u001b[34m\u001b[1mtrain: \u001b[0mWARNING ⚠️ /home/jupyter/work/resources/data_yolo/images/train/kosul_Im_0003205.jpg: 1 duplicate labels removed\n",
      "\u001b[34m\u001b[1mtrain: \u001b[0mWARNING ⚠️ /home/jupyter/work/resources/data_yolo/images/train/kosul_Im_0003207.jpg: 1 duplicate labels removed\n",
      "\u001b[34m\u001b[1mtrain: \u001b[0mWARNING ⚠️ /home/jupyter/work/resources/data_yolo/images/train/kosul_Im_0003283.jpg: 1 duplicate labels removed\n",
      "\u001b[34m\u001b[1mtrain: \u001b[0mWARNING ⚠️ /home/jupyter/work/resources/data_yolo/images/train/kosul_Im_0003307_1.jpg: 5 duplicate labels removed\n",
      "\u001b[34m\u001b[1mtrain: \u001b[0mWARNING ⚠️ /home/jupyter/work/resources/data_yolo/images/train/kosul_Im_0003316.jpg: 1 duplicate labels removed\n",
      "\u001b[34m\u001b[1mtrain: \u001b[0mWARNING ⚠️ /home/jupyter/work/resources/data_yolo/images/train/kosul_Im_0003319.jpg: 2 duplicate labels removed\n",
      "\u001b[34m\u001b[1mtrain: \u001b[0mWARNING ⚠️ /home/jupyter/work/resources/data_yolo/images/train/kosul_Im_0003322.jpg: 1 duplicate labels removed\n",
      "\u001b[34m\u001b[1mtrain: \u001b[0mWARNING ⚠️ /home/jupyter/work/resources/data_yolo/images/train/kosul_Im_0003322_1.jpg: 1 duplicate labels removed\n",
      "\u001b[34m\u001b[1mtrain: \u001b[0mWARNING ⚠️ /home/jupyter/work/resources/data_yolo/images/train/kosul_Im_0003326.jpg: 2 duplicate labels removed\n",
      "\u001b[34m\u001b[1mtrain: \u001b[0mWARNING ⚠️ /home/jupyter/work/resources/data_yolo/images/train/kosul_Im_0003330.jpg: 3 duplicate labels removed\n",
      "\u001b[34m\u001b[1mtrain: \u001b[0mWARNING ⚠️ /home/jupyter/work/resources/data_yolo/images/train/kosul_Im_0003338.jpg: 2 duplicate labels removed\n",
      "\u001b[34m\u001b[1mtrain: \u001b[0mWARNING ⚠️ /home/jupyter/work/resources/data_yolo/images/train/kosul_Im_0003345.jpg: 1 duplicate labels removed\n",
      "\u001b[34m\u001b[1mtrain: \u001b[0mWARNING ⚠️ /home/jupyter/work/resources/data_yolo/images/train/kosul_Im_0003369.jpg: 1 duplicate labels removed\n",
      "\u001b[34m\u001b[1mtrain: \u001b[0mWARNING ⚠️ /home/jupyter/work/resources/data_yolo/images/train/kosul_Im_0003380_1.jpg: 1 duplicate labels removed\n",
      "\u001b[34m\u001b[1mtrain: \u001b[0mWARNING ⚠️ /home/jupyter/work/resources/data_yolo/images/train/kosul_Im_0003391.jpg: 1 duplicate labels removed\n",
      "\u001b[34m\u001b[1mtrain: \u001b[0mWARNING ⚠️ /home/jupyter/work/resources/data_yolo/images/train/kosul_Im_0003392.jpg: 2 duplicate labels removed\n",
      "\u001b[34m\u001b[1mtrain: \u001b[0mWARNING ⚠️ /home/jupyter/work/resources/data_yolo/images/train/kosul_Im_0003393.jpg: 1 duplicate labels removed\n",
      "\u001b[34m\u001b[1mtrain: \u001b[0mWARNING ⚠️ /home/jupyter/work/resources/data_yolo/images/train/kosul_Im_0003396.jpg: 3 duplicate labels removed\n",
      "\u001b[34m\u001b[1mtrain: \u001b[0mWARNING ⚠️ /home/jupyter/work/resources/data_yolo/images/train/kosul_Im_0003397.jpg: 2 duplicate labels removed\n",
      "\u001b[34m\u001b[1mtrain: \u001b[0mWARNING ⚠️ /home/jupyter/work/resources/data_yolo/images/train/kosul_Im_0003405.jpg: 1 duplicate labels removed\n",
      "\u001b[34m\u001b[1mtrain: \u001b[0mWARNING ⚠️ /home/jupyter/work/resources/data_yolo/images/train/kosul_Im_0003412.jpg: 1 duplicate labels removed\n",
      "\u001b[34m\u001b[1mtrain: \u001b[0mWARNING ⚠️ /home/jupyter/work/resources/data_yolo/images/train/kosul_Im_0003418.jpg: 4 duplicate labels removed\n",
      "\u001b[34m\u001b[1mtrain: \u001b[0mWARNING ⚠️ /home/jupyter/work/resources/data_yolo/images/train/kosul_Im_0003420.jpg: 2 duplicate labels removed\n",
      "\u001b[34m\u001b[1mtrain: \u001b[0mWARNING ⚠️ /home/jupyter/work/resources/data_yolo/images/train/kosul_Im_0003423_1.jpg: 1 duplicate labels removed\n",
      "\u001b[34m\u001b[1mtrain: \u001b[0mWARNING ⚠️ /home/jupyter/work/resources/data_yolo/images/train/kosul_Im_0003430.jpg: 1 duplicate labels removed\n",
      "\u001b[34m\u001b[1mtrain: \u001b[0mWARNING ⚠️ /home/jupyter/work/resources/data_yolo/images/train/kosul_Im_0003443.jpg: 1 duplicate labels removed\n",
      "\u001b[34m\u001b[1mtrain: \u001b[0mWARNING ⚠️ /home/jupyter/work/resources/data_yolo/images/train/kosul_Im_0003460.jpg: 1 duplicate labels removed\n",
      "\u001b[34m\u001b[1mtrain: \u001b[0mWARNING ⚠️ /home/jupyter/work/resources/data_yolo/images/train/kosul_Im_0003460_1.jpg: 4 duplicate labels removed\n",
      "\u001b[34m\u001b[1mtrain: \u001b[0mWARNING ⚠️ /home/jupyter/work/resources/data_yolo/images/train/kosul_Im_0003461.jpg: 5 duplicate labels removed\n",
      "\u001b[34m\u001b[1mtrain: \u001b[0mWARNING ⚠️ /home/jupyter/work/resources/data_yolo/images/train/kosul_Im_0003490.jpg: 1 duplicate labels removed\n",
      "\u001b[34m\u001b[1mtrain: \u001b[0mWARNING ⚠️ /home/jupyter/work/resources/data_yolo/images/train/kosul_Im_0003492.jpg: 1 duplicate labels removed\n",
      "\u001b[34m\u001b[1mtrain: \u001b[0mWARNING ⚠️ /home/jupyter/work/resources/data_yolo/images/train/kosul_Im_0003497.jpg: 2 duplicate labels removed\n",
      "\u001b[34m\u001b[1mtrain: \u001b[0mWARNING ⚠️ /home/jupyter/work/resources/data_yolo/images/train/kosul_Im_0003503.jpg: 1 duplicate labels removed\n",
      "\u001b[34m\u001b[1mtrain: \u001b[0mWARNING ⚠️ /home/jupyter/work/resources/data_yolo/images/train/kosul_Im_0003513.jpg: 1 duplicate labels removed\n",
      "\u001b[34m\u001b[1mtrain: \u001b[0mWARNING ⚠️ /home/jupyter/work/resources/data_yolo/images/train/kosul_Im_0003520.jpg: 1 duplicate labels removed\n",
      "\u001b[34m\u001b[1mtrain: \u001b[0mWARNING ⚠️ /home/jupyter/work/resources/data_yolo/images/train/kosul_Im_0003526.jpg: 2 duplicate labels removed\n",
      "\u001b[34m\u001b[1mtrain: \u001b[0mWARNING ⚠️ /home/jupyter/work/resources/data_yolo/images/train/kosul_Im_0003527.jpg: 1 duplicate labels removed\n",
      "\u001b[34m\u001b[1mtrain: \u001b[0mWARNING ⚠️ /home/jupyter/work/resources/data_yolo/images/train/kosul_Im_0003545.jpg: 1 duplicate labels removed\n",
      "\u001b[34m\u001b[1mtrain: \u001b[0mWARNING ⚠️ /home/jupyter/work/resources/data_yolo/images/train/kosul_Im_0003560.jpg: 1 duplicate labels removed\n",
      "\u001b[34m\u001b[1mtrain: \u001b[0mWARNING ⚠️ /home/jupyter/work/resources/data_yolo/images/train/kosul_Im_0003567.jpg: 3 duplicate labels removed\n",
      "\u001b[34m\u001b[1mtrain: \u001b[0mWARNING ⚠️ /home/jupyter/work/resources/data_yolo/images/train/kosul_Im_0003589.jpg: 1 duplicate labels removed\n",
      "\u001b[34m\u001b[1mtrain: \u001b[0mWARNING ⚠️ /home/jupyter/work/resources/data_yolo/images/train/kosul_Im_0003612.jpg: 1 duplicate labels removed\n",
      "\u001b[34m\u001b[1mtrain: \u001b[0mWARNING ⚠️ /home/jupyter/work/resources/data_yolo/images/train/kosul_Im_0003619.jpg: 1 duplicate labels removed\n",
      "\u001b[34m\u001b[1mtrain: \u001b[0mWARNING ⚠️ /home/jupyter/work/resources/data_yolo/images/train/kosul_Im_0003657.jpg: 6 duplicate labels removed\n",
      "\u001b[34m\u001b[1mtrain: \u001b[0mWARNING ⚠️ /home/jupyter/work/resources/data_yolo/images/train/kosul_Im_0003672.jpg: 1 duplicate labels removed\n",
      "\u001b[34m\u001b[1mtrain: \u001b[0mWARNING ⚠️ /home/jupyter/work/resources/data_yolo/images/train/kosul_Im_0003703.jpg: 7 duplicate labels removed\n",
      "\u001b[34m\u001b[1mtrain: \u001b[0mWARNING ⚠️ /home/jupyter/work/resources/data_yolo/images/train/kosul_Im_0003723.jpg: 2 duplicate labels removed\n",
      "\u001b[34m\u001b[1mtrain: \u001b[0mWARNING ⚠️ /home/jupyter/work/resources/data_yolo/images/train/kosul_Im_0003727.jpg: 6 duplicate labels removed\n",
      "\u001b[34m\u001b[1mtrain: \u001b[0mWARNING ⚠️ /home/jupyter/work/resources/data_yolo/images/train/kosul_Im_0003730_1.jpg: 3 duplicate labels removed\n",
      "\u001b[34m\u001b[1mtrain: \u001b[0mWARNING ⚠️ /home/jupyter/work/resources/data_yolo/images/train/kosul_Im_0003732.jpg: 2 duplicate labels removed\n",
      "\u001b[34m\u001b[1mtrain: \u001b[0mWARNING ⚠️ /home/jupyter/work/resources/data_yolo/images/train/kosul_Im_0003736.jpg: 1 duplicate labels removed\n",
      "\u001b[34m\u001b[1mtrain: \u001b[0mWARNING ⚠️ /home/jupyter/work/resources/data_yolo/images/train/kosul_Im_0003738.jpg: 1 duplicate labels removed\n",
      "\u001b[34m\u001b[1mtrain: \u001b[0mWARNING ⚠️ /home/jupyter/work/resources/data_yolo/images/train/kosul_Im_0003746.jpg: 1 duplicate labels removed\n",
      "\u001b[34m\u001b[1mtrain: \u001b[0mWARNING ⚠️ /home/jupyter/work/resources/data_yolo/images/train/kosul_Im_0003746_1.jpg: 2 duplicate labels removed\n",
      "\u001b[34m\u001b[1mtrain: \u001b[0mWARNING ⚠️ /home/jupyter/work/resources/data_yolo/images/train/kosul_Im_0003749.jpg: 1 duplicate labels removed\n",
      "\u001b[34m\u001b[1mtrain: \u001b[0mWARNING ⚠️ /home/jupyter/work/resources/data_yolo/images/train/kosul_Im_0003769.jpg: 1 duplicate labels removed\n",
      "\u001b[34m\u001b[1mtrain: \u001b[0mWARNING ⚠️ /home/jupyter/work/resources/data_yolo/images/train/kosul_Im_0003769_1.jpg: 1 duplicate labels removed\n",
      "\u001b[34m\u001b[1mtrain: \u001b[0mWARNING ⚠️ /home/jupyter/work/resources/data_yolo/images/train/kosul_Im_0003815.jpg: 1 duplicate labels removed\n",
      "\u001b[34m\u001b[1mtrain: \u001b[0mWARNING ⚠️ /home/jupyter/work/resources/data_yolo/images/train/kosul_Im_0003821.jpg: 4 duplicate labels removed\n",
      "\u001b[34m\u001b[1mtrain: \u001b[0mWARNING ⚠️ /home/jupyter/work/resources/data_yolo/images/train/kosul_Im_0003850.jpg: 1 duplicate labels removed\n",
      "\u001b[34m\u001b[1mtrain: \u001b[0mWARNING ⚠️ /home/jupyter/work/resources/data_yolo/images/train/kosul_Im_0003872.jpg: 1 duplicate labels removed\n",
      "\u001b[34m\u001b[1mtrain: \u001b[0mWARNING ⚠️ /home/jupyter/work/resources/data_yolo/images/train/kosul_Im_0003884.jpg: 1 duplicate labels removed\n",
      "\u001b[34m\u001b[1mtrain: \u001b[0mWARNING ⚠️ /home/jupyter/work/resources/data_yolo/images/train/kosul_Im_0003904.jpg: 1 duplicate labels removed\n",
      "\u001b[34m\u001b[1mtrain: \u001b[0mWARNING ⚠️ /home/jupyter/work/resources/data_yolo/images/train/kosul_Im_0003904_1.jpg: 1 duplicate labels removed\n",
      "\u001b[34m\u001b[1mtrain: \u001b[0mWARNING ⚠️ /home/jupyter/work/resources/data_yolo/images/train/kosul_Im_0003928_1.jpg: 4 duplicate labels removed\n",
      "\u001b[34m\u001b[1mtrain: \u001b[0mWARNING ⚠️ /home/jupyter/work/resources/data_yolo/images/train/kosul_Im_0003933.jpg: 2 duplicate labels removed\n",
      "\u001b[34m\u001b[1mtrain: \u001b[0mWARNING ⚠️ /home/jupyter/work/resources/data_yolo/images/train/kosul_Im_0003952.jpg: 1 duplicate labels removed\n",
      "\u001b[34m\u001b[1mtrain: \u001b[0mWARNING ⚠️ /home/jupyter/work/resources/data_yolo/images/train/kosul_Im_0003963.jpg: 1 duplicate labels removed\n",
      "\u001b[34m\u001b[1mtrain: \u001b[0mWARNING ⚠️ /home/jupyter/work/resources/data_yolo/images/train/kosul_Im_0003970.jpg: 1 duplicate labels removed\n",
      "\u001b[34m\u001b[1mtrain: \u001b[0mWARNING ⚠️ /home/jupyter/work/resources/data_yolo/images/train/kosul_Im_0003996.jpg: 1 duplicate labels removed\n",
      "\u001b[34m\u001b[1mtrain: \u001b[0mWARNING ⚠️ /home/jupyter/work/resources/data_yolo/images/train/kosul_Im_0003997.jpg: 1 duplicate labels removed\n",
      "\u001b[34m\u001b[1mtrain: \u001b[0mWARNING ⚠️ /home/jupyter/work/resources/data_yolo/images/train/kosul_Im_0004000_3.jpg: 1 duplicate labels removed\n",
      "\u001b[34m\u001b[1mtrain: \u001b[0mWARNING ⚠️ /home/jupyter/work/resources/data_yolo/images/train/kosul_Im_0004019.jpg: 3 duplicate labels removed\n",
      "\u001b[34m\u001b[1mtrain: \u001b[0mWARNING ⚠️ /home/jupyter/work/resources/data_yolo/images/train/kosul_Im_0004028.jpg: 1 duplicate labels removed\n",
      "\u001b[34m\u001b[1mtrain: \u001b[0mWARNING ⚠️ /home/jupyter/work/resources/data_yolo/images/train/kosul_Im_0004032.jpg: 1 duplicate labels removed\n",
      "\u001b[34m\u001b[1mtrain: \u001b[0mWARNING ⚠️ /home/jupyter/work/resources/data_yolo/images/train/kosul_Im_0004040.jpg: 1 duplicate labels removed\n",
      "\u001b[34m\u001b[1mtrain: \u001b[0mWARNING ⚠️ /home/jupyter/work/resources/data_yolo/images/train/kosul_Im_0004052_1.jpg: 1 duplicate labels removed\n",
      "\u001b[34m\u001b[1mtrain: \u001b[0mWARNING ⚠️ /home/jupyter/work/resources/data_yolo/images/train/kosul_Im_0004084.jpg: 1 duplicate labels removed\n",
      "\u001b[34m\u001b[1mtrain: \u001b[0mWARNING ⚠️ /home/jupyter/work/resources/data_yolo/images/train/kosul_Im_0004100_1.jpg: 1 duplicate labels removed\n",
      "\u001b[34m\u001b[1mtrain: \u001b[0mWARNING ⚠️ /home/jupyter/work/resources/data_yolo/images/train/kosul_Im_0004111_1.jpg: 1 duplicate labels removed\n",
      "\u001b[34m\u001b[1mtrain: \u001b[0mWARNING ⚠️ /home/jupyter/work/resources/data_yolo/images/train/kosul_Im_0004114.jpg: 1 duplicate labels removed\n",
      "\u001b[34m\u001b[1mtrain: \u001b[0mWARNING ⚠️ /home/jupyter/work/resources/data_yolo/images/train/kosul_Im_0004132.jpg: 1 duplicate labels removed\n",
      "\u001b[34m\u001b[1mtrain: \u001b[0mWARNING ⚠️ /home/jupyter/work/resources/data_yolo/images/train/kosul_Im_0004137.jpg: 1 duplicate labels removed\n",
      "\u001b[34m\u001b[1mtrain: \u001b[0mWARNING ⚠️ /home/jupyter/work/resources/data_yolo/images/train/kosul_Im_0004140.jpg: 2 duplicate labels removed\n",
      "\u001b[34m\u001b[1mtrain: \u001b[0mWARNING ⚠️ /home/jupyter/work/resources/data_yolo/images/train/kosul_Im_0004143.jpg: 2 duplicate labels removed\n",
      "\u001b[34m\u001b[1mtrain: \u001b[0mWARNING ⚠️ /home/jupyter/work/resources/data_yolo/images/train/kosul_Im_0004147.jpg: 5 duplicate labels removed\n",
      "\u001b[34m\u001b[1mtrain: \u001b[0mWARNING ⚠️ /home/jupyter/work/resources/data_yolo/images/train/kosul_Im_0004211_1.jpg: 1 duplicate labels removed\n",
      "\u001b[34m\u001b[1mtrain: \u001b[0mWARNING ⚠️ /home/jupyter/work/resources/data_yolo/images/train/kosul_Im_0004222.jpg: 1 duplicate labels removed\n",
      "\u001b[34m\u001b[1mtrain: \u001b[0mWARNING ⚠️ /home/jupyter/work/resources/data_yolo/images/train/kosul_Im_0004231.jpg: 1 duplicate labels removed\n",
      "\u001b[34m\u001b[1mtrain: \u001b[0mWARNING ⚠️ /home/jupyter/work/resources/data_yolo/images/train/kosul_Im_0004307.jpg: 1 duplicate labels removed\n",
      "\u001b[34m\u001b[1mtrain: \u001b[0mWARNING ⚠️ /home/jupyter/work/resources/data_yolo/images/train/kosul_Im_0004315.jpg: 2 duplicate labels removed\n",
      "\u001b[34m\u001b[1mtrain: \u001b[0mWARNING ⚠️ /home/jupyter/work/resources/data_yolo/images/train/kosul_Im_0004371.jpg: 1 duplicate labels removed\n",
      "\u001b[34m\u001b[1mtrain: \u001b[0mWARNING ⚠️ /home/jupyter/work/resources/data_yolo/images/train/kosul_Im_0004396.jpg: 1 duplicate labels removed\n",
      "\u001b[34m\u001b[1mtrain: \u001b[0mWARNING ⚠️ /home/jupyter/work/resources/data_yolo/images/train/kosul_Im_0004398_1.jpg: 1 duplicate labels removed\n",
      "\u001b[34m\u001b[1mtrain: \u001b[0mWARNING ⚠️ /home/jupyter/work/resources/data_yolo/images/train/kosul_Im_0004400.jpg: 1 duplicate labels removed\n",
      "\u001b[34m\u001b[1mtrain: \u001b[0mWARNING ⚠️ /home/jupyter/work/resources/data_yolo/images/train/kosul_Im_0004407_1.jpg: 8 duplicate labels removed\n",
      "\u001b[34m\u001b[1mtrain: \u001b[0mWARNING ⚠️ /home/jupyter/work/resources/data_yolo/images/train/kosul_Im_0004409.jpg: 1 duplicate labels removed\n",
      "\u001b[34m\u001b[1mtrain: \u001b[0mWARNING ⚠️ /home/jupyter/work/resources/data_yolo/images/train/kosul_Im_0004422.jpg: 3 duplicate labels removed\n",
      "\u001b[34m\u001b[1mtrain: \u001b[0mWARNING ⚠️ /home/jupyter/work/resources/data_yolo/images/train/kosul_Im_0004427.jpg: 5 duplicate labels removed\n",
      "\u001b[34m\u001b[1mtrain: \u001b[0mWARNING ⚠️ /home/jupyter/work/resources/data_yolo/images/train/kosul_Im_0004431.jpg: 1 duplicate labels removed\n",
      "\u001b[34m\u001b[1mtrain: \u001b[0mWARNING ⚠️ /home/jupyter/work/resources/data_yolo/images/train/kosul_Im_0004442.jpg: 1 duplicate labels removed\n",
      "\u001b[34m\u001b[1mtrain: \u001b[0mWARNING ⚠️ /home/jupyter/work/resources/data_yolo/images/train/kosul_Im_0004457.jpg: 1 duplicate labels removed\n",
      "\u001b[34m\u001b[1mtrain: \u001b[0mWARNING ⚠️ /home/jupyter/work/resources/data_yolo/images/train/kosul_Im_0004478_1.jpg: 1 duplicate labels removed\n",
      "\u001b[34m\u001b[1mtrain: \u001b[0mWARNING ⚠️ /home/jupyter/work/resources/data_yolo/images/train/kosul_Im_0004512.jpg: 1 duplicate labels removed\n",
      "\u001b[34m\u001b[1mtrain: \u001b[0mWARNING ⚠️ /home/jupyter/work/resources/data_yolo/images/train/kosul_Im_0004514.jpg: 3 duplicate labels removed\n",
      "\u001b[34m\u001b[1mtrain: \u001b[0mWARNING ⚠️ /home/jupyter/work/resources/data_yolo/images/train/kosul_Im_0004516.jpg: 3 duplicate labels removed\n",
      "\u001b[34m\u001b[1mtrain: \u001b[0mWARNING ⚠️ /home/jupyter/work/resources/data_yolo/images/train/kosul_Im_0004534.jpg: 1 duplicate labels removed\n",
      "\u001b[34m\u001b[1mtrain: \u001b[0mWARNING ⚠️ /home/jupyter/work/resources/data_yolo/images/train/kosul_Im_0004543.jpg: 1 duplicate labels removed\n",
      "\u001b[34m\u001b[1mtrain: \u001b[0mWARNING ⚠️ /home/jupyter/work/resources/data_yolo/images/train/kosul_Im_0004552.jpg: 1 duplicate labels removed\n",
      "\u001b[34m\u001b[1mtrain: \u001b[0mWARNING ⚠️ /home/jupyter/work/resources/data_yolo/images/train/kosul_Im_0004565.jpg: 1 duplicate labels removed\n",
      "\u001b[34m\u001b[1mtrain: \u001b[0mWARNING ⚠️ /home/jupyter/work/resources/data_yolo/images/train/kosul_Im_0004602.jpg: 1 duplicate labels removed\n",
      "\u001b[34m\u001b[1mtrain: \u001b[0mWARNING ⚠️ /home/jupyter/work/resources/data_yolo/images/train/kosul_Im_0004605.jpg: 2 duplicate labels removed\n",
      "\u001b[34m\u001b[1mtrain: \u001b[0mWARNING ⚠️ /home/jupyter/work/resources/data_yolo/images/train/kosul_Im_0004639.jpg: 1 duplicate labels removed\n",
      "\u001b[34m\u001b[1mtrain: \u001b[0mWARNING ⚠️ /home/jupyter/work/resources/data_yolo/images/train/kosul_Im_0004650.jpg: 1 duplicate labels removed\n",
      "\u001b[34m\u001b[1mtrain: \u001b[0mWARNING ⚠️ /home/jupyter/work/resources/data_yolo/images/train/kosul_Im_0004669.jpg: 2 duplicate labels removed\n",
      "\u001b[34m\u001b[1mtrain: \u001b[0mWARNING ⚠️ /home/jupyter/work/resources/data_yolo/images/train/kosul_Im_0004683_1.jpg: 2 duplicate labels removed\n",
      "\u001b[34m\u001b[1mtrain: \u001b[0mWARNING ⚠️ /home/jupyter/work/resources/data_yolo/images/train/kosul_Im_0004688.jpg: 1 duplicate labels removed\n",
      "\u001b[34m\u001b[1mtrain: \u001b[0mWARNING ⚠️ /home/jupyter/work/resources/data_yolo/images/train/kosul_Im_0004694.jpg: 1 duplicate labels removed\n",
      "\u001b[34m\u001b[1mtrain: \u001b[0mWARNING ⚠️ /home/jupyter/work/resources/data_yolo/images/train/kosul_Im_0004705.jpg: 3 duplicate labels removed\n",
      "\u001b[34m\u001b[1mtrain: \u001b[0mWARNING ⚠️ /home/jupyter/work/resources/data_yolo/images/train/kosul_Im_0004708.jpg: 1 duplicate labels removed\n",
      "\u001b[34m\u001b[1mtrain: \u001b[0mWARNING ⚠️ /home/jupyter/work/resources/data_yolo/images/train/kosul_Im_0004711.jpg: 1 duplicate labels removed\n",
      "\u001b[34m\u001b[1mtrain: \u001b[0mWARNING ⚠️ /home/jupyter/work/resources/data_yolo/images/train/kosul_Im_0004720.jpg: 1 duplicate labels removed\n",
      "\u001b[34m\u001b[1mtrain: \u001b[0mWARNING ⚠️ /home/jupyter/work/resources/data_yolo/images/train/kosul_Im_0004735.jpg: 2 duplicate labels removed\n",
      "\u001b[34m\u001b[1mtrain: \u001b[0mWARNING ⚠️ /home/jupyter/work/resources/data_yolo/images/train/kosul_Im_0004747_1.jpg: 1 duplicate labels removed\n",
      "\u001b[34m\u001b[1mtrain: \u001b[0mWARNING ⚠️ /home/jupyter/work/resources/data_yolo/images/train/kosul_Im_0004754.jpg: 1 duplicate labels removed\n",
      "\u001b[34m\u001b[1mtrain: \u001b[0mWARNING ⚠️ /home/jupyter/work/resources/data_yolo/images/train/kosul_Im_0004759_2.jpg: 1 duplicate labels removed\n",
      "\u001b[34m\u001b[1mtrain: \u001b[0mWARNING ⚠️ /home/jupyter/work/resources/data_yolo/images/train/kosul_Im_0004778_1.jpg: 1 duplicate labels removed\n",
      "\u001b[34m\u001b[1mtrain: \u001b[0mWARNING ⚠️ /home/jupyter/work/resources/data_yolo/images/train/kosul_Im_0004783_1.jpg: 1 duplicate labels removed\n",
      "\u001b[34m\u001b[1mtrain: \u001b[0mWARNING ⚠️ /home/jupyter/work/resources/data_yolo/images/train/kosul_Im_0004783_3.jpg: 1 duplicate labels removed\n",
      "\u001b[34m\u001b[1mtrain: \u001b[0mWARNING ⚠️ /home/jupyter/work/resources/data_yolo/images/train/kosul_Im_0004785.jpg: 2 duplicate labels removed\n",
      "\u001b[34m\u001b[1mtrain: \u001b[0mWARNING ⚠️ /home/jupyter/work/resources/data_yolo/images/train/kosul_Im_0004803_1.jpg: 1 duplicate labels removed\n",
      "\u001b[34m\u001b[1mtrain: \u001b[0mWARNING ⚠️ /home/jupyter/work/resources/data_yolo/images/train/kosul_Im_0004812.jpg: 1 duplicate labels removed\n",
      "\u001b[34m\u001b[1mtrain: \u001b[0mWARNING ⚠️ /home/jupyter/work/resources/data_yolo/images/train/kosul_Im_0004812_1.jpg: 1 duplicate labels removed\n",
      "\u001b[34m\u001b[1mtrain: \u001b[0mWARNING ⚠️ /home/jupyter/work/resources/data_yolo/images/train/kosul_Im_0004865.jpg: 2 duplicate labels removed\n",
      "\u001b[34m\u001b[1mtrain: \u001b[0mWARNING ⚠️ /home/jupyter/work/resources/data_yolo/images/train/kosul_Im_0004867.jpg: 1 duplicate labels removed\n",
      "\u001b[34m\u001b[1mtrain: \u001b[0mWARNING ⚠️ /home/jupyter/work/resources/data_yolo/images/train/kosul_Im_0004868.jpg: 1 duplicate labels removed\n",
      "\u001b[34m\u001b[1mtrain: \u001b[0mWARNING ⚠️ /home/jupyter/work/resources/data_yolo/images/train/kosul_Im_0004900.jpg: 3 duplicate labels removed\n",
      "\u001b[34m\u001b[1mtrain: \u001b[0mWARNING ⚠️ /home/jupyter/work/resources/data_yolo/images/train/kosul_Im_0004902.jpg: 1 duplicate labels removed\n",
      "\u001b[34m\u001b[1mtrain: \u001b[0mWARNING ⚠️ /home/jupyter/work/resources/data_yolo/images/train/kosul_Im_0004907.jpg: 1 duplicate labels removed\n",
      "\u001b[34m\u001b[1mtrain: \u001b[0mWARNING ⚠️ /home/jupyter/work/resources/data_yolo/images/train/kosul_Im_0004912.jpg: 4 duplicate labels removed\n",
      "\u001b[34m\u001b[1mtrain: \u001b[0mWARNING ⚠️ /home/jupyter/work/resources/data_yolo/images/train/kosul_Im_0004954.jpg: 1 duplicate labels removed\n",
      "\u001b[34m\u001b[1mtrain: \u001b[0mWARNING ⚠️ /home/jupyter/work/resources/data_yolo/images/train/kosul_Im_0004975.jpg: 1 duplicate labels removed\n",
      "\u001b[34m\u001b[1mtrain: \u001b[0mWARNING ⚠️ /home/jupyter/work/resources/data_yolo/images/train/kosul_Im_0005002.jpg: 1 duplicate labels removed\n",
      "\u001b[34m\u001b[1mtrain: \u001b[0mWARNING ⚠️ /home/jupyter/work/resources/data_yolo/images/train/kosul_Im_0005039.jpg: 3 duplicate labels removed\n",
      "\u001b[34m\u001b[1mtrain: \u001b[0mWARNING ⚠️ /home/jupyter/work/resources/data_yolo/images/train/kosul_Im_0005050.jpg: 1 duplicate labels removed\n",
      "\u001b[34m\u001b[1mtrain: \u001b[0mWARNING ⚠️ /home/jupyter/work/resources/data_yolo/images/train/kosul_Im_0005054.jpg: 2 duplicate labels removed\n",
      "\u001b[34m\u001b[1mtrain: \u001b[0mWARNING ⚠️ /home/jupyter/work/resources/data_yolo/images/train/kosul_Im_0005059_1.jpg: 1 duplicate labels removed\n",
      "\u001b[34m\u001b[1mtrain: \u001b[0mWARNING ⚠️ /home/jupyter/work/resources/data_yolo/images/train/kosul_Im_0005069.jpg: 1 duplicate labels removed\n",
      "\u001b[34m\u001b[1mtrain: \u001b[0mWARNING ⚠️ /home/jupyter/work/resources/data_yolo/images/train/kosul_Im_0005081.jpg: 1 duplicate labels removed\n",
      "\u001b[34m\u001b[1mtrain: \u001b[0mWARNING ⚠️ /home/jupyter/work/resources/data_yolo/images/train/kosul_Im_0005082.jpg: 1 duplicate labels removed\n",
      "\u001b[34m\u001b[1mtrain: \u001b[0mWARNING ⚠️ /home/jupyter/work/resources/data_yolo/images/train/kosul_Im_0005090.jpg: 1 duplicate labels removed\n",
      "\u001b[34m\u001b[1mtrain: \u001b[0mWARNING ⚠️ /home/jupyter/work/resources/data_yolo/images/train/kosul_Im_0005092_1.jpg: 1 duplicate labels removed\n",
      "\u001b[34m\u001b[1mtrain: \u001b[0mWARNING ⚠️ /home/jupyter/work/resources/data_yolo/images/train/kosul_Im_0005099_1.jpg: 2 duplicate labels removed\n",
      "\u001b[34m\u001b[1mtrain: \u001b[0mWARNING ⚠️ /home/jupyter/work/resources/data_yolo/images/train/kosul_Im_0005112.jpg: 1 duplicate labels removed\n",
      "\u001b[34m\u001b[1mtrain: \u001b[0mWARNING ⚠️ /home/jupyter/work/resources/data_yolo/images/train/kosul_Im_0005138.jpg: 1 duplicate labels removed\n",
      "\u001b[34m\u001b[1mtrain: \u001b[0mWARNING ⚠️ /home/jupyter/work/resources/data_yolo/images/train/kosul_Im_0005143.jpg: 2 duplicate labels removed\n",
      "\u001b[34m\u001b[1mtrain: \u001b[0mWARNING ⚠️ /home/jupyter/work/resources/data_yolo/images/train/kosul_Im_0005162.jpg: 1 duplicate labels removed\n",
      "\u001b[34m\u001b[1mtrain: \u001b[0mWARNING ⚠️ /home/jupyter/work/resources/data_yolo/images/train/kosul_Im_0005186_1.jpg: 1 duplicate labels removed\n",
      "\u001b[34m\u001b[1mtrain: \u001b[0mWARNING ⚠️ /home/jupyter/work/resources/data_yolo/images/train/kosul_Im_0005188.jpg: 2 duplicate labels removed\n",
      "\u001b[34m\u001b[1mtrain: \u001b[0mWARNING ⚠️ /home/jupyter/work/resources/data_yolo/images/train/kosul_Im_0005201.jpg: 1 duplicate labels removed\n",
      "\u001b[34m\u001b[1mtrain: \u001b[0mWARNING ⚠️ /home/jupyter/work/resources/data_yolo/images/train/kosul_Im_0005224.jpg: 3 duplicate labels removed\n",
      "\u001b[34m\u001b[1mtrain: \u001b[0mWARNING ⚠️ /home/jupyter/work/resources/data_yolo/images/train/kosul_Im_0005225_1.jpg: 1 duplicate labels removed\n",
      "\u001b[34m\u001b[1mtrain: \u001b[0mWARNING ⚠️ /home/jupyter/work/resources/data_yolo/images/train/kosul_Im_0005228.jpg: 1 duplicate labels removed\n",
      "\u001b[34m\u001b[1mtrain: \u001b[0mWARNING ⚠️ /home/jupyter/work/resources/data_yolo/images/train/kosul_Im_0005250.jpg: 1 duplicate labels removed\n",
      "\u001b[34m\u001b[1mtrain: \u001b[0mWARNING ⚠️ /home/jupyter/work/resources/data_yolo/images/train/kosul_Im_0005284.jpg: 2 duplicate labels removed\n",
      "\u001b[34m\u001b[1mtrain: \u001b[0mWARNING ⚠️ /home/jupyter/work/resources/data_yolo/images/train/kosul_Im_0005300.jpg: 2 duplicate labels removed\n",
      "\u001b[34m\u001b[1mtrain: \u001b[0mWARNING ⚠️ /home/jupyter/work/resources/data_yolo/images/train/kosul_Im_0005305.jpg: 1 duplicate labels removed\n",
      "\u001b[34m\u001b[1mtrain: \u001b[0mWARNING ⚠️ /home/jupyter/work/resources/data_yolo/images/train/kosul_Im_0005317.jpg: 1 duplicate labels removed\n",
      "\u001b[34m\u001b[1mtrain: \u001b[0mWARNING ⚠️ /home/jupyter/work/resources/data_yolo/images/train/kosul_Im_0005329.jpg: 1 duplicate labels removed\n",
      "\u001b[34m\u001b[1mtrain: \u001b[0mWARNING ⚠️ /home/jupyter/work/resources/data_yolo/images/train/kosul_Im_0005356.jpg: 2 duplicate labels removed\n",
      "\u001b[34m\u001b[1mtrain: \u001b[0mWARNING ⚠️ /home/jupyter/work/resources/data_yolo/images/train/kosul_Im_0005359.jpg: 1 duplicate labels removed\n",
      "\u001b[34m\u001b[1mtrain: \u001b[0mWARNING ⚠️ /home/jupyter/work/resources/data_yolo/images/train/kosul_Im_0005370.jpg: 2 duplicate labels removed\n",
      "\u001b[34m\u001b[1mtrain: \u001b[0mWARNING ⚠️ /home/jupyter/work/resources/data_yolo/images/train/kosul_Im_0005378.jpg: 1 duplicate labels removed\n",
      "\u001b[34m\u001b[1mtrain: \u001b[0mWARNING ⚠️ /home/jupyter/work/resources/data_yolo/images/train/kosul_Im_0005383.jpg: 1 duplicate labels removed\n",
      "\u001b[34m\u001b[1mtrain: \u001b[0mWARNING ⚠️ /home/jupyter/work/resources/data_yolo/images/train/kosul_Im_0005384.jpg: 1 duplicate labels removed\n",
      "\u001b[34m\u001b[1mtrain: \u001b[0mWARNING ⚠️ /home/jupyter/work/resources/data_yolo/images/train/kosul_Im_0005404.jpg: 1 duplicate labels removed\n",
      "\u001b[34m\u001b[1mtrain: \u001b[0mWARNING ⚠️ /home/jupyter/work/resources/data_yolo/images/train/kosul_Im_0005416.jpg: 2 duplicate labels removed\n",
      "\u001b[34m\u001b[1mtrain: \u001b[0mWARNING ⚠️ /home/jupyter/work/resources/data_yolo/images/train/kosul_Im_0005428.jpg: 1 duplicate labels removed\n",
      "\u001b[34m\u001b[1mtrain: \u001b[0mWARNING ⚠️ /home/jupyter/work/resources/data_yolo/images/train/kosul_Im_0005433.jpg: 1 duplicate labels removed\n",
      "\u001b[34m\u001b[1mtrain: \u001b[0mWARNING ⚠️ /home/jupyter/work/resources/data_yolo/images/train/kosul_Im_0005450.jpg: 1 duplicate labels removed\n",
      "\u001b[34m\u001b[1mtrain: \u001b[0mWARNING ⚠️ /home/jupyter/work/resources/data_yolo/images/train/kosul_Im_0005451.jpg: 1 duplicate labels removed\n",
      "\u001b[34m\u001b[1mtrain: \u001b[0mWARNING ⚠️ /home/jupyter/work/resources/data_yolo/images/train/kosul_Im_0005452.jpg: 1 duplicate labels removed\n",
      "\u001b[34m\u001b[1mtrain: \u001b[0mWARNING ⚠️ /home/jupyter/work/resources/data_yolo/images/train/kosul_Im_0005457.jpg: 1 duplicate labels removed\n",
      "\u001b[34m\u001b[1mtrain: \u001b[0mWARNING ⚠️ /home/jupyter/work/resources/data_yolo/images/train/kosul_Im_0005484.jpg: 6 duplicate labels removed\n",
      "\u001b[34m\u001b[1mtrain: \u001b[0mWARNING ⚠️ /home/jupyter/work/resources/data_yolo/images/train/kosul_Im_0005484_1.jpg: 1 duplicate labels removed\n",
      "\u001b[34m\u001b[1mtrain: \u001b[0mWARNING ⚠️ /home/jupyter/work/resources/data_yolo/images/train/kosul_Im_0005491.jpg: 4 duplicate labels removed\n",
      "\u001b[34m\u001b[1mtrain: \u001b[0mWARNING ⚠️ /home/jupyter/work/resources/data_yolo/images/train/kosul_Im_0005507.jpg: 1 duplicate labels removed\n",
      "\u001b[34m\u001b[1mtrain: \u001b[0mWARNING ⚠️ /home/jupyter/work/resources/data_yolo/images/train/kosul_Im_0005509.jpg: 2 duplicate labels removed\n",
      "\u001b[34m\u001b[1mtrain: \u001b[0mWARNING ⚠️ /home/jupyter/work/resources/data_yolo/images/train/kosul_Im_0005510.jpg: 1 duplicate labels removed\n",
      "\u001b[34m\u001b[1mtrain: \u001b[0mWARNING ⚠️ /home/jupyter/work/resources/data_yolo/images/train/kosul_Im_0005531.jpg: 1 duplicate labels removed\n",
      "\u001b[34m\u001b[1mtrain: \u001b[0mWARNING ⚠️ /home/jupyter/work/resources/data_yolo/images/train/kosul_Im_0005549.jpg: 2 duplicate labels removed\n",
      "\u001b[34m\u001b[1mtrain: \u001b[0mWARNING ⚠️ /home/jupyter/work/resources/data_yolo/images/train/kosul_Im_0005555.jpg: 1 duplicate labels removed\n",
      "\u001b[34m\u001b[1mtrain: \u001b[0mWARNING ⚠️ /home/jupyter/work/resources/data_yolo/images/train/kosul_Im_0005573.jpg: 1 duplicate labels removed\n",
      "\u001b[34m\u001b[1mtrain: \u001b[0mWARNING ⚠️ /home/jupyter/work/resources/data_yolo/images/train/kosul_Im_0005605.jpg: 1 duplicate labels removed\n",
      "\u001b[34m\u001b[1mtrain: \u001b[0mWARNING ⚠️ /home/jupyter/work/resources/data_yolo/images/train/kosul_Im_0005608.jpg: 1 duplicate labels removed\n",
      "\u001b[34m\u001b[1mtrain: \u001b[0mWARNING ⚠️ /home/jupyter/work/resources/data_yolo/images/train/kosul_Im_0005618.jpg: 2 duplicate labels removed\n",
      "\u001b[34m\u001b[1mtrain: \u001b[0mWARNING ⚠️ /home/jupyter/work/resources/data_yolo/images/train/kosul_Im_0005620.jpg: 1 duplicate labels removed\n",
      "\u001b[34m\u001b[1mtrain: \u001b[0mWARNING ⚠️ /home/jupyter/work/resources/data_yolo/images/train/kosul_Im_0005643.jpg: 2 duplicate labels removed\n",
      "\u001b[34m\u001b[1mtrain: \u001b[0mWARNING ⚠️ /home/jupyter/work/resources/data_yolo/images/train/kosul_Im_0005670.jpg: 2 duplicate labels removed\n",
      "\u001b[34m\u001b[1mtrain: \u001b[0mWARNING ⚠️ /home/jupyter/work/resources/data_yolo/images/train/kosul_Im_0005674.jpg: 1 duplicate labels removed\n",
      "\u001b[34m\u001b[1mtrain: \u001b[0mWARNING ⚠️ /home/jupyter/work/resources/data_yolo/images/train/kosul_Im_0005682.jpg: 1 duplicate labels removed\n",
      "\u001b[34m\u001b[1mtrain: \u001b[0mWARNING ⚠️ /home/jupyter/work/resources/data_yolo/images/train/kosul_Im_0005699.jpg: 1 duplicate labels removed\n",
      "\u001b[34m\u001b[1mtrain: \u001b[0mWARNING ⚠️ /home/jupyter/work/resources/data_yolo/images/train/kosul_Im_0005729_1.jpg: 1 duplicate labels removed\n",
      "\u001b[34m\u001b[1mtrain: \u001b[0mWARNING ⚠️ /home/jupyter/work/resources/data_yolo/images/train/kosul_Im_0005732.jpg: 3 duplicate labels removed\n",
      "\u001b[34m\u001b[1mtrain: \u001b[0mWARNING ⚠️ /home/jupyter/work/resources/data_yolo/images/train/kosul_Im_0005749.jpg: 1 duplicate labels removed\n",
      "\u001b[34m\u001b[1mtrain: \u001b[0mWARNING ⚠️ /home/jupyter/work/resources/data_yolo/images/train/kosul_Im_0005750.jpg: 1 duplicate labels removed\n",
      "\u001b[34m\u001b[1mtrain: \u001b[0mWARNING ⚠️ /home/jupyter/work/resources/data_yolo/images/train/kosul_Im_0005754.jpg: 1 duplicate labels removed\n",
      "\u001b[34m\u001b[1mtrain: \u001b[0mWARNING ⚠️ /home/jupyter/work/resources/data_yolo/images/train/kosul_Im_0005754_1.jpg: 2 duplicate labels removed\n",
      "\u001b[34m\u001b[1mtrain: \u001b[0mWARNING ⚠️ /home/jupyter/work/resources/data_yolo/images/train/kosul_Im_0005772.jpg: 1 duplicate labels removed\n",
      "\u001b[34m\u001b[1mtrain: \u001b[0mWARNING ⚠️ /home/jupyter/work/resources/data_yolo/images/train/kosul_Im_0005793.jpg: 1 duplicate labels removed\n",
      "\u001b[34m\u001b[1mtrain: \u001b[0mWARNING ⚠️ /home/jupyter/work/resources/data_yolo/images/train/kosul_Im_0005804.jpg: 1 duplicate labels removed\n",
      "\u001b[34m\u001b[1mtrain: \u001b[0mWARNING ⚠️ /home/jupyter/work/resources/data_yolo/images/train/kosul_Im_0005816.jpg: 1 duplicate labels removed\n",
      "\u001b[34m\u001b[1mtrain: \u001b[0mWARNING ⚠️ /home/jupyter/work/resources/data_yolo/images/train/kosul_Im_0005817.jpg: 2 duplicate labels removed\n",
      "\u001b[34m\u001b[1mtrain: \u001b[0mWARNING ⚠️ /home/jupyter/work/resources/data_yolo/images/train/kosul_Im_0005825.jpg: 3 duplicate labels removed\n",
      "\u001b[34m\u001b[1mtrain: \u001b[0mWARNING ⚠️ /home/jupyter/work/resources/data_yolo/images/train/kosul_Im_0005835.jpg: 1 duplicate labels removed\n",
      "\u001b[34m\u001b[1mtrain: \u001b[0mWARNING ⚠️ /home/jupyter/work/resources/data_yolo/images/train/kosul_Im_0005851.jpg: 2 duplicate labels removed\n",
      "\u001b[34m\u001b[1mtrain: \u001b[0mWARNING ⚠️ /home/jupyter/work/resources/data_yolo/images/train/kosul_Im_0005860.jpg: 1 duplicate labels removed\n",
      "\u001b[34m\u001b[1mtrain: \u001b[0mWARNING ⚠️ /home/jupyter/work/resources/data_yolo/images/train/kosul_Im_0005862_2.jpg: 5 duplicate labels removed\n",
      "\u001b[34m\u001b[1mtrain: \u001b[0mWARNING ⚠️ /home/jupyter/work/resources/data_yolo/images/train/kosul_Im_0005882.jpg: 1 duplicate labels removed\n",
      "\u001b[34m\u001b[1mtrain: \u001b[0mWARNING ⚠️ /home/jupyter/work/resources/data_yolo/images/train/kosul_Im_0005886.jpg: 2 duplicate labels removed\n",
      "\u001b[34m\u001b[1mtrain: \u001b[0mWARNING ⚠️ /home/jupyter/work/resources/data_yolo/images/train/kosul_Im_0005905.jpg: 1 duplicate labels removed\n",
      "\u001b[34m\u001b[1mtrain: \u001b[0mWARNING ⚠️ /home/jupyter/work/resources/data_yolo/images/train/kosul_Im_0005908.jpg: 4 duplicate labels removed\n",
      "\u001b[34m\u001b[1mtrain: \u001b[0mWARNING ⚠️ /home/jupyter/work/resources/data_yolo/images/train/kosul_Im_0005916.jpg: 1 duplicate labels removed\n",
      "\u001b[34m\u001b[1mtrain: \u001b[0mWARNING ⚠️ /home/jupyter/work/resources/data_yolo/images/train/kosul_Im_0032558.jpg: 1 duplicate labels removed\n",
      "\u001b[34m\u001b[1mtrain: \u001b[0mWARNING ⚠️ /home/jupyter/work/resources/data_yolo/images/train/kosul_Im_0033093.jpg: 1 duplicate labels removed\n",
      "\u001b[34m\u001b[1mtrain: \u001b[0mWARNING ⚠️ /home/jupyter/work/resources/data_yolo/images/train/kosul_Im_0034048.jpg: 1 duplicate labels removed\n",
      "\u001b[34m\u001b[1mtrain: \u001b[0mWARNING ⚠️ /home/jupyter/work/resources/data_yolo/images/train/kosul_Im_0034174.jpg: 1 duplicate labels removed\n",
      "\u001b[34m\u001b[1mtrain: \u001b[0mWARNING ⚠️ /home/jupyter/work/resources/data_yolo/images/train/kosul_Im_0034451.jpg: 1 duplicate labels removed\n",
      "\u001b[34m\u001b[1mtrain: \u001b[0mWARNING ⚠️ /home/jupyter/work/resources/data_yolo/images/train/kosul_Im_0034505.jpg: 1 duplicate labels removed\n",
      "\u001b[34m\u001b[1mtrain: \u001b[0mWARNING ⚠️ /home/jupyter/work/resources/data_yolo/images/train/kosul_Im_0034819.jpg: 1 duplicate labels removed\n",
      "\u001b[34m\u001b[1mtrain: \u001b[0mWARNING ⚠️ /home/jupyter/work/resources/data_yolo/images/train/kosul_Im_0035427.jpg: 1 duplicate labels removed\n",
      "\u001b[34m\u001b[1mtrain: \u001b[0mWARNING ⚠️ /home/jupyter/work/resources/data_yolo/images/train/kosul_Im_0035583.jpg: 2 duplicate labels removed\n",
      "\u001b[34m\u001b[1mtrain: \u001b[0mWARNING ⚠️ /home/jupyter/work/resources/data_yolo/images/train/kosul_Im_0035592.jpg: 1 duplicate labels removed\n",
      "\u001b[34m\u001b[1mtrain: \u001b[0mWARNING ⚠️ /home/jupyter/work/resources/data_yolo/images/train/kosul_Im_0035748.jpg: 2 duplicate labels removed\n",
      "\u001b[34m\u001b[1mtrain: \u001b[0mWARNING ⚠️ /home/jupyter/work/resources/data_yolo/images/train/kosul_Im_0035767.jpg: 1 duplicate labels removed\n",
      "\u001b[34m\u001b[1mtrain: \u001b[0mWARNING ⚠️ /home/jupyter/work/resources/data_yolo/images/train/kosul_Im_0036186.jpg: 1 duplicate labels removed\n",
      "\u001b[34m\u001b[1mtrain: \u001b[0mWARNING ⚠️ /home/jupyter/work/resources/data_yolo/images/train/kosul_Im_0037187.jpg: 1 duplicate labels removed\n",
      "\u001b[34m\u001b[1mtrain: \u001b[0mWARNING ⚠️ /home/jupyter/work/resources/data_yolo/images/train/kosul_Im_0037226.jpg: 1 duplicate labels removed\n",
      "\u001b[34m\u001b[1mtrain: \u001b[0mWARNING ⚠️ /home/jupyter/work/resources/data_yolo/images/train/kosul_Im_0037425.jpg: 2 duplicate labels removed\n",
      "\u001b[34m\u001b[1mtrain: \u001b[0mWARNING ⚠️ /home/jupyter/work/resources/data_yolo/images/train/kosul_Im_0037473.jpg: 1 duplicate labels removed\n",
      "\u001b[34m\u001b[1mtrain: \u001b[0mWARNING ⚠️ /home/jupyter/work/resources/data_yolo/images/train/kosul_Im_0037538.jpg: 2 duplicate labels removed\n",
      "\u001b[34m\u001b[1mtrain: \u001b[0mWARNING ⚠️ /home/jupyter/work/resources/data_yolo/images/train/kosul_Im_0037839.jpg: 2 duplicate labels removed\n",
      "\u001b[34m\u001b[1mtrain: \u001b[0mWARNING ⚠️ /home/jupyter/work/resources/data_yolo/images/train/kosul_Im_0037987.jpg: 1 duplicate labels removed\n",
      "\u001b[34m\u001b[1mtrain: \u001b[0mWARNING ⚠️ /home/jupyter/work/resources/data_yolo/images/train/kosul_Im_0038048.jpg: 1 duplicate labels removed\n",
      "\u001b[34m\u001b[1mtrain: \u001b[0mWARNING ⚠️ /home/jupyter/work/resources/data_yolo/images/train/kosul_Im_0038949.jpg: 1 duplicate labels removed\n",
      "\u001b[34m\u001b[1mtrain: \u001b[0mWARNING ⚠️ /home/jupyter/work/resources/data_yolo/images/train/kosul_Im_0039193.jpg: 1 duplicate labels removed\n",
      "\u001b[34m\u001b[1mtrain: \u001b[0mWARNING ⚠️ /home/jupyter/work/resources/data_yolo/images/train/kosul_Im_0039302.jpg: 1 duplicate labels removed\n",
      "\u001b[34m\u001b[1mtrain: \u001b[0mWARNING ⚠️ /home/jupyter/work/resources/data_yolo/images/train/kosul_Im_0039986.jpg: 1 duplicate labels removed\n",
      "\u001b[34m\u001b[1mtrain: \u001b[0mWARNING ⚠️ /home/jupyter/work/resources/data_yolo/images/train/kosul_Im_0040457.jpg: 1 duplicate labels removed\n",
      "\u001b[34m\u001b[1mtrain: \u001b[0mWARNING ⚠️ /home/jupyter/work/resources/data_yolo/images/train/kosul_Im_0040545.jpg: 1 duplicate labels removed\n",
      "\u001b[34m\u001b[1mtrain: \u001b[0mWARNING ⚠️ /home/jupyter/work/resources/data_yolo/images/train/kosul_Im_0040768.jpg: 1 duplicate labels removed\n",
      "\u001b[34m\u001b[1mtrain: \u001b[0mWARNING ⚠️ /home/jupyter/work/resources/data_yolo/images/train/kosul_Im_0041632.jpg: 1 duplicate labels removed\n",
      "\u001b[34m\u001b[1mtrain: \u001b[0mWARNING ⚠️ /home/jupyter/work/resources/data_yolo/images/train/kosul_Im_0042161.jpg: 1 duplicate labels removed\n",
      "\u001b[34m\u001b[1mtrain: \u001b[0mWARNING ⚠️ /home/jupyter/work/resources/data_yolo/images/train/kosul_Im_0042288.jpg: 2 duplicate labels removed\n",
      "\u001b[34m\u001b[1mtrain: \u001b[0mWARNING ⚠️ /home/jupyter/work/resources/data_yolo/images/train/kosul_Im_0043544.jpg: 1 duplicate labels removed\n",
      "\u001b[34m\u001b[1mtrain: \u001b[0mWARNING ⚠️ /home/jupyter/work/resources/data_yolo/images/train/kosul_Im_0043950.jpg: 4 duplicate labels removed\n",
      "\u001b[34m\u001b[1mtrain: \u001b[0mWARNING ⚠️ /home/jupyter/work/resources/data_yolo/images/train/kosul_Im_0044036.jpg: 1 duplicate labels removed\n",
      "\u001b[34m\u001b[1mtrain: \u001b[0mWARNING ⚠️ /home/jupyter/work/resources/data_yolo/images/train/kosul_Im_0044157.jpg: 1 duplicate labels removed\n",
      "\u001b[34m\u001b[1mtrain: \u001b[0mWARNING ⚠️ /home/jupyter/work/resources/data_yolo/images/train/kosul_Im_0044173.jpg: 1 duplicate labels removed\n",
      "\u001b[34m\u001b[1mtrain: \u001b[0mWARNING ⚠️ /home/jupyter/work/resources/data_yolo/images/train/kosul_Im_0044201.jpg: 1 duplicate labels removed\n",
      "\u001b[34m\u001b[1mtrain: \u001b[0mWARNING ⚠️ /home/jupyter/work/resources/data_yolo/images/train/kosul_Im_0044256.jpg: 1 duplicate labels removed\n",
      "\u001b[34m\u001b[1mtrain: \u001b[0mWARNING ⚠️ /home/jupyter/work/resources/data_yolo/images/train/kosul_Im_0044464.jpg: 2 duplicate labels removed\n",
      "\u001b[34m\u001b[1mtrain: \u001b[0mWARNING ⚠️ /home/jupyter/work/resources/data_yolo/images/train/kosul_Im_0044491.jpg: 3 duplicate labels removed\n",
      "\u001b[34m\u001b[1mtrain: \u001b[0mWARNING ⚠️ /home/jupyter/work/resources/data_yolo/images/train/kosul_Im_0044943.jpg: 1 duplicate labels removed\n",
      "\u001b[34m\u001b[1mtrain: \u001b[0mWARNING ⚠️ /home/jupyter/work/resources/data_yolo/images/train/kosul_Im_0045708.jpg: 3 duplicate labels removed\n",
      "\u001b[34m\u001b[1mtrain: \u001b[0mWARNING ⚠️ /home/jupyter/work/resources/data_yolo/images/train/kosul_Im_0045997.jpg: 1 duplicate labels removed\n",
      "\u001b[34m\u001b[1mtrain: \u001b[0mWARNING ⚠️ /home/jupyter/work/resources/data_yolo/images/train/kosul_Im_0046074.jpg: 1 duplicate labels removed\n",
      "\u001b[34m\u001b[1mtrain: \u001b[0mWARNING ⚠️ /home/jupyter/work/resources/data_yolo/images/train/kosul_Im_0046591.jpg: 1 duplicate labels removed\n",
      "\u001b[34m\u001b[1mtrain: \u001b[0mWARNING ⚠️ /home/jupyter/work/resources/data_yolo/images/train/kosul_Im_0046948.jpg: 4 duplicate labels removed\n",
      "\u001b[34m\u001b[1mtrain: \u001b[0mWARNING ⚠️ /home/jupyter/work/resources/data_yolo/images/train/kosul_Im_0047038.jpg: 2 duplicate labels removed\n",
      "\u001b[34m\u001b[1mtrain: \u001b[0mWARNING ⚠️ /home/jupyter/work/resources/data_yolo/images/train/kosul_Im_0047889.jpg: 1 duplicate labels removed\n",
      "\u001b[34m\u001b[1mtrain: \u001b[0mWARNING ⚠️ /home/jupyter/work/resources/data_yolo/images/train/kosul_Im_0047925.jpg: 1 duplicate labels removed\n",
      "\u001b[34m\u001b[1mtrain: \u001b[0mWARNING ⚠️ /home/jupyter/work/resources/data_yolo/images/train/kosul_Im_0048115.jpg: 3 duplicate labels removed\n",
      "\u001b[34m\u001b[1mtrain: \u001b[0mWARNING ⚠️ /home/jupyter/work/resources/data_yolo/images/train/kosul_Im_0048390.jpg: 1 duplicate labels removed\n",
      "\u001b[34m\u001b[1mtrain: \u001b[0mWARNING ⚠️ /home/jupyter/work/resources/data_yolo/images/train/kosul_Im_0048620.jpg: 1 duplicate labels removed\n",
      "\u001b[34m\u001b[1mtrain: \u001b[0mWARNING ⚠️ /home/jupyter/work/resources/data_yolo/images/train/kosul_Im_0049081.jpg: 1 duplicate labels removed\n",
      "\u001b[34m\u001b[1mtrain: \u001b[0mWARNING ⚠️ /home/jupyter/work/resources/data_yolo/images/train/kosul_PICT0119.JPG: 1 duplicate labels removed\n",
      "\u001b[34m\u001b[1mtrain: \u001b[0mWARNING ⚠️ /home/jupyter/work/resources/data_yolo/images/train/kosul_PICT0181.JPG: 4 duplicate labels removed\n",
      "\u001b[34m\u001b[1mtrain: \u001b[0mWARNING ⚠️ /home/jupyter/work/resources/data_yolo/images/train/kosul_PTDC1641.JPG: 3 duplicate labels removed\n",
      "\u001b[34m\u001b[1mtrain: \u001b[0mWARNING ⚠️ /home/jupyter/work/resources/data_yolo/images/train/kosul_PTDC1666.JPG: 3 duplicate labels removed\n",
      "\u001b[34m\u001b[1mtrain: \u001b[0mWARNING ⚠️ /home/jupyter/work/resources/data_yolo/images/train/kosul_tr5a_roe deer_28sept.jpg: 1 duplicate labels removed\n",
      "\u001b[34m\u001b[1mtrain: \u001b[0mWARNING ⚠️ /home/jupyter/work/resources/data_yolo/images/train/kosul_tr5a_roe deer_28sept_copy.jpg: 1 duplicate labels removed\n",
      "\u001b[34m\u001b[1mtrain: \u001b[0mWARNING ⚠️ /home/jupyter/work/resources/data_yolo/images/train/kosul_tr65_RoeDeer_may2008.jpg: 1 duplicate labels removed\n",
      "\u001b[34m\u001b[1mtrain: \u001b[0mWARNING ⚠️ /home/jupyter/work/resources/data_yolo/images/train/olen_DSC_5105.JPG: 1 duplicate labels removed\n",
      "\u001b[34m\u001b[1mtrain: \u001b[0mWARNING ⚠️ /home/jupyter/work/resources/data_yolo/images/train/olen_DSC_5112.JPG: 2 duplicate labels removed\n",
      "\u001b[34m\u001b[1mtrain: \u001b[0mWARNING ⚠️ /home/jupyter/work/resources/data_yolo/images/train/olen_DSC_5113.JPG: 1 duplicate labels removed\n",
      "\u001b[34m\u001b[1mtrain: \u001b[0mWARNING ⚠️ /home/jupyter/work/resources/data_yolo/images/train/olen_DSC_5114.JPG: 4 duplicate labels removed\n",
      "\u001b[34m\u001b[1mtrain: \u001b[0mWARNING ⚠️ /home/jupyter/work/resources/data_yolo/images/train/olen_DSC_5115.JPG: 3 duplicate labels removed\n",
      "\u001b[34m\u001b[1mtrain: \u001b[0mWARNING ⚠️ /home/jupyter/work/resources/data_yolo/images/train/olen_DSC_5117.JPG: 3 duplicate labels removed\n",
      "\u001b[34m\u001b[1mtrain: \u001b[0mWARNING ⚠️ /home/jupyter/work/resources/data_yolo/images/train/olen_DSC_5118.JPG: 5 duplicate labels removed\n",
      "\u001b[34m\u001b[1mtrain: \u001b[0mWARNING ⚠️ /home/jupyter/work/resources/data_yolo/images/train/olen_DSC_5127.JPG: 1 duplicate labels removed\n",
      "\u001b[34m\u001b[1mtrain: \u001b[0mWARNING ⚠️ /home/jupyter/work/resources/data_yolo/images/train/olen_DSC_5131.JPG: 1 duplicate labels removed\n",
      "\u001b[34m\u001b[1mtrain: \u001b[0mWARNING ⚠️ /home/jupyter/work/resources/data_yolo/images/train/olen_DSC_5134.JPG: 1 duplicate labels removed\n",
      "\u001b[34m\u001b[1mtrain: \u001b[0mWARNING ⚠️ /home/jupyter/work/resources/data_yolo/images/train/olen_DSC_5135.JPG: 2 duplicate labels removed\n",
      "\u001b[34m\u001b[1mtrain: \u001b[0mWARNING ⚠️ /home/jupyter/work/resources/data_yolo/images/train/olen_DSC_5139.JPG: 1 duplicate labels removed\n",
      "\u001b[34m\u001b[1mtrain: \u001b[0mWARNING ⚠️ /home/jupyter/work/resources/data_yolo/images/train/olen_DSC_5141.JPG: 2 duplicate labels removed\n",
      "\u001b[34m\u001b[1mtrain: \u001b[0mWARNING ⚠️ /home/jupyter/work/resources/data_yolo/images/train/olen_DSC_5148.JPG: 1 duplicate labels removed\n",
      "\u001b[34m\u001b[1mtrain: \u001b[0mWARNING ⚠️ /home/jupyter/work/resources/data_yolo/images/train/olen_DSC_5149.JPG: 1 duplicate labels removed\n",
      "\u001b[34m\u001b[1mtrain: \u001b[0mWARNING ⚠️ /home/jupyter/work/resources/data_yolo/images/train/olen_DSC_5151.JPG: 1 duplicate labels removed\n",
      "\u001b[34m\u001b[1mtrain: \u001b[0mWARNING ⚠️ /home/jupyter/work/resources/data_yolo/images/train/olen_DSC_5152.JPG: 1 duplicate labels removed\n",
      "\u001b[34m\u001b[1mtrain: \u001b[0mWARNING ⚠️ /home/jupyter/work/resources/data_yolo/images/train/olen_DSC_5158.JPG: 1 duplicate labels removed\n",
      "\u001b[34m\u001b[1mtrain: \u001b[0mWARNING ⚠️ /home/jupyter/work/resources/data_yolo/images/train/olen_DSC_5162.JPG: 1 duplicate labels removed\n",
      "\u001b[34m\u001b[1mtrain: \u001b[0mWARNING ⚠️ /home/jupyter/work/resources/data_yolo/images/train/olen_DSC_5163.JPG: 1 duplicate labels removed\n",
      "\u001b[34m\u001b[1mtrain: \u001b[0mWARNING ⚠️ /home/jupyter/work/resources/data_yolo/images/train/olen_DSC_5164.JPG: 1 duplicate labels removed\n",
      "\u001b[34m\u001b[1mtrain: \u001b[0mWARNING ⚠️ /home/jupyter/work/resources/data_yolo/images/train/olen_DSC_5165.JPG: 1 duplicate labels removed\n",
      "\u001b[34m\u001b[1mtrain: \u001b[0mWARNING ⚠️ /home/jupyter/work/resources/data_yolo/images/train/olen_DSC_5166.JPG: 1 duplicate labels removed\n",
      "\u001b[34m\u001b[1mtrain: \u001b[0mWARNING ⚠️ /home/jupyter/work/resources/data_yolo/images/train/olen_DSC_5168.JPG: 1 duplicate labels removed\n",
      "\u001b[34m\u001b[1mtrain: \u001b[0mWARNING ⚠️ /home/jupyter/work/resources/data_yolo/images/train/olen_DSC_5169.JPG: 1 duplicate labels removed\n",
      "\u001b[34m\u001b[1mtrain: \u001b[0mWARNING ⚠️ /home/jupyter/work/resources/data_yolo/images/train/olen_DSC_5170.JPG: 1 duplicate labels removed\n",
      "\u001b[34m\u001b[1mtrain: \u001b[0mWARNING ⚠️ /home/jupyter/work/resources/data_yolo/images/train/olen_DSC_5171.JPG: 1 duplicate labels removed\n",
      "\u001b[34m\u001b[1mtrain: \u001b[0mWARNING ⚠️ /home/jupyter/work/resources/data_yolo/images/train/olen_DSC_5172.JPG: 1 duplicate labels removed\n",
      "\u001b[34m\u001b[1mtrain: \u001b[0mWARNING ⚠️ /home/jupyter/work/resources/data_yolo/images/train/olen_DSC_5173.JPG: 1 duplicate labels removed\n",
      "\u001b[34m\u001b[1mtrain: \u001b[0mWARNING ⚠️ /home/jupyter/work/resources/data_yolo/images/train/olen_DSC_5174.JPG: 1 duplicate labels removed\n",
      "\u001b[34m\u001b[1mtrain: \u001b[0mWARNING ⚠️ /home/jupyter/work/resources/data_yolo/images/train/olen_DSC_5176.JPG: 1 duplicate labels removed\n",
      "\u001b[34m\u001b[1mtrain: \u001b[0mWARNING ⚠️ /home/jupyter/work/resources/data_yolo/images/train/olen_DSC_5177.JPG: 3 duplicate labels removed\n",
      "\u001b[34m\u001b[1mtrain: \u001b[0mWARNING ⚠️ /home/jupyter/work/resources/data_yolo/images/train/olen_DSC_5179.JPG: 1 duplicate labels removed\n",
      "\u001b[34m\u001b[1mtrain: \u001b[0mWARNING ⚠️ /home/jupyter/work/resources/data_yolo/images/train/olen_DSC_5181.JPG: 1 duplicate labels removed\n",
      "\u001b[34m\u001b[1mtrain: \u001b[0mWARNING ⚠️ /home/jupyter/work/resources/data_yolo/images/train/olen_DSC_5182.JPG: 1 duplicate labels removed\n",
      "\u001b[34m\u001b[1mtrain: \u001b[0mWARNING ⚠️ /home/jupyter/work/resources/data_yolo/images/train/olen_DSC_5183.JPG: 1 duplicate labels removed\n",
      "\u001b[34m\u001b[1mtrain: \u001b[0mWARNING ⚠️ /home/jupyter/work/resources/data_yolo/images/train/olen_DSC_5184.JPG: 1 duplicate labels removed\n",
      "\u001b[34m\u001b[1mtrain: \u001b[0mWARNING ⚠️ /home/jupyter/work/resources/data_yolo/images/train/olen_DSC_5187.JPG: 2 duplicate labels removed\n",
      "\u001b[34m\u001b[1mtrain: \u001b[0mWARNING ⚠️ /home/jupyter/work/resources/data_yolo/images/train/olen_DSC_5188.JPG: 2 duplicate labels removed\n",
      "\u001b[34m\u001b[1mtrain: \u001b[0mWARNING ⚠️ /home/jupyter/work/resources/data_yolo/images/train/olen_DSC_5189.JPG: 1 duplicate labels removed\n",
      "\u001b[34m\u001b[1mtrain: \u001b[0mWARNING ⚠️ /home/jupyter/work/resources/data_yolo/images/train/olen_DSC_5191.JPG: 1 duplicate labels removed\n",
      "\u001b[34m\u001b[1mtrain: \u001b[0mWARNING ⚠️ /home/jupyter/work/resources/data_yolo/images/train/olen_DSC_5192.JPG: 3 duplicate labels removed\n",
      "\u001b[34m\u001b[1mtrain: \u001b[0mWARNING ⚠️ /home/jupyter/work/resources/data_yolo/images/train/olen_DSC_5193.JPG: 2 duplicate labels removed\n",
      "\u001b[34m\u001b[1mtrain: \u001b[0mWARNING ⚠️ /home/jupyter/work/resources/data_yolo/images/train/olen_DSC_5196.JPG: 1 duplicate labels removed\n",
      "\u001b[34m\u001b[1mtrain: \u001b[0mWARNING ⚠️ /home/jupyter/work/resources/data_yolo/images/train/olen_DSC_5197.JPG: 2 duplicate labels removed\n",
      "\u001b[34m\u001b[1mtrain: \u001b[0mWARNING ⚠️ /home/jupyter/work/resources/data_yolo/images/train/olen_DSC_5200.JPG: 1 duplicate labels removed\n",
      "\u001b[34m\u001b[1mtrain: \u001b[0mWARNING ⚠️ /home/jupyter/work/resources/data_yolo/images/train/olen_DSC_5202.JPG: 2 duplicate labels removed\n",
      "\u001b[34m\u001b[1mtrain: \u001b[0mWARNING ⚠️ /home/jupyter/work/resources/data_yolo/images/train/olen_DSC_5203.JPG: 1 duplicate labels removed\n",
      "\u001b[34m\u001b[1mtrain: \u001b[0mWARNING ⚠️ /home/jupyter/work/resources/data_yolo/images/train/olen_DSC_5204.JPG: 2 duplicate labels removed\n",
      "\u001b[34m\u001b[1mtrain: \u001b[0mWARNING ⚠️ /home/jupyter/work/resources/data_yolo/images/train/olen_DSC_5205.JPG: 1 duplicate labels removed\n",
      "\u001b[34m\u001b[1mtrain: \u001b[0mWARNING ⚠️ /home/jupyter/work/resources/data_yolo/images/train/olen_DSC_5206.JPG: 1 duplicate labels removed\n",
      "\u001b[34m\u001b[1mtrain: \u001b[0mWARNING ⚠️ /home/jupyter/work/resources/data_yolo/images/train/olen_DSC_5208.JPG: 2 duplicate labels removed\n",
      "\u001b[34m\u001b[1mtrain: \u001b[0mWARNING ⚠️ /home/jupyter/work/resources/data_yolo/images/train/olen_DSC_5210.JPG: 1 duplicate labels removed\n",
      "\u001b[34m\u001b[1mtrain: \u001b[0mWARNING ⚠️ /home/jupyter/work/resources/data_yolo/images/train/olen_DSC_5211.JPG: 1 duplicate labels removed\n",
      "\u001b[34m\u001b[1mtrain: \u001b[0mWARNING ⚠️ /home/jupyter/work/resources/data_yolo/images/train/olen_DSC_5213.JPG: 1 duplicate labels removed\n",
      "\u001b[34m\u001b[1mtrain: \u001b[0mWARNING ⚠️ /home/jupyter/work/resources/data_yolo/images/train/olen_DSC_5214.JPG: 4 duplicate labels removed\n",
      "\u001b[34m\u001b[1mtrain: \u001b[0mWARNING ⚠️ /home/jupyter/work/resources/data_yolo/images/train/olen_DSC_5215.JPG: 1 duplicate labels removed\n",
      "\u001b[34m\u001b[1mtrain: \u001b[0mWARNING ⚠️ /home/jupyter/work/resources/data_yolo/images/train/olen_DSC_5216.JPG: 2 duplicate labels removed\n",
      "\u001b[34m\u001b[1mtrain: \u001b[0mWARNING ⚠️ /home/jupyter/work/resources/data_yolo/images/train/olen_DSC_5217.JPG: 2 duplicate labels removed\n",
      "\u001b[34m\u001b[1mtrain: \u001b[0mWARNING ⚠️ /home/jupyter/work/resources/data_yolo/images/train/olen_DSC_5218.JPG: 2 duplicate labels removed\n",
      "\u001b[34m\u001b[1mtrain: \u001b[0mWARNING ⚠️ /home/jupyter/work/resources/data_yolo/images/train/olen_DSC_5221.JPG: 2 duplicate labels removed\n",
      "\u001b[34m\u001b[1mtrain: \u001b[0mWARNING ⚠️ /home/jupyter/work/resources/data_yolo/images/train/olen_DSC_5224.JPG: 2 duplicate labels removed\n",
      "\u001b[34m\u001b[1mtrain: \u001b[0mWARNING ⚠️ /home/jupyter/work/resources/data_yolo/images/train/olen_DSC_5225.JPG: 2 duplicate labels removed\n",
      "\u001b[34m\u001b[1mtrain: \u001b[0mWARNING ⚠️ /home/jupyter/work/resources/data_yolo/images/train/olen_DSC_5226.JPG: 1 duplicate labels removed\n",
      "\u001b[34m\u001b[1mtrain: \u001b[0mWARNING ⚠️ /home/jupyter/work/resources/data_yolo/images/train/olen_DSC_5228.JPG: 2 duplicate labels removed\n",
      "\u001b[34m\u001b[1mtrain: \u001b[0mWARNING ⚠️ /home/jupyter/work/resources/data_yolo/images/train/olen_DSC_5229.JPG: 2 duplicate labels removed\n",
      "\u001b[34m\u001b[1mtrain: \u001b[0mWARNING ⚠️ /home/jupyter/work/resources/data_yolo/images/train/olen_DSC_5231.JPG: 1 duplicate labels removed\n",
      "\u001b[34m\u001b[1mtrain: \u001b[0mWARNING ⚠️ /home/jupyter/work/resources/data_yolo/images/train/olen_DSC_5234.JPG: 2 duplicate labels removed\n",
      "\u001b[34m\u001b[1mtrain: \u001b[0mWARNING ⚠️ /home/jupyter/work/resources/data_yolo/images/train/olen_DSC_5235.JPG: 2 duplicate labels removed\n",
      "\u001b[34m\u001b[1mtrain: \u001b[0mWARNING ⚠️ /home/jupyter/work/resources/data_yolo/images/train/olen_DSC_5237.JPG: 3 duplicate labels removed\n",
      "\u001b[34m\u001b[1mtrain: \u001b[0mWARNING ⚠️ /home/jupyter/work/resources/data_yolo/images/train/olen_DSC_5238.JPG: 3 duplicate labels removed\n",
      "\u001b[34m\u001b[1mtrain: \u001b[0mWARNING ⚠️ /home/jupyter/work/resources/data_yolo/images/train/olen_DSC_5239.JPG: 2 duplicate labels removed\n",
      "\u001b[34m\u001b[1mtrain: \u001b[0mWARNING ⚠️ /home/jupyter/work/resources/data_yolo/images/train/olen_DSC_5240.JPG: 1 duplicate labels removed\n",
      "\u001b[34m\u001b[1mtrain: \u001b[0mWARNING ⚠️ /home/jupyter/work/resources/data_yolo/images/train/olen_DSC_5241.JPG: 3 duplicate labels removed\n",
      "\u001b[34m\u001b[1mtrain: \u001b[0mWARNING ⚠️ /home/jupyter/work/resources/data_yolo/images/train/olen_DSC_5246.JPG: 3 duplicate labels removed\n",
      "\u001b[34m\u001b[1mtrain: \u001b[0mWARNING ⚠️ /home/jupyter/work/resources/data_yolo/images/train/olen_DSC_5247.JPG: 2 duplicate labels removed\n",
      "\u001b[34m\u001b[1mtrain: \u001b[0mWARNING ⚠️ /home/jupyter/work/resources/data_yolo/images/train/olen_DSC_5248.JPG: 2 duplicate labels removed\n",
      "\u001b[34m\u001b[1mtrain: \u001b[0mWARNING ⚠️ /home/jupyter/work/resources/data_yolo/images/train/olen_DSC_5249.JPG: 3 duplicate labels removed\n",
      "\u001b[34m\u001b[1mtrain: \u001b[0mWARNING ⚠️ /home/jupyter/work/resources/data_yolo/images/train/olen_DSC_5250.JPG: 2 duplicate labels removed\n",
      "\u001b[34m\u001b[1mtrain: \u001b[0mWARNING ⚠️ /home/jupyter/work/resources/data_yolo/images/train/olen_DSC_5251.JPG: 3 duplicate labels removed\n",
      "\u001b[34m\u001b[1mtrain: \u001b[0mWARNING ⚠️ /home/jupyter/work/resources/data_yolo/images/train/olen_DSC_5252.JPG: 2 duplicate labels removed\n",
      "\u001b[34m\u001b[1mtrain: \u001b[0mWARNING ⚠️ /home/jupyter/work/resources/data_yolo/images/train/olen_DSC_5253.JPG: 1 duplicate labels removed\n",
      "\u001b[34m\u001b[1mtrain: \u001b[0mWARNING ⚠️ /home/jupyter/work/resources/data_yolo/images/train/olen_DSC_5255.JPG: 2 duplicate labels removed\n",
      "\u001b[34m\u001b[1mtrain: \u001b[0mWARNING ⚠️ /home/jupyter/work/resources/data_yolo/images/train/olen_DSC_5256.JPG: 1 duplicate labels removed\n",
      "\u001b[34m\u001b[1mtrain: \u001b[0mWARNING ⚠️ /home/jupyter/work/resources/data_yolo/images/train/olen_DSC_5257.JPG: 1 duplicate labels removed\n",
      "\u001b[34m\u001b[1mtrain: \u001b[0mWARNING ⚠️ /home/jupyter/work/resources/data_yolo/images/train/olen_DSC_5258.JPG: 1 duplicate labels removed\n",
      "\u001b[34m\u001b[1mtrain: \u001b[0mWARNING ⚠️ /home/jupyter/work/resources/data_yolo/images/train/olen_DSC_5260.JPG: 1 duplicate labels removed\n",
      "\u001b[34m\u001b[1mtrain: \u001b[0mWARNING ⚠️ /home/jupyter/work/resources/data_yolo/images/train/olen_DSC_5263.JPG: 1 duplicate labels removed\n",
      "\u001b[34m\u001b[1mtrain: \u001b[0mWARNING ⚠️ /home/jupyter/work/resources/data_yolo/images/train/olen_DSC_5264.JPG: 2 duplicate labels removed\n",
      "\u001b[34m\u001b[1mtrain: \u001b[0mWARNING ⚠️ /home/jupyter/work/resources/data_yolo/images/train/olen_DSC_5265.JPG: 1 duplicate labels removed\n",
      "\u001b[34m\u001b[1mtrain: \u001b[0mWARNING ⚠️ /home/jupyter/work/resources/data_yolo/images/train/olen_DSC_5269.JPG: 1 duplicate labels removed\n",
      "\u001b[34m\u001b[1mtrain: \u001b[0mWARNING ⚠️ /home/jupyter/work/resources/data_yolo/images/train/olen_DSC_5270.JPG: 2 duplicate labels removed\n",
      "\u001b[34m\u001b[1mtrain: \u001b[0mWARNING ⚠️ /home/jupyter/work/resources/data_yolo/images/train/olen_DSC_5271.JPG: 2 duplicate labels removed\n",
      "\u001b[34m\u001b[1mtrain: \u001b[0mWARNING ⚠️ /home/jupyter/work/resources/data_yolo/images/train/olen_DSC_5272.JPG: 1 duplicate labels removed\n",
      "\u001b[34m\u001b[1mtrain: \u001b[0mWARNING ⚠️ /home/jupyter/work/resources/data_yolo/images/train/olen_DSC_5273.JPG: 2 duplicate labels removed\n",
      "\u001b[34m\u001b[1mtrain: \u001b[0mWARNING ⚠️ /home/jupyter/work/resources/data_yolo/images/train/olen_DSC_5274.JPG: 1 duplicate labels removed\n",
      "\u001b[34m\u001b[1mtrain: \u001b[0mWARNING ⚠️ /home/jupyter/work/resources/data_yolo/images/train/olen_DSC_5277.JPG: 1 duplicate labels removed\n",
      "\u001b[34m\u001b[1mtrain: \u001b[0mWARNING ⚠️ /home/jupyter/work/resources/data_yolo/images/train/olen_DSC_5278.JPG: 1 duplicate labels removed\n",
      "\u001b[34m\u001b[1mtrain: \u001b[0mWARNING ⚠️ /home/jupyter/work/resources/data_yolo/images/train/olen_DSC_5281.JPG: 1 duplicate labels removed\n",
      "\u001b[34m\u001b[1mtrain: \u001b[0mWARNING ⚠️ /home/jupyter/work/resources/data_yolo/images/train/olen_DSC_5282.JPG: 1 duplicate labels removed\n",
      "\u001b[34m\u001b[1mtrain: \u001b[0mWARNING ⚠️ /home/jupyter/work/resources/data_yolo/images/train/olen_DSC_5285.JPG: 2 duplicate labels removed\n",
      "\u001b[34m\u001b[1mtrain: \u001b[0mWARNING ⚠️ /home/jupyter/work/resources/data_yolo/images/train/olen_DSC_5286.JPG: 1 duplicate labels removed\n",
      "\u001b[34m\u001b[1mtrain: \u001b[0mWARNING ⚠️ /home/jupyter/work/resources/data_yolo/images/train/olen_DSC_5293.JPG: 1 duplicate labels removed\n",
      "\u001b[34m\u001b[1mtrain: \u001b[0mWARNING ⚠️ /home/jupyter/work/resources/data_yolo/images/train/olen_DSC_5295.JPG: 2 duplicate labels removed\n",
      "\u001b[34m\u001b[1mtrain: \u001b[0mWARNING ⚠️ /home/jupyter/work/resources/data_yolo/images/train/olen_DSC_5296.JPG: 1 duplicate labels removed\n",
      "\u001b[34m\u001b[1mtrain: \u001b[0mWARNING ⚠️ /home/jupyter/work/resources/data_yolo/images/train/olen_DSC_5297.JPG: 1 duplicate labels removed\n",
      "\u001b[34m\u001b[1mtrain: \u001b[0mWARNING ⚠️ /home/jupyter/work/resources/data_yolo/images/train/olen_DSC_5299.JPG: 1 duplicate labels removed\n",
      "\u001b[34m\u001b[1mtrain: \u001b[0mWARNING ⚠️ /home/jupyter/work/resources/data_yolo/images/train/olen_DSC_5300.JPG: 2 duplicate labels removed\n",
      "\u001b[34m\u001b[1mtrain: \u001b[0mWARNING ⚠️ /home/jupyter/work/resources/data_yolo/images/train/olen_DSC_5301.JPG: 2 duplicate labels removed\n",
      "\u001b[34m\u001b[1mtrain: \u001b[0mWARNING ⚠️ /home/jupyter/work/resources/data_yolo/images/train/olen_DSC_5303.JPG: 1 duplicate labels removed\n",
      "\u001b[34m\u001b[1mtrain: \u001b[0mWARNING ⚠️ /home/jupyter/work/resources/data_yolo/images/train/olen_DSC_5304.JPG: 1 duplicate labels removed\n",
      "\u001b[34m\u001b[1mtrain: \u001b[0mWARNING ⚠️ /home/jupyter/work/resources/data_yolo/images/train/olen_DSC_5305.JPG: 2 duplicate labels removed\n",
      "\u001b[34m\u001b[1mtrain: \u001b[0mWARNING ⚠️ /home/jupyter/work/resources/data_yolo/images/train/olen_DSC_5306.JPG: 1 duplicate labels removed\n",
      "\u001b[34m\u001b[1mtrain: \u001b[0mWARNING ⚠️ /home/jupyter/work/resources/data_yolo/images/train/olen_DSC_5309.JPG: 1 duplicate labels removed\n",
      "\u001b[34m\u001b[1mtrain: \u001b[0mWARNING ⚠️ /home/jupyter/work/resources/data_yolo/images/train/olen_DSC_5312.JPG: 1 duplicate labels removed\n",
      "\u001b[34m\u001b[1mtrain: \u001b[0mWARNING ⚠️ /home/jupyter/work/resources/data_yolo/images/train/olen_DSC_5316.JPG: 1 duplicate labels removed\n",
      "\u001b[34m\u001b[1mtrain: \u001b[0mWARNING ⚠️ /home/jupyter/work/resources/data_yolo/images/train/olen_DSC_5320.JPG: 1 duplicate labels removed\n",
      "\u001b[34m\u001b[1mtrain: \u001b[0mWARNING ⚠️ /home/jupyter/work/resources/data_yolo/images/train/olen_DSC_5321.JPG: 2 duplicate labels removed\n",
      "\u001b[34m\u001b[1mtrain: \u001b[0mWARNING ⚠️ /home/jupyter/work/resources/data_yolo/images/train/olen_DSC_5322.JPG: 1 duplicate labels removed\n",
      "\u001b[34m\u001b[1mtrain: \u001b[0mWARNING ⚠️ /home/jupyter/work/resources/data_yolo/images/train/olen_DSC_5324.JPG: 1 duplicate labels removed\n",
      "\u001b[34m\u001b[1mtrain: \u001b[0mWARNING ⚠️ /home/jupyter/work/resources/data_yolo/images/train/olen_DSC_5329.JPG: 5 duplicate labels removed\n",
      "\u001b[34m\u001b[1mtrain: \u001b[0mWARNING ⚠️ /home/jupyter/work/resources/data_yolo/images/train/olen_DSC_5331.JPG: 3 duplicate labels removed\n",
      "\u001b[34m\u001b[1mtrain: \u001b[0mWARNING ⚠️ /home/jupyter/work/resources/data_yolo/images/train/olen_DSC_5333.JPG: 2 duplicate labels removed\n",
      "\u001b[34m\u001b[1mtrain: \u001b[0mWARNING ⚠️ /home/jupyter/work/resources/data_yolo/images/train/olen_DSC_5335.JPG: 3 duplicate labels removed\n",
      "\u001b[34m\u001b[1mtrain: \u001b[0mWARNING ⚠️ /home/jupyter/work/resources/data_yolo/images/train/olen_DSC_5337.JPG: 3 duplicate labels removed\n",
      "\u001b[34m\u001b[1mtrain: \u001b[0mWARNING ⚠️ /home/jupyter/work/resources/data_yolo/images/train/olen_DSC_5339.JPG: 3 duplicate labels removed\n",
      "\u001b[34m\u001b[1mtrain: \u001b[0mWARNING ⚠️ /home/jupyter/work/resources/data_yolo/images/train/olen_DSC_5340.JPG: 1 duplicate labels removed\n",
      "\u001b[34m\u001b[1mtrain: \u001b[0mWARNING ⚠️ /home/jupyter/work/resources/data_yolo/images/train/olen_DSC_5341.JPG: 3 duplicate labels removed\n",
      "\u001b[34m\u001b[1mtrain: \u001b[0mWARNING ⚠️ /home/jupyter/work/resources/data_yolo/images/train/olen_DSC_5342.JPG: 2 duplicate labels removed\n",
      "\u001b[34m\u001b[1mtrain: \u001b[0mWARNING ⚠️ /home/jupyter/work/resources/data_yolo/images/train/olen_DSC_5344.JPG: 4 duplicate labels removed\n",
      "\u001b[34m\u001b[1mtrain: \u001b[0mWARNING ⚠️ /home/jupyter/work/resources/data_yolo/images/train/olen_DSC_5345.JPG: 7 duplicate labels removed\n",
      "\u001b[34m\u001b[1mtrain: \u001b[0mWARNING ⚠️ /home/jupyter/work/resources/data_yolo/images/train/olen_DSC_5346.JPG: 4 duplicate labels removed\n",
      "\u001b[34m\u001b[1mtrain: \u001b[0mWARNING ⚠️ /home/jupyter/work/resources/data_yolo/images/train/olen_DSC_5347.JPG: 3 duplicate labels removed\n",
      "\u001b[34m\u001b[1mtrain: \u001b[0mWARNING ⚠️ /home/jupyter/work/resources/data_yolo/images/train/olen_DSC_5348.JPG: 4 duplicate labels removed\n",
      "\u001b[34m\u001b[1mtrain: \u001b[0mWARNING ⚠️ /home/jupyter/work/resources/data_yolo/images/train/olen_DSC_5349.JPG: 4 duplicate labels removed\n",
      "\u001b[34m\u001b[1mtrain: \u001b[0mWARNING ⚠️ /home/jupyter/work/resources/data_yolo/images/train/olen_DSC_5351.JPG: 3 duplicate labels removed\n",
      "\u001b[34m\u001b[1mtrain: \u001b[0mWARNING ⚠️ /home/jupyter/work/resources/data_yolo/images/train/olen_DSC_5352.JPG: 3 duplicate labels removed\n",
      "\u001b[34m\u001b[1mtrain: \u001b[0mWARNING ⚠️ /home/jupyter/work/resources/data_yolo/images/train/olen_DSC_5353.JPG: 3 duplicate labels removed\n",
      "\u001b[34m\u001b[1mtrain: \u001b[0mWARNING ⚠️ /home/jupyter/work/resources/data_yolo/images/train/olen_DSC_5357.JPG: 6 duplicate labels removed\n",
      "\u001b[34m\u001b[1mtrain: \u001b[0mWARNING ⚠️ /home/jupyter/work/resources/data_yolo/images/train/olen_DSC_5358.JPG: 5 duplicate labels removed\n",
      "\u001b[34m\u001b[1mtrain: \u001b[0mWARNING ⚠️ /home/jupyter/work/resources/data_yolo/images/train/olen_DSC_5359.JPG: 4 duplicate labels removed\n",
      "\u001b[34m\u001b[1mtrain: \u001b[0mWARNING ⚠️ /home/jupyter/work/resources/data_yolo/images/train/olen_DSC_5360.JPG: 1 duplicate labels removed\n",
      "\u001b[34m\u001b[1mtrain: \u001b[0mWARNING ⚠️ /home/jupyter/work/resources/data_yolo/images/train/olen_DSC_5362.JPG: 4 duplicate labels removed\n",
      "\u001b[34m\u001b[1mtrain: \u001b[0mWARNING ⚠️ /home/jupyter/work/resources/data_yolo/images/train/olen_DSC_5364.JPG: 3 duplicate labels removed\n",
      "\u001b[34m\u001b[1mtrain: \u001b[0mWARNING ⚠️ /home/jupyter/work/resources/data_yolo/images/train/olen_DSC_5366.JPG: 1 duplicate labels removed\n",
      "\u001b[34m\u001b[1mtrain: \u001b[0mWARNING ⚠️ /home/jupyter/work/resources/data_yolo/images/train/olen_DSC_5369.JPG: 3 duplicate labels removed\n",
      "\u001b[34m\u001b[1mtrain: \u001b[0mWARNING ⚠️ /home/jupyter/work/resources/data_yolo/images/train/olen_DSC_5370.JPG: 1 duplicate labels removed\n",
      "\u001b[34m\u001b[1mtrain: \u001b[0mWARNING ⚠️ /home/jupyter/work/resources/data_yolo/images/train/olen_DSC_5371.JPG: 2 duplicate labels removed\n",
      "\u001b[34m\u001b[1mtrain: \u001b[0mWARNING ⚠️ /home/jupyter/work/resources/data_yolo/images/train/olen_DSC_5372.JPG: 3 duplicate labels removed\n",
      "\u001b[34m\u001b[1mtrain: \u001b[0mWARNING ⚠️ /home/jupyter/work/resources/data_yolo/images/train/olen_DSC_5373.JPG: 2 duplicate labels removed\n",
      "\u001b[34m\u001b[1mtrain: \u001b[0mWARNING ⚠️ /home/jupyter/work/resources/data_yolo/images/train/olen_DSC_5374.JPG: 6 duplicate labels removed\n",
      "\u001b[34m\u001b[1mtrain: \u001b[0mWARNING ⚠️ /home/jupyter/work/resources/data_yolo/images/train/olen_DSC_5378.JPG: 2 duplicate labels removed\n",
      "\u001b[34m\u001b[1mtrain: \u001b[0mWARNING ⚠️ /home/jupyter/work/resources/data_yolo/images/train/olen_DSC_5380.JPG: 2 duplicate labels removed\n",
      "\u001b[34m\u001b[1mtrain: \u001b[0mWARNING ⚠️ /home/jupyter/work/resources/data_yolo/images/train/olen_DSC_5382.JPG: 4 duplicate labels removed\n",
      "\u001b[34m\u001b[1mtrain: \u001b[0mWARNING ⚠️ /home/jupyter/work/resources/data_yolo/images/train/olen_DSC_5383.JPG: 1 duplicate labels removed\n",
      "\u001b[34m\u001b[1mtrain: \u001b[0mWARNING ⚠️ /home/jupyter/work/resources/data_yolo/images/train/olen_DSC_5384.JPG: 1 duplicate labels removed\n",
      "\u001b[34m\u001b[1mtrain: \u001b[0mWARNING ⚠️ /home/jupyter/work/resources/data_yolo/images/train/olen_DSC_5386.JPG: 2 duplicate labels removed\n",
      "\u001b[34m\u001b[1mtrain: \u001b[0mWARNING ⚠️ /home/jupyter/work/resources/data_yolo/images/train/olen_DSC_5387.JPG: 2 duplicate labels removed\n",
      "\u001b[34m\u001b[1mtrain: \u001b[0mWARNING ⚠️ /home/jupyter/work/resources/data_yolo/images/train/olen_DSC_5388.JPG: 1 duplicate labels removed\n",
      "\u001b[34m\u001b[1mtrain: \u001b[0mWARNING ⚠️ /home/jupyter/work/resources/data_yolo/images/train/olen_DSC_5389.JPG: 1 duplicate labels removed\n",
      "\u001b[34m\u001b[1mtrain: \u001b[0mWARNING ⚠️ /home/jupyter/work/resources/data_yolo/images/train/olen_DSC_5391.JPG: 1 duplicate labels removed\n",
      "\u001b[34m\u001b[1mtrain: \u001b[0mWARNING ⚠️ /home/jupyter/work/resources/data_yolo/images/train/olen_DSC_5401.JPG: 1 duplicate labels removed\n",
      "\u001b[34m\u001b[1mtrain: \u001b[0mWARNING ⚠️ /home/jupyter/work/resources/data_yolo/images/train/olen_DSC_5402.JPG: 1 duplicate labels removed\n",
      "\u001b[34m\u001b[1mtrain: \u001b[0mWARNING ⚠️ /home/jupyter/work/resources/data_yolo/images/train/olen_DSC_5404.JPG: 2 duplicate labels removed\n",
      "\u001b[34m\u001b[1mtrain: \u001b[0mWARNING ⚠️ /home/jupyter/work/resources/data_yolo/images/train/olen_DSC_5409.JPG: 1 duplicate labels removed\n",
      "\u001b[34m\u001b[1mtrain: \u001b[0mWARNING ⚠️ /home/jupyter/work/resources/data_yolo/images/train/olen_DSC_5416.JPG: 1 duplicate labels removed\n",
      "\u001b[34m\u001b[1mtrain: \u001b[0mWARNING ⚠️ /home/jupyter/work/resources/data_yolo/images/train/olen_DSC_5445.JPG: 1 duplicate labels removed\n",
      "\u001b[34m\u001b[1mtrain: \u001b[0mWARNING ⚠️ /home/jupyter/work/resources/data_yolo/images/train/olen_DSC_5446.JPG: 2 duplicate labels removed\n",
      "\u001b[34m\u001b[1mtrain: \u001b[0mWARNING ⚠️ /home/jupyter/work/resources/data_yolo/images/train/olen_DSC_5461.JPG: 2 duplicate labels removed\n",
      "\u001b[34m\u001b[1mtrain: \u001b[0mWARNING ⚠️ /home/jupyter/work/resources/data_yolo/images/train/olen_DSC_5462.JPG: 1 duplicate labels removed\n",
      "\u001b[34m\u001b[1mtrain: \u001b[0mWARNING ⚠️ /home/jupyter/work/resources/data_yolo/images/train/olen_DSC_5476.JPG: 1 duplicate labels removed\n",
      "\u001b[34m\u001b[1mtrain: \u001b[0mWARNING ⚠️ /home/jupyter/work/resources/data_yolo/images/train/olen_DSC_5477.JPG: 1 duplicate labels removed\n",
      "\u001b[34m\u001b[1mtrain: \u001b[0mWARNING ⚠️ /home/jupyter/work/resources/data_yolo/images/train/olen_DSC_5478.JPG: 1 duplicate labels removed\n",
      "\u001b[34m\u001b[1mtrain: \u001b[0mWARNING ⚠️ /home/jupyter/work/resources/data_yolo/images/train/olen_DSC_5479.JPG: 2 duplicate labels removed\n",
      "\u001b[34m\u001b[1mtrain: \u001b[0mWARNING ⚠️ /home/jupyter/work/resources/data_yolo/images/train/olen_DSC_5480.JPG: 2 duplicate labels removed\n",
      "\u001b[34m\u001b[1mtrain: \u001b[0mWARNING ⚠️ /home/jupyter/work/resources/data_yolo/images/train/olen_DSC_5483.JPG: 1 duplicate labels removed\n",
      "\u001b[34m\u001b[1mtrain: \u001b[0mWARNING ⚠️ /home/jupyter/work/resources/data_yolo/images/train/olen_DSC_5494.JPG: 1 duplicate labels removed\n",
      "\u001b[34m\u001b[1mtrain: \u001b[0mWARNING ⚠️ /home/jupyter/work/resources/data_yolo/images/train/olen_DSC_5495.JPG: 1 duplicate labels removed\n",
      "\u001b[34m\u001b[1mtrain: \u001b[0mWARNING ⚠️ /home/jupyter/work/resources/data_yolo/images/train/olen_DSC_5497.JPG: 1 duplicate labels removed\n",
      "\u001b[34m\u001b[1mtrain: \u001b[0mWARNING ⚠️ /home/jupyter/work/resources/data_yolo/images/train/olen_DSC_5498.JPG: 1 duplicate labels removed\n",
      "\u001b[34m\u001b[1mtrain: \u001b[0mWARNING ⚠️ /home/jupyter/work/resources/data_yolo/images/train/olen_DSC_5499.JPG: 1 duplicate labels removed\n",
      "\u001b[34m\u001b[1mtrain: \u001b[0mWARNING ⚠️ /home/jupyter/work/resources/data_yolo/images/train/olen_DSC_5501.JPG: 2 duplicate labels removed\n",
      "\u001b[34m\u001b[1mtrain: \u001b[0mWARNING ⚠️ /home/jupyter/work/resources/data_yolo/images/train/olen_DSC_5502.JPG: 1 duplicate labels removed\n",
      "\u001b[34m\u001b[1mtrain: \u001b[0mWARNING ⚠️ /home/jupyter/work/resources/data_yolo/images/train/olen_DSC_5504.JPG: 1 duplicate labels removed\n",
      "\u001b[34m\u001b[1mtrain: \u001b[0mWARNING ⚠️ /home/jupyter/work/resources/data_yolo/images/train/olen_DSC_5505.JPG: 1 duplicate labels removed\n",
      "\u001b[34m\u001b[1mtrain: \u001b[0mWARNING ⚠️ /home/jupyter/work/resources/data_yolo/images/train/olen_DSC_5506.JPG: 1 duplicate labels removed\n",
      "\u001b[34m\u001b[1mtrain: \u001b[0mWARNING ⚠️ /home/jupyter/work/resources/data_yolo/images/train/olen_DSC_5507.JPG: 2 duplicate labels removed\n",
      "\u001b[34m\u001b[1mtrain: \u001b[0mWARNING ⚠️ /home/jupyter/work/resources/data_yolo/images/train/olen_DSC_5536.JPG: 2 duplicate labels removed\n",
      "\u001b[34m\u001b[1mtrain: \u001b[0mWARNING ⚠️ /home/jupyter/work/resources/data_yolo/images/train/olen_DSC_5546.JPG: 1 duplicate labels removed\n",
      "\u001b[34m\u001b[1mtrain: \u001b[0mWARNING ⚠️ /home/jupyter/work/resources/data_yolo/images/train/olen_IMAG0005.JPG: 2 duplicate labels removed\n",
      "\u001b[34m\u001b[1mtrain: \u001b[0mWARNING ⚠️ /home/jupyter/work/resources/data_yolo/images/train/olen_IMAG0010.JPG: 1 duplicate labels removed\n",
      "\u001b[34m\u001b[1mtrain: \u001b[0mWARNING ⚠️ /home/jupyter/work/resources/data_yolo/images/train/olen_IMAG0015.JPG: 6 duplicate labels removed\n",
      "\u001b[34m\u001b[1mtrain: \u001b[0mWARNING ⚠️ /home/jupyter/work/resources/data_yolo/images/train/olen_IMAG0020.JPG: 1 duplicate labels removed\n",
      "\u001b[34m\u001b[1mtrain: \u001b[0mWARNING ⚠️ /home/jupyter/work/resources/data_yolo/images/train/olen_IMAG0021.JPG: 3 duplicate labels removed\n",
      "\u001b[34m\u001b[1mtrain: \u001b[0mWARNING ⚠️ /home/jupyter/work/resources/data_yolo/images/train/olen_IMAG0022_1.JPG: 3 duplicate labels removed\n",
      "\u001b[34m\u001b[1mtrain: \u001b[0mWARNING ⚠️ /home/jupyter/work/resources/data_yolo/images/train/olen_IMAG0024-1 (2).JPG: 1 duplicate labels removed\n",
      "\u001b[34m\u001b[1mtrain: \u001b[0mWARNING ⚠️ /home/jupyter/work/resources/data_yolo/images/train/olen_IMAG0030.JPG: 2 duplicate labels removed\n",
      "\u001b[34m\u001b[1mtrain: \u001b[0mWARNING ⚠️ /home/jupyter/work/resources/data_yolo/images/train/olen_IMAG0033.JPG: 6 duplicate labels removed\n",
      "\u001b[34m\u001b[1mtrain: \u001b[0mWARNING ⚠️ /home/jupyter/work/resources/data_yolo/images/train/olen_IMAG0037.JPG: 2 duplicate labels removed\n",
      "\u001b[34m\u001b[1mtrain: \u001b[0mWARNING ⚠️ /home/jupyter/work/resources/data_yolo/images/train/olen_IMAG0082.JPG: 9 duplicate labels removed\n",
      "\u001b[34m\u001b[1mtrain: \u001b[0mWARNING ⚠️ /home/jupyter/work/resources/data_yolo/images/train/olen_IMAG0098.JPG: 3 duplicate labels removed\n",
      "\u001b[34m\u001b[1mtrain: \u001b[0mWARNING ⚠️ /home/jupyter/work/resources/data_yolo/images/train/olen_IMAG0606.JPG: 1 duplicate labels removed\n",
      "\u001b[34m\u001b[1mtrain: \u001b[0mWARNING ⚠️ /home/jupyter/work/resources/data_yolo/images/train/olen_IMAG1570.JPG: 2 duplicate labels removed\n",
      "\u001b[34m\u001b[1mtrain: \u001b[0mWARNING ⚠️ /home/jupyter/work/resources/data_yolo/images/train/olen_IMAG1733.JPG: 3 duplicate labels removed\n",
      "\u001b[34m\u001b[1mtrain: \u001b[0mWARNING ⚠️ /home/jupyter/work/resources/data_yolo/images/train/olen_IMAG1798.JPG: 1 duplicate labels removed\n",
      "\u001b[34m\u001b[1mtrain: \u001b[0mWARNING ⚠️ /home/jupyter/work/resources/data_yolo/images/train/olen_IMAG1813.JPG: 3 duplicate labels removed\n",
      "\u001b[34m\u001b[1mtrain: \u001b[0mWARNING ⚠️ /home/jupyter/work/resources/data_yolo/images/train/olen_IMAG1815.JPG: 2 duplicate labels removed\n",
      "\u001b[34m\u001b[1mtrain: \u001b[0mWARNING ⚠️ /home/jupyter/work/resources/data_yolo/images/train/olen_IMAG1877.JPG: 2 duplicate labels removed\n",
      "\u001b[34m\u001b[1mtrain: \u001b[0mWARNING ⚠️ /home/jupyter/work/resources/data_yolo/images/train/olen_IMAG1913.JPG: 1 duplicate labels removed\n",
      "\u001b[34m\u001b[1mtrain: \u001b[0mWARNING ⚠️ /home/jupyter/work/resources/data_yolo/images/train/olen_IMAG1914.JPG: 1 duplicate labels removed\n",
      "\u001b[34m\u001b[1mtrain: \u001b[0mWARNING ⚠️ /home/jupyter/work/resources/data_yolo/images/train/olen_IMAG2053.JPG: corrupt JPEG restored and saved\n",
      "\u001b[34m\u001b[1mtrain: \u001b[0mWARNING ⚠️ /home/jupyter/work/resources/data_yolo/images/train/olen_IMAG2074.JPG: corrupt JPEG restored and saved\n",
      "\u001b[34m\u001b[1mtrain: \u001b[0mWARNING ⚠️ /home/jupyter/work/resources/data_yolo/images/train/olen_IMAG2081.JPG: corrupt JPEG restored and saved\n",
      "\u001b[34m\u001b[1mtrain: \u001b[0mWARNING ⚠️ /home/jupyter/work/resources/data_yolo/images/train/olen_IMAG2082.JPG: corrupt JPEG restored and saved\n",
      "\u001b[34m\u001b[1mtrain: \u001b[0mWARNING ⚠️ /home/jupyter/work/resources/data_yolo/images/train/olen_IMAG2884.JPG: corrupt JPEG restored and saved\n",
      "\u001b[34m\u001b[1mtrain: \u001b[0mWARNING ⚠️ /home/jupyter/work/resources/data_yolo/images/train/olen_IMAG2886.JPG: corrupt JPEG restored and saved\n",
      "\u001b[34m\u001b[1mtrain: \u001b[0mWARNING ⚠️ /home/jupyter/work/resources/data_yolo/images/train/olen_IMAG2971.JPG: 1 duplicate labels removed\n",
      "\u001b[34m\u001b[1mtrain: \u001b[0mWARNING ⚠️ /home/jupyter/work/resources/data_yolo/images/train/olen_IMAG2980.JPG: 1 duplicate labels removed\n",
      "\u001b[34m\u001b[1mtrain: \u001b[0mWARNING ⚠️ /home/jupyter/work/resources/data_yolo/images/train/olen_IMAG2982.JPG: 1 duplicate labels removed\n",
      "\u001b[34m\u001b[1mtrain: \u001b[0mWARNING ⚠️ /home/jupyter/work/resources/data_yolo/images/train/olen_IMAG3003.JPG: corrupt JPEG restored and saved\n",
      "\u001b[34m\u001b[1mtrain: \u001b[0mWARNING ⚠️ /home/jupyter/work/resources/data_yolo/images/train/olen_IMAG3024.JPG: corrupt JPEG restored and saved\n",
      "\u001b[34m\u001b[1mtrain: \u001b[0mWARNING ⚠️ /home/jupyter/work/resources/data_yolo/images/train/olen_IMG_1125.JPG: 5 duplicate labels removed\n",
      "\u001b[34m\u001b[1mtrain: \u001b[0mWARNING ⚠️ /home/jupyter/work/resources/data_yolo/images/train/olen_IMG_1127.JPG: 6 duplicate labels removed\n",
      "\u001b[34m\u001b[1mtrain: \u001b[0mWARNING ⚠️ /home/jupyter/work/resources/data_yolo/images/train/olen_IMG_1128.JPG: 6 duplicate labels removed\n",
      "\u001b[34m\u001b[1mtrain: \u001b[0mWARNING ⚠️ /home/jupyter/work/resources/data_yolo/images/train/olen_IMG_1321.JPG: 3 duplicate labels removed\n",
      "\u001b[34m\u001b[1mtrain: \u001b[0mWARNING ⚠️ /home/jupyter/work/resources/data_yolo/images/train/olen_IMG_1322.JPG: 7 duplicate labels removed\n",
      "\u001b[34m\u001b[1mtrain: \u001b[0mWARNING ⚠️ /home/jupyter/work/resources/data_yolo/images/train/olen_IMG_1323.JPG: 7 duplicate labels removed\n",
      "\u001b[34m\u001b[1mtrain: \u001b[0mWARNING ⚠️ /home/jupyter/work/resources/data_yolo/images/train/olen_IMG_1324.JPG: 3 duplicate labels removed\n",
      "\u001b[34m\u001b[1mtrain: \u001b[0mWARNING ⚠️ /home/jupyter/work/resources/data_yolo/images/train/olen_Im_0000003.jpg: 5 duplicate labels removed\n",
      "\u001b[34m\u001b[1mtrain: \u001b[0mWARNING ⚠️ /home/jupyter/work/resources/data_yolo/images/train/olen_Im_0000004.jpg: 3 duplicate labels removed\n",
      "\u001b[34m\u001b[1mtrain: \u001b[0mWARNING ⚠️ /home/jupyter/work/resources/data_yolo/images/train/olen_Im_0000008_1.jpg: 4 duplicate labels removed\n",
      "\u001b[34m\u001b[1mtrain: \u001b[0mWARNING ⚠️ /home/jupyter/work/resources/data_yolo/images/train/olen_Im_0000014.jpg: 6 duplicate labels removed\n",
      "\u001b[34m\u001b[1mtrain: \u001b[0mWARNING ⚠️ /home/jupyter/work/resources/data_yolo/images/train/olen_Im_0000016.jpg: 4 duplicate labels removed\n",
      "\u001b[34m\u001b[1mtrain: \u001b[0mWARNING ⚠️ /home/jupyter/work/resources/data_yolo/images/train/olen_Im_0000018.jpg: 1 duplicate labels removed\n",
      "\u001b[34m\u001b[1mtrain: \u001b[0mWARNING ⚠️ /home/jupyter/work/resources/data_yolo/images/train/olen_Im_0000019.jpg: 5 duplicate labels removed\n",
      "\u001b[34m\u001b[1mtrain: \u001b[0mWARNING ⚠️ /home/jupyter/work/resources/data_yolo/images/train/olen_Im_0000020.jpg: 1 duplicate labels removed\n",
      "\u001b[34m\u001b[1mtrain: \u001b[0mWARNING ⚠️ /home/jupyter/work/resources/data_yolo/images/train/olen_Im_0000027.jpg: 4 duplicate labels removed\n",
      "\u001b[34m\u001b[1mtrain: \u001b[0mWARNING ⚠️ /home/jupyter/work/resources/data_yolo/images/train/olen_Im_0000029.jpg: 4 duplicate labels removed\n",
      "\u001b[34m\u001b[1mtrain: \u001b[0mWARNING ⚠️ /home/jupyter/work/resources/data_yolo/images/train/olen_Im_0000033.jpg: 2 duplicate labels removed\n",
      "\u001b[34m\u001b[1mtrain: \u001b[0mWARNING ⚠️ /home/jupyter/work/resources/data_yolo/images/train/olen_Im_0000035.jpg: 3 duplicate labels removed\n",
      "\u001b[34m\u001b[1mtrain: \u001b[0mWARNING ⚠️ /home/jupyter/work/resources/data_yolo/images/train/olen_Im_0000035_1.jpg: 4 duplicate labels removed\n",
      "\u001b[34m\u001b[1mtrain: \u001b[0mWARNING ⚠️ /home/jupyter/work/resources/data_yolo/images/train/olen_Im_0000044.jpg: 3 duplicate labels removed\n",
      "\u001b[34m\u001b[1mtrain: \u001b[0mWARNING ⚠️ /home/jupyter/work/resources/data_yolo/images/train/olen_Im_0000044_1.jpg: 2 duplicate labels removed\n",
      "\u001b[34m\u001b[1mtrain: \u001b[0mWARNING ⚠️ /home/jupyter/work/resources/data_yolo/images/train/olen_Im_0000051.jpg: 1 duplicate labels removed\n",
      "\u001b[34m\u001b[1mtrain: \u001b[0mWARNING ⚠️ /home/jupyter/work/resources/data_yolo/images/train/olen_Im_0000053.jpg: 6 duplicate labels removed\n",
      "\u001b[34m\u001b[1mtrain: \u001b[0mWARNING ⚠️ /home/jupyter/work/resources/data_yolo/images/train/olen_Im_0000053_1.jpg: 7 duplicate labels removed\n",
      "\u001b[34m\u001b[1mtrain: \u001b[0mWARNING ⚠️ /home/jupyter/work/resources/data_yolo/images/train/olen_Im_0000059.jpg: 2 duplicate labels removed\n",
      "\u001b[34m\u001b[1mtrain: \u001b[0mWARNING ⚠️ /home/jupyter/work/resources/data_yolo/images/train/olen_Im_0000064.jpg: 4 duplicate labels removed\n",
      "\u001b[34m\u001b[1mtrain: \u001b[0mWARNING ⚠️ /home/jupyter/work/resources/data_yolo/images/train/olen_Im_0000064_1.jpg: 4 duplicate labels removed\n",
      "\u001b[34m\u001b[1mtrain: \u001b[0mWARNING ⚠️ /home/jupyter/work/resources/data_yolo/images/train/olen_Im_0000065.jpg: 3 duplicate labels removed\n",
      "\u001b[34m\u001b[1mtrain: \u001b[0mWARNING ⚠️ /home/jupyter/work/resources/data_yolo/images/train/olen_Im_0000065_1.jpg: 5 duplicate labels removed\n",
      "\u001b[34m\u001b[1mtrain: \u001b[0mWARNING ⚠️ /home/jupyter/work/resources/data_yolo/images/train/olen_Im_0000065_2.jpg: 4 duplicate labels removed\n",
      "\u001b[34m\u001b[1mtrain: \u001b[0mWARNING ⚠️ /home/jupyter/work/resources/data_yolo/images/train/olen_Im_0000066.jpg: 5 duplicate labels removed\n",
      "\u001b[34m\u001b[1mtrain: \u001b[0mWARNING ⚠️ /home/jupyter/work/resources/data_yolo/images/train/olen_Im_0000067.jpg: 2 duplicate labels removed\n",
      "\u001b[34m\u001b[1mtrain: \u001b[0mWARNING ⚠️ /home/jupyter/work/resources/data_yolo/images/train/olen_Im_0000067_1.jpg: 4 duplicate labels removed\n",
      "\u001b[34m\u001b[1mtrain: \u001b[0mWARNING ⚠️ /home/jupyter/work/resources/data_yolo/images/train/olen_Im_0000075.jpg: 3 duplicate labels removed\n",
      "\u001b[34m\u001b[1mtrain: \u001b[0mWARNING ⚠️ /home/jupyter/work/resources/data_yolo/images/train/olen_Im_0000076.jpg: 2 duplicate labels removed\n",
      "\u001b[34m\u001b[1mtrain: \u001b[0mWARNING ⚠️ /home/jupyter/work/resources/data_yolo/images/train/olen_Im_0000080.jpg: 2 duplicate labels removed\n",
      "\u001b[34m\u001b[1mtrain: \u001b[0mWARNING ⚠️ /home/jupyter/work/resources/data_yolo/images/train/olen_Im_0000082.jpg: 3 duplicate labels removed\n",
      "\u001b[34m\u001b[1mtrain: \u001b[0mWARNING ⚠️ /home/jupyter/work/resources/data_yolo/images/train/olen_Im_0000084.jpg: 1 duplicate labels removed\n",
      "\u001b[34m\u001b[1mtrain: \u001b[0mWARNING ⚠️ /home/jupyter/work/resources/data_yolo/images/train/olen_Im_0000087.jpg: 4 duplicate labels removed\n",
      "\u001b[34m\u001b[1mtrain: \u001b[0mWARNING ⚠️ /home/jupyter/work/resources/data_yolo/images/train/olen_Im_0000091.jpg: 2 duplicate labels removed\n",
      "\u001b[34m\u001b[1mtrain: \u001b[0mWARNING ⚠️ /home/jupyter/work/resources/data_yolo/images/train/olen_Im_0000091_1.jpg: 2 duplicate labels removed\n",
      "\u001b[34m\u001b[1mtrain: \u001b[0mWARNING ⚠️ /home/jupyter/work/resources/data_yolo/images/train/olen_Im_0000092.jpg: 4 duplicate labels removed\n",
      "\u001b[34m\u001b[1mtrain: \u001b[0mWARNING ⚠️ /home/jupyter/work/resources/data_yolo/images/train/olen_Im_0000095.jpg: 2 duplicate labels removed\n",
      "\u001b[34m\u001b[1mtrain: \u001b[0mWARNING ⚠️ /home/jupyter/work/resources/data_yolo/images/train/olen_Im_0000096.jpg: 2 duplicate labels removed\n",
      "\u001b[34m\u001b[1mtrain: \u001b[0mWARNING ⚠️ /home/jupyter/work/resources/data_yolo/images/train/olen_Im_0000099.jpg: 1 duplicate labels removed\n",
      "\u001b[34m\u001b[1mtrain: \u001b[0mWARNING ⚠️ /home/jupyter/work/resources/data_yolo/images/train/olen_Im_0000099_1.jpg: 2 duplicate labels removed\n",
      "\u001b[34m\u001b[1mtrain: \u001b[0mWARNING ⚠️ /home/jupyter/work/resources/data_yolo/images/train/olen_Im_0000105.jpg: 1 duplicate labels removed\n",
      "\u001b[34m\u001b[1mtrain: \u001b[0mWARNING ⚠️ /home/jupyter/work/resources/data_yolo/images/train/olen_Im_0000106.jpg: 7 duplicate labels removed\n",
      "\u001b[34m\u001b[1mtrain: \u001b[0mWARNING ⚠️ /home/jupyter/work/resources/data_yolo/images/train/olen_Im_0000107.jpg: 4 duplicate labels removed\n",
      "\u001b[34m\u001b[1mtrain: \u001b[0mWARNING ⚠️ /home/jupyter/work/resources/data_yolo/images/train/olen_Im_0000108.jpg: 5 duplicate labels removed\n",
      "\u001b[34m\u001b[1mtrain: \u001b[0mWARNING ⚠️ /home/jupyter/work/resources/data_yolo/images/train/olen_Im_0000111.jpg: 3 duplicate labels removed\n",
      "\u001b[34m\u001b[1mtrain: \u001b[0mWARNING ⚠️ /home/jupyter/work/resources/data_yolo/images/train/olen_Im_0000112.jpg: 2 duplicate labels removed\n",
      "\u001b[34m\u001b[1mtrain: \u001b[0mWARNING ⚠️ /home/jupyter/work/resources/data_yolo/images/train/olen_Im_0000115.jpg: 5 duplicate labels removed\n",
      "\u001b[34m\u001b[1mtrain: \u001b[0mWARNING ⚠️ /home/jupyter/work/resources/data_yolo/images/train/olen_Im_0000118.jpg: 2 duplicate labels removed\n",
      "\u001b[34m\u001b[1mtrain: \u001b[0mWARNING ⚠️ /home/jupyter/work/resources/data_yolo/images/train/olen_Im_0000118_1.jpg: 2 duplicate labels removed\n",
      "\u001b[34m\u001b[1mtrain: \u001b[0mWARNING ⚠️ /home/jupyter/work/resources/data_yolo/images/train/olen_Im_0000120.jpg: 2 duplicate labels removed\n",
      "\u001b[34m\u001b[1mtrain: \u001b[0mWARNING ⚠️ /home/jupyter/work/resources/data_yolo/images/train/olen_Im_0000121.jpg: 1 duplicate labels removed\n",
      "\u001b[34m\u001b[1mtrain: \u001b[0mWARNING ⚠️ /home/jupyter/work/resources/data_yolo/images/train/olen_Im_0000123.jpg: 1 duplicate labels removed\n",
      "\u001b[34m\u001b[1mtrain: \u001b[0mWARNING ⚠️ /home/jupyter/work/resources/data_yolo/images/train/olen_Im_0000125.jpg: 1 duplicate labels removed\n",
      "\u001b[34m\u001b[1mtrain: \u001b[0mWARNING ⚠️ /home/jupyter/work/resources/data_yolo/images/train/olen_Im_0000131.jpg: 1 duplicate labels removed\n",
      "\u001b[34m\u001b[1mtrain: \u001b[0mWARNING ⚠️ /home/jupyter/work/resources/data_yolo/images/train/olen_Im_0000134.jpg: 2 duplicate labels removed\n",
      "\u001b[34m\u001b[1mtrain: \u001b[0mWARNING ⚠️ /home/jupyter/work/resources/data_yolo/images/train/olen_Im_0000136.jpg: 6 duplicate labels removed\n",
      "\u001b[34m\u001b[1mtrain: \u001b[0mWARNING ⚠️ /home/jupyter/work/resources/data_yolo/images/train/olen_Im_0000137.jpg: 1 duplicate labels removed\n",
      "\u001b[34m\u001b[1mtrain: \u001b[0mWARNING ⚠️ /home/jupyter/work/resources/data_yolo/images/train/olen_Im_0000138.jpg: 5 duplicate labels removed\n",
      "\u001b[34m\u001b[1mtrain: \u001b[0mWARNING ⚠️ /home/jupyter/work/resources/data_yolo/images/train/olen_Im_0000140.jpg: 5 duplicate labels removed\n",
      "\u001b[34m\u001b[1mtrain: \u001b[0mWARNING ⚠️ /home/jupyter/work/resources/data_yolo/images/train/olen_Im_0000141.jpg: 2 duplicate labels removed\n",
      "\u001b[34m\u001b[1mtrain: \u001b[0mWARNING ⚠️ /home/jupyter/work/resources/data_yolo/images/train/olen_Im_0000142_1.jpg: 4 duplicate labels removed\n",
      "\u001b[34m\u001b[1mtrain: \u001b[0mWARNING ⚠️ /home/jupyter/work/resources/data_yolo/images/train/olen_Im_0000142_2.jpg: 2 duplicate labels removed\n",
      "\u001b[34m\u001b[1mtrain: \u001b[0mWARNING ⚠️ /home/jupyter/work/resources/data_yolo/images/train/olen_Im_0000145.jpg: 1 duplicate labels removed\n",
      "\u001b[34m\u001b[1mtrain: \u001b[0mWARNING ⚠️ /home/jupyter/work/resources/data_yolo/images/train/olen_Im_0000148.jpg: 1 duplicate labels removed\n",
      "\u001b[34m\u001b[1mtrain: \u001b[0mWARNING ⚠️ /home/jupyter/work/resources/data_yolo/images/train/olen_Im_0000153.jpg: 3 duplicate labels removed\n",
      "\u001b[34m\u001b[1mtrain: \u001b[0mWARNING ⚠️ /home/jupyter/work/resources/data_yolo/images/train/olen_Im_0000153_1.jpg: 3 duplicate labels removed\n",
      "\u001b[34m\u001b[1mtrain: \u001b[0mWARNING ⚠️ /home/jupyter/work/resources/data_yolo/images/train/olen_Im_0000156.jpg: 3 duplicate labels removed\n",
      "\u001b[34m\u001b[1mtrain: \u001b[0mWARNING ⚠️ /home/jupyter/work/resources/data_yolo/images/train/olen_Im_0000157.jpg: 6 duplicate labels removed\n",
      "\u001b[34m\u001b[1mtrain: \u001b[0mWARNING ⚠️ /home/jupyter/work/resources/data_yolo/images/train/olen_Im_0000159.jpg: 2 duplicate labels removed\n",
      "\u001b[34m\u001b[1mtrain: \u001b[0mWARNING ⚠️ /home/jupyter/work/resources/data_yolo/images/train/olen_Im_0000161.jpg: 5 duplicate labels removed\n",
      "\u001b[34m\u001b[1mtrain: \u001b[0mWARNING ⚠️ /home/jupyter/work/resources/data_yolo/images/train/olen_Im_0000165_1.jpg: 1 duplicate labels removed\n",
      "\u001b[34m\u001b[1mtrain: \u001b[0mWARNING ⚠️ /home/jupyter/work/resources/data_yolo/images/train/olen_Im_0000167.jpg: 1 duplicate labels removed\n",
      "\u001b[34m\u001b[1mtrain: \u001b[0mWARNING ⚠️ /home/jupyter/work/resources/data_yolo/images/train/olen_Im_0000172_2.jpg: 3 duplicate labels removed\n",
      "\u001b[34m\u001b[1mtrain: \u001b[0mWARNING ⚠️ /home/jupyter/work/resources/data_yolo/images/train/olen_Im_0000176.jpg: 2 duplicate labels removed\n",
      "\u001b[34m\u001b[1mtrain: \u001b[0mWARNING ⚠️ /home/jupyter/work/resources/data_yolo/images/train/olen_Im_0000178.jpg: 1 duplicate labels removed\n",
      "\u001b[34m\u001b[1mtrain: \u001b[0mWARNING ⚠️ /home/jupyter/work/resources/data_yolo/images/train/olen_Im_0000186.jpg: 3 duplicate labels removed\n",
      "\u001b[34m\u001b[1mtrain: \u001b[0mWARNING ⚠️ /home/jupyter/work/resources/data_yolo/images/train/olen_Im_0000187.jpg: 2 duplicate labels removed\n",
      "\u001b[34m\u001b[1mtrain: \u001b[0mWARNING ⚠️ /home/jupyter/work/resources/data_yolo/images/train/olen_Im_0000189.jpg: 2 duplicate labels removed\n",
      "\u001b[34m\u001b[1mtrain: \u001b[0mWARNING ⚠️ /home/jupyter/work/resources/data_yolo/images/train/olen_Im_0000189_1.jpg: 2 duplicate labels removed\n",
      "\u001b[34m\u001b[1mtrain: \u001b[0mWARNING ⚠️ /home/jupyter/work/resources/data_yolo/images/train/olen_Im_0000191.jpg: 2 duplicate labels removed\n",
      "\u001b[34m\u001b[1mtrain: \u001b[0mWARNING ⚠️ /home/jupyter/work/resources/data_yolo/images/train/olen_Im_0000193.jpg: 3 duplicate labels removed\n",
      "\u001b[34m\u001b[1mtrain: \u001b[0mWARNING ⚠️ /home/jupyter/work/resources/data_yolo/images/train/olen_Im_0000198.jpg: 1 duplicate labels removed\n",
      "\u001b[34m\u001b[1mtrain: \u001b[0mWARNING ⚠️ /home/jupyter/work/resources/data_yolo/images/train/olen_Im_0000199.jpg: 1 duplicate labels removed\n",
      "\u001b[34m\u001b[1mtrain: \u001b[0mWARNING ⚠️ /home/jupyter/work/resources/data_yolo/images/train/olen_Im_0000204.jpg: 3 duplicate labels removed\n",
      "\u001b[34m\u001b[1mtrain: \u001b[0mWARNING ⚠️ /home/jupyter/work/resources/data_yolo/images/train/olen_Im_0000204_1.jpg: 1 duplicate labels removed\n",
      "\u001b[34m\u001b[1mtrain: \u001b[0mWARNING ⚠️ /home/jupyter/work/resources/data_yolo/images/train/olen_Im_0000205.jpg: 1 duplicate labels removed\n",
      "\u001b[34m\u001b[1mtrain: \u001b[0mWARNING ⚠️ /home/jupyter/work/resources/data_yolo/images/train/olen_Im_0000208_1.jpg: 5 duplicate labels removed\n",
      "\u001b[34m\u001b[1mtrain: \u001b[0mWARNING ⚠️ /home/jupyter/work/resources/data_yolo/images/train/olen_Im_0000210.jpg: 1 duplicate labels removed\n",
      "\u001b[34m\u001b[1mtrain: \u001b[0mWARNING ⚠️ /home/jupyter/work/resources/data_yolo/images/train/olen_Im_0000211.jpg: 4 duplicate labels removed\n",
      "\u001b[34m\u001b[1mtrain: \u001b[0mWARNING ⚠️ /home/jupyter/work/resources/data_yolo/images/train/olen_Im_0000213.jpg: 5 duplicate labels removed\n",
      "\u001b[34m\u001b[1mtrain: \u001b[0mWARNING ⚠️ /home/jupyter/work/resources/data_yolo/images/train/olen_Im_0000214_1.jpg: 7 duplicate labels removed\n",
      "\u001b[34m\u001b[1mtrain: \u001b[0mWARNING ⚠️ /home/jupyter/work/resources/data_yolo/images/train/olen_Im_0000214_2.jpg: 2 duplicate labels removed\n",
      "\u001b[34m\u001b[1mtrain: \u001b[0mWARNING ⚠️ /home/jupyter/work/resources/data_yolo/images/train/olen_Im_0000215.jpg: 2 duplicate labels removed\n",
      "\u001b[34m\u001b[1mtrain: \u001b[0mWARNING ⚠️ /home/jupyter/work/resources/data_yolo/images/train/olen_Im_0000218.jpg: 2 duplicate labels removed\n",
      "\u001b[34m\u001b[1mtrain: \u001b[0mWARNING ⚠️ /home/jupyter/work/resources/data_yolo/images/train/olen_Im_0000219.jpg: 3 duplicate labels removed\n",
      "\u001b[34m\u001b[1mtrain: \u001b[0mWARNING ⚠️ /home/jupyter/work/resources/data_yolo/images/train/olen_Im_0000220.jpg: 4 duplicate labels removed\n",
      "\u001b[34m\u001b[1mtrain: \u001b[0mWARNING ⚠️ /home/jupyter/work/resources/data_yolo/images/train/olen_Im_0000220_2.jpg: 5 duplicate labels removed\n",
      "\u001b[34m\u001b[1mtrain: \u001b[0mWARNING ⚠️ /home/jupyter/work/resources/data_yolo/images/train/olen_Im_0000221.jpg: 2 duplicate labels removed\n",
      "\u001b[34m\u001b[1mtrain: \u001b[0mWARNING ⚠️ /home/jupyter/work/resources/data_yolo/images/train/olen_Im_0000225_1.jpg: 7 duplicate labels removed\n",
      "\u001b[34m\u001b[1mtrain: \u001b[0mWARNING ⚠️ /home/jupyter/work/resources/data_yolo/images/train/olen_Im_0000228.jpg: 6 duplicate labels removed\n",
      "\u001b[34m\u001b[1mtrain: \u001b[0mWARNING ⚠️ /home/jupyter/work/resources/data_yolo/images/train/olen_Im_0000232.jpg: 3 duplicate labels removed\n",
      "\u001b[34m\u001b[1mtrain: \u001b[0mWARNING ⚠️ /home/jupyter/work/resources/data_yolo/images/train/olen_Im_0000233.jpg: 5 duplicate labels removed\n",
      "\u001b[34m\u001b[1mtrain: \u001b[0mWARNING ⚠️ /home/jupyter/work/resources/data_yolo/images/train/olen_Im_0000235.jpg: 1 duplicate labels removed\n",
      "\u001b[34m\u001b[1mtrain: \u001b[0mWARNING ⚠️ /home/jupyter/work/resources/data_yolo/images/train/olen_Im_0000236.jpg: 4 duplicate labels removed\n",
      "\u001b[34m\u001b[1mtrain: \u001b[0mWARNING ⚠️ /home/jupyter/work/resources/data_yolo/images/train/olen_Im_0000237.jpg: 5 duplicate labels removed\n",
      "\u001b[34m\u001b[1mtrain: \u001b[0mWARNING ⚠️ /home/jupyter/work/resources/data_yolo/images/train/olen_Im_0000237_1.jpg: 1 duplicate labels removed\n",
      "\u001b[34m\u001b[1mtrain: \u001b[0mWARNING ⚠️ /home/jupyter/work/resources/data_yolo/images/train/olen_Im_0000240.jpg: 2 duplicate labels removed\n",
      "\u001b[34m\u001b[1mtrain: \u001b[0mWARNING ⚠️ /home/jupyter/work/resources/data_yolo/images/train/olen_Im_0000243.jpg: 1 duplicate labels removed\n",
      "\u001b[34m\u001b[1mtrain: \u001b[0mWARNING ⚠️ /home/jupyter/work/resources/data_yolo/images/train/olen_Im_0000244.jpg: 1 duplicate labels removed\n",
      "\u001b[34m\u001b[1mtrain: \u001b[0mWARNING ⚠️ /home/jupyter/work/resources/data_yolo/images/train/olen_Im_0000247.jpg: 2 duplicate labels removed\n",
      "\u001b[34m\u001b[1mtrain: \u001b[0mWARNING ⚠️ /home/jupyter/work/resources/data_yolo/images/train/olen_Im_0000249.jpg: 8 duplicate labels removed\n",
      "\u001b[34m\u001b[1mtrain: \u001b[0mWARNING ⚠️ /home/jupyter/work/resources/data_yolo/images/train/olen_Im_0000256_1.jpg: 1 duplicate labels removed\n",
      "\u001b[34m\u001b[1mtrain: \u001b[0mWARNING ⚠️ /home/jupyter/work/resources/data_yolo/images/train/olen_Im_0000256_2.jpg: 5 duplicate labels removed\n",
      "\u001b[34m\u001b[1mtrain: \u001b[0mWARNING ⚠️ /home/jupyter/work/resources/data_yolo/images/train/olen_Im_0000257.jpg: 4 duplicate labels removed\n",
      "\u001b[34m\u001b[1mtrain: \u001b[0mWARNING ⚠️ /home/jupyter/work/resources/data_yolo/images/train/olen_Im_0000263.jpg: 2 duplicate labels removed\n",
      "\u001b[34m\u001b[1mtrain: \u001b[0mWARNING ⚠️ /home/jupyter/work/resources/data_yolo/images/train/olen_Im_0000265.jpg: 2 duplicate labels removed\n",
      "\u001b[34m\u001b[1mtrain: \u001b[0mWARNING ⚠️ /home/jupyter/work/resources/data_yolo/images/train/olen_Im_0000265_1.jpg: 6 duplicate labels removed\n",
      "\u001b[34m\u001b[1mtrain: \u001b[0mWARNING ⚠️ /home/jupyter/work/resources/data_yolo/images/train/olen_Im_0000267.jpg: 3 duplicate labels removed\n",
      "\u001b[34m\u001b[1mtrain: \u001b[0mWARNING ⚠️ /home/jupyter/work/resources/data_yolo/images/train/olen_Im_0000268.jpg: 4 duplicate labels removed\n",
      "\u001b[34m\u001b[1mtrain: \u001b[0mWARNING ⚠️ /home/jupyter/work/resources/data_yolo/images/train/olen_Im_0000273.jpg: 1 duplicate labels removed\n",
      "\u001b[34m\u001b[1mtrain: \u001b[0mWARNING ⚠️ /home/jupyter/work/resources/data_yolo/images/train/olen_Im_0000276.jpg: 6 duplicate labels removed\n",
      "\u001b[34m\u001b[1mtrain: \u001b[0mWARNING ⚠️ /home/jupyter/work/resources/data_yolo/images/train/olen_Im_0000278.jpg: 1 duplicate labels removed\n",
      "\u001b[34m\u001b[1mtrain: \u001b[0mWARNING ⚠️ /home/jupyter/work/resources/data_yolo/images/train/olen_Im_0000279.jpg: 2 duplicate labels removed\n",
      "\u001b[34m\u001b[1mtrain: \u001b[0mWARNING ⚠️ /home/jupyter/work/resources/data_yolo/images/train/olen_Im_0000282.jpg: 3 duplicate labels removed\n",
      "\u001b[34m\u001b[1mtrain: \u001b[0mWARNING ⚠️ /home/jupyter/work/resources/data_yolo/images/train/olen_Im_0000284.jpg: 1 duplicate labels removed\n",
      "\u001b[34m\u001b[1mtrain: \u001b[0mWARNING ⚠️ /home/jupyter/work/resources/data_yolo/images/train/olen_Im_0000285.jpg: 1 duplicate labels removed\n",
      "\u001b[34m\u001b[1mtrain: \u001b[0mWARNING ⚠️ /home/jupyter/work/resources/data_yolo/images/train/olen_Im_0000287.jpg: 3 duplicate labels removed\n",
      "\u001b[34m\u001b[1mtrain: \u001b[0mWARNING ⚠️ /home/jupyter/work/resources/data_yolo/images/train/olen_Im_0000300.jpg: 1 duplicate labels removed\n",
      "\u001b[34m\u001b[1mtrain: \u001b[0mWARNING ⚠️ /home/jupyter/work/resources/data_yolo/images/train/olen_Im_0000301.jpg: 1 duplicate labels removed\n",
      "\u001b[34m\u001b[1mtrain: \u001b[0mWARNING ⚠️ /home/jupyter/work/resources/data_yolo/images/train/olen_Im_0000303.jpg: 1 duplicate labels removed\n",
      "\u001b[34m\u001b[1mtrain: \u001b[0mWARNING ⚠️ /home/jupyter/work/resources/data_yolo/images/train/olen_Im_0000303_1.jpg: 2 duplicate labels removed\n",
      "\u001b[34m\u001b[1mtrain: \u001b[0mWARNING ⚠️ /home/jupyter/work/resources/data_yolo/images/train/olen_Im_0000305_1.jpg: 2 duplicate labels removed\n",
      "\u001b[34m\u001b[1mtrain: \u001b[0mWARNING ⚠️ /home/jupyter/work/resources/data_yolo/images/train/olen_Im_0000306.jpg: 1 duplicate labels removed\n",
      "\u001b[34m\u001b[1mtrain: \u001b[0mWARNING ⚠️ /home/jupyter/work/resources/data_yolo/images/train/olen_Im_0000310.jpg: 1 duplicate labels removed\n",
      "\u001b[34m\u001b[1mtrain: \u001b[0mWARNING ⚠️ /home/jupyter/work/resources/data_yolo/images/train/olen_Im_0000316.jpg: 1 duplicate labels removed\n",
      "\u001b[34m\u001b[1mtrain: \u001b[0mWARNING ⚠️ /home/jupyter/work/resources/data_yolo/images/train/olen_Im_0000319_1.jpg: 4 duplicate labels removed\n",
      "\u001b[34m\u001b[1mtrain: \u001b[0mWARNING ⚠️ /home/jupyter/work/resources/data_yolo/images/train/olen_Im_0000326.jpg: 2 duplicate labels removed\n",
      "\u001b[34m\u001b[1mtrain: \u001b[0mWARNING ⚠️ /home/jupyter/work/resources/data_yolo/images/train/olen_Im_0000329.jpg: 2 duplicate labels removed\n",
      "\u001b[34m\u001b[1mtrain: \u001b[0mWARNING ⚠️ /home/jupyter/work/resources/data_yolo/images/train/olen_Im_0000333.jpg: 4 duplicate labels removed\n",
      "\u001b[34m\u001b[1mtrain: \u001b[0mWARNING ⚠️ /home/jupyter/work/resources/data_yolo/images/train/olen_Im_0000337.jpg: 2 duplicate labels removed\n",
      "\u001b[34m\u001b[1mtrain: \u001b[0mWARNING ⚠️ /home/jupyter/work/resources/data_yolo/images/train/olen_Im_0000341_1.jpg: 1 duplicate labels removed\n",
      "\u001b[34m\u001b[1mtrain: \u001b[0mWARNING ⚠️ /home/jupyter/work/resources/data_yolo/images/train/olen_Im_0000342.jpg: 6 duplicate labels removed\n",
      "\u001b[34m\u001b[1mtrain: \u001b[0mWARNING ⚠️ /home/jupyter/work/resources/data_yolo/images/train/olen_Im_0000343.jpg: 3 duplicate labels removed\n",
      "\u001b[34m\u001b[1mtrain: \u001b[0mWARNING ⚠️ /home/jupyter/work/resources/data_yolo/images/train/olen_Im_0000346.jpg: 1 duplicate labels removed\n",
      "\u001b[34m\u001b[1mtrain: \u001b[0mWARNING ⚠️ /home/jupyter/work/resources/data_yolo/images/train/olen_Im_0000354.jpg: 6 duplicate labels removed\n",
      "\u001b[34m\u001b[1mtrain: \u001b[0mWARNING ⚠️ /home/jupyter/work/resources/data_yolo/images/train/olen_Im_0000355.jpg: 4 duplicate labels removed\n",
      "\u001b[34m\u001b[1mtrain: \u001b[0mWARNING ⚠️ /home/jupyter/work/resources/data_yolo/images/train/olen_Im_0000357_1.jpg: 2 duplicate labels removed\n",
      "\u001b[34m\u001b[1mtrain: \u001b[0mWARNING ⚠️ /home/jupyter/work/resources/data_yolo/images/train/olen_Im_0000358.jpg: 4 duplicate labels removed\n",
      "\u001b[34m\u001b[1mtrain: \u001b[0mWARNING ⚠️ /home/jupyter/work/resources/data_yolo/images/train/olen_Im_0000360.jpg: 3 duplicate labels removed\n",
      "\u001b[34m\u001b[1mtrain: \u001b[0mWARNING ⚠️ /home/jupyter/work/resources/data_yolo/images/train/olen_Im_0000360_1.jpg: 4 duplicate labels removed\n",
      "\u001b[34m\u001b[1mtrain: \u001b[0mWARNING ⚠️ /home/jupyter/work/resources/data_yolo/images/train/olen_Im_0000361.jpg: 3 duplicate labels removed\n",
      "\u001b[34m\u001b[1mtrain: \u001b[0mWARNING ⚠️ /home/jupyter/work/resources/data_yolo/images/train/olen_Im_0000367.jpg: 4 duplicate labels removed\n",
      "\u001b[34m\u001b[1mtrain: \u001b[0mWARNING ⚠️ /home/jupyter/work/resources/data_yolo/images/train/olen_Im_0000370.jpg: 1 duplicate labels removed\n",
      "\u001b[34m\u001b[1mtrain: \u001b[0mWARNING ⚠️ /home/jupyter/work/resources/data_yolo/images/train/olen_Im_0000374.jpg: 1 duplicate labels removed\n",
      "\u001b[34m\u001b[1mtrain: \u001b[0mWARNING ⚠️ /home/jupyter/work/resources/data_yolo/images/train/olen_Im_0000374_1.jpg: 6 duplicate labels removed\n",
      "\u001b[34m\u001b[1mtrain: \u001b[0mWARNING ⚠️ /home/jupyter/work/resources/data_yolo/images/train/olen_Im_0000376.jpg: 3 duplicate labels removed\n",
      "\u001b[34m\u001b[1mtrain: \u001b[0mWARNING ⚠️ /home/jupyter/work/resources/data_yolo/images/train/olen_Im_0000378.jpg: 1 duplicate labels removed\n",
      "\u001b[34m\u001b[1mtrain: \u001b[0mWARNING ⚠️ /home/jupyter/work/resources/data_yolo/images/train/olen_Im_0000378_1.jpg: 6 duplicate labels removed\n",
      "\u001b[34m\u001b[1mtrain: \u001b[0mWARNING ⚠️ /home/jupyter/work/resources/data_yolo/images/train/olen_Im_0000380.jpg: 3 duplicate labels removed\n",
      "\u001b[34m\u001b[1mtrain: \u001b[0mWARNING ⚠️ /home/jupyter/work/resources/data_yolo/images/train/olen_Im_0000380_1.jpg: 1 duplicate labels removed\n",
      "\u001b[34m\u001b[1mtrain: \u001b[0mWARNING ⚠️ /home/jupyter/work/resources/data_yolo/images/train/olen_Im_0000381.jpg: 5 duplicate labels removed\n",
      "\u001b[34m\u001b[1mtrain: \u001b[0mWARNING ⚠️ /home/jupyter/work/resources/data_yolo/images/train/olen_Im_0000381_1.jpg: 3 duplicate labels removed\n",
      "\u001b[34m\u001b[1mtrain: \u001b[0mWARNING ⚠️ /home/jupyter/work/resources/data_yolo/images/train/olen_Im_0000381_2.jpg: 2 duplicate labels removed\n",
      "\u001b[34m\u001b[1mtrain: \u001b[0mWARNING ⚠️ /home/jupyter/work/resources/data_yolo/images/train/olen_Im_0000383.jpg: 10 duplicate labels removed\n",
      "\u001b[34m\u001b[1mtrain: \u001b[0mWARNING ⚠️ /home/jupyter/work/resources/data_yolo/images/train/olen_Im_0000387.jpg: 1 duplicate labels removed\n",
      "\u001b[34m\u001b[1mtrain: \u001b[0mWARNING ⚠️ /home/jupyter/work/resources/data_yolo/images/train/olen_Im_0000390_1.jpg: 3 duplicate labels removed\n",
      "\u001b[34m\u001b[1mtrain: \u001b[0mWARNING ⚠️ /home/jupyter/work/resources/data_yolo/images/train/olen_Im_0000392.jpg: 4 duplicate labels removed\n",
      "\u001b[34m\u001b[1mtrain: \u001b[0mWARNING ⚠️ /home/jupyter/work/resources/data_yolo/images/train/olen_Im_0000393.jpg: 2 duplicate labels removed\n",
      "\u001b[34m\u001b[1mtrain: \u001b[0mWARNING ⚠️ /home/jupyter/work/resources/data_yolo/images/train/olen_Im_0000398.jpg: 5 duplicate labels removed\n",
      "\u001b[34m\u001b[1mtrain: \u001b[0mWARNING ⚠️ /home/jupyter/work/resources/data_yolo/images/train/olen_Im_0000400.jpg: 1 duplicate labels removed\n",
      "\u001b[34m\u001b[1mtrain: \u001b[0mWARNING ⚠️ /home/jupyter/work/resources/data_yolo/images/train/olen_Im_0000401_1.jpg: 5 duplicate labels removed\n",
      "\u001b[34m\u001b[1mtrain: \u001b[0mWARNING ⚠️ /home/jupyter/work/resources/data_yolo/images/train/olen_Im_0000403_1.jpg: 2 duplicate labels removed\n",
      "\u001b[34m\u001b[1mtrain: \u001b[0mWARNING ⚠️ /home/jupyter/work/resources/data_yolo/images/train/olen_Im_0000406.jpg: 6 duplicate labels removed\n",
      "\u001b[34m\u001b[1mtrain: \u001b[0mWARNING ⚠️ /home/jupyter/work/resources/data_yolo/images/train/olen_Im_0000408.jpg: 2 duplicate labels removed\n",
      "\u001b[34m\u001b[1mtrain: \u001b[0mWARNING ⚠️ /home/jupyter/work/resources/data_yolo/images/train/olen_Im_0000408_1.jpg: 2 duplicate labels removed\n",
      "\u001b[34m\u001b[1mtrain: \u001b[0mWARNING ⚠️ /home/jupyter/work/resources/data_yolo/images/train/olen_Im_0000409_1.jpg: 2 duplicate labels removed\n",
      "\u001b[34m\u001b[1mtrain: \u001b[0mWARNING ⚠️ /home/jupyter/work/resources/data_yolo/images/train/olen_Im_0000411.jpg: 2 duplicate labels removed\n",
      "\u001b[34m\u001b[1mtrain: \u001b[0mWARNING ⚠️ /home/jupyter/work/resources/data_yolo/images/train/olen_Im_0000414.jpg: 4 duplicate labels removed\n",
      "\u001b[34m\u001b[1mtrain: \u001b[0mWARNING ⚠️ /home/jupyter/work/resources/data_yolo/images/train/olen_Im_0000415.jpg: 5 duplicate labels removed\n",
      "\u001b[34m\u001b[1mtrain: \u001b[0mWARNING ⚠️ /home/jupyter/work/resources/data_yolo/images/train/olen_Im_0000418.jpg: 3 duplicate labels removed\n",
      "\u001b[34m\u001b[1mtrain: \u001b[0mWARNING ⚠️ /home/jupyter/work/resources/data_yolo/images/train/olen_Im_0000421.jpg: 2 duplicate labels removed\n",
      "\u001b[34m\u001b[1mtrain: \u001b[0mWARNING ⚠️ /home/jupyter/work/resources/data_yolo/images/train/olen_Im_0000423.jpg: 6 duplicate labels removed\n",
      "\u001b[34m\u001b[1mtrain: \u001b[0mWARNING ⚠️ /home/jupyter/work/resources/data_yolo/images/train/olen_Im_0000425.jpg: 1 duplicate labels removed\n",
      "\u001b[34m\u001b[1mtrain: \u001b[0mWARNING ⚠️ /home/jupyter/work/resources/data_yolo/images/train/olen_Im_0000428.jpg: 3 duplicate labels removed\n",
      "\u001b[34m\u001b[1mtrain: \u001b[0mWARNING ⚠️ /home/jupyter/work/resources/data_yolo/images/train/olen_Im_0000429.jpg: 9 duplicate labels removed\n",
      "\u001b[34m\u001b[1mtrain: \u001b[0mWARNING ⚠️ /home/jupyter/work/resources/data_yolo/images/train/olen_Im_0000429_1.jpg: 7 duplicate labels removed\n",
      "\u001b[34m\u001b[1mtrain: \u001b[0mWARNING ⚠️ /home/jupyter/work/resources/data_yolo/images/train/olen_Im_0000429_2.jpg: 2 duplicate labels removed\n",
      "\u001b[34m\u001b[1mtrain: \u001b[0mWARNING ⚠️ /home/jupyter/work/resources/data_yolo/images/train/olen_Im_0000430.jpg: 2 duplicate labels removed\n",
      "\u001b[34m\u001b[1mtrain: \u001b[0mWARNING ⚠️ /home/jupyter/work/resources/data_yolo/images/train/olen_Im_0000432.jpg: 3 duplicate labels removed\n",
      "\u001b[34m\u001b[1mtrain: \u001b[0mWARNING ⚠️ /home/jupyter/work/resources/data_yolo/images/train/olen_Im_0000439.jpg: 4 duplicate labels removed\n",
      "\u001b[34m\u001b[1mtrain: \u001b[0mWARNING ⚠️ /home/jupyter/work/resources/data_yolo/images/train/olen_Im_0000442.jpg: 3 duplicate labels removed\n",
      "\u001b[34m\u001b[1mtrain: \u001b[0mWARNING ⚠️ /home/jupyter/work/resources/data_yolo/images/train/olen_Im_0000445.jpg: 2 duplicate labels removed\n",
      "\u001b[34m\u001b[1mtrain: \u001b[0mWARNING ⚠️ /home/jupyter/work/resources/data_yolo/images/train/olen_Im_0000451.jpg: 6 duplicate labels removed\n",
      "\u001b[34m\u001b[1mtrain: \u001b[0mWARNING ⚠️ /home/jupyter/work/resources/data_yolo/images/train/olen_Im_0000455.jpg: 6 duplicate labels removed\n",
      "\u001b[34m\u001b[1mtrain: \u001b[0mWARNING ⚠️ /home/jupyter/work/resources/data_yolo/images/train/olen_Im_0000458.jpg: 5 duplicate labels removed\n",
      "\u001b[34m\u001b[1mtrain: \u001b[0mWARNING ⚠️ /home/jupyter/work/resources/data_yolo/images/train/olen_Im_0000459.jpg: 2 duplicate labels removed\n",
      "\u001b[34m\u001b[1mtrain: \u001b[0mWARNING ⚠️ /home/jupyter/work/resources/data_yolo/images/train/olen_Im_0000462.jpg: 4 duplicate labels removed\n",
      "\u001b[34m\u001b[1mtrain: \u001b[0mWARNING ⚠️ /home/jupyter/work/resources/data_yolo/images/train/olen_Im_0000463.jpg: 2 duplicate labels removed\n",
      "\u001b[34m\u001b[1mtrain: \u001b[0mWARNING ⚠️ /home/jupyter/work/resources/data_yolo/images/train/olen_Im_0000466.jpg: 7 duplicate labels removed\n",
      "\u001b[34m\u001b[1mtrain: \u001b[0mWARNING ⚠️ /home/jupyter/work/resources/data_yolo/images/train/olen_Im_0000466_1.jpg: 5 duplicate labels removed\n",
      "\u001b[34m\u001b[1mtrain: \u001b[0mWARNING ⚠️ /home/jupyter/work/resources/data_yolo/images/train/olen_Im_0000466_2.jpg: 3 duplicate labels removed\n",
      "\u001b[34m\u001b[1mtrain: \u001b[0mWARNING ⚠️ /home/jupyter/work/resources/data_yolo/images/train/olen_Im_0000469.jpg: 2 duplicate labels removed\n",
      "\u001b[34m\u001b[1mtrain: \u001b[0mWARNING ⚠️ /home/jupyter/work/resources/data_yolo/images/train/olen_Im_0000470.jpg: 4 duplicate labels removed\n",
      "\u001b[34m\u001b[1mtrain: \u001b[0mWARNING ⚠️ /home/jupyter/work/resources/data_yolo/images/train/olen_Im_0000479.jpg: 8 duplicate labels removed\n",
      "\u001b[34m\u001b[1mtrain: \u001b[0mWARNING ⚠️ /home/jupyter/work/resources/data_yolo/images/train/olen_Im_0000484_1.jpg: 7 duplicate labels removed\n",
      "\u001b[34m\u001b[1mtrain: \u001b[0mWARNING ⚠️ /home/jupyter/work/resources/data_yolo/images/train/olen_Im_0000484_2.jpg: 4 duplicate labels removed\n",
      "\u001b[34m\u001b[1mtrain: \u001b[0mWARNING ⚠️ /home/jupyter/work/resources/data_yolo/images/train/olen_Im_0000487.jpg: 1 duplicate labels removed\n",
      "\u001b[34m\u001b[1mtrain: \u001b[0mWARNING ⚠️ /home/jupyter/work/resources/data_yolo/images/train/olen_Im_0000487_1.jpg: 7 duplicate labels removed\n",
      "\u001b[34m\u001b[1mtrain: \u001b[0mWARNING ⚠️ /home/jupyter/work/resources/data_yolo/images/train/olen_Im_0000490.jpg: 2 duplicate labels removed\n",
      "\u001b[34m\u001b[1mtrain: \u001b[0mWARNING ⚠️ /home/jupyter/work/resources/data_yolo/images/train/olen_Im_0000491.jpg: 2 duplicate labels removed\n",
      "\u001b[34m\u001b[1mtrain: \u001b[0mWARNING ⚠️ /home/jupyter/work/resources/data_yolo/images/train/olen_Im_0000494.jpg: 4 duplicate labels removed\n",
      "\u001b[34m\u001b[1mtrain: \u001b[0mWARNING ⚠️ /home/jupyter/work/resources/data_yolo/images/train/olen_Im_0000495.jpg: 1 duplicate labels removed\n",
      "\u001b[34m\u001b[1mtrain: \u001b[0mWARNING ⚠️ /home/jupyter/work/resources/data_yolo/images/train/olen_Im_0000497.jpg: 5 duplicate labels removed\n",
      "\u001b[34m\u001b[1mtrain: \u001b[0mWARNING ⚠️ /home/jupyter/work/resources/data_yolo/images/train/olen_Im_0000498.jpg: 5 duplicate labels removed\n",
      "\u001b[34m\u001b[1mtrain: \u001b[0mWARNING ⚠️ /home/jupyter/work/resources/data_yolo/images/train/olen_Im_0000498_1.jpg: 5 duplicate labels removed\n",
      "\u001b[34m\u001b[1mtrain: \u001b[0mWARNING ⚠️ /home/jupyter/work/resources/data_yolo/images/train/olen_Im_0000499_1.jpg: 4 duplicate labels removed\n",
      "\u001b[34m\u001b[1mtrain: \u001b[0mWARNING ⚠️ /home/jupyter/work/resources/data_yolo/images/train/olen_Im_0000500.jpg: 1 duplicate labels removed\n",
      "\u001b[34m\u001b[1mtrain: \u001b[0mWARNING ⚠️ /home/jupyter/work/resources/data_yolo/images/train/olen_Im_0000501.jpg: 1 duplicate labels removed\n",
      "\u001b[34m\u001b[1mtrain: \u001b[0mWARNING ⚠️ /home/jupyter/work/resources/data_yolo/images/train/olen_Im_0000501_1.jpg: 1 duplicate labels removed\n",
      "\u001b[34m\u001b[1mtrain: \u001b[0mWARNING ⚠️ /home/jupyter/work/resources/data_yolo/images/train/olen_Im_0000503_2.jpg: 9 duplicate labels removed\n",
      "\u001b[34m\u001b[1mtrain: \u001b[0mWARNING ⚠️ /home/jupyter/work/resources/data_yolo/images/train/olen_Im_0000504.jpg: 3 duplicate labels removed\n",
      "\u001b[34m\u001b[1mtrain: \u001b[0mWARNING ⚠️ /home/jupyter/work/resources/data_yolo/images/train/olen_Im_0000505.jpg: 1 duplicate labels removed\n",
      "\u001b[34m\u001b[1mtrain: \u001b[0mWARNING ⚠️ /home/jupyter/work/resources/data_yolo/images/train/olen_Im_0000509.jpg: 1 duplicate labels removed\n",
      "\u001b[34m\u001b[1mtrain: \u001b[0mWARNING ⚠️ /home/jupyter/work/resources/data_yolo/images/train/olen_Im_0000510.jpg: 1 duplicate labels removed\n",
      "\u001b[34m\u001b[1mtrain: \u001b[0mWARNING ⚠️ /home/jupyter/work/resources/data_yolo/images/train/olen_Im_0000513.jpg: 1 duplicate labels removed\n",
      "\u001b[34m\u001b[1mtrain: \u001b[0mWARNING ⚠️ /home/jupyter/work/resources/data_yolo/images/train/olen_Im_0000515.jpg: 2 duplicate labels removed\n",
      "\u001b[34m\u001b[1mtrain: \u001b[0mWARNING ⚠️ /home/jupyter/work/resources/data_yolo/images/train/olen_Im_0000516.jpg: 1 duplicate labels removed\n",
      "\u001b[34m\u001b[1mtrain: \u001b[0mWARNING ⚠️ /home/jupyter/work/resources/data_yolo/images/train/olen_Im_0000522.jpg: 4 duplicate labels removed\n",
      "\u001b[34m\u001b[1mtrain: \u001b[0mWARNING ⚠️ /home/jupyter/work/resources/data_yolo/images/train/olen_Im_0000522_1.jpg: 1 duplicate labels removed\n",
      "\u001b[34m\u001b[1mtrain: \u001b[0mWARNING ⚠️ /home/jupyter/work/resources/data_yolo/images/train/olen_Im_0000525.jpg: 2 duplicate labels removed\n",
      "\u001b[34m\u001b[1mtrain: \u001b[0mWARNING ⚠️ /home/jupyter/work/resources/data_yolo/images/train/olen_Im_0000528.jpg: 1 duplicate labels removed\n",
      "\u001b[34m\u001b[1mtrain: \u001b[0mWARNING ⚠️ /home/jupyter/work/resources/data_yolo/images/train/olen_Im_0000535.jpg: 5 duplicate labels removed\n",
      "\u001b[34m\u001b[1mtrain: \u001b[0mWARNING ⚠️ /home/jupyter/work/resources/data_yolo/images/train/olen_Im_0000536_1.jpg: 3 duplicate labels removed\n",
      "\u001b[34m\u001b[1mtrain: \u001b[0mWARNING ⚠️ /home/jupyter/work/resources/data_yolo/images/train/olen_Im_0000539.jpg: 5 duplicate labels removed\n",
      "\u001b[34m\u001b[1mtrain: \u001b[0mWARNING ⚠️ /home/jupyter/work/resources/data_yolo/images/train/olen_Im_0000542.jpg: 5 duplicate labels removed\n",
      "\u001b[34m\u001b[1mtrain: \u001b[0mWARNING ⚠️ /home/jupyter/work/resources/data_yolo/images/train/olen_Im_0000548_2.jpg: 1 duplicate labels removed\n",
      "\u001b[34m\u001b[1mtrain: \u001b[0mWARNING ⚠️ /home/jupyter/work/resources/data_yolo/images/train/olen_Im_0000550.jpg: 2 duplicate labels removed\n",
      "\u001b[34m\u001b[1mtrain: \u001b[0mWARNING ⚠️ /home/jupyter/work/resources/data_yolo/images/train/olen_Im_0000552.jpg: 2 duplicate labels removed\n",
      "\u001b[34m\u001b[1mtrain: \u001b[0mWARNING ⚠️ /home/jupyter/work/resources/data_yolo/images/train/olen_Im_0000553.jpg: 2 duplicate labels removed\n",
      "\u001b[34m\u001b[1mtrain: \u001b[0mWARNING ⚠️ /home/jupyter/work/resources/data_yolo/images/train/olen_Im_0000553_1.jpg: 5 duplicate labels removed\n",
      "\u001b[34m\u001b[1mtrain: \u001b[0mWARNING ⚠️ /home/jupyter/work/resources/data_yolo/images/train/olen_Im_0000566.jpg: 8 duplicate labels removed\n",
      "\u001b[34m\u001b[1mtrain: \u001b[0mWARNING ⚠️ /home/jupyter/work/resources/data_yolo/images/train/olen_Im_0000568.jpg: 7 duplicate labels removed\n",
      "\u001b[34m\u001b[1mtrain: \u001b[0mWARNING ⚠️ /home/jupyter/work/resources/data_yolo/images/train/olen_Im_0000568_1.jpg: 2 duplicate labels removed\n",
      "\u001b[34m\u001b[1mtrain: \u001b[0mWARNING ⚠️ /home/jupyter/work/resources/data_yolo/images/train/olen_Im_0000569.jpg: 4 duplicate labels removed\n",
      "\u001b[34m\u001b[1mtrain: \u001b[0mWARNING ⚠️ /home/jupyter/work/resources/data_yolo/images/train/olen_Im_0000569_1.jpg: 5 duplicate labels removed\n",
      "\u001b[34m\u001b[1mtrain: \u001b[0mWARNING ⚠️ /home/jupyter/work/resources/data_yolo/images/train/olen_Im_0000569_2.jpg: 7 duplicate labels removed\n",
      "\u001b[34m\u001b[1mtrain: \u001b[0mWARNING ⚠️ /home/jupyter/work/resources/data_yolo/images/train/olen_Im_0000580.jpg: 4 duplicate labels removed\n",
      "\u001b[34m\u001b[1mtrain: \u001b[0mWARNING ⚠️ /home/jupyter/work/resources/data_yolo/images/train/olen_Im_0000582.jpg: 4 duplicate labels removed\n",
      "\u001b[34m\u001b[1mtrain: \u001b[0mWARNING ⚠️ /home/jupyter/work/resources/data_yolo/images/train/olen_Im_0000585.jpg: 3 duplicate labels removed\n",
      "\u001b[34m\u001b[1mtrain: \u001b[0mWARNING ⚠️ /home/jupyter/work/resources/data_yolo/images/train/olen_Im_0000585_1.jpg: 2 duplicate labels removed\n",
      "\u001b[34m\u001b[1mtrain: \u001b[0mWARNING ⚠️ /home/jupyter/work/resources/data_yolo/images/train/olen_Im_0000592.jpg: 6 duplicate labels removed\n",
      "\u001b[34m\u001b[1mtrain: \u001b[0mWARNING ⚠️ /home/jupyter/work/resources/data_yolo/images/train/olen_Im_0000594.jpg: 4 duplicate labels removed\n",
      "\u001b[34m\u001b[1mtrain: \u001b[0mWARNING ⚠️ /home/jupyter/work/resources/data_yolo/images/train/olen_Im_0000600.jpg: 5 duplicate labels removed\n",
      "\u001b[34m\u001b[1mtrain: \u001b[0mWARNING ⚠️ /home/jupyter/work/resources/data_yolo/images/train/olen_Im_0000600_1.jpg: 4 duplicate labels removed\n",
      "\u001b[34m\u001b[1mtrain: \u001b[0mWARNING ⚠️ /home/jupyter/work/resources/data_yolo/images/train/olen_Im_0000601_1.jpg: 1 duplicate labels removed\n",
      "\u001b[34m\u001b[1mtrain: \u001b[0mWARNING ⚠️ /home/jupyter/work/resources/data_yolo/images/train/olen_Im_0000603.jpg: 6 duplicate labels removed\n",
      "\u001b[34m\u001b[1mtrain: \u001b[0mWARNING ⚠️ /home/jupyter/work/resources/data_yolo/images/train/olen_Im_0000604.jpg: 5 duplicate labels removed\n",
      "\u001b[34m\u001b[1mtrain: \u001b[0mWARNING ⚠️ /home/jupyter/work/resources/data_yolo/images/train/olen_Im_0000608.jpg: 3 duplicate labels removed\n",
      "\u001b[34m\u001b[1mtrain: \u001b[0mWARNING ⚠️ /home/jupyter/work/resources/data_yolo/images/train/olen_Im_0000608_1.jpg: 5 duplicate labels removed\n",
      "\u001b[34m\u001b[1mtrain: \u001b[0mWARNING ⚠️ /home/jupyter/work/resources/data_yolo/images/train/olen_Im_0000613.jpg: 1 duplicate labels removed\n",
      "\u001b[34m\u001b[1mtrain: \u001b[0mWARNING ⚠️ /home/jupyter/work/resources/data_yolo/images/train/olen_Im_0000614.jpg: 1 duplicate labels removed\n",
      "\u001b[34m\u001b[1mtrain: \u001b[0mWARNING ⚠️ /home/jupyter/work/resources/data_yolo/images/train/olen_Im_0000614_1.jpg: 1 duplicate labels removed\n",
      "\u001b[34m\u001b[1mtrain: \u001b[0mWARNING ⚠️ /home/jupyter/work/resources/data_yolo/images/train/olen_Im_0000614_2.jpg: 2 duplicate labels removed\n",
      "\u001b[34m\u001b[1mtrain: \u001b[0mWARNING ⚠️ /home/jupyter/work/resources/data_yolo/images/train/olen_Im_0000617.jpg: 2 duplicate labels removed\n",
      "\u001b[34m\u001b[1mtrain: \u001b[0mWARNING ⚠️ /home/jupyter/work/resources/data_yolo/images/train/olen_Im_0000619.jpg: 2 duplicate labels removed\n",
      "\u001b[34m\u001b[1mtrain: \u001b[0mWARNING ⚠️ /home/jupyter/work/resources/data_yolo/images/train/olen_Im_0000620.jpg: 3 duplicate labels removed\n",
      "\u001b[34m\u001b[1mtrain: \u001b[0mWARNING ⚠️ /home/jupyter/work/resources/data_yolo/images/train/olen_Im_0000622_2.jpg: 1 duplicate labels removed\n",
      "\u001b[34m\u001b[1mtrain: \u001b[0mWARNING ⚠️ /home/jupyter/work/resources/data_yolo/images/train/olen_Im_0000623.jpg: 2 duplicate labels removed\n",
      "\u001b[34m\u001b[1mtrain: \u001b[0mWARNING ⚠️ /home/jupyter/work/resources/data_yolo/images/train/olen_Im_0000623_1.jpg: 1 duplicate labels removed\n",
      "\u001b[34m\u001b[1mtrain: \u001b[0mWARNING ⚠️ /home/jupyter/work/resources/data_yolo/images/train/olen_Im_0000624_1.jpg: 2 duplicate labels removed\n",
      "\u001b[34m\u001b[1mtrain: \u001b[0mWARNING ⚠️ /home/jupyter/work/resources/data_yolo/images/train/olen_Im_0000626.jpg: 1 duplicate labels removed\n",
      "\u001b[34m\u001b[1mtrain: \u001b[0mWARNING ⚠️ /home/jupyter/work/resources/data_yolo/images/train/olen_Im_0000629_1.jpg: 5 duplicate labels removed\n",
      "\u001b[34m\u001b[1mtrain: \u001b[0mWARNING ⚠️ /home/jupyter/work/resources/data_yolo/images/train/olen_Im_0000632.jpg: 2 duplicate labels removed\n",
      "\u001b[34m\u001b[1mtrain: \u001b[0mWARNING ⚠️ /home/jupyter/work/resources/data_yolo/images/train/olen_Im_0000637.jpg: 1 duplicate labels removed\n",
      "\u001b[34m\u001b[1mtrain: \u001b[0mWARNING ⚠️ /home/jupyter/work/resources/data_yolo/images/train/olen_Im_0000637_1.jpg: 5 duplicate labels removed\n",
      "\u001b[34m\u001b[1mtrain: \u001b[0mWARNING ⚠️ /home/jupyter/work/resources/data_yolo/images/train/olen_Im_0000639_1.jpg: 1 duplicate labels removed\n",
      "\u001b[34m\u001b[1mtrain: \u001b[0mWARNING ⚠️ /home/jupyter/work/resources/data_yolo/images/train/olen_Im_0000644.jpg: 2 duplicate labels removed\n",
      "\u001b[34m\u001b[1mtrain: \u001b[0mWARNING ⚠️ /home/jupyter/work/resources/data_yolo/images/train/olen_Im_0000649.jpg: 3 duplicate labels removed\n",
      "\u001b[34m\u001b[1mtrain: \u001b[0mWARNING ⚠️ /home/jupyter/work/resources/data_yolo/images/train/olen_Im_0000652_1.jpg: 2 duplicate labels removed\n",
      "\u001b[34m\u001b[1mtrain: \u001b[0mWARNING ⚠️ /home/jupyter/work/resources/data_yolo/images/train/olen_Im_0000653.jpg: 8 duplicate labels removed\n",
      "\u001b[34m\u001b[1mtrain: \u001b[0mWARNING ⚠️ /home/jupyter/work/resources/data_yolo/images/train/olen_Im_0000655.jpg: 6 duplicate labels removed\n",
      "\u001b[34m\u001b[1mtrain: \u001b[0mWARNING ⚠️ /home/jupyter/work/resources/data_yolo/images/train/olen_Im_0000662.jpg: 4 duplicate labels removed\n",
      "\u001b[34m\u001b[1mtrain: \u001b[0mWARNING ⚠️ /home/jupyter/work/resources/data_yolo/images/train/olen_Im_0000665_1.jpg: 5 duplicate labels removed\n",
      "\u001b[34m\u001b[1mtrain: \u001b[0mWARNING ⚠️ /home/jupyter/work/resources/data_yolo/images/train/olen_Im_0000670.jpg: 2 duplicate labels removed\n",
      "\u001b[34m\u001b[1mtrain: \u001b[0mWARNING ⚠️ /home/jupyter/work/resources/data_yolo/images/train/olen_Im_0000672.jpg: 1 duplicate labels removed\n",
      "\u001b[34m\u001b[1mtrain: \u001b[0mWARNING ⚠️ /home/jupyter/work/resources/data_yolo/images/train/olen_Im_0000676.jpg: 1 duplicate labels removed\n",
      "\u001b[34m\u001b[1mtrain: \u001b[0mWARNING ⚠️ /home/jupyter/work/resources/data_yolo/images/train/olen_Im_0000678.jpg: 1 duplicate labels removed\n",
      "\u001b[34m\u001b[1mtrain: \u001b[0mWARNING ⚠️ /home/jupyter/work/resources/data_yolo/images/train/olen_Im_0000678_1.jpg: 1 duplicate labels removed\n",
      "\u001b[34m\u001b[1mtrain: \u001b[0mWARNING ⚠️ /home/jupyter/work/resources/data_yolo/images/train/olen_Im_0000680.jpg: 3 duplicate labels removed\n",
      "\u001b[34m\u001b[1mtrain: \u001b[0mWARNING ⚠️ /home/jupyter/work/resources/data_yolo/images/train/olen_Im_0000680_1.jpg: 6 duplicate labels removed\n",
      "\u001b[34m\u001b[1mtrain: \u001b[0mWARNING ⚠️ /home/jupyter/work/resources/data_yolo/images/train/olen_Im_0000682.jpg: 1 duplicate labels removed\n",
      "\u001b[34m\u001b[1mtrain: \u001b[0mWARNING ⚠️ /home/jupyter/work/resources/data_yolo/images/train/olen_Im_0000683.jpg: 7 duplicate labels removed\n",
      "\u001b[34m\u001b[1mtrain: \u001b[0mWARNING ⚠️ /home/jupyter/work/resources/data_yolo/images/train/olen_Im_0000686.jpg: 4 duplicate labels removed\n",
      "\u001b[34m\u001b[1mtrain: \u001b[0mWARNING ⚠️ /home/jupyter/work/resources/data_yolo/images/train/olen_Im_0000686_1.jpg: 2 duplicate labels removed\n",
      "\u001b[34m\u001b[1mtrain: \u001b[0mWARNING ⚠️ /home/jupyter/work/resources/data_yolo/images/train/olen_Im_0000688.jpg: 6 duplicate labels removed\n",
      "\u001b[34m\u001b[1mtrain: \u001b[0mWARNING ⚠️ /home/jupyter/work/resources/data_yolo/images/train/olen_Im_0000688_1.jpg: 2 duplicate labels removed\n",
      "\u001b[34m\u001b[1mtrain: \u001b[0mWARNING ⚠️ /home/jupyter/work/resources/data_yolo/images/train/olen_Im_0000689.jpg: 9 duplicate labels removed\n",
      "\u001b[34m\u001b[1mtrain: \u001b[0mWARNING ⚠️ /home/jupyter/work/resources/data_yolo/images/train/olen_Im_0000692.jpg: 2 duplicate labels removed\n",
      "\u001b[34m\u001b[1mtrain: \u001b[0mWARNING ⚠️ /home/jupyter/work/resources/data_yolo/images/train/olen_Im_0000696_1.jpg: 1 duplicate labels removed\n",
      "\u001b[34m\u001b[1mtrain: \u001b[0mWARNING ⚠️ /home/jupyter/work/resources/data_yolo/images/train/olen_Im_0000696_2.jpg: 5 duplicate labels removed\n",
      "\u001b[34m\u001b[1mtrain: \u001b[0mWARNING ⚠️ /home/jupyter/work/resources/data_yolo/images/train/olen_Im_0000697.jpg: 8 duplicate labels removed\n",
      "\u001b[34m\u001b[1mtrain: \u001b[0mWARNING ⚠️ /home/jupyter/work/resources/data_yolo/images/train/olen_Im_0000704.jpg: 1 duplicate labels removed\n",
      "\u001b[34m\u001b[1mtrain: \u001b[0mWARNING ⚠️ /home/jupyter/work/resources/data_yolo/images/train/olen_Im_0000708.jpg: 1 duplicate labels removed\n",
      "\u001b[34m\u001b[1mtrain: \u001b[0mWARNING ⚠️ /home/jupyter/work/resources/data_yolo/images/train/olen_Im_0000708_1.jpg: 3 duplicate labels removed\n",
      "\u001b[34m\u001b[1mtrain: \u001b[0mWARNING ⚠️ /home/jupyter/work/resources/data_yolo/images/train/olen_Im_0000709.jpg: 4 duplicate labels removed\n",
      "\u001b[34m\u001b[1mtrain: \u001b[0mWARNING ⚠️ /home/jupyter/work/resources/data_yolo/images/train/olen_Im_0000712.jpg: 1 duplicate labels removed\n",
      "\u001b[34m\u001b[1mtrain: \u001b[0mWARNING ⚠️ /home/jupyter/work/resources/data_yolo/images/train/olen_Im_0000714.jpg: 2 duplicate labels removed\n",
      "\u001b[34m\u001b[1mtrain: \u001b[0mWARNING ⚠️ /home/jupyter/work/resources/data_yolo/images/train/olen_Im_0000717.jpg: 6 duplicate labels removed\n",
      "\u001b[34m\u001b[1mtrain: \u001b[0mWARNING ⚠️ /home/jupyter/work/resources/data_yolo/images/train/olen_Im_0000718_1.jpg: 4 duplicate labels removed\n",
      "\u001b[34m\u001b[1mtrain: \u001b[0mWARNING ⚠️ /home/jupyter/work/resources/data_yolo/images/train/olen_Im_0000719.jpg: 1 duplicate labels removed\n",
      "\u001b[34m\u001b[1mtrain: \u001b[0mWARNING ⚠️ /home/jupyter/work/resources/data_yolo/images/train/olen_Im_0000719_1.jpg: 1 duplicate labels removed\n",
      "\u001b[34m\u001b[1mtrain: \u001b[0mWARNING ⚠️ /home/jupyter/work/resources/data_yolo/images/train/olen_Im_0000721.jpg: 2 duplicate labels removed\n",
      "\u001b[34m\u001b[1mtrain: \u001b[0mWARNING ⚠️ /home/jupyter/work/resources/data_yolo/images/train/olen_Im_0000721_1.jpg: 5 duplicate labels removed\n",
      "\u001b[34m\u001b[1mtrain: \u001b[0mWARNING ⚠️ /home/jupyter/work/resources/data_yolo/images/train/olen_Im_0000725.jpg: 1 duplicate labels removed\n",
      "\u001b[34m\u001b[1mtrain: \u001b[0mWARNING ⚠️ /home/jupyter/work/resources/data_yolo/images/train/olen_Im_0000728.jpg: 1 duplicate labels removed\n",
      "\u001b[34m\u001b[1mtrain: \u001b[0mWARNING ⚠️ /home/jupyter/work/resources/data_yolo/images/train/olen_Im_0000732.jpg: 1 duplicate labels removed\n",
      "\u001b[34m\u001b[1mtrain: \u001b[0mWARNING ⚠️ /home/jupyter/work/resources/data_yolo/images/train/olen_Im_0000732_1.jpg: 7 duplicate labels removed\n",
      "\u001b[34m\u001b[1mtrain: \u001b[0mWARNING ⚠️ /home/jupyter/work/resources/data_yolo/images/train/olen_Im_0000735_1.jpg: 6 duplicate labels removed\n",
      "\u001b[34m\u001b[1mtrain: \u001b[0mWARNING ⚠️ /home/jupyter/work/resources/data_yolo/images/train/olen_Im_0000735_3.jpg: 3 duplicate labels removed\n",
      "\u001b[34m\u001b[1mtrain: \u001b[0mWARNING ⚠️ /home/jupyter/work/resources/data_yolo/images/train/olen_Im_0000736.jpg: 3 duplicate labels removed\n",
      "\u001b[34m\u001b[1mtrain: \u001b[0mWARNING ⚠️ /home/jupyter/work/resources/data_yolo/images/train/olen_Im_0000737.jpg: 6 duplicate labels removed\n",
      "\u001b[34m\u001b[1mtrain: \u001b[0mWARNING ⚠️ /home/jupyter/work/resources/data_yolo/images/train/olen_Im_0000740.jpg: 3 duplicate labels removed\n",
      "\u001b[34m\u001b[1mtrain: \u001b[0mWARNING ⚠️ /home/jupyter/work/resources/data_yolo/images/train/olen_Im_0000740_1.jpg: 1 duplicate labels removed\n",
      "\u001b[34m\u001b[1mtrain: \u001b[0mWARNING ⚠️ /home/jupyter/work/resources/data_yolo/images/train/olen_Im_0000743.jpg: 3 duplicate labels removed\n",
      "\u001b[34m\u001b[1mtrain: \u001b[0mWARNING ⚠️ /home/jupyter/work/resources/data_yolo/images/train/olen_Im_0000745.jpg: 5 duplicate labels removed\n",
      "\u001b[34m\u001b[1mtrain: \u001b[0mWARNING ⚠️ /home/jupyter/work/resources/data_yolo/images/train/olen_Im_0000750_1.jpg: 2 duplicate labels removed\n",
      "\u001b[34m\u001b[1mtrain: \u001b[0mWARNING ⚠️ /home/jupyter/work/resources/data_yolo/images/train/olen_Im_0000752.jpg: 4 duplicate labels removed\n",
      "\u001b[34m\u001b[1mtrain: \u001b[0mWARNING ⚠️ /home/jupyter/work/resources/data_yolo/images/train/olen_Im_0000753_1.jpg: 1 duplicate labels removed\n",
      "\u001b[34m\u001b[1mtrain: \u001b[0mWARNING ⚠️ /home/jupyter/work/resources/data_yolo/images/train/olen_Im_0000753_2.jpg: 3 duplicate labels removed\n",
      "\u001b[34m\u001b[1mtrain: \u001b[0mWARNING ⚠️ /home/jupyter/work/resources/data_yolo/images/train/olen_Im_0000758.jpg: 3 duplicate labels removed\n",
      "\u001b[34m\u001b[1mtrain: \u001b[0mWARNING ⚠️ /home/jupyter/work/resources/data_yolo/images/train/olen_Im_0000760.jpg: 1 duplicate labels removed\n",
      "\u001b[34m\u001b[1mtrain: \u001b[0mWARNING ⚠️ /home/jupyter/work/resources/data_yolo/images/train/olen_Im_0000761.jpg: 1 duplicate labels removed\n",
      "\u001b[34m\u001b[1mtrain: \u001b[0mWARNING ⚠️ /home/jupyter/work/resources/data_yolo/images/train/olen_Im_0000766.jpg: 4 duplicate labels removed\n",
      "\u001b[34m\u001b[1mtrain: \u001b[0mWARNING ⚠️ /home/jupyter/work/resources/data_yolo/images/train/olen_Im_0000769.jpg: 2 duplicate labels removed\n",
      "\u001b[34m\u001b[1mtrain: \u001b[0mWARNING ⚠️ /home/jupyter/work/resources/data_yolo/images/train/olen_Im_0000771.jpg: 1 duplicate labels removed\n",
      "\u001b[34m\u001b[1mtrain: \u001b[0mWARNING ⚠️ /home/jupyter/work/resources/data_yolo/images/train/olen_Im_0000775_1.jpg: 3 duplicate labels removed\n",
      "\u001b[34m\u001b[1mtrain: \u001b[0mWARNING ⚠️ /home/jupyter/work/resources/data_yolo/images/train/olen_Im_0000777.jpg: 2 duplicate labels removed\n",
      "\u001b[34m\u001b[1mtrain: \u001b[0mWARNING ⚠️ /home/jupyter/work/resources/data_yolo/images/train/olen_Im_0000779.jpg: 4 duplicate labels removed\n",
      "\u001b[34m\u001b[1mtrain: \u001b[0mWARNING ⚠️ /home/jupyter/work/resources/data_yolo/images/train/olen_Im_0000782.jpg: 2 duplicate labels removed\n",
      "\u001b[34m\u001b[1mtrain: \u001b[0mWARNING ⚠️ /home/jupyter/work/resources/data_yolo/images/train/olen_Im_0000782_1.jpg: 5 duplicate labels removed\n",
      "\u001b[34m\u001b[1mtrain: \u001b[0mWARNING ⚠️ /home/jupyter/work/resources/data_yolo/images/train/olen_Im_0000782_2.jpg: 3 duplicate labels removed\n",
      "\u001b[34m\u001b[1mtrain: \u001b[0mWARNING ⚠️ /home/jupyter/work/resources/data_yolo/images/train/olen_Im_0000783.jpg: 4 duplicate labels removed\n",
      "\u001b[34m\u001b[1mtrain: \u001b[0mWARNING ⚠️ /home/jupyter/work/resources/data_yolo/images/train/olen_Im_0000784.jpg: 3 duplicate labels removed\n",
      "\u001b[34m\u001b[1mtrain: \u001b[0mWARNING ⚠️ /home/jupyter/work/resources/data_yolo/images/train/olen_Im_0000785.jpg: 1 duplicate labels removed\n",
      "\u001b[34m\u001b[1mtrain: \u001b[0mWARNING ⚠️ /home/jupyter/work/resources/data_yolo/images/train/olen_Im_0000785_1.jpg: 9 duplicate labels removed\n",
      "\u001b[34m\u001b[1mtrain: \u001b[0mWARNING ⚠️ /home/jupyter/work/resources/data_yolo/images/train/olen_Im_0000789.jpg: 1 duplicate labels removed\n",
      "\u001b[34m\u001b[1mtrain: \u001b[0mWARNING ⚠️ /home/jupyter/work/resources/data_yolo/images/train/olen_Im_0000791.jpg: 1 duplicate labels removed\n",
      "\u001b[34m\u001b[1mtrain: \u001b[0mWARNING ⚠️ /home/jupyter/work/resources/data_yolo/images/train/olen_Im_0000791_1.jpg: 1 duplicate labels removed\n",
      "\u001b[34m\u001b[1mtrain: \u001b[0mWARNING ⚠️ /home/jupyter/work/resources/data_yolo/images/train/olen_Im_0000791_2.jpg: 2 duplicate labels removed\n",
      "\u001b[34m\u001b[1mtrain: \u001b[0mWARNING ⚠️ /home/jupyter/work/resources/data_yolo/images/train/olen_Im_0000800.jpg: 1 duplicate labels removed\n",
      "\u001b[34m\u001b[1mtrain: \u001b[0mWARNING ⚠️ /home/jupyter/work/resources/data_yolo/images/train/olen_Im_0000800_1.jpg: 3 duplicate labels removed\n",
      "\u001b[34m\u001b[1mtrain: \u001b[0mWARNING ⚠️ /home/jupyter/work/resources/data_yolo/images/train/olen_Im_0000802.jpg: 2 duplicate labels removed\n",
      "\u001b[34m\u001b[1mtrain: \u001b[0mWARNING ⚠️ /home/jupyter/work/resources/data_yolo/images/train/olen_Im_0000802_1.jpg: 4 duplicate labels removed\n",
      "\u001b[34m\u001b[1mtrain: \u001b[0mWARNING ⚠️ /home/jupyter/work/resources/data_yolo/images/train/olen_Im_0000803.jpg: 2 duplicate labels removed\n",
      "\u001b[34m\u001b[1mtrain: \u001b[0mWARNING ⚠️ /home/jupyter/work/resources/data_yolo/images/train/olen_Im_0000805.jpg: 1 duplicate labels removed\n",
      "\u001b[34m\u001b[1mtrain: \u001b[0mWARNING ⚠️ /home/jupyter/work/resources/data_yolo/images/train/olen_Im_0000806_1.jpg: 3 duplicate labels removed\n",
      "\u001b[34m\u001b[1mtrain: \u001b[0mWARNING ⚠️ /home/jupyter/work/resources/data_yolo/images/train/olen_Im_0000807.jpg: 4 duplicate labels removed\n",
      "\u001b[34m\u001b[1mtrain: \u001b[0mWARNING ⚠️ /home/jupyter/work/resources/data_yolo/images/train/olen_Im_0000807_1.jpg: 3 duplicate labels removed\n",
      "\u001b[34m\u001b[1mtrain: \u001b[0mWARNING ⚠️ /home/jupyter/work/resources/data_yolo/images/train/olen_Im_0000810_1.jpg: 3 duplicate labels removed\n",
      "\u001b[34m\u001b[1mtrain: \u001b[0mWARNING ⚠️ /home/jupyter/work/resources/data_yolo/images/train/olen_Im_0000810_2.jpg: 4 duplicate labels removed\n",
      "\u001b[34m\u001b[1mtrain: \u001b[0mWARNING ⚠️ /home/jupyter/work/resources/data_yolo/images/train/olen_Im_0000815.jpg: 8 duplicate labels removed\n",
      "\u001b[34m\u001b[1mtrain: \u001b[0mWARNING ⚠️ /home/jupyter/work/resources/data_yolo/images/train/olen_Im_0000816.jpg: 2 duplicate labels removed\n",
      "\u001b[34m\u001b[1mtrain: \u001b[0mWARNING ⚠️ /home/jupyter/work/resources/data_yolo/images/train/olen_Im_0000816_1.jpg: 1 duplicate labels removed\n",
      "\u001b[34m\u001b[1mtrain: \u001b[0mWARNING ⚠️ /home/jupyter/work/resources/data_yolo/images/train/olen_Im_0000817_1.jpg: 1 duplicate labels removed\n",
      "\u001b[34m\u001b[1mtrain: \u001b[0mWARNING ⚠️ /home/jupyter/work/resources/data_yolo/images/train/olen_Im_0000824.jpg: 2 duplicate labels removed\n",
      "\u001b[34m\u001b[1mtrain: \u001b[0mWARNING ⚠️ /home/jupyter/work/resources/data_yolo/images/train/olen_Im_0000827_1.jpg: 7 duplicate labels removed\n",
      "\u001b[34m\u001b[1mtrain: \u001b[0mWARNING ⚠️ /home/jupyter/work/resources/data_yolo/images/train/olen_Im_0000828.jpg: 5 duplicate labels removed\n",
      "\u001b[34m\u001b[1mtrain: \u001b[0mWARNING ⚠️ /home/jupyter/work/resources/data_yolo/images/train/olen_Im_0000831.jpg: 3 duplicate labels removed\n",
      "\u001b[34m\u001b[1mtrain: \u001b[0mWARNING ⚠️ /home/jupyter/work/resources/data_yolo/images/train/olen_Im_0000833.jpg: 3 duplicate labels removed\n",
      "\u001b[34m\u001b[1mtrain: \u001b[0mWARNING ⚠️ /home/jupyter/work/resources/data_yolo/images/train/olen_Im_0000838.jpg: 1 duplicate labels removed\n",
      "\u001b[34m\u001b[1mtrain: \u001b[0mWARNING ⚠️ /home/jupyter/work/resources/data_yolo/images/train/olen_Im_0000846.jpg: 2 duplicate labels removed\n",
      "\u001b[34m\u001b[1mtrain: \u001b[0mWARNING ⚠️ /home/jupyter/work/resources/data_yolo/images/train/olen_Im_0000846_1.jpg: 1 duplicate labels removed\n",
      "\u001b[34m\u001b[1mtrain: \u001b[0mWARNING ⚠️ /home/jupyter/work/resources/data_yolo/images/train/olen_Im_0000848.jpg: 3 duplicate labels removed\n",
      "\u001b[34m\u001b[1mtrain: \u001b[0mWARNING ⚠️ /home/jupyter/work/resources/data_yolo/images/train/olen_Im_0000856.jpg: 1 duplicate labels removed\n",
      "\u001b[34m\u001b[1mtrain: \u001b[0mWARNING ⚠️ /home/jupyter/work/resources/data_yolo/images/train/olen_Im_0000862.jpg: 2 duplicate labels removed\n",
      "\u001b[34m\u001b[1mtrain: \u001b[0mWARNING ⚠️ /home/jupyter/work/resources/data_yolo/images/train/olen_Im_0000864.jpg: 5 duplicate labels removed\n",
      "\u001b[34m\u001b[1mtrain: \u001b[0mWARNING ⚠️ /home/jupyter/work/resources/data_yolo/images/train/olen_Im_0000866.jpg: 1 duplicate labels removed\n",
      "\u001b[34m\u001b[1mtrain: \u001b[0mWARNING ⚠️ /home/jupyter/work/resources/data_yolo/images/train/olen_Im_0000868.jpg: 5 duplicate labels removed\n",
      "\u001b[34m\u001b[1mtrain: \u001b[0mWARNING ⚠️ /home/jupyter/work/resources/data_yolo/images/train/olen_Im_0000875.jpg: 7 duplicate labels removed\n",
      "\u001b[34m\u001b[1mtrain: \u001b[0mWARNING ⚠️ /home/jupyter/work/resources/data_yolo/images/train/olen_Im_0000876_1.jpg: 1 duplicate labels removed\n",
      "\u001b[34m\u001b[1mtrain: \u001b[0mWARNING ⚠️ /home/jupyter/work/resources/data_yolo/images/train/olen_Im_0000878.jpg: 1 duplicate labels removed\n",
      "\u001b[34m\u001b[1mtrain: \u001b[0mWARNING ⚠️ /home/jupyter/work/resources/data_yolo/images/train/olen_Im_0000886.jpg: 1 duplicate labels removed\n",
      "\u001b[34m\u001b[1mtrain: \u001b[0mWARNING ⚠️ /home/jupyter/work/resources/data_yolo/images/train/olen_Im_0000886_1.jpg: 3 duplicate labels removed\n",
      "\u001b[34m\u001b[1mtrain: \u001b[0mWARNING ⚠️ /home/jupyter/work/resources/data_yolo/images/train/olen_Im_0000886_2.jpg: 7 duplicate labels removed\n",
      "\u001b[34m\u001b[1mtrain: \u001b[0mWARNING ⚠️ /home/jupyter/work/resources/data_yolo/images/train/olen_Im_0000892_1.jpg: 2 duplicate labels removed\n",
      "\u001b[34m\u001b[1mtrain: \u001b[0mWARNING ⚠️ /home/jupyter/work/resources/data_yolo/images/train/olen_Im_0000892_2.jpg: 5 duplicate labels removed\n",
      "\u001b[34m\u001b[1mtrain: \u001b[0mWARNING ⚠️ /home/jupyter/work/resources/data_yolo/images/train/olen_Im_0000894.jpg: 4 duplicate labels removed\n",
      "\u001b[34m\u001b[1mtrain: \u001b[0mWARNING ⚠️ /home/jupyter/work/resources/data_yolo/images/train/olen_Im_0000896_1.jpg: 1 duplicate labels removed\n",
      "\u001b[34m\u001b[1mtrain: \u001b[0mWARNING ⚠️ /home/jupyter/work/resources/data_yolo/images/train/olen_Im_0000907.jpg: 2 duplicate labels removed\n",
      "\u001b[34m\u001b[1mtrain: \u001b[0mWARNING ⚠️ /home/jupyter/work/resources/data_yolo/images/train/olen_Im_0000908.jpg: 3 duplicate labels removed\n",
      "\u001b[34m\u001b[1mtrain: \u001b[0mWARNING ⚠️ /home/jupyter/work/resources/data_yolo/images/train/olen_Im_0000909.jpg: 1 duplicate labels removed\n",
      "\u001b[34m\u001b[1mtrain: \u001b[0mWARNING ⚠️ /home/jupyter/work/resources/data_yolo/images/train/olen_Im_0000909_1.jpg: 10 duplicate labels removed\n",
      "\u001b[34m\u001b[1mtrain: \u001b[0mWARNING ⚠️ /home/jupyter/work/resources/data_yolo/images/train/olen_Im_0000912.jpg: 1 duplicate labels removed\n",
      "\u001b[34m\u001b[1mtrain: \u001b[0mWARNING ⚠️ /home/jupyter/work/resources/data_yolo/images/train/olen_Im_0000912_1.jpg: 2 duplicate labels removed\n",
      "\u001b[34m\u001b[1mtrain: \u001b[0mWARNING ⚠️ /home/jupyter/work/resources/data_yolo/images/train/olen_Im_0000912_2.jpg: 8 duplicate labels removed\n",
      "\u001b[34m\u001b[1mtrain: \u001b[0mWARNING ⚠️ /home/jupyter/work/resources/data_yolo/images/train/olen_Im_0000914.jpg: 4 duplicate labels removed\n",
      "\u001b[34m\u001b[1mtrain: \u001b[0mWARNING ⚠️ /home/jupyter/work/resources/data_yolo/images/train/olen_Im_0000915.jpg: 7 duplicate labels removed\n",
      "\u001b[34m\u001b[1mtrain: \u001b[0mWARNING ⚠️ /home/jupyter/work/resources/data_yolo/images/train/olen_Im_0000918.jpg: 6 duplicate labels removed\n",
      "\u001b[34m\u001b[1mtrain: \u001b[0mWARNING ⚠️ /home/jupyter/work/resources/data_yolo/images/train/olen_Im_0000919_1.jpg: 4 duplicate labels removed\n",
      "\u001b[34m\u001b[1mtrain: \u001b[0mWARNING ⚠️ /home/jupyter/work/resources/data_yolo/images/train/olen_Im_0000922.jpg: 5 duplicate labels removed\n",
      "\u001b[34m\u001b[1mtrain: \u001b[0mWARNING ⚠️ /home/jupyter/work/resources/data_yolo/images/train/olen_Im_0000923.jpg: 3 duplicate labels removed\n",
      "\u001b[34m\u001b[1mtrain: \u001b[0mWARNING ⚠️ /home/jupyter/work/resources/data_yolo/images/train/olen_Im_0000928.jpg: 3 duplicate labels removed\n",
      "\u001b[34m\u001b[1mtrain: \u001b[0mWARNING ⚠️ /home/jupyter/work/resources/data_yolo/images/train/olen_Im_0000928_1.jpg: 4 duplicate labels removed\n",
      "\u001b[34m\u001b[1mtrain: \u001b[0mWARNING ⚠️ /home/jupyter/work/resources/data_yolo/images/train/olen_Im_0000931.jpg: 3 duplicate labels removed\n",
      "\u001b[34m\u001b[1mtrain: \u001b[0mWARNING ⚠️ /home/jupyter/work/resources/data_yolo/images/train/olen_Im_0000935.jpg: 1 duplicate labels removed\n",
      "\u001b[34m\u001b[1mtrain: \u001b[0mWARNING ⚠️ /home/jupyter/work/resources/data_yolo/images/train/olen_Im_0000937.jpg: 2 duplicate labels removed\n",
      "\u001b[34m\u001b[1mtrain: \u001b[0mWARNING ⚠️ /home/jupyter/work/resources/data_yolo/images/train/olen_Im_0000937_1.jpg: 4 duplicate labels removed\n",
      "\u001b[34m\u001b[1mtrain: \u001b[0mWARNING ⚠️ /home/jupyter/work/resources/data_yolo/images/train/olen_Im_0000943.jpg: 5 duplicate labels removed\n",
      "\u001b[34m\u001b[1mtrain: \u001b[0mWARNING ⚠️ /home/jupyter/work/resources/data_yolo/images/train/olen_Im_0000946.jpg: 3 duplicate labels removed\n",
      "\u001b[34m\u001b[1mtrain: \u001b[0mWARNING ⚠️ /home/jupyter/work/resources/data_yolo/images/train/olen_Im_0000947.jpg: 1 duplicate labels removed\n",
      "\u001b[34m\u001b[1mtrain: \u001b[0mWARNING ⚠️ /home/jupyter/work/resources/data_yolo/images/train/olen_Im_0000947_1.jpg: 3 duplicate labels removed\n",
      "\u001b[34m\u001b[1mtrain: \u001b[0mWARNING ⚠️ /home/jupyter/work/resources/data_yolo/images/train/olen_Im_0000948.jpg: 8 duplicate labels removed\n",
      "\u001b[34m\u001b[1mtrain: \u001b[0mWARNING ⚠️ /home/jupyter/work/resources/data_yolo/images/train/olen_Im_0000948_1.jpg: 3 duplicate labels removed\n",
      "\u001b[34m\u001b[1mtrain: \u001b[0mWARNING ⚠️ /home/jupyter/work/resources/data_yolo/images/train/olen_Im_0000949.jpg: 1 duplicate labels removed\n",
      "\u001b[34m\u001b[1mtrain: \u001b[0mWARNING ⚠️ /home/jupyter/work/resources/data_yolo/images/train/olen_Im_0000951.jpg: 1 duplicate labels removed\n",
      "\u001b[34m\u001b[1mtrain: \u001b[0mWARNING ⚠️ /home/jupyter/work/resources/data_yolo/images/train/olen_Im_0000954.jpg: 1 duplicate labels removed\n",
      "\u001b[34m\u001b[1mtrain: \u001b[0mWARNING ⚠️ /home/jupyter/work/resources/data_yolo/images/train/olen_Im_0000956.jpg: 4 duplicate labels removed\n",
      "\u001b[34m\u001b[1mtrain: \u001b[0mWARNING ⚠️ /home/jupyter/work/resources/data_yolo/images/train/olen_Im_0000962.jpg: 1 duplicate labels removed\n",
      "\u001b[34m\u001b[1mtrain: \u001b[0mWARNING ⚠️ /home/jupyter/work/resources/data_yolo/images/train/olen_Im_0000963.jpg: 7 duplicate labels removed\n",
      "\u001b[34m\u001b[1mtrain: \u001b[0mWARNING ⚠️ /home/jupyter/work/resources/data_yolo/images/train/olen_Im_0000968_1.jpg: 4 duplicate labels removed\n",
      "\u001b[34m\u001b[1mtrain: \u001b[0mWARNING ⚠️ /home/jupyter/work/resources/data_yolo/images/train/olen_Im_0000979_1.jpg: 4 duplicate labels removed\n",
      "\u001b[34m\u001b[1mtrain: \u001b[0mWARNING ⚠️ /home/jupyter/work/resources/data_yolo/images/train/olen_Im_0000979_2.jpg: corrupt JPEG restored and saved\n",
      "\u001b[34m\u001b[1mtrain: \u001b[0mWARNING ⚠️ /home/jupyter/work/resources/data_yolo/images/train/olen_Im_0000980.jpg: 1 duplicate labels removed\n",
      "\u001b[34m\u001b[1mtrain: \u001b[0mWARNING ⚠️ /home/jupyter/work/resources/data_yolo/images/train/olen_Im_0000981_1.jpg: 1 duplicate labels removed\n",
      "\u001b[34m\u001b[1mtrain: \u001b[0mWARNING ⚠️ /home/jupyter/work/resources/data_yolo/images/train/olen_Im_0000982.jpg: 1 duplicate labels removed\n",
      "\u001b[34m\u001b[1mtrain: \u001b[0mWARNING ⚠️ /home/jupyter/work/resources/data_yolo/images/train/olen_Im_0000985.jpg: 1 duplicate labels removed\n",
      "\u001b[34m\u001b[1mtrain: \u001b[0mWARNING ⚠️ /home/jupyter/work/resources/data_yolo/images/train/olen_Im_0000987_1.jpg: 1 duplicate labels removed\n",
      "\u001b[34m\u001b[1mtrain: \u001b[0mWARNING ⚠️ /home/jupyter/work/resources/data_yolo/images/train/olen_Im_0000988.jpg: 8 duplicate labels removed\n",
      "\u001b[34m\u001b[1mtrain: \u001b[0mWARNING ⚠️ /home/jupyter/work/resources/data_yolo/images/train/olen_Im_0000988_1.jpg: 4 duplicate labels removed\n",
      "\u001b[34m\u001b[1mtrain: \u001b[0mWARNING ⚠️ /home/jupyter/work/resources/data_yolo/images/train/olen_Im_0000993.jpg: 2 duplicate labels removed\n",
      "\u001b[34m\u001b[1mtrain: \u001b[0mWARNING ⚠️ /home/jupyter/work/resources/data_yolo/images/train/olen_Im_0001000.jpg: 1 duplicate labels removed\n",
      "\u001b[34m\u001b[1mtrain: \u001b[0mWARNING ⚠️ /home/jupyter/work/resources/data_yolo/images/train/olen_Im_0001004.jpg: 2 duplicate labels removed\n",
      "\u001b[34m\u001b[1mtrain: \u001b[0mWARNING ⚠️ /home/jupyter/work/resources/data_yolo/images/train/olen_Im_0001004_1.jpg: 4 duplicate labels removed\n",
      "\u001b[34m\u001b[1mtrain: \u001b[0mWARNING ⚠️ /home/jupyter/work/resources/data_yolo/images/train/olen_Im_0001004_2.jpg: 2 duplicate labels removed\n",
      "\u001b[34m\u001b[1mtrain: \u001b[0mWARNING ⚠️ /home/jupyter/work/resources/data_yolo/images/train/olen_Im_0001009.jpg: 2 duplicate labels removed\n",
      "\u001b[34m\u001b[1mtrain: \u001b[0mWARNING ⚠️ /home/jupyter/work/resources/data_yolo/images/train/olen_Im_0001011_1.jpg: 1 duplicate labels removed\n",
      "\u001b[34m\u001b[1mtrain: \u001b[0mWARNING ⚠️ /home/jupyter/work/resources/data_yolo/images/train/olen_Im_0001012.jpg: 5 duplicate labels removed\n",
      "\u001b[34m\u001b[1mtrain: \u001b[0mWARNING ⚠️ /home/jupyter/work/resources/data_yolo/images/train/olen_Im_0001012_1.jpg: 6 duplicate labels removed\n",
      "\u001b[34m\u001b[1mtrain: \u001b[0mWARNING ⚠️ /home/jupyter/work/resources/data_yolo/images/train/olen_Im_0001015.jpg: 8 duplicate labels removed\n",
      "\u001b[34m\u001b[1mtrain: \u001b[0mWARNING ⚠️ /home/jupyter/work/resources/data_yolo/images/train/olen_Im_0001016.jpg: 2 duplicate labels removed\n",
      "\u001b[34m\u001b[1mtrain: \u001b[0mWARNING ⚠️ /home/jupyter/work/resources/data_yolo/images/train/olen_Im_0001022.jpg: 3 duplicate labels removed\n",
      "\u001b[34m\u001b[1mtrain: \u001b[0mWARNING ⚠️ /home/jupyter/work/resources/data_yolo/images/train/olen_Im_0001024.jpg: 8 duplicate labels removed\n",
      "\u001b[34m\u001b[1mtrain: \u001b[0mWARNING ⚠️ /home/jupyter/work/resources/data_yolo/images/train/olen_Im_0001024_1.jpg: 1 duplicate labels removed\n",
      "\u001b[34m\u001b[1mtrain: \u001b[0mWARNING ⚠️ /home/jupyter/work/resources/data_yolo/images/train/olen_Im_0001030.jpg: 7 duplicate labels removed\n",
      "\u001b[34m\u001b[1mtrain: \u001b[0mWARNING ⚠️ /home/jupyter/work/resources/data_yolo/images/train/olen_Im_0001034.jpg: 6 duplicate labels removed\n",
      "\u001b[34m\u001b[1mtrain: \u001b[0mWARNING ⚠️ /home/jupyter/work/resources/data_yolo/images/train/olen_Im_0001034_1.jpg: 4 duplicate labels removed\n",
      "\u001b[34m\u001b[1mtrain: \u001b[0mWARNING ⚠️ /home/jupyter/work/resources/data_yolo/images/train/olen_Im_0001038_2.jpg: 2 duplicate labels removed\n",
      "\u001b[34m\u001b[1mtrain: \u001b[0mWARNING ⚠️ /home/jupyter/work/resources/data_yolo/images/train/olen_Im_0001040.jpg: 1 duplicate labels removed\n",
      "\u001b[34m\u001b[1mtrain: \u001b[0mWARNING ⚠️ /home/jupyter/work/resources/data_yolo/images/train/olen_Im_0001041.jpg: 2 duplicate labels removed\n",
      "\u001b[34m\u001b[1mtrain: \u001b[0mWARNING ⚠️ /home/jupyter/work/resources/data_yolo/images/train/olen_Im_0001042.jpg: 1 duplicate labels removed\n",
      "\u001b[34m\u001b[1mtrain: \u001b[0mWARNING ⚠️ /home/jupyter/work/resources/data_yolo/images/train/olen_Im_0001043.jpg: 1 duplicate labels removed\n",
      "\u001b[34m\u001b[1mtrain: \u001b[0mWARNING ⚠️ /home/jupyter/work/resources/data_yolo/images/train/olen_Im_0001047.jpg: 1 duplicate labels removed\n",
      "\u001b[34m\u001b[1mtrain: \u001b[0mWARNING ⚠️ /home/jupyter/work/resources/data_yolo/images/train/olen_Im_0001049.jpg: 3 duplicate labels removed\n",
      "\u001b[34m\u001b[1mtrain: \u001b[0mWARNING ⚠️ /home/jupyter/work/resources/data_yolo/images/train/olen_Im_0001050_1.jpg: 4 duplicate labels removed\n",
      "\u001b[34m\u001b[1mtrain: \u001b[0mWARNING ⚠️ /home/jupyter/work/resources/data_yolo/images/train/olen_Im_0001050_2.jpg: 4 duplicate labels removed\n",
      "\u001b[34m\u001b[1mtrain: \u001b[0mWARNING ⚠️ /home/jupyter/work/resources/data_yolo/images/train/olen_Im_0001051_1.jpg: 4 duplicate labels removed\n",
      "\u001b[34m\u001b[1mtrain: \u001b[0mWARNING ⚠️ /home/jupyter/work/resources/data_yolo/images/train/olen_Im_0001055.jpg: 3 duplicate labels removed\n",
      "\u001b[34m\u001b[1mtrain: \u001b[0mWARNING ⚠️ /home/jupyter/work/resources/data_yolo/images/train/olen_Im_0001056.jpg: 3 duplicate labels removed\n",
      "\u001b[34m\u001b[1mtrain: \u001b[0mWARNING ⚠️ /home/jupyter/work/resources/data_yolo/images/train/olen_Im_0001059.jpg: 5 duplicate labels removed\n",
      "\u001b[34m\u001b[1mtrain: \u001b[0mWARNING ⚠️ /home/jupyter/work/resources/data_yolo/images/train/olen_Im_0001067.jpg: 3 duplicate labels removed\n",
      "\u001b[34m\u001b[1mtrain: \u001b[0mWARNING ⚠️ /home/jupyter/work/resources/data_yolo/images/train/olen_Im_0001068.jpg: 1 duplicate labels removed\n",
      "\u001b[34m\u001b[1mtrain: \u001b[0mWARNING ⚠️ /home/jupyter/work/resources/data_yolo/images/train/olen_Im_0001073.jpg: 6 duplicate labels removed\n",
      "\u001b[34m\u001b[1mtrain: \u001b[0mWARNING ⚠️ /home/jupyter/work/resources/data_yolo/images/train/olen_Im_0001074.jpg: 1 duplicate labels removed\n",
      "\u001b[34m\u001b[1mtrain: \u001b[0mWARNING ⚠️ /home/jupyter/work/resources/data_yolo/images/train/olen_Im_0001076.jpg: 7 duplicate labels removed\n",
      "\u001b[34m\u001b[1mtrain: \u001b[0mWARNING ⚠️ /home/jupyter/work/resources/data_yolo/images/train/olen_Im_0001077.jpg: 3 duplicate labels removed\n",
      "\u001b[34m\u001b[1mtrain: \u001b[0mWARNING ⚠️ /home/jupyter/work/resources/data_yolo/images/train/olen_Im_0001079.jpg: 2 duplicate labels removed\n",
      "\u001b[34m\u001b[1mtrain: \u001b[0mWARNING ⚠️ /home/jupyter/work/resources/data_yolo/images/train/olen_Im_0001080_1.jpg: 4 duplicate labels removed\n",
      "\u001b[34m\u001b[1mtrain: \u001b[0mWARNING ⚠️ /home/jupyter/work/resources/data_yolo/images/train/olen_Im_0001082.jpg: 3 duplicate labels removed\n",
      "\u001b[34m\u001b[1mtrain: \u001b[0mWARNING ⚠️ /home/jupyter/work/resources/data_yolo/images/train/olen_Im_0001083.jpg: 1 duplicate labels removed\n",
      "\u001b[34m\u001b[1mtrain: \u001b[0mWARNING ⚠️ /home/jupyter/work/resources/data_yolo/images/train/olen_Im_0001087.jpg: 2 duplicate labels removed\n",
      "\u001b[34m\u001b[1mtrain: \u001b[0mWARNING ⚠️ /home/jupyter/work/resources/data_yolo/images/train/olen_Im_0001087_1.jpg: 5 duplicate labels removed\n",
      "\u001b[34m\u001b[1mtrain: \u001b[0mWARNING ⚠️ /home/jupyter/work/resources/data_yolo/images/train/olen_Im_0001089_1.jpg: 7 duplicate labels removed\n",
      "\u001b[34m\u001b[1mtrain: \u001b[0mWARNING ⚠️ /home/jupyter/work/resources/data_yolo/images/train/olen_Im_0001091_1.jpg: 3 duplicate labels removed\n",
      "\u001b[34m\u001b[1mtrain: \u001b[0mWARNING ⚠️ /home/jupyter/work/resources/data_yolo/images/train/olen_Im_0001092.jpg: 1 duplicate labels removed\n",
      "\u001b[34m\u001b[1mtrain: \u001b[0mWARNING ⚠️ /home/jupyter/work/resources/data_yolo/images/train/olen_Im_0001093.jpg: 3 duplicate labels removed\n",
      "\u001b[34m\u001b[1mtrain: \u001b[0mWARNING ⚠️ /home/jupyter/work/resources/data_yolo/images/train/olen_Im_0001094_1.jpg: 3 duplicate labels removed\n",
      "\u001b[34m\u001b[1mtrain: \u001b[0mWARNING ⚠️ /home/jupyter/work/resources/data_yolo/images/train/olen_Im_0001095.jpg: 2 duplicate labels removed\n",
      "\u001b[34m\u001b[1mtrain: \u001b[0mWARNING ⚠️ /home/jupyter/work/resources/data_yolo/images/train/olen_Im_0001099.jpg: 3 duplicate labels removed\n",
      "\u001b[34m\u001b[1mtrain: \u001b[0mWARNING ⚠️ /home/jupyter/work/resources/data_yolo/images/train/olen_Im_0001099_1.jpg: 3 duplicate labels removed\n",
      "\u001b[34m\u001b[1mtrain: \u001b[0mWARNING ⚠️ /home/jupyter/work/resources/data_yolo/images/train/olen_Im_0001101.jpg: 7 duplicate labels removed\n",
      "\u001b[34m\u001b[1mtrain: \u001b[0mWARNING ⚠️ /home/jupyter/work/resources/data_yolo/images/train/olen_Im_0001102.jpg: 3 duplicate labels removed\n",
      "\u001b[34m\u001b[1mtrain: \u001b[0mWARNING ⚠️ /home/jupyter/work/resources/data_yolo/images/train/olen_Im_0001104.jpg: 1 duplicate labels removed\n",
      "\u001b[34m\u001b[1mtrain: \u001b[0mWARNING ⚠️ /home/jupyter/work/resources/data_yolo/images/train/olen_Im_0001106.jpg: 6 duplicate labels removed\n",
      "\u001b[34m\u001b[1mtrain: \u001b[0mWARNING ⚠️ /home/jupyter/work/resources/data_yolo/images/train/olen_Im_0001107.jpg: 1 duplicate labels removed\n",
      "\u001b[34m\u001b[1mtrain: \u001b[0mWARNING ⚠️ /home/jupyter/work/resources/data_yolo/images/train/olen_Im_0001110.jpg: 2 duplicate labels removed\n",
      "\u001b[34m\u001b[1mtrain: \u001b[0mWARNING ⚠️ /home/jupyter/work/resources/data_yolo/images/train/olen_Im_0001113.jpg: 3 duplicate labels removed\n",
      "\u001b[34m\u001b[1mtrain: \u001b[0mWARNING ⚠️ /home/jupyter/work/resources/data_yolo/images/train/olen_Im_0001113_1.jpg: 6 duplicate labels removed\n",
      "\u001b[34m\u001b[1mtrain: \u001b[0mWARNING ⚠️ /home/jupyter/work/resources/data_yolo/images/train/olen_Im_0001118.jpg: 8 duplicate labels removed\n",
      "\u001b[34m\u001b[1mtrain: \u001b[0mWARNING ⚠️ /home/jupyter/work/resources/data_yolo/images/train/olen_Im_0001118_1.jpg: 2 duplicate labels removed\n",
      "\u001b[34m\u001b[1mtrain: \u001b[0mWARNING ⚠️ /home/jupyter/work/resources/data_yolo/images/train/olen_Im_0001119.jpg: 4 duplicate labels removed\n",
      "\u001b[34m\u001b[1mtrain: \u001b[0mWARNING ⚠️ /home/jupyter/work/resources/data_yolo/images/train/olen_Im_0001120.jpg: 7 duplicate labels removed\n",
      "\u001b[34m\u001b[1mtrain: \u001b[0mWARNING ⚠️ /home/jupyter/work/resources/data_yolo/images/train/olen_Im_0001124.jpg: 6 duplicate labels removed\n",
      "\u001b[34m\u001b[1mtrain: \u001b[0mWARNING ⚠️ /home/jupyter/work/resources/data_yolo/images/train/olen_Im_0001130.jpg: 3 duplicate labels removed\n",
      "\u001b[34m\u001b[1mtrain: \u001b[0mWARNING ⚠️ /home/jupyter/work/resources/data_yolo/images/train/olen_Im_0001130_1.jpg: 3 duplicate labels removed\n",
      "\u001b[34m\u001b[1mtrain: \u001b[0mWARNING ⚠️ /home/jupyter/work/resources/data_yolo/images/train/olen_Im_0001131.jpg: 3 duplicate labels removed\n",
      "\u001b[34m\u001b[1mtrain: \u001b[0mWARNING ⚠️ /home/jupyter/work/resources/data_yolo/images/train/olen_Im_0001136.jpg: 1 duplicate labels removed\n",
      "\u001b[34m\u001b[1mtrain: \u001b[0mWARNING ⚠️ /home/jupyter/work/resources/data_yolo/images/train/olen_Im_0001136_1.jpg: 3 duplicate labels removed\n",
      "\u001b[34m\u001b[1mtrain: \u001b[0mWARNING ⚠️ /home/jupyter/work/resources/data_yolo/images/train/olen_Im_0001139.jpg: 2 duplicate labels removed\n",
      "\u001b[34m\u001b[1mtrain: \u001b[0mWARNING ⚠️ /home/jupyter/work/resources/data_yolo/images/train/olen_Im_0001139_1.jpg: 5 duplicate labels removed\n",
      "\u001b[34m\u001b[1mtrain: \u001b[0mWARNING ⚠️ /home/jupyter/work/resources/data_yolo/images/train/olen_Im_0001140.jpg: 1 duplicate labels removed\n",
      "\u001b[34m\u001b[1mtrain: \u001b[0mWARNING ⚠️ /home/jupyter/work/resources/data_yolo/images/train/olen_Im_0001143.jpg: 10 duplicate labels removed\n",
      "\u001b[34m\u001b[1mtrain: \u001b[0mWARNING ⚠️ /home/jupyter/work/resources/data_yolo/images/train/olen_Im_0001148.jpg: 3 duplicate labels removed\n",
      "\u001b[34m\u001b[1mtrain: \u001b[0mWARNING ⚠️ /home/jupyter/work/resources/data_yolo/images/train/olen_Im_0001150_1.jpg: 2 duplicate labels removed\n",
      "\u001b[34m\u001b[1mtrain: \u001b[0mWARNING ⚠️ /home/jupyter/work/resources/data_yolo/images/train/olen_Im_0001152.jpg: 5 duplicate labels removed\n",
      "\u001b[34m\u001b[1mtrain: \u001b[0mWARNING ⚠️ /home/jupyter/work/resources/data_yolo/images/train/olen_Im_0001153.jpg: 1 duplicate labels removed\n",
      "\u001b[34m\u001b[1mtrain: \u001b[0mWARNING ⚠️ /home/jupyter/work/resources/data_yolo/images/train/olen_Im_0001153_1.jpg: 3 duplicate labels removed\n",
      "\u001b[34m\u001b[1mtrain: \u001b[0mWARNING ⚠️ /home/jupyter/work/resources/data_yolo/images/train/olen_Im_0001165.jpg: 6 duplicate labels removed\n",
      "\u001b[34m\u001b[1mtrain: \u001b[0mWARNING ⚠️ /home/jupyter/work/resources/data_yolo/images/train/olen_Im_0001167.jpg: 3 duplicate labels removed\n",
      "\u001b[34m\u001b[1mtrain: \u001b[0mWARNING ⚠️ /home/jupyter/work/resources/data_yolo/images/train/olen_Im_0001170.jpg: 3 duplicate labels removed\n",
      "\u001b[34m\u001b[1mtrain: \u001b[0mWARNING ⚠️ /home/jupyter/work/resources/data_yolo/images/train/olen_Im_0001173.jpg: 2 duplicate labels removed\n",
      "\u001b[34m\u001b[1mtrain: \u001b[0mWARNING ⚠️ /home/jupyter/work/resources/data_yolo/images/train/olen_Im_0001174.jpg: 2 duplicate labels removed\n",
      "\u001b[34m\u001b[1mtrain: \u001b[0mWARNING ⚠️ /home/jupyter/work/resources/data_yolo/images/train/olen_Im_0001178_1.jpg: 6 duplicate labels removed\n",
      "\u001b[34m\u001b[1mtrain: \u001b[0mWARNING ⚠️ /home/jupyter/work/resources/data_yolo/images/train/olen_Im_0001185.jpg: 5 duplicate labels removed\n",
      "\u001b[34m\u001b[1mtrain: \u001b[0mWARNING ⚠️ /home/jupyter/work/resources/data_yolo/images/train/olen_Im_0001189.jpg: 3 duplicate labels removed\n",
      "\u001b[34m\u001b[1mtrain: \u001b[0mWARNING ⚠️ /home/jupyter/work/resources/data_yolo/images/train/olen_Im_0001190.jpg: 2 duplicate labels removed\n",
      "\u001b[34m\u001b[1mtrain: \u001b[0mWARNING ⚠️ /home/jupyter/work/resources/data_yolo/images/train/olen_Im_0001192.jpg: 4 duplicate labels removed\n",
      "\u001b[34m\u001b[1mtrain: \u001b[0mWARNING ⚠️ /home/jupyter/work/resources/data_yolo/images/train/olen_Im_0001194_2.jpg: 1 duplicate labels removed\n",
      "\u001b[34m\u001b[1mtrain: \u001b[0mWARNING ⚠️ /home/jupyter/work/resources/data_yolo/images/train/olen_Im_0001194_3.jpg: 1 duplicate labels removed\n",
      "\u001b[34m\u001b[1mtrain: \u001b[0mWARNING ⚠️ /home/jupyter/work/resources/data_yolo/images/train/olen_Im_0001197.jpg: 4 duplicate labels removed\n",
      "\u001b[34m\u001b[1mtrain: \u001b[0mWARNING ⚠️ /home/jupyter/work/resources/data_yolo/images/train/olen_Im_0001205.jpg: 3 duplicate labels removed\n",
      "\u001b[34m\u001b[1mtrain: \u001b[0mWARNING ⚠️ /home/jupyter/work/resources/data_yolo/images/train/olen_Im_0001205_1.jpg: 7 duplicate labels removed\n",
      "\u001b[34m\u001b[1mtrain: \u001b[0mWARNING ⚠️ /home/jupyter/work/resources/data_yolo/images/train/olen_Im_0001208.jpg: 4 duplicate labels removed\n",
      "\u001b[34m\u001b[1mtrain: \u001b[0mWARNING ⚠️ /home/jupyter/work/resources/data_yolo/images/train/olen_Im_0001209.jpg: 7 duplicate labels removed\n",
      "\u001b[34m\u001b[1mtrain: \u001b[0mWARNING ⚠️ /home/jupyter/work/resources/data_yolo/images/train/olen_Im_0001210_1.jpg: 2 duplicate labels removed\n",
      "\u001b[34m\u001b[1mtrain: \u001b[0mWARNING ⚠️ /home/jupyter/work/resources/data_yolo/images/train/olen_Im_0001214.jpg: 4 duplicate labels removed\n",
      "\u001b[34m\u001b[1mtrain: \u001b[0mWARNING ⚠️ /home/jupyter/work/resources/data_yolo/images/train/olen_Im_0001214_1.jpg: 5 duplicate labels removed\n",
      "\u001b[34m\u001b[1mtrain: \u001b[0mWARNING ⚠️ /home/jupyter/work/resources/data_yolo/images/train/olen_Im_0001214_2.jpg: 5 duplicate labels removed\n",
      "\u001b[34m\u001b[1mtrain: \u001b[0mWARNING ⚠️ /home/jupyter/work/resources/data_yolo/images/train/olen_Im_0001214_3.jpg: 6 duplicate labels removed\n",
      "\u001b[34m\u001b[1mtrain: \u001b[0mWARNING ⚠️ /home/jupyter/work/resources/data_yolo/images/train/olen_Im_0001219.jpg: 2 duplicate labels removed\n",
      "\u001b[34m\u001b[1mtrain: \u001b[0mWARNING ⚠️ /home/jupyter/work/resources/data_yolo/images/train/olen_Im_0001222.jpg: 4 duplicate labels removed\n",
      "\u001b[34m\u001b[1mtrain: \u001b[0mWARNING ⚠️ /home/jupyter/work/resources/data_yolo/images/train/olen_Im_0001224_1.jpg: 2 duplicate labels removed\n",
      "\u001b[34m\u001b[1mtrain: \u001b[0mWARNING ⚠️ /home/jupyter/work/resources/data_yolo/images/train/olen_Im_0001226_1.jpg: 9 duplicate labels removed\n",
      "\u001b[34m\u001b[1mtrain: \u001b[0mWARNING ⚠️ /home/jupyter/work/resources/data_yolo/images/train/olen_Im_0001231.jpg: 4 duplicate labels removed\n",
      "\u001b[34m\u001b[1mtrain: \u001b[0mWARNING ⚠️ /home/jupyter/work/resources/data_yolo/images/train/olen_Im_0001232_1.jpg: 4 duplicate labels removed\n",
      "\u001b[34m\u001b[1mtrain: \u001b[0mWARNING ⚠️ /home/jupyter/work/resources/data_yolo/images/train/olen_Im_0001244.jpg: 1 duplicate labels removed\n",
      "\u001b[34m\u001b[1mtrain: \u001b[0mWARNING ⚠️ /home/jupyter/work/resources/data_yolo/images/train/olen_Im_0001246.jpg: 6 duplicate labels removed\n",
      "\u001b[34m\u001b[1mtrain: \u001b[0mWARNING ⚠️ /home/jupyter/work/resources/data_yolo/images/train/olen_Im_0001247.jpg: 2 duplicate labels removed\n",
      "\u001b[34m\u001b[1mtrain: \u001b[0mWARNING ⚠️ /home/jupyter/work/resources/data_yolo/images/train/olen_Im_0001254.jpg: 3 duplicate labels removed\n",
      "\u001b[34m\u001b[1mtrain: \u001b[0mWARNING ⚠️ /home/jupyter/work/resources/data_yolo/images/train/olen_Im_0001254_1.jpg: 1 duplicate labels removed\n",
      "\u001b[34m\u001b[1mtrain: \u001b[0mWARNING ⚠️ /home/jupyter/work/resources/data_yolo/images/train/olen_Im_0001260.jpg: 3 duplicate labels removed\n",
      "\u001b[34m\u001b[1mtrain: \u001b[0mWARNING ⚠️ /home/jupyter/work/resources/data_yolo/images/train/olen_Im_0001266.jpg: 2 duplicate labels removed\n",
      "\u001b[34m\u001b[1mtrain: \u001b[0mWARNING ⚠️ /home/jupyter/work/resources/data_yolo/images/train/olen_Im_0001267.jpg: 2 duplicate labels removed\n",
      "\u001b[34m\u001b[1mtrain: \u001b[0mWARNING ⚠️ /home/jupyter/work/resources/data_yolo/images/train/olen_Im_0001267_1.jpg: 4 duplicate labels removed\n",
      "\u001b[34m\u001b[1mtrain: \u001b[0mWARNING ⚠️ /home/jupyter/work/resources/data_yolo/images/train/olen_Im_0001273.jpg: 3 duplicate labels removed\n",
      "\u001b[34m\u001b[1mtrain: \u001b[0mWARNING ⚠️ /home/jupyter/work/resources/data_yolo/images/train/olen_Im_0001273_1.jpg: 4 duplicate labels removed\n",
      "\u001b[34m\u001b[1mtrain: \u001b[0mWARNING ⚠️ /home/jupyter/work/resources/data_yolo/images/train/olen_Im_0001273_2.jpg: 3 duplicate labels removed\n",
      "\u001b[34m\u001b[1mtrain: \u001b[0mWARNING ⚠️ /home/jupyter/work/resources/data_yolo/images/train/olen_Im_0001274.jpg: 7 duplicate labels removed\n",
      "\u001b[34m\u001b[1mtrain: \u001b[0mWARNING ⚠️ /home/jupyter/work/resources/data_yolo/images/train/olen_Im_0001275.jpg: 4 duplicate labels removed\n",
      "\u001b[34m\u001b[1mtrain: \u001b[0mWARNING ⚠️ /home/jupyter/work/resources/data_yolo/images/train/olen_Im_0001282_1.jpg: 5 duplicate labels removed\n",
      "\u001b[34m\u001b[1mtrain: \u001b[0mWARNING ⚠️ /home/jupyter/work/resources/data_yolo/images/train/olen_Im_0001282_2.jpg: 1 duplicate labels removed\n",
      "\u001b[34m\u001b[1mtrain: \u001b[0mWARNING ⚠️ /home/jupyter/work/resources/data_yolo/images/train/olen_Im_0001283.jpg: 1 duplicate labels removed\n",
      "\u001b[34m\u001b[1mtrain: \u001b[0mWARNING ⚠️ /home/jupyter/work/resources/data_yolo/images/train/olen_Im_0001283_1.jpg: 2 duplicate labels removed\n",
      "\u001b[34m\u001b[1mtrain: \u001b[0mWARNING ⚠️ /home/jupyter/work/resources/data_yolo/images/train/olen_Im_0001287.jpg: 1 duplicate labels removed\n",
      "\u001b[34m\u001b[1mtrain: \u001b[0mWARNING ⚠️ /home/jupyter/work/resources/data_yolo/images/train/olen_Im_0001287_1.jpg: 2 duplicate labels removed\n",
      "\u001b[34m\u001b[1mtrain: \u001b[0mWARNING ⚠️ /home/jupyter/work/resources/data_yolo/images/train/olen_Im_0001288.jpg: 3 duplicate labels removed\n",
      "\u001b[34m\u001b[1mtrain: \u001b[0mWARNING ⚠️ /home/jupyter/work/resources/data_yolo/images/train/olen_Im_0001289.jpg: 1 duplicate labels removed\n",
      "\u001b[34m\u001b[1mtrain: \u001b[0mWARNING ⚠️ /home/jupyter/work/resources/data_yolo/images/train/olen_Im_0001291.jpg: 2 duplicate labels removed\n",
      "\u001b[34m\u001b[1mtrain: \u001b[0mWARNING ⚠️ /home/jupyter/work/resources/data_yolo/images/train/olen_Im_0001292.jpg: 3 duplicate labels removed\n",
      "\u001b[34m\u001b[1mtrain: \u001b[0mWARNING ⚠️ /home/jupyter/work/resources/data_yolo/images/train/olen_Im_0001293_1.jpg: 4 duplicate labels removed\n",
      "\u001b[34m\u001b[1mtrain: \u001b[0mWARNING ⚠️ /home/jupyter/work/resources/data_yolo/images/train/olen_Im_0001295.jpg: 1 duplicate labels removed\n",
      "\u001b[34m\u001b[1mtrain: \u001b[0mWARNING ⚠️ /home/jupyter/work/resources/data_yolo/images/train/olen_Im_0001295_1.jpg: 7 duplicate labels removed\n",
      "\u001b[34m\u001b[1mtrain: \u001b[0mWARNING ⚠️ /home/jupyter/work/resources/data_yolo/images/train/olen_Im_0001297_1.jpg: 1 duplicate labels removed\n",
      "\u001b[34m\u001b[1mtrain: \u001b[0mWARNING ⚠️ /home/jupyter/work/resources/data_yolo/images/train/olen_Im_0001301_1.jpg: 3 duplicate labels removed\n",
      "\u001b[34m\u001b[1mtrain: \u001b[0mWARNING ⚠️ /home/jupyter/work/resources/data_yolo/images/train/olen_Im_0001302.jpg: 2 duplicate labels removed\n",
      "\u001b[34m\u001b[1mtrain: \u001b[0mWARNING ⚠️ /home/jupyter/work/resources/data_yolo/images/train/olen_Im_0001304.jpg: 2 duplicate labels removed\n",
      "\u001b[34m\u001b[1mtrain: \u001b[0mWARNING ⚠️ /home/jupyter/work/resources/data_yolo/images/train/olen_Im_0001306.jpg: 2 duplicate labels removed\n",
      "\u001b[34m\u001b[1mtrain: \u001b[0mWARNING ⚠️ /home/jupyter/work/resources/data_yolo/images/train/olen_Im_0001307.jpg: 1 duplicate labels removed\n",
      "\u001b[34m\u001b[1mtrain: \u001b[0mWARNING ⚠️ /home/jupyter/work/resources/data_yolo/images/train/olen_Im_0001309.jpg: 6 duplicate labels removed\n",
      "\u001b[34m\u001b[1mtrain: \u001b[0mWARNING ⚠️ /home/jupyter/work/resources/data_yolo/images/train/olen_Im_0001325.jpg: 1 duplicate labels removed\n",
      "\u001b[34m\u001b[1mtrain: \u001b[0mWARNING ⚠️ /home/jupyter/work/resources/data_yolo/images/train/olen_Im_0001330.jpg: 1 duplicate labels removed\n",
      "\u001b[34m\u001b[1mtrain: \u001b[0mWARNING ⚠️ /home/jupyter/work/resources/data_yolo/images/train/olen_Im_0001331.jpg: 5 duplicate labels removed\n",
      "\u001b[34m\u001b[1mtrain: \u001b[0mWARNING ⚠️ /home/jupyter/work/resources/data_yolo/images/train/olen_Im_0001333.jpg: 3 duplicate labels removed\n",
      "\u001b[34m\u001b[1mtrain: \u001b[0mWARNING ⚠️ /home/jupyter/work/resources/data_yolo/images/train/olen_Im_0001340.jpg: 5 duplicate labels removed\n",
      "\u001b[34m\u001b[1mtrain: \u001b[0mWARNING ⚠️ /home/jupyter/work/resources/data_yolo/images/train/olen_Im_0001341_1.jpg: 5 duplicate labels removed\n",
      "\u001b[34m\u001b[1mtrain: \u001b[0mWARNING ⚠️ /home/jupyter/work/resources/data_yolo/images/train/olen_Im_0001342.jpg: 5 duplicate labels removed\n",
      "\u001b[34m\u001b[1mtrain: \u001b[0mWARNING ⚠️ /home/jupyter/work/resources/data_yolo/images/train/olen_Im_0001345.jpg: 6 duplicate labels removed\n",
      "\u001b[34m\u001b[1mtrain: \u001b[0mWARNING ⚠️ /home/jupyter/work/resources/data_yolo/images/train/olen_Im_0001350_1.jpg: 2 duplicate labels removed\n",
      "\u001b[34m\u001b[1mtrain: \u001b[0mWARNING ⚠️ /home/jupyter/work/resources/data_yolo/images/train/olen_Im_0001358.jpg: 4 duplicate labels removed\n",
      "\u001b[34m\u001b[1mtrain: \u001b[0mWARNING ⚠️ /home/jupyter/work/resources/data_yolo/images/train/olen_Im_0001361.jpg: 4 duplicate labels removed\n",
      "\u001b[34m\u001b[1mtrain: \u001b[0mWARNING ⚠️ /home/jupyter/work/resources/data_yolo/images/train/olen_Im_0001361_1.jpg: 5 duplicate labels removed\n",
      "\u001b[34m\u001b[1mtrain: \u001b[0mWARNING ⚠️ /home/jupyter/work/resources/data_yolo/images/train/olen_Im_0001361_2.jpg: 6 duplicate labels removed\n",
      "\u001b[34m\u001b[1mtrain: \u001b[0mWARNING ⚠️ /home/jupyter/work/resources/data_yolo/images/train/olen_Im_0001362.jpg: 7 duplicate labels removed\n",
      "\u001b[34m\u001b[1mtrain: \u001b[0mWARNING ⚠️ /home/jupyter/work/resources/data_yolo/images/train/olen_Im_0001370.jpg: 4 duplicate labels removed\n",
      "\u001b[34m\u001b[1mtrain: \u001b[0mWARNING ⚠️ /home/jupyter/work/resources/data_yolo/images/train/olen_Im_0001374.jpg: 4 duplicate labels removed\n",
      "\u001b[34m\u001b[1mtrain: \u001b[0mWARNING ⚠️ /home/jupyter/work/resources/data_yolo/images/train/olen_Im_0001375.jpg: 5 duplicate labels removed\n",
      "\u001b[34m\u001b[1mtrain: \u001b[0mWARNING ⚠️ /home/jupyter/work/resources/data_yolo/images/train/olen_Im_0001376_1.jpg: 6 duplicate labels removed\n",
      "\u001b[34m\u001b[1mtrain: \u001b[0mWARNING ⚠️ /home/jupyter/work/resources/data_yolo/images/train/olen_Im_0001378.jpg: 3 duplicate labels removed\n",
      "\u001b[34m\u001b[1mtrain: \u001b[0mWARNING ⚠️ /home/jupyter/work/resources/data_yolo/images/train/olen_Im_0001378_1.jpg: 1 duplicate labels removed\n",
      "\u001b[34m\u001b[1mtrain: \u001b[0mWARNING ⚠️ /home/jupyter/work/resources/data_yolo/images/train/olen_Im_0001379.jpg: 4 duplicate labels removed\n",
      "\u001b[34m\u001b[1mtrain: \u001b[0mWARNING ⚠️ /home/jupyter/work/resources/data_yolo/images/train/olen_Im_0001379_1.jpg: 2 duplicate labels removed\n",
      "\u001b[34m\u001b[1mtrain: \u001b[0mWARNING ⚠️ /home/jupyter/work/resources/data_yolo/images/train/olen_Im_0001381.jpg: 3 duplicate labels removed\n",
      "\u001b[34m\u001b[1mtrain: \u001b[0mWARNING ⚠️ /home/jupyter/work/resources/data_yolo/images/train/olen_Im_0001387_2.jpg: 6 duplicate labels removed\n",
      "\u001b[34m\u001b[1mtrain: \u001b[0mWARNING ⚠️ /home/jupyter/work/resources/data_yolo/images/train/olen_Im_0001389.jpg: 3 duplicate labels removed\n",
      "\u001b[34m\u001b[1mtrain: \u001b[0mWARNING ⚠️ /home/jupyter/work/resources/data_yolo/images/train/olen_Im_0001391.jpg: 2 duplicate labels removed\n",
      "\u001b[34m\u001b[1mtrain: \u001b[0mWARNING ⚠️ /home/jupyter/work/resources/data_yolo/images/train/olen_Im_0001392.jpg: 2 duplicate labels removed\n",
      "\u001b[34m\u001b[1mtrain: \u001b[0mWARNING ⚠️ /home/jupyter/work/resources/data_yolo/images/train/olen_Im_0001393.jpg: 2 duplicate labels removed\n",
      "\u001b[34m\u001b[1mtrain: \u001b[0mWARNING ⚠️ /home/jupyter/work/resources/data_yolo/images/train/olen_Im_0001395.jpg: 3 duplicate labels removed\n",
      "\u001b[34m\u001b[1mtrain: \u001b[0mWARNING ⚠️ /home/jupyter/work/resources/data_yolo/images/train/olen_Im_0001400.jpg: 2 duplicate labels removed\n",
      "\u001b[34m\u001b[1mtrain: \u001b[0mWARNING ⚠️ /home/jupyter/work/resources/data_yolo/images/train/olen_Im_0001406.jpg: 1 duplicate labels removed\n",
      "\u001b[34m\u001b[1mtrain: \u001b[0mWARNING ⚠️ /home/jupyter/work/resources/data_yolo/images/train/olen_Im_0001406_1.jpg: 5 duplicate labels removed\n",
      "\u001b[34m\u001b[1mtrain: \u001b[0mWARNING ⚠️ /home/jupyter/work/resources/data_yolo/images/train/olen_Im_0001407.jpg: 1 duplicate labels removed\n",
      "\u001b[34m\u001b[1mtrain: \u001b[0mWARNING ⚠️ /home/jupyter/work/resources/data_yolo/images/train/olen_Im_0001408.jpg: 1 duplicate labels removed\n",
      "\u001b[34m\u001b[1mtrain: \u001b[0mWARNING ⚠️ /home/jupyter/work/resources/data_yolo/images/train/olen_Im_0001410.jpg: 6 duplicate labels removed\n",
      "\u001b[34m\u001b[1mtrain: \u001b[0mWARNING ⚠️ /home/jupyter/work/resources/data_yolo/images/train/olen_Im_0001413.jpg: 7 duplicate labels removed\n",
      "\u001b[34m\u001b[1mtrain: \u001b[0mWARNING ⚠️ /home/jupyter/work/resources/data_yolo/images/train/olen_Im_0001420.jpg: 1 duplicate labels removed\n",
      "\u001b[34m\u001b[1mtrain: \u001b[0mWARNING ⚠️ /home/jupyter/work/resources/data_yolo/images/train/olen_Im_0001425.jpg: 1 duplicate labels removed\n",
      "\u001b[34m\u001b[1mtrain: \u001b[0mWARNING ⚠️ /home/jupyter/work/resources/data_yolo/images/train/olen_Im_0001425_1.jpg: 3 duplicate labels removed\n",
      "\u001b[34m\u001b[1mtrain: \u001b[0mWARNING ⚠️ /home/jupyter/work/resources/data_yolo/images/train/olen_Im_0001427.jpg: 2 duplicate labels removed\n",
      "\u001b[34m\u001b[1mtrain: \u001b[0mWARNING ⚠️ /home/jupyter/work/resources/data_yolo/images/train/olen_Im_0001427_1.jpg: 3 duplicate labels removed\n",
      "\u001b[34m\u001b[1mtrain: \u001b[0mWARNING ⚠️ /home/jupyter/work/resources/data_yolo/images/train/olen_Im_0001427_2.jpg: 3 duplicate labels removed\n",
      "\u001b[34m\u001b[1mtrain: \u001b[0mWARNING ⚠️ /home/jupyter/work/resources/data_yolo/images/train/olen_Im_0001432.jpg: 1 duplicate labels removed\n",
      "\u001b[34m\u001b[1mtrain: \u001b[0mWARNING ⚠️ /home/jupyter/work/resources/data_yolo/images/train/olen_Im_0001433.jpg: 2 duplicate labels removed\n",
      "\u001b[34m\u001b[1mtrain: \u001b[0mWARNING ⚠️ /home/jupyter/work/resources/data_yolo/images/train/olen_Im_0001433_1.jpg: 7 duplicate labels removed\n",
      "\u001b[34m\u001b[1mtrain: \u001b[0mWARNING ⚠️ /home/jupyter/work/resources/data_yolo/images/train/olen_Im_0001440.jpg: 3 duplicate labels removed\n",
      "\u001b[34m\u001b[1mtrain: \u001b[0mWARNING ⚠️ /home/jupyter/work/resources/data_yolo/images/train/olen_Im_0001444_1.jpg: 2 duplicate labels removed\n",
      "\u001b[34m\u001b[1mtrain: \u001b[0mWARNING ⚠️ /home/jupyter/work/resources/data_yolo/images/train/olen_Im_0001445.jpg: 2 duplicate labels removed\n",
      "\u001b[34m\u001b[1mtrain: \u001b[0mWARNING ⚠️ /home/jupyter/work/resources/data_yolo/images/train/olen_Im_0001448.jpg: 2 duplicate labels removed\n",
      "\u001b[34m\u001b[1mtrain: \u001b[0mWARNING ⚠️ /home/jupyter/work/resources/data_yolo/images/train/olen_Im_0001448_1.jpg: 1 duplicate labels removed\n",
      "\u001b[34m\u001b[1mtrain: \u001b[0mWARNING ⚠️ /home/jupyter/work/resources/data_yolo/images/train/olen_Im_0001456.jpg: 4 duplicate labels removed\n",
      "\u001b[34m\u001b[1mtrain: \u001b[0mWARNING ⚠️ /home/jupyter/work/resources/data_yolo/images/train/olen_Im_0001460.jpg: 2 duplicate labels removed\n",
      "\u001b[34m\u001b[1mtrain: \u001b[0mWARNING ⚠️ /home/jupyter/work/resources/data_yolo/images/train/olen_Im_0001461.jpg: 3 duplicate labels removed\n",
      "\u001b[34m\u001b[1mtrain: \u001b[0mWARNING ⚠️ /home/jupyter/work/resources/data_yolo/images/train/olen_Im_0001462.jpg: 3 duplicate labels removed\n",
      "\u001b[34m\u001b[1mtrain: \u001b[0mWARNING ⚠️ /home/jupyter/work/resources/data_yolo/images/train/olen_Im_0001467.jpg: 2 duplicate labels removed\n",
      "\u001b[34m\u001b[1mtrain: \u001b[0mWARNING ⚠️ /home/jupyter/work/resources/data_yolo/images/train/olen_Im_0001471_1.jpg: 4 duplicate labels removed\n",
      "\u001b[34m\u001b[1mtrain: \u001b[0mWARNING ⚠️ /home/jupyter/work/resources/data_yolo/images/train/olen_Im_0001472_1.jpg: 4 duplicate labels removed\n",
      "\u001b[34m\u001b[1mtrain: \u001b[0mWARNING ⚠️ /home/jupyter/work/resources/data_yolo/images/train/olen_Im_0001474.jpg: 9 duplicate labels removed\n",
      "\u001b[34m\u001b[1mtrain: \u001b[0mWARNING ⚠️ /home/jupyter/work/resources/data_yolo/images/train/olen_Im_0001476.jpg: 3 duplicate labels removed\n",
      "\u001b[34m\u001b[1mtrain: \u001b[0mWARNING ⚠️ /home/jupyter/work/resources/data_yolo/images/train/olen_Im_0001476_1.jpg: 1 duplicate labels removed\n",
      "\u001b[34m\u001b[1mtrain: \u001b[0mWARNING ⚠️ /home/jupyter/work/resources/data_yolo/images/train/olen_Im_0001479.jpg: 2 duplicate labels removed\n",
      "\u001b[34m\u001b[1mtrain: \u001b[0mWARNING ⚠️ /home/jupyter/work/resources/data_yolo/images/train/olen_Im_0001488_1.jpg: 6 duplicate labels removed\n",
      "\u001b[34m\u001b[1mtrain: \u001b[0mWARNING ⚠️ /home/jupyter/work/resources/data_yolo/images/train/olen_Im_0001494.jpg: 3 duplicate labels removed\n",
      "\u001b[34m\u001b[1mtrain: \u001b[0mWARNING ⚠️ /home/jupyter/work/resources/data_yolo/images/train/olen_Im_0001496_1.jpg: 5 duplicate labels removed\n",
      "\u001b[34m\u001b[1mtrain: \u001b[0mWARNING ⚠️ /home/jupyter/work/resources/data_yolo/images/train/olen_Im_0001497.jpg: 3 duplicate labels removed\n",
      "\u001b[34m\u001b[1mtrain: \u001b[0mWARNING ⚠️ /home/jupyter/work/resources/data_yolo/images/train/olen_Im_0001499.jpg: 3 duplicate labels removed\n",
      "\u001b[34m\u001b[1mtrain: \u001b[0mWARNING ⚠️ /home/jupyter/work/resources/data_yolo/images/train/olen_Im_0001500.jpg: 5 duplicate labels removed\n",
      "\u001b[34m\u001b[1mtrain: \u001b[0mWARNING ⚠️ /home/jupyter/work/resources/data_yolo/images/train/olen_Im_0001505.jpg: 8 duplicate labels removed\n",
      "\u001b[34m\u001b[1mtrain: \u001b[0mWARNING ⚠️ /home/jupyter/work/resources/data_yolo/images/train/olen_Im_0001505_1.jpg: 3 duplicate labels removed\n",
      "\u001b[34m\u001b[1mtrain: \u001b[0mWARNING ⚠️ /home/jupyter/work/resources/data_yolo/images/train/olen_Im_0001508.jpg: 6 duplicate labels removed\n",
      "\u001b[34m\u001b[1mtrain: \u001b[0mWARNING ⚠️ /home/jupyter/work/resources/data_yolo/images/train/olen_Im_0001509.jpg: 5 duplicate labels removed\n",
      "\u001b[34m\u001b[1mtrain: \u001b[0mWARNING ⚠️ /home/jupyter/work/resources/data_yolo/images/train/olen_Im_0001511_1.jpg: 2 duplicate labels removed\n",
      "\u001b[34m\u001b[1mtrain: \u001b[0mWARNING ⚠️ /home/jupyter/work/resources/data_yolo/images/train/olen_Im_0001512.jpg: 5 duplicate labels removed\n",
      "\u001b[34m\u001b[1mtrain: \u001b[0mWARNING ⚠️ /home/jupyter/work/resources/data_yolo/images/train/olen_Im_0001515.jpg: 2 duplicate labels removed\n",
      "\u001b[34m\u001b[1mtrain: \u001b[0mWARNING ⚠️ /home/jupyter/work/resources/data_yolo/images/train/olen_Im_0001517.jpg: 1 duplicate labels removed\n",
      "\u001b[34m\u001b[1mtrain: \u001b[0mWARNING ⚠️ /home/jupyter/work/resources/data_yolo/images/train/olen_Im_0001521.jpg: 1 duplicate labels removed\n",
      "\u001b[34m\u001b[1mtrain: \u001b[0mWARNING ⚠️ /home/jupyter/work/resources/data_yolo/images/train/olen_Im_0001523.jpg: 2 duplicate labels removed\n",
      "\u001b[34m\u001b[1mtrain: \u001b[0mWARNING ⚠️ /home/jupyter/work/resources/data_yolo/images/train/olen_Im_0001525_1.jpg: 1 duplicate labels removed\n",
      "\u001b[34m\u001b[1mtrain: \u001b[0mWARNING ⚠️ /home/jupyter/work/resources/data_yolo/images/train/olen_Im_0001529.jpg: 5 duplicate labels removed\n",
      "\u001b[34m\u001b[1mtrain: \u001b[0mWARNING ⚠️ /home/jupyter/work/resources/data_yolo/images/train/olen_Im_0001529_1.jpg: 1 duplicate labels removed\n",
      "\u001b[34m\u001b[1mtrain: \u001b[0mWARNING ⚠️ /home/jupyter/work/resources/data_yolo/images/train/olen_Im_0001537.jpg: 2 duplicate labels removed\n",
      "\u001b[34m\u001b[1mtrain: \u001b[0mWARNING ⚠️ /home/jupyter/work/resources/data_yolo/images/train/olen_Im_0001540.jpg: 4 duplicate labels removed\n",
      "\u001b[34m\u001b[1mtrain: \u001b[0mWARNING ⚠️ /home/jupyter/work/resources/data_yolo/images/train/olen_Im_0001540_1.jpg: 2 duplicate labels removed\n",
      "\u001b[34m\u001b[1mtrain: \u001b[0mWARNING ⚠️ /home/jupyter/work/resources/data_yolo/images/train/olen_Im_0001541.jpg: 6 duplicate labels removed\n",
      "\u001b[34m\u001b[1mtrain: \u001b[0mWARNING ⚠️ /home/jupyter/work/resources/data_yolo/images/train/olen_Im_0001542_1.jpg: 1 duplicate labels removed\n",
      "\u001b[34m\u001b[1mtrain: \u001b[0mWARNING ⚠️ /home/jupyter/work/resources/data_yolo/images/train/olen_Im_0001548.jpg: 5 duplicate labels removed\n",
      "\u001b[34m\u001b[1mtrain: \u001b[0mWARNING ⚠️ /home/jupyter/work/resources/data_yolo/images/train/olen_Im_0001552.jpg: 8 duplicate labels removed\n",
      "\u001b[34m\u001b[1mtrain: \u001b[0mWARNING ⚠️ /home/jupyter/work/resources/data_yolo/images/train/olen_Im_0001560_1.jpg: 3 duplicate labels removed\n",
      "\u001b[34m\u001b[1mtrain: \u001b[0mWARNING ⚠️ /home/jupyter/work/resources/data_yolo/images/train/olen_Im_0001566.jpg: 3 duplicate labels removed\n",
      "\u001b[34m\u001b[1mtrain: \u001b[0mWARNING ⚠️ /home/jupyter/work/resources/data_yolo/images/train/olen_Im_0001566_1.jpg: 1 duplicate labels removed\n",
      "\u001b[34m\u001b[1mtrain: \u001b[0mWARNING ⚠️ /home/jupyter/work/resources/data_yolo/images/train/olen_Im_0001569.jpg: 4 duplicate labels removed\n",
      "\u001b[34m\u001b[1mtrain: \u001b[0mWARNING ⚠️ /home/jupyter/work/resources/data_yolo/images/train/olen_Im_0001573.jpg: 3 duplicate labels removed\n",
      "\u001b[34m\u001b[1mtrain: \u001b[0mWARNING ⚠️ /home/jupyter/work/resources/data_yolo/images/train/olen_Im_0001573_1.jpg: 3 duplicate labels removed\n",
      "\u001b[34m\u001b[1mtrain: \u001b[0mWARNING ⚠️ /home/jupyter/work/resources/data_yolo/images/train/olen_Im_0001581.jpg: 3 duplicate labels removed\n",
      "\u001b[34m\u001b[1mtrain: \u001b[0mWARNING ⚠️ /home/jupyter/work/resources/data_yolo/images/train/olen_Im_0001581_2.jpg: 4 duplicate labels removed\n",
      "\u001b[34m\u001b[1mtrain: \u001b[0mWARNING ⚠️ /home/jupyter/work/resources/data_yolo/images/train/olen_Im_0001583.jpg: 1 duplicate labels removed\n",
      "\u001b[34m\u001b[1mtrain: \u001b[0mWARNING ⚠️ /home/jupyter/work/resources/data_yolo/images/train/olen_Im_0001584.jpg: 3 duplicate labels removed\n",
      "\u001b[34m\u001b[1mtrain: \u001b[0mWARNING ⚠️ /home/jupyter/work/resources/data_yolo/images/train/olen_Im_0001588.jpg: 2 duplicate labels removed\n",
      "\u001b[34m\u001b[1mtrain: \u001b[0mWARNING ⚠️ /home/jupyter/work/resources/data_yolo/images/train/olen_Im_0001589.jpg: 2 duplicate labels removed\n",
      "\u001b[34m\u001b[1mtrain: \u001b[0mWARNING ⚠️ /home/jupyter/work/resources/data_yolo/images/train/olen_Im_0001597.jpg: 2 duplicate labels removed\n",
      "\u001b[34m\u001b[1mtrain: \u001b[0mWARNING ⚠️ /home/jupyter/work/resources/data_yolo/images/train/olen_Im_0001598.jpg: 5 duplicate labels removed\n",
      "\u001b[34m\u001b[1mtrain: \u001b[0mWARNING ⚠️ /home/jupyter/work/resources/data_yolo/images/train/olen_Im_0001600.jpg: 3 duplicate labels removed\n",
      "\u001b[34m\u001b[1mtrain: \u001b[0mWARNING ⚠️ /home/jupyter/work/resources/data_yolo/images/train/olen_Im_0001602_1.jpg: 3 duplicate labels removed\n",
      "\u001b[34m\u001b[1mtrain: \u001b[0mWARNING ⚠️ /home/jupyter/work/resources/data_yolo/images/train/olen_Im_0001602_2.jpg: 2 duplicate labels removed\n",
      "\u001b[34m\u001b[1mtrain: \u001b[0mWARNING ⚠️ /home/jupyter/work/resources/data_yolo/images/train/olen_Im_0001603.jpg: 3 duplicate labels removed\n",
      "\u001b[34m\u001b[1mtrain: \u001b[0mWARNING ⚠️ /home/jupyter/work/resources/data_yolo/images/train/olen_Im_0001604.jpg: 2 duplicate labels removed\n",
      "\u001b[34m\u001b[1mtrain: \u001b[0mWARNING ⚠️ /home/jupyter/work/resources/data_yolo/images/train/olen_Im_0001604_1.jpg: 1 duplicate labels removed\n",
      "\u001b[34m\u001b[1mtrain: \u001b[0mWARNING ⚠️ /home/jupyter/work/resources/data_yolo/images/train/olen_Im_0001608.jpg: 6 duplicate labels removed\n",
      "\u001b[34m\u001b[1mtrain: \u001b[0mWARNING ⚠️ /home/jupyter/work/resources/data_yolo/images/train/olen_Im_0001609.jpg: 7 duplicate labels removed\n",
      "\u001b[34m\u001b[1mtrain: \u001b[0mWARNING ⚠️ /home/jupyter/work/resources/data_yolo/images/train/olen_Im_0001612.jpg: 4 duplicate labels removed\n",
      "\u001b[34m\u001b[1mtrain: \u001b[0mWARNING ⚠️ /home/jupyter/work/resources/data_yolo/images/train/olen_Im_0001615.jpg: 2 duplicate labels removed\n",
      "\u001b[34m\u001b[1mtrain: \u001b[0mWARNING ⚠️ /home/jupyter/work/resources/data_yolo/images/train/olen_Im_0001618.jpg: 1 duplicate labels removed\n",
      "\u001b[34m\u001b[1mtrain: \u001b[0mWARNING ⚠️ /home/jupyter/work/resources/data_yolo/images/train/olen_Im_0001621.jpg: 4 duplicate labels removed\n",
      "\u001b[34m\u001b[1mtrain: \u001b[0mWARNING ⚠️ /home/jupyter/work/resources/data_yolo/images/train/olen_Im_0001623.jpg: 3 duplicate labels removed\n",
      "\u001b[34m\u001b[1mtrain: \u001b[0mWARNING ⚠️ /home/jupyter/work/resources/data_yolo/images/train/olen_Im_0001626_1.jpg: 7 duplicate labels removed\n",
      "\u001b[34m\u001b[1mtrain: \u001b[0mWARNING ⚠️ /home/jupyter/work/resources/data_yolo/images/train/olen_Im_0001631.jpg: 2 duplicate labels removed\n",
      "\u001b[34m\u001b[1mtrain: \u001b[0mWARNING ⚠️ /home/jupyter/work/resources/data_yolo/images/train/olen_Im_0001632_1.jpg: 5 duplicate labels removed\n",
      "\u001b[34m\u001b[1mtrain: \u001b[0mWARNING ⚠️ /home/jupyter/work/resources/data_yolo/images/train/olen_Im_0001633.jpg: 1 duplicate labels removed\n",
      "\u001b[34m\u001b[1mtrain: \u001b[0mWARNING ⚠️ /home/jupyter/work/resources/data_yolo/images/train/olen_Im_0001637.jpg: 6 duplicate labels removed\n",
      "\u001b[34m\u001b[1mtrain: \u001b[0mWARNING ⚠️ /home/jupyter/work/resources/data_yolo/images/train/olen_Im_0001642_1.jpg: 6 duplicate labels removed\n",
      "\u001b[34m\u001b[1mtrain: \u001b[0mWARNING ⚠️ /home/jupyter/work/resources/data_yolo/images/train/olen_Im_0001642_2.jpg: 9 duplicate labels removed\n",
      "\u001b[34m\u001b[1mtrain: \u001b[0mWARNING ⚠️ /home/jupyter/work/resources/data_yolo/images/train/olen_Im_0001651.jpg: 3 duplicate labels removed\n",
      "\u001b[34m\u001b[1mtrain: \u001b[0mWARNING ⚠️ /home/jupyter/work/resources/data_yolo/images/train/olen_Im_0001654.jpg: 1 duplicate labels removed\n",
      "\u001b[34m\u001b[1mtrain: \u001b[0mWARNING ⚠️ /home/jupyter/work/resources/data_yolo/images/train/olen_Im_0001655.jpg: 2 duplicate labels removed\n",
      "\u001b[34m\u001b[1mtrain: \u001b[0mWARNING ⚠️ /home/jupyter/work/resources/data_yolo/images/train/olen_Im_0001657.jpg: 3 duplicate labels removed\n",
      "\u001b[34m\u001b[1mtrain: \u001b[0mWARNING ⚠️ /home/jupyter/work/resources/data_yolo/images/train/olen_Im_0001657_1.jpg: 8 duplicate labels removed\n",
      "\u001b[34m\u001b[1mtrain: \u001b[0mWARNING ⚠️ /home/jupyter/work/resources/data_yolo/images/train/olen_Im_0001658.jpg: 2 duplicate labels removed\n",
      "\u001b[34m\u001b[1mtrain: \u001b[0mWARNING ⚠️ /home/jupyter/work/resources/data_yolo/images/train/olen_Im_0001660.jpg: 1 duplicate labels removed\n",
      "\u001b[34m\u001b[1mtrain: \u001b[0mWARNING ⚠️ /home/jupyter/work/resources/data_yolo/images/train/olen_Im_0001663.jpg: 1 duplicate labels removed\n",
      "\u001b[34m\u001b[1mtrain: \u001b[0mWARNING ⚠️ /home/jupyter/work/resources/data_yolo/images/train/olen_Im_0001665_1.jpg: 1 duplicate labels removed\n",
      "\u001b[34m\u001b[1mtrain: \u001b[0mWARNING ⚠️ /home/jupyter/work/resources/data_yolo/images/train/olen_Im_0001668.jpg: 3 duplicate labels removed\n",
      "\u001b[34m\u001b[1mtrain: \u001b[0mWARNING ⚠️ /home/jupyter/work/resources/data_yolo/images/train/olen_Im_0001675_1.jpg: 7 duplicate labels removed\n",
      "\u001b[34m\u001b[1mtrain: \u001b[0mWARNING ⚠️ /home/jupyter/work/resources/data_yolo/images/train/olen_Im_0001680.jpg: 9 duplicate labels removed\n",
      "\u001b[34m\u001b[1mtrain: \u001b[0mWARNING ⚠️ /home/jupyter/work/resources/data_yolo/images/train/olen_Im_0001681.jpg: 3 duplicate labels removed\n",
      "\u001b[34m\u001b[1mtrain: \u001b[0mWARNING ⚠️ /home/jupyter/work/resources/data_yolo/images/train/olen_Im_0001682.jpg: 5 duplicate labels removed\n",
      "\u001b[34m\u001b[1mtrain: \u001b[0mWARNING ⚠️ /home/jupyter/work/resources/data_yolo/images/train/olen_Im_0001684.jpg: 3 duplicate labels removed\n",
      "\u001b[34m\u001b[1mtrain: \u001b[0mWARNING ⚠️ /home/jupyter/work/resources/data_yolo/images/train/olen_Im_0001685.jpg: 2 duplicate labels removed\n",
      "\u001b[34m\u001b[1mtrain: \u001b[0mWARNING ⚠️ /home/jupyter/work/resources/data_yolo/images/train/olen_Im_0001687.jpg: 2 duplicate labels removed\n",
      "\u001b[34m\u001b[1mtrain: \u001b[0mWARNING ⚠️ /home/jupyter/work/resources/data_yolo/images/train/olen_Im_0001687_1.jpg: 4 duplicate labels removed\n",
      "\u001b[34m\u001b[1mtrain: \u001b[0mWARNING ⚠️ /home/jupyter/work/resources/data_yolo/images/train/olen_Im_0001688.jpg: 2 duplicate labels removed\n",
      "\u001b[34m\u001b[1mtrain: \u001b[0mWARNING ⚠️ /home/jupyter/work/resources/data_yolo/images/train/olen_Im_0001693.jpg: 1 duplicate labels removed\n",
      "\u001b[34m\u001b[1mtrain: \u001b[0mWARNING ⚠️ /home/jupyter/work/resources/data_yolo/images/train/olen_Im_0001694.jpg: 2 duplicate labels removed\n",
      "\u001b[34m\u001b[1mtrain: \u001b[0mWARNING ⚠️ /home/jupyter/work/resources/data_yolo/images/train/olen_Im_0001694_1.jpg: 2 duplicate labels removed\n",
      "\u001b[34m\u001b[1mtrain: \u001b[0mWARNING ⚠️ /home/jupyter/work/resources/data_yolo/images/train/olen_Im_0001700.jpg: 9 duplicate labels removed\n",
      "\u001b[34m\u001b[1mtrain: \u001b[0mWARNING ⚠️ /home/jupyter/work/resources/data_yolo/images/train/olen_Im_0001701.jpg: 2 duplicate labels removed\n",
      "\u001b[34m\u001b[1mtrain: \u001b[0mWARNING ⚠️ /home/jupyter/work/resources/data_yolo/images/train/olen_Im_0001704.jpg: 1 duplicate labels removed\n",
      "\u001b[34m\u001b[1mtrain: \u001b[0mWARNING ⚠️ /home/jupyter/work/resources/data_yolo/images/train/olen_Im_0001712.jpg: 1 duplicate labels removed\n",
      "\u001b[34m\u001b[1mtrain: \u001b[0mWARNING ⚠️ /home/jupyter/work/resources/data_yolo/images/train/olen_Im_0001717.jpg: 6 duplicate labels removed\n",
      "\u001b[34m\u001b[1mtrain: \u001b[0mWARNING ⚠️ /home/jupyter/work/resources/data_yolo/images/train/olen_Im_0001719.jpg: 4 duplicate labels removed\n",
      "\u001b[34m\u001b[1mtrain: \u001b[0mWARNING ⚠️ /home/jupyter/work/resources/data_yolo/images/train/olen_Im_0001724.jpg: 4 duplicate labels removed\n",
      "\u001b[34m\u001b[1mtrain: \u001b[0mWARNING ⚠️ /home/jupyter/work/resources/data_yolo/images/train/olen_Im_0001725.jpg: 2 duplicate labels removed\n",
      "\u001b[34m\u001b[1mtrain: \u001b[0mWARNING ⚠️ /home/jupyter/work/resources/data_yolo/images/train/olen_Im_0001727.jpg: 1 duplicate labels removed\n",
      "\u001b[34m\u001b[1mtrain: \u001b[0mWARNING ⚠️ /home/jupyter/work/resources/data_yolo/images/train/olen_Im_0001727_2.jpg: 1 duplicate labels removed\n",
      "\u001b[34m\u001b[1mtrain: \u001b[0mWARNING ⚠️ /home/jupyter/work/resources/data_yolo/images/train/olen_Im_0001730.jpg: 2 duplicate labels removed\n",
      "\u001b[34m\u001b[1mtrain: \u001b[0mWARNING ⚠️ /home/jupyter/work/resources/data_yolo/images/train/olen_Im_0001733.jpg: 4 duplicate labels removed\n",
      "\u001b[34m\u001b[1mtrain: \u001b[0mWARNING ⚠️ /home/jupyter/work/resources/data_yolo/images/train/olen_Im_0001733_1.jpg: 3 duplicate labels removed\n",
      "\u001b[34m\u001b[1mtrain: \u001b[0mWARNING ⚠️ /home/jupyter/work/resources/data_yolo/images/train/olen_Im_0001738.jpg: 3 duplicate labels removed\n",
      "\u001b[34m\u001b[1mtrain: \u001b[0mWARNING ⚠️ /home/jupyter/work/resources/data_yolo/images/train/olen_Im_0001739.jpg: 1 duplicate labels removed\n",
      "\u001b[34m\u001b[1mtrain: \u001b[0mWARNING ⚠️ /home/jupyter/work/resources/data_yolo/images/train/olen_Im_0001743_1.jpg: 3 duplicate labels removed\n",
      "\u001b[34m\u001b[1mtrain: \u001b[0mWARNING ⚠️ /home/jupyter/work/resources/data_yolo/images/train/olen_Im_0001746_1.jpg: 3 duplicate labels removed\n",
      "\u001b[34m\u001b[1mtrain: \u001b[0mWARNING ⚠️ /home/jupyter/work/resources/data_yolo/images/train/olen_Im_0001747.jpg: 2 duplicate labels removed\n",
      "\u001b[34m\u001b[1mtrain: \u001b[0mWARNING ⚠️ /home/jupyter/work/resources/data_yolo/images/train/olen_Im_0001749.jpg: 6 duplicate labels removed\n",
      "\u001b[34m\u001b[1mtrain: \u001b[0mWARNING ⚠️ /home/jupyter/work/resources/data_yolo/images/train/olen_Im_0001750.jpg: 1 duplicate labels removed\n",
      "\u001b[34m\u001b[1mtrain: \u001b[0mWARNING ⚠️ /home/jupyter/work/resources/data_yolo/images/train/olen_Im_0001751.jpg: 2 duplicate labels removed\n",
      "\u001b[34m\u001b[1mtrain: \u001b[0mWARNING ⚠️ /home/jupyter/work/resources/data_yolo/images/train/olen_Im_0001752.jpg: 1 duplicate labels removed\n",
      "\u001b[34m\u001b[1mtrain: \u001b[0mWARNING ⚠️ /home/jupyter/work/resources/data_yolo/images/train/olen_Im_0001757.jpg: 4 duplicate labels removed\n",
      "\u001b[34m\u001b[1mtrain: \u001b[0mWARNING ⚠️ /home/jupyter/work/resources/data_yolo/images/train/olen_Im_0001760_1.jpg: 6 duplicate labels removed\n",
      "\u001b[34m\u001b[1mtrain: \u001b[0mWARNING ⚠️ /home/jupyter/work/resources/data_yolo/images/train/olen_Im_0001778_1.jpg: 2 duplicate labels removed\n",
      "\u001b[34m\u001b[1mtrain: \u001b[0mWARNING ⚠️ /home/jupyter/work/resources/data_yolo/images/train/olen_Im_0001778_2.jpg: 2 duplicate labels removed\n",
      "\u001b[34m\u001b[1mtrain: \u001b[0mWARNING ⚠️ /home/jupyter/work/resources/data_yolo/images/train/olen_Im_0001779.jpg: 2 duplicate labels removed\n",
      "\u001b[34m\u001b[1mtrain: \u001b[0mWARNING ⚠️ /home/jupyter/work/resources/data_yolo/images/train/olen_Im_0001780.jpg: 3 duplicate labels removed\n",
      "\u001b[34m\u001b[1mtrain: \u001b[0mWARNING ⚠️ /home/jupyter/work/resources/data_yolo/images/train/olen_Im_0001781.jpg: 5 duplicate labels removed\n",
      "\u001b[34m\u001b[1mtrain: \u001b[0mWARNING ⚠️ /home/jupyter/work/resources/data_yolo/images/train/olen_Im_0001783.jpg: 4 duplicate labels removed\n",
      "\u001b[34m\u001b[1mtrain: \u001b[0mWARNING ⚠️ /home/jupyter/work/resources/data_yolo/images/train/olen_Im_0001785.jpg: 5 duplicate labels removed\n",
      "\u001b[34m\u001b[1mtrain: \u001b[0mWARNING ⚠️ /home/jupyter/work/resources/data_yolo/images/train/olen_Im_0001787.jpg: 2 duplicate labels removed\n",
      "\u001b[34m\u001b[1mtrain: \u001b[0mWARNING ⚠️ /home/jupyter/work/resources/data_yolo/images/train/olen_Im_0001787_1.jpg: 4 duplicate labels removed\n",
      "\u001b[34m\u001b[1mtrain: \u001b[0mWARNING ⚠️ /home/jupyter/work/resources/data_yolo/images/train/olen_Im_0001788.jpg: 2 duplicate labels removed\n",
      "\u001b[34m\u001b[1mtrain: \u001b[0mWARNING ⚠️ /home/jupyter/work/resources/data_yolo/images/train/olen_Im_0001790.jpg: 4 duplicate labels removed\n",
      "\u001b[34m\u001b[1mtrain: \u001b[0mWARNING ⚠️ /home/jupyter/work/resources/data_yolo/images/train/olen_Im_0001791_1.jpg: 5 duplicate labels removed\n",
      "\u001b[34m\u001b[1mtrain: \u001b[0mWARNING ⚠️ /home/jupyter/work/resources/data_yolo/images/train/olen_Im_0001791_2.jpg: 3 duplicate labels removed\n",
      "\u001b[34m\u001b[1mtrain: \u001b[0mWARNING ⚠️ /home/jupyter/work/resources/data_yolo/images/train/olen_Im_0001796.jpg: 1 duplicate labels removed\n",
      "\u001b[34m\u001b[1mtrain: \u001b[0mWARNING ⚠️ /home/jupyter/work/resources/data_yolo/images/train/olen_Im_0001799.jpg: 2 duplicate labels removed\n",
      "\u001b[34m\u001b[1mtrain: \u001b[0mWARNING ⚠️ /home/jupyter/work/resources/data_yolo/images/train/olen_Im_0001804.jpg: 6 duplicate labels removed\n",
      "\u001b[34m\u001b[1mtrain: \u001b[0mWARNING ⚠️ /home/jupyter/work/resources/data_yolo/images/train/olen_Im_0001806.jpg: 4 duplicate labels removed\n",
      "\u001b[34m\u001b[1mtrain: \u001b[0mWARNING ⚠️ /home/jupyter/work/resources/data_yolo/images/train/olen_Im_0001808.jpg: 3 duplicate labels removed\n",
      "\u001b[34m\u001b[1mtrain: \u001b[0mWARNING ⚠️ /home/jupyter/work/resources/data_yolo/images/train/olen_Im_0001810.jpg: 2 duplicate labels removed\n",
      "\u001b[34m\u001b[1mtrain: \u001b[0mWARNING ⚠️ /home/jupyter/work/resources/data_yolo/images/train/olen_Im_0001811.jpg: 3 duplicate labels removed\n",
      "\u001b[34m\u001b[1mtrain: \u001b[0mWARNING ⚠️ /home/jupyter/work/resources/data_yolo/images/train/olen_Im_0001811_1.jpg: 6 duplicate labels removed\n",
      "\u001b[34m\u001b[1mtrain: \u001b[0mWARNING ⚠️ /home/jupyter/work/resources/data_yolo/images/train/olen_Im_0001814_1.jpg: 2 duplicate labels removed\n",
      "\u001b[34m\u001b[1mtrain: \u001b[0mWARNING ⚠️ /home/jupyter/work/resources/data_yolo/images/train/olen_Im_0001815.jpg: 2 duplicate labels removed\n",
      "\u001b[34m\u001b[1mtrain: \u001b[0mWARNING ⚠️ /home/jupyter/work/resources/data_yolo/images/train/olen_Im_0001822.jpg: 2 duplicate labels removed\n",
      "\u001b[34m\u001b[1mtrain: \u001b[0mWARNING ⚠️ /home/jupyter/work/resources/data_yolo/images/train/olen_Im_0001825_1.jpg: 5 duplicate labels removed\n",
      "\u001b[34m\u001b[1mtrain: \u001b[0mWARNING ⚠️ /home/jupyter/work/resources/data_yolo/images/train/olen_Im_0001829.jpg: 3 duplicate labels removed\n",
      "\u001b[34m\u001b[1mtrain: \u001b[0mWARNING ⚠️ /home/jupyter/work/resources/data_yolo/images/train/olen_Im_0001835_1.jpg: 2 duplicate labels removed\n",
      "\u001b[34m\u001b[1mtrain: \u001b[0mWARNING ⚠️ /home/jupyter/work/resources/data_yolo/images/train/olen_Im_0001839.jpg: 3 duplicate labels removed\n",
      "\u001b[34m\u001b[1mtrain: \u001b[0mWARNING ⚠️ /home/jupyter/work/resources/data_yolo/images/train/olen_Im_0001841.jpg: 2 duplicate labels removed\n",
      "\u001b[34m\u001b[1mtrain: \u001b[0mWARNING ⚠️ /home/jupyter/work/resources/data_yolo/images/train/olen_Im_0001842.jpg: 2 duplicate labels removed\n",
      "\u001b[34m\u001b[1mtrain: \u001b[0mWARNING ⚠️ /home/jupyter/work/resources/data_yolo/images/train/olen_Im_0001845_2.jpg: 6 duplicate labels removed\n",
      "\u001b[34m\u001b[1mtrain: \u001b[0mWARNING ⚠️ /home/jupyter/work/resources/data_yolo/images/train/olen_Im_0001847.jpg: 3 duplicate labels removed\n",
      "\u001b[34m\u001b[1mtrain: \u001b[0mWARNING ⚠️ /home/jupyter/work/resources/data_yolo/images/train/olen_Im_0001849_1.jpg: 1 duplicate labels removed\n",
      "\u001b[34m\u001b[1mtrain: \u001b[0mWARNING ⚠️ /home/jupyter/work/resources/data_yolo/images/train/olen_Im_0001851.jpg: 1 duplicate labels removed\n",
      "\u001b[34m\u001b[1mtrain: \u001b[0mWARNING ⚠️ /home/jupyter/work/resources/data_yolo/images/train/olen_Im_0001854.jpg: 3 duplicate labels removed\n",
      "\u001b[34m\u001b[1mtrain: \u001b[0mWARNING ⚠️ /home/jupyter/work/resources/data_yolo/images/train/olen_Im_0001854_1.jpg: 3 duplicate labels removed\n",
      "\u001b[34m\u001b[1mtrain: \u001b[0mWARNING ⚠️ /home/jupyter/work/resources/data_yolo/images/train/olen_Im_0001855.jpg: 3 duplicate labels removed\n",
      "\u001b[34m\u001b[1mtrain: \u001b[0mWARNING ⚠️ /home/jupyter/work/resources/data_yolo/images/train/olen_Im_0001863.jpg: 10 duplicate labels removed\n",
      "\u001b[34m\u001b[1mtrain: \u001b[0mWARNING ⚠️ /home/jupyter/work/resources/data_yolo/images/train/olen_Im_0001869_1.jpg: 6 duplicate labels removed\n",
      "\u001b[34m\u001b[1mtrain: \u001b[0mWARNING ⚠️ /home/jupyter/work/resources/data_yolo/images/train/olen_Im_0001872.jpg: 3 duplicate labels removed\n",
      "\u001b[34m\u001b[1mtrain: \u001b[0mWARNING ⚠️ /home/jupyter/work/resources/data_yolo/images/train/olen_Im_0001873.jpg: 6 duplicate labels removed\n",
      "\u001b[34m\u001b[1mtrain: \u001b[0mWARNING ⚠️ /home/jupyter/work/resources/data_yolo/images/train/olen_Im_0001874.jpg: 3 duplicate labels removed\n",
      "\u001b[34m\u001b[1mtrain: \u001b[0mWARNING ⚠️ /home/jupyter/work/resources/data_yolo/images/train/olen_Im_0001878.jpg: 1 duplicate labels removed\n",
      "\u001b[34m\u001b[1mtrain: \u001b[0mWARNING ⚠️ /home/jupyter/work/resources/data_yolo/images/train/olen_Im_0001878_1.jpg: 5 duplicate labels removed\n",
      "\u001b[34m\u001b[1mtrain: \u001b[0mWARNING ⚠️ /home/jupyter/work/resources/data_yolo/images/train/olen_Im_0001880.jpg: 7 duplicate labels removed\n",
      "\u001b[34m\u001b[1mtrain: \u001b[0mWARNING ⚠️ /home/jupyter/work/resources/data_yolo/images/train/olen_Im_0001880_1.jpg: 1 duplicate labels removed\n",
      "\u001b[34m\u001b[1mtrain: \u001b[0mWARNING ⚠️ /home/jupyter/work/resources/data_yolo/images/train/olen_Im_0001882.jpg: 2 duplicate labels removed\n",
      "\u001b[34m\u001b[1mtrain: \u001b[0mWARNING ⚠️ /home/jupyter/work/resources/data_yolo/images/train/olen_Im_0001901.jpg: 4 duplicate labels removed\n",
      "\u001b[34m\u001b[1mtrain: \u001b[0mWARNING ⚠️ /home/jupyter/work/resources/data_yolo/images/train/olen_Im_0001902.jpg: 3 duplicate labels removed\n",
      "\u001b[34m\u001b[1mtrain: \u001b[0mWARNING ⚠️ /home/jupyter/work/resources/data_yolo/images/train/olen_Im_0001903.jpg: 8 duplicate labels removed\n",
      "\u001b[34m\u001b[1mtrain: \u001b[0mWARNING ⚠️ /home/jupyter/work/resources/data_yolo/images/train/olen_Im_0001905.jpg: 2 duplicate labels removed\n",
      "\u001b[34m\u001b[1mtrain: \u001b[0mWARNING ⚠️ /home/jupyter/work/resources/data_yolo/images/train/olen_Im_0001910.jpg: 1 duplicate labels removed\n",
      "\u001b[34m\u001b[1mtrain: \u001b[0mWARNING ⚠️ /home/jupyter/work/resources/data_yolo/images/train/olen_Im_0001912_1.jpg: 2 duplicate labels removed\n",
      "\u001b[34m\u001b[1mtrain: \u001b[0mWARNING ⚠️ /home/jupyter/work/resources/data_yolo/images/train/olen_Im_0001912_2.jpg: 3 duplicate labels removed\n",
      "\u001b[34m\u001b[1mtrain: \u001b[0mWARNING ⚠️ /home/jupyter/work/resources/data_yolo/images/train/olen_Im_0001912_3.jpg: 2 duplicate labels removed\n",
      "\u001b[34m\u001b[1mtrain: \u001b[0mWARNING ⚠️ /home/jupyter/work/resources/data_yolo/images/train/olen_Im_0001913.jpg: 2 duplicate labels removed\n",
      "\u001b[34m\u001b[1mtrain: \u001b[0mWARNING ⚠️ /home/jupyter/work/resources/data_yolo/images/train/olen_Im_0001915.jpg: 3 duplicate labels removed\n",
      "\u001b[34m\u001b[1mtrain: \u001b[0mWARNING ⚠️ /home/jupyter/work/resources/data_yolo/images/train/olen_Im_0001916.jpg: 3 duplicate labels removed\n",
      "\u001b[34m\u001b[1mtrain: \u001b[0mWARNING ⚠️ /home/jupyter/work/resources/data_yolo/images/train/olen_Im_0001918_1.jpg: 2 duplicate labels removed\n",
      "\u001b[34m\u001b[1mtrain: \u001b[0mWARNING ⚠️ /home/jupyter/work/resources/data_yolo/images/train/olen_Im_0001926.jpg: 4 duplicate labels removed\n",
      "\u001b[34m\u001b[1mtrain: \u001b[0mWARNING ⚠️ /home/jupyter/work/resources/data_yolo/images/train/olen_Im_0001929.jpg: 2 duplicate labels removed\n",
      "\u001b[34m\u001b[1mtrain: \u001b[0mWARNING ⚠️ /home/jupyter/work/resources/data_yolo/images/train/olen_Im_0001929_1.jpg: 5 duplicate labels removed\n",
      "\u001b[34m\u001b[1mtrain: \u001b[0mWARNING ⚠️ /home/jupyter/work/resources/data_yolo/images/train/olen_Im_0001932.jpg: 2 duplicate labels removed\n",
      "\u001b[34m\u001b[1mtrain: \u001b[0mWARNING ⚠️ /home/jupyter/work/resources/data_yolo/images/train/olen_Im_0001937.jpg: 1 duplicate labels removed\n",
      "\u001b[34m\u001b[1mtrain: \u001b[0mWARNING ⚠️ /home/jupyter/work/resources/data_yolo/images/train/olen_Im_0001940.jpg: 3 duplicate labels removed\n",
      "\u001b[34m\u001b[1mtrain: \u001b[0mWARNING ⚠️ /home/jupyter/work/resources/data_yolo/images/train/olen_Im_0001940_1.jpg: 3 duplicate labels removed\n",
      "\u001b[34m\u001b[1mtrain: \u001b[0mWARNING ⚠️ /home/jupyter/work/resources/data_yolo/images/train/olen_Im_0001941_1.jpg: 5 duplicate labels removed\n",
      "\u001b[34m\u001b[1mtrain: \u001b[0mWARNING ⚠️ /home/jupyter/work/resources/data_yolo/images/train/olen_Im_0001942.jpg: 5 duplicate labels removed\n",
      "\u001b[34m\u001b[1mtrain: \u001b[0mWARNING ⚠️ /home/jupyter/work/resources/data_yolo/images/train/olen_Im_0001943_1.jpg: 5 duplicate labels removed\n",
      "\u001b[34m\u001b[1mtrain: \u001b[0mWARNING ⚠️ /home/jupyter/work/resources/data_yolo/images/train/olen_Im_0001943_2.jpg: 2 duplicate labels removed\n",
      "\u001b[34m\u001b[1mtrain: \u001b[0mWARNING ⚠️ /home/jupyter/work/resources/data_yolo/images/train/olen_Im_0001949.jpg: 2 duplicate labels removed\n",
      "\u001b[34m\u001b[1mtrain: \u001b[0mWARNING ⚠️ /home/jupyter/work/resources/data_yolo/images/train/olen_Im_0001949_1.jpg: 9 duplicate labels removed\n",
      "\u001b[34m\u001b[1mtrain: \u001b[0mWARNING ⚠️ /home/jupyter/work/resources/data_yolo/images/train/olen_Im_0001950.jpg: 7 duplicate labels removed\n",
      "\u001b[34m\u001b[1mtrain: \u001b[0mWARNING ⚠️ /home/jupyter/work/resources/data_yolo/images/train/olen_Im_0001952.jpg: 1 duplicate labels removed\n",
      "\u001b[34m\u001b[1mtrain: \u001b[0mWARNING ⚠️ /home/jupyter/work/resources/data_yolo/images/train/olen_Im_0001955.jpg: 9 duplicate labels removed\n",
      "\u001b[34m\u001b[1mtrain: \u001b[0mWARNING ⚠️ /home/jupyter/work/resources/data_yolo/images/train/olen_Im_0001957.jpg: 1 duplicate labels removed\n",
      "\u001b[34m\u001b[1mtrain: \u001b[0mWARNING ⚠️ /home/jupyter/work/resources/data_yolo/images/train/olen_Im_0001957_1.jpg: 5 duplicate labels removed\n",
      "\u001b[34m\u001b[1mtrain: \u001b[0mWARNING ⚠️ /home/jupyter/work/resources/data_yolo/images/train/olen_Im_0001960.jpg: 2 duplicate labels removed\n",
      "\u001b[34m\u001b[1mtrain: \u001b[0mWARNING ⚠️ /home/jupyter/work/resources/data_yolo/images/train/olen_Im_0001961.jpg: 2 duplicate labels removed\n",
      "\u001b[34m\u001b[1mtrain: \u001b[0mWARNING ⚠️ /home/jupyter/work/resources/data_yolo/images/train/olen_Im_0001961_1.jpg: 4 duplicate labels removed\n",
      "\u001b[34m\u001b[1mtrain: \u001b[0mWARNING ⚠️ /home/jupyter/work/resources/data_yolo/images/train/olen_Im_0001962.jpg: 4 duplicate labels removed\n",
      "\u001b[34m\u001b[1mtrain: \u001b[0mWARNING ⚠️ /home/jupyter/work/resources/data_yolo/images/train/olen_Im_0001963_1.jpg: 3 duplicate labels removed\n",
      "\u001b[34m\u001b[1mtrain: \u001b[0mWARNING ⚠️ /home/jupyter/work/resources/data_yolo/images/train/olen_Im_0001967.jpg: 4 duplicate labels removed\n",
      "\u001b[34m\u001b[1mtrain: \u001b[0mWARNING ⚠️ /home/jupyter/work/resources/data_yolo/images/train/olen_Im_0001968.jpg: 2 duplicate labels removed\n",
      "\u001b[34m\u001b[1mtrain: \u001b[0mWARNING ⚠️ /home/jupyter/work/resources/data_yolo/images/train/olen_Im_0001969.jpg: 5 duplicate labels removed\n",
      "\u001b[34m\u001b[1mtrain: \u001b[0mWARNING ⚠️ /home/jupyter/work/resources/data_yolo/images/train/olen_Im_0001970_1.jpg: 9 duplicate labels removed\n",
      "\u001b[34m\u001b[1mtrain: \u001b[0mWARNING ⚠️ /home/jupyter/work/resources/data_yolo/images/train/olen_Im_0001971.jpg: 2 duplicate labels removed\n",
      "\u001b[34m\u001b[1mtrain: \u001b[0mWARNING ⚠️ /home/jupyter/work/resources/data_yolo/images/train/olen_Im_0001971_1.jpg: 4 duplicate labels removed\n",
      "\u001b[34m\u001b[1mtrain: \u001b[0mWARNING ⚠️ /home/jupyter/work/resources/data_yolo/images/train/olen_Im_0001971_2.jpg: 7 duplicate labels removed\n",
      "\u001b[34m\u001b[1mtrain: \u001b[0mWARNING ⚠️ /home/jupyter/work/resources/data_yolo/images/train/olen_Im_0001978.jpg: 3 duplicate labels removed\n",
      "\u001b[34m\u001b[1mtrain: \u001b[0mWARNING ⚠️ /home/jupyter/work/resources/data_yolo/images/train/olen_Im_0001980.jpg: 3 duplicate labels removed\n",
      "\u001b[34m\u001b[1mtrain: \u001b[0mWARNING ⚠️ /home/jupyter/work/resources/data_yolo/images/train/olen_Im_0001981.jpg: 5 duplicate labels removed\n",
      "\u001b[34m\u001b[1mtrain: \u001b[0mWARNING ⚠️ /home/jupyter/work/resources/data_yolo/images/train/olen_Im_0001982.jpg: 1 duplicate labels removed\n",
      "\u001b[34m\u001b[1mtrain: \u001b[0mWARNING ⚠️ /home/jupyter/work/resources/data_yolo/images/train/olen_Im_0001988.jpg: 8 duplicate labels removed\n",
      "\u001b[34m\u001b[1mtrain: \u001b[0mWARNING ⚠️ /home/jupyter/work/resources/data_yolo/images/train/olen_Im_0001989.jpg: 4 duplicate labels removed\n",
      "\u001b[34m\u001b[1mtrain: \u001b[0mWARNING ⚠️ /home/jupyter/work/resources/data_yolo/images/train/olen_Im_0001990.jpg: 2 duplicate labels removed\n",
      "\u001b[34m\u001b[1mtrain: \u001b[0mWARNING ⚠️ /home/jupyter/work/resources/data_yolo/images/train/olen_Im_0001991.jpg: 1 duplicate labels removed\n",
      "\u001b[34m\u001b[1mtrain: \u001b[0mWARNING ⚠️ /home/jupyter/work/resources/data_yolo/images/train/olen_Im_0001994.jpg: 6 duplicate labels removed\n",
      "\u001b[34m\u001b[1mtrain: \u001b[0mWARNING ⚠️ /home/jupyter/work/resources/data_yolo/images/train/olen_Im_0001995.jpg: 4 duplicate labels removed\n",
      "\u001b[34m\u001b[1mtrain: \u001b[0mWARNING ⚠️ /home/jupyter/work/resources/data_yolo/images/train/olen_Im_0001996.jpg: 3 duplicate labels removed\n",
      "\u001b[34m\u001b[1mtrain: \u001b[0mWARNING ⚠️ /home/jupyter/work/resources/data_yolo/images/train/olen_Im_0002000.jpg: 1 duplicate labels removed\n",
      "\u001b[34m\u001b[1mtrain: \u001b[0mWARNING ⚠️ /home/jupyter/work/resources/data_yolo/images/train/olen_Im_0002005.jpg: 3 duplicate labels removed\n",
      "\u001b[34m\u001b[1mtrain: \u001b[0mWARNING ⚠️ /home/jupyter/work/resources/data_yolo/images/train/olen_Im_0002008.jpg: 3 duplicate labels removed\n",
      "\u001b[34m\u001b[1mtrain: \u001b[0mWARNING ⚠️ /home/jupyter/work/resources/data_yolo/images/train/olen_Im_0002012.jpg: 7 duplicate labels removed\n",
      "\u001b[34m\u001b[1mtrain: \u001b[0mWARNING ⚠️ /home/jupyter/work/resources/data_yolo/images/train/olen_Im_0002014.jpg: 2 duplicate labels removed\n",
      "\u001b[34m\u001b[1mtrain: \u001b[0mWARNING ⚠️ /home/jupyter/work/resources/data_yolo/images/train/olen_Im_0002021.jpg: 3 duplicate labels removed\n",
      "\u001b[34m\u001b[1mtrain: \u001b[0mWARNING ⚠️ /home/jupyter/work/resources/data_yolo/images/train/olen_Im_0002026.jpg: 4 duplicate labels removed\n",
      "\u001b[34m\u001b[1mtrain: \u001b[0mWARNING ⚠️ /home/jupyter/work/resources/data_yolo/images/train/olen_Im_0002028_1.jpg: 2 duplicate labels removed\n",
      "\u001b[34m\u001b[1mtrain: \u001b[0mWARNING ⚠️ /home/jupyter/work/resources/data_yolo/images/train/olen_Im_0002031_2.jpg: 2 duplicate labels removed\n",
      "\u001b[34m\u001b[1mtrain: \u001b[0mWARNING ⚠️ /home/jupyter/work/resources/data_yolo/images/train/olen_Im_0002035.jpg: 2 duplicate labels removed\n",
      "\u001b[34m\u001b[1mtrain: \u001b[0mWARNING ⚠️ /home/jupyter/work/resources/data_yolo/images/train/olen_Im_0002040.jpg: 3 duplicate labels removed\n",
      "\u001b[34m\u001b[1mtrain: \u001b[0mWARNING ⚠️ /home/jupyter/work/resources/data_yolo/images/train/olen_Im_0002041_1.jpg: 2 duplicate labels removed\n",
      "\u001b[34m\u001b[1mtrain: \u001b[0mWARNING ⚠️ /home/jupyter/work/resources/data_yolo/images/train/olen_Im_0002044.jpg: 1 duplicate labels removed\n",
      "\u001b[34m\u001b[1mtrain: \u001b[0mWARNING ⚠️ /home/jupyter/work/resources/data_yolo/images/train/olen_Im_0002044_1.jpg: 1 duplicate labels removed\n",
      "\u001b[34m\u001b[1mtrain: \u001b[0mWARNING ⚠️ /home/jupyter/work/resources/data_yolo/images/train/olen_Im_0002045.jpg: 2 duplicate labels removed\n",
      "\u001b[34m\u001b[1mtrain: \u001b[0mWARNING ⚠️ /home/jupyter/work/resources/data_yolo/images/train/olen_Im_0002046.jpg: 10 duplicate labels removed\n",
      "\u001b[34m\u001b[1mtrain: \u001b[0mWARNING ⚠️ /home/jupyter/work/resources/data_yolo/images/train/olen_Im_0002050.jpg: 3 duplicate labels removed\n",
      "\u001b[34m\u001b[1mtrain: \u001b[0mWARNING ⚠️ /home/jupyter/work/resources/data_yolo/images/train/olen_Im_0002051.jpg: 5 duplicate labels removed\n",
      "\u001b[34m\u001b[1mtrain: \u001b[0mWARNING ⚠️ /home/jupyter/work/resources/data_yolo/images/train/olen_Im_0002051_2.jpg: 2 duplicate labels removed\n",
      "\u001b[34m\u001b[1mtrain: \u001b[0mWARNING ⚠️ /home/jupyter/work/resources/data_yolo/images/train/olen_Im_0002054.jpg: 2 duplicate labels removed\n",
      "\u001b[34m\u001b[1mtrain: \u001b[0mWARNING ⚠️ /home/jupyter/work/resources/data_yolo/images/train/olen_Im_0002055.jpg: 3 duplicate labels removed\n",
      "\u001b[34m\u001b[1mtrain: \u001b[0mWARNING ⚠️ /home/jupyter/work/resources/data_yolo/images/train/olen_Im_0002055_1.jpg: 2 duplicate labels removed\n",
      "\u001b[34m\u001b[1mtrain: \u001b[0mWARNING ⚠️ /home/jupyter/work/resources/data_yolo/images/train/olen_Im_0002056.jpg: 2 duplicate labels removed\n",
      "\u001b[34m\u001b[1mtrain: \u001b[0mWARNING ⚠️ /home/jupyter/work/resources/data_yolo/images/train/olen_Im_0002058.jpg: 4 duplicate labels removed\n",
      "\u001b[34m\u001b[1mtrain: \u001b[0mWARNING ⚠️ /home/jupyter/work/resources/data_yolo/images/train/olen_Im_0002062.jpg: 5 duplicate labels removed\n",
      "\u001b[34m\u001b[1mtrain: \u001b[0mWARNING ⚠️ /home/jupyter/work/resources/data_yolo/images/train/olen_Im_0002064.jpg: 6 duplicate labels removed\n",
      "\u001b[34m\u001b[1mtrain: \u001b[0mWARNING ⚠️ /home/jupyter/work/resources/data_yolo/images/train/olen_Im_0002064_2.jpg: 2 duplicate labels removed\n",
      "\u001b[34m\u001b[1mtrain: \u001b[0mWARNING ⚠️ /home/jupyter/work/resources/data_yolo/images/train/olen_Im_0002065.jpg: 1 duplicate labels removed\n",
      "\u001b[34m\u001b[1mtrain: \u001b[0mWARNING ⚠️ /home/jupyter/work/resources/data_yolo/images/train/olen_Im_0002065_1.jpg: 7 duplicate labels removed\n",
      "\u001b[34m\u001b[1mtrain: \u001b[0mWARNING ⚠️ /home/jupyter/work/resources/data_yolo/images/train/olen_Im_0002067.jpg: 2 duplicate labels removed\n",
      "\u001b[34m\u001b[1mtrain: \u001b[0mWARNING ⚠️ /home/jupyter/work/resources/data_yolo/images/train/olen_Im_0002067_1.jpg: 6 duplicate labels removed\n",
      "\u001b[34m\u001b[1mtrain: \u001b[0mWARNING ⚠️ /home/jupyter/work/resources/data_yolo/images/train/olen_Im_0002067_2.jpg: 1 duplicate labels removed\n",
      "\u001b[34m\u001b[1mtrain: \u001b[0mWARNING ⚠️ /home/jupyter/work/resources/data_yolo/images/train/olen_Im_0002067_3.jpg: 2 duplicate labels removed\n",
      "\u001b[34m\u001b[1mtrain: \u001b[0mWARNING ⚠️ /home/jupyter/work/resources/data_yolo/images/train/olen_Im_0002068.jpg: 3 duplicate labels removed\n",
      "\u001b[34m\u001b[1mtrain: \u001b[0mWARNING ⚠️ /home/jupyter/work/resources/data_yolo/images/train/olen_Im_0002070.jpg: 2 duplicate labels removed\n",
      "\u001b[34m\u001b[1mtrain: \u001b[0mWARNING ⚠️ /home/jupyter/work/resources/data_yolo/images/train/olen_Im_0002075.jpg: 3 duplicate labels removed\n",
      "\u001b[34m\u001b[1mtrain: \u001b[0mWARNING ⚠️ /home/jupyter/work/resources/data_yolo/images/train/olen_Im_0002075_1.jpg: 2 duplicate labels removed\n",
      "\u001b[34m\u001b[1mtrain: \u001b[0mWARNING ⚠️ /home/jupyter/work/resources/data_yolo/images/train/olen_Im_0002083.jpg: 7 duplicate labels removed\n",
      "\u001b[34m\u001b[1mtrain: \u001b[0mWARNING ⚠️ /home/jupyter/work/resources/data_yolo/images/train/olen_Im_0002085.jpg: 3 duplicate labels removed\n",
      "\u001b[34m\u001b[1mtrain: \u001b[0mWARNING ⚠️ /home/jupyter/work/resources/data_yolo/images/train/olen_Im_0002085_1.jpg: 3 duplicate labels removed\n",
      "\u001b[34m\u001b[1mtrain: \u001b[0mWARNING ⚠️ /home/jupyter/work/resources/data_yolo/images/train/olen_Im_0002086_1.jpg: 2 duplicate labels removed\n",
      "\u001b[34m\u001b[1mtrain: \u001b[0mWARNING ⚠️ /home/jupyter/work/resources/data_yolo/images/train/olen_Im_0002089.jpg: 4 duplicate labels removed\n",
      "\u001b[34m\u001b[1mtrain: \u001b[0mWARNING ⚠️ /home/jupyter/work/resources/data_yolo/images/train/olen_Im_0002089_1.jpg: 6 duplicate labels removed\n",
      "\u001b[34m\u001b[1mtrain: \u001b[0mWARNING ⚠️ /home/jupyter/work/resources/data_yolo/images/train/olen_Im_0002092.jpg: 5 duplicate labels removed\n",
      "\u001b[34m\u001b[1mtrain: \u001b[0mWARNING ⚠️ /home/jupyter/work/resources/data_yolo/images/train/olen_Im_0002093.jpg: 1 duplicate labels removed\n",
      "\u001b[34m\u001b[1mtrain: \u001b[0mWARNING ⚠️ /home/jupyter/work/resources/data_yolo/images/train/olen_Im_0002105.jpg: 8 duplicate labels removed\n",
      "\u001b[34m\u001b[1mtrain: \u001b[0mWARNING ⚠️ /home/jupyter/work/resources/data_yolo/images/train/olen_Im_0002109.jpg: 4 duplicate labels removed\n",
      "\u001b[34m\u001b[1mtrain: \u001b[0mWARNING ⚠️ /home/jupyter/work/resources/data_yolo/images/train/olen_Im_0002110.jpg: 1 duplicate labels removed\n",
      "\u001b[34m\u001b[1mtrain: \u001b[0mWARNING ⚠️ /home/jupyter/work/resources/data_yolo/images/train/olen_Im_0002114.jpg: 1 duplicate labels removed\n",
      "\u001b[34m\u001b[1mtrain: \u001b[0mWARNING ⚠️ /home/jupyter/work/resources/data_yolo/images/train/olen_Im_0002116.jpg: 3 duplicate labels removed\n",
      "\u001b[34m\u001b[1mtrain: \u001b[0mWARNING ⚠️ /home/jupyter/work/resources/data_yolo/images/train/olen_Im_0002117_1.jpg: 2 duplicate labels removed\n",
      "\u001b[34m\u001b[1mtrain: \u001b[0mWARNING ⚠️ /home/jupyter/work/resources/data_yolo/images/train/olen_Im_0002117_3.jpg: 3 duplicate labels removed\n",
      "\u001b[34m\u001b[1mtrain: \u001b[0mWARNING ⚠️ /home/jupyter/work/resources/data_yolo/images/train/olen_Im_0002122.jpg: 5 duplicate labels removed\n",
      "\u001b[34m\u001b[1mtrain: \u001b[0mWARNING ⚠️ /home/jupyter/work/resources/data_yolo/images/train/olen_Im_0002130.jpg: 2 duplicate labels removed\n",
      "\u001b[34m\u001b[1mtrain: \u001b[0mWARNING ⚠️ /home/jupyter/work/resources/data_yolo/images/train/olen_Im_0002131_1.jpg: 4 duplicate labels removed\n",
      "\u001b[34m\u001b[1mtrain: \u001b[0mWARNING ⚠️ /home/jupyter/work/resources/data_yolo/images/train/olen_Im_0002136.jpg: 6 duplicate labels removed\n",
      "\u001b[34m\u001b[1mtrain: \u001b[0mWARNING ⚠️ /home/jupyter/work/resources/data_yolo/images/train/olen_Im_0002139_1.jpg: 5 duplicate labels removed\n",
      "\u001b[34m\u001b[1mtrain: \u001b[0mWARNING ⚠️ /home/jupyter/work/resources/data_yolo/images/train/olen_Im_0002139_2.jpg: 5 duplicate labels removed\n",
      "\u001b[34m\u001b[1mtrain: \u001b[0mWARNING ⚠️ /home/jupyter/work/resources/data_yolo/images/train/olen_Im_0002141.jpg: 4 duplicate labels removed\n",
      "\u001b[34m\u001b[1mtrain: \u001b[0mWARNING ⚠️ /home/jupyter/work/resources/data_yolo/images/train/olen_Im_0002143.jpg: 3 duplicate labels removed\n",
      "\u001b[34m\u001b[1mtrain: \u001b[0mWARNING ⚠️ /home/jupyter/work/resources/data_yolo/images/train/olen_Im_0002146.jpg: 2 duplicate labels removed\n",
      "\u001b[34m\u001b[1mtrain: \u001b[0mWARNING ⚠️ /home/jupyter/work/resources/data_yolo/images/train/olen_Im_0002155.jpg: 8 duplicate labels removed\n",
      "\u001b[34m\u001b[1mtrain: \u001b[0mWARNING ⚠️ /home/jupyter/work/resources/data_yolo/images/train/olen_Im_0002157_1.jpg: 6 duplicate labels removed\n",
      "\u001b[34m\u001b[1mtrain: \u001b[0mWARNING ⚠️ /home/jupyter/work/resources/data_yolo/images/train/olen_Im_0002157_2.jpg: 1 duplicate labels removed\n",
      "\u001b[34m\u001b[1mtrain: \u001b[0mWARNING ⚠️ /home/jupyter/work/resources/data_yolo/images/train/olen_Im_0002159.jpg: 3 duplicate labels removed\n",
      "\u001b[34m\u001b[1mtrain: \u001b[0mWARNING ⚠️ /home/jupyter/work/resources/data_yolo/images/train/olen_Im_0002161.jpg: 2 duplicate labels removed\n",
      "\u001b[34m\u001b[1mtrain: \u001b[0mWARNING ⚠️ /home/jupyter/work/resources/data_yolo/images/train/olen_Im_0002162.jpg: 2 duplicate labels removed\n",
      "\u001b[34m\u001b[1mtrain: \u001b[0mWARNING ⚠️ /home/jupyter/work/resources/data_yolo/images/train/olen_Im_0002163.jpg: 1 duplicate labels removed\n",
      "\u001b[34m\u001b[1mtrain: \u001b[0mWARNING ⚠️ /home/jupyter/work/resources/data_yolo/images/train/olen_Im_0002171.jpg: 2 duplicate labels removed\n",
      "\u001b[34m\u001b[1mtrain: \u001b[0mWARNING ⚠️ /home/jupyter/work/resources/data_yolo/images/train/olen_Im_0002171_1.jpg: 1 duplicate labels removed\n",
      "\u001b[34m\u001b[1mtrain: \u001b[0mWARNING ⚠️ /home/jupyter/work/resources/data_yolo/images/train/olen_Im_0002173_1.jpg: 3 duplicate labels removed\n",
      "\u001b[34m\u001b[1mtrain: \u001b[0mWARNING ⚠️ /home/jupyter/work/resources/data_yolo/images/train/olen_Im_0002173_2.jpg: 3 duplicate labels removed\n",
      "\u001b[34m\u001b[1mtrain: \u001b[0mWARNING ⚠️ /home/jupyter/work/resources/data_yolo/images/train/olen_Im_0002175.jpg: 1 duplicate labels removed\n",
      "\u001b[34m\u001b[1mtrain: \u001b[0mWARNING ⚠️ /home/jupyter/work/resources/data_yolo/images/train/olen_Im_0002178.jpg: 1 duplicate labels removed\n",
      "\u001b[34m\u001b[1mtrain: \u001b[0mWARNING ⚠️ /home/jupyter/work/resources/data_yolo/images/train/olen_Im_0002179.jpg: 2 duplicate labels removed\n",
      "\u001b[34m\u001b[1mtrain: \u001b[0mWARNING ⚠️ /home/jupyter/work/resources/data_yolo/images/train/olen_Im_0002180.jpg: 2 duplicate labels removed\n",
      "\u001b[34m\u001b[1mtrain: \u001b[0mWARNING ⚠️ /home/jupyter/work/resources/data_yolo/images/train/olen_Im_0002182_1.jpg: 7 duplicate labels removed\n",
      "\u001b[34m\u001b[1mtrain: \u001b[0mWARNING ⚠️ /home/jupyter/work/resources/data_yolo/images/train/olen_Im_0002186.jpg: 2 duplicate labels removed\n",
      "\u001b[34m\u001b[1mtrain: \u001b[0mWARNING ⚠️ /home/jupyter/work/resources/data_yolo/images/train/olen_Im_0002186_1.jpg: 5 duplicate labels removed\n",
      "\u001b[34m\u001b[1mtrain: \u001b[0mWARNING ⚠️ /home/jupyter/work/resources/data_yolo/images/train/olen_Im_0002193.jpg: 3 duplicate labels removed\n",
      "\u001b[34m\u001b[1mtrain: \u001b[0mWARNING ⚠️ /home/jupyter/work/resources/data_yolo/images/train/olen_Im_0002197.jpg: 2 duplicate labels removed\n",
      "\u001b[34m\u001b[1mtrain: \u001b[0mWARNING ⚠️ /home/jupyter/work/resources/data_yolo/images/train/olen_Im_0002198.jpg: 3 duplicate labels removed\n",
      "\u001b[34m\u001b[1mtrain: \u001b[0mWARNING ⚠️ /home/jupyter/work/resources/data_yolo/images/train/olen_Im_0002204.jpg: 2 duplicate labels removed\n",
      "\u001b[34m\u001b[1mtrain: \u001b[0mWARNING ⚠️ /home/jupyter/work/resources/data_yolo/images/train/olen_Im_0002204_1.jpg: 2 duplicate labels removed\n",
      "\u001b[34m\u001b[1mtrain: \u001b[0mWARNING ⚠️ /home/jupyter/work/resources/data_yolo/images/train/olen_Im_0002210.jpg: 3 duplicate labels removed\n",
      "\u001b[34m\u001b[1mtrain: \u001b[0mWARNING ⚠️ /home/jupyter/work/resources/data_yolo/images/train/olen_Im_0002210_1.jpg: 3 duplicate labels removed\n",
      "\u001b[34m\u001b[1mtrain: \u001b[0mWARNING ⚠️ /home/jupyter/work/resources/data_yolo/images/train/olen_Im_0002216.jpg: 5 duplicate labels removed\n",
      "\u001b[34m\u001b[1mtrain: \u001b[0mWARNING ⚠️ /home/jupyter/work/resources/data_yolo/images/train/olen_Im_0002217.jpg: 1 duplicate labels removed\n",
      "\u001b[34m\u001b[1mtrain: \u001b[0mWARNING ⚠️ /home/jupyter/work/resources/data_yolo/images/train/olen_Im_0002219.jpg: 2 duplicate labels removed\n",
      "\u001b[34m\u001b[1mtrain: \u001b[0mWARNING ⚠️ /home/jupyter/work/resources/data_yolo/images/train/olen_Im_0002224.jpg: 4 duplicate labels removed\n",
      "\u001b[34m\u001b[1mtrain: \u001b[0mWARNING ⚠️ /home/jupyter/work/resources/data_yolo/images/train/olen_Im_0002226_1.jpg: 5 duplicate labels removed\n",
      "\u001b[34m\u001b[1mtrain: \u001b[0mWARNING ⚠️ /home/jupyter/work/resources/data_yolo/images/train/olen_Im_0002232_1.jpg: 6 duplicate labels removed\n",
      "\u001b[34m\u001b[1mtrain: \u001b[0mWARNING ⚠️ /home/jupyter/work/resources/data_yolo/images/train/olen_Im_0002234.jpg: 9 duplicate labels removed\n",
      "\u001b[34m\u001b[1mtrain: \u001b[0mWARNING ⚠️ /home/jupyter/work/resources/data_yolo/images/train/olen_Im_0002235.jpg: 1 duplicate labels removed\n",
      "\u001b[34m\u001b[1mtrain: \u001b[0mWARNING ⚠️ /home/jupyter/work/resources/data_yolo/images/train/olen_Im_0002251.jpg: 3 duplicate labels removed\n",
      "\u001b[34m\u001b[1mtrain: \u001b[0mWARNING ⚠️ /home/jupyter/work/resources/data_yolo/images/train/olen_Im_0002252.jpg: 2 duplicate labels removed\n",
      "\u001b[34m\u001b[1mtrain: \u001b[0mWARNING ⚠️ /home/jupyter/work/resources/data_yolo/images/train/olen_Im_0002258.jpg: 1 duplicate labels removed\n",
      "\u001b[34m\u001b[1mtrain: \u001b[0mWARNING ⚠️ /home/jupyter/work/resources/data_yolo/images/train/olen_Im_0002262_1.jpg: 3 duplicate labels removed\n",
      "\u001b[34m\u001b[1mtrain: \u001b[0mWARNING ⚠️ /home/jupyter/work/resources/data_yolo/images/train/olen_Im_0002265.jpg: 1 duplicate labels removed\n",
      "\u001b[34m\u001b[1mtrain: \u001b[0mWARNING ⚠️ /home/jupyter/work/resources/data_yolo/images/train/olen_Im_0002274.jpg: 2 duplicate labels removed\n",
      "\u001b[34m\u001b[1mtrain: \u001b[0mWARNING ⚠️ /home/jupyter/work/resources/data_yolo/images/train/olen_Im_0002274_1.jpg: 3 duplicate labels removed\n",
      "\u001b[34m\u001b[1mtrain: \u001b[0mWARNING ⚠️ /home/jupyter/work/resources/data_yolo/images/train/olen_Im_0002275.jpg: 3 duplicate labels removed\n",
      "\u001b[34m\u001b[1mtrain: \u001b[0mWARNING ⚠️ /home/jupyter/work/resources/data_yolo/images/train/olen_Im_0002276.jpg: 5 duplicate labels removed\n",
      "\u001b[34m\u001b[1mtrain: \u001b[0mWARNING ⚠️ /home/jupyter/work/resources/data_yolo/images/train/olen_Im_0002277_2.jpg: 1 duplicate labels removed\n",
      "\u001b[34m\u001b[1mtrain: \u001b[0mWARNING ⚠️ /home/jupyter/work/resources/data_yolo/images/train/olen_Im_0002283_1.jpg: 2 duplicate labels removed\n",
      "\u001b[34m\u001b[1mtrain: \u001b[0mWARNING ⚠️ /home/jupyter/work/resources/data_yolo/images/train/olen_Im_0002286.jpg: 2 duplicate labels removed\n",
      "\u001b[34m\u001b[1mtrain: \u001b[0mWARNING ⚠️ /home/jupyter/work/resources/data_yolo/images/train/olen_Im_0002287.jpg: 2 duplicate labels removed\n",
      "\u001b[34m\u001b[1mtrain: \u001b[0mWARNING ⚠️ /home/jupyter/work/resources/data_yolo/images/train/olen_Im_0002288.jpg: 1 duplicate labels removed\n",
      "\u001b[34m\u001b[1mtrain: \u001b[0mWARNING ⚠️ /home/jupyter/work/resources/data_yolo/images/train/olen_Im_0002289.jpg: 1 duplicate labels removed\n",
      "\u001b[34m\u001b[1mtrain: \u001b[0mWARNING ⚠️ /home/jupyter/work/resources/data_yolo/images/train/olen_Im_0002294_1.jpg: 3 duplicate labels removed\n",
      "\u001b[34m\u001b[1mtrain: \u001b[0mWARNING ⚠️ /home/jupyter/work/resources/data_yolo/images/train/olen_Im_0002295.jpg: 7 duplicate labels removed\n",
      "\u001b[34m\u001b[1mtrain: \u001b[0mWARNING ⚠️ /home/jupyter/work/resources/data_yolo/images/train/olen_Im_0002296.jpg: 8 duplicate labels removed\n",
      "\u001b[34m\u001b[1mtrain: \u001b[0mWARNING ⚠️ /home/jupyter/work/resources/data_yolo/images/train/olen_Im_0002297.jpg: 8 duplicate labels removed\n",
      "\u001b[34m\u001b[1mtrain: \u001b[0mWARNING ⚠️ /home/jupyter/work/resources/data_yolo/images/train/olen_Im_0002299_1.jpg: 3 duplicate labels removed\n",
      "\u001b[34m\u001b[1mtrain: \u001b[0mWARNING ⚠️ /home/jupyter/work/resources/data_yolo/images/train/olen_Im_0002319.jpg: 3 duplicate labels removed\n",
      "\u001b[34m\u001b[1mtrain: \u001b[0mWARNING ⚠️ /home/jupyter/work/resources/data_yolo/images/train/olen_Im_0002319_1.jpg: 1 duplicate labels removed\n",
      "\u001b[34m\u001b[1mtrain: \u001b[0mWARNING ⚠️ /home/jupyter/work/resources/data_yolo/images/train/olen_Im_0002320.jpg: 7 duplicate labels removed\n",
      "\u001b[34m\u001b[1mtrain: \u001b[0mWARNING ⚠️ /home/jupyter/work/resources/data_yolo/images/train/olen_Im_0002330.jpg: 1 duplicate labels removed\n",
      "\u001b[34m\u001b[1mtrain: \u001b[0mWARNING ⚠️ /home/jupyter/work/resources/data_yolo/images/train/olen_Im_0002330_1.jpg: 1 duplicate labels removed\n",
      "\u001b[34m\u001b[1mtrain: \u001b[0mWARNING ⚠️ /home/jupyter/work/resources/data_yolo/images/train/olen_Im_0002331.jpg: 6 duplicate labels removed\n",
      "\u001b[34m\u001b[1mtrain: \u001b[0mWARNING ⚠️ /home/jupyter/work/resources/data_yolo/images/train/olen_Im_0002334.jpg: 4 duplicate labels removed\n",
      "\u001b[34m\u001b[1mtrain: \u001b[0mWARNING ⚠️ /home/jupyter/work/resources/data_yolo/images/train/olen_Im_0002334_1.jpg: 3 duplicate labels removed\n",
      "\u001b[34m\u001b[1mtrain: \u001b[0mWARNING ⚠️ /home/jupyter/work/resources/data_yolo/images/train/olen_Im_0002334_2.jpg: 5 duplicate labels removed\n",
      "\u001b[34m\u001b[1mtrain: \u001b[0mWARNING ⚠️ /home/jupyter/work/resources/data_yolo/images/train/olen_Im_0002339.jpg: 4 duplicate labels removed\n",
      "\u001b[34m\u001b[1mtrain: \u001b[0mWARNING ⚠️ /home/jupyter/work/resources/data_yolo/images/train/olen_Im_0002341_1.jpg: 3 duplicate labels removed\n",
      "\u001b[34m\u001b[1mtrain: \u001b[0mWARNING ⚠️ /home/jupyter/work/resources/data_yolo/images/train/olen_Im_0002345_1.jpg: 3 duplicate labels removed\n",
      "\u001b[34m\u001b[1mtrain: \u001b[0mWARNING ⚠️ /home/jupyter/work/resources/data_yolo/images/train/olen_Im_0002347.jpg: 3 duplicate labels removed\n",
      "\u001b[34m\u001b[1mtrain: \u001b[0mWARNING ⚠️ /home/jupyter/work/resources/data_yolo/images/train/olen_Im_0002348.jpg: 5 duplicate labels removed\n",
      "\u001b[34m\u001b[1mtrain: \u001b[0mWARNING ⚠️ /home/jupyter/work/resources/data_yolo/images/train/olen_Im_0002349.jpg: 1 duplicate labels removed\n",
      "\u001b[34m\u001b[1mtrain: \u001b[0mWARNING ⚠️ /home/jupyter/work/resources/data_yolo/images/train/olen_Im_0002353.jpg: 2 duplicate labels removed\n",
      "\u001b[34m\u001b[1mtrain: \u001b[0mWARNING ⚠️ /home/jupyter/work/resources/data_yolo/images/train/olen_Im_0002354.jpg: 1 duplicate labels removed\n",
      "\u001b[34m\u001b[1mtrain: \u001b[0mWARNING ⚠️ /home/jupyter/work/resources/data_yolo/images/train/olen_Im_0002355.jpg: 1 duplicate labels removed\n",
      "\u001b[34m\u001b[1mtrain: \u001b[0mWARNING ⚠️ /home/jupyter/work/resources/data_yolo/images/train/olen_Im_0002356.jpg: 8 duplicate labels removed\n",
      "\u001b[34m\u001b[1mtrain: \u001b[0mWARNING ⚠️ /home/jupyter/work/resources/data_yolo/images/train/olen_Im_0002357.jpg: 1 duplicate labels removed\n",
      "\u001b[34m\u001b[1mtrain: \u001b[0mWARNING ⚠️ /home/jupyter/work/resources/data_yolo/images/train/olen_Im_0002363.jpg: 3 duplicate labels removed\n",
      "\u001b[34m\u001b[1mtrain: \u001b[0mWARNING ⚠️ /home/jupyter/work/resources/data_yolo/images/train/olen_Im_0002366.jpg: 3 duplicate labels removed\n",
      "\u001b[34m\u001b[1mtrain: \u001b[0mWARNING ⚠️ /home/jupyter/work/resources/data_yolo/images/train/olen_Im_0002369.jpg: 1 duplicate labels removed\n",
      "\u001b[34m\u001b[1mtrain: \u001b[0mWARNING ⚠️ /home/jupyter/work/resources/data_yolo/images/train/olen_Im_0002371.jpg: 1 duplicate labels removed\n",
      "\u001b[34m\u001b[1mtrain: \u001b[0mWARNING ⚠️ /home/jupyter/work/resources/data_yolo/images/train/olen_Im_0002372.jpg: 5 duplicate labels removed\n",
      "\u001b[34m\u001b[1mtrain: \u001b[0mWARNING ⚠️ /home/jupyter/work/resources/data_yolo/images/train/olen_Im_0002374.jpg: 3 duplicate labels removed\n",
      "\u001b[34m\u001b[1mtrain: \u001b[0mWARNING ⚠️ /home/jupyter/work/resources/data_yolo/images/train/olen_Im_0002380.jpg: 1 duplicate labels removed\n",
      "\u001b[34m\u001b[1mtrain: \u001b[0mWARNING ⚠️ /home/jupyter/work/resources/data_yolo/images/train/olen_Im_0002381.jpg: 8 duplicate labels removed\n",
      "\u001b[34m\u001b[1mtrain: \u001b[0mWARNING ⚠️ /home/jupyter/work/resources/data_yolo/images/train/olen_Im_0002384.jpg: 7 duplicate labels removed\n",
      "\u001b[34m\u001b[1mtrain: \u001b[0mWARNING ⚠️ /home/jupyter/work/resources/data_yolo/images/train/olen_Im_0002389.jpg: 2 duplicate labels removed\n",
      "\u001b[34m\u001b[1mtrain: \u001b[0mWARNING ⚠️ /home/jupyter/work/resources/data_yolo/images/train/olen_Im_0002392.jpg: 3 duplicate labels removed\n",
      "\u001b[34m\u001b[1mtrain: \u001b[0mWARNING ⚠️ /home/jupyter/work/resources/data_yolo/images/train/olen_Im_0002393.jpg: 4 duplicate labels removed\n",
      "\u001b[34m\u001b[1mtrain: \u001b[0mWARNING ⚠️ /home/jupyter/work/resources/data_yolo/images/train/olen_Im_0002394.jpg: 2 duplicate labels removed\n",
      "\u001b[34m\u001b[1mtrain: \u001b[0mWARNING ⚠️ /home/jupyter/work/resources/data_yolo/images/train/olen_Im_0002394_1.jpg: 2 duplicate labels removed\n",
      "\u001b[34m\u001b[1mtrain: \u001b[0mWARNING ⚠️ /home/jupyter/work/resources/data_yolo/images/train/olen_Im_0002396_1.jpg: 2 duplicate labels removed\n",
      "\u001b[34m\u001b[1mtrain: \u001b[0mWARNING ⚠️ /home/jupyter/work/resources/data_yolo/images/train/olen_Im_0002396_2.jpg: 6 duplicate labels removed\n",
      "\u001b[34m\u001b[1mtrain: \u001b[0mWARNING ⚠️ /home/jupyter/work/resources/data_yolo/images/train/olen_Im_0002401.jpg: 3 duplicate labels removed\n",
      "\u001b[34m\u001b[1mtrain: \u001b[0mWARNING ⚠️ /home/jupyter/work/resources/data_yolo/images/train/olen_Im_0002401_1.jpg: 4 duplicate labels removed\n",
      "\u001b[34m\u001b[1mtrain: \u001b[0mWARNING ⚠️ /home/jupyter/work/resources/data_yolo/images/train/olen_Im_0002402.jpg: 1 duplicate labels removed\n",
      "\u001b[34m\u001b[1mtrain: \u001b[0mWARNING ⚠️ /home/jupyter/work/resources/data_yolo/images/train/olen_Im_0002403.jpg: 6 duplicate labels removed\n",
      "\u001b[34m\u001b[1mtrain: \u001b[0mWARNING ⚠️ /home/jupyter/work/resources/data_yolo/images/train/olen_Im_0002408.jpg: 5 duplicate labels removed\n",
      "\u001b[34m\u001b[1mtrain: \u001b[0mWARNING ⚠️ /home/jupyter/work/resources/data_yolo/images/train/olen_Im_0002408_1.jpg: 3 duplicate labels removed\n",
      "\u001b[34m\u001b[1mtrain: \u001b[0mWARNING ⚠️ /home/jupyter/work/resources/data_yolo/images/train/olen_Im_0002410_1.jpg: 3 duplicate labels removed\n",
      "\u001b[34m\u001b[1mtrain: \u001b[0mWARNING ⚠️ /home/jupyter/work/resources/data_yolo/images/train/olen_Im_0002413.jpg: 5 duplicate labels removed\n",
      "\u001b[34m\u001b[1mtrain: \u001b[0mWARNING ⚠️ /home/jupyter/work/resources/data_yolo/images/train/olen_Im_0002414.jpg: 8 duplicate labels removed\n",
      "\u001b[34m\u001b[1mtrain: \u001b[0mWARNING ⚠️ /home/jupyter/work/resources/data_yolo/images/train/olen_Im_0002418.jpg: 1 duplicate labels removed\n",
      "\u001b[34m\u001b[1mtrain: \u001b[0mWARNING ⚠️ /home/jupyter/work/resources/data_yolo/images/train/olen_Im_0002422.jpg: 9 duplicate labels removed\n",
      "\u001b[34m\u001b[1mtrain: \u001b[0mWARNING ⚠️ /home/jupyter/work/resources/data_yolo/images/train/olen_Im_0002422_1.jpg: 4 duplicate labels removed\n",
      "\u001b[34m\u001b[1mtrain: \u001b[0mWARNING ⚠️ /home/jupyter/work/resources/data_yolo/images/train/olen_Im_0002425.jpg: 2 duplicate labels removed\n",
      "\u001b[34m\u001b[1mtrain: \u001b[0mWARNING ⚠️ /home/jupyter/work/resources/data_yolo/images/train/olen_Im_0002429.jpg: 1 duplicate labels removed\n",
      "\u001b[34m\u001b[1mtrain: \u001b[0mWARNING ⚠️ /home/jupyter/work/resources/data_yolo/images/train/olen_Im_0002433.jpg: 2 duplicate labels removed\n",
      "\u001b[34m\u001b[1mtrain: \u001b[0mWARNING ⚠️ /home/jupyter/work/resources/data_yolo/images/train/olen_Im_0002433_1.jpg: 1 duplicate labels removed\n",
      "\u001b[34m\u001b[1mtrain: \u001b[0mWARNING ⚠️ /home/jupyter/work/resources/data_yolo/images/train/olen_Im_0002435_1.jpg: 1 duplicate labels removed\n",
      "\u001b[34m\u001b[1mtrain: \u001b[0mWARNING ⚠️ /home/jupyter/work/resources/data_yolo/images/train/olen_Im_0002440.jpg: 1 duplicate labels removed\n",
      "\u001b[34m\u001b[1mtrain: \u001b[0mWARNING ⚠️ /home/jupyter/work/resources/data_yolo/images/train/olen_Im_0002440_1.jpg: 2 duplicate labels removed\n",
      "\u001b[34m\u001b[1mtrain: \u001b[0mWARNING ⚠️ /home/jupyter/work/resources/data_yolo/images/train/olen_Im_0002442.jpg: 4 duplicate labels removed\n",
      "\u001b[34m\u001b[1mtrain: \u001b[0mWARNING ⚠️ /home/jupyter/work/resources/data_yolo/images/train/olen_Im_0002450.jpg: 1 duplicate labels removed\n",
      "\u001b[34m\u001b[1mtrain: \u001b[0mWARNING ⚠️ /home/jupyter/work/resources/data_yolo/images/train/olen_Im_0002453_1.jpg: 3 duplicate labels removed\n",
      "\u001b[34m\u001b[1mtrain: \u001b[0mWARNING ⚠️ /home/jupyter/work/resources/data_yolo/images/train/olen_Im_0002454.jpg: 4 duplicate labels removed\n",
      "\u001b[34m\u001b[1mtrain: \u001b[0mWARNING ⚠️ /home/jupyter/work/resources/data_yolo/images/train/olen_Im_0002459_1.jpg: 4 duplicate labels removed\n",
      "\u001b[34m\u001b[1mtrain: \u001b[0mWARNING ⚠️ /home/jupyter/work/resources/data_yolo/images/train/olen_Im_0002461.jpg: 4 duplicate labels removed\n",
      "\u001b[34m\u001b[1mtrain: \u001b[0mWARNING ⚠️ /home/jupyter/work/resources/data_yolo/images/train/olen_Im_0002462.jpg: 4 duplicate labels removed\n",
      "\u001b[34m\u001b[1mtrain: \u001b[0mWARNING ⚠️ /home/jupyter/work/resources/data_yolo/images/train/olen_Im_0002464.jpg: 6 duplicate labels removed\n",
      "\u001b[34m\u001b[1mtrain: \u001b[0mWARNING ⚠️ /home/jupyter/work/resources/data_yolo/images/train/olen_Im_0002467.jpg: 2 duplicate labels removed\n",
      "\u001b[34m\u001b[1mtrain: \u001b[0mWARNING ⚠️ /home/jupyter/work/resources/data_yolo/images/train/olen_Im_0002470.jpg: 1 duplicate labels removed\n",
      "\u001b[34m\u001b[1mtrain: \u001b[0mWARNING ⚠️ /home/jupyter/work/resources/data_yolo/images/train/olen_Im_0002477.jpg: 5 duplicate labels removed\n",
      "\u001b[34m\u001b[1mtrain: \u001b[0mWARNING ⚠️ /home/jupyter/work/resources/data_yolo/images/train/olen_Im_0002478.jpg: 6 duplicate labels removed\n",
      "\u001b[34m\u001b[1mtrain: \u001b[0mWARNING ⚠️ /home/jupyter/work/resources/data_yolo/images/train/olen_Im_0002483.jpg: 4 duplicate labels removed\n",
      "\u001b[34m\u001b[1mtrain: \u001b[0mWARNING ⚠️ /home/jupyter/work/resources/data_yolo/images/train/olen_Im_0002491.jpg: 4 duplicate labels removed\n",
      "\u001b[34m\u001b[1mtrain: \u001b[0mWARNING ⚠️ /home/jupyter/work/resources/data_yolo/images/train/olen_Im_0002491_1.jpg: 2 duplicate labels removed\n",
      "\u001b[34m\u001b[1mtrain: \u001b[0mWARNING ⚠️ /home/jupyter/work/resources/data_yolo/images/train/olen_Im_0002492.jpg: 2 duplicate labels removed\n",
      "\u001b[34m\u001b[1mtrain: \u001b[0mWARNING ⚠️ /home/jupyter/work/resources/data_yolo/images/train/olen_Im_0002496.jpg: 1 duplicate labels removed\n",
      "\u001b[34m\u001b[1mtrain: \u001b[0mWARNING ⚠️ /home/jupyter/work/resources/data_yolo/images/train/olen_Im_0002504.jpg: 5 duplicate labels removed\n",
      "\u001b[34m\u001b[1mtrain: \u001b[0mWARNING ⚠️ /home/jupyter/work/resources/data_yolo/images/train/olen_Im_0002505.jpg: 6 duplicate labels removed\n",
      "\u001b[34m\u001b[1mtrain: \u001b[0mWARNING ⚠️ /home/jupyter/work/resources/data_yolo/images/train/olen_Im_0002506.jpg: 2 duplicate labels removed\n",
      "\u001b[34m\u001b[1mtrain: \u001b[0mWARNING ⚠️ /home/jupyter/work/resources/data_yolo/images/train/olen_Im_0002509.jpg: 1 duplicate labels removed\n",
      "\u001b[34m\u001b[1mtrain: \u001b[0mWARNING ⚠️ /home/jupyter/work/resources/data_yolo/images/train/olen_Im_0002510.jpg: 5 duplicate labels removed\n",
      "\u001b[34m\u001b[1mtrain: \u001b[0mWARNING ⚠️ /home/jupyter/work/resources/data_yolo/images/train/olen_Im_0002514.jpg: 4 duplicate labels removed\n",
      "\u001b[34m\u001b[1mtrain: \u001b[0mWARNING ⚠️ /home/jupyter/work/resources/data_yolo/images/train/olen_Im_0002516.jpg: 1 duplicate labels removed\n",
      "\u001b[34m\u001b[1mtrain: \u001b[0mWARNING ⚠️ /home/jupyter/work/resources/data_yolo/images/train/olen_Im_0002516_1.jpg: 2 duplicate labels removed\n",
      "\u001b[34m\u001b[1mtrain: \u001b[0mWARNING ⚠️ /home/jupyter/work/resources/data_yolo/images/train/olen_Im_0002517.jpg: 1 duplicate labels removed\n",
      "\u001b[34m\u001b[1mtrain: \u001b[0mWARNING ⚠️ /home/jupyter/work/resources/data_yolo/images/train/olen_Im_0002518.jpg: 5 duplicate labels removed\n",
      "\u001b[34m\u001b[1mtrain: \u001b[0mWARNING ⚠️ /home/jupyter/work/resources/data_yolo/images/train/olen_Im_0002520.jpg: 1 duplicate labels removed\n",
      "\u001b[34m\u001b[1mtrain: \u001b[0mWARNING ⚠️ /home/jupyter/work/resources/data_yolo/images/train/olen_Im_0002521.jpg: 5 duplicate labels removed\n",
      "\u001b[34m\u001b[1mtrain: \u001b[0mWARNING ⚠️ /home/jupyter/work/resources/data_yolo/images/train/olen_Im_0002523.jpg: 2 duplicate labels removed\n",
      "\u001b[34m\u001b[1mtrain: \u001b[0mWARNING ⚠️ /home/jupyter/work/resources/data_yolo/images/train/olen_Im_0002526_1.jpg: 4 duplicate labels removed\n",
      "\u001b[34m\u001b[1mtrain: \u001b[0mWARNING ⚠️ /home/jupyter/work/resources/data_yolo/images/train/olen_Im_0002529.jpg: 4 duplicate labels removed\n",
      "\u001b[34m\u001b[1mtrain: \u001b[0mWARNING ⚠️ /home/jupyter/work/resources/data_yolo/images/train/olen_Im_0002536.jpg: 2 duplicate labels removed\n",
      "\u001b[34m\u001b[1mtrain: \u001b[0mWARNING ⚠️ /home/jupyter/work/resources/data_yolo/images/train/olen_Im_0002539.jpg: 1 duplicate labels removed\n",
      "\u001b[34m\u001b[1mtrain: \u001b[0mWARNING ⚠️ /home/jupyter/work/resources/data_yolo/images/train/olen_Im_0002541.jpg: 5 duplicate labels removed\n",
      "\u001b[34m\u001b[1mtrain: \u001b[0mWARNING ⚠️ /home/jupyter/work/resources/data_yolo/images/train/olen_Im_0002544.jpg: 3 duplicate labels removed\n",
      "\u001b[34m\u001b[1mtrain: \u001b[0mWARNING ⚠️ /home/jupyter/work/resources/data_yolo/images/train/olen_Im_0002544_1.jpg: 3 duplicate labels removed\n",
      "\u001b[34m\u001b[1mtrain: \u001b[0mWARNING ⚠️ /home/jupyter/work/resources/data_yolo/images/train/olen_Im_0002547_1.jpg: 3 duplicate labels removed\n",
      "\u001b[34m\u001b[1mtrain: \u001b[0mWARNING ⚠️ /home/jupyter/work/resources/data_yolo/images/train/olen_Im_0002547_2.jpg: 1 duplicate labels removed\n",
      "\u001b[34m\u001b[1mtrain: \u001b[0mWARNING ⚠️ /home/jupyter/work/resources/data_yolo/images/train/olen_Im_0002549_1.jpg: 5 duplicate labels removed\n",
      "\u001b[34m\u001b[1mtrain: \u001b[0mWARNING ⚠️ /home/jupyter/work/resources/data_yolo/images/train/olen_Im_0002550.jpg: 1 duplicate labels removed\n",
      "\u001b[34m\u001b[1mtrain: \u001b[0mWARNING ⚠️ /home/jupyter/work/resources/data_yolo/images/train/olen_Im_0002554.jpg: 1 duplicate labels removed\n",
      "\u001b[34m\u001b[1mtrain: \u001b[0mWARNING ⚠️ /home/jupyter/work/resources/data_yolo/images/train/olen_Im_0002555.jpg: 1 duplicate labels removed\n",
      "\u001b[34m\u001b[1mtrain: \u001b[0mWARNING ⚠️ /home/jupyter/work/resources/data_yolo/images/train/olen_Im_0002557.jpg: 2 duplicate labels removed\n",
      "\u001b[34m\u001b[1mtrain: \u001b[0mWARNING ⚠️ /home/jupyter/work/resources/data_yolo/images/train/olen_Im_0002561.jpg: 4 duplicate labels removed\n",
      "\u001b[34m\u001b[1mtrain: \u001b[0mWARNING ⚠️ /home/jupyter/work/resources/data_yolo/images/train/olen_Im_0002563.jpg: 1 duplicate labels removed\n",
      "\u001b[34m\u001b[1mtrain: \u001b[0mWARNING ⚠️ /home/jupyter/work/resources/data_yolo/images/train/olen_Im_0002566.jpg: 2 duplicate labels removed\n",
      "\u001b[34m\u001b[1mtrain: \u001b[0mWARNING ⚠️ /home/jupyter/work/resources/data_yolo/images/train/olen_Im_0002566_1.jpg: 1 duplicate labels removed\n",
      "\u001b[34m\u001b[1mtrain: \u001b[0mWARNING ⚠️ /home/jupyter/work/resources/data_yolo/images/train/olen_Im_0002567.jpg: 3 duplicate labels removed\n",
      "\u001b[34m\u001b[1mtrain: \u001b[0mWARNING ⚠️ /home/jupyter/work/resources/data_yolo/images/train/olen_Im_0002571.jpg: 5 duplicate labels removed\n",
      "\u001b[34m\u001b[1mtrain: \u001b[0mWARNING ⚠️ /home/jupyter/work/resources/data_yolo/images/train/olen_Im_0002575.jpg: 2 duplicate labels removed\n",
      "\u001b[34m\u001b[1mtrain: \u001b[0mWARNING ⚠️ /home/jupyter/work/resources/data_yolo/images/train/olen_Im_0002576.jpg: 1 duplicate labels removed\n",
      "\u001b[34m\u001b[1mtrain: \u001b[0mWARNING ⚠️ /home/jupyter/work/resources/data_yolo/images/train/olen_Im_0002578.jpg: 8 duplicate labels removed\n",
      "\u001b[34m\u001b[1mtrain: \u001b[0mWARNING ⚠️ /home/jupyter/work/resources/data_yolo/images/train/olen_Im_0002583.jpg: 5 duplicate labels removed\n",
      "\u001b[34m\u001b[1mtrain: \u001b[0mWARNING ⚠️ /home/jupyter/work/resources/data_yolo/images/train/olen_Im_0002585_1.jpg: 5 duplicate labels removed\n",
      "\u001b[34m\u001b[1mtrain: \u001b[0mWARNING ⚠️ /home/jupyter/work/resources/data_yolo/images/train/olen_Im_0002587.jpg: 1 duplicate labels removed\n",
      "\u001b[34m\u001b[1mtrain: \u001b[0mWARNING ⚠️ /home/jupyter/work/resources/data_yolo/images/train/olen_Im_0002591.jpg: 5 duplicate labels removed\n",
      "\u001b[34m\u001b[1mtrain: \u001b[0mWARNING ⚠️ /home/jupyter/work/resources/data_yolo/images/train/olen_Im_0002591_1.jpg: 3 duplicate labels removed\n",
      "\u001b[34m\u001b[1mtrain: \u001b[0mWARNING ⚠️ /home/jupyter/work/resources/data_yolo/images/train/olen_Im_0002596.jpg: 3 duplicate labels removed\n",
      "\u001b[34m\u001b[1mtrain: \u001b[0mWARNING ⚠️ /home/jupyter/work/resources/data_yolo/images/train/olen_Im_0002597.jpg: 2 duplicate labels removed\n",
      "\u001b[34m\u001b[1mtrain: \u001b[0mWARNING ⚠️ /home/jupyter/work/resources/data_yolo/images/train/olen_Im_0002599.jpg: 3 duplicate labels removed\n",
      "\u001b[34m\u001b[1mtrain: \u001b[0mWARNING ⚠️ /home/jupyter/work/resources/data_yolo/images/train/olen_Im_0002602.jpg: 1 duplicate labels removed\n",
      "\u001b[34m\u001b[1mtrain: \u001b[0mWARNING ⚠️ /home/jupyter/work/resources/data_yolo/images/train/olen_Im_0002603.jpg: 4 duplicate labels removed\n",
      "\u001b[34m\u001b[1mtrain: \u001b[0mWARNING ⚠️ /home/jupyter/work/resources/data_yolo/images/train/olen_Im_0002604.jpg: 5 duplicate labels removed\n",
      "\u001b[34m\u001b[1mtrain: \u001b[0mWARNING ⚠️ /home/jupyter/work/resources/data_yolo/images/train/olen_Im_0002607_1.jpg: 1 duplicate labels removed\n",
      "\u001b[34m\u001b[1mtrain: \u001b[0mWARNING ⚠️ /home/jupyter/work/resources/data_yolo/images/train/olen_Im_0002608_1.jpg: 2 duplicate labels removed\n",
      "\u001b[34m\u001b[1mtrain: \u001b[0mWARNING ⚠️ /home/jupyter/work/resources/data_yolo/images/train/olen_Im_0002616.jpg: 1 duplicate labels removed\n",
      "\u001b[34m\u001b[1mtrain: \u001b[0mWARNING ⚠️ /home/jupyter/work/resources/data_yolo/images/train/olen_Im_0002617.jpg: 8 duplicate labels removed\n",
      "\u001b[34m\u001b[1mtrain: \u001b[0mWARNING ⚠️ /home/jupyter/work/resources/data_yolo/images/train/olen_Im_0002619.jpg: 3 duplicate labels removed\n",
      "\u001b[34m\u001b[1mtrain: \u001b[0mWARNING ⚠️ /home/jupyter/work/resources/data_yolo/images/train/olen_Im_0002622.jpg: 3 duplicate labels removed\n",
      "\u001b[34m\u001b[1mtrain: \u001b[0mWARNING ⚠️ /home/jupyter/work/resources/data_yolo/images/train/olen_Im_0002623.jpg: 6 duplicate labels removed\n",
      "\u001b[34m\u001b[1mtrain: \u001b[0mWARNING ⚠️ /home/jupyter/work/resources/data_yolo/images/train/olen_Im_0002626.jpg: 4 duplicate labels removed\n",
      "\u001b[34m\u001b[1mtrain: \u001b[0mWARNING ⚠️ /home/jupyter/work/resources/data_yolo/images/train/olen_Im_0002627.jpg: 3 duplicate labels removed\n",
      "\u001b[34m\u001b[1mtrain: \u001b[0mWARNING ⚠️ /home/jupyter/work/resources/data_yolo/images/train/olen_Im_0002627_1.jpg: 1 duplicate labels removed\n",
      "\u001b[34m\u001b[1mtrain: \u001b[0mWARNING ⚠️ /home/jupyter/work/resources/data_yolo/images/train/olen_Im_0002628.jpg: 3 duplicate labels removed\n",
      "\u001b[34m\u001b[1mtrain: \u001b[0mWARNING ⚠️ /home/jupyter/work/resources/data_yolo/images/train/olen_Im_0002630_1.jpg: 5 duplicate labels removed\n",
      "\u001b[34m\u001b[1mtrain: \u001b[0mWARNING ⚠️ /home/jupyter/work/resources/data_yolo/images/train/olen_Im_0002631.jpg: 1 duplicate labels removed\n",
      "\u001b[34m\u001b[1mtrain: \u001b[0mWARNING ⚠️ /home/jupyter/work/resources/data_yolo/images/train/olen_Im_0002632.jpg: 3 duplicate labels removed\n",
      "\u001b[34m\u001b[1mtrain: \u001b[0mWARNING ⚠️ /home/jupyter/work/resources/data_yolo/images/train/olen_Im_0002633.jpg: 4 duplicate labels removed\n",
      "\u001b[34m\u001b[1mtrain: \u001b[0mWARNING ⚠️ /home/jupyter/work/resources/data_yolo/images/train/olen_Im_0002634.jpg: 2 duplicate labels removed\n",
      "\u001b[34m\u001b[1mtrain: \u001b[0mWARNING ⚠️ /home/jupyter/work/resources/data_yolo/images/train/olen_Im_0002636.jpg: 1 duplicate labels removed\n",
      "\u001b[34m\u001b[1mtrain: \u001b[0mWARNING ⚠️ /home/jupyter/work/resources/data_yolo/images/train/olen_Im_0002640.jpg: 8 duplicate labels removed\n",
      "\u001b[34m\u001b[1mtrain: \u001b[0mWARNING ⚠️ /home/jupyter/work/resources/data_yolo/images/train/olen_Im_0002641.jpg: 9 duplicate labels removed\n",
      "\u001b[34m\u001b[1mtrain: \u001b[0mWARNING ⚠️ /home/jupyter/work/resources/data_yolo/images/train/olen_Im_0002644.jpg: 1 duplicate labels removed\n",
      "\u001b[34m\u001b[1mtrain: \u001b[0mWARNING ⚠️ /home/jupyter/work/resources/data_yolo/images/train/olen_Im_0002647.jpg: 1 duplicate labels removed\n",
      "\u001b[34m\u001b[1mtrain: \u001b[0mWARNING ⚠️ /home/jupyter/work/resources/data_yolo/images/train/olen_Im_0002648.jpg: 3 duplicate labels removed\n",
      "\u001b[34m\u001b[1mtrain: \u001b[0mWARNING ⚠️ /home/jupyter/work/resources/data_yolo/images/train/olen_Im_0002648_2.jpg: 2 duplicate labels removed\n",
      "\u001b[34m\u001b[1mtrain: \u001b[0mWARNING ⚠️ /home/jupyter/work/resources/data_yolo/images/train/olen_Im_0002653.jpg: 3 duplicate labels removed\n",
      "\u001b[34m\u001b[1mtrain: \u001b[0mWARNING ⚠️ /home/jupyter/work/resources/data_yolo/images/train/olen_Im_0002656.jpg: 1 duplicate labels removed\n",
      "\u001b[34m\u001b[1mtrain: \u001b[0mWARNING ⚠️ /home/jupyter/work/resources/data_yolo/images/train/olen_Im_0002657.jpg: 3 duplicate labels removed\n",
      "\u001b[34m\u001b[1mtrain: \u001b[0mWARNING ⚠️ /home/jupyter/work/resources/data_yolo/images/train/olen_Im_0002657_1.jpg: 6 duplicate labels removed\n",
      "\u001b[34m\u001b[1mtrain: \u001b[0mWARNING ⚠️ /home/jupyter/work/resources/data_yolo/images/train/olen_Im_0002659.jpg: 6 duplicate labels removed\n",
      "\u001b[34m\u001b[1mtrain: \u001b[0mWARNING ⚠️ /home/jupyter/work/resources/data_yolo/images/train/olen_Im_0002661.jpg: 1 duplicate labels removed\n",
      "\u001b[34m\u001b[1mtrain: \u001b[0mWARNING ⚠️ /home/jupyter/work/resources/data_yolo/images/train/olen_Im_0002662.jpg: 3 duplicate labels removed\n",
      "\u001b[34m\u001b[1mtrain: \u001b[0mWARNING ⚠️ /home/jupyter/work/resources/data_yolo/images/train/olen_Im_0002665.jpg: 5 duplicate labels removed\n",
      "\u001b[34m\u001b[1mtrain: \u001b[0mWARNING ⚠️ /home/jupyter/work/resources/data_yolo/images/train/olen_Im_0002672.jpg: 4 duplicate labels removed\n",
      "\u001b[34m\u001b[1mtrain: \u001b[0mWARNING ⚠️ /home/jupyter/work/resources/data_yolo/images/train/olen_Im_0002673.jpg: 1 duplicate labels removed\n",
      "\u001b[34m\u001b[1mtrain: \u001b[0mWARNING ⚠️ /home/jupyter/work/resources/data_yolo/images/train/olen_Im_0002674.jpg: 5 duplicate labels removed\n",
      "\u001b[34m\u001b[1mtrain: \u001b[0mWARNING ⚠️ /home/jupyter/work/resources/data_yolo/images/train/olen_Im_0002675.jpg: 1 duplicate labels removed\n",
      "\u001b[34m\u001b[1mtrain: \u001b[0mWARNING ⚠️ /home/jupyter/work/resources/data_yolo/images/train/olen_Im_0002677.jpg: 3 duplicate labels removed\n",
      "\u001b[34m\u001b[1mtrain: \u001b[0mWARNING ⚠️ /home/jupyter/work/resources/data_yolo/images/train/olen_Im_0002681.jpg: 3 duplicate labels removed\n",
      "\u001b[34m\u001b[1mtrain: \u001b[0mWARNING ⚠️ /home/jupyter/work/resources/data_yolo/images/train/olen_Im_0002685.jpg: 4 duplicate labels removed\n",
      "\u001b[34m\u001b[1mtrain: \u001b[0mWARNING ⚠️ /home/jupyter/work/resources/data_yolo/images/train/olen_Im_0002687.jpg: 1 duplicate labels removed\n",
      "\u001b[34m\u001b[1mtrain: \u001b[0mWARNING ⚠️ /home/jupyter/work/resources/data_yolo/images/train/olen_Im_0002688.jpg: 2 duplicate labels removed\n",
      "\u001b[34m\u001b[1mtrain: \u001b[0mWARNING ⚠️ /home/jupyter/work/resources/data_yolo/images/train/olen_Im_0002691.jpg: 3 duplicate labels removed\n",
      "\u001b[34m\u001b[1mtrain: \u001b[0mWARNING ⚠️ /home/jupyter/work/resources/data_yolo/images/train/olen_Im_0002692_1.jpg: 2 duplicate labels removed\n",
      "\u001b[34m\u001b[1mtrain: \u001b[0mWARNING ⚠️ /home/jupyter/work/resources/data_yolo/images/train/olen_Im_0002693_1.jpg: 1 duplicate labels removed\n",
      "\u001b[34m\u001b[1mtrain: \u001b[0mWARNING ⚠️ /home/jupyter/work/resources/data_yolo/images/train/olen_Im_0002695.jpg: 1 duplicate labels removed\n",
      "\u001b[34m\u001b[1mtrain: \u001b[0mWARNING ⚠️ /home/jupyter/work/resources/data_yolo/images/train/olen_Im_0002696.jpg: 4 duplicate labels removed\n",
      "\u001b[34m\u001b[1mtrain: \u001b[0mWARNING ⚠️ /home/jupyter/work/resources/data_yolo/images/train/olen_Im_0002698.jpg: 6 duplicate labels removed\n",
      "\u001b[34m\u001b[1mtrain: \u001b[0mWARNING ⚠️ /home/jupyter/work/resources/data_yolo/images/train/olen_Im_0002701_1.jpg: 6 duplicate labels removed\n",
      "\u001b[34m\u001b[1mtrain: \u001b[0mWARNING ⚠️ /home/jupyter/work/resources/data_yolo/images/train/olen_Im_0002702.jpg: 2 duplicate labels removed\n",
      "\u001b[34m\u001b[1mtrain: \u001b[0mWARNING ⚠️ /home/jupyter/work/resources/data_yolo/images/train/olen_Im_0002704.jpg: 4 duplicate labels removed\n",
      "\u001b[34m\u001b[1mtrain: \u001b[0mWARNING ⚠️ /home/jupyter/work/resources/data_yolo/images/train/olen_Im_0002709.jpg: 3 duplicate labels removed\n",
      "\u001b[34m\u001b[1mtrain: \u001b[0mWARNING ⚠️ /home/jupyter/work/resources/data_yolo/images/train/olen_Im_0002711.jpg: 1 duplicate labels removed\n",
      "\u001b[34m\u001b[1mtrain: \u001b[0mWARNING ⚠️ /home/jupyter/work/resources/data_yolo/images/train/olen_Im_0002713.jpg: 5 duplicate labels removed\n",
      "\u001b[34m\u001b[1mtrain: \u001b[0mWARNING ⚠️ /home/jupyter/work/resources/data_yolo/images/train/olen_Im_0002713_1.jpg: 2 duplicate labels removed\n",
      "\u001b[34m\u001b[1mtrain: \u001b[0mWARNING ⚠️ /home/jupyter/work/resources/data_yolo/images/train/olen_Im_0002718.jpg: 3 duplicate labels removed\n",
      "\u001b[34m\u001b[1mtrain: \u001b[0mWARNING ⚠️ /home/jupyter/work/resources/data_yolo/images/train/olen_Im_0002721.jpg: 4 duplicate labels removed\n",
      "\u001b[34m\u001b[1mtrain: \u001b[0mWARNING ⚠️ /home/jupyter/work/resources/data_yolo/images/train/olen_Im_0002721_2.jpg: 6 duplicate labels removed\n",
      "\u001b[34m\u001b[1mtrain: \u001b[0mWARNING ⚠️ /home/jupyter/work/resources/data_yolo/images/train/olen_Im_0002724.jpg: 3 duplicate labels removed\n",
      "\u001b[34m\u001b[1mtrain: \u001b[0mWARNING ⚠️ /home/jupyter/work/resources/data_yolo/images/train/olen_Im_0002724_1.jpg: 4 duplicate labels removed\n",
      "\u001b[34m\u001b[1mtrain: \u001b[0mWARNING ⚠️ /home/jupyter/work/resources/data_yolo/images/train/olen_Im_0002726.jpg: 7 duplicate labels removed\n",
      "\u001b[34m\u001b[1mtrain: \u001b[0mWARNING ⚠️ /home/jupyter/work/resources/data_yolo/images/train/olen_Im_0002726_2.jpg: 3 duplicate labels removed\n",
      "\u001b[34m\u001b[1mtrain: \u001b[0mWARNING ⚠️ /home/jupyter/work/resources/data_yolo/images/train/olen_Im_0002729_1.jpg: 5 duplicate labels removed\n",
      "\u001b[34m\u001b[1mtrain: \u001b[0mWARNING ⚠️ /home/jupyter/work/resources/data_yolo/images/train/olen_Im_0002729_2.jpg: 5 duplicate labels removed\n",
      "\u001b[34m\u001b[1mtrain: \u001b[0mWARNING ⚠️ /home/jupyter/work/resources/data_yolo/images/train/olen_Im_0002733.jpg: 2 duplicate labels removed\n",
      "\u001b[34m\u001b[1mtrain: \u001b[0mWARNING ⚠️ /home/jupyter/work/resources/data_yolo/images/train/olen_Im_0002734.jpg: 2 duplicate labels removed\n",
      "\u001b[34m\u001b[1mtrain: \u001b[0mWARNING ⚠️ /home/jupyter/work/resources/data_yolo/images/train/olen_Im_0002735.jpg: 7 duplicate labels removed\n",
      "\u001b[34m\u001b[1mtrain: \u001b[0mWARNING ⚠️ /home/jupyter/work/resources/data_yolo/images/train/olen_Im_0002735_1.jpg: 5 duplicate labels removed\n",
      "\u001b[34m\u001b[1mtrain: \u001b[0mWARNING ⚠️ /home/jupyter/work/resources/data_yolo/images/train/olen_PTDC0033.JPG: 1 duplicate labels removed\n",
      "\u001b[34m\u001b[1mtrain: \u001b[0mWARNING ⚠️ /home/jupyter/work/resources/data_yolo/images/train/olen_PTDC0034.JPG: corrupt JPEG restored and saved\n",
      "\u001b[34m\u001b[1mtrain: \u001b[0mWARNING ⚠️ /home/jupyter/work/resources/data_yolo/images/train/olen_PTDC0069.JPG: 1 duplicate labels removed\n",
      "\u001b[34m\u001b[1mtrain: \u001b[0mWARNING ⚠️ /home/jupyter/work/resources/data_yolo/images/train/olen_PTDC0071.JPG: 1 duplicate labels removed\n",
      "\u001b[34m\u001b[1mtrain: \u001b[0mWARNING ⚠️ /home/jupyter/work/resources/data_yolo/images/train/olen_SAM_0602.JPG: 1 duplicate labels removed\n",
      "\u001b[34m\u001b[1mtrain: \u001b[0mWARNING ⚠️ /home/jupyter/work/resources/data_yolo/images/train/olen_Благородный олень (1).JPG: 1 duplicate labels removed\n",
      "\u001b[34m\u001b[1mtrain: \u001b[0mWARNING ⚠️ /home/jupyter/work/resources/data_yolo/images/train/olen_Благородный олень (10).JPG: 1 duplicate labels removed\n",
      "\u001b[34m\u001b[1mtrain: \u001b[0mWARNING ⚠️ /home/jupyter/work/resources/data_yolo/images/train/olen_Благородный олень (100).JPG: corrupt JPEG restored and saved\n",
      "\u001b[34m\u001b[1mtrain: \u001b[0mWARNING ⚠️ /home/jupyter/work/resources/data_yolo/images/train/olen_Благородный олень (101).JPG: 1 duplicate labels removed\n",
      "\u001b[34m\u001b[1mtrain: \u001b[0mWARNING ⚠️ /home/jupyter/work/resources/data_yolo/images/train/olen_Благородный олень (102).JPG: corrupt JPEG restored and saved\n",
      "\u001b[34m\u001b[1mtrain: \u001b[0mWARNING ⚠️ /home/jupyter/work/resources/data_yolo/images/train/olen_Благородный олень (107).JPG: corrupt JPEG restored and saved\n",
      "\u001b[34m\u001b[1mtrain: \u001b[0mWARNING ⚠️ /home/jupyter/work/resources/data_yolo/images/train/olen_Благородный олень (108).JPG: 1 duplicate labels removed\n",
      "\u001b[34m\u001b[1mtrain: \u001b[0mWARNING ⚠️ /home/jupyter/work/resources/data_yolo/images/train/olen_Благородный олень (109).JPG: 1 duplicate labels removed\n",
      "\u001b[34m\u001b[1mtrain: \u001b[0mWARNING ⚠️ /home/jupyter/work/resources/data_yolo/images/train/olen_Благородный олень (11).JPG: corrupt JPEG restored and saved\n",
      "\u001b[34m\u001b[1mtrain: \u001b[0mWARNING ⚠️ /home/jupyter/work/resources/data_yolo/images/train/olen_Благородный олень (110).JPG: 1 duplicate labels removed\n",
      "\u001b[34m\u001b[1mtrain: \u001b[0mWARNING ⚠️ /home/jupyter/work/resources/data_yolo/images/train/olen_Благородный олень (113).JPG: corrupt JPEG restored and saved\n",
      "\u001b[34m\u001b[1mtrain: \u001b[0mWARNING ⚠️ /home/jupyter/work/resources/data_yolo/images/train/olen_Благородный олень (117).JPG: 1 duplicate labels removed\n",
      "\u001b[34m\u001b[1mtrain: \u001b[0mWARNING ⚠️ /home/jupyter/work/resources/data_yolo/images/train/olen_Благородный олень (121).JPG: 1 duplicate labels removed\n",
      "\u001b[34m\u001b[1mtrain: \u001b[0mWARNING ⚠️ /home/jupyter/work/resources/data_yolo/images/train/olen_Благородный олень (122).JPG: 1 duplicate labels removed\n",
      "\u001b[34m\u001b[1mtrain: \u001b[0mWARNING ⚠️ /home/jupyter/work/resources/data_yolo/images/train/olen_Благородный олень (123).JPG: 3 duplicate labels removed\n",
      "\u001b[34m\u001b[1mtrain: \u001b[0mWARNING ⚠️ /home/jupyter/work/resources/data_yolo/images/train/olen_Благородный олень (13).JPG: corrupt JPEG restored and saved\n",
      "\u001b[34m\u001b[1mtrain: \u001b[0mWARNING ⚠️ /home/jupyter/work/resources/data_yolo/images/train/olen_Благородный олень (14).JPG: corrupt JPEG restored and saved\n",
      "\u001b[34m\u001b[1mtrain: \u001b[0mWARNING ⚠️ /home/jupyter/work/resources/data_yolo/images/train/olen_Благородный олень (15).JPG: 1 duplicate labels removed\n",
      "\u001b[34m\u001b[1mtrain: \u001b[0mWARNING ⚠️ /home/jupyter/work/resources/data_yolo/images/train/olen_Благородный олень (18).JPG: corrupt JPEG restored and saved\n",
      "\u001b[34m\u001b[1mtrain: \u001b[0mWARNING ⚠️ /home/jupyter/work/resources/data_yolo/images/train/olen_Благородный олень (2).JPG: corrupt JPEG restored and saved\n",
      "\u001b[34m\u001b[1mtrain: \u001b[0mWARNING ⚠️ /home/jupyter/work/resources/data_yolo/images/train/olen_Благородный олень (20).JPG: corrupt JPEG restored and saved\n",
      "\u001b[34m\u001b[1mtrain: \u001b[0mWARNING ⚠️ /home/jupyter/work/resources/data_yolo/images/train/olen_Благородный олень (21).JPG: corrupt JPEG restored and saved\n",
      "\u001b[34m\u001b[1mtrain: \u001b[0mWARNING ⚠️ /home/jupyter/work/resources/data_yolo/images/train/olen_Благородный олень (22).JPG: 1 duplicate labels removed\n",
      "\u001b[34m\u001b[1mtrain: \u001b[0mWARNING ⚠️ /home/jupyter/work/resources/data_yolo/images/train/olen_Благородный олень (26).JPG: corrupt JPEG restored and saved\n",
      "\u001b[34m\u001b[1mtrain: \u001b[0mWARNING ⚠️ /home/jupyter/work/resources/data_yolo/images/train/olen_Благородный олень (28).JPG: corrupt JPEG restored and saved\n",
      "\u001b[34m\u001b[1mtrain: \u001b[0mWARNING ⚠️ /home/jupyter/work/resources/data_yolo/images/train/olen_Благородный олень (29).JPG: 1 duplicate labels removed\n",
      "\u001b[34m\u001b[1mtrain: \u001b[0mWARNING ⚠️ /home/jupyter/work/resources/data_yolo/images/train/olen_Благородный олень (3).JPG: corrupt JPEG restored and saved\n",
      "\u001b[34m\u001b[1mtrain: \u001b[0mWARNING ⚠️ /home/jupyter/work/resources/data_yolo/images/train/olen_Благородный олень (33).JPG: corrupt JPEG restored and saved\n",
      "\u001b[34m\u001b[1mtrain: \u001b[0mWARNING ⚠️ /home/jupyter/work/resources/data_yolo/images/train/olen_Благородный олень (34).JPG: 2 duplicate labels removed\n",
      "\u001b[34m\u001b[1mtrain: \u001b[0mWARNING ⚠️ /home/jupyter/work/resources/data_yolo/images/train/olen_Благородный олень (35).JPG: 1 duplicate labels removed\n",
      "\u001b[34m\u001b[1mtrain: \u001b[0mWARNING ⚠️ /home/jupyter/work/resources/data_yolo/images/train/olen_Благородный олень (37).JPG: 1 duplicate labels removed\n",
      "\u001b[34m\u001b[1mtrain: \u001b[0mWARNING ⚠️ /home/jupyter/work/resources/data_yolo/images/train/olen_Благородный олень (38).JPG: corrupt JPEG restored and saved\n",
      "\u001b[34m\u001b[1mtrain: \u001b[0mWARNING ⚠️ /home/jupyter/work/resources/data_yolo/images/train/olen_Благородный олень (39).JPG: corrupt JPEG restored and saved\n",
      "\u001b[34m\u001b[1mtrain: \u001b[0mWARNING ⚠️ /home/jupyter/work/resources/data_yolo/images/train/olen_Благородный олень (4).JPG: corrupt JPEG restored and saved\n",
      "\u001b[34m\u001b[1mtrain: \u001b[0mWARNING ⚠️ /home/jupyter/work/resources/data_yolo/images/train/olen_Благородный олень (41).JPG: corrupt JPEG restored and saved\n",
      "\u001b[34m\u001b[1mtrain: \u001b[0mWARNING ⚠️ /home/jupyter/work/resources/data_yolo/images/train/olen_Благородный олень (42).JPG: 1 duplicate labels removed\n",
      "\u001b[34m\u001b[1mtrain: \u001b[0mWARNING ⚠️ /home/jupyter/work/resources/data_yolo/images/train/olen_Благородный олень (45).JPG: corrupt JPEG restored and saved\n",
      "\u001b[34m\u001b[1mtrain: \u001b[0mWARNING ⚠️ /home/jupyter/work/resources/data_yolo/images/train/olen_Благородный олень (46).JPG: 1 duplicate labels removed\n",
      "\u001b[34m\u001b[1mtrain: \u001b[0mWARNING ⚠️ /home/jupyter/work/resources/data_yolo/images/train/olen_Благородный олень (48).JPG: corrupt JPEG restored and saved\n",
      "\u001b[34m\u001b[1mtrain: \u001b[0mWARNING ⚠️ /home/jupyter/work/resources/data_yolo/images/train/olen_Благородный олень (5).JPG: corrupt JPEG restored and saved\n",
      "\u001b[34m\u001b[1mtrain: \u001b[0mWARNING ⚠️ /home/jupyter/work/resources/data_yolo/images/train/olen_Благородный олень (50).JPG: 1 duplicate labels removed\n",
      "\u001b[34m\u001b[1mtrain: \u001b[0mWARNING ⚠️ /home/jupyter/work/resources/data_yolo/images/train/olen_Благородный олень (51).JPG: 2 duplicate labels removed\n",
      "\u001b[34m\u001b[1mtrain: \u001b[0mWARNING ⚠️ /home/jupyter/work/resources/data_yolo/images/train/olen_Благородный олень (52).JPG: corrupt JPEG restored and saved\n",
      "\u001b[34m\u001b[1mtrain: \u001b[0mWARNING ⚠️ /home/jupyter/work/resources/data_yolo/images/train/olen_Благородный олень (53).JPG: 1 duplicate labels removed\n",
      "\u001b[34m\u001b[1mtrain: \u001b[0mWARNING ⚠️ /home/jupyter/work/resources/data_yolo/images/train/olen_Благородный олень (58).JPG: corrupt JPEG restored and saved\n",
      "\u001b[34m\u001b[1mtrain: \u001b[0mWARNING ⚠️ /home/jupyter/work/resources/data_yolo/images/train/olen_Благородный олень (6).JPG: corrupt JPEG restored and saved\n",
      "\u001b[34m\u001b[1mtrain: \u001b[0mWARNING ⚠️ /home/jupyter/work/resources/data_yolo/images/train/olen_Благородный олень (60).JPG: corrupt JPEG restored and saved\n",
      "\u001b[34m\u001b[1mtrain: \u001b[0mWARNING ⚠️ /home/jupyter/work/resources/data_yolo/images/train/olen_Благородный олень (61).JPG: corrupt JPEG restored and saved\n",
      "\u001b[34m\u001b[1mtrain: \u001b[0mWARNING ⚠️ /home/jupyter/work/resources/data_yolo/images/train/olen_Благородный олень (62).JPG: 1 duplicate labels removed\n",
      "\u001b[34m\u001b[1mtrain: \u001b[0mWARNING ⚠️ /home/jupyter/work/resources/data_yolo/images/train/olen_Благородный олень (66).JPG: corrupt JPEG restored and saved\n",
      "\u001b[34m\u001b[1mtrain: \u001b[0mWARNING ⚠️ /home/jupyter/work/resources/data_yolo/images/train/olen_Благородный олень (69).JPG: 1 duplicate labels removed\n",
      "\u001b[34m\u001b[1mtrain: \u001b[0mWARNING ⚠️ /home/jupyter/work/resources/data_yolo/images/train/olen_Благородный олень (7).JPG: 2 duplicate labels removed\n",
      "\u001b[34m\u001b[1mtrain: \u001b[0mWARNING ⚠️ /home/jupyter/work/resources/data_yolo/images/train/olen_Благородный олень (70).JPG: corrupt JPEG restored and saved\n",
      "\u001b[34m\u001b[1mtrain: \u001b[0mWARNING ⚠️ /home/jupyter/work/resources/data_yolo/images/train/olen_Благородный олень (72).JPG: corrupt JPEG restored and saved\n",
      "\u001b[34m\u001b[1mtrain: \u001b[0mWARNING ⚠️ /home/jupyter/work/resources/data_yolo/images/train/olen_Благородный олень (73).JPG: corrupt JPEG restored and saved\n",
      "\u001b[34m\u001b[1mtrain: \u001b[0mWARNING ⚠️ /home/jupyter/work/resources/data_yolo/images/train/olen_Благородный олень (75).JPG: corrupt JPEG restored and saved\n",
      "\u001b[34m\u001b[1mtrain: \u001b[0mWARNING ⚠️ /home/jupyter/work/resources/data_yolo/images/train/olen_Благородный олень (77).JPG: 2 duplicate labels removed\n",
      "\u001b[34m\u001b[1mtrain: \u001b[0mWARNING ⚠️ /home/jupyter/work/resources/data_yolo/images/train/olen_Благородный олень (78).JPG: corrupt JPEG restored and saved\n",
      "\u001b[34m\u001b[1mtrain: \u001b[0mWARNING ⚠️ /home/jupyter/work/resources/data_yolo/images/train/olen_Благородный олень (79).JPG: corrupt JPEG restored and saved\n",
      "\u001b[34m\u001b[1mtrain: \u001b[0mWARNING ⚠️ /home/jupyter/work/resources/data_yolo/images/train/olen_Благородный олень (80).JPG: corrupt JPEG restored and saved\n",
      "\u001b[34m\u001b[1mtrain: \u001b[0mWARNING ⚠️ /home/jupyter/work/resources/data_yolo/images/train/olen_Благородный олень (81).JPG: corrupt JPEG restored and saved\n",
      "\u001b[34m\u001b[1mtrain: \u001b[0mWARNING ⚠️ /home/jupyter/work/resources/data_yolo/images/train/olen_Благородный олень (83).JPG: corrupt JPEG restored and saved\n",
      "\u001b[34m\u001b[1mtrain: \u001b[0mWARNING ⚠️ /home/jupyter/work/resources/data_yolo/images/train/olen_Благородный олень (86).JPG: corrupt JPEG restored and saved\n",
      "\u001b[34m\u001b[1mtrain: \u001b[0mWARNING ⚠️ /home/jupyter/work/resources/data_yolo/images/train/olen_Благородный олень (87).JPG: corrupt JPEG restored and saved\n",
      "\u001b[34m\u001b[1mtrain: \u001b[0mWARNING ⚠️ /home/jupyter/work/resources/data_yolo/images/train/olen_Благородный олень (93).JPG: corrupt JPEG restored and saved\n",
      "\u001b[34m\u001b[1mtrain: \u001b[0mWARNING ⚠️ /home/jupyter/work/resources/data_yolo/images/train/olen_Благородный олень (94).JPG: corrupt JPEG restored and saved\n",
      "\u001b[34m\u001b[1mtrain: \u001b[0mWARNING ⚠️ /home/jupyter/work/resources/data_yolo/images/train/olen_Благородный олень (96).JPG: 1 duplicate labels removed\n",
      "\u001b[34m\u001b[1mtrain: \u001b[0mWARNING ⚠️ /home/jupyter/work/resources/data_yolo/images/train/olen_Благородный олень (99).JPG: 1 duplicate labels removed\n",
      "\u001b[34m\u001b[1mtrain: \u001b[0mWARNING ⚠️ /home/jupyter/work/resources/data_yolo/images/train/olen_Благородныйолень_1058.jpg: 1 duplicate labels removed\n",
      "\u001b[34m\u001b[1mtrain: \u001b[0mWARNING ⚠️ /home/jupyter/work/resources/data_yolo/images/train/olen_Благородныйолень_1101.jpg: 1 duplicate labels removed\n",
      "\u001b[34m\u001b[1mtrain: \u001b[0mWARNING ⚠️ /home/jupyter/work/resources/data_yolo/images/train/olen_Благородныйолень_1108.jpg: 1 duplicate labels removed\n",
      "\u001b[34m\u001b[1mtrain: \u001b[0mWARNING ⚠️ /home/jupyter/work/resources/data_yolo/images/train/olen_Благородныйолень_1145.jpg: 1 duplicate labels removed\n",
      "\u001b[34m\u001b[1mtrain: \u001b[0mWARNING ⚠️ /home/jupyter/work/resources/data_yolo/images/train/olen_Благородныйолень_1166.jpg: 1 duplicate labels removed\n",
      "\u001b[34m\u001b[1mtrain: \u001b[0mWARNING ⚠️ /home/jupyter/work/resources/data_yolo/images/train/olen_Благородныйолень_1185.jpg: 1 duplicate labels removed\n",
      "\u001b[34m\u001b[1mtrain: \u001b[0mWARNING ⚠️ /home/jupyter/work/resources/data_yolo/images/train/olen_Благородныйолень_1211.jpg: 1 duplicate labels removed\n",
      "\u001b[34m\u001b[1mtrain: \u001b[0mWARNING ⚠️ /home/jupyter/work/resources/data_yolo/images/train/olen_Благородныйолень_1253.jpg: 1 duplicate labels removed\n",
      "\u001b[34m\u001b[1mtrain: \u001b[0mWARNING ⚠️ /home/jupyter/work/resources/data_yolo/images/train/olen_Благородныйолень_1264.jpg: 1 duplicate labels removed\n",
      "\u001b[34m\u001b[1mtrain: \u001b[0mWARNING ⚠️ /home/jupyter/work/resources/data_yolo/images/train/olen_Благородныйолень_1307.jpg: 1 duplicate labels removed\n",
      "\u001b[34m\u001b[1mtrain: \u001b[0mWARNING ⚠️ /home/jupyter/work/resources/data_yolo/images/train/olen_Благородныйолень_1464.jpg: 1 duplicate labels removed\n",
      "\u001b[34m\u001b[1mtrain: \u001b[0mWARNING ⚠️ /home/jupyter/work/resources/data_yolo/images/train/olen_Благородныйолень_1642.jpg: 2 duplicate labels removed\n",
      "\u001b[34m\u001b[1mtrain: \u001b[0mWARNING ⚠️ /home/jupyter/work/resources/data_yolo/images/train/olen_Благородныйолень_1667.jpg: 1 duplicate labels removed\n",
      "\u001b[34m\u001b[1mtrain: \u001b[0mWARNING ⚠️ /home/jupyter/work/resources/data_yolo/images/train/olen_Благородныйолень_1697.jpg: 5 duplicate labels removed\n",
      "\u001b[34m\u001b[1mtrain: \u001b[0mWARNING ⚠️ /home/jupyter/work/resources/data_yolo/images/train/olen_Благородныйолень_1714.jpg: 1 duplicate labels removed\n",
      "\u001b[34m\u001b[1mtrain: \u001b[0mWARNING ⚠️ /home/jupyter/work/resources/data_yolo/images/train/olen_Благородныйолень_1809.jpg: 4 duplicate labels removed\n",
      "\u001b[34m\u001b[1mtrain: \u001b[0mWARNING ⚠️ /home/jupyter/work/resources/data_yolo/images/train/olen_Благородныйолень_1821.jpg: 1 duplicate labels removed\n",
      "\u001b[34m\u001b[1mtrain: \u001b[0mWARNING ⚠️ /home/jupyter/work/resources/data_yolo/images/train/olen_Благородныйолень_1887.jpg: 1 duplicate labels removed\n",
      "\u001b[34m\u001b[1mtrain: \u001b[0mWARNING ⚠️ /home/jupyter/work/resources/data_yolo/images/train/olen_Благородныйолень_1896.jpg: 3 duplicate labels removed\n",
      "\u001b[34m\u001b[1mtrain: \u001b[0mWARNING ⚠️ /home/jupyter/work/resources/data_yolo/images/train/olen_Благородныйолень_1900.jpg: 1 duplicate labels removed\n",
      "\u001b[34m\u001b[1mtrain: \u001b[0mWARNING ⚠️ /home/jupyter/work/resources/data_yolo/images/train/olen_Благородныйолень_1916.jpg: 1 duplicate labels removed\n",
      "\u001b[34m\u001b[1mtrain: \u001b[0mWARNING ⚠️ /home/jupyter/work/resources/data_yolo/images/train/olen_Благородныйолень_1922.jpg: 2 duplicate labels removed\n",
      "\u001b[34m\u001b[1mtrain: \u001b[0mWARNING ⚠️ /home/jupyter/work/resources/data_yolo/images/train/olen_Благородныйолень_1923.jpg: 3 duplicate labels removed\n",
      "\u001b[34m\u001b[1mtrain: \u001b[0mWARNING ⚠️ /home/jupyter/work/resources/data_yolo/images/train/olen_Благородныйолень_1927.jpg: 2 duplicate labels removed\n",
      "\u001b[34m\u001b[1mtrain: \u001b[0mWARNING ⚠️ /home/jupyter/work/resources/data_yolo/images/train/olen_Благородныйолень_1970.jpg: 3 duplicate labels removed\n",
      "\u001b[34m\u001b[1mtrain: \u001b[0mWARNING ⚠️ /home/jupyter/work/resources/data_yolo/images/train/olen_Благородныйолень_2058.jpg: 2 duplicate labels removed\n",
      "\u001b[34m\u001b[1mtrain: \u001b[0mWARNING ⚠️ /home/jupyter/work/resources/data_yolo/images/train/olen_Благородныйолень_2510.jpg: 10 duplicate labels removed\n",
      "\u001b[34m\u001b[1mtrain: \u001b[0mWARNING ⚠️ /home/jupyter/work/resources/data_yolo/images/train/olen_Благородныйолень_2550.jpg: 2 duplicate labels removed\n",
      "\u001b[34m\u001b[1mtrain: \u001b[0mWARNING ⚠️ /home/jupyter/work/resources/data_yolo/images/train/olen_Благородныйолень_2557.jpg: 5 duplicate labels removed\n",
      "\u001b[34m\u001b[1mtrain: \u001b[0mWARNING ⚠️ /home/jupyter/work/resources/data_yolo/images/train/olen_Благородныйолень_2564.jpg: 3 duplicate labels removed\n",
      "\u001b[34m\u001b[1mtrain: \u001b[0mWARNING ⚠️ /home/jupyter/work/resources/data_yolo/images/train/olen_Благородныйолень_2568.jpg: 2 duplicate labels removed\n",
      "\u001b[34m\u001b[1mtrain: \u001b[0mWARNING ⚠️ /home/jupyter/work/resources/data_yolo/images/train/olen_Благородныйолень_2734.jpg: 1 duplicate labels removed\n",
      "\u001b[34m\u001b[1mtrain: \u001b[0mWARNING ⚠️ /home/jupyter/work/resources/data_yolo/images/train/olen_Благородныйолень_2835.jpg: 1 duplicate labels removed\n",
      "\u001b[34m\u001b[1mtrain: \u001b[0mWARNING ⚠️ /home/jupyter/work/resources/data_yolo/images/train/olen_Благородныйолень_2842.jpg: 1 duplicate labels removed\n",
      "\u001b[34m\u001b[1mtrain: \u001b[0mWARNING ⚠️ /home/jupyter/work/resources/data_yolo/images/train/olen_Благородныйолень_2855.jpg: 1 duplicate labels removed\n",
      "\u001b[34m\u001b[1mtrain: \u001b[0mWARNING ⚠️ /home/jupyter/work/resources/data_yolo/images/train/olen_Благородныйолень_2975.jpg: 1 duplicate labels removed\n",
      "\u001b[34m\u001b[1mtrain: \u001b[0mWARNING ⚠️ /home/jupyter/work/resources/data_yolo/images/train/olen_Благородныйолень_2976.jpg: 1 duplicate labels removed\n",
      "\u001b[34m\u001b[1mtrain: \u001b[0mWARNING ⚠️ /home/jupyter/work/resources/data_yolo/images/train/olen_Благородныйолень_2983.jpg: 2 duplicate labels removed\n",
      "\u001b[34m\u001b[1mtrain: \u001b[0mWARNING ⚠️ /home/jupyter/work/resources/data_yolo/images/train/olen_Благородныйолень_2984.jpg: 1 duplicate labels removed\n",
      "\u001b[34m\u001b[1mtrain: \u001b[0mWARNING ⚠️ /home/jupyter/work/resources/data_yolo/images/train/olen_Благородныйолень_2986.jpg: 1 duplicate labels removed\n",
      "\u001b[34m\u001b[1mtrain: \u001b[0mWARNING ⚠️ /home/jupyter/work/resources/data_yolo/images/train/olen_Благородныйолень_300.jpg: 3 duplicate labels removed\n",
      "\u001b[34m\u001b[1mtrain: \u001b[0mWARNING ⚠️ /home/jupyter/work/resources/data_yolo/images/train/olen_Олени Веселовское лесничнство.JPG: 2 duplicate labels removed\n",
      "\u001b[34m\u001b[1mtrain: \u001b[0mWARNING ⚠️ /home/jupyter/work/resources/data_yolo/images/train/olen_Олени пятн2.JPG: 4 duplicate labels removed\n",
      "\u001b[34m\u001b[1mtrain: \u001b[0mWARNING ⚠️ /home/jupyter/work/resources/data_yolo/images/train/olen_ОлениPTDC0008.JPG: corrupt JPEG restored and saved\n",
      "\u001b[34m\u001b[1mtrain: \u001b[0mWARNING ⚠️ /home/jupyter/work/resources/data_yolo/images/train/olen_ОлениPTDC0009.JPG: corrupt JPEG restored and saved\n",
      "\u001b[34m\u001b[1mtrain: \u001b[0mWARNING ⚠️ /home/jupyter/work/resources/data_yolo/images/train/olen_ОлениPTDC0016.JPG: 1 duplicate labels removed\n",
      "\u001b[34m\u001b[1mtrain: \u001b[0mWARNING ⚠️ /home/jupyter/work/resources/data_yolo/images/train/olen_ОлениPTDC0027.JPG: 1 duplicate labels removed\n",
      "\u001b[34m\u001b[1mtrain: \u001b[0mWARNING ⚠️ /home/jupyter/work/resources/data_yolo/images/train/olen_ОлениPTDC0028.JPG: corrupt JPEG restored and saved\n",
      "\u001b[34m\u001b[1mtrain: \u001b[0mWARNING ⚠️ /home/jupyter/work/resources/data_yolo/images/train/olen_ОлениPTDC0030.JPG: corrupt JPEG restored and saved\n",
      "\u001b[34m\u001b[1mtrain: \u001b[0mWARNING ⚠️ /home/jupyter/work/resources/data_yolo/images/train/olen_ОлениPTDC0035.JPG: 3 duplicate labels removed\n",
      "\u001b[34m\u001b[1mtrain: \u001b[0mWARNING ⚠️ /home/jupyter/work/resources/data_yolo/images/train/olen_ОлениPTDC0036.JPG: 5 duplicate labels removed\n",
      "\u001b[34m\u001b[1mtrain: \u001b[0mWARNING ⚠️ /home/jupyter/work/resources/data_yolo/images/train/olen_ОлениPTDC0037.JPG: 2 duplicate labels removed\n",
      "\u001b[34m\u001b[1mtrain: \u001b[0mWARNING ⚠️ /home/jupyter/work/resources/data_yolo/images/train/olen_ОлениPTDC0038.JPG: 1 duplicate labels removed\n",
      "\u001b[34m\u001b[1mtrain: \u001b[0mWARNING ⚠️ /home/jupyter/work/resources/data_yolo/images/train/olen_ОлениPTDC0039.JPG: 2 duplicate labels removed\n",
      "\u001b[34m\u001b[1mtrain: \u001b[0mWARNING ⚠️ /home/jupyter/work/resources/data_yolo/images/train/olen_ОлениPTDC0040.JPG: 1 duplicate labels removed\n",
      "\u001b[34m\u001b[1mtrain: \u001b[0mWARNING ⚠️ /home/jupyter/work/resources/data_yolo/images/train/olen_ОлениPTDC0041.JPG: 4 duplicate labels removed\n",
      "\u001b[34m\u001b[1mtrain: \u001b[0mWARNING ⚠️ /home/jupyter/work/resources/data_yolo/images/train/olen_ОлениPTDC0042.JPG: 3 duplicate labels removed\n",
      "\u001b[34m\u001b[1mtrain: \u001b[0mWARNING ⚠️ /home/jupyter/work/resources/data_yolo/images/train/olen_ОлениPTDC0043.JPG: 3 duplicate labels removed\n",
      "\u001b[34m\u001b[1mtrain: \u001b[0mWARNING ⚠️ /home/jupyter/work/resources/data_yolo/images/train/olen_ОлениPTDC0044.JPG: 4 duplicate labels removed\n",
      "\u001b[34m\u001b[1mtrain: \u001b[0mWARNING ⚠️ /home/jupyter/work/resources/data_yolo/images/train/olen_ОлениPTDC0047.JPG: 2 duplicate labels removed\n",
      "\u001b[34m\u001b[1mtrain: \u001b[0mWARNING ⚠️ /home/jupyter/work/resources/data_yolo/images/train/olen_ОлениPTDC0048.JPG: 1 duplicate labels removed\n",
      "\u001b[34m\u001b[1mtrain: \u001b[0mWARNING ⚠️ /home/jupyter/work/resources/data_yolo/images/train/olen_ОлениPTDC0049.JPG: 1 duplicate labels removed\n",
      "\u001b[34m\u001b[1mtrain: \u001b[0mWARNING ⚠️ /home/jupyter/work/resources/data_yolo/images/train/olen_ОлениPTDC0050.JPG: 2 duplicate labels removed\n",
      "\u001b[34m\u001b[1mtrain: \u001b[0mWARNING ⚠️ /home/jupyter/work/resources/data_yolo/images/train/olen_ОлениPTDC0051.JPG: 2 duplicate labels removed\n",
      "\u001b[34m\u001b[1mtrain: \u001b[0mWARNING ⚠️ /home/jupyter/work/resources/data_yolo/images/train/olen_ОлениPTDC0052.JPG: corrupt JPEG restored and saved\n",
      "\u001b[34m\u001b[1mtrain: \u001b[0mWARNING ⚠️ /home/jupyter/work/resources/data_yolo/images/train/olen_ОлениPTDC0058.JPG: corrupt JPEG restored and saved\n",
      "\u001b[34m\u001b[1mtrain: \u001b[0mWARNING ⚠️ /home/jupyter/work/resources/data_yolo/images/train/olen_ОлениPTDC0218.JPG: 2 duplicate labels removed\n",
      "\u001b[34m\u001b[1mtrain: \u001b[0mWARNING ⚠️ /home/jupyter/work/resources/data_yolo/images/train/olen_ОлениPTDC0219.JPG: 2 duplicate labels removed\n",
      "\u001b[34m\u001b[1mtrain: \u001b[0mWARNING ⚠️ /home/jupyter/work/resources/data_yolo/images/train/olen_ОлениPTDC0222.JPG: corrupt JPEG restored and saved\n",
      "\u001b[34m\u001b[1mtrain: \u001b[0mWARNING ⚠️ /home/jupyter/work/resources/data_yolo/images/train/olen_ОленьPTDC0018.JPG: 1 duplicate labels removed\n",
      "\u001b[34m\u001b[1mtrain: \u001b[0mWARNING ⚠️ /home/jupyter/work/resources/data_yolo/images/train/olen_ОленьPTDC0020.JPG: 1 duplicate labels removed\n",
      "\u001b[34m\u001b[1mtrain: \u001b[0mWARNING ⚠️ /home/jupyter/work/resources/data_yolo/images/train/olen_ОленьPTDC0021.JPG: 1 duplicate labels removed\n",
      "\u001b[34m\u001b[1mtrain: \u001b[0mWARNING ⚠️ /home/jupyter/work/resources/data_yolo/images/train/olen_ОленьPTDC0087.JPG: corrupt JPEG restored and saved\n",
      "\u001b[34m\u001b[1mtrain: \u001b[0mWARNING ⚠️ /home/jupyter/work/resources/data_yolo/images/train/olen_Олень_PTDC0223.JPG: corrupt JPEG restored and saved\n",
      "\u001b[34m\u001b[1mtrain: \u001b[0mWARNING ⚠️ /home/jupyter/work/resources/data_yolo/images/train/olen_Олень_PTDC0228.JPG: corrupt JPEG restored and saved\n",
      "\u001b[34m\u001b[1mtrain: \u001b[0mWARNING ⚠️ /home/jupyter/work/resources/data_yolo/images/train/olen_Олень_PTDC0256.JPG: 1 duplicate labels removed\n",
      "\u001b[34m\u001b[1mtrain: \u001b[0mWARNING ⚠️ /home/jupyter/work/resources/data_yolo/images/train/olen_Олень_PTDC0261.JPG: 1 duplicate labels removed\n",
      "\u001b[34m\u001b[1mtrain: \u001b[0mWARNING ⚠️ /home/jupyter/work/resources/data_yolo/images/train/olen_Олень_PTDC0262.JPG: corrupt JPEG restored and saved\n",
      "\u001b[34m\u001b[1mtrain: \u001b[0mWARNING ⚠️ /home/jupyter/work/resources/data_yolo/images/train/olen_Олень_PTDC0264.JPG: 1 duplicate labels removed\n",
      "\u001b[34m\u001b[1mtrain: \u001b[0mWARNING ⚠️ /home/jupyter/work/resources/data_yolo/images/train/olen_Олень_PTDC0278.JPG: 1 duplicate labels removed\n",
      "\u001b[34m\u001b[1mtrain: \u001b[0mWARNING ⚠️ /home/jupyter/work/resources/data_yolo/images/train/olen_Олень_PTDC0279.JPG: corrupt JPEG restored and saved\n",
      "\u001b[34m\u001b[1mtrain: \u001b[0mWARNING ⚠️ /home/jupyter/work/resources/data_yolo/images/train/olen_Олень_PTDC0283.JPG: 1 duplicate labels removed\n",
      "\u001b[34m\u001b[1mtrain: \u001b[0mWARNING ⚠️ /home/jupyter/work/resources/data_yolo/images/train/olen_Олень_PTDC0284.JPG: corrupt JPEG restored and saved\n",
      "\u001b[34m\u001b[1mtrain: \u001b[0mWARNING ⚠️ /home/jupyter/work/resources/data_yolo/images/train/olen_Олень_PTDC0289.JPG: corrupt JPEG restored and saved\n",
      "\u001b[34m\u001b[1mtrain: \u001b[0mWARNING ⚠️ /home/jupyter/work/resources/data_yolo/images/train/olen_Олень_PTDC0291.JPG: corrupt JPEG restored and saved\n",
      "\u001b[34m\u001b[1mtrain: \u001b[0mWARNING ⚠️ /home/jupyter/work/resources/data_yolo/images/train/olen_Олень_PTDC0339.JPG: corrupt JPEG restored and saved\n",
      "\u001b[34m\u001b[1mtrain: \u001b[0mWARNING ⚠️ /home/jupyter/work/resources/data_yolo/images/train/olen_Северный олень (10).JPG: 1 duplicate labels removed\n",
      "\u001b[34m\u001b[1mtrain: \u001b[0mWARNING ⚠️ /home/jupyter/work/resources/data_yolo/images/train/olen_Северный олень (11).JPG: corrupt JPEG restored and saved\n",
      "\u001b[34m\u001b[1mtrain: \u001b[0mWARNING ⚠️ /home/jupyter/work/resources/data_yolo/images/train/olen_Северный олень (12).JPG: 2 duplicate labels removed\n",
      "\u001b[34m\u001b[1mtrain: \u001b[0mWARNING ⚠️ /home/jupyter/work/resources/data_yolo/images/train/olen_Северный олень (13).JPG: 1 duplicate labels removed\n",
      "\u001b[34m\u001b[1mtrain: \u001b[0mWARNING ⚠️ /home/jupyter/work/resources/data_yolo/images/train/olen_Северный олень (14).JPG: corrupt JPEG restored and saved\n",
      "\u001b[34m\u001b[1mtrain: \u001b[0mWARNING ⚠️ /home/jupyter/work/resources/data_yolo/images/train/olen_Северный олень (16).JPG: corrupt JPEG restored and saved\n",
      "\u001b[34m\u001b[1mtrain: \u001b[0mWARNING ⚠️ /home/jupyter/work/resources/data_yolo/images/train/olen_Северный олень (17).JPG: 1 duplicate labels removed\n",
      "\u001b[34m\u001b[1mtrain: \u001b[0mWARNING ⚠️ /home/jupyter/work/resources/data_yolo/images/train/olen_Северный олень (20).JPG: corrupt JPEG restored and saved\n",
      "\u001b[34m\u001b[1mtrain: \u001b[0mWARNING ⚠️ /home/jupyter/work/resources/data_yolo/images/train/olen_Северный олень (21).JPG: 1 duplicate labels removed\n",
      "\u001b[34m\u001b[1mtrain: \u001b[0mWARNING ⚠️ /home/jupyter/work/resources/data_yolo/images/train/olen_Северный олень (22).JPG: 1 duplicate labels removed\n",
      "\u001b[34m\u001b[1mtrain: \u001b[0mWARNING ⚠️ /home/jupyter/work/resources/data_yolo/images/train/olen_Северный олень (23).JPG: 1 duplicate labels removed\n",
      "\u001b[34m\u001b[1mtrain: \u001b[0mWARNING ⚠️ /home/jupyter/work/resources/data_yolo/images/train/olen_Северный олень (24).JPG: corrupt JPEG restored and saved\n",
      "\u001b[34m\u001b[1mtrain: \u001b[0mWARNING ⚠️ /home/jupyter/work/resources/data_yolo/images/train/olen_Северный олень (25).JPG: corrupt JPEG restored and saved\n",
      "\u001b[34m\u001b[1mtrain: \u001b[0mWARNING ⚠️ /home/jupyter/work/resources/data_yolo/images/train/olen_Северный олень (28).JPG: 2 duplicate labels removed\n",
      "\u001b[34m\u001b[1mtrain: \u001b[0mWARNING ⚠️ /home/jupyter/work/resources/data_yolo/images/train/olen_Северный олень (29).JPG: 1 duplicate labels removed\n",
      "\u001b[34m\u001b[1mtrain: \u001b[0mWARNING ⚠️ /home/jupyter/work/resources/data_yolo/images/train/olen_Северный олень (3).JPG: corrupt JPEG restored and saved\n",
      "\u001b[34m\u001b[1mtrain: \u001b[0mWARNING ⚠️ /home/jupyter/work/resources/data_yolo/images/train/olen_Северный олень (30).JPG: 1 duplicate labels removed\n",
      "\u001b[34m\u001b[1mtrain: \u001b[0mWARNING ⚠️ /home/jupyter/work/resources/data_yolo/images/train/olen_Северный олень (31).JPG: 2 duplicate labels removed\n",
      "\u001b[34m\u001b[1mtrain: \u001b[0mWARNING ⚠️ /home/jupyter/work/resources/data_yolo/images/train/olen_Северный олень (32).JPG: 1 duplicate labels removed\n",
      "\u001b[34m\u001b[1mtrain: \u001b[0mWARNING ⚠️ /home/jupyter/work/resources/data_yolo/images/train/olen_Северный олень (37).JPG: corrupt JPEG restored and saved\n",
      "\u001b[34m\u001b[1mtrain: \u001b[0mWARNING ⚠️ /home/jupyter/work/resources/data_yolo/images/train/olen_Северный олень (38).JPG: 1 duplicate labels removed\n",
      "\u001b[34m\u001b[1mtrain: \u001b[0mWARNING ⚠️ /home/jupyter/work/resources/data_yolo/images/train/olen_Северный олень (39).JPG: corrupt JPEG restored and saved\n",
      "\u001b[34m\u001b[1mtrain: \u001b[0mWARNING ⚠️ /home/jupyter/work/resources/data_yolo/images/train/olen_Северный олень (43).JPG: corrupt JPEG restored and saved\n",
      "\u001b[34m\u001b[1mtrain: \u001b[0mWARNING ⚠️ /home/jupyter/work/resources/data_yolo/images/train/olen_Северный олень (46).JPG: corrupt JPEG restored and saved\n",
      "\u001b[34m\u001b[1mtrain: \u001b[0mWARNING ⚠️ /home/jupyter/work/resources/data_yolo/images/train/olen_Северный олень (47).JPG: corrupt JPEG restored and saved\n",
      "\u001b[34m\u001b[1mtrain: \u001b[0mWARNING ⚠️ /home/jupyter/work/resources/data_yolo/images/train/olen_Северный олень (49).JPG: corrupt JPEG restored and saved\n",
      "\u001b[34m\u001b[1mtrain: \u001b[0mWARNING ⚠️ /home/jupyter/work/resources/data_yolo/images/train/olen_Северный олень (5).JPG: 3 duplicate labels removed\n",
      "\u001b[34m\u001b[1mtrain: \u001b[0mWARNING ⚠️ /home/jupyter/work/resources/data_yolo/images/train/olen_Северный олень (50).JPG: corrupt JPEG restored and saved\n",
      "\u001b[34m\u001b[1mtrain: \u001b[0mWARNING ⚠️ /home/jupyter/work/resources/data_yolo/images/train/olen_Северный олень (53).JPG: corrupt JPEG restored and saved\n",
      "\u001b[34m\u001b[1mtrain: \u001b[0mWARNING ⚠️ /home/jupyter/work/resources/data_yolo/images/train/olen_Северный олень (55).JPG: corrupt JPEG restored and saved\n",
      "\u001b[34m\u001b[1mtrain: \u001b[0mWARNING ⚠️ /home/jupyter/work/resources/data_yolo/images/train/olen_Северный олень (59).JPG: 1 duplicate labels removed\n",
      "\u001b[34m\u001b[1mtrain: \u001b[0mWARNING ⚠️ /home/jupyter/work/resources/data_yolo/images/train/olen_Северный олень (60).JPG: corrupt JPEG restored and saved\n",
      "\u001b[34m\u001b[1mtrain: \u001b[0mWARNING ⚠️ /home/jupyter/work/resources/data_yolo/images/train/olen_Северный олень (61).JPG: corrupt JPEG restored and saved\n",
      "\u001b[34m\u001b[1mtrain: \u001b[0mWARNING ⚠️ /home/jupyter/work/resources/data_yolo/images/train/olen_Северный олень (64).JPG: corrupt JPEG restored and saved\n",
      "\u001b[34m\u001b[1mtrain: \u001b[0mWARNING ⚠️ /home/jupyter/work/resources/data_yolo/images/train/olen_Северный олень (65).JPG: corrupt JPEG restored and saved\n",
      "\u001b[34m\u001b[1mtrain: \u001b[0mWARNING ⚠️ /home/jupyter/work/resources/data_yolo/images/train/olen_Северный олень (66).JPG: corrupt JPEG restored and saved\n",
      "\u001b[34m\u001b[1mtrain: \u001b[0mWARNING ⚠️ /home/jupyter/work/resources/data_yolo/images/train/olen_Северный олень (67).JPG: corrupt JPEG restored and saved\n",
      "\u001b[34m\u001b[1mtrain: \u001b[0mWARNING ⚠️ /home/jupyter/work/resources/data_yolo/images/train/olen_Северный олень (68).JPG: corrupt JPEG restored and saved\n",
      "\u001b[34m\u001b[1mtrain: \u001b[0mWARNING ⚠️ /home/jupyter/work/resources/data_yolo/images/train/olen_Северный олень (69).JPG: corrupt JPEG restored and saved\n",
      "\u001b[34m\u001b[1mtrain: \u001b[0mWARNING ⚠️ /home/jupyter/work/resources/data_yolo/images/train/olen_Северный олень (7).JPG: 1 duplicate labels removed\n",
      "\u001b[34m\u001b[1mtrain: \u001b[0mWARNING ⚠️ /home/jupyter/work/resources/data_yolo/images/train/olen_Северный олень (81).JPG: 1 duplicate labels removed\n",
      "\u001b[34m\u001b[1mtrain: \u001b[0mWARNING ⚠️ /home/jupyter/work/resources/data_yolo/images/train/olen_Северный олень (82).JPG: corrupt JPEG restored and saved\n",
      "\u001b[34m\u001b[1mtrain: \u001b[0mWARNING ⚠️ /home/jupyter/work/resources/data_yolo/images/train/olen_Северный олень (84).JPG: corrupt JPEG restored and saved\n",
      "\u001b[34m\u001b[1mtrain: \u001b[0mWARNING ⚠️ /home/jupyter/work/resources/data_yolo/images/train/olen_Северный олень (86).JPG: corrupt JPEG restored and saved\n",
      "\u001b[34m\u001b[1mtrain: \u001b[0mWARNING ⚠️ /home/jupyter/work/resources/data_yolo/images/train/olen_Северный олень (9).JPG: 1 duplicate labels removed\n",
      "\u001b[34m\u001b[1mtrain: \u001b[0mWARNING ⚠️ /home/jupyter/work/resources/data_yolo/images/train/olen_Северный олень (93).JPG: corrupt JPEG restored and saved\n",
      "\u001b[34m\u001b[1mtrain: \u001b[0mWARNING ⚠️ /home/jupyter/work/resources/data_yolo/images/train/olen_Северный олень (95).JPG: corrupt JPEG restored and saved\n",
      "\u001b[34m\u001b[1mtrain: \u001b[0mWARNING ⚠️ /home/jupyter/work/resources/data_yolo/images/train/olen_Снимок экрана 2024-05-18 023211.jpg: 2 duplicate labels removed\n",
      "\u001b[34m\u001b[1mtrain: \u001b[0mWARNING ⚠️ /home/jupyter/work/resources/data_yolo/images/train/olen_Снимок экрана 2024-05-18 023311.jpg: 2 duplicate labels removed\n",
      "\u001b[34m\u001b[1mtrain: \u001b[0mWARNING ⚠️ /home/jupyter/work/resources/data_yolo/images/train/olen_╨С╨╗╨░╨│╨╛╤А╨╛╨┤╨╜╤Л╨╣╨╛╨╗╨╡╨╜╤М_1147.jpg: ignoring corrupt image/label: non-normalized or out of bounds coordinates [     1.0355]\n",
      "\u001b[34m\u001b[1mtrain: \u001b[0mWARNING ⚠️ /home/jupyter/work/resources/data_yolo/images/train/olen_╨С╨╗╨░╨│╨╛╤А╨╛╨┤╨╜╤Л╨╣╨╛╨╗╨╡╨╜╤М_1372.jpg: ignoring corrupt image/label: non-normalized or out of bounds coordinates [     1.0736]\n",
      "\u001b[34m\u001b[1mtrain: \u001b[0mWARNING ⚠️ /home/jupyter/work/resources/data_yolo/images/train/olen_╨С╨╗╨░╨│╨╛╤А╨╛╨┤╨╜╤Л╨╣╨╛╨╗╨╡╨╜╤М_1697.jpg: ignoring corrupt image/label: non-normalized or out of bounds coordinates [     1.0964]\n",
      "\u001b[34m\u001b[1mtrain: \u001b[0mWARNING ⚠️ /home/jupyter/work/resources/data_yolo/images/train/olen_╨С╨╗╨░╨│╨╛╤А╨╛╨┤╨╜╤Л╨╣╨╛╨╗╨╡╨╜╤М_1808.jpg: ignoring corrupt image/label: non-normalized or out of bounds coordinates [     1.1468]\n",
      "\u001b[34m\u001b[1mtrain: \u001b[0mWARNING ⚠️ /home/jupyter/work/resources/data_yolo/images/train/olen_╨С╨╗╨░╨│╨╛╤А╨╛╨┤╨╜╤Л╨╣╨╛╨╗╨╡╨╜╤М_1809.jpg: ignoring corrupt image/label: non-normalized or out of bounds coordinates [     1.3329]\n",
      "\u001b[34m\u001b[1mtrain: \u001b[0mWARNING ⚠️ /home/jupyter/work/resources/data_yolo/images/train/olen_╨С╨╗╨░╨│╨╛╤А╨╛╨┤╨╜╤Л╨╣╨╛╨╗╨╡╨╜╤М_1927.jpg: ignoring corrupt image/label: non-normalized or out of bounds coordinates [     1.0893]\n",
      "\u001b[34m\u001b[1mtrain: \u001b[0mWARNING ⚠️ /home/jupyter/work/resources/data_yolo/images/train/olen_╨С╨╗╨░╨│╨╛╤А╨╛╨┤╨╜╤Л╨╣╨╛╨╗╨╡╨╜╤М_1944.jpg: ignoring corrupt image/label: non-normalized or out of bounds coordinates [     1.0118]\n",
      "\u001b[34m\u001b[1mtrain: \u001b[0mWARNING ⚠️ /home/jupyter/work/resources/data_yolo/images/train/olen_╨С╨╗╨░╨│╨╛╤А╨╛╨┤╨╜╤Л╨╣╨╛╨╗╨╡╨╜╤М_1953.jpg: ignoring corrupt image/label: non-normalized or out of bounds coordinates [     1.0072]\n",
      "\u001b[34m\u001b[1mtrain: \u001b[0mWARNING ⚠️ /home/jupyter/work/resources/data_yolo/images/train/olen_╨С╨╗╨░╨│╨╛╤А╨╛╨┤╨╜╤Л╨╣╨╛╨╗╨╡╨╜╤М_1956.jpg: ignoring corrupt image/label: non-normalized or out of bounds coordinates [     1.0992]\n",
      "\u001b[34m\u001b[1mtrain: \u001b[0mWARNING ⚠️ /home/jupyter/work/resources/data_yolo/images/train/olen_╨С╨╗╨░╨│╨╛╤А╨╛╨┤╨╜╤Л╨╣╨╛╨╗╨╡╨╜╤М_1960.jpg: ignoring corrupt image/label: non-normalized or out of bounds coordinates [     1.0292]\n",
      "\u001b[34m\u001b[1mtrain: \u001b[0mWARNING ⚠️ /home/jupyter/work/resources/data_yolo/images/train/olen_╨С╨╗╨░╨│╨╛╤А╨╛╨┤╨╜╤Л╨╣╨╛╨╗╨╡╨╜╤М_2019.jpg: ignoring corrupt image/label: non-normalized or out of bounds coordinates [     1.3629]\n",
      "\u001b[34m\u001b[1mtrain: \u001b[0mWARNING ⚠️ /home/jupyter/work/resources/data_yolo/images/train/olen_╨С╨╗╨░╨│╨╛╤А╨╛╨┤╨╜╤Л╨╣╨╛╨╗╨╡╨╜╤М_2859.jpg: ignoring corrupt image/label: non-normalized or out of bounds coordinates [     1.1712]\n",
      "\u001b[34m\u001b[1mtrain: \u001b[0mWARNING ⚠️ /home/jupyter/work/resources/data_yolo/images/train/olen_╨С╨╗╨░╨│╨╛╤А╨╛╨┤╨╜╤Л╨╣╨╛╨╗╨╡╨╜╤М_2964.jpg: ignoring corrupt image/label: non-normalized or out of bounds coordinates [     1.0398]\n",
      "\u001b[34m\u001b[1mtrain: \u001b[0mWARNING ⚠️ /home/jupyter/work/resources/data_yolo/images/train/olen_╨С╨╗╨░╨│╨╛╤А╨╛╨┤╨╜╤Л╨╣╨╛╨╗╨╡╨╜╤М_2980.jpg: ignoring corrupt image/label: non-normalized or out of bounds coordinates [     1.0189]\n",
      "\u001b[34m\u001b[1mtrain: \u001b[0mWARNING ⚠️ /home/jupyter/work/resources/data_yolo/images/train/olen_╨С╨╗╨░╨│╨╛╤А╨╛╨┤╨╜╤Л╨╣╨╛╨╗╨╡╨╜╤М_2998.jpg: ignoring corrupt image/label: non-normalized or out of bounds coordinates [     1.1257]\n",
      "\u001b[34m\u001b[1mtrain: \u001b[0mWARNING ⚠️ /home/jupyter/work/resources/data_yolo/images/train/olen_╨С╨╗╨░╨│╨╛╤А╨╛╨┤╨╜╤Л╨╣╨╛╨╗╨╡╨╜╤М_3001.jpg: ignoring corrupt image/label: non-normalized or out of bounds coordinates [     1.1547      1.1716]\n",
      "WARNING ⚠️ Box and segment counts should be equal, but got len(segments) = 54, len(boxes) = 5275. To resolve this only boxes will be used and all segments will be removed. To avoid this please supply either a detect or segment dataset, not a detect-segment mixed dataset.\n"
     ]
    },
    {
     "name": "stderr",
     "output_type": "stream",
     "text": [
      "\n"
     ]
    },
    {
     "name": "stdout",
     "output_type": "stream",
     "text": [
      "\u001b[34m\u001b[1malbumentations: \u001b[0mBlur(p=0.01, blur_limit=(3, 7)), MedianBlur(p=0.01, blur_limit=(3, 7)), ToGray(p=0.01), CLAHE(p=0.01, clip_limit=(1, 4.0), tile_grid_size=(8, 8))\n"
     ]
    },
    {
     "name": "stderr",
     "output_type": "stream",
     "text": [
      "\u001b[34m\u001b[1mval: \u001b[0mScanning /home/jupyter/work/resources/data_yolo/labels/val... 1313 images, 0 backgrounds, 3 corrupt: 100%|██████████| 1313/1313 [00:21<00:00, 60.30it/s] "
     ]
    },
    {
     "name": "stdout",
     "output_type": "stream",
     "text": [
      "\u001b[34m\u001b[1mval: \u001b[0mWARNING ⚠️ /home/jupyter/work/resources/data_yolo/images/val/cabarga_11-10.jpg: 2 duplicate labels removed\n",
      "\u001b[34m\u001b[1mval: \u001b[0mWARNING ⚠️ /home/jupyter/work/resources/data_yolo/images/val/cabarga_28 IMG_0187.JPG: 1 duplicate labels removed\n",
      "\u001b[34m\u001b[1mval: \u001b[0mWARNING ⚠️ /home/jupyter/work/resources/data_yolo/images/val/cabarga_9.jpg: 2 duplicate labels removed\n",
      "\u001b[34m\u001b[1mval: \u001b[0mWARNING ⚠️ /home/jupyter/work/resources/data_yolo/images/val/cabarga_IMAG0045.JPG: 2 duplicate labels removed\n",
      "\u001b[34m\u001b[1mval: \u001b[0mWARNING ⚠️ /home/jupyter/work/resources/data_yolo/images/val/cabarga_IMG_0511_1.JPG: 1 duplicate labels removed\n",
      "\u001b[34m\u001b[1mval: \u001b[0mWARNING ⚠️ /home/jupyter/work/resources/data_yolo/images/val/cabarga_IMG_0513.JPG: 1 duplicate labels removed\n",
      "\u001b[34m\u001b[1mval: \u001b[0mWARNING ⚠️ /home/jupyter/work/resources/data_yolo/images/val/cabarga_IMG_0591.JPG: 1 duplicate labels removed\n",
      "\u001b[34m\u001b[1mval: \u001b[0mWARNING ⚠️ /home/jupyter/work/resources/data_yolo/images/val/cabarga_IMG_0598.JPG: 1 duplicate labels removed\n",
      "\u001b[34m\u001b[1mval: \u001b[0mWARNING ⚠️ /home/jupyter/work/resources/data_yolo/images/val/cabarga_IMG_0610.JPG: 1 duplicate labels removed\n",
      "\u001b[34m\u001b[1mval: \u001b[0mWARNING ⚠️ /home/jupyter/work/resources/data_yolo/images/val/cabarga_IMG_3658.JPG: 1 duplicate labels removed\n",
      "\u001b[34m\u001b[1mval: \u001b[0mWARNING ⚠️ /home/jupyter/work/resources/data_yolo/images/val/cabarga_IMG_3713.JPG: 2 duplicate labels removed\n",
      "\u001b[34m\u001b[1mval: \u001b[0mWARNING ⚠️ /home/jupyter/work/resources/data_yolo/images/val/cabarga_Im_0029295.jpg: 1 duplicate labels removed\n",
      "\u001b[34m\u001b[1mval: \u001b[0mWARNING ⚠️ /home/jupyter/work/resources/data_yolo/images/val/cabarga_Im_0033068.jpg: 2 duplicate labels removed\n",
      "\u001b[34m\u001b[1mval: \u001b[0mWARNING ⚠️ /home/jupyter/work/resources/data_yolo/images/val/cabarga_Im_0043485.jpg: 2 duplicate labels removed\n",
      "\u001b[34m\u001b[1mval: \u001b[0mWARNING ⚠️ /home/jupyter/work/resources/data_yolo/images/val/cabarga_Im_0046199.jpg: 2 duplicate labels removed\n",
      "\u001b[34m\u001b[1mval: \u001b[0mWARNING ⚠️ /home/jupyter/work/resources/data_yolo/images/val/cabarga_Kabarga.jpg: 1 duplicate labels removed\n",
      "\u001b[34m\u001b[1mval: \u001b[0mWARNING ⚠️ /home/jupyter/work/resources/data_yolo/images/val/cabarga_P1730151.JPG: 1 duplicate labels removed\n",
      "\u001b[34m\u001b[1mval: \u001b[0mWARNING ⚠️ /home/jupyter/work/resources/data_yolo/images/val/cabarga_aa9a5f1cc6ab2fff56239e8fde63889e.png: 1 duplicate labels removed\n",
      "\u001b[34m\u001b[1mval: \u001b[0mWARNING ⚠️ /home/jupyter/work/resources/data_yolo/images/val/cabarga_kabarga1-e1413488909528.jpg: 1 duplicate labels removed\n",
      "\u001b[34m\u001b[1mval: \u001b[0mWARNING ⚠️ /home/jupyter/work/resources/data_yolo/images/val/cabarga_pik9.jpg: 1 duplicate labels removed\n",
      "\u001b[34m\u001b[1mval: \u001b[0mWARNING ⚠️ /home/jupyter/work/resources/data_yolo/images/val/cabarga_s1200.jpg: 1 duplicate labels removed\n",
      "\u001b[34m\u001b[1mval: \u001b[0mWARNING ⚠️ /home/jupyter/work/resources/data_yolo/images/val/cabarga_Кабарга19.JPG: 1 duplicate labels removed\n",
      "\u001b[34m\u001b[1mval: \u001b[0mWARNING ⚠️ /home/jupyter/work/resources/data_yolo/images/val/cabarga_Кабарга__105.jpg: 1 duplicate labels removed\n",
      "\u001b[34m\u001b[1mval: \u001b[0mWARNING ⚠️ /home/jupyter/work/resources/data_yolo/images/val/cabarga_Кабарга__1074.jpg: 2 duplicate labels removed\n",
      "\u001b[34m\u001b[1mval: \u001b[0mWARNING ⚠️ /home/jupyter/work/resources/data_yolo/images/val/cabarga_Кабарга__110.jpg: 1 duplicate labels removed\n",
      "\u001b[34m\u001b[1mval: \u001b[0mWARNING ⚠️ /home/jupyter/work/resources/data_yolo/images/val/cabarga_Кабарга__1134.jpg: 1 duplicate labels removed\n",
      "\u001b[34m\u001b[1mval: \u001b[0mWARNING ⚠️ /home/jupyter/work/resources/data_yolo/images/val/cabarga_Кабарга__1179.jpg: 1 duplicate labels removed\n",
      "\u001b[34m\u001b[1mval: \u001b[0mWARNING ⚠️ /home/jupyter/work/resources/data_yolo/images/val/cabarga_Кабарга__1266.jpg: 1 duplicate labels removed\n",
      "\u001b[34m\u001b[1mval: \u001b[0mWARNING ⚠️ /home/jupyter/work/resources/data_yolo/images/val/cabarga_Кабарга__127.jpg: 1 duplicate labels removed\n",
      "\u001b[34m\u001b[1mval: \u001b[0mWARNING ⚠️ /home/jupyter/work/resources/data_yolo/images/val/cabarga_Кабарга__147.jpg: 1 duplicate labels removed\n",
      "\u001b[34m\u001b[1mval: \u001b[0mWARNING ⚠️ /home/jupyter/work/resources/data_yolo/images/val/cabarga_Кабарга__16.jpg: 1 duplicate labels removed\n",
      "\u001b[34m\u001b[1mval: \u001b[0mWARNING ⚠️ /home/jupyter/work/resources/data_yolo/images/val/cabarga_Кабарга__169.jpg: 1 duplicate labels removed\n",
      "\u001b[34m\u001b[1mval: \u001b[0mWARNING ⚠️ /home/jupyter/work/resources/data_yolo/images/val/cabarga_Кабарга__196.jpg: 1 duplicate labels removed\n",
      "\u001b[34m\u001b[1mval: \u001b[0mWARNING ⚠️ /home/jupyter/work/resources/data_yolo/images/val/cabarga_Кабарга__205.jpg: 1 duplicate labels removed\n",
      "\u001b[34m\u001b[1mval: \u001b[0mWARNING ⚠️ /home/jupyter/work/resources/data_yolo/images/val/cabarga_Кабарга__206.jpg: 1 duplicate labels removed\n",
      "\u001b[34m\u001b[1mval: \u001b[0mWARNING ⚠️ /home/jupyter/work/resources/data_yolo/images/val/cabarga_Кабарга__304.jpg: 1 duplicate labels removed\n",
      "\u001b[34m\u001b[1mval: \u001b[0mWARNING ⚠️ /home/jupyter/work/resources/data_yolo/images/val/cabarga_Кабарга__321.jpg: 1 duplicate labels removed\n",
      "\u001b[34m\u001b[1mval: \u001b[0mWARNING ⚠️ /home/jupyter/work/resources/data_yolo/images/val/cabarga_Кабарга__343.jpg: 1 duplicate labels removed\n",
      "\u001b[34m\u001b[1mval: \u001b[0mWARNING ⚠️ /home/jupyter/work/resources/data_yolo/images/val/cabarga_Кабарга__393.jpg: 1 duplicate labels removed\n",
      "\u001b[34m\u001b[1mval: \u001b[0mWARNING ⚠️ /home/jupyter/work/resources/data_yolo/images/val/cabarga_Кабарга__426.jpg: 1 duplicate labels removed\n",
      "\u001b[34m\u001b[1mval: \u001b[0mWARNING ⚠️ /home/jupyter/work/resources/data_yolo/images/val/cabarga_Кабарга__440.jpg: 2 duplicate labels removed\n",
      "\u001b[34m\u001b[1mval: \u001b[0mWARNING ⚠️ /home/jupyter/work/resources/data_yolo/images/val/cabarga_Кабарга__475.jpg: 1 duplicate labels removed\n",
      "\u001b[34m\u001b[1mval: \u001b[0mWARNING ⚠️ /home/jupyter/work/resources/data_yolo/images/val/cabarga_Кабарга__546.jpg: 1 duplicate labels removed\n",
      "\u001b[34m\u001b[1mval: \u001b[0mWARNING ⚠️ /home/jupyter/work/resources/data_yolo/images/val/cabarga_Кабарга__575.jpg: 2 duplicate labels removed\n",
      "\u001b[34m\u001b[1mval: \u001b[0mWARNING ⚠️ /home/jupyter/work/resources/data_yolo/images/val/cabarga_Кабарга__612.jpg: 1 duplicate labels removed\n",
      "\u001b[34m\u001b[1mval: \u001b[0mWARNING ⚠️ /home/jupyter/work/resources/data_yolo/images/val/cabarga_Кабарга__623.jpg: 2 duplicate labels removed\n",
      "\u001b[34m\u001b[1mval: \u001b[0mWARNING ⚠️ /home/jupyter/work/resources/data_yolo/images/val/cabarga_Кабарга__71.jpg: 1 duplicate labels removed\n",
      "\u001b[34m\u001b[1mval: \u001b[0mWARNING ⚠️ /home/jupyter/work/resources/data_yolo/images/val/cabarga_Кабарга__746.jpg: 1 duplicate labels removed\n",
      "\u001b[34m\u001b[1mval: \u001b[0mWARNING ⚠️ /home/jupyter/work/resources/data_yolo/images/val/cabarga_Кабарга__87.jpg: 1 duplicate labels removed\n",
      "\u001b[34m\u001b[1mval: \u001b[0mWARNING ⚠️ /home/jupyter/work/resources/data_yolo/images/val/cabarga_Кабарга__892.jpg: 1 duplicate labels removed\n",
      "\u001b[34m\u001b[1mval: \u001b[0mWARNING ⚠️ /home/jupyter/work/resources/data_yolo/images/val/cabarga_Кабарга__912.jpg: 1 duplicate labels removed\n",
      "\u001b[34m\u001b[1mval: \u001b[0mWARNING ⚠️ /home/jupyter/work/resources/data_yolo/images/val/kosul_EK000025.JPG: 1 duplicate labels removed\n",
      "\u001b[34m\u001b[1mval: \u001b[0mWARNING ⚠️ /home/jupyter/work/resources/data_yolo/images/val/kosul_IMAG0058.JPG: 1 duplicate labels removed\n",
      "\u001b[34m\u001b[1mval: \u001b[0mWARNING ⚠️ /home/jupyter/work/resources/data_yolo/images/val/kosul_IMAG0274.JPG: 1 duplicate labels removed\n",
      "\u001b[34m\u001b[1mval: \u001b[0mWARNING ⚠️ /home/jupyter/work/resources/data_yolo/images/val/kosul_IMAG2216.JPG: 1 duplicate labels removed\n",
      "\u001b[34m\u001b[1mval: \u001b[0mWARNING ⚠️ /home/jupyter/work/resources/data_yolo/images/val/kosul_IMAG2736.JPG: 3 duplicate labels removed\n",
      "\u001b[34m\u001b[1mval: \u001b[0mWARNING ⚠️ /home/jupyter/work/resources/data_yolo/images/val/kosul_IMG_0024.JPG: 1 duplicate labels removed\n",
      "\u001b[34m\u001b[1mval: \u001b[0mWARNING ⚠️ /home/jupyter/work/resources/data_yolo/images/val/kosul_IMG_1844.JPG: 1 duplicate labels removed\n",
      "\u001b[34m\u001b[1mval: \u001b[0mWARNING ⚠️ /home/jupyter/work/resources/data_yolo/images/val/kosul_IMG_2027.JPG: 1 duplicate labels removed\n",
      "\u001b[34m\u001b[1mval: \u001b[0mWARNING ⚠️ /home/jupyter/work/resources/data_yolo/images/val/kosul_Im_0000026.jpg: 1 duplicate labels removed\n",
      "\u001b[34m\u001b[1mval: \u001b[0mWARNING ⚠️ /home/jupyter/work/resources/data_yolo/images/val/kosul_Im_0000031.jpg: 3 duplicate labels removed\n",
      "\u001b[34m\u001b[1mval: \u001b[0mWARNING ⚠️ /home/jupyter/work/resources/data_yolo/images/val/kosul_Im_0000064.jpg: 2 duplicate labels removed\n",
      "\u001b[34m\u001b[1mval: \u001b[0mWARNING ⚠️ /home/jupyter/work/resources/data_yolo/images/val/kosul_Im_0000097.jpg: 1 duplicate labels removed\n",
      "\u001b[34m\u001b[1mval: \u001b[0mWARNING ⚠️ /home/jupyter/work/resources/data_yolo/images/val/kosul_Im_0000125.jpg: 1 duplicate labels removed\n",
      "\u001b[34m\u001b[1mval: \u001b[0mWARNING ⚠️ /home/jupyter/work/resources/data_yolo/images/val/kosul_Im_0000161.jpg: 3 duplicate labels removed\n",
      "\u001b[34m\u001b[1mval: \u001b[0mWARNING ⚠️ /home/jupyter/work/resources/data_yolo/images/val/kosul_Im_0000205_1.jpg: 1 duplicate labels removed\n",
      "\u001b[34m\u001b[1mval: \u001b[0mWARNING ⚠️ /home/jupyter/work/resources/data_yolo/images/val/kosul_Im_0000238.jpg: 2 duplicate labels removed\n",
      "\u001b[34m\u001b[1mval: \u001b[0mWARNING ⚠️ /home/jupyter/work/resources/data_yolo/images/val/kosul_Im_0000263.jpg: 1 duplicate labels removed\n",
      "\u001b[34m\u001b[1mval: \u001b[0mWARNING ⚠️ /home/jupyter/work/resources/data_yolo/images/val/kosul_Im_0000295.jpg: 2 duplicate labels removed\n",
      "\u001b[34m\u001b[1mval: \u001b[0mWARNING ⚠️ /home/jupyter/work/resources/data_yolo/images/val/kosul_Im_0000298.jpg: 1 duplicate labels removed\n",
      "\u001b[34m\u001b[1mval: \u001b[0mWARNING ⚠️ /home/jupyter/work/resources/data_yolo/images/val/kosul_Im_0000363.jpg: 2 duplicate labels removed\n",
      "\u001b[34m\u001b[1mval: \u001b[0mWARNING ⚠️ /home/jupyter/work/resources/data_yolo/images/val/kosul_Im_0000398.jpg: 1 duplicate labels removed\n",
      "\u001b[34m\u001b[1mval: \u001b[0mWARNING ⚠️ /home/jupyter/work/resources/data_yolo/images/val/kosul_Im_0000442.jpg: 4 duplicate labels removed\n",
      "\u001b[34m\u001b[1mval: \u001b[0mWARNING ⚠️ /home/jupyter/work/resources/data_yolo/images/val/kosul_Im_0000481.jpg: 1 duplicate labels removed\n",
      "\u001b[34m\u001b[1mval: \u001b[0mWARNING ⚠️ /home/jupyter/work/resources/data_yolo/images/val/kosul_Im_0000482_1.jpg: 1 duplicate labels removed\n",
      "\u001b[34m\u001b[1mval: \u001b[0mWARNING ⚠️ /home/jupyter/work/resources/data_yolo/images/val/kosul_Im_0000558.jpg: 1 duplicate labels removed\n",
      "\u001b[34m\u001b[1mval: \u001b[0mWARNING ⚠️ /home/jupyter/work/resources/data_yolo/images/val/kosul_Im_0000573.jpg: 2 duplicate labels removed\n",
      "\u001b[34m\u001b[1mval: \u001b[0mWARNING ⚠️ /home/jupyter/work/resources/data_yolo/images/val/kosul_Im_0000577.jpg: 3 duplicate labels removed\n",
      "\u001b[34m\u001b[1mval: \u001b[0mWARNING ⚠️ /home/jupyter/work/resources/data_yolo/images/val/kosul_Im_0000622.jpg: 1 duplicate labels removed\n",
      "\u001b[34m\u001b[1mval: \u001b[0mWARNING ⚠️ /home/jupyter/work/resources/data_yolo/images/val/kosul_Im_0000628.jpg: 1 duplicate labels removed\n",
      "\u001b[34m\u001b[1mval: \u001b[0mWARNING ⚠️ /home/jupyter/work/resources/data_yolo/images/val/kosul_Im_0000629.jpg: 1 duplicate labels removed\n",
      "\u001b[34m\u001b[1mval: \u001b[0mWARNING ⚠️ /home/jupyter/work/resources/data_yolo/images/val/kosul_Im_0000702.jpg: 1 duplicate labels removed\n",
      "\u001b[34m\u001b[1mval: \u001b[0mWARNING ⚠️ /home/jupyter/work/resources/data_yolo/images/val/kosul_Im_0000761.jpg: 1 duplicate labels removed\n",
      "\u001b[34m\u001b[1mval: \u001b[0mWARNING ⚠️ /home/jupyter/work/resources/data_yolo/images/val/kosul_Im_0000782.jpg: 4 duplicate labels removed\n",
      "\u001b[34m\u001b[1mval: \u001b[0mWARNING ⚠️ /home/jupyter/work/resources/data_yolo/images/val/kosul_Im_0000792.jpg: 1 duplicate labels removed\n",
      "\u001b[34m\u001b[1mval: \u001b[0mWARNING ⚠️ /home/jupyter/work/resources/data_yolo/images/val/kosul_Im_0000880_2.jpg: 3 duplicate labels removed\n",
      "\u001b[34m\u001b[1mval: \u001b[0mWARNING ⚠️ /home/jupyter/work/resources/data_yolo/images/val/kosul_Im_0000883.jpg: 2 duplicate labels removed\n",
      "\u001b[34m\u001b[1mval: \u001b[0mWARNING ⚠️ /home/jupyter/work/resources/data_yolo/images/val/kosul_Im_0000914.jpg: 1 duplicate labels removed\n",
      "\u001b[34m\u001b[1mval: \u001b[0mWARNING ⚠️ /home/jupyter/work/resources/data_yolo/images/val/kosul_Im_0000924.jpg: 1 duplicate labels removed\n",
      "\u001b[34m\u001b[1mval: \u001b[0mWARNING ⚠️ /home/jupyter/work/resources/data_yolo/images/val/kosul_Im_0000929.jpg: 2 duplicate labels removed\n",
      "\u001b[34m\u001b[1mval: \u001b[0mWARNING ⚠️ /home/jupyter/work/resources/data_yolo/images/val/kosul_Im_0000958.jpg: 2 duplicate labels removed\n",
      "\u001b[34m\u001b[1mval: \u001b[0mWARNING ⚠️ /home/jupyter/work/resources/data_yolo/images/val/kosul_Im_0000963.jpg: 1 duplicate labels removed\n",
      "\u001b[34m\u001b[1mval: \u001b[0mWARNING ⚠️ /home/jupyter/work/resources/data_yolo/images/val/kosul_Im_0001055.jpg: 1 duplicate labels removed\n",
      "\u001b[34m\u001b[1mval: \u001b[0mWARNING ⚠️ /home/jupyter/work/resources/data_yolo/images/val/kosul_Im_0001126.jpg: 3 duplicate labels removed\n",
      "\u001b[34m\u001b[1mval: \u001b[0mWARNING ⚠️ /home/jupyter/work/resources/data_yolo/images/val/kosul_Im_0001131.jpg: 1 duplicate labels removed\n",
      "\u001b[34m\u001b[1mval: \u001b[0mWARNING ⚠️ /home/jupyter/work/resources/data_yolo/images/val/kosul_Im_0001255.jpg: 1 duplicate labels removed\n",
      "\u001b[34m\u001b[1mval: \u001b[0mWARNING ⚠️ /home/jupyter/work/resources/data_yolo/images/val/kosul_Im_0001269.jpg: 1 duplicate labels removed\n",
      "\u001b[34m\u001b[1mval: \u001b[0mWARNING ⚠️ /home/jupyter/work/resources/data_yolo/images/val/kosul_Im_0001365.jpg: 1 duplicate labels removed\n",
      "\u001b[34m\u001b[1mval: \u001b[0mWARNING ⚠️ /home/jupyter/work/resources/data_yolo/images/val/kosul_Im_0001378_1.jpg: 1 duplicate labels removed\n",
      "\u001b[34m\u001b[1mval: \u001b[0mWARNING ⚠️ /home/jupyter/work/resources/data_yolo/images/val/kosul_Im_0001515.jpg: 1 duplicate labels removed\n",
      "\u001b[34m\u001b[1mval: \u001b[0mWARNING ⚠️ /home/jupyter/work/resources/data_yolo/images/val/kosul_Im_0001530.jpg: 1 duplicate labels removed\n",
      "\u001b[34m\u001b[1mval: \u001b[0mWARNING ⚠️ /home/jupyter/work/resources/data_yolo/images/val/kosul_Im_0001546.jpg: 1 duplicate labels removed\n",
      "\u001b[34m\u001b[1mval: \u001b[0mWARNING ⚠️ /home/jupyter/work/resources/data_yolo/images/val/kosul_Im_0001550.jpg: 4 duplicate labels removed\n",
      "\u001b[34m\u001b[1mval: \u001b[0mWARNING ⚠️ /home/jupyter/work/resources/data_yolo/images/val/kosul_Im_0001586.jpg: 2 duplicate labels removed\n",
      "\u001b[34m\u001b[1mval: \u001b[0mWARNING ⚠️ /home/jupyter/work/resources/data_yolo/images/val/kosul_Im_0001609.jpg: 1 duplicate labels removed\n",
      "\u001b[34m\u001b[1mval: \u001b[0mWARNING ⚠️ /home/jupyter/work/resources/data_yolo/images/val/kosul_Im_0001616.jpg: 1 duplicate labels removed\n",
      "\u001b[34m\u001b[1mval: \u001b[0mWARNING ⚠️ /home/jupyter/work/resources/data_yolo/images/val/kosul_Im_0001641_1.jpg: 3 duplicate labels removed\n",
      "\u001b[34m\u001b[1mval: \u001b[0mWARNING ⚠️ /home/jupyter/work/resources/data_yolo/images/val/kosul_Im_0001667.jpg: 3 duplicate labels removed\n",
      "\u001b[34m\u001b[1mval: \u001b[0mWARNING ⚠️ /home/jupyter/work/resources/data_yolo/images/val/kosul_Im_0001712.jpg: 2 duplicate labels removed\n",
      "\u001b[34m\u001b[1mval: \u001b[0mWARNING ⚠️ /home/jupyter/work/resources/data_yolo/images/val/kosul_Im_0001721.jpg: 1 duplicate labels removed\n",
      "\u001b[34m\u001b[1mval: \u001b[0mWARNING ⚠️ /home/jupyter/work/resources/data_yolo/images/val/kosul_Im_0001723.jpg: 1 duplicate labels removed\n",
      "\u001b[34m\u001b[1mval: \u001b[0mWARNING ⚠️ /home/jupyter/work/resources/data_yolo/images/val/kosul_Im_0001761.jpg: 1 duplicate labels removed\n",
      "\u001b[34m\u001b[1mval: \u001b[0mWARNING ⚠️ /home/jupyter/work/resources/data_yolo/images/val/kosul_Im_0001762.jpg: 2 duplicate labels removed\n",
      "\u001b[34m\u001b[1mval: \u001b[0mWARNING ⚠️ /home/jupyter/work/resources/data_yolo/images/val/kosul_Im_0001772.jpg: 1 duplicate labels removed\n",
      "\u001b[34m\u001b[1mval: \u001b[0mWARNING ⚠️ /home/jupyter/work/resources/data_yolo/images/val/kosul_Im_0001807.jpg: 1 duplicate labels removed\n",
      "\u001b[34m\u001b[1mval: \u001b[0mWARNING ⚠️ /home/jupyter/work/resources/data_yolo/images/val/kosul_Im_0001833.jpg: 1 duplicate labels removed\n",
      "\u001b[34m\u001b[1mval: \u001b[0mWARNING ⚠️ /home/jupyter/work/resources/data_yolo/images/val/kosul_Im_0001842.jpg: 1 duplicate labels removed\n",
      "\u001b[34m\u001b[1mval: \u001b[0mWARNING ⚠️ /home/jupyter/work/resources/data_yolo/images/val/kosul_Im_0002009.jpg: 1 duplicate labels removed\n",
      "\u001b[34m\u001b[1mval: \u001b[0mWARNING ⚠️ /home/jupyter/work/resources/data_yolo/images/val/kosul_Im_0002027_1.jpg: 1 duplicate labels removed\n",
      "\u001b[34m\u001b[1mval: \u001b[0mWARNING ⚠️ /home/jupyter/work/resources/data_yolo/images/val/kosul_Im_0002028.jpg: 1 duplicate labels removed\n",
      "\u001b[34m\u001b[1mval: \u001b[0mWARNING ⚠️ /home/jupyter/work/resources/data_yolo/images/val/kosul_Im_0002085.jpg: 1 duplicate labels removed\n",
      "\u001b[34m\u001b[1mval: \u001b[0mWARNING ⚠️ /home/jupyter/work/resources/data_yolo/images/val/kosul_Im_0002250.jpg: 1 duplicate labels removed\n",
      "\u001b[34m\u001b[1mval: \u001b[0mWARNING ⚠️ /home/jupyter/work/resources/data_yolo/images/val/kosul_Im_0002253.jpg: 1 duplicate labels removed\n",
      "\u001b[34m\u001b[1mval: \u001b[0mWARNING ⚠️ /home/jupyter/work/resources/data_yolo/images/val/kosul_Im_0002292.jpg: 1 duplicate labels removed\n",
      "\u001b[34m\u001b[1mval: \u001b[0mWARNING ⚠️ /home/jupyter/work/resources/data_yolo/images/val/kosul_Im_0002479.jpg: 2 duplicate labels removed\n",
      "\u001b[34m\u001b[1mval: \u001b[0mWARNING ⚠️ /home/jupyter/work/resources/data_yolo/images/val/kosul_Im_0002494.jpg: 1 duplicate labels removed\n",
      "\u001b[34m\u001b[1mval: \u001b[0mWARNING ⚠️ /home/jupyter/work/resources/data_yolo/images/val/kosul_Im_0002506.jpg: 1 duplicate labels removed\n",
      "\u001b[34m\u001b[1mval: \u001b[0mWARNING ⚠️ /home/jupyter/work/resources/data_yolo/images/val/kosul_Im_0002508_1.jpg: 1 duplicate labels removed\n",
      "\u001b[34m\u001b[1mval: \u001b[0mWARNING ⚠️ /home/jupyter/work/resources/data_yolo/images/val/kosul_Im_0002509.jpg: 1 duplicate labels removed\n",
      "\u001b[34m\u001b[1mval: \u001b[0mWARNING ⚠️ /home/jupyter/work/resources/data_yolo/images/val/kosul_Im_0002540.jpg: 5 duplicate labels removed\n",
      "\u001b[34m\u001b[1mval: \u001b[0mWARNING ⚠️ /home/jupyter/work/resources/data_yolo/images/val/kosul_Im_0002547.jpg: 2 duplicate labels removed\n",
      "\u001b[34m\u001b[1mval: \u001b[0mWARNING ⚠️ /home/jupyter/work/resources/data_yolo/images/val/kosul_Im_0002616.jpg: 3 duplicate labels removed\n",
      "\u001b[34m\u001b[1mval: \u001b[0mWARNING ⚠️ /home/jupyter/work/resources/data_yolo/images/val/kosul_Im_0002641.jpg: 4 duplicate labels removed\n",
      "\u001b[34m\u001b[1mval: \u001b[0mWARNING ⚠️ /home/jupyter/work/resources/data_yolo/images/val/kosul_Im_0002648.jpg: 2 duplicate labels removed\n",
      "\u001b[34m\u001b[1mval: \u001b[0mWARNING ⚠️ /home/jupyter/work/resources/data_yolo/images/val/kosul_Im_0002671_1.jpg: 1 duplicate labels removed\n",
      "\u001b[34m\u001b[1mval: \u001b[0mWARNING ⚠️ /home/jupyter/work/resources/data_yolo/images/val/kosul_Im_0002732_1.jpg: 2 duplicate labels removed\n",
      "\u001b[34m\u001b[1mval: \u001b[0mWARNING ⚠️ /home/jupyter/work/resources/data_yolo/images/val/kosul_Im_0002746_1.jpg: 2 duplicate labels removed\n",
      "\u001b[34m\u001b[1mval: \u001b[0mWARNING ⚠️ /home/jupyter/work/resources/data_yolo/images/val/kosul_Im_0002749.jpg: 1 duplicate labels removed\n",
      "\u001b[34m\u001b[1mval: \u001b[0mWARNING ⚠️ /home/jupyter/work/resources/data_yolo/images/val/kosul_Im_0002828_1.jpg: 1 duplicate labels removed\n",
      "\u001b[34m\u001b[1mval: \u001b[0mWARNING ⚠️ /home/jupyter/work/resources/data_yolo/images/val/kosul_Im_0002874.jpg: 1 duplicate labels removed\n",
      "\u001b[34m\u001b[1mval: \u001b[0mWARNING ⚠️ /home/jupyter/work/resources/data_yolo/images/val/kosul_Im_0002891.jpg: 1 duplicate labels removed\n",
      "\u001b[34m\u001b[1mval: \u001b[0mWARNING ⚠️ /home/jupyter/work/resources/data_yolo/images/val/kosul_Im_0002938.jpg: 1 duplicate labels removed\n",
      "\u001b[34m\u001b[1mval: \u001b[0mWARNING ⚠️ /home/jupyter/work/resources/data_yolo/images/val/kosul_Im_0002945.jpg: 1 duplicate labels removed\n",
      "\u001b[34m\u001b[1mval: \u001b[0mWARNING ⚠️ /home/jupyter/work/resources/data_yolo/images/val/kosul_Im_0003056.jpg: 4 duplicate labels removed\n",
      "\u001b[34m\u001b[1mval: \u001b[0mWARNING ⚠️ /home/jupyter/work/resources/data_yolo/images/val/kosul_Im_0003120_1.jpg: 1 duplicate labels removed\n",
      "\u001b[34m\u001b[1mval: \u001b[0mWARNING ⚠️ /home/jupyter/work/resources/data_yolo/images/val/kosul_Im_0003149_1.jpg: 1 duplicate labels removed\n",
      "\u001b[34m\u001b[1mval: \u001b[0mWARNING ⚠️ /home/jupyter/work/resources/data_yolo/images/val/kosul_Im_0003158.jpg: 1 duplicate labels removed\n",
      "\u001b[34m\u001b[1mval: \u001b[0mWARNING ⚠️ /home/jupyter/work/resources/data_yolo/images/val/kosul_Im_0003193.jpg: 4 duplicate labels removed\n",
      "\u001b[34m\u001b[1mval: \u001b[0mWARNING ⚠️ /home/jupyter/work/resources/data_yolo/images/val/kosul_Im_0003249.jpg: 1 duplicate labels removed\n",
      "\u001b[34m\u001b[1mval: \u001b[0mWARNING ⚠️ /home/jupyter/work/resources/data_yolo/images/val/kosul_Im_0003258.jpg: 3 duplicate labels removed\n",
      "\u001b[34m\u001b[1mval: \u001b[0mWARNING ⚠️ /home/jupyter/work/resources/data_yolo/images/val/kosul_Im_0003329.jpg: 1 duplicate labels removed\n",
      "\u001b[34m\u001b[1mval: \u001b[0mWARNING ⚠️ /home/jupyter/work/resources/data_yolo/images/val/kosul_Im_0003380.jpg: 1 duplicate labels removed\n",
      "\u001b[34m\u001b[1mval: \u001b[0mWARNING ⚠️ /home/jupyter/work/resources/data_yolo/images/val/kosul_Im_0003419.jpg: 1 duplicate labels removed\n",
      "\u001b[34m\u001b[1mval: \u001b[0mWARNING ⚠️ /home/jupyter/work/resources/data_yolo/images/val/kosul_Im_0003438.jpg: 1 duplicate labels removed\n",
      "\u001b[34m\u001b[1mval: \u001b[0mWARNING ⚠️ /home/jupyter/work/resources/data_yolo/images/val/kosul_Im_0003465.jpg: 1 duplicate labels removed\n",
      "\u001b[34m\u001b[1mval: \u001b[0mWARNING ⚠️ /home/jupyter/work/resources/data_yolo/images/val/kosul_Im_0003482.jpg: 1 duplicate labels removed\n",
      "\u001b[34m\u001b[1mval: \u001b[0mWARNING ⚠️ /home/jupyter/work/resources/data_yolo/images/val/kosul_Im_0003523.jpg: 1 duplicate labels removed\n",
      "\u001b[34m\u001b[1mval: \u001b[0mWARNING ⚠️ /home/jupyter/work/resources/data_yolo/images/val/kosul_Im_0003523_1.jpg: 1 duplicate labels removed\n",
      "\u001b[34m\u001b[1mval: \u001b[0mWARNING ⚠️ /home/jupyter/work/resources/data_yolo/images/val/kosul_Im_0003565.jpg: 1 duplicate labels removed\n",
      "\u001b[34m\u001b[1mval: \u001b[0mWARNING ⚠️ /home/jupyter/work/resources/data_yolo/images/val/kosul_Im_0003573.jpg: 2 duplicate labels removed\n",
      "\u001b[34m\u001b[1mval: \u001b[0mWARNING ⚠️ /home/jupyter/work/resources/data_yolo/images/val/kosul_Im_0003607.jpg: 1 duplicate labels removed\n",
      "\u001b[34m\u001b[1mval: \u001b[0mWARNING ⚠️ /home/jupyter/work/resources/data_yolo/images/val/kosul_Im_0003616.jpg: 2 duplicate labels removed\n",
      "\u001b[34m\u001b[1mval: \u001b[0mWARNING ⚠️ /home/jupyter/work/resources/data_yolo/images/val/kosul_Im_0003647.jpg: 1 duplicate labels removed\n",
      "\u001b[34m\u001b[1mval: \u001b[0mWARNING ⚠️ /home/jupyter/work/resources/data_yolo/images/val/kosul_Im_0003807.jpg: 1 duplicate labels removed\n",
      "\u001b[34m\u001b[1mval: \u001b[0mWARNING ⚠️ /home/jupyter/work/resources/data_yolo/images/val/kosul_Im_0003893.jpg: 1 duplicate labels removed\n",
      "\u001b[34m\u001b[1mval: \u001b[0mWARNING ⚠️ /home/jupyter/work/resources/data_yolo/images/val/kosul_Im_0003967.jpg: 1 duplicate labels removed\n",
      "\u001b[34m\u001b[1mval: \u001b[0mWARNING ⚠️ /home/jupyter/work/resources/data_yolo/images/val/kosul_Im_0004000.jpg: 1 duplicate labels removed\n",
      "\u001b[34m\u001b[1mval: \u001b[0mWARNING ⚠️ /home/jupyter/work/resources/data_yolo/images/val/kosul_Im_0004071.jpg: 1 duplicate labels removed\n",
      "\u001b[34m\u001b[1mval: \u001b[0mWARNING ⚠️ /home/jupyter/work/resources/data_yolo/images/val/kosul_Im_0004073_1.jpg: 1 duplicate labels removed\n",
      "\u001b[34m\u001b[1mval: \u001b[0mWARNING ⚠️ /home/jupyter/work/resources/data_yolo/images/val/kosul_Im_0004093_1.jpg: 1 duplicate labels removed\n",
      "\u001b[34m\u001b[1mval: \u001b[0mWARNING ⚠️ /home/jupyter/work/resources/data_yolo/images/val/kosul_Im_0004207.jpg: 1 duplicate labels removed\n",
      "\u001b[34m\u001b[1mval: \u001b[0mWARNING ⚠️ /home/jupyter/work/resources/data_yolo/images/val/kosul_Im_0004211.jpg: 1 duplicate labels removed\n",
      "\u001b[34m\u001b[1mval: \u001b[0mWARNING ⚠️ /home/jupyter/work/resources/data_yolo/images/val/kosul_Im_0004244.jpg: 1 duplicate labels removed\n",
      "\u001b[34m\u001b[1mval: \u001b[0mWARNING ⚠️ /home/jupyter/work/resources/data_yolo/images/val/kosul_Im_0004285.jpg: 1 duplicate labels removed\n",
      "\u001b[34m\u001b[1mval: \u001b[0mWARNING ⚠️ /home/jupyter/work/resources/data_yolo/images/val/kosul_Im_0004314.jpg: 1 duplicate labels removed\n",
      "\u001b[34m\u001b[1mval: \u001b[0mWARNING ⚠️ /home/jupyter/work/resources/data_yolo/images/val/kosul_Im_0004319.jpg: 3 duplicate labels removed\n",
      "\u001b[34m\u001b[1mval: \u001b[0mWARNING ⚠️ /home/jupyter/work/resources/data_yolo/images/val/kosul_Im_0004325.jpg: 3 duplicate labels removed\n",
      "\u001b[34m\u001b[1mval: \u001b[0mWARNING ⚠️ /home/jupyter/work/resources/data_yolo/images/val/kosul_Im_0004357.jpg: 2 duplicate labels removed\n",
      "\u001b[34m\u001b[1mval: \u001b[0mWARNING ⚠️ /home/jupyter/work/resources/data_yolo/images/val/kosul_Im_0004389_1.jpg: 7 duplicate labels removed\n",
      "\u001b[34m\u001b[1mval: \u001b[0mWARNING ⚠️ /home/jupyter/work/resources/data_yolo/images/val/kosul_Im_0004413.jpg: 1 duplicate labels removed\n",
      "\u001b[34m\u001b[1mval: \u001b[0mWARNING ⚠️ /home/jupyter/work/resources/data_yolo/images/val/kosul_Im_0004519.jpg: 1 duplicate labels removed\n",
      "\u001b[34m\u001b[1mval: \u001b[0mWARNING ⚠️ /home/jupyter/work/resources/data_yolo/images/val/kosul_Im_0004526.jpg: 1 duplicate labels removed\n",
      "\u001b[34m\u001b[1mval: \u001b[0mWARNING ⚠️ /home/jupyter/work/resources/data_yolo/images/val/kosul_Im_0004552_1.jpg: 1 duplicate labels removed\n",
      "\u001b[34m\u001b[1mval: \u001b[0mWARNING ⚠️ /home/jupyter/work/resources/data_yolo/images/val/kosul_Im_0004575.jpg: 1 duplicate labels removed\n",
      "\u001b[34m\u001b[1mval: \u001b[0mWARNING ⚠️ /home/jupyter/work/resources/data_yolo/images/val/kosul_Im_0004610.jpg: 1 duplicate labels removed\n",
      "\u001b[34m\u001b[1mval: \u001b[0mWARNING ⚠️ /home/jupyter/work/resources/data_yolo/images/val/kosul_Im_0004718.jpg: 4 duplicate labels removed\n",
      "\u001b[34m\u001b[1mval: \u001b[0mWARNING ⚠️ /home/jupyter/work/resources/data_yolo/images/val/kosul_Im_0004759_1.jpg: 1 duplicate labels removed\n",
      "\u001b[34m\u001b[1mval: \u001b[0mWARNING ⚠️ /home/jupyter/work/resources/data_yolo/images/val/kosul_Im_0004778.jpg: 2 duplicate labels removed\n",
      "\u001b[34m\u001b[1mval: \u001b[0mWARNING ⚠️ /home/jupyter/work/resources/data_yolo/images/val/kosul_Im_0004985.jpg: 1 duplicate labels removed\n",
      "\u001b[34m\u001b[1mval: \u001b[0mWARNING ⚠️ /home/jupyter/work/resources/data_yolo/images/val/kosul_Im_0005031.jpg: 1 duplicate labels removed\n",
      "\u001b[34m\u001b[1mval: \u001b[0mWARNING ⚠️ /home/jupyter/work/resources/data_yolo/images/val/kosul_Im_0005158.jpg: 2 duplicate labels removed\n",
      "\u001b[34m\u001b[1mval: \u001b[0mWARNING ⚠️ /home/jupyter/work/resources/data_yolo/images/val/kosul_Im_0005192.jpg: 1 duplicate labels removed\n",
      "\u001b[34m\u001b[1mval: \u001b[0mWARNING ⚠️ /home/jupyter/work/resources/data_yolo/images/val/kosul_Im_0005195_1.jpg: 1 duplicate labels removed\n",
      "\u001b[34m\u001b[1mval: \u001b[0mWARNING ⚠️ /home/jupyter/work/resources/data_yolo/images/val/kosul_Im_0005230.jpg: 1 duplicate labels removed\n",
      "\u001b[34m\u001b[1mval: \u001b[0mWARNING ⚠️ /home/jupyter/work/resources/data_yolo/images/val/kosul_Im_0005408.jpg: 1 duplicate labels removed\n",
      "\u001b[34m\u001b[1mval: \u001b[0mWARNING ⚠️ /home/jupyter/work/resources/data_yolo/images/val/kosul_Im_0005694.jpg: 2 duplicate labels removed\n",
      "\u001b[34m\u001b[1mval: \u001b[0mWARNING ⚠️ /home/jupyter/work/resources/data_yolo/images/val/kosul_Im_0005744.jpg: 1 duplicate labels removed\n",
      "\u001b[34m\u001b[1mval: \u001b[0mWARNING ⚠️ /home/jupyter/work/resources/data_yolo/images/val/kosul_Im_0005744_2.jpg: 1 duplicate labels removed\n",
      "\u001b[34m\u001b[1mval: \u001b[0mWARNING ⚠️ /home/jupyter/work/resources/data_yolo/images/val/kosul_Im_0005764.jpg: 1 duplicate labels removed\n",
      "\u001b[34m\u001b[1mval: \u001b[0mWARNING ⚠️ /home/jupyter/work/resources/data_yolo/images/val/kosul_Im_0005782.jpg: 2 duplicate labels removed\n",
      "\u001b[34m\u001b[1mval: \u001b[0mWARNING ⚠️ /home/jupyter/work/resources/data_yolo/images/val/kosul_Im_0005915.jpg: 1 duplicate labels removed\n",
      "\u001b[34m\u001b[1mval: \u001b[0mWARNING ⚠️ /home/jupyter/work/resources/data_yolo/images/val/kosul_Im_0005917.jpg: 1 duplicate labels removed\n",
      "\u001b[34m\u001b[1mval: \u001b[0mWARNING ⚠️ /home/jupyter/work/resources/data_yolo/images/val/kosul_Im_0037854.jpg: 1 duplicate labels removed\n",
      "\u001b[34m\u001b[1mval: \u001b[0mWARNING ⚠️ /home/jupyter/work/resources/data_yolo/images/val/kosul_Im_0038988.jpg: 1 duplicate labels removed\n",
      "\u001b[34m\u001b[1mval: \u001b[0mWARNING ⚠️ /home/jupyter/work/resources/data_yolo/images/val/kosul_Im_0041015.jpg: 1 duplicate labels removed\n",
      "\u001b[34m\u001b[1mval: \u001b[0mWARNING ⚠️ /home/jupyter/work/resources/data_yolo/images/val/kosul_Im_0042368.jpg: 1 duplicate labels removed\n",
      "\u001b[34m\u001b[1mval: \u001b[0mWARNING ⚠️ /home/jupyter/work/resources/data_yolo/images/val/kosul_Im_0044361.jpg: 1 duplicate labels removed\n",
      "\u001b[34m\u001b[1mval: \u001b[0mWARNING ⚠️ /home/jupyter/work/resources/data_yolo/images/val/kosul_Im_0045216.jpg: 1 duplicate labels removed\n",
      "\u001b[34m\u001b[1mval: \u001b[0mWARNING ⚠️ /home/jupyter/work/resources/data_yolo/images/val/kosul_Im_0045627.jpg: 1 duplicate labels removed\n",
      "\u001b[34m\u001b[1mval: \u001b[0mWARNING ⚠️ /home/jupyter/work/resources/data_yolo/images/val/kosul_Im_0047690.jpg: 1 duplicate labels removed\n",
      "\u001b[34m\u001b[1mval: \u001b[0mWARNING ⚠️ /home/jupyter/work/resources/data_yolo/images/val/olen_DSC_5097.JPG: 2 duplicate labels removed\n",
      "\u001b[34m\u001b[1mval: \u001b[0mWARNING ⚠️ /home/jupyter/work/resources/data_yolo/images/val/olen_DSC_5116.JPG: 1 duplicate labels removed\n",
      "\u001b[34m\u001b[1mval: \u001b[0mWARNING ⚠️ /home/jupyter/work/resources/data_yolo/images/val/olen_DSC_5122.JPG: 1 duplicate labels removed\n",
      "\u001b[34m\u001b[1mval: \u001b[0mWARNING ⚠️ /home/jupyter/work/resources/data_yolo/images/val/olen_DSC_5144.JPG: 1 duplicate labels removed\n",
      "\u001b[34m\u001b[1mval: \u001b[0mWARNING ⚠️ /home/jupyter/work/resources/data_yolo/images/val/olen_DSC_5146.JPG: 1 duplicate labels removed\n",
      "\u001b[34m\u001b[1mval: \u001b[0mWARNING ⚠️ /home/jupyter/work/resources/data_yolo/images/val/olen_DSC_5157.JPG: 1 duplicate labels removed\n",
      "\u001b[34m\u001b[1mval: \u001b[0mWARNING ⚠️ /home/jupyter/work/resources/data_yolo/images/val/olen_DSC_5167.JPG: 1 duplicate labels removed\n",
      "\u001b[34m\u001b[1mval: \u001b[0mWARNING ⚠️ /home/jupyter/work/resources/data_yolo/images/val/olen_DSC_5185.JPG: 3 duplicate labels removed\n",
      "\u001b[34m\u001b[1mval: \u001b[0mWARNING ⚠️ /home/jupyter/work/resources/data_yolo/images/val/olen_DSC_5186.JPG: 3 duplicate labels removed\n",
      "\u001b[34m\u001b[1mval: \u001b[0mWARNING ⚠️ /home/jupyter/work/resources/data_yolo/images/val/olen_DSC_5190.JPG: 1 duplicate labels removed\n",
      "\u001b[34m\u001b[1mval: \u001b[0mWARNING ⚠️ /home/jupyter/work/resources/data_yolo/images/val/olen_DSC_5194.JPG: 1 duplicate labels removed\n",
      "\u001b[34m\u001b[1mval: \u001b[0mWARNING ⚠️ /home/jupyter/work/resources/data_yolo/images/val/olen_DSC_5195.JPG: 2 duplicate labels removed\n",
      "\u001b[34m\u001b[1mval: \u001b[0mWARNING ⚠️ /home/jupyter/work/resources/data_yolo/images/val/olen_DSC_5209.JPG: 1 duplicate labels removed\n",
      "\u001b[34m\u001b[1mval: \u001b[0mWARNING ⚠️ /home/jupyter/work/resources/data_yolo/images/val/olen_DSC_5223.JPG: 3 duplicate labels removed\n",
      "\u001b[34m\u001b[1mval: \u001b[0mWARNING ⚠️ /home/jupyter/work/resources/data_yolo/images/val/olen_DSC_5232.JPG: 1 duplicate labels removed\n",
      "\u001b[34m\u001b[1mval: \u001b[0mWARNING ⚠️ /home/jupyter/work/resources/data_yolo/images/val/olen_DSC_5236.JPG: 2 duplicate labels removed\n",
      "\u001b[34m\u001b[1mval: \u001b[0mWARNING ⚠️ /home/jupyter/work/resources/data_yolo/images/val/olen_DSC_5244.JPG: 4 duplicate labels removed\n",
      "\u001b[34m\u001b[1mval: \u001b[0mWARNING ⚠️ /home/jupyter/work/resources/data_yolo/images/val/olen_DSC_5245.JPG: 3 duplicate labels removed\n",
      "\u001b[34m\u001b[1mval: \u001b[0mWARNING ⚠️ /home/jupyter/work/resources/data_yolo/images/val/olen_DSC_5266.JPG: 1 duplicate labels removed\n",
      "\u001b[34m\u001b[1mval: \u001b[0mWARNING ⚠️ /home/jupyter/work/resources/data_yolo/images/val/olen_DSC_5267.JPG: 1 duplicate labels removed\n",
      "\u001b[34m\u001b[1mval: \u001b[0mWARNING ⚠️ /home/jupyter/work/resources/data_yolo/images/val/olen_DSC_5290.JPG: 1 duplicate labels removed\n",
      "\u001b[34m\u001b[1mval: \u001b[0mWARNING ⚠️ /home/jupyter/work/resources/data_yolo/images/val/olen_DSC_5302.JPG: 2 duplicate labels removed\n",
      "\u001b[34m\u001b[1mval: \u001b[0mWARNING ⚠️ /home/jupyter/work/resources/data_yolo/images/val/olen_DSC_5307.JPG: 1 duplicate labels removed\n",
      "\u001b[34m\u001b[1mval: \u001b[0mWARNING ⚠️ /home/jupyter/work/resources/data_yolo/images/val/olen_DSC_5315.JPG: 1 duplicate labels removed\n",
      "\u001b[34m\u001b[1mval: \u001b[0mWARNING ⚠️ /home/jupyter/work/resources/data_yolo/images/val/olen_DSC_5317.JPG: 1 duplicate labels removed\n",
      "\u001b[34m\u001b[1mval: \u001b[0mWARNING ⚠️ /home/jupyter/work/resources/data_yolo/images/val/olen_DSC_5318.JPG: 1 duplicate labels removed\n",
      "\u001b[34m\u001b[1mval: \u001b[0mWARNING ⚠️ /home/jupyter/work/resources/data_yolo/images/val/olen_DSC_5330.JPG: 1 duplicate labels removed\n",
      "\u001b[34m\u001b[1mval: \u001b[0mWARNING ⚠️ /home/jupyter/work/resources/data_yolo/images/val/olen_DSC_5332.JPG: 4 duplicate labels removed\n",
      "\u001b[34m\u001b[1mval: \u001b[0mWARNING ⚠️ /home/jupyter/work/resources/data_yolo/images/val/olen_DSC_5336.JPG: 3 duplicate labels removed\n",
      "\u001b[34m\u001b[1mval: \u001b[0mWARNING ⚠️ /home/jupyter/work/resources/data_yolo/images/val/olen_DSC_5350.JPG: 3 duplicate labels removed\n",
      "\u001b[34m\u001b[1mval: \u001b[0mWARNING ⚠️ /home/jupyter/work/resources/data_yolo/images/val/olen_DSC_5354.JPG: 4 duplicate labels removed\n",
      "\u001b[34m\u001b[1mval: \u001b[0mWARNING ⚠️ /home/jupyter/work/resources/data_yolo/images/val/olen_DSC_5355.JPG: 5 duplicate labels removed\n",
      "\u001b[34m\u001b[1mval: \u001b[0mWARNING ⚠️ /home/jupyter/work/resources/data_yolo/images/val/olen_DSC_5356.JPG: 3 duplicate labels removed\n",
      "\u001b[34m\u001b[1mval: \u001b[0mWARNING ⚠️ /home/jupyter/work/resources/data_yolo/images/val/olen_DSC_5361.JPG: 3 duplicate labels removed\n",
      "\u001b[34m\u001b[1mval: \u001b[0mWARNING ⚠️ /home/jupyter/work/resources/data_yolo/images/val/olen_DSC_5363.JPG: 3 duplicate labels removed\n",
      "\u001b[34m\u001b[1mval: \u001b[0mWARNING ⚠️ /home/jupyter/work/resources/data_yolo/images/val/olen_DSC_5367.JPG: 3 duplicate labels removed\n",
      "\u001b[34m\u001b[1mval: \u001b[0mWARNING ⚠️ /home/jupyter/work/resources/data_yolo/images/val/olen_DSC_5375.JPG: 1 duplicate labels removed\n",
      "\u001b[34m\u001b[1mval: \u001b[0mWARNING ⚠️ /home/jupyter/work/resources/data_yolo/images/val/olen_DSC_5376.JPG: 3 duplicate labels removed\n",
      "\u001b[34m\u001b[1mval: \u001b[0mWARNING ⚠️ /home/jupyter/work/resources/data_yolo/images/val/olen_DSC_5377.JPG: 1 duplicate labels removed\n",
      "\u001b[34m\u001b[1mval: \u001b[0mWARNING ⚠️ /home/jupyter/work/resources/data_yolo/images/val/olen_DSC_5381.JPG: 3 duplicate labels removed\n",
      "\u001b[34m\u001b[1mval: \u001b[0mWARNING ⚠️ /home/jupyter/work/resources/data_yolo/images/val/olen_DSC_5390.JPG: 1 duplicate labels removed\n",
      "\u001b[34m\u001b[1mval: \u001b[0mWARNING ⚠️ /home/jupyter/work/resources/data_yolo/images/val/olen_DSC_5414.JPG: 2 duplicate labels removed\n",
      "\u001b[34m\u001b[1mval: \u001b[0mWARNING ⚠️ /home/jupyter/work/resources/data_yolo/images/val/olen_DSC_5442.JPG: 1 duplicate labels removed\n",
      "\u001b[34m\u001b[1mval: \u001b[0mWARNING ⚠️ /home/jupyter/work/resources/data_yolo/images/val/olen_DSC_5458.JPG: 2 duplicate labels removed\n",
      "\u001b[34m\u001b[1mval: \u001b[0mWARNING ⚠️ /home/jupyter/work/resources/data_yolo/images/val/olen_DSC_5487.JPG: 1 duplicate labels removed\n",
      "\u001b[34m\u001b[1mval: \u001b[0mWARNING ⚠️ /home/jupyter/work/resources/data_yolo/images/val/olen_DSC_5493.JPG: 1 duplicate labels removed\n",
      "\u001b[34m\u001b[1mval: \u001b[0mWARNING ⚠️ /home/jupyter/work/resources/data_yolo/images/val/olen_DSC_5496.JPG: 1 duplicate labels removed\n",
      "\u001b[34m\u001b[1mval: \u001b[0mWARNING ⚠️ /home/jupyter/work/resources/data_yolo/images/val/olen_IMAG0026.JPG: 4 duplicate labels removed\n",
      "\u001b[34m\u001b[1mval: \u001b[0mWARNING ⚠️ /home/jupyter/work/resources/data_yolo/images/val/olen_IMAG0039.JPG: 4 duplicate labels removed\n",
      "\u001b[34m\u001b[1mval: \u001b[0mWARNING ⚠️ /home/jupyter/work/resources/data_yolo/images/val/olen_IMAG0077.JPG: 3 duplicate labels removed\n",
      "\u001b[34m\u001b[1mval: \u001b[0mWARNING ⚠️ /home/jupyter/work/resources/data_yolo/images/val/olen_IMAG0078.JPG: 6 duplicate labels removed\n",
      "\u001b[34m\u001b[1mval: \u001b[0mWARNING ⚠️ /home/jupyter/work/resources/data_yolo/images/val/olen_IMAG0085.JPG: 2 duplicate labels removed\n",
      "\u001b[34m\u001b[1mval: \u001b[0mWARNING ⚠️ /home/jupyter/work/resources/data_yolo/images/val/olen_IMAG1564.JPG: 2 duplicate labels removed\n",
      "\u001b[34m\u001b[1mval: \u001b[0mWARNING ⚠️ /home/jupyter/work/resources/data_yolo/images/val/olen_IMAG1734.JPG: 1 duplicate labels removed\n",
      "\u001b[34m\u001b[1mval: \u001b[0mWARNING ⚠️ /home/jupyter/work/resources/data_yolo/images/val/olen_Im_0000005.jpg: 1 duplicate labels removed\n",
      "\u001b[34m\u001b[1mval: \u001b[0mWARNING ⚠️ /home/jupyter/work/resources/data_yolo/images/val/olen_Im_0000005_1.jpg: 3 duplicate labels removed\n",
      "\u001b[34m\u001b[1mval: \u001b[0mWARNING ⚠️ /home/jupyter/work/resources/data_yolo/images/val/olen_Im_0000007.jpg: 4 duplicate labels removed\n",
      "\u001b[34m\u001b[1mval: \u001b[0mWARNING ⚠️ /home/jupyter/work/resources/data_yolo/images/val/olen_Im_0000009.jpg: 1 duplicate labels removed\n",
      "\u001b[34m\u001b[1mval: \u001b[0mWARNING ⚠️ /home/jupyter/work/resources/data_yolo/images/val/olen_Im_0000029_1.jpg: 2 duplicate labels removed\n",
      "\u001b[34m\u001b[1mval: \u001b[0mWARNING ⚠️ /home/jupyter/work/resources/data_yolo/images/val/olen_Im_0000034.jpg: 2 duplicate labels removed\n",
      "\u001b[34m\u001b[1mval: \u001b[0mWARNING ⚠️ /home/jupyter/work/resources/data_yolo/images/val/olen_Im_0000046.jpg: 1 duplicate labels removed\n",
      "\u001b[34m\u001b[1mval: \u001b[0mWARNING ⚠️ /home/jupyter/work/resources/data_yolo/images/val/olen_Im_0000047.jpg: 2 duplicate labels removed\n",
      "\u001b[34m\u001b[1mval: \u001b[0mWARNING ⚠️ /home/jupyter/work/resources/data_yolo/images/val/olen_Im_0000048.jpg: 3 duplicate labels removed\n",
      "\u001b[34m\u001b[1mval: \u001b[0mWARNING ⚠️ /home/jupyter/work/resources/data_yolo/images/val/olen_Im_0000135.jpg: 6 duplicate labels removed\n",
      "\u001b[34m\u001b[1mval: \u001b[0mWARNING ⚠️ /home/jupyter/work/resources/data_yolo/images/val/olen_Im_0000135_1.jpg: 6 duplicate labels removed\n",
      "\u001b[34m\u001b[1mval: \u001b[0mWARNING ⚠️ /home/jupyter/work/resources/data_yolo/images/val/olen_Im_0000137_1.jpg: 3 duplicate labels removed\n",
      "\u001b[34m\u001b[1mval: \u001b[0mWARNING ⚠️ /home/jupyter/work/resources/data_yolo/images/val/olen_Im_0000147_1.jpg: 1 duplicate labels removed\n",
      "\u001b[34m\u001b[1mval: \u001b[0mWARNING ⚠️ /home/jupyter/work/resources/data_yolo/images/val/olen_Im_0000154.jpg: 3 duplicate labels removed\n",
      "\u001b[34m\u001b[1mval: \u001b[0mWARNING ⚠️ /home/jupyter/work/resources/data_yolo/images/val/olen_Im_0000155.jpg: 7 duplicate labels removed\n",
      "\u001b[34m\u001b[1mval: \u001b[0mWARNING ⚠️ /home/jupyter/work/resources/data_yolo/images/val/olen_Im_0000173.jpg: 1 duplicate labels removed\n",
      "\u001b[34m\u001b[1mval: \u001b[0mWARNING ⚠️ /home/jupyter/work/resources/data_yolo/images/val/olen_Im_0000176_1.jpg: 4 duplicate labels removed\n",
      "\u001b[34m\u001b[1mval: \u001b[0mWARNING ⚠️ /home/jupyter/work/resources/data_yolo/images/val/olen_Im_0000177.jpg: 4 duplicate labels removed\n",
      "\u001b[34m\u001b[1mval: \u001b[0mWARNING ⚠️ /home/jupyter/work/resources/data_yolo/images/val/olen_Im_0000196.jpg: 12 duplicate labels removed\n",
      "\u001b[34m\u001b[1mval: \u001b[0mWARNING ⚠️ /home/jupyter/work/resources/data_yolo/images/val/olen_Im_0000202.jpg: 6 duplicate labels removed\n",
      "\u001b[34m\u001b[1mval: \u001b[0mWARNING ⚠️ /home/jupyter/work/resources/data_yolo/images/val/olen_Im_0000203.jpg: 2 duplicate labels removed\n",
      "\u001b[34m\u001b[1mval: \u001b[0mWARNING ⚠️ /home/jupyter/work/resources/data_yolo/images/val/olen_Im_0000203_1.jpg: 3 duplicate labels removed\n",
      "\u001b[34m\u001b[1mval: \u001b[0mWARNING ⚠️ /home/jupyter/work/resources/data_yolo/images/val/olen_Im_0000208.jpg: 1 duplicate labels removed\n",
      "\u001b[34m\u001b[1mval: \u001b[0mWARNING ⚠️ /home/jupyter/work/resources/data_yolo/images/val/olen_Im_0000208_2.jpg: 4 duplicate labels removed\n",
      "\u001b[34m\u001b[1mval: \u001b[0mWARNING ⚠️ /home/jupyter/work/resources/data_yolo/images/val/olen_Im_0000225_2.jpg: 1 duplicate labels removed\n",
      "\u001b[34m\u001b[1mval: \u001b[0mWARNING ⚠️ /home/jupyter/work/resources/data_yolo/images/val/olen_Im_0000236_1.jpg: 4 duplicate labels removed\n",
      "\u001b[34m\u001b[1mval: \u001b[0mWARNING ⚠️ /home/jupyter/work/resources/data_yolo/images/val/olen_Im_0000242_1.jpg: 7 duplicate labels removed\n",
      "\u001b[34m\u001b[1mval: \u001b[0mWARNING ⚠️ /home/jupyter/work/resources/data_yolo/images/val/olen_Im_0000256.jpg: 2 duplicate labels removed\n",
      "\u001b[34m\u001b[1mval: \u001b[0mWARNING ⚠️ /home/jupyter/work/resources/data_yolo/images/val/olen_Im_0000274.jpg: 7 duplicate labels removed\n",
      "\u001b[34m\u001b[1mval: \u001b[0mWARNING ⚠️ /home/jupyter/work/resources/data_yolo/images/val/olen_Im_0000275_1.jpg: 5 duplicate labels removed\n",
      "\u001b[34m\u001b[1mval: \u001b[0mWARNING ⚠️ /home/jupyter/work/resources/data_yolo/images/val/olen_Im_0000276_1.jpg: 1 duplicate labels removed\n",
      "\u001b[34m\u001b[1mval: \u001b[0mWARNING ⚠️ /home/jupyter/work/resources/data_yolo/images/val/olen_Im_0000279_1.jpg: 4 duplicate labels removed\n",
      "\u001b[34m\u001b[1mval: \u001b[0mWARNING ⚠️ /home/jupyter/work/resources/data_yolo/images/val/olen_Im_0000303_2.jpg: 3 duplicate labels removed\n",
      "\u001b[34m\u001b[1mval: \u001b[0mWARNING ⚠️ /home/jupyter/work/resources/data_yolo/images/val/olen_Im_0000308.jpg: 4 duplicate labels removed\n",
      "\u001b[34m\u001b[1mval: \u001b[0mWARNING ⚠️ /home/jupyter/work/resources/data_yolo/images/val/olen_Im_0000318_1.jpg: 2 duplicate labels removed\n",
      "\u001b[34m\u001b[1mval: \u001b[0mWARNING ⚠️ /home/jupyter/work/resources/data_yolo/images/val/olen_Im_0000325.jpg: 8 duplicate labels removed\n",
      "\u001b[34m\u001b[1mval: \u001b[0mWARNING ⚠️ /home/jupyter/work/resources/data_yolo/images/val/olen_Im_0000329_1.jpg: 1 duplicate labels removed\n",
      "\u001b[34m\u001b[1mval: \u001b[0mWARNING ⚠️ /home/jupyter/work/resources/data_yolo/images/val/olen_Im_0000341.jpg: 6 duplicate labels removed\n",
      "\u001b[34m\u001b[1mval: \u001b[0mWARNING ⚠️ /home/jupyter/work/resources/data_yolo/images/val/olen_Im_0000346_1.jpg: 2 duplicate labels removed\n",
      "\u001b[34m\u001b[1mval: \u001b[0mWARNING ⚠️ /home/jupyter/work/resources/data_yolo/images/val/olen_Im_0000351.jpg: 9 duplicate labels removed\n",
      "\u001b[34m\u001b[1mval: \u001b[0mWARNING ⚠️ /home/jupyter/work/resources/data_yolo/images/val/olen_Im_0000351_1.jpg: 2 duplicate labels removed\n",
      "\u001b[34m\u001b[1mval: \u001b[0mWARNING ⚠️ /home/jupyter/work/resources/data_yolo/images/val/olen_Im_0000353.jpg: 3 duplicate labels removed\n",
      "\u001b[34m\u001b[1mval: \u001b[0mWARNING ⚠️ /home/jupyter/work/resources/data_yolo/images/val/olen_Im_0000355_1.jpg: 3 duplicate labels removed\n",
      "\u001b[34m\u001b[1mval: \u001b[0mWARNING ⚠️ /home/jupyter/work/resources/data_yolo/images/val/olen_Im_0000375.jpg: 7 duplicate labels removed\n",
      "\u001b[34m\u001b[1mval: \u001b[0mWARNING ⚠️ /home/jupyter/work/resources/data_yolo/images/val/olen_Im_0000379_1.jpg: 5 duplicate labels removed\n",
      "\u001b[34m\u001b[1mval: \u001b[0mWARNING ⚠️ /home/jupyter/work/resources/data_yolo/images/val/olen_Im_0000392_1.jpg: 2 duplicate labels removed\n",
      "\u001b[34m\u001b[1mval: \u001b[0mWARNING ⚠️ /home/jupyter/work/resources/data_yolo/images/val/olen_Im_0000396.jpg: 6 duplicate labels removed\n",
      "\u001b[34m\u001b[1mval: \u001b[0mWARNING ⚠️ /home/jupyter/work/resources/data_yolo/images/val/olen_Im_0000409_2.jpg: 3 duplicate labels removed\n",
      "\u001b[34m\u001b[1mval: \u001b[0mWARNING ⚠️ /home/jupyter/work/resources/data_yolo/images/val/olen_Im_0000416.jpg: 3 duplicate labels removed\n",
      "\u001b[34m\u001b[1mval: \u001b[0mWARNING ⚠️ /home/jupyter/work/resources/data_yolo/images/val/olen_Im_0000420_1.jpg: 3 duplicate labels removed\n",
      "\u001b[34m\u001b[1mval: \u001b[0mWARNING ⚠️ /home/jupyter/work/resources/data_yolo/images/val/olen_Im_0000422.jpg: 5 duplicate labels removed\n",
      "\u001b[34m\u001b[1mval: \u001b[0mWARNING ⚠️ /home/jupyter/work/resources/data_yolo/images/val/olen_Im_0000424.jpg: 2 duplicate labels removed\n",
      "\u001b[34m\u001b[1mval: \u001b[0mWARNING ⚠️ /home/jupyter/work/resources/data_yolo/images/val/olen_Im_0000424_1.jpg: 4 duplicate labels removed\n",
      "\u001b[34m\u001b[1mval: \u001b[0mWARNING ⚠️ /home/jupyter/work/resources/data_yolo/images/val/olen_Im_0000430_1.jpg: 2 duplicate labels removed\n",
      "\u001b[34m\u001b[1mval: \u001b[0mWARNING ⚠️ /home/jupyter/work/resources/data_yolo/images/val/olen_Im_0000437.jpg: 10 duplicate labels removed\n",
      "\u001b[34m\u001b[1mval: \u001b[0mWARNING ⚠️ /home/jupyter/work/resources/data_yolo/images/val/olen_Im_0000446.jpg: 9 duplicate labels removed\n",
      "\u001b[34m\u001b[1mval: \u001b[0mWARNING ⚠️ /home/jupyter/work/resources/data_yolo/images/val/olen_Im_0000488.jpg: 3 duplicate labels removed\n",
      "\u001b[34m\u001b[1mval: \u001b[0mWARNING ⚠️ /home/jupyter/work/resources/data_yolo/images/val/olen_Im_0000534.jpg: 1 duplicate labels removed\n",
      "\u001b[34m\u001b[1mval: \u001b[0mWARNING ⚠️ /home/jupyter/work/resources/data_yolo/images/val/olen_Im_0000536.jpg: 1 duplicate labels removed\n",
      "\u001b[34m\u001b[1mval: \u001b[0mWARNING ⚠️ /home/jupyter/work/resources/data_yolo/images/val/olen_Im_0000549.jpg: 2 duplicate labels removed\n",
      "\u001b[34m\u001b[1mval: \u001b[0mWARNING ⚠️ /home/jupyter/work/resources/data_yolo/images/val/olen_Im_0000564.jpg: 3 duplicate labels removed\n",
      "\u001b[34m\u001b[1mval: \u001b[0mWARNING ⚠️ /home/jupyter/work/resources/data_yolo/images/val/olen_Im_0000564_1.jpg: 7 duplicate labels removed\n",
      "\u001b[34m\u001b[1mval: \u001b[0mWARNING ⚠️ /home/jupyter/work/resources/data_yolo/images/val/olen_Im_0000565.jpg: 5 duplicate labels removed\n",
      "\u001b[34m\u001b[1mval: \u001b[0mWARNING ⚠️ /home/jupyter/work/resources/data_yolo/images/val/olen_Im_0000579.jpg: 1 duplicate labels removed\n",
      "\u001b[34m\u001b[1mval: \u001b[0mWARNING ⚠️ /home/jupyter/work/resources/data_yolo/images/val/olen_Im_0000609.jpg: 1 duplicate labels removed\n",
      "\u001b[34m\u001b[1mval: \u001b[0mWARNING ⚠️ /home/jupyter/work/resources/data_yolo/images/val/olen_Im_0000610.jpg: 5 duplicate labels removed\n",
      "\u001b[34m\u001b[1mval: \u001b[0mWARNING ⚠️ /home/jupyter/work/resources/data_yolo/images/val/olen_Im_0000613_1.jpg: 2 duplicate labels removed\n",
      "\u001b[34m\u001b[1mval: \u001b[0mWARNING ⚠️ /home/jupyter/work/resources/data_yolo/images/val/olen_Im_0000620_1.jpg: 5 duplicate labels removed\n",
      "\u001b[34m\u001b[1mval: \u001b[0mWARNING ⚠️ /home/jupyter/work/resources/data_yolo/images/val/olen_Im_0000625_1.jpg: 5 duplicate labels removed\n",
      "\u001b[34m\u001b[1mval: \u001b[0mWARNING ⚠️ /home/jupyter/work/resources/data_yolo/images/val/olen_Im_0000646.jpg: 2 duplicate labels removed\n",
      "\u001b[34m\u001b[1mval: \u001b[0mWARNING ⚠️ /home/jupyter/work/resources/data_yolo/images/val/olen_Im_0000656.jpg: 4 duplicate labels removed\n",
      "\u001b[34m\u001b[1mval: \u001b[0mWARNING ⚠️ /home/jupyter/work/resources/data_yolo/images/val/olen_Im_0000662_1.jpg: 6 duplicate labels removed\n",
      "\u001b[34m\u001b[1mval: \u001b[0mWARNING ⚠️ /home/jupyter/work/resources/data_yolo/images/val/olen_Im_0000669.jpg: 2 duplicate labels removed\n",
      "\u001b[34m\u001b[1mval: \u001b[0mWARNING ⚠️ /home/jupyter/work/resources/data_yolo/images/val/olen_Im_0000674_1.jpg: 1 duplicate labels removed\n",
      "\u001b[34m\u001b[1mval: \u001b[0mWARNING ⚠️ /home/jupyter/work/resources/data_yolo/images/val/olen_Im_0000679.jpg: 3 duplicate labels removed\n",
      "\u001b[34m\u001b[1mval: \u001b[0mWARNING ⚠️ /home/jupyter/work/resources/data_yolo/images/val/olen_Im_0000684.jpg: 5 duplicate labels removed\n",
      "\u001b[34m\u001b[1mval: \u001b[0mWARNING ⚠️ /home/jupyter/work/resources/data_yolo/images/val/olen_Im_0000690.jpg: 2 duplicate labels removed\n",
      "\u001b[34m\u001b[1mval: \u001b[0mWARNING ⚠️ /home/jupyter/work/resources/data_yolo/images/val/olen_Im_0000691.jpg: 3 duplicate labels removed\n",
      "\u001b[34m\u001b[1mval: \u001b[0mWARNING ⚠️ /home/jupyter/work/resources/data_yolo/images/val/olen_Im_0000692_1.jpg: 5 duplicate labels removed\n",
      "\u001b[34m\u001b[1mval: \u001b[0mWARNING ⚠️ /home/jupyter/work/resources/data_yolo/images/val/olen_Im_0000696.jpg: 2 duplicate labels removed\n",
      "\u001b[34m\u001b[1mval: \u001b[0mWARNING ⚠️ /home/jupyter/work/resources/data_yolo/images/val/olen_Im_0000707.jpg: 2 duplicate labels removed\n",
      "\u001b[34m\u001b[1mval: \u001b[0mWARNING ⚠️ /home/jupyter/work/resources/data_yolo/images/val/olen_Im_0000710.jpg: 3 duplicate labels removed\n",
      "\u001b[34m\u001b[1mval: \u001b[0mWARNING ⚠️ /home/jupyter/work/resources/data_yolo/images/val/olen_Im_0000725_1.jpg: 5 duplicate labels removed\n",
      "\u001b[34m\u001b[1mval: \u001b[0mWARNING ⚠️ /home/jupyter/work/resources/data_yolo/images/val/olen_Im_0000745_1.jpg: 1 duplicate labels removed\n",
      "\u001b[34m\u001b[1mval: \u001b[0mWARNING ⚠️ /home/jupyter/work/resources/data_yolo/images/val/olen_Im_0000748.jpg: 3 duplicate labels removed\n",
      "\u001b[34m\u001b[1mval: \u001b[0mWARNING ⚠️ /home/jupyter/work/resources/data_yolo/images/val/olen_Im_0000753.jpg: 1 duplicate labels removed\n",
      "\u001b[34m\u001b[1mval: \u001b[0mWARNING ⚠️ /home/jupyter/work/resources/data_yolo/images/val/olen_Im_0000756.jpg: 6 duplicate labels removed\n",
      "\u001b[34m\u001b[1mval: \u001b[0mWARNING ⚠️ /home/jupyter/work/resources/data_yolo/images/val/olen_Im_0000758_1.jpg: 3 duplicate labels removed\n",
      "\u001b[34m\u001b[1mval: \u001b[0mWARNING ⚠️ /home/jupyter/work/resources/data_yolo/images/val/olen_Im_0000766_1.jpg: 1 duplicate labels removed\n",
      "\u001b[34m\u001b[1mval: \u001b[0mWARNING ⚠️ /home/jupyter/work/resources/data_yolo/images/val/olen_Im_0000772.jpg: 2 duplicate labels removed\n",
      "\u001b[34m\u001b[1mval: \u001b[0mWARNING ⚠️ /home/jupyter/work/resources/data_yolo/images/val/olen_Im_0000778_1.jpg: 5 duplicate labels removed\n",
      "\u001b[34m\u001b[1mval: \u001b[0mWARNING ⚠️ /home/jupyter/work/resources/data_yolo/images/val/olen_Im_0000798.jpg: 1 duplicate labels removed\n",
      "\u001b[34m\u001b[1mval: \u001b[0mWARNING ⚠️ /home/jupyter/work/resources/data_yolo/images/val/olen_Im_0000806.jpg: 8 duplicate labels removed\n",
      "\u001b[34m\u001b[1mval: \u001b[0mWARNING ⚠️ /home/jupyter/work/resources/data_yolo/images/val/olen_Im_0000814.jpg: 1 duplicate labels removed\n",
      "\u001b[34m\u001b[1mval: \u001b[0mWARNING ⚠️ /home/jupyter/work/resources/data_yolo/images/val/olen_Im_0000844.jpg: 3 duplicate labels removed\n",
      "\u001b[34m\u001b[1mval: \u001b[0mWARNING ⚠️ /home/jupyter/work/resources/data_yolo/images/val/olen_Im_0000852.jpg: 9 duplicate labels removed\n",
      "\u001b[34m\u001b[1mval: \u001b[0mWARNING ⚠️ /home/jupyter/work/resources/data_yolo/images/val/olen_Im_0000870.jpg: 2 duplicate labels removed\n",
      "\u001b[34m\u001b[1mval: \u001b[0mWARNING ⚠️ /home/jupyter/work/resources/data_yolo/images/val/olen_Im_0000877.jpg: 2 duplicate labels removed\n",
      "\u001b[34m\u001b[1mval: \u001b[0mWARNING ⚠️ /home/jupyter/work/resources/data_yolo/images/val/olen_Im_0000887.jpg: 1 duplicate labels removed\n",
      "\u001b[34m\u001b[1mval: \u001b[0mWARNING ⚠️ /home/jupyter/work/resources/data_yolo/images/val/olen_Im_0000914_1.jpg: 5 duplicate labels removed\n",
      "\u001b[34m\u001b[1mval: \u001b[0mWARNING ⚠️ /home/jupyter/work/resources/data_yolo/images/val/olen_Im_0000927.jpg: 5 duplicate labels removed\n",
      "\u001b[34m\u001b[1mval: \u001b[0mWARNING ⚠️ /home/jupyter/work/resources/data_yolo/images/val/olen_Im_0000933_1.jpg: 3 duplicate labels removed\n",
      "\u001b[34m\u001b[1mval: \u001b[0mWARNING ⚠️ /home/jupyter/work/resources/data_yolo/images/val/olen_Im_0000940.jpg: 1 duplicate labels removed\n",
      "\u001b[34m\u001b[1mval: \u001b[0mWARNING ⚠️ /home/jupyter/work/resources/data_yolo/images/val/olen_Im_0000941.jpg: 4 duplicate labels removed\n",
      "\u001b[34m\u001b[1mval: \u001b[0mWARNING ⚠️ /home/jupyter/work/resources/data_yolo/images/val/olen_Im_0000950.jpg: 3 duplicate labels removed\n",
      "\u001b[34m\u001b[1mval: \u001b[0mWARNING ⚠️ /home/jupyter/work/resources/data_yolo/images/val/olen_Im_0000950_1.jpg: 5 duplicate labels removed\n",
      "\u001b[34m\u001b[1mval: \u001b[0mWARNING ⚠️ /home/jupyter/work/resources/data_yolo/images/val/olen_Im_0000964_1.jpg: 4 duplicate labels removed\n",
      "\u001b[34m\u001b[1mval: \u001b[0mWARNING ⚠️ /home/jupyter/work/resources/data_yolo/images/val/olen_Im_0000969.jpg: 5 duplicate labels removed\n",
      "\u001b[34m\u001b[1mval: \u001b[0mWARNING ⚠️ /home/jupyter/work/resources/data_yolo/images/val/olen_Im_0000969_1.jpg: 1 duplicate labels removed\n",
      "\u001b[34m\u001b[1mval: \u001b[0mWARNING ⚠️ /home/jupyter/work/resources/data_yolo/images/val/olen_Im_0000970.jpg: 5 duplicate labels removed\n",
      "\u001b[34m\u001b[1mval: \u001b[0mWARNING ⚠️ /home/jupyter/work/resources/data_yolo/images/val/olen_Im_0000972.jpg: 2 duplicate labels removed\n",
      "\u001b[34m\u001b[1mval: \u001b[0mWARNING ⚠️ /home/jupyter/work/resources/data_yolo/images/val/olen_Im_0000981.jpg: 3 duplicate labels removed\n",
      "\u001b[34m\u001b[1mval: \u001b[0mWARNING ⚠️ /home/jupyter/work/resources/data_yolo/images/val/olen_Im_0000987.jpg: 3 duplicate labels removed\n",
      "\u001b[34m\u001b[1mval: \u001b[0mWARNING ⚠️ /home/jupyter/work/resources/data_yolo/images/val/olen_Im_0001020.jpg: 2 duplicate labels removed\n",
      "\u001b[34m\u001b[1mval: \u001b[0mWARNING ⚠️ /home/jupyter/work/resources/data_yolo/images/val/olen_Im_0001027_1.jpg: 5 duplicate labels removed\n",
      "\u001b[34m\u001b[1mval: \u001b[0mWARNING ⚠️ /home/jupyter/work/resources/data_yolo/images/val/olen_Im_0001038.jpg: 1 duplicate labels removed\n",
      "\u001b[34m\u001b[1mval: \u001b[0mWARNING ⚠️ /home/jupyter/work/resources/data_yolo/images/val/olen_Im_0001050.jpg: 7 duplicate labels removed\n",
      "\u001b[34m\u001b[1mval: \u001b[0mWARNING ⚠️ /home/jupyter/work/resources/data_yolo/images/val/olen_Im_0001051.jpg: 2 duplicate labels removed\n",
      "\u001b[34m\u001b[1mval: \u001b[0mWARNING ⚠️ /home/jupyter/work/resources/data_yolo/images/val/olen_Im_0001060.jpg: 4 duplicate labels removed\n",
      "\u001b[34m\u001b[1mval: \u001b[0mWARNING ⚠️ /home/jupyter/work/resources/data_yolo/images/val/olen_Im_0001066.jpg: 2 duplicate labels removed\n",
      "\u001b[34m\u001b[1mval: \u001b[0mWARNING ⚠️ /home/jupyter/work/resources/data_yolo/images/val/olen_Im_0001080.jpg: 2 duplicate labels removed\n",
      "\u001b[34m\u001b[1mval: \u001b[0mWARNING ⚠️ /home/jupyter/work/resources/data_yolo/images/val/olen_Im_0001089.jpg: 2 duplicate labels removed\n",
      "\u001b[34m\u001b[1mval: \u001b[0mWARNING ⚠️ /home/jupyter/work/resources/data_yolo/images/val/olen_Im_0001094.jpg: 8 duplicate labels removed\n",
      "\u001b[34m\u001b[1mval: \u001b[0mWARNING ⚠️ /home/jupyter/work/resources/data_yolo/images/val/olen_Im_0001095_1.jpg: 4 duplicate labels removed\n",
      "\u001b[34m\u001b[1mval: \u001b[0mWARNING ⚠️ /home/jupyter/work/resources/data_yolo/images/val/olen_Im_0001103.jpg: 5 duplicate labels removed\n",
      "\u001b[34m\u001b[1mval: \u001b[0mWARNING ⚠️ /home/jupyter/work/resources/data_yolo/images/val/olen_Im_0001105.jpg: 7 duplicate labels removed\n",
      "\u001b[34m\u001b[1mval: \u001b[0mWARNING ⚠️ /home/jupyter/work/resources/data_yolo/images/val/olen_Im_0001117.jpg: 9 duplicate labels removed\n",
      "\u001b[34m\u001b[1mval: \u001b[0mWARNING ⚠️ /home/jupyter/work/resources/data_yolo/images/val/olen_Im_0001134.jpg: 1 duplicate labels removed\n",
      "\u001b[34m\u001b[1mval: \u001b[0mWARNING ⚠️ /home/jupyter/work/resources/data_yolo/images/val/olen_Im_0001141.jpg: 3 duplicate labels removed\n",
      "\u001b[34m\u001b[1mval: \u001b[0mWARNING ⚠️ /home/jupyter/work/resources/data_yolo/images/val/olen_Im_0001147.jpg: 8 duplicate labels removed\n",
      "\u001b[34m\u001b[1mval: \u001b[0mWARNING ⚠️ /home/jupyter/work/resources/data_yolo/images/val/olen_Im_0001160.jpg: 3 duplicate labels removed\n",
      "\u001b[34m\u001b[1mval: \u001b[0mWARNING ⚠️ /home/jupyter/work/resources/data_yolo/images/val/olen_Im_0001163.jpg: 2 duplicate labels removed\n",
      "\u001b[34m\u001b[1mval: \u001b[0mWARNING ⚠️ /home/jupyter/work/resources/data_yolo/images/val/olen_Im_0001175.jpg: 1 duplicate labels removed\n",
      "\u001b[34m\u001b[1mval: \u001b[0mWARNING ⚠️ /home/jupyter/work/resources/data_yolo/images/val/olen_Im_0001178_2.jpg: 6 duplicate labels removed\n",
      "\u001b[34m\u001b[1mval: \u001b[0mWARNING ⚠️ /home/jupyter/work/resources/data_yolo/images/val/olen_Im_0001179.jpg: 4 duplicate labels removed\n",
      "\u001b[34m\u001b[1mval: \u001b[0mWARNING ⚠️ /home/jupyter/work/resources/data_yolo/images/val/olen_Im_0001180.jpg: 1 duplicate labels removed\n",
      "\u001b[34m\u001b[1mval: \u001b[0mWARNING ⚠️ /home/jupyter/work/resources/data_yolo/images/val/olen_Im_0001186_1.jpg: 3 duplicate labels removed\n",
      "\u001b[34m\u001b[1mval: \u001b[0mWARNING ⚠️ /home/jupyter/work/resources/data_yolo/images/val/olen_Im_0001193.jpg: 6 duplicate labels removed\n",
      "\u001b[34m\u001b[1mval: \u001b[0mWARNING ⚠️ /home/jupyter/work/resources/data_yolo/images/val/olen_Im_0001223_1.jpg: 4 duplicate labels removed\n",
      "\u001b[34m\u001b[1mval: \u001b[0mWARNING ⚠️ /home/jupyter/work/resources/data_yolo/images/val/olen_Im_0001224.jpg: 5 duplicate labels removed\n",
      "\u001b[34m\u001b[1mval: \u001b[0mWARNING ⚠️ /home/jupyter/work/resources/data_yolo/images/val/olen_Im_0001232.jpg: 2 duplicate labels removed\n",
      "\u001b[34m\u001b[1mval: \u001b[0mWARNING ⚠️ /home/jupyter/work/resources/data_yolo/images/val/olen_Im_0001232_2.jpg: 3 duplicate labels removed\n",
      "\u001b[34m\u001b[1mval: \u001b[0mWARNING ⚠️ /home/jupyter/work/resources/data_yolo/images/val/olen_Im_0001255.jpg: 3 duplicate labels removed\n",
      "\u001b[34m\u001b[1mval: \u001b[0mWARNING ⚠️ /home/jupyter/work/resources/data_yolo/images/val/olen_Im_0001293.jpg: 3 duplicate labels removed\n",
      "\u001b[34m\u001b[1mval: \u001b[0mWARNING ⚠️ /home/jupyter/work/resources/data_yolo/images/val/olen_Im_0001296.jpg: 7 duplicate labels removed\n",
      "\u001b[34m\u001b[1mval: \u001b[0mWARNING ⚠️ /home/jupyter/work/resources/data_yolo/images/val/olen_Im_0001300.jpg: 1 duplicate labels removed\n",
      "\u001b[34m\u001b[1mval: \u001b[0mWARNING ⚠️ /home/jupyter/work/resources/data_yolo/images/val/olen_Im_0001301.jpg: 1 duplicate labels removed\n",
      "\u001b[34m\u001b[1mval: \u001b[0mWARNING ⚠️ /home/jupyter/work/resources/data_yolo/images/val/olen_Im_0001301_2.jpg: 3 duplicate labels removed\n",
      "\u001b[34m\u001b[1mval: \u001b[0mWARNING ⚠️ /home/jupyter/work/resources/data_yolo/images/val/olen_Im_0001306_1.jpg: 4 duplicate labels removed\n",
      "\u001b[34m\u001b[1mval: \u001b[0mWARNING ⚠️ /home/jupyter/work/resources/data_yolo/images/val/olen_Im_0001317.jpg: 4 duplicate labels removed\n",
      "\u001b[34m\u001b[1mval: \u001b[0mWARNING ⚠️ /home/jupyter/work/resources/data_yolo/images/val/olen_Im_0001324.jpg: 4 duplicate labels removed\n",
      "\u001b[34m\u001b[1mval: \u001b[0mWARNING ⚠️ /home/jupyter/work/resources/data_yolo/images/val/olen_Im_0001341.jpg: 2 duplicate labels removed\n",
      "\u001b[34m\u001b[1mval: \u001b[0mWARNING ⚠️ /home/jupyter/work/resources/data_yolo/images/val/olen_Im_0001349.jpg: 4 duplicate labels removed\n",
      "\u001b[34m\u001b[1mval: \u001b[0mWARNING ⚠️ /home/jupyter/work/resources/data_yolo/images/val/olen_Im_0001353.jpg: 3 duplicate labels removed\n",
      "\u001b[34m\u001b[1mval: \u001b[0mWARNING ⚠️ /home/jupyter/work/resources/data_yolo/images/val/olen_Im_0001373.jpg: 1 duplicate labels removed\n",
      "\u001b[34m\u001b[1mval: \u001b[0mWARNING ⚠️ /home/jupyter/work/resources/data_yolo/images/val/olen_Im_0001376.jpg: 4 duplicate labels removed\n",
      "\u001b[34m\u001b[1mval: \u001b[0mWARNING ⚠️ /home/jupyter/work/resources/data_yolo/images/val/olen_Im_0001381_1.jpg: 4 duplicate labels removed\n",
      "\u001b[34m\u001b[1mval: \u001b[0mWARNING ⚠️ /home/jupyter/work/resources/data_yolo/images/val/olen_Im_0001387.jpg: 3 duplicate labels removed\n",
      "\u001b[34m\u001b[1mval: \u001b[0mWARNING ⚠️ /home/jupyter/work/resources/data_yolo/images/val/olen_Im_0001387_1.jpg: 3 duplicate labels removed\n",
      "\u001b[34m\u001b[1mval: \u001b[0mWARNING ⚠️ /home/jupyter/work/resources/data_yolo/images/val/olen_Im_0001389_2.jpg: 1 duplicate labels removed\n",
      "\u001b[34m\u001b[1mval: \u001b[0mWARNING ⚠️ /home/jupyter/work/resources/data_yolo/images/val/olen_Im_0001399.jpg: 5 duplicate labels removed\n",
      "\u001b[34m\u001b[1mval: \u001b[0mWARNING ⚠️ /home/jupyter/work/resources/data_yolo/images/val/olen_Im_0001401.jpg: 5 duplicate labels removed\n",
      "\u001b[34m\u001b[1mval: \u001b[0mWARNING ⚠️ /home/jupyter/work/resources/data_yolo/images/val/olen_Im_0001404.jpg: 3 duplicate labels removed\n",
      "\u001b[34m\u001b[1mval: \u001b[0mWARNING ⚠️ /home/jupyter/work/resources/data_yolo/images/val/olen_Im_0001405.jpg: 4 duplicate labels removed\n",
      "\u001b[34m\u001b[1mval: \u001b[0mWARNING ⚠️ /home/jupyter/work/resources/data_yolo/images/val/olen_Im_0001418.jpg: 7 duplicate labels removed\n",
      "\u001b[34m\u001b[1mval: \u001b[0mWARNING ⚠️ /home/jupyter/work/resources/data_yolo/images/val/olen_Im_0001420_1.jpg: 3 duplicate labels removed\n",
      "\u001b[34m\u001b[1mval: \u001b[0mWARNING ⚠️ /home/jupyter/work/resources/data_yolo/images/val/olen_Im_0001425_2.jpg: 6 duplicate labels removed\n",
      "\u001b[34m\u001b[1mval: \u001b[0mWARNING ⚠️ /home/jupyter/work/resources/data_yolo/images/val/olen_Im_0001436.jpg: 3 duplicate labels removed\n",
      "\u001b[34m\u001b[1mval: \u001b[0mWARNING ⚠️ /home/jupyter/work/resources/data_yolo/images/val/olen_Im_0001444.jpg: 4 duplicate labels removed\n",
      "\u001b[34m\u001b[1mval: \u001b[0mWARNING ⚠️ /home/jupyter/work/resources/data_yolo/images/val/olen_Im_0001451.jpg: 2 duplicate labels removed\n",
      "\u001b[34m\u001b[1mval: \u001b[0mWARNING ⚠️ /home/jupyter/work/resources/data_yolo/images/val/olen_Im_0001463.jpg: 1 duplicate labels removed\n",
      "\u001b[34m\u001b[1mval: \u001b[0mWARNING ⚠️ /home/jupyter/work/resources/data_yolo/images/val/olen_Im_0001466.jpg: 4 duplicate labels removed\n",
      "\u001b[34m\u001b[1mval: \u001b[0mWARNING ⚠️ /home/jupyter/work/resources/data_yolo/images/val/olen_Im_0001467_1.jpg: 2 duplicate labels removed\n",
      "\u001b[34m\u001b[1mval: \u001b[0mWARNING ⚠️ /home/jupyter/work/resources/data_yolo/images/val/olen_Im_0001480.jpg: 4 duplicate labels removed\n",
      "\u001b[34m\u001b[1mval: \u001b[0mWARNING ⚠️ /home/jupyter/work/resources/data_yolo/images/val/olen_Im_0001484.jpg: 1 duplicate labels removed\n",
      "\u001b[34m\u001b[1mval: \u001b[0mWARNING ⚠️ /home/jupyter/work/resources/data_yolo/images/val/olen_Im_0001496.jpg: 4 duplicate labels removed\n",
      "\u001b[34m\u001b[1mval: \u001b[0mWARNING ⚠️ /home/jupyter/work/resources/data_yolo/images/val/olen_Im_0001502.jpg: 6 duplicate labels removed\n",
      "\u001b[34m\u001b[1mval: \u001b[0mWARNING ⚠️ /home/jupyter/work/resources/data_yolo/images/val/olen_Im_0001542.jpg: 5 duplicate labels removed\n",
      "\u001b[34m\u001b[1mval: \u001b[0mWARNING ⚠️ /home/jupyter/work/resources/data_yolo/images/val/olen_Im_0001543_1.jpg: 6 duplicate labels removed\n",
      "\u001b[34m\u001b[1mval: \u001b[0mWARNING ⚠️ /home/jupyter/work/resources/data_yolo/images/val/olen_Im_0001553.jpg: 3 duplicate labels removed\n",
      "\u001b[34m\u001b[1mval: \u001b[0mWARNING ⚠️ /home/jupyter/work/resources/data_yolo/images/val/olen_Im_0001560_2.jpg: 5 duplicate labels removed\n",
      "\u001b[34m\u001b[1mval: \u001b[0mWARNING ⚠️ /home/jupyter/work/resources/data_yolo/images/val/olen_Im_0001562.jpg: 4 duplicate labels removed\n",
      "\u001b[34m\u001b[1mval: \u001b[0mWARNING ⚠️ /home/jupyter/work/resources/data_yolo/images/val/olen_Im_0001574.jpg: 1 duplicate labels removed\n",
      "\u001b[34m\u001b[1mval: \u001b[0mWARNING ⚠️ /home/jupyter/work/resources/data_yolo/images/val/olen_Im_0001587.jpg: 2 duplicate labels removed\n",
      "\u001b[34m\u001b[1mval: \u001b[0mWARNING ⚠️ /home/jupyter/work/resources/data_yolo/images/val/olen_Im_0001593.jpg: 3 duplicate labels removed\n",
      "\u001b[34m\u001b[1mval: \u001b[0mWARNING ⚠️ /home/jupyter/work/resources/data_yolo/images/val/olen_Im_0001602.jpg: 2 duplicate labels removed\n",
      "\u001b[34m\u001b[1mval: \u001b[0mWARNING ⚠️ /home/jupyter/work/resources/data_yolo/images/val/olen_Im_0001604_2.jpg: 5 duplicate labels removed\n",
      "\u001b[34m\u001b[1mval: \u001b[0mWARNING ⚠️ /home/jupyter/work/resources/data_yolo/images/val/olen_Im_0001614.jpg: 4 duplicate labels removed\n",
      "\u001b[34m\u001b[1mval: \u001b[0mWARNING ⚠️ /home/jupyter/work/resources/data_yolo/images/val/olen_Im_0001627.jpg: 2 duplicate labels removed\n",
      "\u001b[34m\u001b[1mval: \u001b[0mWARNING ⚠️ /home/jupyter/work/resources/data_yolo/images/val/olen_Im_0001633_1.jpg: 2 duplicate labels removed\n",
      "\u001b[34m\u001b[1mval: \u001b[0mWARNING ⚠️ /home/jupyter/work/resources/data_yolo/images/val/olen_Im_0001640.jpg: 2 duplicate labels removed\n",
      "\u001b[34m\u001b[1mval: \u001b[0mWARNING ⚠️ /home/jupyter/work/resources/data_yolo/images/val/olen_Im_0001641.jpg: 6 duplicate labels removed\n",
      "\u001b[34m\u001b[1mval: \u001b[0mWARNING ⚠️ /home/jupyter/work/resources/data_yolo/images/val/olen_Im_0001642.jpg: 3 duplicate labels removed\n",
      "\u001b[34m\u001b[1mval: \u001b[0mWARNING ⚠️ /home/jupyter/work/resources/data_yolo/images/val/olen_Im_0001644_1.jpg: 4 duplicate labels removed\n",
      "\u001b[34m\u001b[1mval: \u001b[0mWARNING ⚠️ /home/jupyter/work/resources/data_yolo/images/val/olen_Im_0001660_1.jpg: 3 duplicate labels removed\n",
      "\u001b[34m\u001b[1mval: \u001b[0mWARNING ⚠️ /home/jupyter/work/resources/data_yolo/images/val/olen_Im_0001671.jpg: 2 duplicate labels removed\n",
      "\u001b[34m\u001b[1mval: \u001b[0mWARNING ⚠️ /home/jupyter/work/resources/data_yolo/images/val/olen_Im_0001673.jpg: 8 duplicate labels removed\n",
      "\u001b[34m\u001b[1mval: \u001b[0mWARNING ⚠️ /home/jupyter/work/resources/data_yolo/images/val/olen_Im_0001676.jpg: 9 duplicate labels removed\n",
      "\u001b[34m\u001b[1mval: \u001b[0mWARNING ⚠️ /home/jupyter/work/resources/data_yolo/images/val/olen_Im_0001679.jpg: 2 duplicate labels removed\n",
      "\u001b[34m\u001b[1mval: \u001b[0mWARNING ⚠️ /home/jupyter/work/resources/data_yolo/images/val/olen_Im_0001683.jpg: 1 duplicate labels removed\n",
      "\u001b[34m\u001b[1mval: \u001b[0mWARNING ⚠️ /home/jupyter/work/resources/data_yolo/images/val/olen_Im_0001699.jpg: 1 duplicate labels removed\n",
      "\u001b[34m\u001b[1mval: \u001b[0mWARNING ⚠️ /home/jupyter/work/resources/data_yolo/images/val/olen_Im_0001703.jpg: 3 duplicate labels removed\n",
      "\u001b[34m\u001b[1mval: \u001b[0mWARNING ⚠️ /home/jupyter/work/resources/data_yolo/images/val/olen_Im_0001706.jpg: 1 duplicate labels removed\n",
      "\u001b[34m\u001b[1mval: \u001b[0mWARNING ⚠️ /home/jupyter/work/resources/data_yolo/images/val/olen_Im_0001709.jpg: 2 duplicate labels removed\n",
      "\u001b[34m\u001b[1mval: \u001b[0mWARNING ⚠️ /home/jupyter/work/resources/data_yolo/images/val/olen_Im_0001710_1.jpg: 4 duplicate labels removed\n",
      "\u001b[34m\u001b[1mval: \u001b[0mWARNING ⚠️ /home/jupyter/work/resources/data_yolo/images/val/olen_Im_0001724_1.jpg: 4 duplicate labels removed\n",
      "\u001b[34m\u001b[1mval: \u001b[0mWARNING ⚠️ /home/jupyter/work/resources/data_yolo/images/val/olen_Im_0001727_3.jpg: 1 duplicate labels removed\n",
      "\u001b[34m\u001b[1mval: \u001b[0mWARNING ⚠️ /home/jupyter/work/resources/data_yolo/images/val/olen_Im_0001737.jpg: 1 duplicate labels removed\n",
      "\u001b[34m\u001b[1mval: \u001b[0mWARNING ⚠️ /home/jupyter/work/resources/data_yolo/images/val/olen_Im_0001741.jpg: 5 duplicate labels removed\n",
      "\u001b[34m\u001b[1mval: \u001b[0mWARNING ⚠️ /home/jupyter/work/resources/data_yolo/images/val/olen_Im_0001754.jpg: 2 duplicate labels removed\n",
      "\u001b[34m\u001b[1mval: \u001b[0mWARNING ⚠️ /home/jupyter/work/resources/data_yolo/images/val/olen_Im_0001759.jpg: 1 duplicate labels removed\n",
      "\u001b[34m\u001b[1mval: \u001b[0mWARNING ⚠️ /home/jupyter/work/resources/data_yolo/images/val/olen_Im_0001780_1.jpg: 5 duplicate labels removed\n",
      "\u001b[34m\u001b[1mval: \u001b[0mWARNING ⚠️ /home/jupyter/work/resources/data_yolo/images/val/olen_Im_0001791.jpg: 2 duplicate labels removed\n",
      "\u001b[34m\u001b[1mval: \u001b[0mWARNING ⚠️ /home/jupyter/work/resources/data_yolo/images/val/olen_Im_0001797_1.jpg: 8 duplicate labels removed\n",
      "\u001b[34m\u001b[1mval: \u001b[0mWARNING ⚠️ /home/jupyter/work/resources/data_yolo/images/val/olen_Im_0001822_1.jpg: 2 duplicate labels removed\n",
      "\u001b[34m\u001b[1mval: \u001b[0mWARNING ⚠️ /home/jupyter/work/resources/data_yolo/images/val/olen_Im_0001830_1.jpg: 7 duplicate labels removed\n",
      "\u001b[34m\u001b[1mval: \u001b[0mWARNING ⚠️ /home/jupyter/work/resources/data_yolo/images/val/olen_Im_0001849.jpg: 2 duplicate labels removed\n",
      "\u001b[34m\u001b[1mval: \u001b[0mWARNING ⚠️ /home/jupyter/work/resources/data_yolo/images/val/olen_Im_0001868.jpg: 3 duplicate labels removed\n",
      "\u001b[34m\u001b[1mval: \u001b[0mWARNING ⚠️ /home/jupyter/work/resources/data_yolo/images/val/olen_Im_0001879_1.jpg: 2 duplicate labels removed\n",
      "\u001b[34m\u001b[1mval: \u001b[0mWARNING ⚠️ /home/jupyter/work/resources/data_yolo/images/val/olen_Im_0001891.jpg: 4 duplicate labels removed\n",
      "\u001b[34m\u001b[1mval: \u001b[0mWARNING ⚠️ /home/jupyter/work/resources/data_yolo/images/val/olen_Im_0001900.jpg: 5 duplicate labels removed\n",
      "\u001b[34m\u001b[1mval: \u001b[0mWARNING ⚠️ /home/jupyter/work/resources/data_yolo/images/val/olen_Im_0001904.jpg: 1 duplicate labels removed\n",
      "\u001b[34m\u001b[1mval: \u001b[0mWARNING ⚠️ /home/jupyter/work/resources/data_yolo/images/val/olen_Im_0001911_1.jpg: 6 duplicate labels removed\n",
      "\u001b[34m\u001b[1mval: \u001b[0mWARNING ⚠️ /home/jupyter/work/resources/data_yolo/images/val/olen_Im_0001915_1.jpg: 4 duplicate labels removed\n",
      "\u001b[34m\u001b[1mval: \u001b[0mWARNING ⚠️ /home/jupyter/work/resources/data_yolo/images/val/olen_Im_0001924.jpg: 1 duplicate labels removed\n",
      "\u001b[34m\u001b[1mval: \u001b[0mWARNING ⚠️ /home/jupyter/work/resources/data_yolo/images/val/olen_Im_0001930.jpg: 1 duplicate labels removed\n",
      "\u001b[34m\u001b[1mval: \u001b[0mWARNING ⚠️ /home/jupyter/work/resources/data_yolo/images/val/olen_Im_0001931.jpg: 3 duplicate labels removed\n",
      "\u001b[34m\u001b[1mval: \u001b[0mWARNING ⚠️ /home/jupyter/work/resources/data_yolo/images/val/olen_Im_0001938.jpg: 4 duplicate labels removed\n",
      "\u001b[34m\u001b[1mval: \u001b[0mWARNING ⚠️ /home/jupyter/work/resources/data_yolo/images/val/olen_Im_0001946.jpg: 5 duplicate labels removed\n",
      "\u001b[34m\u001b[1mval: \u001b[0mWARNING ⚠️ /home/jupyter/work/resources/data_yolo/images/val/olen_Im_0001957_2.jpg: 4 duplicate labels removed\n",
      "\u001b[34m\u001b[1mval: \u001b[0mWARNING ⚠️ /home/jupyter/work/resources/data_yolo/images/val/olen_Im_0001961_2.jpg: 6 duplicate labels removed\n",
      "\u001b[34m\u001b[1mval: \u001b[0mWARNING ⚠️ /home/jupyter/work/resources/data_yolo/images/val/olen_Im_0001961_3.jpg: 4 duplicate labels removed\n",
      "\u001b[34m\u001b[1mval: \u001b[0mWARNING ⚠️ /home/jupyter/work/resources/data_yolo/images/val/olen_Im_0001971_3.jpg: 3 duplicate labels removed\n",
      "\u001b[34m\u001b[1mval: \u001b[0mWARNING ⚠️ /home/jupyter/work/resources/data_yolo/images/val/olen_Im_0001976_1.jpg: 1 duplicate labels removed\n",
      "\u001b[34m\u001b[1mval: \u001b[0mWARNING ⚠️ /home/jupyter/work/resources/data_yolo/images/val/olen_Im_0001976_2.jpg: 3 duplicate labels removed\n",
      "\u001b[34m\u001b[1mval: \u001b[0mWARNING ⚠️ /home/jupyter/work/resources/data_yolo/images/val/olen_Im_0001990_1.jpg: 1 duplicate labels removed\n",
      "\u001b[34m\u001b[1mval: \u001b[0mWARNING ⚠️ /home/jupyter/work/resources/data_yolo/images/val/olen_Im_0001998_1.jpg: 5 duplicate labels removed\n",
      "\u001b[34m\u001b[1mval: \u001b[0mWARNING ⚠️ /home/jupyter/work/resources/data_yolo/images/val/olen_Im_0002013.jpg: 6 duplicate labels removed\n",
      "\u001b[34m\u001b[1mval: \u001b[0mWARNING ⚠️ /home/jupyter/work/resources/data_yolo/images/val/olen_Im_0002017.jpg: 3 duplicate labels removed\n",
      "\u001b[34m\u001b[1mval: \u001b[0mWARNING ⚠️ /home/jupyter/work/resources/data_yolo/images/val/olen_Im_0002022.jpg: 4 duplicate labels removed\n",
      "\u001b[34m\u001b[1mval: \u001b[0mWARNING ⚠️ /home/jupyter/work/resources/data_yolo/images/val/olen_Im_0002033_2.jpg: 3 duplicate labels removed\n",
      "\u001b[34m\u001b[1mval: \u001b[0mWARNING ⚠️ /home/jupyter/work/resources/data_yolo/images/val/olen_Im_0002043.jpg: 8 duplicate labels removed\n",
      "\u001b[34m\u001b[1mval: \u001b[0mWARNING ⚠️ /home/jupyter/work/resources/data_yolo/images/val/olen_Im_0002047.jpg: 5 duplicate labels removed\n",
      "\u001b[34m\u001b[1mval: \u001b[0mWARNING ⚠️ /home/jupyter/work/resources/data_yolo/images/val/olen_Im_0002069_1.jpg: 3 duplicate labels removed\n",
      "\u001b[34m\u001b[1mval: \u001b[0mWARNING ⚠️ /home/jupyter/work/resources/data_yolo/images/val/olen_Im_0002086_2.jpg: 7 duplicate labels removed\n",
      "\u001b[34m\u001b[1mval: \u001b[0mWARNING ⚠️ /home/jupyter/work/resources/data_yolo/images/val/olen_Im_0002096.jpg: 4 duplicate labels removed\n",
      "\u001b[34m\u001b[1mval: \u001b[0mWARNING ⚠️ /home/jupyter/work/resources/data_yolo/images/val/olen_Im_0002099.jpg: 3 duplicate labels removed\n",
      "\u001b[34m\u001b[1mval: \u001b[0mWARNING ⚠️ /home/jupyter/work/resources/data_yolo/images/val/olen_Im_0002101.jpg: 4 duplicate labels removed\n",
      "\u001b[34m\u001b[1mval: \u001b[0mWARNING ⚠️ /home/jupyter/work/resources/data_yolo/images/val/olen_Im_0002114_1.jpg: 5 duplicate labels removed\n",
      "\u001b[34m\u001b[1mval: \u001b[0mWARNING ⚠️ /home/jupyter/work/resources/data_yolo/images/val/olen_Im_0002117_2.jpg: 6 duplicate labels removed\n",
      "\u001b[34m\u001b[1mval: \u001b[0mWARNING ⚠️ /home/jupyter/work/resources/data_yolo/images/val/olen_Im_0002126.jpg: 2 duplicate labels removed\n",
      "\u001b[34m\u001b[1mval: \u001b[0mWARNING ⚠️ /home/jupyter/work/resources/data_yolo/images/val/olen_Im_0002129.jpg: 2 duplicate labels removed\n",
      "\u001b[34m\u001b[1mval: \u001b[0mWARNING ⚠️ /home/jupyter/work/resources/data_yolo/images/val/olen_Im_0002134.jpg: 1 duplicate labels removed\n",
      "\u001b[34m\u001b[1mval: \u001b[0mWARNING ⚠️ /home/jupyter/work/resources/data_yolo/images/val/olen_Im_0002140.jpg: 4 duplicate labels removed\n",
      "\u001b[34m\u001b[1mval: \u001b[0mWARNING ⚠️ /home/jupyter/work/resources/data_yolo/images/val/olen_Im_0002167.jpg: 11 duplicate labels removed\n",
      "\u001b[34m\u001b[1mval: \u001b[0mWARNING ⚠️ /home/jupyter/work/resources/data_yolo/images/val/olen_Im_0002182.jpg: 6 duplicate labels removed\n",
      "\u001b[34m\u001b[1mval: \u001b[0mWARNING ⚠️ /home/jupyter/work/resources/data_yolo/images/val/olen_Im_0002184.jpg: 6 duplicate labels removed\n",
      "\u001b[34m\u001b[1mval: \u001b[0mWARNING ⚠️ /home/jupyter/work/resources/data_yolo/images/val/olen_Im_0002207.jpg: 2 duplicate labels removed\n",
      "\u001b[34m\u001b[1mval: \u001b[0mWARNING ⚠️ /home/jupyter/work/resources/data_yolo/images/val/olen_Im_0002242.jpg: 2 duplicate labels removed\n",
      "\u001b[34m\u001b[1mval: \u001b[0mWARNING ⚠️ /home/jupyter/work/resources/data_yolo/images/val/olen_Im_0002251_2.jpg: 9 duplicate labels removed\n",
      "\u001b[34m\u001b[1mval: \u001b[0mWARNING ⚠️ /home/jupyter/work/resources/data_yolo/images/val/olen_Im_0002267_1.jpg: 1 duplicate labels removed\n",
      "\u001b[34m\u001b[1mval: \u001b[0mWARNING ⚠️ /home/jupyter/work/resources/data_yolo/images/val/olen_Im_0002283.jpg: 2 duplicate labels removed\n",
      "\u001b[34m\u001b[1mval: \u001b[0mWARNING ⚠️ /home/jupyter/work/resources/data_yolo/images/val/olen_Im_0002296_2.jpg: 2 duplicate labels removed\n",
      "\u001b[34m\u001b[1mval: \u001b[0mWARNING ⚠️ /home/jupyter/work/resources/data_yolo/images/val/olen_Im_0002306.jpg: 4 duplicate labels removed\n",
      "\u001b[34m\u001b[1mval: \u001b[0mWARNING ⚠️ /home/jupyter/work/resources/data_yolo/images/val/olen_Im_0002345.jpg: 9 duplicate labels removed\n",
      "\u001b[34m\u001b[1mval: \u001b[0mWARNING ⚠️ /home/jupyter/work/resources/data_yolo/images/val/olen_Im_0002378.jpg: 6 duplicate labels removed\n",
      "\u001b[34m\u001b[1mval: \u001b[0mWARNING ⚠️ /home/jupyter/work/resources/data_yolo/images/val/olen_Im_0002378_1.jpg: 3 duplicate labels removed\n",
      "\u001b[34m\u001b[1mval: \u001b[0mWARNING ⚠️ /home/jupyter/work/resources/data_yolo/images/val/olen_Im_0002382.jpg: 1 duplicate labels removed\n",
      "\u001b[34m\u001b[1mval: \u001b[0mWARNING ⚠️ /home/jupyter/work/resources/data_yolo/images/val/olen_Im_0002386.jpg: 8 duplicate labels removed\n",
      "\u001b[34m\u001b[1mval: \u001b[0mWARNING ⚠️ /home/jupyter/work/resources/data_yolo/images/val/olen_Im_0002386_1.jpg: 2 duplicate labels removed\n",
      "\u001b[34m\u001b[1mval: \u001b[0mWARNING ⚠️ /home/jupyter/work/resources/data_yolo/images/val/olen_Im_0002412.jpg: 2 duplicate labels removed\n",
      "\u001b[34m\u001b[1mval: \u001b[0mWARNING ⚠️ /home/jupyter/work/resources/data_yolo/images/val/olen_Im_0002424.jpg: 2 duplicate labels removed\n",
      "\u001b[34m\u001b[1mval: \u001b[0mWARNING ⚠️ /home/jupyter/work/resources/data_yolo/images/val/olen_Im_0002429_1.jpg: 7 duplicate labels removed\n",
      "\u001b[34m\u001b[1mval: \u001b[0mWARNING ⚠️ /home/jupyter/work/resources/data_yolo/images/val/olen_Im_0002429_2.jpg: 2 duplicate labels removed\n",
      "\u001b[34m\u001b[1mval: \u001b[0mWARNING ⚠️ /home/jupyter/work/resources/data_yolo/images/val/olen_Im_0002471.jpg: 2 duplicate labels removed\n",
      "\u001b[34m\u001b[1mval: \u001b[0mWARNING ⚠️ /home/jupyter/work/resources/data_yolo/images/val/olen_Im_0002479.jpg: 1 duplicate labels removed\n",
      "\u001b[34m\u001b[1mval: \u001b[0mWARNING ⚠️ /home/jupyter/work/resources/data_yolo/images/val/olen_Im_0002480.jpg: 1 duplicate labels removed\n",
      "\u001b[34m\u001b[1mval: \u001b[0mWARNING ⚠️ /home/jupyter/work/resources/data_yolo/images/val/olen_Im_0002481.jpg: 1 duplicate labels removed\n",
      "\u001b[34m\u001b[1mval: \u001b[0mWARNING ⚠️ /home/jupyter/work/resources/data_yolo/images/val/olen_Im_0002482.jpg: 6 duplicate labels removed\n",
      "\u001b[34m\u001b[1mval: \u001b[0mWARNING ⚠️ /home/jupyter/work/resources/data_yolo/images/val/olen_Im_0002522.jpg: 1 duplicate labels removed\n",
      "\u001b[34m\u001b[1mval: \u001b[0mWARNING ⚠️ /home/jupyter/work/resources/data_yolo/images/val/olen_Im_0002522_1.jpg: 8 duplicate labels removed\n",
      "\u001b[34m\u001b[1mval: \u001b[0mWARNING ⚠️ /home/jupyter/work/resources/data_yolo/images/val/olen_Im_0002543.jpg: 4 duplicate labels removed\n",
      "\u001b[34m\u001b[1mval: \u001b[0mWARNING ⚠️ /home/jupyter/work/resources/data_yolo/images/val/olen_Im_0002545.jpg: 7 duplicate labels removed\n",
      "\u001b[34m\u001b[1mval: \u001b[0mWARNING ⚠️ /home/jupyter/work/resources/data_yolo/images/val/olen_Im_0002546.jpg: 2 duplicate labels removed\n",
      "\u001b[34m\u001b[1mval: \u001b[0mWARNING ⚠️ /home/jupyter/work/resources/data_yolo/images/val/olen_Im_0002560.jpg: 7 duplicate labels removed\n",
      "\u001b[34m\u001b[1mval: \u001b[0mWARNING ⚠️ /home/jupyter/work/resources/data_yolo/images/val/olen_Im_0002561_1.jpg: 3 duplicate labels removed\n",
      "\u001b[34m\u001b[1mval: \u001b[0mWARNING ⚠️ /home/jupyter/work/resources/data_yolo/images/val/olen_Im_0002567_1.jpg: 2 duplicate labels removed\n",
      "\u001b[34m\u001b[1mval: \u001b[0mWARNING ⚠️ /home/jupyter/work/resources/data_yolo/images/val/olen_Im_0002572.jpg: 2 duplicate labels removed\n",
      "\u001b[34m\u001b[1mval: \u001b[0mWARNING ⚠️ /home/jupyter/work/resources/data_yolo/images/val/olen_Im_0002607.jpg: 4 duplicate labels removed\n",
      "\u001b[34m\u001b[1mval: \u001b[0mWARNING ⚠️ /home/jupyter/work/resources/data_yolo/images/val/olen_Im_0002646.jpg: 5 duplicate labels removed\n",
      "\u001b[34m\u001b[1mval: \u001b[0mWARNING ⚠️ /home/jupyter/work/resources/data_yolo/images/val/olen_Im_0002651.jpg: 6 duplicate labels removed\n",
      "\u001b[34m\u001b[1mval: \u001b[0mWARNING ⚠️ /home/jupyter/work/resources/data_yolo/images/val/olen_Im_0002663.jpg: 6 duplicate labels removed\n",
      "\u001b[34m\u001b[1mval: \u001b[0mWARNING ⚠️ /home/jupyter/work/resources/data_yolo/images/val/olen_Im_0002664.jpg: 4 duplicate labels removed\n",
      "\u001b[34m\u001b[1mval: \u001b[0mWARNING ⚠️ /home/jupyter/work/resources/data_yolo/images/val/olen_Im_0002671.jpg: 1 duplicate labels removed\n",
      "\u001b[34m\u001b[1mval: \u001b[0mWARNING ⚠️ /home/jupyter/work/resources/data_yolo/images/val/olen_Im_0002674_1.jpg: 3 duplicate labels removed\n",
      "\u001b[34m\u001b[1mval: \u001b[0mWARNING ⚠️ /home/jupyter/work/resources/data_yolo/images/val/olen_Im_0002680.jpg: 1 duplicate labels removed\n",
      "\u001b[34m\u001b[1mval: \u001b[0mWARNING ⚠️ /home/jupyter/work/resources/data_yolo/images/val/olen_Im_0002684.jpg: 5 duplicate labels removed\n",
      "\u001b[34m\u001b[1mval: \u001b[0mWARNING ⚠️ /home/jupyter/work/resources/data_yolo/images/val/olen_Im_0002692.jpg: 7 duplicate labels removed\n",
      "\u001b[34m\u001b[1mval: \u001b[0mWARNING ⚠️ /home/jupyter/work/resources/data_yolo/images/val/olen_Im_0002729.jpg: 10 duplicate labels removed\n",
      "\u001b[34m\u001b[1mval: \u001b[0mWARNING ⚠️ /home/jupyter/work/resources/data_yolo/images/val/olen_PTDC0070.JPG: 1 duplicate labels removed\n",
      "\u001b[34m\u001b[1mval: \u001b[0mWARNING ⚠️ /home/jupyter/work/resources/data_yolo/images/val/olen_SAM_0599.JPG: 1 duplicate labels removed\n",
      "\u001b[34m\u001b[1mval: \u001b[0mWARNING ⚠️ /home/jupyter/work/resources/data_yolo/images/val/olen_Благородный олень (40).JPG: 1 duplicate labels removed\n",
      "\u001b[34m\u001b[1mval: \u001b[0mWARNING ⚠️ /home/jupyter/work/resources/data_yolo/images/val/olen_Благородныйолень_1106.jpg: 2 duplicate labels removed\n",
      "\u001b[34m\u001b[1mval: \u001b[0mWARNING ⚠️ /home/jupyter/work/resources/data_yolo/images/val/olen_Благородныйолень_1254.jpg: 1 duplicate labels removed\n",
      "\u001b[34m\u001b[1mval: \u001b[0mWARNING ⚠️ /home/jupyter/work/resources/data_yolo/images/val/olen_Благородныйолень_1911.jpg: 1 duplicate labels removed\n",
      "\u001b[34m\u001b[1mval: \u001b[0mWARNING ⚠️ /home/jupyter/work/resources/data_yolo/images/val/olen_Благородныйолень_2843.jpg: 1 duplicate labels removed\n",
      "\u001b[34m\u001b[1mval: \u001b[0mWARNING ⚠️ /home/jupyter/work/resources/data_yolo/images/val/olen_Благородныйолень_2971.jpg: 1 duplicate labels removed\n",
      "\u001b[34m\u001b[1mval: \u001b[0mWARNING ⚠️ /home/jupyter/work/resources/data_yolo/images/val/olen_Благородныйолень_2997.jpg: 2 duplicate labels removed\n",
      "\u001b[34m\u001b[1mval: \u001b[0mWARNING ⚠️ /home/jupyter/work/resources/data_yolo/images/val/olen_ОлениPTDC0011.JPG: 2 duplicate labels removed\n",
      "\u001b[34m\u001b[1mval: \u001b[0mWARNING ⚠️ /home/jupyter/work/resources/data_yolo/images/val/olen_ОлениPTDC0012.JPG: 1 duplicate labels removed\n",
      "\u001b[34m\u001b[1mval: \u001b[0mWARNING ⚠️ /home/jupyter/work/resources/data_yolo/images/val/olen_ОлениPTDC0017.JPG: 1 duplicate labels removed\n",
      "\u001b[34m\u001b[1mval: \u001b[0mWARNING ⚠️ /home/jupyter/work/resources/data_yolo/images/val/olen_ОлениPTDC0034.JPG: 4 duplicate labels removed\n",
      "\u001b[34m\u001b[1mval: \u001b[0mWARNING ⚠️ /home/jupyter/work/resources/data_yolo/images/val/olen_ОлениPTDC0045.JPG: 3 duplicate labels removed\n",
      "\u001b[34m\u001b[1mval: \u001b[0mWARNING ⚠️ /home/jupyter/work/resources/data_yolo/images/val/olen_ОленьPTDC0019.JPG: 1 duplicate labels removed\n",
      "\u001b[34m\u001b[1mval: \u001b[0mWARNING ⚠️ /home/jupyter/work/resources/data_yolo/images/val/olen_ОленьPTDC0026.JPG: 1 duplicate labels removed\n",
      "\u001b[34m\u001b[1mval: \u001b[0mWARNING ⚠️ /home/jupyter/work/resources/data_yolo/images/val/olen_Олень_PTDC0259.JPG: 1 duplicate labels removed\n",
      "\u001b[34m\u001b[1mval: \u001b[0mWARNING ⚠️ /home/jupyter/work/resources/data_yolo/images/val/olen_Олень_PTDC0263.JPG: 1 duplicate labels removed\n",
      "\u001b[34m\u001b[1mval: \u001b[0mWARNING ⚠️ /home/jupyter/work/resources/data_yolo/images/val/olen_Олень_PTDC0288.JPG: 1 duplicate labels removed\n",
      "\u001b[34m\u001b[1mval: \u001b[0mWARNING ⚠️ /home/jupyter/work/resources/data_yolo/images/val/olen_Северный олень (33).JPG: 1 duplicate labels removed\n",
      "\u001b[34m\u001b[1mval: \u001b[0mWARNING ⚠️ /home/jupyter/work/resources/data_yolo/images/val/olen_Северный олень (90).JPG: 1 duplicate labels removed\n",
      "\u001b[34m\u001b[1mval: \u001b[0mWARNING ⚠️ /home/jupyter/work/resources/data_yolo/images/val/olen_Северный олень (96).JPG: 2 duplicate labels removed\n",
      "\u001b[34m\u001b[1mval: \u001b[0mWARNING ⚠️ /home/jupyter/work/resources/data_yolo/images/val/olen_Снимок экрана 2024-05-18 023222.jpg: 1 duplicate labels removed\n",
      "\u001b[34m\u001b[1mval: \u001b[0mWARNING ⚠️ /home/jupyter/work/resources/data_yolo/images/val/olen_╨С╨╗╨░╨│╨╛╤А╨╛╨┤╨╜╤Л╨╣╨╛╨╗╨╡╨╜╤М_1386.jpg: ignoring corrupt image/label: non-normalized or out of bounds coordinates [     1.1549      1.1196]\n",
      "\u001b[34m\u001b[1mval: \u001b[0mWARNING ⚠️ /home/jupyter/work/resources/data_yolo/images/val/olen_╨С╨╗╨░╨│╨╛╤А╨╛╨┤╨╜╤Л╨╣╨╛╨╗╨╡╨╜╤М_2218.jpg: ignoring corrupt image/label: non-normalized or out of bounds coordinates [     1.0617]\n",
      "\u001b[34m\u001b[1mval: \u001b[0mWARNING ⚠️ /home/jupyter/work/resources/data_yolo/images/val/olen_╨С╨╗╨░╨│╨╛╤А╨╛╨┤╨╜╤Л╨╣╨╛╨╗╨╡╨╜╤М_2840.jpg: ignoring corrupt image/label: non-normalized or out of bounds coordinates [     1.2407]\n"
     ]
    },
    {
     "name": "stderr",
     "output_type": "stream",
     "text": [
      "\n"
     ]
    },
    {
     "name": "stdout",
     "output_type": "stream",
     "text": [
      "\u001b[34m\u001b[1mval: \u001b[0mNew cache created: /home/jupyter/work/resources/data_yolo/labels/val.cache\n",
      "WARNING ⚠️ Box and segment counts should be equal, but got len(segments) = 15, len(boxes) = 1321. To resolve this only boxes will be used and all segments will be removed. To avoid this please supply either a detect or segment dataset, not a detect-segment mixed dataset.\n",
      "Plotting labels to runs/detect/train8/labels.jpg... \n",
      "\u001b[34m\u001b[1moptimizer:\u001b[0m 'optimizer=auto' found, ignoring 'lr0=0.01' and 'momentum=0.937' and determining best 'optimizer', 'lr0' and 'momentum' automatically... \n",
      "\u001b[34m\u001b[1moptimizer:\u001b[0m AdamW(lr=0.001429, momentum=0.9) with parameter groups 97 weight(decay=0.0), 104 weight(decay=0.0005), 103 bias(decay=0.0)\n",
      "\u001b[34m\u001b[1mTensorBoard: \u001b[0mmodel graph visualization added ✅\n",
      "Image sizes 640 train, 640 val\n",
      "Using 8 dataloader workers\n",
      "Logging results to \u001b[1mruns/detect/train8\u001b[0m\n",
      "Starting training for 100 epochs...\n",
      "\n",
      "      Epoch    GPU_mem   box_loss   cls_loss   dfl_loss  Instances       Size\n"
     ]
    },
    {
     "name": "stderr",
     "output_type": "stream",
     "text": [
      "      1/100      25.8G      1.411      3.639      1.659         47        640: 100%|██████████| 164/164 [02:43<00:00,  1.00it/s]\n",
      "                 Class     Images  Instances      Box(P          R      mAP50  mAP50-95): 100%|██████████| 21/21 [00:23<00:00,  1.14s/it]\n"
     ]
    },
    {
     "name": "stdout",
     "output_type": "stream",
     "text": [
      "                   all       1310       1321      0.129      0.431      0.112     0.0463\n",
      "\n",
      "      Epoch    GPU_mem   box_loss   cls_loss   dfl_loss  Instances       Size\n"
     ]
    },
    {
     "name": "stderr",
     "output_type": "stream",
     "text": [
      "      2/100      25.4G      1.476      3.405      1.679         53        640: 100%|██████████| 164/164 [02:21<00:00,  1.16it/s]\n",
      "                 Class     Images  Instances      Box(P          R      mAP50  mAP50-95): 100%|██████████| 21/21 [00:15<00:00,  1.35it/s]"
     ]
    },
    {
     "name": "stdout",
     "output_type": "stream",
     "text": [
      "                   all       1310       1321      0.349      0.501       0.36      0.189\n"
     ]
    },
    {
     "name": "stderr",
     "output_type": "stream",
     "text": [
      "\n"
     ]
    },
    {
     "name": "stdout",
     "output_type": "stream",
     "text": [
      "\n",
      "      Epoch    GPU_mem   box_loss   cls_loss   dfl_loss  Instances       Size\n"
     ]
    },
    {
     "name": "stderr",
     "output_type": "stream",
     "text": [
      "      3/100      25.5G      1.412      3.143      1.647         58        640: 100%|██████████| 164/164 [02:17<00:00,  1.19it/s]\n",
      "                 Class     Images  Instances      Box(P          R      mAP50  mAP50-95): 100%|██████████| 21/21 [00:15<00:00,  1.33it/s]\n"
     ]
    },
    {
     "name": "stdout",
     "output_type": "stream",
     "text": [
      "                   all       1310       1321      0.354      0.499      0.392      0.212\n",
      "\n",
      "      Epoch    GPU_mem   box_loss   cls_loss   dfl_loss  Instances       Size\n"
     ]
    },
    {
     "name": "stderr",
     "output_type": "stream",
     "text": [
      "      4/100      25.5G      1.348      2.955      1.592         48        640: 100%|██████████| 164/164 [02:18<00:00,  1.19it/s]\n",
      "                 Class     Images  Instances      Box(P          R      mAP50  mAP50-95): 100%|██████████| 21/21 [00:16<00:00,  1.29it/s]\n"
     ]
    },
    {
     "name": "stdout",
     "output_type": "stream",
     "text": [
      "                   all       1310       1321      0.527      0.589      0.543      0.311\n",
      "\n",
      "      Epoch    GPU_mem   box_loss   cls_loss   dfl_loss  Instances       Size\n"
     ]
    },
    {
     "name": "stderr",
     "output_type": "stream",
     "text": [
      "      5/100      25.4G      1.304      2.744      1.546         59        640: 100%|██████████| 164/164 [02:18<00:00,  1.18it/s]\n",
      "                 Class     Images  Instances      Box(P          R      mAP50  mAP50-95): 100%|██████████| 21/21 [00:15<00:00,  1.35it/s]"
     ]
    },
    {
     "name": "stdout",
     "output_type": "stream",
     "text": [
      "                   all       1310       1321      0.443      0.505       0.49      0.309\n"
     ]
    },
    {
     "name": "stderr",
     "output_type": "stream",
     "text": [
      "\n"
     ]
    },
    {
     "name": "stdout",
     "output_type": "stream",
     "text": [
      "\n",
      "      Epoch    GPU_mem   box_loss   cls_loss   dfl_loss  Instances       Size\n"
     ]
    },
    {
     "name": "stderr",
     "output_type": "stream",
     "text": [
      "      6/100      25.5G      1.245      2.595      1.505         54        640: 100%|██████████| 164/164 [02:19<00:00,  1.18it/s]\n",
      "                 Class     Images  Instances      Box(P          R      mAP50  mAP50-95): 100%|██████████| 21/21 [00:15<00:00,  1.34it/s]\n"
     ]
    },
    {
     "name": "stdout",
     "output_type": "stream",
     "text": [
      "                   all       1310       1321        0.6      0.619      0.629      0.408\n",
      "\n",
      "      Epoch    GPU_mem   box_loss   cls_loss   dfl_loss  Instances       Size\n"
     ]
    },
    {
     "name": "stderr",
     "output_type": "stream",
     "text": [
      "      7/100      25.5G      1.231      2.502      1.499         56        640: 100%|██████████| 164/164 [02:17<00:00,  1.19it/s]\n",
      "                 Class     Images  Instances      Box(P          R      mAP50  mAP50-95): 100%|██████████| 21/21 [00:16<00:00,  1.29it/s]"
     ]
    },
    {
     "name": "stdout",
     "output_type": "stream",
     "text": [
      "                   all       1310       1321      0.615      0.634      0.627      0.391\n"
     ]
    },
    {
     "name": "stderr",
     "output_type": "stream",
     "text": [
      "\n"
     ]
    },
    {
     "name": "stdout",
     "output_type": "stream",
     "text": [
      "\n",
      "      Epoch    GPU_mem   box_loss   cls_loss   dfl_loss  Instances       Size\n"
     ]
    },
    {
     "name": "stderr",
     "output_type": "stream",
     "text": [
      "      8/100      25.4G      1.194      2.452       1.48         56        640: 100%|██████████| 164/164 [02:18<00:00,  1.18it/s]\n",
      "                 Class     Images  Instances      Box(P          R      mAP50  mAP50-95): 100%|██████████| 21/21 [00:15<00:00,  1.34it/s]"
     ]
    },
    {
     "name": "stdout",
     "output_type": "stream",
     "text": [
      "                   all       1310       1321      0.584      0.669      0.654      0.423\n"
     ]
    },
    {
     "name": "stderr",
     "output_type": "stream",
     "text": [
      "\n"
     ]
    },
    {
     "name": "stdout",
     "output_type": "stream",
     "text": [
      "\n",
      "      Epoch    GPU_mem   box_loss   cls_loss   dfl_loss  Instances       Size\n"
     ]
    },
    {
     "name": "stderr",
     "output_type": "stream",
     "text": [
      "      9/100      25.4G      1.183      2.378      1.466         61        640: 100%|██████████| 164/164 [02:18<00:00,  1.19it/s]\n",
      "                 Class     Images  Instances      Box(P          R      mAP50  mAP50-95): 100%|██████████| 21/21 [00:16<00:00,  1.31it/s]"
     ]
    },
    {
     "name": "stdout",
     "output_type": "stream",
     "text": [
      "                   all       1310       1321      0.638      0.688      0.713      0.472\n"
     ]
    },
    {
     "name": "stderr",
     "output_type": "stream",
     "text": [
      "\n"
     ]
    },
    {
     "name": "stdout",
     "output_type": "stream",
     "text": [
      "\n",
      "      Epoch    GPU_mem   box_loss   cls_loss   dfl_loss  Instances       Size\n"
     ]
    },
    {
     "name": "stderr",
     "output_type": "stream",
     "text": [
      "     10/100      25.5G      1.161      2.323      1.446         57        640: 100%|██████████| 164/164 [02:18<00:00,  1.19it/s]\n",
      "                 Class     Images  Instances      Box(P          R      mAP50  mAP50-95): 100%|██████████| 21/21 [00:15<00:00,  1.33it/s]\n"
     ]
    },
    {
     "name": "stdout",
     "output_type": "stream",
     "text": [
      "                   all       1310       1321      0.616      0.698      0.707      0.477\n",
      "\n",
      "      Epoch    GPU_mem   box_loss   cls_loss   dfl_loss  Instances       Size\n"
     ]
    },
    {
     "name": "stderr",
     "output_type": "stream",
     "text": [
      "     11/100      25.5G      1.137      2.251      1.432         58        640: 100%|██████████| 164/164 [02:18<00:00,  1.18it/s]\n",
      "                 Class     Images  Instances      Box(P          R      mAP50  mAP50-95): 100%|██████████| 21/21 [00:15<00:00,  1.38it/s]\n"
     ]
    },
    {
     "name": "stdout",
     "output_type": "stream",
     "text": [
      "                   all       1310       1321      0.699      0.631      0.705      0.476\n",
      "\n",
      "      Epoch    GPU_mem   box_loss   cls_loss   dfl_loss  Instances       Size\n"
     ]
    },
    {
     "name": "stderr",
     "output_type": "stream",
     "text": [
      "     12/100      25.5G      1.129      2.189      1.413         55        640: 100%|██████████| 164/164 [02:18<00:00,  1.19it/s]\n",
      "                 Class     Images  Instances      Box(P          R      mAP50  mAP50-95): 100%|██████████| 21/21 [00:15<00:00,  1.35it/s]"
     ]
    },
    {
     "name": "stdout",
     "output_type": "stream",
     "text": [
      "                   all       1310       1321      0.682      0.698      0.722      0.483\n"
     ]
    },
    {
     "name": "stderr",
     "output_type": "stream",
     "text": [
      "\n"
     ]
    },
    {
     "name": "stdout",
     "output_type": "stream",
     "text": [
      "\n",
      "      Epoch    GPU_mem   box_loss   cls_loss   dfl_loss  Instances       Size\n"
     ]
    },
    {
     "name": "stderr",
     "output_type": "stream",
     "text": [
      "     13/100      25.5G      1.121      2.181      1.412         51        640: 100%|██████████| 164/164 [02:18<00:00,  1.19it/s]\n",
      "                 Class     Images  Instances      Box(P          R      mAP50  mAP50-95): 100%|██████████| 21/21 [00:15<00:00,  1.34it/s]"
     ]
    },
    {
     "name": "stdout",
     "output_type": "stream",
     "text": [
      "                   all       1310       1321      0.671      0.721       0.75      0.511\n"
     ]
    },
    {
     "name": "stderr",
     "output_type": "stream",
     "text": [
      "\n"
     ]
    },
    {
     "name": "stdout",
     "output_type": "stream",
     "text": [
      "\n",
      "      Epoch    GPU_mem   box_loss   cls_loss   dfl_loss  Instances       Size\n"
     ]
    },
    {
     "name": "stderr",
     "output_type": "stream",
     "text": [
      "     14/100      25.5G      1.098       2.13      1.404         48        640: 100%|██████████| 164/164 [02:18<00:00,  1.19it/s]\n",
      "                 Class     Images  Instances      Box(P          R      mAP50  mAP50-95): 100%|██████████| 21/21 [00:16<00:00,  1.31it/s]\n"
     ]
    },
    {
     "name": "stdout",
     "output_type": "stream",
     "text": [
      "                   all       1310       1321      0.642      0.723      0.724      0.488\n",
      "\n",
      "      Epoch    GPU_mem   box_loss   cls_loss   dfl_loss  Instances       Size\n"
     ]
    },
    {
     "name": "stderr",
     "output_type": "stream",
     "text": [
      "     15/100      25.5G      1.098        2.1      1.403         59        640: 100%|██████████| 164/164 [02:18<00:00,  1.18it/s]\n",
      "                 Class     Images  Instances      Box(P          R      mAP50  mAP50-95): 100%|██████████| 21/21 [00:15<00:00,  1.32it/s]"
     ]
    },
    {
     "name": "stdout",
     "output_type": "stream",
     "text": [
      "                   all       1310       1321      0.664       0.74      0.758      0.524\n"
     ]
    },
    {
     "name": "stderr",
     "output_type": "stream",
     "text": [
      "\n"
     ]
    },
    {
     "name": "stdout",
     "output_type": "stream",
     "text": [
      "\n",
      "      Epoch    GPU_mem   box_loss   cls_loss   dfl_loss  Instances       Size\n"
     ]
    },
    {
     "name": "stderr",
     "output_type": "stream",
     "text": [
      "     16/100      25.4G      1.077      2.049      1.377         63        640: 100%|██████████| 164/164 [02:17<00:00,  1.19it/s]\n",
      "                 Class     Images  Instances      Box(P          R      mAP50  mAP50-95): 100%|██████████| 21/21 [00:16<00:00,  1.31it/s]"
     ]
    },
    {
     "name": "stdout",
     "output_type": "stream",
     "text": [
      "                   all       1310       1321      0.671      0.705       0.74      0.514\n"
     ]
    },
    {
     "name": "stderr",
     "output_type": "stream",
     "text": [
      "\n"
     ]
    },
    {
     "name": "stdout",
     "output_type": "stream",
     "text": [
      "\n",
      "      Epoch    GPU_mem   box_loss   cls_loss   dfl_loss  Instances       Size\n"
     ]
    },
    {
     "name": "stderr",
     "output_type": "stream",
     "text": [
      "     17/100      25.4G      1.081      2.046      1.379         59        640: 100%|██████████| 164/164 [02:18<00:00,  1.18it/s]\n",
      "                 Class     Images  Instances      Box(P          R      mAP50  mAP50-95): 100%|██████████| 21/21 [00:15<00:00,  1.33it/s]\n"
     ]
    },
    {
     "name": "stdout",
     "output_type": "stream",
     "text": [
      "                   all       1310       1321      0.672      0.741      0.746      0.522\n",
      "\n",
      "      Epoch    GPU_mem   box_loss   cls_loss   dfl_loss  Instances       Size\n"
     ]
    },
    {
     "name": "stderr",
     "output_type": "stream",
     "text": [
      "     18/100      25.5G      1.056       1.99      1.366         52        640: 100%|██████████| 164/164 [02:18<00:00,  1.18it/s]\n",
      "                 Class     Images  Instances      Box(P          R      mAP50  mAP50-95): 100%|██████████| 21/21 [00:15<00:00,  1.37it/s]"
     ]
    },
    {
     "name": "stdout",
     "output_type": "stream",
     "text": [
      "                   all       1310       1321       0.66       0.74      0.756      0.523\n"
     ]
    },
    {
     "name": "stderr",
     "output_type": "stream",
     "text": [
      "\n"
     ]
    },
    {
     "name": "stdout",
     "output_type": "stream",
     "text": [
      "\n",
      "      Epoch    GPU_mem   box_loss   cls_loss   dfl_loss  Instances       Size\n"
     ]
    },
    {
     "name": "stderr",
     "output_type": "stream",
     "text": [
      "     19/100      25.4G      1.051      1.985      1.362         49        640: 100%|██████████| 164/164 [02:18<00:00,  1.18it/s]\n",
      "                 Class     Images  Instances      Box(P          R      mAP50  mAP50-95): 100%|██████████| 21/21 [00:14<00:00,  1.41it/s]"
     ]
    },
    {
     "name": "stdout",
     "output_type": "stream",
     "text": [
      "                   all       1310       1321       0.68      0.696      0.748      0.516\n"
     ]
    },
    {
     "name": "stderr",
     "output_type": "stream",
     "text": [
      "\n"
     ]
    },
    {
     "name": "stdout",
     "output_type": "stream",
     "text": [
      "\n",
      "      Epoch    GPU_mem   box_loss   cls_loss   dfl_loss  Instances       Size\n"
     ]
    },
    {
     "name": "stderr",
     "output_type": "stream",
     "text": [
      "     20/100      25.5G       1.03      1.937      1.352         65        640: 100%|██████████| 164/164 [02:18<00:00,  1.18it/s]\n",
      "                 Class     Images  Instances      Box(P          R      mAP50  mAP50-95): 100%|██████████| 21/21 [00:15<00:00,  1.37it/s]"
     ]
    },
    {
     "name": "stdout",
     "output_type": "stream",
     "text": [
      "                   all       1310       1321      0.694      0.728       0.78      0.557\n"
     ]
    },
    {
     "name": "stderr",
     "output_type": "stream",
     "text": [
      "\n"
     ]
    },
    {
     "name": "stdout",
     "output_type": "stream",
     "text": [
      "\n",
      "      Epoch    GPU_mem   box_loss   cls_loss   dfl_loss  Instances       Size\n"
     ]
    },
    {
     "name": "stderr",
     "output_type": "stream",
     "text": [
      "     21/100      25.5G      1.047      1.944      1.371         48        640: 100%|██████████| 164/164 [02:17<00:00,  1.19it/s]\n",
      "                 Class     Images  Instances      Box(P          R      mAP50  mAP50-95): 100%|██████████| 21/21 [00:15<00:00,  1.33it/s]\n"
     ]
    },
    {
     "name": "stdout",
     "output_type": "stream",
     "text": [
      "                   all       1310       1321      0.726      0.742      0.775      0.554\n",
      "\n",
      "      Epoch    GPU_mem   box_loss   cls_loss   dfl_loss  Instances       Size\n"
     ]
    },
    {
     "name": "stderr",
     "output_type": "stream",
     "text": [
      "     22/100      25.5G      1.042      1.896      1.356         62        640: 100%|██████████| 164/164 [02:17<00:00,  1.19it/s]\n",
      "                 Class     Images  Instances      Box(P          R      mAP50  mAP50-95): 100%|██████████| 21/21 [00:16<00:00,  1.30it/s]"
     ]
    },
    {
     "name": "stdout",
     "output_type": "stream",
     "text": [
      "                   all       1310       1321      0.745      0.753      0.808      0.571\n"
     ]
    },
    {
     "name": "stderr",
     "output_type": "stream",
     "text": [
      "\n"
     ]
    },
    {
     "name": "stdout",
     "output_type": "stream",
     "text": [
      "\n",
      "      Epoch    GPU_mem   box_loss   cls_loss   dfl_loss  Instances       Size\n"
     ]
    },
    {
     "name": "stderr",
     "output_type": "stream",
     "text": [
      "     23/100      25.4G      1.025      1.867      1.341         60        640: 100%|██████████| 164/164 [02:18<00:00,  1.19it/s]\n",
      "                 Class     Images  Instances      Box(P          R      mAP50  mAP50-95): 100%|██████████| 21/21 [00:15<00:00,  1.34it/s]"
     ]
    },
    {
     "name": "stdout",
     "output_type": "stream",
     "text": [
      "                   all       1310       1321      0.729      0.689      0.752      0.529\n"
     ]
    },
    {
     "name": "stderr",
     "output_type": "stream",
     "text": [
      "\n"
     ]
    },
    {
     "name": "stdout",
     "output_type": "stream",
     "text": [
      "\n",
      "      Epoch    GPU_mem   box_loss   cls_loss   dfl_loss  Instances       Size\n"
     ]
    },
    {
     "name": "stderr",
     "output_type": "stream",
     "text": [
      "     24/100      25.4G      1.001      1.844      1.327         35        640: 100%|██████████| 164/164 [02:18<00:00,  1.18it/s]\n",
      "                 Class     Images  Instances      Box(P          R      mAP50  mAP50-95): 100%|██████████| 21/21 [00:15<00:00,  1.34it/s]"
     ]
    },
    {
     "name": "stdout",
     "output_type": "stream",
     "text": [
      "                   all       1310       1321      0.733      0.719      0.772      0.549\n"
     ]
    },
    {
     "name": "stderr",
     "output_type": "stream",
     "text": [
      "\n"
     ]
    },
    {
     "name": "stdout",
     "output_type": "stream",
     "text": [
      "\n",
      "      Epoch    GPU_mem   box_loss   cls_loss   dfl_loss  Instances       Size\n"
     ]
    },
    {
     "name": "stderr",
     "output_type": "stream",
     "text": [
      "     25/100      25.5G      1.015      1.809      1.336         54        640: 100%|██████████| 164/164 [02:18<00:00,  1.18it/s]\n",
      "                 Class     Images  Instances      Box(P          R      mAP50  mAP50-95): 100%|██████████| 21/21 [00:15<00:00,  1.33it/s]"
     ]
    },
    {
     "name": "stdout",
     "output_type": "stream",
     "text": [
      "                   all       1310       1321      0.686      0.736      0.764      0.544\n"
     ]
    },
    {
     "name": "stderr",
     "output_type": "stream",
     "text": [
      "\n"
     ]
    },
    {
     "name": "stdout",
     "output_type": "stream",
     "text": [
      "\n",
      "      Epoch    GPU_mem   box_loss   cls_loss   dfl_loss  Instances       Size\n"
     ]
    },
    {
     "name": "stderr",
     "output_type": "stream",
     "text": [
      "     26/100      25.5G          1      1.788       1.33         55        640: 100%|██████████| 164/164 [02:19<00:00,  1.17it/s]\n",
      "                 Class     Images  Instances      Box(P          R      mAP50  mAP50-95): 100%|██████████| 21/21 [00:18<00:00,  1.13it/s]"
     ]
    },
    {
     "name": "stdout",
     "output_type": "stream",
     "text": [
      "                   all       1310       1321      0.762      0.732      0.799      0.577\n"
     ]
    },
    {
     "name": "stderr",
     "output_type": "stream",
     "text": [
      "\n"
     ]
    },
    {
     "name": "stdout",
     "output_type": "stream",
     "text": [
      "\n",
      "      Epoch    GPU_mem   box_loss   cls_loss   dfl_loss  Instances       Size\n"
     ]
    },
    {
     "name": "stderr",
     "output_type": "stream",
     "text": [
      "     27/100      25.5G     0.9894      1.764      1.322         63        640: 100%|██████████| 164/164 [02:20<00:00,  1.17it/s]\n",
      "                 Class     Images  Instances      Box(P          R      mAP50  mAP50-95): 100%|██████████| 21/21 [00:14<00:00,  1.40it/s]\n"
     ]
    },
    {
     "name": "stdout",
     "output_type": "stream",
     "text": [
      "                   all       1310       1321      0.694      0.761      0.784       0.56\n",
      "\n",
      "      Epoch    GPU_mem   box_loss   cls_loss   dfl_loss  Instances       Size\n"
     ]
    },
    {
     "name": "stderr",
     "output_type": "stream",
     "text": [
      "     28/100      25.5G     0.9824      1.727      1.317         59        640: 100%|██████████| 164/164 [02:19<00:00,  1.18it/s]\n",
      "                 Class     Images  Instances      Box(P          R      mAP50  mAP50-95): 100%|██████████| 21/21 [00:15<00:00,  1.34it/s]\n"
     ]
    },
    {
     "name": "stdout",
     "output_type": "stream",
     "text": [
      "                   all       1310       1321      0.712      0.771      0.795      0.578\n",
      "\n",
      "      Epoch    GPU_mem   box_loss   cls_loss   dfl_loss  Instances       Size\n"
     ]
    },
    {
     "name": "stderr",
     "output_type": "stream",
     "text": [
      "     29/100      25.4G     0.9822      1.722      1.306         47        640: 100%|██████████| 164/164 [02:18<00:00,  1.19it/s]\n",
      "                 Class     Images  Instances      Box(P          R      mAP50  mAP50-95): 100%|██████████| 21/21 [00:15<00:00,  1.34it/s]"
     ]
    },
    {
     "name": "stdout",
     "output_type": "stream",
     "text": [
      "                   all       1310       1321       0.69      0.774      0.805      0.578\n"
     ]
    },
    {
     "name": "stderr",
     "output_type": "stream",
     "text": [
      "\n"
     ]
    },
    {
     "name": "stdout",
     "output_type": "stream",
     "text": [
      "\n",
      "      Epoch    GPU_mem   box_loss   cls_loss   dfl_loss  Instances       Size\n"
     ]
    },
    {
     "name": "stderr",
     "output_type": "stream",
     "text": [
      "     30/100      25.4G     0.9683      1.725      1.307         59        640: 100%|██████████| 164/164 [02:18<00:00,  1.19it/s]\n",
      "                 Class     Images  Instances      Box(P          R      mAP50  mAP50-95): 100%|██████████| 21/21 [00:15<00:00,  1.35it/s]"
     ]
    },
    {
     "name": "stdout",
     "output_type": "stream",
     "text": [
      "                   all       1310       1321      0.767      0.708      0.782      0.564\n"
     ]
    },
    {
     "name": "stderr",
     "output_type": "stream",
     "text": [
      "\n"
     ]
    },
    {
     "name": "stdout",
     "output_type": "stream",
     "text": [
      "\n",
      "      Epoch    GPU_mem   box_loss   cls_loss   dfl_loss  Instances       Size\n"
     ]
    },
    {
     "name": "stderr",
     "output_type": "stream",
     "text": [
      "     31/100      25.5G     0.9582      1.682      1.295         50        640: 100%|██████████| 164/164 [02:18<00:00,  1.18it/s]\n",
      "                 Class     Images  Instances      Box(P          R      mAP50  mAP50-95): 100%|██████████| 21/21 [00:15<00:00,  1.37it/s]"
     ]
    },
    {
     "name": "stdout",
     "output_type": "stream",
     "text": [
      "                   all       1310       1321       0.71       0.73      0.767      0.543\n"
     ]
    },
    {
     "name": "stderr",
     "output_type": "stream",
     "text": [
      "\n"
     ]
    },
    {
     "name": "stdout",
     "output_type": "stream",
     "text": [
      "\n",
      "      Epoch    GPU_mem   box_loss   cls_loss   dfl_loss  Instances       Size\n"
     ]
    },
    {
     "name": "stderr",
     "output_type": "stream",
     "text": [
      "     32/100      25.5G     0.9649      1.668      1.295         56        640: 100%|██████████| 164/164 [02:18<00:00,  1.18it/s]\n",
      "                 Class     Images  Instances      Box(P          R      mAP50  mAP50-95): 100%|██████████| 21/21 [00:15<00:00,  1.33it/s]"
     ]
    },
    {
     "name": "stdout",
     "output_type": "stream",
     "text": [
      "                   all       1310       1321      0.763      0.734       0.81      0.586\n"
     ]
    },
    {
     "name": "stderr",
     "output_type": "stream",
     "text": [
      "\n"
     ]
    },
    {
     "name": "stdout",
     "output_type": "stream",
     "text": [
      "\n",
      "      Epoch    GPU_mem   box_loss   cls_loss   dfl_loss  Instances       Size\n"
     ]
    },
    {
     "name": "stderr",
     "output_type": "stream",
     "text": [
      "     33/100      25.5G     0.9468      1.617      1.287         52        640: 100%|██████████| 164/164 [02:18<00:00,  1.19it/s]\n",
      "                 Class     Images  Instances      Box(P          R      mAP50  mAP50-95): 100%|██████████| 21/21 [00:15<00:00,  1.32it/s]"
     ]
    },
    {
     "name": "stdout",
     "output_type": "stream",
     "text": [
      "                   all       1310       1321      0.768      0.726      0.814      0.593\n"
     ]
    },
    {
     "name": "stderr",
     "output_type": "stream",
     "text": [
      "\n"
     ]
    },
    {
     "name": "stdout",
     "output_type": "stream",
     "text": [
      "\n",
      "      Epoch    GPU_mem   box_loss   cls_loss   dfl_loss  Instances       Size\n"
     ]
    },
    {
     "name": "stderr",
     "output_type": "stream",
     "text": [
      "     34/100      25.4G     0.9554      1.654      1.294         54        640: 100%|██████████| 164/164 [02:18<00:00,  1.19it/s]\n",
      "                 Class     Images  Instances      Box(P          R      mAP50  mAP50-95): 100%|██████████| 21/21 [00:15<00:00,  1.35it/s]"
     ]
    },
    {
     "name": "stdout",
     "output_type": "stream",
     "text": [
      "                   all       1310       1321      0.757      0.743      0.804      0.578\n"
     ]
    },
    {
     "name": "stderr",
     "output_type": "stream",
     "text": [
      "\n"
     ]
    },
    {
     "name": "stdout",
     "output_type": "stream",
     "text": [
      "\n",
      "      Epoch    GPU_mem   box_loss   cls_loss   dfl_loss  Instances       Size\n"
     ]
    },
    {
     "name": "stderr",
     "output_type": "stream",
     "text": [
      "     35/100      25.4G     0.9348      1.606      1.282         52        640: 100%|██████████| 164/164 [02:18<00:00,  1.18it/s]\n",
      "                 Class     Images  Instances      Box(P          R      mAP50  mAP50-95): 100%|██████████| 21/21 [00:15<00:00,  1.32it/s]"
     ]
    },
    {
     "name": "stdout",
     "output_type": "stream",
     "text": [
      "                   all       1310       1321      0.757      0.751      0.809       0.59\n"
     ]
    },
    {
     "name": "stderr",
     "output_type": "stream",
     "text": [
      "\n"
     ]
    },
    {
     "name": "stdout",
     "output_type": "stream",
     "text": [
      "\n",
      "      Epoch    GPU_mem   box_loss   cls_loss   dfl_loss  Instances       Size\n"
     ]
    },
    {
     "name": "stderr",
     "output_type": "stream",
     "text": [
      "     36/100      25.5G     0.9292      1.569      1.274         47        640: 100%|██████████| 164/164 [02:18<00:00,  1.19it/s]\n",
      "                 Class     Images  Instances      Box(P          R      mAP50  mAP50-95): 100%|██████████| 21/21 [00:14<00:00,  1.42it/s]"
     ]
    },
    {
     "name": "stdout",
     "output_type": "stream",
     "text": [
      "                   all       1310       1321      0.746      0.759      0.813      0.573\n"
     ]
    },
    {
     "name": "stderr",
     "output_type": "stream",
     "text": [
      "\n"
     ]
    },
    {
     "name": "stdout",
     "output_type": "stream",
     "text": [
      "\n",
      "      Epoch    GPU_mem   box_loss   cls_loss   dfl_loss  Instances       Size\n"
     ]
    },
    {
     "name": "stderr",
     "output_type": "stream",
     "text": [
      "     37/100      25.4G     0.9206      1.557      1.269         65        640: 100%|██████████| 164/164 [02:19<00:00,  1.18it/s]\n",
      "                 Class     Images  Instances      Box(P          R      mAP50  mAP50-95): 100%|██████████| 21/21 [00:15<00:00,  1.39it/s]"
     ]
    },
    {
     "name": "stdout",
     "output_type": "stream",
     "text": [
      "                   all       1310       1321      0.734      0.764      0.809      0.592\n"
     ]
    },
    {
     "name": "stderr",
     "output_type": "stream",
     "text": [
      "\n"
     ]
    },
    {
     "name": "stdout",
     "output_type": "stream",
     "text": [
      "\n",
      "      Epoch    GPU_mem   box_loss   cls_loss   dfl_loss  Instances       Size\n"
     ]
    },
    {
     "name": "stderr",
     "output_type": "stream",
     "text": [
      "     38/100      25.5G      0.924      1.563      1.273         56        640: 100%|██████████| 164/164 [02:18<00:00,  1.18it/s]\n",
      "                 Class     Images  Instances      Box(P          R      mAP50  mAP50-95): 100%|██████████| 21/21 [00:14<00:00,  1.41it/s]"
     ]
    },
    {
     "name": "stdout",
     "output_type": "stream",
     "text": [
      "                   all       1310       1321      0.745      0.743      0.795      0.582\n"
     ]
    },
    {
     "name": "stderr",
     "output_type": "stream",
     "text": [
      "\n"
     ]
    },
    {
     "name": "stdout",
     "output_type": "stream",
     "text": [
      "\n",
      "      Epoch    GPU_mem   box_loss   cls_loss   dfl_loss  Instances       Size\n"
     ]
    },
    {
     "name": "stderr",
     "output_type": "stream",
     "text": [
      "     39/100      25.5G      0.918      1.528      1.266         58        640: 100%|██████████| 164/164 [02:19<00:00,  1.18it/s]\n",
      "                 Class     Images  Instances      Box(P          R      mAP50  mAP50-95): 100%|██████████| 21/21 [00:15<00:00,  1.38it/s]"
     ]
    },
    {
     "name": "stdout",
     "output_type": "stream",
     "text": [
      "                   all       1310       1321      0.731      0.773      0.822      0.602\n"
     ]
    },
    {
     "name": "stderr",
     "output_type": "stream",
     "text": [
      "\n"
     ]
    },
    {
     "name": "stdout",
     "output_type": "stream",
     "text": [
      "\n",
      "      Epoch    GPU_mem   box_loss   cls_loss   dfl_loss  Instances       Size\n"
     ]
    },
    {
     "name": "stderr",
     "output_type": "stream",
     "text": [
      "     40/100      25.4G     0.9097      1.527       1.27         62        640: 100%|██████████| 164/164 [02:18<00:00,  1.19it/s]\n",
      "                 Class     Images  Instances      Box(P          R      mAP50  mAP50-95): 100%|██████████| 21/21 [00:16<00:00,  1.30it/s]"
     ]
    },
    {
     "name": "stdout",
     "output_type": "stream",
     "text": [
      "                   all       1310       1321      0.721       0.79      0.818      0.606\n"
     ]
    },
    {
     "name": "stderr",
     "output_type": "stream",
     "text": [
      "\n"
     ]
    },
    {
     "name": "stdout",
     "output_type": "stream",
     "text": [
      "\n",
      "      Epoch    GPU_mem   box_loss   cls_loss   dfl_loss  Instances       Size\n"
     ]
    },
    {
     "name": "stderr",
     "output_type": "stream",
     "text": [
      "     41/100      25.5G     0.8871      1.496      1.255         50        640: 100%|██████████| 164/164 [02:17<00:00,  1.19it/s]\n",
      "                 Class     Images  Instances      Box(P          R      mAP50  mAP50-95): 100%|██████████| 21/21 [00:15<00:00,  1.40it/s]\n"
     ]
    },
    {
     "name": "stdout",
     "output_type": "stream",
     "text": [
      "                   all       1310       1321      0.745      0.764      0.808      0.594\n",
      "\n",
      "      Epoch    GPU_mem   box_loss   cls_loss   dfl_loss  Instances       Size\n"
     ]
    },
    {
     "name": "stderr",
     "output_type": "stream",
     "text": [
      "     42/100      25.4G     0.8939      1.471      1.257         56        640: 100%|██████████| 164/164 [02:18<00:00,  1.19it/s]\n",
      "                 Class     Images  Instances      Box(P          R      mAP50  mAP50-95): 100%|██████████| 21/21 [00:15<00:00,  1.34it/s]"
     ]
    },
    {
     "name": "stdout",
     "output_type": "stream",
     "text": [
      "                   all       1310       1321      0.796      0.731       0.82      0.603\n"
     ]
    },
    {
     "name": "stderr",
     "output_type": "stream",
     "text": [
      "\n"
     ]
    },
    {
     "name": "stdout",
     "output_type": "stream",
     "text": [
      "\n",
      "      Epoch    GPU_mem   box_loss   cls_loss   dfl_loss  Instances       Size\n"
     ]
    },
    {
     "name": "stderr",
     "output_type": "stream",
     "text": [
      "     43/100      25.4G     0.8923      1.443      1.255         56        640: 100%|██████████| 164/164 [02:18<00:00,  1.18it/s]\n",
      "                 Class     Images  Instances      Box(P          R      mAP50  mAP50-95): 100%|██████████| 21/21 [00:15<00:00,  1.37it/s]"
     ]
    },
    {
     "name": "stdout",
     "output_type": "stream",
     "text": [
      "                   all       1310       1321      0.755      0.743      0.804      0.587\n"
     ]
    },
    {
     "name": "stderr",
     "output_type": "stream",
     "text": [
      "\n"
     ]
    },
    {
     "name": "stdout",
     "output_type": "stream",
     "text": [
      "\n",
      "      Epoch    GPU_mem   box_loss   cls_loss   dfl_loss  Instances       Size\n"
     ]
    },
    {
     "name": "stderr",
     "output_type": "stream",
     "text": [
      "     44/100      25.4G     0.8749      1.443      1.238         57        640: 100%|██████████| 164/164 [02:18<00:00,  1.18it/s]\n",
      "                 Class     Images  Instances      Box(P          R      mAP50  mAP50-95): 100%|██████████| 21/21 [00:14<00:00,  1.40it/s]\n"
     ]
    },
    {
     "name": "stdout",
     "output_type": "stream",
     "text": [
      "                   all       1310       1321       0.75      0.792       0.81      0.585\n",
      "\n",
      "      Epoch    GPU_mem   box_loss   cls_loss   dfl_loss  Instances       Size\n"
     ]
    },
    {
     "name": "stderr",
     "output_type": "stream",
     "text": [
      "     45/100      25.4G     0.8782       1.41      1.237         51        640: 100%|██████████| 164/164 [02:19<00:00,  1.18it/s]\n",
      "                 Class     Images  Instances      Box(P          R      mAP50  mAP50-95): 100%|██████████| 21/21 [00:15<00:00,  1.37it/s]"
     ]
    },
    {
     "name": "stdout",
     "output_type": "stream",
     "text": [
      "                   all       1310       1321      0.781       0.75       0.81      0.598\n"
     ]
    },
    {
     "name": "stderr",
     "output_type": "stream",
     "text": [
      "\n"
     ]
    },
    {
     "name": "stdout",
     "output_type": "stream",
     "text": [
      "\n",
      "      Epoch    GPU_mem   box_loss   cls_loss   dfl_loss  Instances       Size\n"
     ]
    },
    {
     "name": "stderr",
     "output_type": "stream",
     "text": [
      "     46/100      25.4G     0.8693      1.399      1.241         58        640: 100%|██████████| 164/164 [02:18<00:00,  1.18it/s]\n",
      "                 Class     Images  Instances      Box(P          R      mAP50  mAP50-95): 100%|██████████| 21/21 [00:15<00:00,  1.32it/s]"
     ]
    },
    {
     "name": "stdout",
     "output_type": "stream",
     "text": [
      "                   all       1310       1321      0.794      0.733      0.814      0.606\n"
     ]
    },
    {
     "name": "stderr",
     "output_type": "stream",
     "text": [
      "\n"
     ]
    },
    {
     "name": "stdout",
     "output_type": "stream",
     "text": [
      "\n",
      "      Epoch    GPU_mem   box_loss   cls_loss   dfl_loss  Instances       Size\n"
     ]
    },
    {
     "name": "stderr",
     "output_type": "stream",
     "text": [
      "     47/100      25.5G     0.8684      1.397      1.233         47        640: 100%|██████████| 164/164 [02:18<00:00,  1.19it/s]\n",
      "                 Class     Images  Instances      Box(P          R      mAP50  mAP50-95): 100%|██████████| 21/21 [00:15<00:00,  1.32it/s]"
     ]
    },
    {
     "name": "stdout",
     "output_type": "stream",
     "text": [
      "                   all       1310       1321      0.768       0.76      0.815      0.598\n"
     ]
    },
    {
     "name": "stderr",
     "output_type": "stream",
     "text": [
      "\n"
     ]
    },
    {
     "name": "stdout",
     "output_type": "stream",
     "text": [
      "\n",
      "      Epoch    GPU_mem   box_loss   cls_loss   dfl_loss  Instances       Size\n"
     ]
    },
    {
     "name": "stderr",
     "output_type": "stream",
     "text": [
      "     48/100      25.5G     0.8575      1.366      1.224         56        640: 100%|██████████| 164/164 [02:18<00:00,  1.19it/s]\n",
      "                 Class     Images  Instances      Box(P          R      mAP50  mAP50-95): 100%|██████████| 21/21 [00:15<00:00,  1.33it/s]"
     ]
    },
    {
     "name": "stdout",
     "output_type": "stream",
     "text": [
      "                   all       1310       1321      0.761      0.766      0.825      0.605\n"
     ]
    },
    {
     "name": "stderr",
     "output_type": "stream",
     "text": [
      "\n"
     ]
    },
    {
     "name": "stdout",
     "output_type": "stream",
     "text": [
      "\n",
      "      Epoch    GPU_mem   box_loss   cls_loss   dfl_loss  Instances       Size\n"
     ]
    },
    {
     "name": "stderr",
     "output_type": "stream",
     "text": [
      "     49/100      25.5G      0.848      1.349      1.223         52        640: 100%|██████████| 164/164 [02:17<00:00,  1.19it/s]\n",
      "                 Class     Images  Instances      Box(P          R      mAP50  mAP50-95): 100%|██████████| 21/21 [00:15<00:00,  1.37it/s]"
     ]
    },
    {
     "name": "stdout",
     "output_type": "stream",
     "text": [
      "                   all       1310       1321       0.75      0.759      0.809      0.599\n"
     ]
    },
    {
     "name": "stderr",
     "output_type": "stream",
     "text": [
      "\n"
     ]
    },
    {
     "name": "stdout",
     "output_type": "stream",
     "text": [
      "\n",
      "      Epoch    GPU_mem   box_loss   cls_loss   dfl_loss  Instances       Size\n"
     ]
    },
    {
     "name": "stderr",
     "output_type": "stream",
     "text": [
      "     50/100      25.4G     0.8403      1.345      1.217         51        640: 100%|██████████| 164/164 [02:19<00:00,  1.18it/s]\n",
      "                 Class     Images  Instances      Box(P          R      mAP50  mAP50-95): 100%|██████████| 21/21 [00:16<00:00,  1.29it/s]"
     ]
    },
    {
     "name": "stdout",
     "output_type": "stream",
     "text": [
      "                   all       1310       1321      0.753      0.776      0.824      0.613\n"
     ]
    },
    {
     "name": "stderr",
     "output_type": "stream",
     "text": [
      "\n"
     ]
    },
    {
     "name": "stdout",
     "output_type": "stream",
     "text": [
      "\n",
      "      Epoch    GPU_mem   box_loss   cls_loss   dfl_loss  Instances       Size\n"
     ]
    },
    {
     "name": "stderr",
     "output_type": "stream",
     "text": [
      "     51/100      25.5G     0.8481       1.33      1.216         54        640: 100%|██████████| 164/164 [02:17<00:00,  1.19it/s]\n",
      "                 Class     Images  Instances      Box(P          R      mAP50  mAP50-95): 100%|██████████| 21/21 [00:15<00:00,  1.39it/s]\n"
     ]
    },
    {
     "name": "stdout",
     "output_type": "stream",
     "text": [
      "                   all       1310       1321      0.738      0.772      0.817      0.606\n",
      "\n",
      "      Epoch    GPU_mem   box_loss   cls_loss   dfl_loss  Instances       Size\n"
     ]
    },
    {
     "name": "stderr",
     "output_type": "stream",
     "text": [
      "     52/100      25.4G     0.8392      1.304      1.211         53        640: 100%|██████████| 164/164 [02:18<00:00,  1.18it/s]\n",
      "                 Class     Images  Instances      Box(P          R      mAP50  mAP50-95): 100%|██████████| 21/21 [00:15<00:00,  1.37it/s]"
     ]
    },
    {
     "name": "stdout",
     "output_type": "stream",
     "text": [
      "                   all       1310       1321      0.758      0.763      0.823      0.613\n"
     ]
    },
    {
     "name": "stderr",
     "output_type": "stream",
     "text": [
      "\n"
     ]
    },
    {
     "name": "stdout",
     "output_type": "stream",
     "text": [
      "\n",
      "      Epoch    GPU_mem   box_loss   cls_loss   dfl_loss  Instances       Size\n"
     ]
    },
    {
     "name": "stderr",
     "output_type": "stream",
     "text": [
      "     53/100      25.4G     0.8202      1.274      1.197         51        640: 100%|██████████| 164/164 [02:18<00:00,  1.19it/s]\n",
      "                 Class     Images  Instances      Box(P          R      mAP50  mAP50-95): 100%|██████████| 21/21 [00:15<00:00,  1.32it/s]"
     ]
    },
    {
     "name": "stdout",
     "output_type": "stream",
     "text": [
      "                   all       1310       1321      0.787      0.739      0.818      0.608\n"
     ]
    },
    {
     "name": "stderr",
     "output_type": "stream",
     "text": [
      "\n"
     ]
    },
    {
     "name": "stdout",
     "output_type": "stream",
     "text": [
      "\n",
      "      Epoch    GPU_mem   box_loss   cls_loss   dfl_loss  Instances       Size\n"
     ]
    },
    {
     "name": "stderr",
     "output_type": "stream",
     "text": [
      "     54/100      25.4G       0.82      1.251      1.207         63        640: 100%|██████████| 164/164 [02:18<00:00,  1.18it/s]\n",
      "                 Class     Images  Instances      Box(P          R      mAP50  mAP50-95): 100%|██████████| 21/21 [00:16<00:00,  1.31it/s]"
     ]
    },
    {
     "name": "stdout",
     "output_type": "stream",
     "text": [
      "                   all       1310       1321       0.78      0.752      0.821      0.612\n"
     ]
    },
    {
     "name": "stderr",
     "output_type": "stream",
     "text": [
      "\n"
     ]
    },
    {
     "name": "stdout",
     "output_type": "stream",
     "text": [
      "\n",
      "      Epoch    GPU_mem   box_loss   cls_loss   dfl_loss  Instances       Size\n"
     ]
    },
    {
     "name": "stderr",
     "output_type": "stream",
     "text": [
      "     55/100      25.5G     0.8093      1.256      1.196         58        640: 100%|██████████| 164/164 [02:18<00:00,  1.18it/s]\n",
      "                 Class     Images  Instances      Box(P          R      mAP50  mAP50-95): 100%|██████████| 21/21 [00:15<00:00,  1.32it/s]"
     ]
    },
    {
     "name": "stdout",
     "output_type": "stream",
     "text": [
      "                   all       1310       1321      0.804      0.734      0.825      0.613\n"
     ]
    },
    {
     "name": "stderr",
     "output_type": "stream",
     "text": [
      "\n"
     ]
    },
    {
     "name": "stdout",
     "output_type": "stream",
     "text": [
      "\n",
      "      Epoch    GPU_mem   box_loss   cls_loss   dfl_loss  Instances       Size\n"
     ]
    },
    {
     "name": "stderr",
     "output_type": "stream",
     "text": [
      "     56/100      25.5G     0.8044      1.225      1.186         59        640: 100%|██████████| 164/164 [02:17<00:00,  1.19it/s]\n",
      "                 Class     Images  Instances      Box(P          R      mAP50  mAP50-95): 100%|██████████| 21/21 [00:15<00:00,  1.32it/s]\n"
     ]
    },
    {
     "name": "stdout",
     "output_type": "stream",
     "text": [
      "                   all       1310       1321      0.761      0.759       0.82      0.611\n",
      "\n",
      "      Epoch    GPU_mem   box_loss   cls_loss   dfl_loss  Instances       Size\n"
     ]
    },
    {
     "name": "stderr",
     "output_type": "stream",
     "text": [
      "     57/100      25.5G     0.7971      1.223      1.182         56        640: 100%|██████████| 164/164 [02:19<00:00,  1.18it/s]\n",
      "                 Class     Images  Instances      Box(P          R      mAP50  mAP50-95): 100%|██████████| 21/21 [00:14<00:00,  1.41it/s]"
     ]
    },
    {
     "name": "stdout",
     "output_type": "stream",
     "text": [
      "                   all       1310       1321      0.776      0.749      0.817      0.607\n"
     ]
    },
    {
     "name": "stderr",
     "output_type": "stream",
     "text": [
      "\n"
     ]
    },
    {
     "name": "stdout",
     "output_type": "stream",
     "text": [
      "\n",
      "      Epoch    GPU_mem   box_loss   cls_loss   dfl_loss  Instances       Size\n"
     ]
    },
    {
     "name": "stderr",
     "output_type": "stream",
     "text": [
      "     58/100      25.5G     0.8021      1.197      1.189         55        640: 100%|██████████| 164/164 [02:19<00:00,  1.18it/s]\n",
      "                 Class     Images  Instances      Box(P          R      mAP50  mAP50-95): 100%|██████████| 21/21 [00:15<00:00,  1.39it/s]"
     ]
    },
    {
     "name": "stdout",
     "output_type": "stream",
     "text": [
      "                   all       1310       1321      0.794      0.761      0.827       0.62\n"
     ]
    },
    {
     "name": "stderr",
     "output_type": "stream",
     "text": [
      "\n"
     ]
    },
    {
     "name": "stdout",
     "output_type": "stream",
     "text": [
      "\n",
      "      Epoch    GPU_mem   box_loss   cls_loss   dfl_loss  Instances       Size\n"
     ]
    },
    {
     "name": "stderr",
     "output_type": "stream",
     "text": [
      "     59/100      25.5G     0.7996      1.194      1.178         54        640: 100%|██████████| 164/164 [02:18<00:00,  1.19it/s]\n",
      "                 Class     Images  Instances      Box(P          R      mAP50  mAP50-95): 100%|██████████| 21/21 [00:15<00:00,  1.34it/s]"
     ]
    },
    {
     "name": "stdout",
     "output_type": "stream",
     "text": [
      "                   all       1310       1321       0.76      0.751      0.824      0.625\n"
     ]
    },
    {
     "name": "stderr",
     "output_type": "stream",
     "text": [
      "\n"
     ]
    },
    {
     "name": "stdout",
     "output_type": "stream",
     "text": [
      "\n",
      "      Epoch    GPU_mem   box_loss   cls_loss   dfl_loss  Instances       Size\n"
     ]
    },
    {
     "name": "stderr",
     "output_type": "stream",
     "text": [
      "     60/100      25.4G     0.7897      1.178      1.173         57        640: 100%|██████████| 164/164 [02:17<00:00,  1.19it/s]\n",
      "                 Class     Images  Instances      Box(P          R      mAP50  mAP50-95): 100%|██████████| 21/21 [00:15<00:00,  1.38it/s]\n"
     ]
    },
    {
     "name": "stdout",
     "output_type": "stream",
     "text": [
      "                   all       1310       1321      0.796      0.735      0.821      0.614\n",
      "\n",
      "      Epoch    GPU_mem   box_loss   cls_loss   dfl_loss  Instances       Size\n"
     ]
    },
    {
     "name": "stderr",
     "output_type": "stream",
     "text": [
      "     61/100      25.4G     0.7766      1.149      1.173         61        640: 100%|██████████| 164/164 [02:18<00:00,  1.18it/s]\n",
      "                 Class     Images  Instances      Box(P          R      mAP50  mAP50-95): 100%|██████████| 21/21 [00:15<00:00,  1.37it/s]"
     ]
    },
    {
     "name": "stdout",
     "output_type": "stream",
     "text": [
      "                   all       1310       1321      0.793      0.747      0.823      0.617\n"
     ]
    },
    {
     "name": "stderr",
     "output_type": "stream",
     "text": [
      "\n"
     ]
    },
    {
     "name": "stdout",
     "output_type": "stream",
     "text": [
      "\n",
      "      Epoch    GPU_mem   box_loss   cls_loss   dfl_loss  Instances       Size\n"
     ]
    },
    {
     "name": "stderr",
     "output_type": "stream",
     "text": [
      "     62/100      25.4G     0.7684      1.127      1.162         56        640: 100%|██████████| 164/164 [02:18<00:00,  1.19it/s]\n",
      "                 Class     Images  Instances      Box(P          R      mAP50  mAP50-95): 100%|██████████| 21/21 [00:15<00:00,  1.35it/s]"
     ]
    },
    {
     "name": "stdout",
     "output_type": "stream",
     "text": [
      "                   all       1310       1321      0.741      0.783      0.821      0.614\n"
     ]
    },
    {
     "name": "stderr",
     "output_type": "stream",
     "text": [
      "\n"
     ]
    },
    {
     "name": "stdout",
     "output_type": "stream",
     "text": [
      "\n",
      "      Epoch    GPU_mem   box_loss   cls_loss   dfl_loss  Instances       Size\n"
     ]
    },
    {
     "name": "stderr",
     "output_type": "stream",
     "text": [
      "     63/100      25.5G     0.7787      1.141      1.174         54        640: 100%|██████████| 164/164 [02:19<00:00,  1.18it/s]\n",
      "                 Class     Images  Instances      Box(P          R      mAP50  mAP50-95): 100%|██████████| 21/21 [00:15<00:00,  1.35it/s]"
     ]
    },
    {
     "name": "stdout",
     "output_type": "stream",
     "text": [
      "                   all       1310       1321      0.784      0.731      0.817      0.618\n"
     ]
    },
    {
     "name": "stderr",
     "output_type": "stream",
     "text": [
      "\n"
     ]
    },
    {
     "name": "stdout",
     "output_type": "stream",
     "text": [
      "\n",
      "      Epoch    GPU_mem   box_loss   cls_loss   dfl_loss  Instances       Size\n"
     ]
    },
    {
     "name": "stderr",
     "output_type": "stream",
     "text": [
      "     64/100      25.5G     0.7655      1.119      1.166         56        640: 100%|██████████| 164/164 [02:19<00:00,  1.18it/s]\n",
      "                 Class     Images  Instances      Box(P          R      mAP50  mAP50-95): 100%|██████████| 21/21 [00:15<00:00,  1.35it/s]"
     ]
    },
    {
     "name": "stdout",
     "output_type": "stream",
     "text": [
      "                   all       1310       1321      0.768      0.751      0.822      0.619\n"
     ]
    },
    {
     "name": "stderr",
     "output_type": "stream",
     "text": [
      "\n"
     ]
    },
    {
     "name": "stdout",
     "output_type": "stream",
     "text": [
      "\n",
      "      Epoch    GPU_mem   box_loss   cls_loss   dfl_loss  Instances       Size\n"
     ]
    },
    {
     "name": "stderr",
     "output_type": "stream",
     "text": [
      "     65/100      25.5G     0.7486      1.092       1.15         59        640: 100%|██████████| 164/164 [02:18<00:00,  1.18it/s]\n",
      "                 Class     Images  Instances      Box(P          R      mAP50  mAP50-95): 100%|██████████| 21/21 [00:15<00:00,  1.32it/s]"
     ]
    },
    {
     "name": "stdout",
     "output_type": "stream",
     "text": [
      "                   all       1310       1321      0.784       0.73      0.813      0.611\n"
     ]
    },
    {
     "name": "stderr",
     "output_type": "stream",
     "text": [
      "\n"
     ]
    },
    {
     "name": "stdout",
     "output_type": "stream",
     "text": [
      "\n",
      "      Epoch    GPU_mem   box_loss   cls_loss   dfl_loss  Instances       Size\n"
     ]
    },
    {
     "name": "stderr",
     "output_type": "stream",
     "text": [
      "     66/100      25.4G     0.7575      1.089      1.154         51        640: 100%|██████████| 164/164 [02:18<00:00,  1.18it/s]\n",
      "                 Class     Images  Instances      Box(P          R      mAP50  mAP50-95): 100%|██████████| 21/21 [00:15<00:00,  1.35it/s]"
     ]
    },
    {
     "name": "stdout",
     "output_type": "stream",
     "text": [
      "                   all       1310       1321      0.769       0.76      0.816      0.615\n"
     ]
    },
    {
     "name": "stderr",
     "output_type": "stream",
     "text": [
      "\n"
     ]
    },
    {
     "name": "stdout",
     "output_type": "stream",
     "text": [
      "\n",
      "      Epoch    GPU_mem   box_loss   cls_loss   dfl_loss  Instances       Size\n"
     ]
    },
    {
     "name": "stderr",
     "output_type": "stream",
     "text": [
      "     67/100      25.5G     0.7414      1.076      1.146         60        640: 100%|██████████| 164/164 [02:18<00:00,  1.18it/s]\n",
      "                 Class     Images  Instances      Box(P          R      mAP50  mAP50-95): 100%|██████████| 21/21 [00:15<00:00,  1.38it/s]"
     ]
    },
    {
     "name": "stdout",
     "output_type": "stream",
     "text": [
      "                   all       1310       1321      0.784      0.749      0.822      0.624\n"
     ]
    },
    {
     "name": "stderr",
     "output_type": "stream",
     "text": [
      "\n"
     ]
    },
    {
     "name": "stdout",
     "output_type": "stream",
     "text": [
      "\n",
      "      Epoch    GPU_mem   box_loss   cls_loss   dfl_loss  Instances       Size\n"
     ]
    },
    {
     "name": "stderr",
     "output_type": "stream",
     "text": [
      "     68/100      25.4G      0.734      1.047      1.142         56        640: 100%|██████████| 164/164 [02:18<00:00,  1.18it/s]\n",
      "                 Class     Images  Instances      Box(P          R      mAP50  mAP50-95): 100%|██████████| 21/21 [00:15<00:00,  1.34it/s]"
     ]
    },
    {
     "name": "stdout",
     "output_type": "stream",
     "text": [
      "                   all       1310       1321        0.8      0.735      0.818      0.622\n"
     ]
    },
    {
     "name": "stderr",
     "output_type": "stream",
     "text": [
      "\n"
     ]
    },
    {
     "name": "stdout",
     "output_type": "stream",
     "text": [
      "\n",
      "      Epoch    GPU_mem   box_loss   cls_loss   dfl_loss  Instances       Size\n"
     ]
    },
    {
     "name": "stderr",
     "output_type": "stream",
     "text": [
      "     69/100      25.5G      0.736      1.039      1.149         61        640: 100%|██████████| 164/164 [02:18<00:00,  1.18it/s]\n",
      "                 Class     Images  Instances      Box(P          R      mAP50  mAP50-95): 100%|██████████| 21/21 [00:15<00:00,  1.39it/s]"
     ]
    },
    {
     "name": "stdout",
     "output_type": "stream",
     "text": [
      "                   all       1310       1321      0.771      0.765       0.82      0.619\n"
     ]
    },
    {
     "name": "stderr",
     "output_type": "stream",
     "text": [
      "\n"
     ]
    },
    {
     "name": "stdout",
     "output_type": "stream",
     "text": [
      "\n",
      "      Epoch    GPU_mem   box_loss   cls_loss   dfl_loss  Instances       Size\n"
     ]
    },
    {
     "name": "stderr",
     "output_type": "stream",
     "text": [
      "     70/100      25.5G     0.7355       1.03      1.141         52        640: 100%|██████████| 164/164 [02:18<00:00,  1.18it/s]\n",
      "                 Class     Images  Instances      Box(P          R      mAP50  mAP50-95): 100%|██████████| 21/21 [00:15<00:00,  1.37it/s]"
     ]
    },
    {
     "name": "stdout",
     "output_type": "stream",
     "text": [
      "                   all       1310       1321      0.754      0.772      0.814      0.613\n"
     ]
    },
    {
     "name": "stderr",
     "output_type": "stream",
     "text": [
      "\n"
     ]
    },
    {
     "name": "stdout",
     "output_type": "stream",
     "text": [
      "\n",
      "      Epoch    GPU_mem   box_loss   cls_loss   dfl_loss  Instances       Size\n"
     ]
    },
    {
     "name": "stderr",
     "output_type": "stream",
     "text": [
      "     71/100      25.4G     0.7243      1.039      1.133         52        640: 100%|██████████| 164/164 [02:18<00:00,  1.18it/s]\n",
      "                 Class     Images  Instances      Box(P          R      mAP50  mAP50-95): 100%|██████████| 21/21 [00:15<00:00,  1.34it/s]"
     ]
    },
    {
     "name": "stdout",
     "output_type": "stream",
     "text": [
      "                   all       1310       1321      0.778      0.764      0.823      0.621\n"
     ]
    },
    {
     "name": "stderr",
     "output_type": "stream",
     "text": [
      "\n"
     ]
    },
    {
     "name": "stdout",
     "output_type": "stream",
     "text": [
      "\n",
      "      Epoch    GPU_mem   box_loss   cls_loss   dfl_loss  Instances       Size\n"
     ]
    },
    {
     "name": "stderr",
     "output_type": "stream",
     "text": [
      "     72/100      25.4G     0.7191      1.007      1.139         60        640: 100%|██████████| 164/164 [02:17<00:00,  1.19it/s]\n",
      "                 Class     Images  Instances      Box(P          R      mAP50  mAP50-95): 100%|██████████| 21/21 [00:15<00:00,  1.32it/s]"
     ]
    },
    {
     "name": "stdout",
     "output_type": "stream",
     "text": [
      "                   all       1310       1321      0.777      0.779      0.826      0.629\n"
     ]
    },
    {
     "name": "stderr",
     "output_type": "stream",
     "text": [
      "\n"
     ]
    },
    {
     "name": "stdout",
     "output_type": "stream",
     "text": [
      "\n",
      "      Epoch    GPU_mem   box_loss   cls_loss   dfl_loss  Instances       Size\n"
     ]
    },
    {
     "name": "stderr",
     "output_type": "stream",
     "text": [
      "     73/100      25.5G      0.706     0.9944      1.123         47        640: 100%|██████████| 164/164 [02:17<00:00,  1.19it/s]\n",
      "                 Class     Images  Instances      Box(P          R      mAP50  mAP50-95): 100%|██████████| 21/21 [00:16<00:00,  1.31it/s]"
     ]
    },
    {
     "name": "stdout",
     "output_type": "stream",
     "text": [
      "                   all       1310       1321      0.776      0.755      0.822      0.628\n"
     ]
    },
    {
     "name": "stderr",
     "output_type": "stream",
     "text": [
      "\n"
     ]
    },
    {
     "name": "stdout",
     "output_type": "stream",
     "text": [
      "\n",
      "      Epoch    GPU_mem   box_loss   cls_loss   dfl_loss  Instances       Size\n"
     ]
    },
    {
     "name": "stderr",
     "output_type": "stream",
     "text": [
      "     74/100      25.4G     0.7132      0.997      1.122         58        640: 100%|██████████| 164/164 [02:18<00:00,  1.18it/s]\n",
      "                 Class     Images  Instances      Box(P          R      mAP50  mAP50-95): 100%|██████████| 21/21 [00:15<00:00,  1.35it/s]"
     ]
    },
    {
     "name": "stdout",
     "output_type": "stream",
     "text": [
      "                   all       1310       1321      0.774      0.749       0.81      0.612\n"
     ]
    },
    {
     "name": "stderr",
     "output_type": "stream",
     "text": [
      "\n"
     ]
    },
    {
     "name": "stdout",
     "output_type": "stream",
     "text": [
      "\n",
      "      Epoch    GPU_mem   box_loss   cls_loss   dfl_loss  Instances       Size\n"
     ]
    },
    {
     "name": "stderr",
     "output_type": "stream",
     "text": [
      "     75/100      25.5G      0.705       0.97      1.116         51        640: 100%|██████████| 164/164 [02:18<00:00,  1.18it/s]\n",
      "                 Class     Images  Instances      Box(P          R      mAP50  mAP50-95): 100%|██████████| 21/21 [00:14<00:00,  1.41it/s]"
     ]
    },
    {
     "name": "stdout",
     "output_type": "stream",
     "text": [
      "                   all       1310       1321      0.786      0.749      0.808      0.609\n"
     ]
    },
    {
     "name": "stderr",
     "output_type": "stream",
     "text": [
      "\n"
     ]
    },
    {
     "name": "stdout",
     "output_type": "stream",
     "text": [
      "\n",
      "      Epoch    GPU_mem   box_loss   cls_loss   dfl_loss  Instances       Size\n"
     ]
    },
    {
     "name": "stderr",
     "output_type": "stream",
     "text": [
      "     76/100      25.5G     0.6985     0.9718      1.112         59        640: 100%|██████████| 164/164 [02:19<00:00,  1.18it/s]\n",
      "                 Class     Images  Instances      Box(P          R      mAP50  mAP50-95): 100%|██████████| 21/21 [00:15<00:00,  1.38it/s]"
     ]
    },
    {
     "name": "stdout",
     "output_type": "stream",
     "text": [
      "                   all       1310       1321      0.764      0.768      0.811       0.62\n"
     ]
    },
    {
     "name": "stderr",
     "output_type": "stream",
     "text": [
      "\n"
     ]
    },
    {
     "name": "stdout",
     "output_type": "stream",
     "text": [
      "\n",
      "      Epoch    GPU_mem   box_loss   cls_loss   dfl_loss  Instances       Size\n"
     ]
    },
    {
     "name": "stderr",
     "output_type": "stream",
     "text": [
      "     77/100      25.4G     0.6894     0.9497      1.108         53        640: 100%|██████████| 164/164 [02:18<00:00,  1.18it/s]\n",
      "                 Class     Images  Instances      Box(P          R      mAP50  mAP50-95): 100%|██████████| 21/21 [00:14<00:00,  1.41it/s]"
     ]
    },
    {
     "name": "stdout",
     "output_type": "stream",
     "text": [
      "                   all       1310       1321      0.784      0.746      0.801      0.607\n"
     ]
    },
    {
     "name": "stderr",
     "output_type": "stream",
     "text": [
      "\n"
     ]
    },
    {
     "name": "stdout",
     "output_type": "stream",
     "text": [
      "\n",
      "      Epoch    GPU_mem   box_loss   cls_loss   dfl_loss  Instances       Size\n"
     ]
    },
    {
     "name": "stderr",
     "output_type": "stream",
     "text": [
      "     78/100      25.4G     0.6847     0.9486      1.105         52        640: 100%|██████████| 164/164 [02:19<00:00,  1.18it/s]\n",
      "                 Class     Images  Instances      Box(P          R      mAP50  mAP50-95): 100%|██████████| 21/21 [00:15<00:00,  1.38it/s]"
     ]
    },
    {
     "name": "stdout",
     "output_type": "stream",
     "text": [
      "                   all       1310       1321       0.77      0.755      0.804      0.614\n"
     ]
    },
    {
     "name": "stderr",
     "output_type": "stream",
     "text": [
      "\n"
     ]
    },
    {
     "name": "stdout",
     "output_type": "stream",
     "text": [
      "\n",
      "      Epoch    GPU_mem   box_loss   cls_loss   dfl_loss  Instances       Size\n"
     ]
    },
    {
     "name": "stderr",
     "output_type": "stream",
     "text": [
      "     79/100      25.5G     0.6887     0.9608      1.111         55        640: 100%|██████████| 164/164 [02:19<00:00,  1.18it/s]\n",
      "                 Class     Images  Instances      Box(P          R      mAP50  mAP50-95): 100%|██████████| 21/21 [00:15<00:00,  1.36it/s]"
     ]
    },
    {
     "name": "stdout",
     "output_type": "stream",
     "text": [
      "                   all       1310       1321      0.773      0.755      0.807      0.612\n"
     ]
    },
    {
     "name": "stderr",
     "output_type": "stream",
     "text": [
      "\n"
     ]
    },
    {
     "name": "stdout",
     "output_type": "stream",
     "text": [
      "\n",
      "      Epoch    GPU_mem   box_loss   cls_loss   dfl_loss  Instances       Size\n"
     ]
    },
    {
     "name": "stderr",
     "output_type": "stream",
     "text": [
      "     80/100      25.4G      0.674     0.9338      1.097         63        640: 100%|██████████| 164/164 [02:19<00:00,  1.18it/s]\n",
      "                 Class     Images  Instances      Box(P          R      mAP50  mAP50-95): 100%|██████████| 21/21 [00:15<00:00,  1.37it/s]"
     ]
    },
    {
     "name": "stdout",
     "output_type": "stream",
     "text": [
      "                   all       1310       1321       0.75      0.775      0.802      0.607\n"
     ]
    },
    {
     "name": "stderr",
     "output_type": "stream",
     "text": [
      "\n"
     ]
    },
    {
     "name": "stdout",
     "output_type": "stream",
     "text": [
      "\n",
      "      Epoch    GPU_mem   box_loss   cls_loss   dfl_loss  Instances       Size\n"
     ]
    },
    {
     "name": "stderr",
     "output_type": "stream",
     "text": [
      "     81/100      25.5G      0.665     0.9143      1.093         59        640: 100%|██████████| 164/164 [02:19<00:00,  1.18it/s]\n",
      "                 Class     Images  Instances      Box(P          R      mAP50  mAP50-95): 100%|██████████| 21/21 [00:15<00:00,  1.39it/s]"
     ]
    },
    {
     "name": "stdout",
     "output_type": "stream",
     "text": [
      "                   all       1310       1321      0.771      0.738        0.8      0.608\n"
     ]
    },
    {
     "name": "stderr",
     "output_type": "stream",
     "text": [
      "\n"
     ]
    },
    {
     "name": "stdout",
     "output_type": "stream",
     "text": [
      "\n",
      "      Epoch    GPU_mem   box_loss   cls_loss   dfl_loss  Instances       Size\n"
     ]
    },
    {
     "name": "stderr",
     "output_type": "stream",
     "text": [
      "     82/100      25.5G     0.6612     0.9157      1.096         61        640: 100%|██████████| 164/164 [02:18<00:00,  1.18it/s]\n",
      "                 Class     Images  Instances      Box(P          R      mAP50  mAP50-95): 100%|██████████| 21/21 [00:15<00:00,  1.34it/s]"
     ]
    },
    {
     "name": "stdout",
     "output_type": "stream",
     "text": [
      "                   all       1310       1321      0.752      0.755      0.804      0.613\n"
     ]
    },
    {
     "name": "stderr",
     "output_type": "stream",
     "text": [
      "\n"
     ]
    },
    {
     "name": "stdout",
     "output_type": "stream",
     "text": [
      "\n",
      "      Epoch    GPU_mem   box_loss   cls_loss   dfl_loss  Instances       Size\n"
     ]
    },
    {
     "name": "stderr",
     "output_type": "stream",
     "text": [
      "     83/100      25.4G     0.6629     0.8903      1.093         59        640: 100%|██████████| 164/164 [02:19<00:00,  1.18it/s]\n",
      "                 Class     Images  Instances      Box(P          R      mAP50  mAP50-95): 100%|██████████| 21/21 [00:15<00:00,  1.40it/s]"
     ]
    },
    {
     "name": "stdout",
     "output_type": "stream",
     "text": [
      "                   all       1310       1321       0.76      0.752      0.801      0.614\n"
     ]
    },
    {
     "name": "stderr",
     "output_type": "stream",
     "text": [
      "\n"
     ]
    },
    {
     "name": "stdout",
     "output_type": "stream",
     "text": [
      "\n",
      "      Epoch    GPU_mem   box_loss   cls_loss   dfl_loss  Instances       Size\n"
     ]
    },
    {
     "name": "stderr",
     "output_type": "stream",
     "text": [
      "     84/100      25.4G     0.6525     0.8895      1.088         53        640: 100%|██████████| 164/164 [02:18<00:00,  1.18it/s]\n",
      "                 Class     Images  Instances      Box(P          R      mAP50  mAP50-95): 100%|██████████| 21/21 [00:15<00:00,  1.39it/s]"
     ]
    },
    {
     "name": "stdout",
     "output_type": "stream",
     "text": [
      "                   all       1310       1321      0.786      0.729      0.802      0.614\n"
     ]
    },
    {
     "name": "stderr",
     "output_type": "stream",
     "text": [
      "\n"
     ]
    },
    {
     "name": "stdout",
     "output_type": "stream",
     "text": [
      "\n",
      "      Epoch    GPU_mem   box_loss   cls_loss   dfl_loss  Instances       Size\n"
     ]
    },
    {
     "name": "stderr",
     "output_type": "stream",
     "text": [
      "     85/100      25.5G     0.6457      0.862       1.09         49        640: 100%|██████████| 164/164 [02:18<00:00,  1.18it/s]\n",
      "                 Class     Images  Instances      Box(P          R      mAP50  mAP50-95): 100%|██████████| 21/21 [00:15<00:00,  1.36it/s]\n"
     ]
    },
    {
     "name": "stdout",
     "output_type": "stream",
     "text": [
      "                   all       1310       1321      0.778      0.727      0.798      0.611\n",
      "\n",
      "      Epoch    GPU_mem   box_loss   cls_loss   dfl_loss  Instances       Size\n"
     ]
    },
    {
     "name": "stderr",
     "output_type": "stream",
     "text": [
      "     86/100      25.4G     0.6453     0.8711      1.087         61        640: 100%|██████████| 164/164 [02:18<00:00,  1.19it/s]\n",
      "                 Class     Images  Instances      Box(P          R      mAP50  mAP50-95): 100%|██████████| 21/21 [00:15<00:00,  1.37it/s]"
     ]
    },
    {
     "name": "stdout",
     "output_type": "stream",
     "text": [
      "                   all       1310       1321      0.796      0.714      0.795      0.613\n"
     ]
    },
    {
     "name": "stderr",
     "output_type": "stream",
     "text": [
      "\n"
     ]
    },
    {
     "name": "stdout",
     "output_type": "stream",
     "text": [
      "\n",
      "      Epoch    GPU_mem   box_loss   cls_loss   dfl_loss  Instances       Size\n"
     ]
    },
    {
     "name": "stderr",
     "output_type": "stream",
     "text": [
      "     87/100      25.5G     0.6416     0.8756      1.082         62        640: 100%|██████████| 164/164 [02:19<00:00,  1.18it/s]\n",
      "                 Class     Images  Instances      Box(P          R      mAP50  mAP50-95): 100%|██████████| 21/21 [00:15<00:00,  1.40it/s]"
     ]
    },
    {
     "name": "stdout",
     "output_type": "stream",
     "text": [
      "                   all       1310       1321      0.752      0.763      0.802      0.615\n"
     ]
    },
    {
     "name": "stderr",
     "output_type": "stream",
     "text": [
      "\n"
     ]
    },
    {
     "name": "stdout",
     "output_type": "stream",
     "text": [
      "\n",
      "      Epoch    GPU_mem   box_loss   cls_loss   dfl_loss  Instances       Size\n"
     ]
    },
    {
     "name": "stderr",
     "output_type": "stream",
     "text": [
      "     88/100      25.5G     0.6277      0.838       1.07         60        640: 100%|██████████| 164/164 [02:19<00:00,  1.18it/s]\n",
      "                 Class     Images  Instances      Box(P          R      mAP50  mAP50-95): 100%|██████████| 21/21 [00:15<00:00,  1.37it/s]"
     ]
    },
    {
     "name": "stdout",
     "output_type": "stream",
     "text": [
      "                   all       1310       1321      0.777      0.738      0.803      0.616\n"
     ]
    },
    {
     "name": "stderr",
     "output_type": "stream",
     "text": [
      "\n"
     ]
    },
    {
     "name": "stdout",
     "output_type": "stream",
     "text": [
      "\n",
      "      Epoch    GPU_mem   box_loss   cls_loss   dfl_loss  Instances       Size\n"
     ]
    },
    {
     "name": "stderr",
     "output_type": "stream",
     "text": [
      "     89/100      25.4G     0.6283     0.8392      1.073         60        640: 100%|██████████| 164/164 [02:19<00:00,  1.18it/s]\n",
      "                 Class     Images  Instances      Box(P          R      mAP50  mAP50-95): 100%|██████████| 21/21 [00:16<00:00,  1.31it/s]\n"
     ]
    },
    {
     "name": "stdout",
     "output_type": "stream",
     "text": [
      "                   all       1310       1321      0.783      0.729      0.801      0.615\n",
      "\n",
      "      Epoch    GPU_mem   box_loss   cls_loss   dfl_loss  Instances       Size\n"
     ]
    },
    {
     "name": "stderr",
     "output_type": "stream",
     "text": [
      "     90/100      25.4G      0.621     0.8303      1.071         56        640: 100%|██████████| 164/164 [02:19<00:00,  1.18it/s]\n",
      "                 Class     Images  Instances      Box(P          R      mAP50  mAP50-95): 100%|██████████| 21/21 [00:16<00:00,  1.30it/s]"
     ]
    },
    {
     "name": "stdout",
     "output_type": "stream",
     "text": [
      "                   all       1310       1321      0.782      0.733        0.8      0.617\n"
     ]
    },
    {
     "name": "stderr",
     "output_type": "stream",
     "text": [
      "\n"
     ]
    },
    {
     "name": "stdout",
     "output_type": "stream",
     "text": [
      "Closing dataloader mosaic\n",
      "\u001b[34m\u001b[1malbumentations: \u001b[0mBlur(p=0.01, blur_limit=(3, 7)), MedianBlur(p=0.01, blur_limit=(3, 7)), ToGray(p=0.01), CLAHE(p=0.01, clip_limit=(1, 4.0), tile_grid_size=(8, 8))\n",
      "\n",
      "      Epoch    GPU_mem   box_loss   cls_loss   dfl_loss  Instances       Size\n"
     ]
    },
    {
     "name": "stderr",
     "output_type": "stream",
     "text": [
      "     91/100      25.4G     0.5671     0.6405      1.025         27        640: 100%|██████████| 164/164 [02:29<00:00,  1.10it/s]\n",
      "                 Class     Images  Instances      Box(P          R      mAP50  mAP50-95): 100%|██████████| 21/21 [00:15<00:00,  1.38it/s]"
     ]
    },
    {
     "name": "stdout",
     "output_type": "stream",
     "text": [
      "                   all       1310       1321      0.784      0.745      0.801      0.614\n"
     ]
    },
    {
     "name": "stderr",
     "output_type": "stream",
     "text": [
      "\n"
     ]
    },
    {
     "name": "stdout",
     "output_type": "stream",
     "text": [
      "\n",
      "      Epoch    GPU_mem   box_loss   cls_loss   dfl_loss  Instances       Size\n"
     ]
    },
    {
     "name": "stderr",
     "output_type": "stream",
     "text": [
      "     92/100      25.5G     0.5438     0.5992      1.012         26        640: 100%|██████████| 164/164 [02:17<00:00,  1.19it/s]\n",
      "                 Class     Images  Instances      Box(P          R      mAP50  mAP50-95): 100%|██████████| 21/21 [00:15<00:00,  1.39it/s]"
     ]
    },
    {
     "name": "stdout",
     "output_type": "stream",
     "text": [
      "                   all       1310       1321      0.791      0.727      0.798      0.614\n"
     ]
    },
    {
     "name": "stderr",
     "output_type": "stream",
     "text": [
      "\n"
     ]
    },
    {
     "name": "stdout",
     "output_type": "stream",
     "text": [
      "\n",
      "      Epoch    GPU_mem   box_loss   cls_loss   dfl_loss  Instances       Size\n"
     ]
    },
    {
     "name": "stderr",
     "output_type": "stream",
     "text": [
      "     93/100      25.4G     0.5301     0.5703     0.9976         27        640: 100%|██████████| 164/164 [02:18<00:00,  1.18it/s]\n",
      "                 Class     Images  Instances      Box(P          R      mAP50  mAP50-95): 100%|██████████| 21/21 [00:15<00:00,  1.33it/s]"
     ]
    },
    {
     "name": "stdout",
     "output_type": "stream",
     "text": [
      "                   all       1310       1321      0.794      0.732      0.805      0.621\n"
     ]
    },
    {
     "name": "stderr",
     "output_type": "stream",
     "text": [
      "\n"
     ]
    },
    {
     "name": "stdout",
     "output_type": "stream",
     "text": [
      "\n",
      "      Epoch    GPU_mem   box_loss   cls_loss   dfl_loss  Instances       Size\n"
     ]
    },
    {
     "name": "stderr",
     "output_type": "stream",
     "text": [
      "     94/100      25.5G     0.5259     0.5585      1.002         27        640: 100%|██████████| 164/164 [02:18<00:00,  1.18it/s]\n",
      "                 Class     Images  Instances      Box(P          R      mAP50  mAP50-95): 100%|██████████| 21/21 [00:15<00:00,  1.36it/s]"
     ]
    },
    {
     "name": "stdout",
     "output_type": "stream",
     "text": [
      "                   all       1310       1321      0.776      0.752      0.804       0.62\n"
     ]
    },
    {
     "name": "stderr",
     "output_type": "stream",
     "text": [
      "\n"
     ]
    },
    {
     "name": "stdout",
     "output_type": "stream",
     "text": [
      "\n",
      "      Epoch    GPU_mem   box_loss   cls_loss   dfl_loss  Instances       Size\n"
     ]
    },
    {
     "name": "stderr",
     "output_type": "stream",
     "text": [
      "     95/100      25.5G     0.5166     0.5562          1         27        640: 100%|██████████| 164/164 [02:18<00:00,  1.18it/s]\n",
      "                 Class     Images  Instances      Box(P          R      mAP50  mAP50-95): 100%|██████████| 21/21 [00:14<00:00,  1.41it/s]"
     ]
    },
    {
     "name": "stdout",
     "output_type": "stream",
     "text": [
      "                   all       1310       1321      0.793      0.731      0.802       0.62\n"
     ]
    },
    {
     "name": "stderr",
     "output_type": "stream",
     "text": [
      "\n"
     ]
    },
    {
     "name": "stdout",
     "output_type": "stream",
     "text": [
      "\n",
      "      Epoch    GPU_mem   box_loss   cls_loss   dfl_loss  Instances       Size\n"
     ]
    },
    {
     "name": "stderr",
     "output_type": "stream",
     "text": [
      "     96/100      25.5G     0.5113      0.554      0.995         27        640: 100%|██████████| 164/164 [02:18<00:00,  1.18it/s]\n",
      "                 Class     Images  Instances      Box(P          R      mAP50  mAP50-95): 100%|██████████| 21/21 [00:15<00:00,  1.36it/s]"
     ]
    },
    {
     "name": "stdout",
     "output_type": "stream",
     "text": [
      "                   all       1310       1321      0.792      0.736      0.802      0.621\n"
     ]
    },
    {
     "name": "stderr",
     "output_type": "stream",
     "text": [
      "\n"
     ]
    },
    {
     "name": "stdout",
     "output_type": "stream",
     "text": [
      "\n",
      "      Epoch    GPU_mem   box_loss   cls_loss   dfl_loss  Instances       Size\n"
     ]
    },
    {
     "name": "stderr",
     "output_type": "stream",
     "text": [
      "     97/100      25.4G     0.5026     0.5358     0.9839         25        640: 100%|██████████| 164/164 [02:18<00:00,  1.18it/s]\n",
      "                 Class     Images  Instances      Box(P          R      mAP50  mAP50-95): 100%|██████████| 21/21 [00:15<00:00,  1.37it/s]"
     ]
    },
    {
     "name": "stdout",
     "output_type": "stream",
     "text": [
      "                   all       1310       1321      0.824      0.711        0.8       0.62\n"
     ]
    },
    {
     "name": "stderr",
     "output_type": "stream",
     "text": [
      "\n"
     ]
    },
    {
     "name": "stdout",
     "output_type": "stream",
     "text": [
      "\n",
      "      Epoch    GPU_mem   box_loss   cls_loss   dfl_loss  Instances       Size\n"
     ]
    },
    {
     "name": "stderr",
     "output_type": "stream",
     "text": [
      "     98/100      25.5G      0.492     0.5242     0.9754         26        640: 100%|██████████| 164/164 [02:18<00:00,  1.18it/s]\n",
      "                 Class     Images  Instances      Box(P          R      mAP50  mAP50-95): 100%|██████████| 21/21 [00:15<00:00,  1.33it/s]"
     ]
    },
    {
     "name": "stdout",
     "output_type": "stream",
     "text": [
      "                   all       1310       1321      0.819      0.716      0.797      0.619\n"
     ]
    },
    {
     "name": "stderr",
     "output_type": "stream",
     "text": [
      "\n"
     ]
    },
    {
     "name": "stdout",
     "output_type": "stream",
     "text": [
      "\n",
      "      Epoch    GPU_mem   box_loss   cls_loss   dfl_loss  Instances       Size\n"
     ]
    },
    {
     "name": "stderr",
     "output_type": "stream",
     "text": [
      "     99/100      25.5G     0.4927      0.518     0.9769         27        640: 100%|██████████| 164/164 [02:18<00:00,  1.18it/s]\n",
      "                 Class     Images  Instances      Box(P          R      mAP50  mAP50-95): 100%|██████████| 21/21 [00:15<00:00,  1.35it/s]"
     ]
    },
    {
     "name": "stdout",
     "output_type": "stream",
     "text": [
      "                   all       1310       1321      0.808       0.72      0.797       0.62\n"
     ]
    },
    {
     "name": "stderr",
     "output_type": "stream",
     "text": [
      "\n"
     ]
    },
    {
     "name": "stdout",
     "output_type": "stream",
     "text": [
      "\n",
      "      Epoch    GPU_mem   box_loss   cls_loss   dfl_loss  Instances       Size\n"
     ]
    },
    {
     "name": "stderr",
     "output_type": "stream",
     "text": [
      "    100/100      25.4G     0.4906     0.5155     0.9744         26        640: 100%|██████████| 164/164 [02:18<00:00,  1.18it/s]\n",
      "                 Class     Images  Instances      Box(P          R      mAP50  mAP50-95): 100%|██████████| 21/21 [00:15<00:00,  1.32it/s]"
     ]
    },
    {
     "name": "stdout",
     "output_type": "stream",
     "text": [
      "                   all       1310       1321       0.82      0.708      0.795      0.618\n"
     ]
    },
    {
     "name": "stderr",
     "output_type": "stream",
     "text": [
      "\n"
     ]
    },
    {
     "name": "stdout",
     "output_type": "stream",
     "text": [
      "\n",
      "100 epochs completed in 4.477 hours.\n",
      "Optimizer stripped from runs/detect/train8/weights/last.pt, 136.7MB\n",
      "Optimizer stripped from runs/detect/train8/weights/best.pt, 136.7MB\n",
      "\n",
      "Validating runs/detect/train8/weights/best.pt...\n",
      "Ultralytics YOLOv8.2.17 🚀 Python-3.10.12 torch-2.0.1+cu118 CUDA:0 (Tesla V100-PCIE-32GB, 32501MiB)\n",
      "Model summary (fused): 268 layers, 68126457 parameters, 0 gradients, 257.4 GFLOPs\n"
     ]
    },
    {
     "name": "stderr",
     "output_type": "stream",
     "text": [
      "                 Class     Images  Instances      Box(P          R      mAP50  mAP50-95): 100%|██████████| 21/21 [00:19<00:00,  1.05it/s]\n"
     ]
    },
    {
     "name": "stdout",
     "output_type": "stream",
     "text": [
      "                   all       1310       1321      0.776      0.779      0.826      0.629\n",
      "               Кабарга       1310        335      0.861      0.869      0.916      0.695\n",
      "                Косуля       1310        438      0.814      0.856      0.895      0.695\n",
      "                 Олень       1310        548      0.653      0.611      0.667      0.497\n",
      "Speed: 0.4ms preprocess, 5.8ms inference, 0.0ms loss, 1.7ms postprocess per image\n",
      "Results saved to \u001b[1mruns/detect/train8\u001b[0m\n"
     ]
    }
   ],
   "source": [
    "from ultralytics import YOLO\n",
    "\n",
    "# Load a model\n",
    "model = YOLO('yolov8x.pt')  \n",
    "results = model.train(data='/home/jupyter/datasphere/project/data2.yaml', epochs=100, imgsz=640,batch=32, device=0, cls=0.9,save_period=10)"
   ]
  },
  {
   "cell_type": "code",
   "execution_count": null,
   "id": "85b2142e-205f-45a8-9ce2-f96558627164",
   "metadata": {},
   "outputs": [],
   "source": []
  }
 ],
 "metadata": {
  "kernelspec": {
   "display_name": "DataSphere Kernel",
   "language": "python",
   "name": "python3"
  },
  "language_info": {
   "codemirror_mode": {
    "name": "ipython",
    "version": 3
   },
   "file_extension": ".py",
   "mimetype": "text/x-python",
   "name": "python",
   "nbconvert_exporter": "python",
   "pygments_lexer": "ipython3",
   "version": "3.10.12"
  }
 },
 "nbformat": 4,
 "nbformat_minor": 5
}
