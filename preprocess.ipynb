{
 "cells": [
  {
   "cell_type": "markdown",
   "id": "e0c10d82-deaf-41d3-8a7c-cec8c558907d",
   "metadata": {
    "tags": []
   },
   "source": [
    "# Загрузка"
   ]
  },
  {
   "cell_type": "code",
   "execution_count": 1,
   "id": "1902fccc-554e-4892-bafe-c3febad85eef",
   "metadata": {
    "execution": {
     "iopub.execute_input": "2024-05-18T01:44:18.942144Z",
     "iopub.status.busy": "2024-05-18T01:44:18.941137Z",
     "iopub.status.idle": "2024-05-18T01:44:18.967317Z",
     "shell.execute_reply": "2024-05-18T01:44:18.966057Z",
     "shell.execute_reply.started": "2024-05-18T01:44:18.942096Z"
    },
    "tags": []
   },
   "outputs": [],
   "source": [
    "import requests\n",
    "from urllib.parse import urlencode\n",
    "from io import BytesIO\n",
    "from zipfile import ZipFile\n",
    "\n",
    "def download(public_key):\n",
    "    base_url = 'https://cloud-api.yandex.net/v1/disk/public/resources/download?'\n",
    "\n",
    "    final_url = base_url + urlencode(dict(public_key=public_key))\n",
    "    response = requests.get(final_url)\n",
    "    download_url = response.json()['href']\n",
    "    response = requests.get(download_url)\n",
    "\n",
    "    dist_path = '/home/jupyter/datasphere/project/олени'\n",
    "    zipfile = ZipFile(BytesIO(response.content))\n",
    "    zipfile.extractall(path=dist_path)"
   ]
  },
  {
   "cell_type": "code",
   "execution_count": null,
   "id": "c5e3b534-10aa-474b-acf1-990003d53550",
   "metadata": {
    "tags": []
   },
   "outputs": [],
   "source": [
    "download('https://disk.yandex.ru/d/CR1nOiUCHtTExA') # поменять ссылку в итоговом варианте"
   ]
  },
  {
   "cell_type": "markdown",
   "id": "f3fe81a1-dfe6-4ece-884c-4cd0dc05cb42",
   "metadata": {
    "tags": []
   },
   "source": [
    "# Обработка "
   ]
  },
  {
   "cell_type": "markdown",
   "id": "af6830a4-be75-4be7-9734-e657bc0bb71b",
   "metadata": {},
   "source": [
    "Из всех классов были удалены дубликаты с помощью программы на пк и вручную удалены неподходящие изображения   \n",
    "Выделяем оленей в bounding boxes на train-датасете с помощью [предобученной модели на нескольких видах оленей](https://universe.roboflow.com/jeonjuuniv/deer-hqp4i) через api Roboflow"
   ]
  },
  {
   "cell_type": "code",
   "execution_count": null,
   "id": "c96c4ae5-5251-4f34-b49b-b2786289ad46",
   "metadata": {},
   "outputs": [],
   "source": [
    "from roboflow import Roboflow\n",
    "import supervision as sv\n",
    "import cv2\n",
    "from tqdm import tqdm\n",
    "import glob\n",
    "import pandas as pd\n",
    "import os\n",
    "\n",
    "rf = Roboflow(api_key=\"VddTUJz8hUIPlIFyhwFY\")\n",
    "project = rf.workspace().project(\"deer-hqp4i\")\n",
    "model = project.version(1).model"
   ]
  },
  {
   "cell_type": "code",
   "execution_count": null,
   "id": "72ded31f-8714-452b-8098-d171e273997a",
   "metadata": {},
   "outputs": [],
   "source": [
    "from PIL import Image, ImageFile\n",
    "ImageFile.LOAD_TRUNCATED_IMAGES = True"
   ]
  },
  {
   "cell_type": "markdown",
   "id": "3817fc26-5fa0-4872-bedd-f5d07344113d",
   "metadata": {
    "jp-MarkdownHeadingCollapsed": true,
    "tags": []
   },
   "source": [
    "## Кабарга"
   ]
  },
  {
   "cell_type": "markdown",
   "id": "bcf82759-52fc-459e-94fd-faa56763a973",
   "metadata": {},
   "source": [
    "Создаем папки data/images, data/labels; все данные про Кабаргу перенмосим в data/images"
   ]
  },
  {
   "cell_type": "code",
   "execution_count": null,
   "id": "6df60086-ce85-41a2-bb4d-ce078ffe093b",
   "metadata": {
    "tags": []
   },
   "outputs": [],
   "source": [
    "!unzip \"/home/jupyter/datasphere/project/олени/Кабарга.zip\" -d \"/home/jupyter/datasphere/project/data/images\""
   ]
  },
  {
   "cell_type": "code",
   "execution_count": 6,
   "id": "71ec00ca-5e89-4fb8-a644-613bed3f3b12",
   "metadata": {
    "execution": {
     "iopub.execute_input": "2024-05-18T02:45:17.466532Z",
     "iopub.status.busy": "2024-05-18T02:45:17.465492Z",
     "iopub.status.idle": "2024-05-18T02:45:17.505089Z",
     "shell.execute_reply": "2024-05-18T02:45:17.504087Z",
     "shell.execute_reply.started": "2024-05-18T02:45:17.466491Z"
    },
    "tags": []
   },
   "outputs": [],
   "source": [
    "kab_paths = glob.glob('data/images/Кабарга/*')"
   ]
  },
  {
   "cell_type": "code",
   "execution_count": 7,
   "id": "aa35d63b-d7ae-45d9-9693-590a9aa4beae",
   "metadata": {
    "execution": {
     "iopub.execute_input": "2024-05-18T02:46:18.425344Z",
     "iopub.status.busy": "2024-05-18T02:46:18.424448Z",
     "iopub.status.idle": "2024-05-18T02:46:19.367044Z",
     "shell.execute_reply": "2024-05-18T02:46:19.365887Z",
     "shell.execute_reply.started": "2024-05-18T02:46:18.425302Z"
    },
    "tags": []
   },
   "outputs": [],
   "source": [
    "for i in kab_paths:\n",
    "    os.rename(i, '/home/jupyter/datasphere/project/data/images/' + i.split('/')[-1])"
   ]
  },
  {
   "cell_type": "markdown",
   "id": "20954eab-8554-48d0-9fa6-c321b3f7b1f6",
   "metadata": {
    "execution": {
     "iopub.execute_input": "2024-05-18T02:47:40.888097Z",
     "iopub.status.busy": "2024-05-18T02:47:40.886801Z",
     "iopub.status.idle": "2024-05-18T02:47:40.916317Z",
     "shell.execute_reply": "2024-05-18T02:47:40.915006Z",
     "shell.execute_reply.started": "2024-05-18T02:47:40.888044Z"
    },
    "tags": []
   },
   "source": [
    "Удаляем папку \"Кабарга\""
   ]
  },
  {
   "cell_type": "code",
   "execution_count": 39,
   "id": "4d938e37-999f-4d2f-b28d-6393ead7a392",
   "metadata": {
    "execution": {
     "iopub.execute_input": "2024-05-18T03:35:05.711489Z",
     "iopub.status.busy": "2024-05-18T03:35:05.710528Z",
     "iopub.status.idle": "2024-05-18T03:35:05.744146Z",
     "shell.execute_reply": "2024-05-18T03:35:05.743015Z",
     "shell.execute_reply.started": "2024-05-18T03:35:05.711441Z"
    },
    "tags": []
   },
   "outputs": [],
   "source": [
    "images = glob.glob('data/images/*')\n",
    "dest_path = 'data/labels'"
   ]
  },
  {
   "cell_type": "code",
   "execution_count": null,
   "id": "830586b7-9994-4523-b8d1-6631cd4eaf9f",
   "metadata": {},
   "outputs": [],
   "source": [
    "images_path = images[:]"
   ]
  },
  {
   "cell_type": "code",
   "execution_count": 48,
   "id": "ef00aed1-f41b-4b4e-95e8-16eab436789b",
   "metadata": {
    "execution": {
     "iopub.execute_input": "2024-05-18T03:46:47.646076Z",
     "iopub.status.busy": "2024-05-18T03:46:47.645366Z",
     "iopub.status.idle": "2024-05-18T04:16:00.676001Z",
     "shell.execute_reply": "2024-05-18T04:16:00.674687Z",
     "shell.execute_reply.started": "2024-05-18T03:46:47.646042Z"
    },
    "tags": []
   },
   "outputs": [
    {
     "name": "stderr",
     "output_type": "stream",
     "text": [
      "100%|██████████| 1861/1861 [29:12<00:00,  1.06it/s]\n"
     ]
    }
   ],
   "source": [
    "srange_images = []\n",
    "for path in tqdm(images_paths):\n",
    "    if path.endswith('.csv'):\n",
    "        continue\n",
    "    result = model.predict(path, confidence=30, overlap=50).json()\n",
    "    name = path.split('/')[-1].split('.')[0]\n",
    "    if len(result['predictions']) > 0:\n",
    "        fp = open(f'{dest_path}/{name}.txt', 'w')\n",
    "        preds = []\n",
    "        for pred in result['predictions']:\n",
    "            preds.append(f\"0 {result['predictions'][0]['x']/float(result['image']['width'])} {result['predictions'][0]['y']/float(result['image']['height'])} {result['predictions'][0]['width']/float(result['image']['width'])} {result['predictions'][0]['height']/float(result['image']['height'])}\\n\")\n",
    "        fp.writelines(preds)\n",
    "        fp.close()\n",
    "    else:\n",
    "        srange_images.append(path)\n",
    "        "
   ]
  },
  {
   "cell_type": "code",
   "execution_count": 49,
   "id": "8fb698a4-8186-410e-be45-33dbcd94ff6f",
   "metadata": {
    "execution": {
     "iopub.execute_input": "2024-05-18T04:16:06.297938Z",
     "iopub.status.busy": "2024-05-18T04:16:06.296978Z",
     "iopub.status.idle": "2024-05-18T04:16:06.316799Z",
     "shell.execute_reply": "2024-05-18T04:16:06.315701Z",
     "shell.execute_reply.started": "2024-05-18T04:16:06.297887Z"
    },
    "tags": []
   },
   "outputs": [],
   "source": [
    "fp = open(f'broken_kabara.txt', 'w')\n",
    "fp.writelines(map(lambda x: x+'\\n',srange_images))\n",
    "fp.close()"
   ]
  },
  {
   "cell_type": "code",
   "execution_count": 52,
   "id": "2c6e80ed-e95a-48f3-96ef-62aba616de75",
   "metadata": {
    "execution": {
     "iopub.execute_input": "2024-05-18T04:16:46.989988Z",
     "iopub.status.busy": "2024-05-18T04:16:46.989033Z",
     "iopub.status.idle": "2024-05-18T04:16:47.032821Z",
     "shell.execute_reply": "2024-05-18T04:16:47.031506Z",
     "shell.execute_reply.started": "2024-05-18T04:16:46.989920Z"
    },
    "tags": []
   },
   "outputs": [
    {
     "data": {
      "text/plain": [
       "(288, 375)"
      ]
     },
     "execution_count": 52,
     "metadata": {},
     "output_type": "execute_result"
    }
   ],
   "source": [
    "len(srange_images), len(images) - len(glob.glob('/home/jupyter/datasphere/project/data/labels/*'))"
   ]
  },
  {
   "cell_type": "code",
   "execution_count": 53,
   "id": "26bd7a7a-4076-40c3-b1e0-8c189f7d47bb",
   "metadata": {
    "execution": {
     "iopub.execute_input": "2024-05-18T04:17:26.684825Z",
     "iopub.status.busy": "2024-05-18T04:17:26.683866Z",
     "iopub.status.idle": "2024-05-18T04:17:26.703485Z",
     "shell.execute_reply": "2024-05-18T04:17:26.702212Z",
     "shell.execute_reply.started": "2024-05-18T04:17:26.684790Z"
    },
    "tags": []
   },
   "outputs": [],
   "source": [
    "fp = open(f'broken_kabara.txt', 'r')\n",
    "image_paths = list(map(lambda x: x[:-1], fp.readlines()))\n",
    "fp.close()\n",
    "dest_path = 'data/labels'"
   ]
  },
  {
   "cell_type": "code",
   "execution_count": 54,
   "id": "ba1c7292-954e-494f-8163-5539b3db3c8f",
   "metadata": {
    "execution": {
     "iopub.execute_input": "2024-05-18T04:17:31.156859Z",
     "iopub.status.busy": "2024-05-18T04:17:31.156046Z",
     "iopub.status.idle": "2024-05-18T04:22:23.928576Z",
     "shell.execute_reply": "2024-05-18T04:22:23.927502Z",
     "shell.execute_reply.started": "2024-05-18T04:17:31.156827Z"
    },
    "tags": []
   },
   "outputs": [
    {
     "name": "stderr",
     "output_type": "stream",
     "text": [
      "100%|██████████| 288/288 [04:52<00:00,  1.02s/it]\n"
     ]
    }
   ],
   "source": [
    "srange_images = []\n",
    "for path in tqdm(image_paths):\n",
    "    if path.endswith('.csv'):\n",
    "        continue\n",
    "    result = model.predict(path, confidence=20, overlap=50).json()\n",
    "    name = path.split('/')[-1].split('.')[0]\n",
    "    if len(result['predictions']) > 0:\n",
    "        fp = open(f'{dest_path}/{name}.txt', 'w')\n",
    "        preds = []\n",
    "        for pred in result['predictions']:\n",
    "            preds.append(f\"0 {result['predictions'][0]['x']/float(result['image']['width'])} {result['predictions'][0]['y']/float(result['image']['height'])} {result['predictions'][0]['width']/float(result['image']['width'])} {result['predictions'][0]['height']/float(result['image']['height'])}\\n\")\n",
    "        fp.writelines(preds)\n",
    "        fp.close()\n",
    "    else:\n",
    "        srange_images.append(path)\n",
    "        "
   ]
  },
  {
   "cell_type": "code",
   "execution_count": 55,
   "id": "a312100f-88a1-42bc-85ac-f1474f7e5105",
   "metadata": {
    "execution": {
     "iopub.execute_input": "2024-05-18T04:22:32.507937Z",
     "iopub.status.busy": "2024-05-18T04:22:32.506844Z",
     "iopub.status.idle": "2024-05-18T04:22:32.526812Z",
     "shell.execute_reply": "2024-05-18T04:22:32.525667Z",
     "shell.execute_reply.started": "2024-05-18T04:22:32.507878Z"
    },
    "tags": []
   },
   "outputs": [],
   "source": [
    "fp = open(f'broken_kabara.txt', 'w')\n",
    "fp.writelines(map(lambda x: x+'\\n',srange_images))\n",
    "fp.close()"
   ]
  },
  {
   "cell_type": "code",
   "execution_count": 57,
   "id": "4c05fb3f-ee42-42bb-8496-24ddacc81ad8",
   "metadata": {
    "execution": {
     "iopub.execute_input": "2024-05-18T04:22:53.908120Z",
     "iopub.status.busy": "2024-05-18T04:22:53.907158Z",
     "iopub.status.idle": "2024-05-18T04:22:53.981896Z",
     "shell.execute_reply": "2024-05-18T04:22:53.980751Z",
     "shell.execute_reply.started": "2024-05-18T04:22:53.908071Z"
    },
    "tags": []
   },
   "outputs": [],
   "source": [
    "df = pd.read_csv('/home/jupyter/datasphere/project/data/images/Кабарга.csv')\n",
    "df['x_c'] = (df['bbox_x'] + df['bbox_width'] /2).apply(lambda x: int(x))\n",
    "df['y_c'] = (df['bbox_y'] +df['bbox_height'] /2).apply(lambda x: int(x))\n",
    "df['image_name'] = 'data/images/' + df['image_name']\n"
   ]
  },
  {
   "cell_type": "code",
   "execution_count": 58,
   "id": "978a33bc-a8b4-4ac4-9a85-1f0c622dfcb4",
   "metadata": {
    "execution": {
     "iopub.execute_input": "2024-05-18T04:22:58.496816Z",
     "iopub.status.busy": "2024-05-18T04:22:58.496210Z",
     "iopub.status.idle": "2024-05-18T04:23:02.246568Z",
     "shell.execute_reply": "2024-05-18T04:23:02.245439Z",
     "shell.execute_reply.started": "2024-05-18T04:22:58.496782Z"
    },
    "tags": []
   },
   "outputs": [],
   "source": [
    "for ind,row in df.iterrows():\n",
    "    name = path.split('/')[-1].split('.')[0]\n",
    "    fp = open(f'{dest_path}/{name}.txt', 'w')\n",
    "    fp.write(f\"0 {row['x_c']} {row['y_c']} {int(row['bbox_width'])} {int(row['bbox_height'])}\")\n",
    "    fp.close()"
   ]
  },
  {
   "cell_type": "code",
   "execution_count": 59,
   "id": "ba6f58c4-5652-4840-9049-7cbcae0c5ef7",
   "metadata": {
    "execution": {
     "iopub.execute_input": "2024-05-18T04:23:04.323973Z",
     "iopub.status.busy": "2024-05-18T04:23:04.323036Z",
     "iopub.status.idle": "2024-05-18T04:23:04.339429Z",
     "shell.execute_reply": "2024-05-18T04:23:04.338175Z",
     "shell.execute_reply.started": "2024-05-18T04:23:04.323934Z"
    },
    "tags": []
   },
   "outputs": [],
   "source": [
    "srange_images = list(set(srange_images) - set(df['image_name']))"
   ]
  },
  {
   "cell_type": "markdown",
   "id": "e6fc2f13-d554-4ac3-a696-d99138a75074",
   "metadata": {},
   "source": [
    "Вручную размечаем оставшиеся из srange_images (Кабарга часть 2.zip)"
   ]
  },
  {
   "cell_type": "code",
   "execution_count": 63,
   "id": "54f290ba-f81e-4f00-ac52-35a3684f6e06",
   "metadata": {
    "execution": {
     "iopub.execute_input": "2024-05-18T04:23:38.962057Z",
     "iopub.status.busy": "2024-05-18T04:23:38.961097Z",
     "iopub.status.idle": "2024-05-18T04:23:39.036987Z",
     "shell.execute_reply": "2024-05-18T04:23:39.035623Z",
     "shell.execute_reply.started": "2024-05-18T04:23:38.962007Z"
    },
    "tags": []
   },
   "outputs": [],
   "source": [
    "for i in srange_images:\n",
    "    os.remove(i)\n",
    "os.remove('/home/jupyter/datasphere/project/data/images/Кабарга.csv')"
   ]
  },
  {
   "cell_type": "code",
   "execution_count": null,
   "id": "7ce32bda-42a9-4f5a-9877-bbdaf75b48ca",
   "metadata": {
    "tags": []
   },
   "outputs": [],
   "source": [
    "!unzip \"/home/jupyter/datasphere/project/олени/Кабарга_часть2.zip\""
   ]
  },
  {
   "cell_type": "code",
   "execution_count": 65,
   "id": "5269be63-a988-456c-ad85-894878177d5c",
   "metadata": {
    "execution": {
     "iopub.execute_input": "2024-05-18T04:23:49.613237Z",
     "iopub.status.busy": "2024-05-18T04:23:49.612259Z",
     "iopub.status.idle": "2024-05-18T04:23:49.630913Z",
     "shell.execute_reply": "2024-05-18T04:23:49.629629Z",
     "shell.execute_reply.started": "2024-05-18T04:23:49.613193Z"
    },
    "tags": []
   },
   "outputs": [],
   "source": [
    "images = glob.glob('/home/jupyter/datasphere/project/train/images/*')\n",
    "labels = glob.glob('/home/jupyter/datasphere/project/train/labels/*')"
   ]
  },
  {
   "cell_type": "code",
   "execution_count": 66,
   "id": "6cff26b5-9825-41be-b0bb-b22096688b20",
   "metadata": {
    "execution": {
     "iopub.execute_input": "2024-05-18T04:23:52.755196Z",
     "iopub.status.busy": "2024-05-18T04:23:52.754310Z",
     "iopub.status.idle": "2024-05-18T04:23:52.811139Z",
     "shell.execute_reply": "2024-05-18T04:23:52.809906Z",
     "shell.execute_reply.started": "2024-05-18T04:23:52.755160Z"
    },
    "tags": []
   },
   "outputs": [],
   "source": [
    "for i in range(len(images)):\n",
    "    os.rename(images[i], '/home/jupyter/datasphere/project/data/images/' + images[i].split('/')[-1])"
   ]
  },
  {
   "cell_type": "code",
   "execution_count": 67,
   "id": "e839b92e-cc04-46ef-be8a-42ff6c3ade7b",
   "metadata": {
    "execution": {
     "iopub.execute_input": "2024-05-18T04:23:59.659656Z",
     "iopub.status.busy": "2024-05-18T04:23:59.658965Z",
     "iopub.status.idle": "2024-05-18T04:23:59.711993Z",
     "shell.execute_reply": "2024-05-18T04:23:59.710976Z",
     "shell.execute_reply.started": "2024-05-18T04:23:59.659624Z"
    },
    "tags": []
   },
   "outputs": [],
   "source": [
    "for i in range(len(labels)):\n",
    "    os.rename(labels[i], '/home/jupyter/datasphere/project/data/labels/' + labels[i].split('/')[-1])"
   ]
  },
  {
   "cell_type": "code",
   "execution_count": 68,
   "id": "d967bed2-436d-4e3b-b13b-78a7ac0c8d14",
   "metadata": {
    "execution": {
     "iopub.execute_input": "2024-05-18T04:24:03.538921Z",
     "iopub.status.busy": "2024-05-18T04:24:03.538046Z",
     "iopub.status.idle": "2024-05-18T04:24:03.595109Z",
     "shell.execute_reply": "2024-05-18T04:24:03.593994Z",
     "shell.execute_reply.started": "2024-05-18T04:24:03.538870Z"
    },
    "tags": []
   },
   "outputs": [],
   "source": [
    "images = glob.glob('/home/jupyter/datasphere/project/data/images/*')\n",
    "labels = glob.glob('/home/jupyter/datasphere/project/data/labels/*')"
   ]
  },
  {
   "cell_type": "code",
   "execution_count": 69,
   "id": "46ee6566-62e4-4abe-9852-4b7e024b4792",
   "metadata": {
    "execution": {
     "iopub.execute_input": "2024-05-18T04:24:04.967817Z",
     "iopub.status.busy": "2024-05-18T04:24:04.967103Z",
     "iopub.status.idle": "2024-05-18T04:24:05.858589Z",
     "shell.execute_reply": "2024-05-18T04:24:05.857362Z",
     "shell.execute_reply.started": "2024-05-18T04:24:04.967783Z"
    },
    "tags": []
   },
   "outputs": [],
   "source": [
    "for i in range(len(images)):\n",
    "    os.rename(images[i], images[i].rstrip(images[i].split('/')[-1])+'cabarga_'+images[i].split('/')[-1]) # добавляем префикс для класса 2"
   ]
  },
  {
   "cell_type": "code",
   "execution_count": 70,
   "id": "a01cf336-43c0-4cf4-8b0a-ac81b598618a",
   "metadata": {
    "execution": {
     "iopub.execute_input": "2024-05-18T04:24:07.433736Z",
     "iopub.status.busy": "2024-05-18T04:24:07.432964Z",
     "iopub.status.idle": "2024-05-18T04:24:08.331044Z",
     "shell.execute_reply": "2024-05-18T04:24:08.329977Z",
     "shell.execute_reply.started": "2024-05-18T04:24:07.433703Z"
    },
    "tags": []
   },
   "outputs": [],
   "source": [
    "for i in range(len(labels)):\n",
    "    os.rename(labels[i], labels[i].rstrip(labels[i].split('/')[-1])+'cabarga_'+labels[i].split('/')[-1]) # добавляем префикс для класса 2"
   ]
  },
  {
   "cell_type": "code",
   "execution_count": 71,
   "id": "0ad2651d-ce97-4676-86f3-cdfcee0de287",
   "metadata": {
    "execution": {
     "iopub.execute_input": "2024-05-18T04:24:48.531037Z",
     "iopub.status.busy": "2024-05-18T04:24:48.530094Z",
     "iopub.status.idle": "2024-05-18T04:24:48.583229Z",
     "shell.execute_reply": "2024-05-18T04:24:48.582176Z",
     "shell.execute_reply.started": "2024-05-18T04:24:48.531004Z"
    }
   },
   "outputs": [],
   "source": [
    "images = glob.glob('/home/jupyter/datasphere/project/data/images/*')\n",
    "labels = glob.glob('/home/jupyter/datasphere/project/data/labels/*')"
   ]
  },
  {
   "cell_type": "code",
   "execution_count": 72,
   "id": "5609abd7-58e7-43cb-b947-4fd50b525c9c",
   "metadata": {
    "execution": {
     "iopub.execute_input": "2024-05-18T04:24:59.496702Z",
     "iopub.status.busy": "2024-05-18T04:24:59.495773Z",
     "iopub.status.idle": "2024-05-18T04:24:59.526107Z",
     "shell.execute_reply": "2024-05-18T04:24:59.525073Z",
     "shell.execute_reply.started": "2024-05-18T04:24:59.496670Z"
    },
    "tags": []
   },
   "outputs": [
    {
     "data": {
      "text/plain": [
       "(2270, 2393)"
      ]
     },
     "execution_count": 72,
     "metadata": {},
     "output_type": "execute_result"
    }
   ],
   "source": [
    "len(labels), len(images)"
   ]
  },
  {
   "cell_type": "code",
   "execution_count": null,
   "id": "7f846680-345c-401d-915b-6395f7b83d54",
   "metadata": {},
   "outputs": [],
   "source": [
    "with open('/home/jupyter/datasphere/project/kabarga_del.txt') as f:\n",
    "    ls = list(map(str.rstrip, f.readlines()))"
   ]
  },
  {
   "cell_type": "code",
   "execution_count": null,
   "id": "b887ae4e-f21c-4b17-9e12-a725244ae5ad",
   "metadata": {},
   "outputs": [],
   "source": [
    "import os\n",
    "for i in ls:\n",
    "    try:\n",
    "        os.remove(\"/home/jupyter/datasphere/project/data/labels/\" + i.rstrip(i.split('.')[-1])+'txt')\n",
    "    except Exception:\n",
    "        print(1)"
   ]
  },
  {
   "cell_type": "code",
   "execution_count": null,
   "id": "fe89218d-b5ec-4bd8-8f2a-5628e2378955",
   "metadata": {},
   "outputs": [],
   "source": [
    "for i in ls:\n",
    "    try:\n",
    "        os.remove(\"/home/jupyter/datasphere/project/data/images/\" + i)\n",
    "    except Exception:\n",
    "        print(1)"
   ]
  },
  {
   "cell_type": "markdown",
   "id": "276238d0-f1f7-4047-92bc-82ce1b60a4ef",
   "metadata": {
    "jp-MarkdownHeadingCollapsed": true,
    "tags": []
   },
   "source": [
    "## Косуля"
   ]
  },
  {
   "cell_type": "markdown",
   "id": "4f8a5a31-77f1-44f3-a7d5-fdb01f4c003b",
   "metadata": {},
   "source": [
    "Создаем папки ndata/images, ndata/labels"
   ]
  },
  {
   "cell_type": "code",
   "execution_count": null,
   "id": "4a827e76-3159-480f-9a67-2de5d54a92d6",
   "metadata": {
    "tags": []
   },
   "outputs": [],
   "source": [
    "!unzip \"/home/jupyter/datasphere/project/олени/Косуля.zip\" -d \"/home/jupyter/datasphere/project/ndata/images\""
   ]
  },
  {
   "cell_type": "code",
   "execution_count": 78,
   "id": "a56a3f74-ba90-45c3-92eb-443565e898b1",
   "metadata": {
    "execution": {
     "iopub.execute_input": "2024-05-18T04:37:49.279039Z",
     "iopub.status.busy": "2024-05-18T04:37:49.278251Z",
     "iopub.status.idle": "2024-05-18T04:37:49.315531Z",
     "shell.execute_reply": "2024-05-18T04:37:49.314466Z",
     "shell.execute_reply.started": "2024-05-18T04:37:49.278989Z"
    }
   },
   "outputs": [],
   "source": [
    "kab_paths = glob.glob('ndata/images/Косуля/*')"
   ]
  },
  {
   "cell_type": "code",
   "execution_count": 79,
   "id": "a7a24097-8a2b-449a-8b51-d544ea50dfe5",
   "metadata": {
    "execution": {
     "iopub.execute_input": "2024-05-18T04:38:06.265106Z",
     "iopub.status.busy": "2024-05-18T04:38:06.264085Z",
     "iopub.status.idle": "2024-05-18T04:38:07.381222Z",
     "shell.execute_reply": "2024-05-18T04:38:07.379937Z",
     "shell.execute_reply.started": "2024-05-18T04:38:06.265072Z"
    }
   },
   "outputs": [],
   "source": [
    "for i in kab_paths:\n",
    "    os.rename(i, '/home/jupyter/datasphere/project/ndata/images/' + i.split('/')[-1])"
   ]
  },
  {
   "cell_type": "markdown",
   "id": "1333bcbf-54e0-488b-bd4b-67af407cde45",
   "metadata": {},
   "source": [
    "Удаляем папку \"Косуля\""
   ]
  },
  {
   "cell_type": "code",
   "execution_count": 88,
   "id": "d7bea244-e9ea-4811-ab18-69eac5bea61a",
   "metadata": {
    "execution": {
     "iopub.execute_input": "2024-05-18T04:40:54.487348Z",
     "iopub.status.busy": "2024-05-18T04:40:54.486404Z",
     "iopub.status.idle": "2024-05-18T04:40:54.507767Z",
     "shell.execute_reply": "2024-05-18T04:40:54.506826Z",
     "shell.execute_reply.started": "2024-05-18T04:40:54.487299Z"
    },
    "tags": []
   },
   "outputs": [],
   "source": [
    "images = glob.glob('ndata/images/*')\n",
    "dest_path = 'ndata/labels'"
   ]
  },
  {
   "cell_type": "code",
   "execution_count": 96,
   "id": "78082b73-d3ba-4d84-88ff-d3a28c201711",
   "metadata": {
    "execution": {
     "iopub.execute_input": "2024-05-18T06:31:19.700325Z",
     "iopub.status.busy": "2024-05-18T06:31:19.699286Z",
     "iopub.status.idle": "2024-05-18T06:31:19.720784Z",
     "shell.execute_reply": "2024-05-18T06:31:19.719647Z",
     "shell.execute_reply.started": "2024-05-18T06:31:19.700277Z"
    },
    "tags": []
   },
   "outputs": [],
   "source": [
    "images_paths = images[:]"
   ]
  },
  {
   "cell_type": "code",
   "execution_count": 97,
   "id": "f5614144-d853-407b-8e86-b045fc2dd303",
   "metadata": {
    "execution": {
     "iopub.execute_input": "2024-05-18T06:31:20.691754Z",
     "iopub.status.busy": "2024-05-18T06:31:20.690755Z",
     "iopub.status.idle": "2024-05-18T06:43:55.286902Z",
     "shell.execute_reply": "2024-05-18T06:43:55.285800Z",
     "shell.execute_reply.started": "2024-05-18T06:31:20.691718Z"
    },
    "tags": []
   },
   "outputs": [
    {
     "name": "stderr",
     "output_type": "stream",
     "text": [
      "100%|██████████| 759/759 [12:34<00:00,  1.01it/s]\n"
     ]
    }
   ],
   "source": [
    "srange_images = []\n",
    "for path in tqdm(images_paths):\n",
    "    if path.endswith('.csv'):\n",
    "        continue\n",
    "    result = model.predict(path, confidence=30, overlap=50).json()\n",
    "    name = path.split('/')[-1].split('.')[0]\n",
    "    if len(result['predictions']) > 0:\n",
    "        fp = open(f'{dest_path}/{name}.txt', 'w')\n",
    "        preds = []\n",
    "        for pred in result['predictions']:\n",
    "            preds.append(f\"1 {result['predictions'][0]['x']/float(result['image']['width'])} {result['predictions'][0]['y']/float(result['image']['height'])} {result['predictions'][0]['width']/float(result['image']['width'])} {result['predictions'][0]['height']/float(result['image']['height'])}\\n\")\n",
    "        fp.writelines(preds)\n",
    "        fp.close()\n",
    "    else:\n",
    "        srange_images.append(path)"
   ]
  },
  {
   "cell_type": "code",
   "execution_count": 98,
   "id": "4a8d4817-c877-4128-bad3-770c28fa1373",
   "metadata": {
    "execution": {
     "iopub.execute_input": "2024-05-18T06:51:12.526499Z",
     "iopub.status.busy": "2024-05-18T06:51:12.525505Z",
     "iopub.status.idle": "2024-05-18T06:51:12.548729Z",
     "shell.execute_reply": "2024-05-18T06:51:12.547491Z",
     "shell.execute_reply.started": "2024-05-18T06:51:12.526467Z"
    },
    "tags": []
   },
   "outputs": [],
   "source": [
    "fp = open(f'broken_kosul.txt', 'w')\n",
    "fp.writelines(map(lambda x: x+'\\n',srange_images))\n",
    "fp.close()"
   ]
  },
  {
   "cell_type": "code",
   "execution_count": 102,
   "id": "784e0d51-57e7-43f8-809d-858a4ab3ac0d",
   "metadata": {
    "execution": {
     "iopub.execute_input": "2024-05-18T06:53:48.066644Z",
     "iopub.status.busy": "2024-05-18T06:53:48.065597Z",
     "iopub.status.idle": "2024-05-18T06:53:48.080426Z",
     "shell.execute_reply": "2024-05-18T06:53:48.079334Z",
     "shell.execute_reply.started": "2024-05-18T06:53:48.066597Z"
    },
    "tags": []
   },
   "outputs": [
    {
     "data": {
      "text/plain": [
       "2"
      ]
     },
     "execution_count": 102,
     "metadata": {},
     "output_type": "execute_result"
    }
   ],
   "source": [
    "len(srange_images)"
   ]
  },
  {
   "cell_type": "code",
   "execution_count": 103,
   "id": "16364076-a5eb-4669-b8eb-e82da5ee9633",
   "metadata": {
    "execution": {
     "iopub.execute_input": "2024-05-18T06:53:56.537931Z",
     "iopub.status.busy": "2024-05-18T06:53:56.536829Z",
     "iopub.status.idle": "2024-05-18T06:53:56.554734Z",
     "shell.execute_reply": "2024-05-18T06:53:56.553745Z",
     "shell.execute_reply.started": "2024-05-18T06:53:56.537896Z"
    },
    "tags": []
   },
   "outputs": [],
   "source": [
    "fp = open(f'broken_kosul.txt', 'r')\n",
    "image_paths = list(map(lambda x: x[:-1], fp.readlines()))\n",
    "fp.close()\n",
    "dest_path = 'ndata/labels'"
   ]
  },
  {
   "cell_type": "code",
   "execution_count": 107,
   "id": "ea98e7ab-89c7-48b2-af5b-ed47e0149981",
   "metadata": {
    "execution": {
     "iopub.execute_input": "2024-05-18T06:55:44.806575Z",
     "iopub.status.busy": "2024-05-18T06:55:44.805502Z",
     "iopub.status.idle": "2024-05-18T06:58:52.079598Z",
     "shell.execute_reply": "2024-05-18T06:58:52.078433Z",
     "shell.execute_reply.started": "2024-05-18T06:55:44.806542Z"
    },
    "tags": []
   },
   "outputs": [
    {
     "name": "stderr",
     "output_type": "stream",
     "text": [
      "100%|██████████| 170/170 [03:07<00:00,  1.10s/it]\n"
     ]
    }
   ],
   "source": [
    "srange_images = []\n",
    "for path in tqdm(image_paths):\n",
    "    if path.endswith('.csv'):\n",
    "        continue\n",
    "    result = model.predict(path, confidence=20, overlap=50).json()\n",
    "    name = path.split('/')[-1].split('.')[0]\n",
    "    if len(result['predictions']) > 0:\n",
    "        fp = open(f'{dest_path}/{name}.txt', 'w')\n",
    "        preds = []\n",
    "        for pred in result['predictions']:\n",
    "            preds.append(f\"1 {result['predictions'][0]['x']/float(result['image']['width'])} {result['predictions'][0]['y']/float(result['image']['height'])} {result['predictions'][0]['width']/float(result['image']['width'])} {result['predictions'][0]['height']/float(result['image']['height'])}\\n\")\n",
    "        fp.writelines(preds)\n",
    "        fp.close()\n",
    "    else:\n",
    "        srange_images.append(path)"
   ]
  },
  {
   "cell_type": "code",
   "execution_count": 108,
   "id": "0f91e29f-830e-4d04-a711-2181d33281f7",
   "metadata": {
    "execution": {
     "iopub.execute_input": "2024-05-18T06:59:00.236400Z",
     "iopub.status.busy": "2024-05-18T06:59:00.235640Z",
     "iopub.status.idle": "2024-05-18T06:59:00.292574Z",
     "shell.execute_reply": "2024-05-18T06:59:00.291357Z",
     "shell.execute_reply.started": "2024-05-18T06:59:00.236350Z"
    },
    "tags": []
   },
   "outputs": [
    {
     "data": {
      "text/plain": [
       "108"
      ]
     },
     "execution_count": 108,
     "metadata": {},
     "output_type": "execute_result"
    }
   ],
   "source": [
    "len(srange_images)"
   ]
  },
  {
   "cell_type": "code",
   "execution_count": 110,
   "id": "9c1257fe-d810-4509-a6a6-028c2dddc330",
   "metadata": {
    "execution": {
     "iopub.execute_input": "2024-05-18T07:02:15.251888Z",
     "iopub.status.busy": "2024-05-18T07:02:15.250936Z",
     "iopub.status.idle": "2024-05-18T07:02:15.342065Z",
     "shell.execute_reply": "2024-05-18T07:02:15.340901Z",
     "shell.execute_reply.started": "2024-05-18T07:02:15.251825Z"
    },
    "tags": []
   },
   "outputs": [],
   "source": [
    "for i in srange_images:\n",
    "    os.remove(i)"
   ]
  },
  {
   "cell_type": "markdown",
   "id": "2f25f217-8429-4bf7-81f9-0fbcb74150e2",
   "metadata": {},
   "source": [
    "Вручную размечаем оставшиеся из srange_images (Косуля_часть2.zip), удаляем папку train"
   ]
  },
  {
   "cell_type": "code",
   "execution_count": 111,
   "id": "c5a8699f-75a4-4064-8144-099df8bc43e1",
   "metadata": {
    "execution": {
     "iopub.execute_input": "2024-05-18T07:54:54.578138Z",
     "iopub.status.busy": "2024-05-18T07:54:54.577099Z",
     "iopub.status.idle": "2024-05-18T07:54:55.756035Z",
     "shell.execute_reply": "2024-05-18T07:54:55.754183Z",
     "shell.execute_reply.started": "2024-05-18T07:54:54.578088Z"
    }
   },
   "outputs": [
    {
     "name": "stdout",
     "output_type": "stream",
     "text": [
      "Archive:  /home/jupyter/datasphere/project/олени/Косуля_часть2.zip\n",
      " extracting: train/images/-WA0046_jpg.rf.d4b3757e3edc501e0704fb68807dbd36.jpg  \n",
      " extracting: train/images/-WA0052_jpg.rf.d189f037aac99e15cb7710e9859e1bdb.jpg  \n",
      " extracting: train/images/-WA0053_jpg.rf.800ef8abba7ed765a45724eeee120783.jpg  \n",
      " extracting: train/images/Im_0004727_jpg.rf.1ae68aff023430e59ddfd606f767c362.jpg  \n",
      " extracting: train/images/Im_0004728_jpg.rf.d6ccbfa960b173e65d90a6d6c3213818.jpg  \n",
      " extracting: train/images/Im_0004759_jpg.rf.7c2f640bd979e7b25728f766f79f0c6e.jpg  \n",
      " extracting: train/images/Im_0004800_jpg.rf.a4daabbbce01af202062eb1c64a84943.jpg  \n",
      " extracting: train/images/Im_0004803_jpg.rf.9c43d6b9ef88463463ae9da890d4bd9c.jpg  \n",
      " extracting: train/images/Im_0004809_jpg.rf.efa7dcea5b084052ca7ad00c25a45ecc.jpg  \n",
      " extracting: train/images/Im_0004814_jpg.rf.4d2f09ac512560ba3ef71d3819d28050.jpg  \n",
      " extracting: train/images/Im_0004837_1_jpg.rf.2cdc3f0033c18242c53b44f65ff12e17.jpg  \n",
      " extracting: train/images/Im_0004878_1_jpg.rf.65da7a4626816c8f1f405e58ced90a5a.jpg  \n",
      " extracting: train/images/Im_0004938_1_jpg.rf.d3c04bdca1a482ecee4f7a0cb11b2606.jpg  \n",
      " extracting: train/images/Im_0004939_jpg.rf.00a77b8d91285798d2b87a7acf2a595d.jpg  \n",
      " extracting: train/images/Im_0004969_1_jpg.rf.53c895f3d13fa5ae6d614ec71f65c4b4.jpg  \n",
      " extracting: train/images/Im_0004981_1_jpg.rf.c1f875882469569a2037cc7fccc0a467.jpg  \n",
      " extracting: train/images/Im_0005050_2_jpg.rf.488832f03d72bff7a121f0a0a3e8e37c.jpg  \n",
      " extracting: train/images/Im_0005073_jpg.rf.a1afaac9a45e0e179b7c2211d31254e9.jpg  \n",
      " extracting: train/images/Im_0005084_jpg.rf.7637ed1ef324e7439d02d2124f46525f.jpg  \n",
      " extracting: train/images/Im_0005137_jpg.rf.d65d8ef445f5dadbd6d3d63fdc678df9.jpg  \n",
      " extracting: train/images/Im_0005163_jpg.rf.2384d4100aa73c78227571c1f1c3371e.jpg  \n",
      " extracting: train/images/Im_0005171_jpg.rf.0f030ef15e623cd19e72c2d7f1db1ad6.jpg  \n",
      " extracting: train/images/Im_0005188_1_jpg.rf.2fc5f7eb354139a1e5fd4b6f6b866dc6.jpg  \n",
      " extracting: train/images/Im_0005265_jpg.rf.2e05380a3f974ddc20541f556bea5e29.jpg  \n",
      " extracting: train/images/Im_0005269_1_jpg.rf.5d5c0a5ce6b8eb99a42d8eab6a3475b1.jpg  \n",
      " extracting: train/images/Im_0005284_1_jpg.rf.968c0cdca1109fac19e91da5b127d8a2.jpg  \n",
      " extracting: train/images/Im_0005293_jpg.rf.a41c24855823bf8109368a1b3a9a22c6.jpg  \n",
      " extracting: train/images/Im_0005299_jpg.rf.6bec43c92fb5eb83b86631cd8216b1bd.jpg  \n",
      " extracting: train/images/Im_0005300_1_jpg.rf.f06ecb146069f978f4f1d639308bf2a0.jpg  \n",
      " extracting: train/images/Im_0005330_jpg.rf.deec66e41d5b4bc870b7c32ae3ea02ea.jpg  \n",
      " extracting: train/images/Im_0005339_jpg.rf.101201135650960663d83647d4be5da4.jpg  \n",
      " extracting: train/images/Im_0005348_jpg.rf.a18507f8d253e8213f9dda6a96dfd259.jpg  \n",
      " extracting: train/images/Im_0005365_1_jpg.rf.4e5bf0b75137fdd37d4aa96ff11d4290.jpg  \n",
      " extracting: train/images/Im_0005439_jpg.rf.8c97d21220f8107674bebe9008a58b5a.jpg  \n",
      " extracting: train/images/Im_0005440_jpg.rf.986a3f192dceba261e7b512bee6cfada.jpg  \n",
      " extracting: train/images/Im_0005480_jpg.rf.a4f4cd48e9dea7e2a1fd6e7375b7f3ce.jpg  \n",
      " extracting: train/images/Im_0005509_2_jpg.rf.a805387089ff84d756533b04f556158b.jpg  \n",
      " extracting: train/images/Im_0005533_jpg.rf.216e4bf1d86e213e47f82cd2af5e5856.jpg  \n",
      " extracting: train/images/Im_0005610_1_jpg.rf.f19fde87617e564bd092fecae84fd2e9.jpg  \n",
      " extracting: train/images/Im_0005617_jpg.rf.c28db31ab6b204c4261819e2127d2b41.jpg  \n",
      " extracting: train/images/Im_0005621_jpg.rf.0c2697f8c2581a5e43cdde11a59b8e4e.jpg  \n",
      " extracting: train/images/Im_0005650_jpg.rf.f04115db29917e8722bd7a8bd2fd5214.jpg  \n",
      " extracting: train/images/Im_0005651_jpg.rf.ae2a0d7912b1f760f58ee1c124d81094.jpg  \n",
      " extracting: train/images/Im_0005695_jpg.rf.ab0a1160be08fe919dd855c17a1d8d95.jpg  \n",
      " extracting: train/images/Im_0005721_jpg.rf.508040746c971dcbcb3a24e55422db9f.jpg  \n",
      " extracting: train/images/Im_0005797_jpg.rf.55df3838f3a9e25cc9318d96d7ca4d48.jpg  \n",
      " extracting: train/images/Im_0005798_jpg.rf.cce28f53c66672f6eadf06d0e9e0ad28.jpg  \n",
      " extracting: train/images/Im_0005802_jpg.rf.894f40027e85bef35bddcef42496b0d9.jpg  \n",
      " extracting: train/images/Im_0005808_jpg.rf.0a8a84cccd3c039ac5517e842e54cebc.jpg  \n",
      " extracting: train/images/Im_0005816_1_jpg.rf.3b4bf15007a0d5d4517daabaf62d342a.jpg  \n",
      " extracting: train/images/Im_0005833_jpg.rf.cc588db9fd07d2f5a7cd41e115c1293b.jpg  \n",
      " extracting: train/images/Im_0005843_jpg.rf.b5c79609971c9d4a18014b48895e3599.jpg  \n",
      " extracting: train/images/Im_0005850_jpg.rf.218874915deffe014086f3f457046a6b.jpg  \n",
      " extracting: train/images/Im_0005852_jpg.rf.79d513808a177944917e58fa3188a232.jpg  \n",
      " extracting: train/images/Im_0005857_jpg.rf.3419f8230d76cd1930cbc1ee052e4a48.jpg  \n",
      " extracting: train/images/Im_0005862_jpg.rf.c9d3b57576ba38571587bccfc6b5d7c4.jpg  \n",
      " extracting: train/images/Im_0005868_jpg.rf.632fdae51ff7cac382236cacb0719e73.jpg  \n",
      " extracting: train/images/Im_0005877_jpg.rf.ad9e54b5690bfbbe9df559aee21231e3.jpg  \n",
      " extracting: train/images/Im_0005879_jpg.rf.270809e3745c00c143f20ec88a1e738a.jpg  \n",
      " extracting: train/images/Im_0005886_1_jpg.rf.887761690e2b6455d6ff0f89bc412d13.jpg  \n",
      " extracting: train/images/Im_0033987_jpg.rf.6561a0fa6f8d5a126732420944ac3018.jpg  \n",
      " extracting: train/images/Im_0034605_jpg.rf.d032a7d5d71cafcf29572de0a0d1c40c.jpg  \n",
      " extracting: train/images/Im_0034733_jpg.rf.6bd07bfe43333f0e60cb1d6c0c428a42.jpg  \n",
      " extracting: train/images/Im_0035491_jpg.rf.f24fa6b0864638995616cfbb9a116b16.jpg  \n",
      " extracting: train/images/Im_0036883_jpg.rf.870a53849b132339e217a330ffa01d05.jpg  \n",
      " extracting: train/images/Im_0037034_jpg.rf.e56d626d1d7fd9259843b27d9b30b398.jpg  \n",
      " extracting: train/images/Im_0037055_jpg.rf.2bff3c90979ce464db1106485207c85b.jpg  \n",
      " extracting: train/images/Im_0037401_jpg.rf.faf27f22eb30d8a0653554ee470e76ff.jpg  \n",
      " extracting: train/images/Im_0039196_jpg.rf.9c66ed6d28251722ce9b8020e1fbe2d8.jpg  \n",
      " extracting: train/images/Im_0040898_jpg.rf.1e66c1ec84d5fd4dc4f7c8043423ccf3.jpg  \n",
      " extracting: train/images/Im_0040944_jpg.rf.90f8ae768777a12eed86b720a8e1e53e.jpg  \n",
      " extracting: train/images/Im_0041565_jpg.rf.a5e6ba5f4ee9bf293638ffc2c6cf1f4a.jpg  \n",
      " extracting: train/images/Im_0043144_jpg.rf.255500696cd563ee00a661e2d305c69d.jpg  \n",
      " extracting: train/images/Im_0043475_jpg.rf.e1c2dd1e1aff83c9a5f8c447f8a2e6fc.jpg  \n",
      " extracting: train/images/Im_0043552_jpg.rf.de75db2165fa424a76d64dc4e350700d.jpg  \n",
      " extracting: train/images/Im_0044567_jpg.rf.9a4a43313284bdd274914c7d1a7d06ad.jpg  \n",
      " extracting: train/images/Im_0044930_jpg.rf.4d0217b6274e3b7630169bb78d85d7b0.jpg  \n",
      " extracting: train/images/Im_0046569_jpg.rf.1b945dac69ff02dd1d7f9662e72be1ac.jpg  \n",
      " extracting: train/images/Im_0046673_jpg.rf.db1527107c06333fd39f1bcfaf743ea5.jpg  \n",
      " extracting: train/images/Im_0047335_jpg.rf.1e8638b1a10f9b41e947650f2f6acf38.jpg  \n",
      " extracting: train/images/Im_0048740_jpg.rf.69410f28c7b57f64be232778046b5834.jpg  \n",
      " extracting: train/images/Im_0048776_jpg.rf.6f31cfe9b3a60f9d3d8b20fb34c2369f.jpg  \n",
      " extracting: train/images/Im_0049145_jpg.rf.67d10fd165e271e49e7c34f283a4f005.jpg  \n",
      " extracting: train/images/Im_0049156_jpg.rf.aa4283504309f6446af927401999777d.jpg  \n",
      " extracting: train/images/Im_0049528_jpg.rf.db298c991c46586086d959f652facd3a.jpg  \n",
      " extracting: train/images/Schastlivy_9may_roe-deer2_jpg.rf.a13ad95621dba375ff8d35fccf383505.jpg  \n",
      " extracting: train/images/_Im_0005473_jpg.rf.dc7f8d53f9d9f91a66175f44b891e178.jpg  \n",
      " extracting: train/images/tr54_RoeDeer_27-04-2008_jpg.rf.c0e6f0b75c9b5cfaf186e28d46693848.jpg  \n",
      " extracting: train/images/tr62_roeDeer_11-10-2008_003_jpg.rf.268bb65cad4211c5483d6914de33a927.jpg  \n",
      " extracting: train/images/tr64a_RoeDeer_06-05-2008_jpg.rf.c479f69cf91fcd5cb2d55211a95f5a49.jpg  \n",
      " extracting: train/labels/-WA0046_jpg.rf.d4b3757e3edc501e0704fb68807dbd36.txt  \n",
      " extracting: train/labels/-WA0052_jpg.rf.d189f037aac99e15cb7710e9859e1bdb.txt  \n",
      " extracting: train/labels/-WA0053_jpg.rf.800ef8abba7ed765a45724eeee120783.txt  \n",
      " extracting: train/labels/Im_0004727_jpg.rf.1ae68aff023430e59ddfd606f767c362.txt  \n",
      " extracting: train/labels/Im_0004728_jpg.rf.d6ccbfa960b173e65d90a6d6c3213818.txt  \n",
      " extracting: train/labels/Im_0004759_jpg.rf.7c2f640bd979e7b25728f766f79f0c6e.txt  \n",
      " extracting: train/labels/Im_0004800_jpg.rf.a4daabbbce01af202062eb1c64a84943.txt  \n",
      " extracting: train/labels/Im_0004803_jpg.rf.9c43d6b9ef88463463ae9da890d4bd9c.txt  \n",
      " extracting: train/labels/Im_0004809_jpg.rf.efa7dcea5b084052ca7ad00c25a45ecc.txt  \n",
      " extracting: train/labels/Im_0004814_jpg.rf.4d2f09ac512560ba3ef71d3819d28050.txt  \n",
      " extracting: train/labels/Im_0004837_1_jpg.rf.2cdc3f0033c18242c53b44f65ff12e17.txt  \n",
      " extracting: train/labels/Im_0004878_1_jpg.rf.65da7a4626816c8f1f405e58ced90a5a.txt  \n",
      " extracting: train/labels/Im_0004938_1_jpg.rf.d3c04bdca1a482ecee4f7a0cb11b2606.txt  \n",
      " extracting: train/labels/Im_0004939_jpg.rf.00a77b8d91285798d2b87a7acf2a595d.txt  \n",
      " extracting: train/labels/Im_0004969_1_jpg.rf.53c895f3d13fa5ae6d614ec71f65c4b4.txt  \n",
      " extracting: train/labels/Im_0004981_1_jpg.rf.c1f875882469569a2037cc7fccc0a467.txt  \n",
      " extracting: train/labels/Im_0005050_2_jpg.rf.488832f03d72bff7a121f0a0a3e8e37c.txt  \n",
      " extracting: train/labels/Im_0005073_jpg.rf.a1afaac9a45e0e179b7c2211d31254e9.txt  \n",
      " extracting: train/labels/Im_0005084_jpg.rf.7637ed1ef324e7439d02d2124f46525f.txt  \n",
      " extracting: train/labels/Im_0005137_jpg.rf.d65d8ef445f5dadbd6d3d63fdc678df9.txt  \n",
      " extracting: train/labels/Im_0005163_jpg.rf.2384d4100aa73c78227571c1f1c3371e.txt  \n",
      " extracting: train/labels/Im_0005171_jpg.rf.0f030ef15e623cd19e72c2d7f1db1ad6.txt  \n",
      " extracting: train/labels/Im_0005188_1_jpg.rf.2fc5f7eb354139a1e5fd4b6f6b866dc6.txt  \n",
      " extracting: train/labels/Im_0005265_jpg.rf.2e05380a3f974ddc20541f556bea5e29.txt  \n",
      " extracting: train/labels/Im_0005269_1_jpg.rf.5d5c0a5ce6b8eb99a42d8eab6a3475b1.txt  \n",
      " extracting: train/labels/Im_0005284_1_jpg.rf.968c0cdca1109fac19e91da5b127d8a2.txt  \n",
      " extracting: train/labels/Im_0005293_jpg.rf.a41c24855823bf8109368a1b3a9a22c6.txt  \n",
      " extracting: train/labels/Im_0005299_jpg.rf.6bec43c92fb5eb83b86631cd8216b1bd.txt  \n",
      " extracting: train/labels/Im_0005300_1_jpg.rf.f06ecb146069f978f4f1d639308bf2a0.txt  \n",
      " extracting: train/labels/Im_0005330_jpg.rf.deec66e41d5b4bc870b7c32ae3ea02ea.txt  \n",
      " extracting: train/labels/Im_0005339_jpg.rf.101201135650960663d83647d4be5da4.txt  \n",
      " extracting: train/labels/Im_0005348_jpg.rf.a18507f8d253e8213f9dda6a96dfd259.txt  \n",
      " extracting: train/labels/Im_0005365_1_jpg.rf.4e5bf0b75137fdd37d4aa96ff11d4290.txt  \n",
      " extracting: train/labels/Im_0005439_jpg.rf.8c97d21220f8107674bebe9008a58b5a.txt  \n",
      " extracting: train/labels/Im_0005440_jpg.rf.986a3f192dceba261e7b512bee6cfada.txt  \n",
      " extracting: train/labels/Im_0005480_jpg.rf.a4f4cd48e9dea7e2a1fd6e7375b7f3ce.txt  \n",
      " extracting: train/labels/Im_0005509_2_jpg.rf.a805387089ff84d756533b04f556158b.txt  \n",
      " extracting: train/labels/Im_0005533_jpg.rf.216e4bf1d86e213e47f82cd2af5e5856.txt  \n",
      " extracting: train/labels/Im_0005610_1_jpg.rf.f19fde87617e564bd092fecae84fd2e9.txt  \n",
      " extracting: train/labels/Im_0005617_jpg.rf.c28db31ab6b204c4261819e2127d2b41.txt  \n",
      " extracting: train/labels/Im_0005621_jpg.rf.0c2697f8c2581a5e43cdde11a59b8e4e.txt  \n",
      " extracting: train/labels/Im_0005650_jpg.rf.f04115db29917e8722bd7a8bd2fd5214.txt  \n",
      " extracting: train/labels/Im_0005651_jpg.rf.ae2a0d7912b1f760f58ee1c124d81094.txt  \n",
      " extracting: train/labels/Im_0005695_jpg.rf.ab0a1160be08fe919dd855c17a1d8d95.txt  \n",
      " extracting: train/labels/Im_0005721_jpg.rf.508040746c971dcbcb3a24e55422db9f.txt  \n",
      " extracting: train/labels/Im_0005797_jpg.rf.55df3838f3a9e25cc9318d96d7ca4d48.txt  \n",
      " extracting: train/labels/Im_0005798_jpg.rf.cce28f53c66672f6eadf06d0e9e0ad28.txt  \n",
      " extracting: train/labels/Im_0005802_jpg.rf.894f40027e85bef35bddcef42496b0d9.txt  \n",
      " extracting: train/labels/Im_0005808_jpg.rf.0a8a84cccd3c039ac5517e842e54cebc.txt  \n",
      " extracting: train/labels/Im_0005816_1_jpg.rf.3b4bf15007a0d5d4517daabaf62d342a.txt  \n",
      " extracting: train/labels/Im_0005833_jpg.rf.cc588db9fd07d2f5a7cd41e115c1293b.txt  \n",
      " extracting: train/labels/Im_0005843_jpg.rf.b5c79609971c9d4a18014b48895e3599.txt  \n",
      " extracting: train/labels/Im_0005850_jpg.rf.218874915deffe014086f3f457046a6b.txt  \n",
      " extracting: train/labels/Im_0005852_jpg.rf.79d513808a177944917e58fa3188a232.txt  \n",
      " extracting: train/labels/Im_0005857_jpg.rf.3419f8230d76cd1930cbc1ee052e4a48.txt  \n",
      " extracting: train/labels/Im_0005862_jpg.rf.c9d3b57576ba38571587bccfc6b5d7c4.txt  \n",
      " extracting: train/labels/Im_0005868_jpg.rf.632fdae51ff7cac382236cacb0719e73.txt  \n",
      " extracting: train/labels/Im_0005877_jpg.rf.ad9e54b5690bfbbe9df559aee21231e3.txt  \n",
      " extracting: train/labels/Im_0005879_jpg.rf.270809e3745c00c143f20ec88a1e738a.txt  \n",
      " extracting: train/labels/Im_0005886_1_jpg.rf.887761690e2b6455d6ff0f89bc412d13.txt  \n",
      " extracting: train/labels/Im_0033987_jpg.rf.6561a0fa6f8d5a126732420944ac3018.txt  \n",
      " extracting: train/labels/Im_0034605_jpg.rf.d032a7d5d71cafcf29572de0a0d1c40c.txt  \n",
      " extracting: train/labels/Im_0034733_jpg.rf.6bd07bfe43333f0e60cb1d6c0c428a42.txt  \n",
      " extracting: train/labels/Im_0035491_jpg.rf.f24fa6b0864638995616cfbb9a116b16.txt  \n",
      " extracting: train/labels/Im_0036883_jpg.rf.870a53849b132339e217a330ffa01d05.txt  \n",
      " extracting: train/labels/Im_0037034_jpg.rf.e56d626d1d7fd9259843b27d9b30b398.txt  \n",
      " extracting: train/labels/Im_0037055_jpg.rf.2bff3c90979ce464db1106485207c85b.txt  \n",
      " extracting: train/labels/Im_0037401_jpg.rf.faf27f22eb30d8a0653554ee470e76ff.txt  \n",
      " extracting: train/labels/Im_0039196_jpg.rf.9c66ed6d28251722ce9b8020e1fbe2d8.txt  \n",
      " extracting: train/labels/Im_0040898_jpg.rf.1e66c1ec84d5fd4dc4f7c8043423ccf3.txt  \n",
      " extracting: train/labels/Im_0040944_jpg.rf.90f8ae768777a12eed86b720a8e1e53e.txt  \n",
      " extracting: train/labels/Im_0041565_jpg.rf.a5e6ba5f4ee9bf293638ffc2c6cf1f4a.txt  \n",
      " extracting: train/labels/Im_0043144_jpg.rf.255500696cd563ee00a661e2d305c69d.txt  \n",
      " extracting: train/labels/Im_0043475_jpg.rf.e1c2dd1e1aff83c9a5f8c447f8a2e6fc.txt  \n",
      " extracting: train/labels/Im_0043552_jpg.rf.de75db2165fa424a76d64dc4e350700d.txt  \n",
      " extracting: train/labels/Im_0044567_jpg.rf.9a4a43313284bdd274914c7d1a7d06ad.txt  \n",
      " extracting: train/labels/Im_0044930_jpg.rf.4d0217b6274e3b7630169bb78d85d7b0.txt  \n",
      " extracting: train/labels/Im_0046569_jpg.rf.1b945dac69ff02dd1d7f9662e72be1ac.txt  \n",
      " extracting: train/labels/Im_0046673_jpg.rf.db1527107c06333fd39f1bcfaf743ea5.txt  \n",
      " extracting: train/labels/Im_0047335_jpg.rf.1e8638b1a10f9b41e947650f2f6acf38.txt  \n",
      " extracting: train/labels/Im_0048740_jpg.rf.69410f28c7b57f64be232778046b5834.txt  \n",
      " extracting: train/labels/Im_0048776_jpg.rf.6f31cfe9b3a60f9d3d8b20fb34c2369f.txt  \n",
      " extracting: train/labels/Im_0049145_jpg.rf.67d10fd165e271e49e7c34f283a4f005.txt  \n",
      " extracting: train/labels/Im_0049156_jpg.rf.aa4283504309f6446af927401999777d.txt  \n",
      " extracting: train/labels/Im_0049528_jpg.rf.db298c991c46586086d959f652facd3a.txt  \n",
      " extracting: train/labels/Schastlivy_9may_roe-deer2_jpg.rf.a13ad95621dba375ff8d35fccf383505.txt  \n",
      " extracting: train/labels/_Im_0005473_jpg.rf.dc7f8d53f9d9f91a66175f44b891e178.txt  \n",
      " extracting: train/labels/tr54_RoeDeer_27-04-2008_jpg.rf.c0e6f0b75c9b5cfaf186e28d46693848.txt  \n",
      " extracting: train/labels/tr62_roeDeer_11-10-2008_003_jpg.rf.268bb65cad4211c5483d6914de33a927.txt  \n",
      " extracting: train/labels/tr64a_RoeDeer_06-05-2008_jpg.rf.c479f69cf91fcd5cb2d55211a95f5a49.txt  \n"
     ]
    },
    {
     "name": "stderr",
     "output_type": "stream",
     "text": [
      "replace README.roboflow.txt? [y]es, [n]o, [A]ll, [N]one, [r]ename:  NULL\n",
      "(EOF or read error, treating as \"[N]one\" ...)\n"
     ]
    },
    {
     "ename": "Exception",
     "evalue": "Process exited with code 1",
     "output_type": "error",
     "traceback": [
      "\u001b[0;31m---------------------------------------------------------------------------\u001b[0m",
      "\u001b[0;31mException\u001b[0m                                 Traceback (most recent call last)",
      "\u001b[0;32m<ipython-input-111-59f891e9ce7c>\u001b[0m in \u001b[0;36m<module>\u001b[0;34m\u001b[0m\n\u001b[0;32m----> 1\u001b[0;31m \u001b[0mget_ipython\u001b[0m\u001b[0;34m(\u001b[0m\u001b[0;34m)\u001b[0m\u001b[0;34m.\u001b[0m\u001b[0msystem\u001b[0m\u001b[0;34m(\u001b[0m\u001b[0;34m'unzip \"/home/jupyter/datasphere/project/олени/Косуля_часть2.zip\"'\u001b[0m\u001b[0;34m)\u001b[0m\u001b[0;34m\u001b[0m\u001b[0;34m\u001b[0m\u001b[0m\n\u001b[0m",
      "\u001b[0;32m/kernel/lib/python3.10/site-packages/ml_kernel/kernel.py\u001b[0m in \u001b[0;36m<lambda>\u001b[0;34m(code)\u001b[0m\n\u001b[1;32m    281\u001b[0m \u001b[0;34m\u001b[0m\u001b[0m\n\u001b[1;32m    282\u001b[0m         \u001b[0mself\u001b[0m\u001b[0;34m.\u001b[0m\u001b[0m_script_executor\u001b[0m \u001b[0;34m=\u001b[0m \u001b[0mScriptExecutor\u001b[0m\u001b[0;34m(\u001b[0m\u001b[0mget_output_error_code\u001b[0m\u001b[0;34m)\u001b[0m\u001b[0;34m\u001b[0m\u001b[0;34m\u001b[0m\u001b[0m\n\u001b[0;32m--> 283\u001b[0;31m         \u001b[0mself\u001b[0m\u001b[0;34m.\u001b[0m\u001b[0mshell\u001b[0m\u001b[0;34m.\u001b[0m\u001b[0msystem\u001b[0m \u001b[0;34m=\u001b[0m \u001b[0;32mlambda\u001b[0m \u001b[0mcode\u001b[0m\u001b[0;34m:\u001b[0m \u001b[0mself\u001b[0m\u001b[0;34m.\u001b[0m\u001b[0m_script_executor\u001b[0m\u001b[0;34m.\u001b[0m\u001b[0mexecute\u001b[0m\u001b[0;34m(\u001b[0m\u001b[0;34m\"bash\"\u001b[0m\u001b[0;34m,\u001b[0m \u001b[0mcode\u001b[0m\u001b[0;34m)\u001b[0m\u001b[0;34m\u001b[0m\u001b[0;34m\u001b[0m\u001b[0m\n\u001b[0m\u001b[1;32m    284\u001b[0m \u001b[0;34m\u001b[0m\u001b[0m\n\u001b[1;32m    285\u001b[0m     \u001b[0;32mdef\u001b[0m \u001b[0m_init_message_handlers\u001b[0m\u001b[0;34m(\u001b[0m\u001b[0mself\u001b[0m\u001b[0;34m)\u001b[0m\u001b[0;34m:\u001b[0m\u001b[0;34m\u001b[0m\u001b[0;34m\u001b[0m\u001b[0m\n",
      "\u001b[0;32m/kernel/lib/python3.10/site-packages/ml_kernel/script_executor.py\u001b[0m in \u001b[0;36mexecute\u001b[0;34m(self, lang, code)\u001b[0m\n\u001b[1;32m     41\u001b[0m         \u001b[0mreturn_code\u001b[0m \u001b[0;34m=\u001b[0m \u001b[0mself\u001b[0m\u001b[0;34m.\u001b[0m\u001b[0mdo_execute\u001b[0m\u001b[0;34m(\u001b[0m\u001b[0mcode\u001b[0m\u001b[0;34m)\u001b[0m\u001b[0;34m\u001b[0m\u001b[0;34m\u001b[0m\u001b[0m\n\u001b[1;32m     42\u001b[0m         \u001b[0;32mif\u001b[0m \u001b[0mreturn_code\u001b[0m \u001b[0;34m!=\u001b[0m \u001b[0;36m0\u001b[0m\u001b[0;34m:\u001b[0m\u001b[0;34m\u001b[0m\u001b[0;34m\u001b[0m\u001b[0m\n\u001b[0;32m---> 43\u001b[0;31m             \u001b[0;32mraise\u001b[0m \u001b[0mException\u001b[0m\u001b[0;34m(\u001b[0m\u001b[0;34m'Process exited with code %d'\u001b[0m \u001b[0;34m%\u001b[0m \u001b[0mreturn_code\u001b[0m\u001b[0;34m)\u001b[0m\u001b[0;34m\u001b[0m\u001b[0;34m\u001b[0m\u001b[0m\n\u001b[0m",
      "\u001b[0;31mException\u001b[0m: Process exited with code 1"
     ]
    }
   ],
   "source": [
    "!unzip \"/home/jupyter/datasphere/project/олени/Косуля_часть2.zip\""
   ]
  },
  {
   "cell_type": "code",
   "execution_count": 112,
   "id": "690606f5-d70e-4b32-8382-0ef01bc7d866",
   "metadata": {
    "execution": {
     "iopub.execute_input": "2024-05-18T07:55:33.448316Z",
     "iopub.status.busy": "2024-05-18T07:55:33.447406Z",
     "iopub.status.idle": "2024-05-18T07:55:33.476407Z",
     "shell.execute_reply": "2024-05-18T07:55:33.475227Z",
     "shell.execute_reply.started": "2024-05-18T07:55:33.448266Z"
    },
    "tags": []
   },
   "outputs": [],
   "source": [
    "images = glob.glob('/home/jupyter/datasphere/project/train/images/*')\n",
    "labels = glob.glob('/home/jupyter/datasphere/project/train/labels/*')"
   ]
  },
  {
   "cell_type": "code",
   "execution_count": 114,
   "id": "362c7e73-f678-46ff-8835-28ac193e87c2",
   "metadata": {
    "execution": {
     "iopub.execute_input": "2024-05-18T07:56:24.067762Z",
     "iopub.status.busy": "2024-05-18T07:56:24.066577Z",
     "iopub.status.idle": "2024-05-18T07:56:24.121896Z",
     "shell.execute_reply": "2024-05-18T07:56:24.120814Z",
     "shell.execute_reply.started": "2024-05-18T07:56:24.067712Z"
    },
    "tags": []
   },
   "outputs": [],
   "source": [
    "for i in range(len(images)):\n",
    "    os.rename(images[i], '/home/jupyter/datasphere/project/ndata/images/' + images[i].split('/')[-1])"
   ]
  },
  {
   "cell_type": "code",
   "execution_count": 115,
   "id": "527737b4-bc5f-4c70-957e-00cfcd45bb95",
   "metadata": {
    "execution": {
     "iopub.execute_input": "2024-05-18T07:56:35.440672Z",
     "iopub.status.busy": "2024-05-18T07:56:35.439775Z",
     "iopub.status.idle": "2024-05-18T07:56:35.497950Z",
     "shell.execute_reply": "2024-05-18T07:56:35.496975Z",
     "shell.execute_reply.started": "2024-05-18T07:56:35.440630Z"
    },
    "tags": []
   },
   "outputs": [],
   "source": [
    "for i in range(len(labels)):\n",
    "    os.rename(labels[i], '/home/jupyter/datasphere/project/ndata/labels/' + labels[i].split('/')[-1])"
   ]
  },
  {
   "cell_type": "code",
   "execution_count": 116,
   "id": "c7a3ebab-7ae4-426a-8ff6-a9876e32ccb3",
   "metadata": {
    "execution": {
     "iopub.execute_input": "2024-05-18T07:56:53.760085Z",
     "iopub.status.busy": "2024-05-18T07:56:53.759263Z",
     "iopub.status.idle": "2024-05-18T07:56:53.810586Z",
     "shell.execute_reply": "2024-05-18T07:56:53.809410Z",
     "shell.execute_reply.started": "2024-05-18T07:56:53.760048Z"
    },
    "tags": []
   },
   "outputs": [],
   "source": [
    "images = glob.glob('/home/jupyter/datasphere/project/ndata/images/*')\n",
    "labels = glob.glob('/home/jupyter/datasphere/project/ndata/labels/*')"
   ]
  },
  {
   "cell_type": "code",
   "execution_count": 118,
   "id": "e6c641c3-67b1-4518-8063-cc019a7bf395",
   "metadata": {
    "execution": {
     "iopub.execute_input": "2024-05-18T07:58:10.386055Z",
     "iopub.status.busy": "2024-05-18T07:58:10.384947Z",
     "iopub.status.idle": "2024-05-18T07:58:12.148816Z",
     "shell.execute_reply": "2024-05-18T07:58:12.147794Z",
     "shell.execute_reply.started": "2024-05-18T07:58:10.385984Z"
    },
    "tags": []
   },
   "outputs": [],
   "source": [
    "for i in range(len(images)):\n",
    "    os.rename(images[i], images[i].rstrip(images[i].split('/')[-1])+'kosul_'+images[i].split('/')[-1]) # добавляем префикс для класса 1\n",
    "for i in range(len(labels)):\n",
    "    os.rename(labels[i], labels[i].rstrip(labels[i].split('/')[-1])+'kosul_'+labels[i].split('/')[-1]) # добавляем префикс для класса 1"
   ]
  },
  {
   "cell_type": "code",
   "execution_count": 119,
   "id": "0c566b35-998a-447d-a606-dbf5ad555a73",
   "metadata": {
    "execution": {
     "iopub.execute_input": "2024-05-18T07:58:47.907652Z",
     "iopub.status.busy": "2024-05-18T07:58:47.906623Z",
     "iopub.status.idle": "2024-05-18T07:58:47.959373Z",
     "shell.execute_reply": "2024-05-18T07:58:47.958290Z",
     "shell.execute_reply.started": "2024-05-18T07:58:47.907591Z"
    },
    "tags": []
   },
   "outputs": [],
   "source": [
    "images = glob.glob('/home/jupyter/datasphere/project/ndata/images/*')\n",
    "labels = glob.glob('/home/jupyter/datasphere/project/ndata/labels/*')"
   ]
  },
  {
   "cell_type": "code",
   "execution_count": 121,
   "id": "1ca4eded-ed24-49f4-94db-406fa1818a6d",
   "metadata": {
    "execution": {
     "iopub.execute_input": "2024-05-18T07:59:10.594186Z",
     "iopub.status.busy": "2024-05-18T07:59:10.593474Z",
     "iopub.status.idle": "2024-05-18T07:59:11.625171Z",
     "shell.execute_reply": "2024-05-18T07:59:11.623930Z",
     "shell.execute_reply.started": "2024-05-18T07:59:10.594152Z"
    },
    "tags": []
   },
   "outputs": [],
   "source": [
    "for i in range(len(images)):\n",
    "    os.rename(images[i], '/home/jupyter/datasphere/project/data/images/' + images[i].split('/')[-1])"
   ]
  },
  {
   "cell_type": "code",
   "execution_count": 122,
   "id": "77ea9c32-0484-4604-9ef1-939a48c5e04a",
   "metadata": {
    "execution": {
     "iopub.execute_input": "2024-05-18T07:59:19.682990Z",
     "iopub.status.busy": "2024-05-18T07:59:19.682079Z",
     "iopub.status.idle": "2024-05-18T07:59:20.545143Z",
     "shell.execute_reply": "2024-05-18T07:59:20.544009Z",
     "shell.execute_reply.started": "2024-05-18T07:59:19.682941Z"
    },
    "tags": []
   },
   "outputs": [],
   "source": [
    "for i in range(len(labels)):\n",
    "    os.rename(labels[i], '/home/jupyter/datasphere/project/data/labels/' + labels[i].split('/')[-1])"
   ]
  },
  {
   "cell_type": "markdown",
   "id": "d37344f3-7fbb-4c1c-b756-51022b24e6a0",
   "metadata": {},
   "source": [
    "Также добавляем в датасет файл Косуля_часть3.zip"
   ]
  },
  {
   "cell_type": "markdown",
   "id": "4c350a6c-d0d9-4306-83a4-45145b1a8404",
   "metadata": {
    "jp-MarkdownHeadingCollapsed": true,
    "tags": []
   },
   "source": [
    "## Олень"
   ]
  },
  {
   "cell_type": "markdown",
   "id": "4a5565fe-2a23-42cf-b527-3c7b9005eb37",
   "metadata": {},
   "source": [
    "Создаем папки ddata/images, ddata/labels"
   ]
  },
  {
   "cell_type": "code",
   "execution_count": null,
   "id": "94ca54d3-c8b4-4c66-b7eb-e2d7df600cba",
   "metadata": {},
   "outputs": [],
   "source": [
    "!unzip \"/home/jupyter/datasphere/project/олени/Олень.zip\" -d \"/home/jupyter/datasphere/project/ddata/images\""
   ]
  },
  {
   "cell_type": "code",
   "execution_count": null,
   "id": "339d1a68-23a5-48e8-8adc-d7233120cc91",
   "metadata": {},
   "outputs": [],
   "source": [
    "kab_paths = glob.glob('ddata/images/Олень/*')"
   ]
  },
  {
   "cell_type": "code",
   "execution_count": null,
   "id": "ba1db7bf-bbc4-4dd1-a505-05dbd48e57b7",
   "metadata": {},
   "outputs": [],
   "source": [
    "for i in kab_paths:\n",
    "    os.rename(i, '/home/jupyter/datasphere/project/ddata/images/' + i.split('/')[-1])"
   ]
  },
  {
   "cell_type": "markdown",
   "id": "3e150345-a804-459a-b16e-3c6d901aaed3",
   "metadata": {},
   "source": [
    "Удаляем папку \"Олень\""
   ]
  },
  {
   "cell_type": "code",
   "execution_count": null,
   "id": "f7237173-754e-40b8-9fbd-e3a7dc1ff0cc",
   "metadata": {},
   "outputs": [],
   "source": [
    "images = glob.glob('ddata/images/*')\n",
    "dest_path = 'ddata/labels'"
   ]
  },
  {
   "cell_type": "code",
   "execution_count": null,
   "id": "85f737ae-64bc-4a9f-9d3c-bab28343b0c3",
   "metadata": {},
   "outputs": [],
   "source": [
    "images_paths = images[:]"
   ]
  },
  {
   "cell_type": "code",
   "execution_count": null,
   "id": "3d9100d9-c222-4037-a6f5-66ea6c550530",
   "metadata": {},
   "outputs": [],
   "source": [
    "srange_images = []\n",
    "for path in tqdm(images_paths):\n",
    "    if path.endswith('.csv'):\n",
    "        continue\n",
    "    if path.endswith('ОлениPTDC0046.JPG'):\n",
    "        os.remove(path)\n",
    "        continue\n",
    "    result = model.predict(path, confidence=30, overlap=50).json()\n",
    "    name = path.split('/')[-1].split('.')[0]\n",
    "    if len(result['predictions']) > 0:\n",
    "        fp = open(f'{dest_path}/{name}.txt', 'w')\n",
    "        preds = []\n",
    "        for pred in result['predictions']:\n",
    "            preds.append(f\"2 {result['predictions'][0]['x']/float(result['image']['width'])} {result['predictions'][0]['y']/float(result['image']['height'])} {result['predictions'][0]['width']/float(result['image']['width'])} {result['predictions'][0]['height']/float(result['image']['height'])}\\n\")\n",
    "        fp.writelines(preds)\n",
    "        fp.close()\n",
    "    else:\n",
    "        srange_images.append(path)"
   ]
  },
  {
   "cell_type": "code",
   "execution_count": null,
   "id": "c0e717ba-76fc-4bb2-805a-40eb15e6b0a5",
   "metadata": {},
   "outputs": [],
   "source": [
    "for i in srange_images:\n",
    "    os.remove(i)\n",
    "os.remove('/home/jupyter/datasphere/project/ddata/images/Благородныйолень.csv')"
   ]
  },
  {
   "cell_type": "markdown",
   "id": "d4267959-c8cc-41a7-ab89-3c52acd54ba6",
   "metadata": {},
   "source": [
    "Вручную размечаем оставшиеся из srange_images (Олень_часть2.zip), удаляем папку train"
   ]
  },
  {
   "cell_type": "code",
   "execution_count": null,
   "id": "05f0aed9-8755-407c-9df8-b608b7c52f02",
   "metadata": {},
   "outputs": [],
   "source": [
    "!unzip \"/home/jupyter/datasphere/project/олени/Олень_часть2.zip\""
   ]
  },
  {
   "cell_type": "code",
   "execution_count": null,
   "id": "02444e81-5074-4599-99fd-cfe37b004816",
   "metadata": {},
   "outputs": [],
   "source": [
    "images = glob.glob('/home/jupyter/datasphere/project/train/images/*')\n",
    "labels = glob.glob('/home/jupyter/datasphere/project/train/labels/*')"
   ]
  },
  {
   "cell_type": "code",
   "execution_count": null,
   "id": "34dd28a8-59ca-42e1-84d6-bf776932a480",
   "metadata": {},
   "outputs": [],
   "source": [
    "for i in range(len(images)):\n",
    "    os.rename(images[i], '/home/jupyter/datasphere/project/ddata/images/' + images[i].split('/')[-1])"
   ]
  },
  {
   "cell_type": "code",
   "execution_count": null,
   "id": "b0652938-647f-4b8d-86c1-923a33408f88",
   "metadata": {},
   "outputs": [],
   "source": [
    "for i in range(len(labels)):\n",
    "    os.rename(labels[i], '/home/jupyter/datasphere/project/ddata/labels/' + labels[i].split('/')[-1])"
   ]
  },
  {
   "cell_type": "code",
   "execution_count": null,
   "id": "92f3c1c3-4314-4152-a2e8-e6f9e02f6e6c",
   "metadata": {},
   "outputs": [],
   "source": [
    "images = glob.glob('/home/jupyter/datasphere/project/ddata/images/*')\n",
    "labels = glob.glob('/home/jupyter/datasphere/project/ddata/labels/*')"
   ]
  },
  {
   "cell_type": "code",
   "execution_count": null,
   "id": "d63af665-1018-4e22-ae39-02510b157fbc",
   "metadata": {},
   "outputs": [],
   "source": [
    "for i in range(len(images)):\n",
    "    os.rename(images[i], images[i].rstrip(images[i].split('/')[-1])+'olen_'+images[i].split('/')[-1]) # добавляем префикс для класса 2"
   ]
  },
  {
   "cell_type": "code",
   "execution_count": null,
   "id": "6c1791ea-44a6-4e75-97c3-a6cbf86a8eb0",
   "metadata": {},
   "outputs": [],
   "source": [
    "for i in range(len(labels)):\n",
    "    os.rename(labels[i], labels[i].rstrip(labels[i].split('/')[-1])+'olen_'+labels[i].split('/')[-1]) # добавляем префикс для класса 2"
   ]
  },
  {
   "cell_type": "code",
   "execution_count": null,
   "id": "314f03c3-8348-4229-b95f-35a791e6c423",
   "metadata": {},
   "outputs": [],
   "source": [
    "images = glob.glob('/home/jupyter/datasphere/project/ddata/images/*')\n",
    "labels = glob.glob('/home/jupyter/datasphere/project/ddata/labels/*')"
   ]
  },
  {
   "cell_type": "code",
   "execution_count": null,
   "id": "53b4f720-41b2-413a-9539-5f9599300356",
   "metadata": {},
   "outputs": [],
   "source": [
    "for i in range(len(images)):\n",
    "    os.rename(images[i], '/home/jupyter/datasphere/project/data/images/' + images[i].split('/')[-1])"
   ]
  },
  {
   "cell_type": "code",
   "execution_count": null,
   "id": "e5a7792e-475c-4a4c-8b19-59b131a2f3ad",
   "metadata": {},
   "outputs": [],
   "source": [
    "for i in range(len(labels)):\n",
    "    os.rename(labels[i], '/home/jupyter/datasphere/project/data/labels/' + labels[i].split('/')[-1])"
   ]
  },
  {
   "cell_type": "markdown",
   "id": "82b1c9c5-3b3c-4e78-96b5-fed4cc1e2ce7",
   "metadata": {},
   "source": [
    "Также добавляем в датасет файл Олень_часть3.zip"
   ]
  },
  {
   "cell_type": "markdown",
   "id": "a2903f79-c755-4b74-8907-bcf38f63048b",
   "metadata": {
    "execution": {
     "iopub.execute_input": "2024-05-18T08:00:38.178456Z",
     "iopub.status.busy": "2024-05-18T08:00:38.177509Z",
     "iopub.status.idle": "2024-05-18T08:00:38.194569Z",
     "shell.execute_reply": "2024-05-18T08:00:38.193472Z",
     "shell.execute_reply.started": "2024-05-18T08:00:38.178344Z"
    },
    "tags": []
   },
   "source": [
    "## Train/valid"
   ]
  },
  {
   "cell_type": "code",
   "execution_count": 142,
   "id": "03a86c0e-70f9-4097-a26c-1a992c30faee",
   "metadata": {
    "execution": {
     "iopub.execute_input": "2024-05-18T08:14:42.441405Z",
     "iopub.status.busy": "2024-05-18T08:14:42.440459Z",
     "iopub.status.idle": "2024-05-18T08:14:42.535263Z",
     "shell.execute_reply": "2024-05-18T08:14:42.534072Z",
     "shell.execute_reply.started": "2024-05-18T08:14:42.441349Z"
    },
    "tags": []
   },
   "outputs": [],
   "source": [
    "images = glob.glob('/home/jupyter/datasphere/project/data/images/*')\n",
    "labels = glob.glob('/home/jupyter/datasphere/project/data/labels/*')"
   ]
  },
  {
   "cell_type": "code",
   "execution_count": 143,
   "id": "5c640311-4c56-4935-aa68-a0cd01979162",
   "metadata": {
    "execution": {
     "iopub.execute_input": "2024-05-18T08:14:42.962349Z",
     "iopub.status.busy": "2024-05-18T08:14:42.961125Z",
     "iopub.status.idle": "2024-05-18T08:14:42.976205Z",
     "shell.execute_reply": "2024-05-18T08:14:42.975087Z",
     "shell.execute_reply.started": "2024-05-18T08:14:42.962300Z"
    },
    "tags": []
   },
   "outputs": [
    {
     "data": {
      "text/plain": [
       "(7134, 7132)"
      ]
     },
     "execution_count": 143,
     "metadata": {},
     "output_type": "execute_result"
    }
   ],
   "source": [
    "len(images), len(labels)"
   ]
  },
  {
   "cell_type": "code",
   "execution_count": 139,
   "id": "c77dff9d-b858-408b-9474-3fb30bfdf3c4",
   "metadata": {
    "execution": {
     "iopub.execute_input": "2024-05-18T08:13:58.665112Z",
     "iopub.status.busy": "2024-05-18T08:13:58.664258Z",
     "iopub.status.idle": "2024-05-18T08:13:58.698251Z",
     "shell.execute_reply": "2024-05-18T08:13:58.697111Z",
     "shell.execute_reply.started": "2024-05-18T08:13:58.665080Z"
    },
    "tags": []
   },
   "outputs": [],
   "source": [
    "images_set = set(['.'.join(i.split('/')[-1].split('.')[:-1]) for i in images])\n",
    "labels_set = set(['.'.join(i.split('/')[-1].split('.')[:-1]) for i in labels])"
   ]
  },
  {
   "cell_type": "code",
   "execution_count": 140,
   "id": "93a5819a-ac47-42ad-9973-5268e5056ecd",
   "metadata": {
    "execution": {
     "iopub.execute_input": "2024-05-18T08:14:06.814514Z",
     "iopub.status.busy": "2024-05-18T08:14:06.813567Z",
     "iopub.status.idle": "2024-05-18T08:14:06.843896Z",
     "shell.execute_reply": "2024-05-18T08:14:06.842904Z",
     "shell.execute_reply.started": "2024-05-18T08:14:06.814467Z"
    },
    "tags": []
   },
   "outputs": [
    {
     "data": {
      "text/plain": [
       "{'cabarga_1920x1280_1541485_[www',\n",
       " 'cabarga_1920x1280_1541636_[www',\n",
       " 'cabarga_1920x1315_1543436_[www',\n",
       " 'cabarga_2000x1333_1542021_[www',\n",
       " 'cabarga_2133x1200_1542933_[www',\n",
       " 'cabarga_Akron Zoo 2018',\n",
       " 'cabarga_Feb',\n",
       " 'cabarga_o',\n",
       " 'cabarga_ris',\n",
       " 'cabarga_tr2_musk deer_14',\n",
       " 'cabarga_tr30a_muskDeer_31',\n",
       " 'cabarga_tr47_muskDeer_02',\n",
       " 'cabarga_tr47_muskDeer_12',\n",
       " 'cabarga_tr47_muskDeer_18',\n",
       " 'cabarga_tr49a_muskDeer_06',\n",
       " 'cabarga_tr50_MuskDeer_24',\n",
       " 'cabarga_tr50_MuskDeer_27',\n",
       " 'cabarga_tr55_MusckDeer_22',\n",
       " 'cabarga_tr56_muskDeer_26',\n",
       " 'cabarga_tr58_musckDeer_06',\n",
       " 'cabarga_tr62_MuskDeer_23',\n",
       " 'cabarga_tr62_RoeDeer_25',\n",
       " 'cabarga_tr63_muskDeer_28',\n",
       " 'cabarga_tr64a_MuskDeer_20',\n",
       " 'kosul_roeDeer_48_07',\n",
       " 'kosul_roeDeer_58_26',\n",
       " 'kosul_tr18a_roe deer_25',\n",
       " 'kosul_tr18a_roe deer_3',\n",
       " 'kosul_tr23_roeDeer_05',\n",
       " 'kosul_tr36_roeDeer_02',\n",
       " 'kosul_tr36_roeDeer_20',\n",
       " 'kosul_tr48a_RoeDeer_04',\n",
       " 'kosul_tr48a_roeDeer_23',\n",
       " 'kosul_tr49a_roeDeer_17',\n",
       " 'kosul_tr50_roeDeer_28',\n",
       " 'kosul_tr51_roeDeer_01',\n",
       " 'kosul_tr51_roeDeer_18',\n",
       " 'kosul_tr51_roeDeer_26',\n",
       " 'kosul_tr51a_roeDeer_11',\n",
       " 'kosul_tr53_RoeDeer_05',\n",
       " 'kosul_tr55_RoeDeer_10',\n",
       " 'kosul_tr58_RoeDeer_17',\n",
       " 'kosul_tr58a_RoeDeer_17',\n",
       " 'kosul_tr58a_RoeDeer_27',\n",
       " 'kosul_tr58a_RoeDeer_29',\n",
       " 'kosul_tr61_RoeDeer_16',\n",
       " 'kosul_tr62_RoeDeer_25',\n",
       " 'kosul_tr62_roeDeer_11',\n",
       " 'kosul_tr64a_RoeDeer_04',\n",
       " 'kosul_tr65_RoeDeer_20',\n",
       " 'kosul_tr65a_RoeDeer_17',\n",
       " 'kosul_tr65a_RoeDeer_20',\n",
       " 'kosul_tr66_RoeDeer_15',\n",
       " 'kosul_tr66_roeDeer_14',\n",
       " 'kosul_tr66a_RoeDeer_15',\n",
       " 'kosul_tr67a_RoeDeer_15',\n",
       " 'olen_tr66_redDeer_07',\n",
       " 'olen_tr66a_RedDeer_16',\n",
       " 'olen_tr66a_RedDeer_22',\n",
       " 'olen_tr67_RedDeer_22',\n",
       " 'olen_tr67a_RedDeer_21',\n",
       " 'olen_tr68_redDeer_22',\n",
       " 'olen_tr68_redDeer_30',\n",
       " 'olen_tr9_red deer_27'}"
      ]
     },
     "execution_count": 140,
     "metadata": {},
     "output_type": "execute_result"
    }
   ],
   "source": [
    "labels_set.difference(images_set)"
   ]
  },
  {
   "cell_type": "code",
   "execution_count": 141,
   "id": "80d5c141-b73c-4114-8d3a-6b33ca942e4d",
   "metadata": {
    "execution": {
     "iopub.execute_input": "2024-05-18T08:14:39.334741Z",
     "iopub.status.busy": "2024-05-18T08:14:39.333728Z",
     "iopub.status.idle": "2024-05-18T08:14:39.378093Z",
     "shell.execute_reply": "2024-05-18T08:14:39.377106Z",
     "shell.execute_reply.started": "2024-05-18T08:14:39.334649Z"
    },
    "tags": []
   },
   "outputs": [],
   "source": [
    "for i in list(labels_set.difference(images_set)):\n",
    "    os.remove(f'/home/jupyter/datasphere/project/data/labels/{i}.txt')\n"
   ]
  },
  {
   "cell_type": "code",
   "execution_count": 10,
   "id": "b55c079f-1cbb-4a85-9c15-69ba3ecf5ac9",
   "metadata": {
    "execution": {
     "iopub.execute_input": "2024-05-18T16:38:40.170888Z",
     "iopub.status.busy": "2024-05-18T16:38:40.169907Z",
     "iopub.status.idle": "2024-05-18T16:38:40.253874Z",
     "shell.execute_reply": "2024-05-18T16:38:40.252815Z",
     "shell.execute_reply.started": "2024-05-18T16:38:40.170820Z"
    },
    "tags": []
   },
   "outputs": [],
   "source": [
    "import os\n",
    "import random\n",
    "import shutil\n",
    "from glob import glob\n",
    "\n",
    "images = glob(\"/home/jupyter/datasphere/project/data/images/*\")\n",
    "\n",
    "d = {\"olen\" :[], \"kosul\" : [], \"cabarga\" :[]}\n",
    "\n",
    "for i in images:\n",
    "    for j in d.keys():\n",
    "        if i.split(\"/\")[-1].startswith(j):\n",
    "            d[j].append(i)\n",
    "            break\n",
    "            \n",
    "        "
   ]
  },
  {
   "cell_type": "code",
   "execution_count": 9,
   "id": "2757297c-6efd-441d-9582-4aea7b6169e7",
   "metadata": {
    "execution": {
     "iopub.execute_input": "2024-05-19T00:10:52.486825Z",
     "iopub.status.busy": "2024-05-19T00:10:52.485827Z",
     "iopub.status.idle": "2024-05-19T00:10:52.511071Z",
     "shell.execute_reply": "2024-05-19T00:10:52.510043Z",
     "shell.execute_reply.started": "2024-05-19T00:10:52.486775Z"
    },
    "tags": []
   },
   "outputs": [
    {
     "data": {
      "text/plain": [
       "(2368, 2778, 1429)"
      ]
     },
     "execution_count": 9,
     "metadata": {},
     "output_type": "execute_result"
    }
   ],
   "source": [
    "len(d[\"kosul\"]),len(d[\"olen\"]),len(d[\"cabarga\"])"
   ]
  },
  {
   "cell_type": "code",
   "execution_count": 4,
   "id": "fe241d59-c94c-4ced-b9ec-47ad6126e5da",
   "metadata": {
    "tags": []
   },
   "outputs": [],
   "source": [
    "for key in d.keys():\n",
    "    \n",
    "    val_size = int(len(d[key]) * 0.2)\n",
    "    \n",
    "    val_filenames = set(random.sample(d[key], val_size))\n",
    "    train_filenames = set(d[key]) - val_filenames\n",
    "    \n",
    "    for i in val_filenames:\n",
    "        try:\n",
    "            shutil.copy(i.rstrip(i.split('.')[-1]).replace(\"images\", \"labels\",1)+'txt', \"/home/jupyter/datasphere/project/data_yolo2/labels/val/\" + i.split('/')[-1].rstrip(i.split('.')[-1])+'txt')\n",
    "            shutil.copy(i, \"/home/jupyter/datasphere/project/data_yolo2/images/val/\" + i.split('/')[-1])\n",
    "        except Exception:\n",
    "            continue\n",
    "    \n",
    "    for i in train_filenames:\n",
    "        try:\n",
    "            shutil.copy(i.rstrip(i.split('.')[-1]).replace(\"images\", \"labels\",1)+'txt', \"/home/jupyter/datasphere/project/data_yolo2/labels/train/\" + i.split('/')[-1].rstrip(i.split('.')[-1])+'txt')\n",
    "            shutil.copy(i, \"/home/jupyter/datasphere/project/data_yolo2/images/train/\" + i.split('/')[-1])\n",
    "        except Exception:\n",
    "            continue"
   ]
  },
  {
   "cell_type": "code",
   "execution_count": null,
   "id": "79a8555b-3152-434e-823e-e1b772231502",
   "metadata": {},
   "outputs": [],
   "source": []
  }
 ],
 "metadata": {
  "kernelspec": {
   "display_name": "DataSphere Kernel",
   "language": "python",
   "name": "python3"
  },
  "language_info": {
   "codemirror_mode": {
    "name": "ipython",
    "version": 3
   },
   "file_extension": ".py",
   "mimetype": "text/x-python",
   "name": "python",
   "nbconvert_exporter": "python",
   "pygments_lexer": "ipython3",
   "version": "3.10.12"
  }
 },
 "nbformat": 4,
 "nbformat_minor": 5
}
