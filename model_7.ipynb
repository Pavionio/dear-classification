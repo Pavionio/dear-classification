{
 "cells": [
  {
   "cell_type": "code",
   "execution_count": null,
   "id": "b37edb55-f1fb-4b95-9446-a842da3b8780",
   "metadata": {
    "execution": {
     "iopub.execute_input": "2024-05-18T23:41:21.758811Z",
     "iopub.status.busy": "2024-05-18T23:41:21.757974Z",
     "iopub.status.idle": "2024-05-19T04:11:52.140968Z",
     "shell.execute_reply": "2024-05-19T04:11:52.139320Z",
     "shell.execute_reply.started": "2024-05-18T23:41:21.758707Z"
    },
    "tags": []
   },
   "outputs": [],
   "source": [
    "from ultralytics import YOLO\n",
    "\n",
    "# Load a model\n",
    "model = YOLO('/home/jupyter/datasphere/project/yolov8x.pt')  # load a pretrained model (recommended for training)\n",
    "results = model.train(data='/home/jupyter/datasphere/project/data.yaml', epochs=100, imgsz=640, device=0,batch=32, cls=1.5)"
   ]
  }
 ],
 "metadata": {
  "kernelspec": {
   "display_name": "DataSphere Kernel",
   "language": "python",
   "name": "python3"
  },
  "language_info": {
   "codemirror_mode": {
    "name": "ipython",
    "version": 3
   },
   "file_extension": ".py",
   "mimetype": "text/x-python",
   "name": "python",
   "nbconvert_exporter": "python",
   "pygments_lexer": "ipython3",
   "version": "3.10.12"
  }
 },
 "nbformat": 4,
 "nbformat_minor": 5
}
